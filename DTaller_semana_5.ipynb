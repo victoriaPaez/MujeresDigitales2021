{
  "nbformat": 4,
  "nbformat_minor": 0,
  "metadata": {
    "colab": {
      "name": "DTaller_semana_5.ipynb",
      "provenance": [],
      "collapsed_sections": [],
      "include_colab_link": true
    },
    "kernelspec": {
      "name": "python3",
      "display_name": "Python 3"
    },
    "language_info": {
      "name": "python"
    }
  },
  "cells": [
    {
      "cell_type": "markdown",
      "metadata": {
        "id": "view-in-github",
        "colab_type": "text"
      },
      "source": [
        "<a href=\"https://colab.research.google.com/github/victoriaPaez/MujeresDigitales2021/blob/main/DTaller_semana_5.ipynb\" target=\"_parent\"><img src=\"https://colab.research.google.com/assets/colab-badge.svg\" alt=\"Open In Colab\"/></a>"
      ]
    },
    {
      "cell_type": "markdown",
      "metadata": {
        "id": "4T46YrU2SRFv"
      },
      "source": [
        "# Desarrollo del taller semana 5\n",
        "# Nombre: Andrea Victoria Pàez Vargas\n",
        "# G1"
      ]
    },
    {
      "cell_type": "markdown",
      "metadata": {
        "id": "POi23B_G6wnG"
      },
      "source": [
        "Un fanático de pokemones le pide analizar los datos de pokemones, para esto se le proporciona un conjunto de datos en archivo csv. Este fanático le pide a usted como analista investigar cuales son los pokemones con mayor ataque."
      ]
    },
    {
      "cell_type": "code",
      "metadata": {
        "id": "k7kCoay597D2"
      },
      "source": [
        "import pandas as pd\n",
        "import matplotlib.pyplot as plt\n",
        "import numpy as np\n",
        "import seaborn as sns\n",
        "%matplotlib inline\n",
        "from scipy import stats"
      ],
      "execution_count": 1,
      "outputs": []
    },
    {
      "cell_type": "code",
      "metadata": {
        "id": "wx9ixLT6EmQv"
      },
      "source": [
        "df = pd.read_csv('pokemon_data.csv')"
      ],
      "execution_count": 2,
      "outputs": []
    },
    {
      "cell_type": "markdown",
      "metadata": {
        "id": "WWVZnKFY9xsD"
      },
      "source": [
        "## Ejercicio 1:\n",
        "\n",
        "Calcule el promedio y la mediana del ataque de: \n",
        "1. Todos los pokemones\n",
        "2. Los pokemones agrupados por Legendary (es decir el promedio y mediana de pokemones legendarios y no legendarios)\n",
        "3. Los pokemones agrupados por Type 1"
      ]
    },
    {
      "cell_type": "markdown",
      "metadata": {
        "id": "ass2uzvHfy6f"
      },
      "source": [
        "# EJERCICIO 1 - PUNTO 1"
      ]
    },
    {
      "cell_type": "code",
      "metadata": {
        "colab": {
          "base_uri": "https://localhost:8080/"
        },
        "id": "X6dFUuOHSuGA",
        "outputId": "805485a6-d73c-4ccf-abb6-12f0f3cff15e"
      },
      "source": [
        "import scipy \n",
        "scipy.stats.describe(df['Attack'])"
      ],
      "execution_count": 3,
      "outputs": [
        {
          "output_type": "execute_result",
          "data": {
            "text/plain": [
              "DescribeResult(nobs=800, minmax=(5, 190), mean=79.00125, variance=1053.4805991864832, skewness=0.5505789330923022, kurtosis=0.16116779962933592)"
            ]
          },
          "metadata": {},
          "execution_count": 3
        }
      ]
    },
    {
      "cell_type": "code",
      "metadata": {
        "colab": {
          "base_uri": "https://localhost:8080/"
        },
        "id": "wY4zZTQDsJrj",
        "outputId": "35bf115e-b895-4885-e03a-b465cbf67a48"
      },
      "source": [
        "df['Attack'].describe()"
      ],
      "execution_count": 4,
      "outputs": [
        {
          "output_type": "execute_result",
          "data": {
            "text/plain": [
              "count    800.000000\n",
              "mean      79.001250\n",
              "std       32.457366\n",
              "min        5.000000\n",
              "25%       55.000000\n",
              "50%       75.000000\n",
              "75%      100.000000\n",
              "max      190.000000\n",
              "Name: Attack, dtype: float64"
            ]
          },
          "metadata": {},
          "execution_count": 4
        }
      ]
    },
    {
      "cell_type": "markdown",
      "metadata": {
        "id": "Wno9qtJL48zO"
      },
      "source": [
        "#Calcule el promedio del ataque de:  1. Todos los pokemones"
      ]
    },
    {
      "cell_type": "code",
      "metadata": {
        "colab": {
          "base_uri": "https://localhost:8080/"
        },
        "id": "YViiz66BS59p",
        "outputId": "049ba6cd-a112-4516-ece7-4806dc68f4cf"
      },
      "source": [
        "dfatp=df['Attack'].mean()\n",
        "dfatp"
      ],
      "execution_count": 5,
      "outputs": [
        {
          "output_type": "execute_result",
          "data": {
            "text/plain": [
              "79.00125"
            ]
          },
          "metadata": {},
          "execution_count": 5
        }
      ]
    },
    {
      "cell_type": "code",
      "metadata": {
        "colab": {
          "base_uri": "https://localhost:8080/",
          "height": 504
        },
        "id": "BnYf6kOAwCsj",
        "outputId": "31fa2ef7-a2e9-4588-9618-7f8295042371"
      },
      "source": [
        "sns.set(rc={'figure.figsize':(13,7)})\n",
        "vdata = df['Attack'].values\n",
        "sns.distplot(vdata, color='#15B7B5')\n",
        "plt.axvline(dfatp ,0,1, color='black')"
      ],
      "execution_count": 6,
      "outputs": [
        {
          "output_type": "stream",
          "name": "stderr",
          "text": [
            "/usr/local/lib/python3.7/dist-packages/seaborn/distributions.py:2557: FutureWarning: `distplot` is a deprecated function and will be removed in a future version. Please adapt your code to use either `displot` (a figure-level function with similar flexibility) or `histplot` (an axes-level function for histograms).\n",
            "  warnings.warn(msg, FutureWarning)\n"
          ]
        },
        {
          "output_type": "execute_result",
          "data": {
            "text/plain": [
              "<matplotlib.lines.Line2D at 0x7f9ae57f8c10>"
            ]
          },
          "metadata": {},
          "execution_count": 6
        },
        {
          "output_type": "display_data",
          "data": {
            "image/png": "[encoded data removed]",
            "text/plain": [
              "<Figure size 936x504 with 1 Axes>"
            ]
          },
          "metadata": {}
        }
      ]
    },
    {
      "cell_type": "markdown",
      "metadata": {
        "id": "evghITse44tW"
      },
      "source": [
        "#Calcule la mediana del ataque de: Todos los pokemones"
      ]
    },
    {
      "cell_type": "code",
      "metadata": {
        "colab": {
          "base_uri": "https://localhost:8080/"
        },
        "id": "3D3F12j-gBOV",
        "outputId": "b61f01cb-2938-4a6f-f66b-38e5daabe79b"
      },
      "source": [
        "dfatm=df['Attack'].median()\n",
        "dfatm"
      ],
      "execution_count": 7,
      "outputs": [
        {
          "output_type": "execute_result",
          "data": {
            "text/plain": [
              "75.0"
            ]
          },
          "metadata": {},
          "execution_count": 7
        }
      ]
    },
    {
      "cell_type": "code",
      "metadata": {
        "colab": {
          "base_uri": "https://localhost:8080/",
          "height": 504
        },
        "id": "hH-vizr8glQR",
        "outputId": "5648270e-46ec-4923-df61-b977b1d7de5e"
      },
      "source": [
        "sns.set(rc={'figure.figsize':(10,7)})\n",
        "rdata = df['Attack'].values\n",
        "sns.boxplot(rdata, color='#1684BF')\n",
        "print(f'Median:  {df[\"Attack\"].median()}')"
      ],
      "execution_count": 8,
      "outputs": [
        {
          "output_type": "stream",
          "name": "stderr",
          "text": [
            "/usr/local/lib/python3.7/dist-packages/seaborn/_decorators.py:43: FutureWarning: Pass the following variable as a keyword arg: x. From version 0.12, the only valid positional argument will be `data`, and passing other arguments without an explicit keyword will result in an error or misinterpretation.\n",
            "  FutureWarning\n"
          ]
        },
        {
          "output_type": "stream",
          "name": "stdout",
          "text": [
            "Median:  75.0\n"
          ]
        },
        {
          "output_type": "display_data",
          "data": {
            "image/png": "[encoded data removed]",
            "text/plain": [
              "<Figure size 720x504 with 1 Axes>"
            ]
          },
          "metadata": {}
        }
      ]
    },
    {
      "cell_type": "markdown",
      "metadata": {
        "id": "H4WnPWud3dGq"
      },
      "source": [
        "# EJERCICIO 1 - PUNTO 2"
      ]
    },
    {
      "cell_type": "code",
      "metadata": {
        "colab": {
          "base_uri": "https://localhost:8080/",
          "height": 412
        },
        "id": "uItjZT5b3dkp",
        "outputId": "6159eac1-285a-4182-8fcf-b8099e462df4"
      },
      "source": [
        "import numpy as np\n",
        "df['LEGENDARY DESCRIP']=np.where(df['Legendary']==True,'Legendario','no Legendario')\n",
        "df"
      ],
      "execution_count": 9,
      "outputs": [
        {
          "output_type": "execute_result",
          "data": {
            "text/html": [
              "<div>\n",
              "<style scoped>\n",
              "    .dataframe tbody tr th:only-of-type {\n",
              "        vertical-align: middle;\n",
              "    }\n",
              "\n",
              "    .dataframe tbody tr th {\n",
              "        vertical-align: top;\n",
              "    }\n",
              "\n",
              "    .dataframe thead th {\n",
              "        text-align: right;\n",
              "    }\n",
              "</style>\n",
              "<table border=\"1\" class=\"dataframe\">\n",
              "  <thead>\n",
              "    <tr style=\"text-align: right;\">\n",
              "      <th></th>\n",
              "      <th>#</th>\n",
              "      <th>Name</th>\n",
              "      <th>Type 1</th>\n",
              "      <th>Type 2</th>\n",
              "      <th>HP</th>\n",
              "      <th>Attack</th>\n",
              "      <th>Defense</th>\n",
              "      <th>Sp. Atk</th>\n",
              "      <th>Sp. Def</th>\n",
              "      <th>Speed</th>\n",
              "      <th>Generation</th>\n",
              "      <th>Legendary</th>\n",
              "      <th>LEGENDARY DESCRIP</th>\n",
              "    </tr>\n",
              "  </thead>\n",
              "  <tbody>\n",
              "    <tr>\n",
              "      <th>0</th>\n",
              "      <td>1</td>\n",
              "      <td>Bulbasaur</td>\n",
              "      <td>Grass</td>\n",
              "      <td>Poison</td>\n",
              "      <td>45</td>\n",
              "      <td>49</td>\n",
              "      <td>49</td>\n",
              "      <td>65</td>\n",
              "      <td>65</td>\n",
              "      <td>45</td>\n",
              "      <td>1</td>\n",
              "      <td>False</td>\n",
              "      <td>no Legendario</td>\n",
              "    </tr>\n",
              "    <tr>\n",
              "      <th>1</th>\n",
              "      <td>2</td>\n",
              "      <td>Ivysaur</td>\n",
              "      <td>Grass</td>\n",
              "      <td>Poison</td>\n",
              "      <td>60</td>\n",
              "      <td>62</td>\n",
              "      <td>63</td>\n",
              "      <td>80</td>\n",
              "      <td>80</td>\n",
              "      <td>60</td>\n",
              "      <td>1</td>\n",
              "      <td>False</td>\n",
              "      <td>no Legendario</td>\n",
              "    </tr>\n",
              "    <tr>\n",
              "      <th>2</th>\n",
              "      <td>3</td>\n",
              "      <td>Venusaur</td>\n",
              "      <td>Grass</td>\n",
              "      <td>Poison</td>\n",
              "      <td>80</td>\n",
              "      <td>82</td>\n",
              "      <td>83</td>\n",
              "      <td>100</td>\n",
              "      <td>100</td>\n",
              "      <td>80</td>\n",
              "      <td>1</td>\n",
              "      <td>False</td>\n",
              "      <td>no Legendario</td>\n",
              "    </tr>\n",
              "    <tr>\n",
              "      <th>3</th>\n",
              "      <td>3</td>\n",
              "      <td>VenusaurMega Venusaur</td>\n",
              "      <td>Grass</td>\n",
              "      <td>Poison</td>\n",
              "      <td>80</td>\n",
              "      <td>100</td>\n",
              "      <td>123</td>\n",
              "      <td>122</td>\n",
              "      <td>120</td>\n",
              "      <td>80</td>\n",
              "      <td>1</td>\n",
              "      <td>False</td>\n",
              "      <td>no Legendario</td>\n",
              "    </tr>\n",
              "    <tr>\n",
              "      <th>4</th>\n",
              "      <td>4</td>\n",
              "      <td>Charmander</td>\n",
              "      <td>Fire</td>\n",
              "      <td>NaN</td>\n",
              "      <td>39</td>\n",
              "      <td>52</td>\n",
              "      <td>43</td>\n",
              "      <td>60</td>\n",
              "      <td>50</td>\n",
              "      <td>65</td>\n",
              "      <td>1</td>\n",
              "      <td>False</td>\n",
              "      <td>no Legendario</td>\n",
              "    </tr>\n",
              "    <tr>\n",
              "      <th>...</th>\n",
              "      <td>...</td>\n",
              "      <td>...</td>\n",
              "      <td>...</td>\n",
              "      <td>...</td>\n",
              "      <td>...</td>\n",
              "      <td>...</td>\n",
              "      <td>...</td>\n",
              "      <td>...</td>\n",
              "      <td>...</td>\n",
              "      <td>...</td>\n",
              "      <td>...</td>\n",
              "      <td>...</td>\n",
              "      <td>...</td>\n",
              "    </tr>\n",
              "    <tr>\n",
              "      <th>795</th>\n",
              "      <td>719</td>\n",
              "      <td>Diancie</td>\n",
              "      <td>Rock</td>\n",
              "      <td>Fairy</td>\n",
              "      <td>50</td>\n",
              "      <td>100</td>\n",
              "      <td>150</td>\n",
              "      <td>100</td>\n",
              "      <td>150</td>\n",
              "      <td>50</td>\n",
              "      <td>6</td>\n",
              "      <td>True</td>\n",
              "      <td>Legendario</td>\n",
              "    </tr>\n",
              "    <tr>\n",
              "      <th>796</th>\n",
              "      <td>719</td>\n",
              "      <td>DiancieMega Diancie</td>\n",
              "      <td>Rock</td>\n",
              "      <td>Fairy</td>\n",
              "      <td>50</td>\n",
              "      <td>160</td>\n",
              "      <td>110</td>\n",
              "      <td>160</td>\n",
              "      <td>110</td>\n",
              "      <td>110</td>\n",
              "      <td>6</td>\n",
              "      <td>True</td>\n",
              "      <td>Legendario</td>\n",
              "    </tr>\n",
              "    <tr>\n",
              "      <th>797</th>\n",
              "      <td>720</td>\n",
              "      <td>HoopaHoopa Confined</td>\n",
              "      <td>Psychic</td>\n",
              "      <td>Ghost</td>\n",
              "      <td>80</td>\n",
              "      <td>110</td>\n",
              "      <td>60</td>\n",
              "      <td>150</td>\n",
              "      <td>130</td>\n",
              "      <td>70</td>\n",
              "      <td>6</td>\n",
              "      <td>True</td>\n",
              "      <td>Legendario</td>\n",
              "    </tr>\n",
              "    <tr>\n",
              "      <th>798</th>\n",
              "      <td>720</td>\n",
              "      <td>HoopaHoopa Unbound</td>\n",
              "      <td>Psychic</td>\n",
              "      <td>Dark</td>\n",
              "      <td>80</td>\n",
              "      <td>160</td>\n",
              "      <td>60</td>\n",
              "      <td>170</td>\n",
              "      <td>130</td>\n",
              "      <td>80</td>\n",
              "      <td>6</td>\n",
              "      <td>True</td>\n",
              "      <td>Legendario</td>\n",
              "    </tr>\n",
              "    <tr>\n",
              "      <th>799</th>\n",
              "      <td>721</td>\n",
              "      <td>Volcanion</td>\n",
              "      <td>Fire</td>\n",
              "      <td>Water</td>\n",
              "      <td>80</td>\n",
              "      <td>110</td>\n",
              "      <td>120</td>\n",
              "      <td>130</td>\n",
              "      <td>90</td>\n",
              "      <td>70</td>\n",
              "      <td>6</td>\n",
              "      <td>True</td>\n",
              "      <td>Legendario</td>\n",
              "    </tr>\n",
              "  </tbody>\n",
              "</table>\n",
              "<p>800 rows × 13 columns</p>\n",
              "</div>"
            ],
            "text/plain": [
              "       #                   Name  ... Legendary LEGENDARY DESCRIP\n",
              "0      1              Bulbasaur  ...     False     no Legendario\n",
              "1      2                Ivysaur  ...     False     no Legendario\n",
              "2      3               Venusaur  ...     False     no Legendario\n",
              "3      3  VenusaurMega Venusaur  ...     False     no Legendario\n",
              "4      4             Charmander  ...     False     no Legendario\n",
              "..   ...                    ...  ...       ...               ...\n",
              "795  719                Diancie  ...      True        Legendario\n",
              "796  719    DiancieMega Diancie  ...      True        Legendario\n",
              "797  720    HoopaHoopa Confined  ...      True        Legendario\n",
              "798  720     HoopaHoopa Unbound  ...      True        Legendario\n",
              "799  721              Volcanion  ...      True        Legendario\n",
              "\n",
              "[800 rows x 13 columns]"
            ]
          },
          "metadata": {},
          "execution_count": 9
        }
      ]
    },
    {
      "cell_type": "markdown",
      "metadata": {
        "id": "q7uAgBCa4BI_"
      },
      "source": [
        "#promedio de todos los pokemones agrupados por Legendary (pokemones legendarios y no legendarios)"
      ]
    },
    {
      "cell_type": "code",
      "metadata": {
        "colab": {
          "base_uri": "https://localhost:8080/",
          "height": 141
        },
        "id": "OUFdTupy4C8W",
        "outputId": "947d14a3-577f-4e8b-913e-a393f0b5ae4a"
      },
      "source": [
        "dfpl=df[['LEGENDARY DESCRIP','Attack']].groupby('LEGENDARY DESCRIP').mean()\n",
        "dfpl"
      ],
      "execution_count": 10,
      "outputs": [
        {
          "output_type": "execute_result",
          "data": {
            "text/html": [
              "<div>\n",
              "<style scoped>\n",
              "    .dataframe tbody tr th:only-of-type {\n",
              "        vertical-align: middle;\n",
              "    }\n",
              "\n",
              "    .dataframe tbody tr th {\n",
              "        vertical-align: top;\n",
              "    }\n",
              "\n",
              "    .dataframe thead th {\n",
              "        text-align: right;\n",
              "    }\n",
              "</style>\n",
              "<table border=\"1\" class=\"dataframe\">\n",
              "  <thead>\n",
              "    <tr style=\"text-align: right;\">\n",
              "      <th></th>\n",
              "      <th>Attack</th>\n",
              "    </tr>\n",
              "    <tr>\n",
              "      <th>LEGENDARY DESCRIP</th>\n",
              "      <th></th>\n",
              "    </tr>\n",
              "  </thead>\n",
              "  <tbody>\n",
              "    <tr>\n",
              "      <th>Legendario</th>\n",
              "      <td>116.676923</td>\n",
              "    </tr>\n",
              "    <tr>\n",
              "      <th>no Legendario</th>\n",
              "      <td>75.669388</td>\n",
              "    </tr>\n",
              "  </tbody>\n",
              "</table>\n",
              "</div>"
            ],
            "text/plain": [
              "                       Attack\n",
              "LEGENDARY DESCRIP            \n",
              "Legendario         116.676923\n",
              "no Legendario       75.669388"
            ]
          },
          "metadata": {},
          "execution_count": 10
        }
      ]
    },
    {
      "cell_type": "code",
      "metadata": {
        "colab": {
          "base_uri": "https://localhost:8080/",
          "height": 490
        },
        "id": "Ue_XP-rj4nL-",
        "outputId": "a7e8e26d-821c-4ac1-e6e9-7dceeb6c026f"
      },
      "source": [
        "sns.set(rc={'figure.figsize':(10,7)})\n",
        "dfpl.plot(kind='bar',legend='Reverse', linewidth = 3,fontsize=15,color='lightsalmon')\n",
        "plt.ylabel('mean Attack',fontsize=15)\n",
        "plt.xlabel('Legendary',fontsize=15)\n",
        "plt.grid()\n",
        "plt.title(\"#promedio de todos los pokemones agrupados po Legendary\",fontsize=15)\n",
        "plt.xticks(rotation=0,fontsize=15)"
      ],
      "execution_count": 11,
      "outputs": [
        {
          "output_type": "execute_result",
          "data": {
            "text/plain": [
              "(array([0, 1]), <a list of 2 Text major ticklabel objects>)"
            ]
          },
          "metadata": {},
          "execution_count": 11
        },
        {
          "output_type": "display_data",
          "data": {
            "image/png": "[encoded data removed]",
            "text/plain": [
              "<Figure size 720x504 with 1 Axes>"
            ]
          },
          "metadata": {}
        }
      ]
    },
    {
      "cell_type": "markdown",
      "metadata": {
        "id": "yerhyuni401X"
      },
      "source": [
        "#media de todos los pokemones agrupados por Legendary"
      ]
    },
    {
      "cell_type": "code",
      "metadata": {
        "colab": {
          "base_uri": "https://localhost:8080/",
          "height": 141
        },
        "id": "0Wn0tegG4142",
        "outputId": "8f889715-949c-41fb-e7d2-4bf2c8f11af7"
      },
      "source": [
        "dfml=df[['LEGENDARY DESCRIP','Attack']].groupby('LEGENDARY DESCRIP').median()\n",
        "dfml"
      ],
      "execution_count": 12,
      "outputs": [
        {
          "output_type": "execute_result",
          "data": {
            "text/html": [
              "<div>\n",
              "<style scoped>\n",
              "    .dataframe tbody tr th:only-of-type {\n",
              "        vertical-align: middle;\n",
              "    }\n",
              "\n",
              "    .dataframe tbody tr th {\n",
              "        vertical-align: top;\n",
              "    }\n",
              "\n",
              "    .dataframe thead th {\n",
              "        text-align: right;\n",
              "    }\n",
              "</style>\n",
              "<table border=\"1\" class=\"dataframe\">\n",
              "  <thead>\n",
              "    <tr style=\"text-align: right;\">\n",
              "      <th></th>\n",
              "      <th>Attack</th>\n",
              "    </tr>\n",
              "    <tr>\n",
              "      <th>LEGENDARY DESCRIP</th>\n",
              "      <th></th>\n",
              "    </tr>\n",
              "  </thead>\n",
              "  <tbody>\n",
              "    <tr>\n",
              "      <th>Legendario</th>\n",
              "      <td>110</td>\n",
              "    </tr>\n",
              "    <tr>\n",
              "      <th>no Legendario</th>\n",
              "      <td>72</td>\n",
              "    </tr>\n",
              "  </tbody>\n",
              "</table>\n",
              "</div>"
            ],
            "text/plain": [
              "                   Attack\n",
              "LEGENDARY DESCRIP        \n",
              "Legendario            110\n",
              "no Legendario          72"
            ]
          },
          "metadata": {},
          "execution_count": 12
        }
      ]
    },
    {
      "cell_type": "code",
      "metadata": {
        "colab": {
          "base_uri": "https://localhost:8080/",
          "height": 490
        },
        "id": "_Tz-vucL5XW3",
        "outputId": "12490852-0a01-4d58-9442-3d285cb7e3a7"
      },
      "source": [
        "sns.set(rc={'figure.figsize':(10,7)})\n",
        "dfml.plot(kind='bar',legend='Reverse', linewidth = 3,fontsize=15,color='rosybrown')\n",
        "plt.ylabel('median Attack',fontsize=15)\n",
        "plt.xlabel('Legendary',fontsize=15)\n",
        "plt.grid()\n",
        "plt.title(\"#Media de todos los pokemones agrupados por Legendary\",fontsize=15)\n",
        "plt.xticks(rotation=0,fontsize=15)"
      ],
      "execution_count": 13,
      "outputs": [
        {
          "output_type": "execute_result",
          "data": {
            "text/plain": [
              "(array([0, 1]), <a list of 2 Text major ticklabel objects>)"
            ]
          },
          "metadata": {},
          "execution_count": 13
        },
        {
          "output_type": "display_data",
          "data": {
            "image/png": "[encoded data removed]",
            "text/plain": [
              "<Figure size 720x504 with 1 Axes>"
            ]
          },
          "metadata": {}
        }
      ]
    },
    {
      "cell_type": "markdown",
      "metadata": {
        "id": "DL6DwyLZ9md1"
      },
      "source": [
        "# EJERCICIO 1 - PUNTO 3"
      ]
    },
    {
      "cell_type": "markdown",
      "metadata": {
        "id": "DPqlYIlI9vtc"
      },
      "source": [
        "#promedio de todos los pokemones agrupados por Type 1"
      ]
    },
    {
      "cell_type": "code",
      "metadata": {
        "colab": {
          "base_uri": "https://localhost:8080/",
          "height": 412
        },
        "id": "Zf5KB68R921f",
        "outputId": "1c87a4bd-02ce-4703-d9b9-3bb40967023f"
      },
      "source": [
        "df"
      ],
      "execution_count": 14,
      "outputs": [
        {
          "output_type": "execute_result",
          "data": {
            "text/html": [
              "<div>\n",
              "<style scoped>\n",
              "    .dataframe tbody tr th:only-of-type {\n",
              "        vertical-align: middle;\n",
              "    }\n",
              "\n",
              "    .dataframe tbody tr th {\n",
              "        vertical-align: top;\n",
              "    }\n",
              "\n",
              "    .dataframe thead th {\n",
              "        text-align: right;\n",
              "    }\n",
              "</style>\n",
              "<table border=\"1\" class=\"dataframe\">\n",
              "  <thead>\n",
              "    <tr style=\"text-align: right;\">\n",
              "      <th></th>\n",
              "      <th>#</th>\n",
              "      <th>Name</th>\n",
              "      <th>Type 1</th>\n",
              "      <th>Type 2</th>\n",
              "      <th>HP</th>\n",
              "      <th>Attack</th>\n",
              "      <th>Defense</th>\n",
              "      <th>Sp. Atk</th>\n",
              "      <th>Sp. Def</th>\n",
              "      <th>Speed</th>\n",
              "      <th>Generation</th>\n",
              "      <th>Legendary</th>\n",
              "      <th>LEGENDARY DESCRIP</th>\n",
              "    </tr>\n",
              "  </thead>\n",
              "  <tbody>\n",
              "    <tr>\n",
              "      <th>0</th>\n",
              "      <td>1</td>\n",
              "      <td>Bulbasaur</td>\n",
              "      <td>Grass</td>\n",
              "      <td>Poison</td>\n",
              "      <td>45</td>\n",
              "      <td>49</td>\n",
              "      <td>49</td>\n",
              "      <td>65</td>\n",
              "      <td>65</td>\n",
              "      <td>45</td>\n",
              "      <td>1</td>\n",
              "      <td>False</td>\n",
              "      <td>no Legendario</td>\n",
              "    </tr>\n",
              "    <tr>\n",
              "      <th>1</th>\n",
              "      <td>2</td>\n",
              "      <td>Ivysaur</td>\n",
              "      <td>Grass</td>\n",
              "      <td>Poison</td>\n",
              "      <td>60</td>\n",
              "      <td>62</td>\n",
              "      <td>63</td>\n",
              "      <td>80</td>\n",
              "      <td>80</td>\n",
              "      <td>60</td>\n",
              "      <td>1</td>\n",
              "      <td>False</td>\n",
              "      <td>no Legendario</td>\n",
              "    </tr>\n",
              "    <tr>\n",
              "      <th>2</th>\n",
              "      <td>3</td>\n",
              "      <td>Venusaur</td>\n",
              "      <td>Grass</td>\n",
              "      <td>Poison</td>\n",
              "      <td>80</td>\n",
              "      <td>82</td>\n",
              "      <td>83</td>\n",
              "      <td>100</td>\n",
              "      <td>100</td>\n",
              "      <td>80</td>\n",
              "      <td>1</td>\n",
              "      <td>False</td>\n",
              "      <td>no Legendario</td>\n",
              "    </tr>\n",
              "    <tr>\n",
              "      <th>3</th>\n",
              "      <td>3</td>\n",
              "      <td>VenusaurMega Venusaur</td>\n",
              "      <td>Grass</td>\n",
              "      <td>Poison</td>\n",
              "      <td>80</td>\n",
              "      <td>100</td>\n",
              "      <td>123</td>\n",
              "      <td>122</td>\n",
              "      <td>120</td>\n",
              "      <td>80</td>\n",
              "      <td>1</td>\n",
              "      <td>False</td>\n",
              "      <td>no Legendario</td>\n",
              "    </tr>\n",
              "    <tr>\n",
              "      <th>4</th>\n",
              "      <td>4</td>\n",
              "      <td>Charmander</td>\n",
              "      <td>Fire</td>\n",
              "      <td>NaN</td>\n",
              "      <td>39</td>\n",
              "      <td>52</td>\n",
              "      <td>43</td>\n",
              "      <td>60</td>\n",
              "      <td>50</td>\n",
              "      <td>65</td>\n",
              "      <td>1</td>\n",
              "      <td>False</td>\n",
              "      <td>no Legendario</td>\n",
              "    </tr>\n",
              "    <tr>\n",
              "      <th>...</th>\n",
              "      <td>...</td>\n",
              "      <td>...</td>\n",
              "      <td>...</td>\n",
              "      <td>...</td>\n",
              "      <td>...</td>\n",
              "      <td>...</td>\n",
              "      <td>...</td>\n",
              "      <td>...</td>\n",
              "      <td>...</td>\n",
              "      <td>...</td>\n",
              "      <td>...</td>\n",
              "      <td>...</td>\n",
              "      <td>...</td>\n",
              "    </tr>\n",
              "    <tr>\n",
              "      <th>795</th>\n",
              "      <td>719</td>\n",
              "      <td>Diancie</td>\n",
              "      <td>Rock</td>\n",
              "      <td>Fairy</td>\n",
              "      <td>50</td>\n",
              "      <td>100</td>\n",
              "      <td>150</td>\n",
              "      <td>100</td>\n",
              "      <td>150</td>\n",
              "      <td>50</td>\n",
              "      <td>6</td>\n",
              "      <td>True</td>\n",
              "      <td>Legendario</td>\n",
              "    </tr>\n",
              "    <tr>\n",
              "      <th>796</th>\n",
              "      <td>719</td>\n",
              "      <td>DiancieMega Diancie</td>\n",
              "      <td>Rock</td>\n",
              "      <td>Fairy</td>\n",
              "      <td>50</td>\n",
              "      <td>160</td>\n",
              "      <td>110</td>\n",
              "      <td>160</td>\n",
              "      <td>110</td>\n",
              "      <td>110</td>\n",
              "      <td>6</td>\n",
              "      <td>True</td>\n",
              "      <td>Legendario</td>\n",
              "    </tr>\n",
              "    <tr>\n",
              "      <th>797</th>\n",
              "      <td>720</td>\n",
              "      <td>HoopaHoopa Confined</td>\n",
              "      <td>Psychic</td>\n",
              "      <td>Ghost</td>\n",
              "      <td>80</td>\n",
              "      <td>110</td>\n",
              "      <td>60</td>\n",
              "      <td>150</td>\n",
              "      <td>130</td>\n",
              "      <td>70</td>\n",
              "      <td>6</td>\n",
              "      <td>True</td>\n",
              "      <td>Legendario</td>\n",
              "    </tr>\n",
              "    <tr>\n",
              "      <th>798</th>\n",
              "      <td>720</td>\n",
              "      <td>HoopaHoopa Unbound</td>\n",
              "      <td>Psychic</td>\n",
              "      <td>Dark</td>\n",
              "      <td>80</td>\n",
              "      <td>160</td>\n",
              "      <td>60</td>\n",
              "      <td>170</td>\n",
              "      <td>130</td>\n",
              "      <td>80</td>\n",
              "      <td>6</td>\n",
              "      <td>True</td>\n",
              "      <td>Legendario</td>\n",
              "    </tr>\n",
              "    <tr>\n",
              "      <th>799</th>\n",
              "      <td>721</td>\n",
              "      <td>Volcanion</td>\n",
              "      <td>Fire</td>\n",
              "      <td>Water</td>\n",
              "      <td>80</td>\n",
              "      <td>110</td>\n",
              "      <td>120</td>\n",
              "      <td>130</td>\n",
              "      <td>90</td>\n",
              "      <td>70</td>\n",
              "      <td>6</td>\n",
              "      <td>True</td>\n",
              "      <td>Legendario</td>\n",
              "    </tr>\n",
              "  </tbody>\n",
              "</table>\n",
              "<p>800 rows × 13 columns</p>\n",
              "</div>"
            ],
            "text/plain": [
              "       #                   Name  ... Legendary LEGENDARY DESCRIP\n",
              "0      1              Bulbasaur  ...     False     no Legendario\n",
              "1      2                Ivysaur  ...     False     no Legendario\n",
              "2      3               Venusaur  ...     False     no Legendario\n",
              "3      3  VenusaurMega Venusaur  ...     False     no Legendario\n",
              "4      4             Charmander  ...     False     no Legendario\n",
              "..   ...                    ...  ...       ...               ...\n",
              "795  719                Diancie  ...      True        Legendario\n",
              "796  719    DiancieMega Diancie  ...      True        Legendario\n",
              "797  720    HoopaHoopa Confined  ...      True        Legendario\n",
              "798  720     HoopaHoopa Unbound  ...      True        Legendario\n",
              "799  721              Volcanion  ...      True        Legendario\n",
              "\n",
              "[800 rows x 13 columns]"
            ]
          },
          "metadata": {},
          "execution_count": 14
        }
      ]
    },
    {
      "cell_type": "code",
      "metadata": {
        "colab": {
          "base_uri": "https://localhost:8080/",
          "height": 628
        },
        "id": "PNRqTz4B908-",
        "outputId": "12bc98d5-7dd8-466f-e0d1-4a8b73976ca3"
      },
      "source": [
        "dfpt=df[['Type 1','Attack']].groupby('Type 1').mean()\n",
        "dfpt"
      ],
      "execution_count": 15,
      "outputs": [
        {
          "output_type": "execute_result",
          "data": {
            "text/html": [
              "<div>\n",
              "<style scoped>\n",
              "    .dataframe tbody tr th:only-of-type {\n",
              "        vertical-align: middle;\n",
              "    }\n",
              "\n",
              "    .dataframe tbody tr th {\n",
              "        vertical-align: top;\n",
              "    }\n",
              "\n",
              "    .dataframe thead th {\n",
              "        text-align: right;\n",
              "    }\n",
              "</style>\n",
              "<table border=\"1\" class=\"dataframe\">\n",
              "  <thead>\n",
              "    <tr style=\"text-align: right;\">\n",
              "      <th></th>\n",
              "      <th>Attack</th>\n",
              "    </tr>\n",
              "    <tr>\n",
              "      <th>Type 1</th>\n",
              "      <th></th>\n",
              "    </tr>\n",
              "  </thead>\n",
              "  <tbody>\n",
              "    <tr>\n",
              "      <th>Bug</th>\n",
              "      <td>70.971014</td>\n",
              "    </tr>\n",
              "    <tr>\n",
              "      <th>Dark</th>\n",
              "      <td>88.387097</td>\n",
              "    </tr>\n",
              "    <tr>\n",
              "      <th>Dragon</th>\n",
              "      <td>112.125000</td>\n",
              "    </tr>\n",
              "    <tr>\n",
              "      <th>Electric</th>\n",
              "      <td>69.090909</td>\n",
              "    </tr>\n",
              "    <tr>\n",
              "      <th>Fairy</th>\n",
              "      <td>61.529412</td>\n",
              "    </tr>\n",
              "    <tr>\n",
              "      <th>Fighting</th>\n",
              "      <td>96.777778</td>\n",
              "    </tr>\n",
              "    <tr>\n",
              "      <th>Fire</th>\n",
              "      <td>84.769231</td>\n",
              "    </tr>\n",
              "    <tr>\n",
              "      <th>Flying</th>\n",
              "      <td>78.750000</td>\n",
              "    </tr>\n",
              "    <tr>\n",
              "      <th>Ghost</th>\n",
              "      <td>73.781250</td>\n",
              "    </tr>\n",
              "    <tr>\n",
              "      <th>Grass</th>\n",
              "      <td>73.214286</td>\n",
              "    </tr>\n",
              "    <tr>\n",
              "      <th>Ground</th>\n",
              "      <td>95.750000</td>\n",
              "    </tr>\n",
              "    <tr>\n",
              "      <th>Ice</th>\n",
              "      <td>72.750000</td>\n",
              "    </tr>\n",
              "    <tr>\n",
              "      <th>Normal</th>\n",
              "      <td>73.469388</td>\n",
              "    </tr>\n",
              "    <tr>\n",
              "      <th>Poison</th>\n",
              "      <td>74.678571</td>\n",
              "    </tr>\n",
              "    <tr>\n",
              "      <th>Psychic</th>\n",
              "      <td>71.456140</td>\n",
              "    </tr>\n",
              "    <tr>\n",
              "      <th>Rock</th>\n",
              "      <td>92.863636</td>\n",
              "    </tr>\n",
              "    <tr>\n",
              "      <th>Steel</th>\n",
              "      <td>92.703704</td>\n",
              "    </tr>\n",
              "    <tr>\n",
              "      <th>Water</th>\n",
              "      <td>74.151786</td>\n",
              "    </tr>\n",
              "  </tbody>\n",
              "</table>\n",
              "</div>"
            ],
            "text/plain": [
              "              Attack\n",
              "Type 1              \n",
              "Bug        70.971014\n",
              "Dark       88.387097\n",
              "Dragon    112.125000\n",
              "Electric   69.090909\n",
              "Fairy      61.529412\n",
              "Fighting   96.777778\n",
              "Fire       84.769231\n",
              "Flying     78.750000\n",
              "Ghost      73.781250\n",
              "Grass      73.214286\n",
              "Ground     95.750000\n",
              "Ice        72.750000\n",
              "Normal     73.469388\n",
              "Poison     74.678571\n",
              "Psychic    71.456140\n",
              "Rock       92.863636\n",
              "Steel      92.703704\n",
              "Water      74.151786"
            ]
          },
          "metadata": {},
          "execution_count": 15
        }
      ]
    },
    {
      "cell_type": "code",
      "metadata": {
        "colab": {
          "base_uri": "https://localhost:8080/",
          "height": 553
        },
        "id": "OoAi6VuJ-jOD",
        "outputId": "c2f26bb2-e40d-4ed5-a104-11635a9ac319"
      },
      "source": [
        "sns.set(rc={'figure.figsize':(10,7)})\n",
        "dfpt.plot(kind='bar',legend='Reverse', linewidth = 3,fontsize=15,color=\"lightslategray\")\n",
        "plt.ylabel('mean Attack',fontsize=15)\n",
        "plt.xlabel('Type 1',fontsize=15)\n",
        "plt.grid()\n",
        "plt.title(\"#promedio de todos los pokemones agrupados por Type 1\",fontsize=15)\n",
        "plt.xticks(rotation=90,fontsize=15)"
      ],
      "execution_count": 16,
      "outputs": [
        {
          "output_type": "execute_result",
          "data": {
            "text/plain": [
              "(array([ 0,  1,  2,  3,  4,  5,  6,  7,  8,  9, 10, 11, 12, 13, 14, 15, 16,\n",
              "        17]), <a list of 18 Text major ticklabel objects>)"
            ]
          },
          "metadata": {},
          "execution_count": 16
        },
        {
          "output_type": "display_data",
          "data": {
            "image/png": "[encoded data removed]",
            "text/plain": [
              "<Figure size 720x504 with 1 Axes>"
            ]
          },
          "metadata": {}
        }
      ]
    },
    {
      "cell_type": "markdown",
      "metadata": {
        "id": "4Bn_Zzbm_9EK"
      },
      "source": [
        "#media de todos los pokemones agrupados por Type 1"
      ]
    },
    {
      "cell_type": "code",
      "metadata": {
        "colab": {
          "base_uri": "https://localhost:8080/",
          "height": 628
        },
        "id": "vrU_2fx__1HK",
        "outputId": "0879ac7c-fc90-4759-8853-b0988e5193d1"
      },
      "source": [
        "dfmt=df[['Type 1','Attack']].groupby('Type 1').median()\n",
        "dfmt"
      ],
      "execution_count": 17,
      "outputs": [
        {
          "output_type": "execute_result",
          "data": {
            "text/html": [
              "<div>\n",
              "<style scoped>\n",
              "    .dataframe tbody tr th:only-of-type {\n",
              "        vertical-align: middle;\n",
              "    }\n",
              "\n",
              "    .dataframe tbody tr th {\n",
              "        vertical-align: top;\n",
              "    }\n",
              "\n",
              "    .dataframe thead th {\n",
              "        text-align: right;\n",
              "    }\n",
              "</style>\n",
              "<table border=\"1\" class=\"dataframe\">\n",
              "  <thead>\n",
              "    <tr style=\"text-align: right;\">\n",
              "      <th></th>\n",
              "      <th>Attack</th>\n",
              "    </tr>\n",
              "    <tr>\n",
              "      <th>Type 1</th>\n",
              "      <th></th>\n",
              "    </tr>\n",
              "  </thead>\n",
              "  <tbody>\n",
              "    <tr>\n",
              "      <th>Bug</th>\n",
              "      <td>65.0</td>\n",
              "    </tr>\n",
              "    <tr>\n",
              "      <th>Dark</th>\n",
              "      <td>88.0</td>\n",
              "    </tr>\n",
              "    <tr>\n",
              "      <th>Dragon</th>\n",
              "      <td>113.5</td>\n",
              "    </tr>\n",
              "    <tr>\n",
              "      <th>Electric</th>\n",
              "      <td>65.0</td>\n",
              "    </tr>\n",
              "    <tr>\n",
              "      <th>Fairy</th>\n",
              "      <td>52.0</td>\n",
              "    </tr>\n",
              "    <tr>\n",
              "      <th>Fighting</th>\n",
              "      <td>100.0</td>\n",
              "    </tr>\n",
              "    <tr>\n",
              "      <th>Fire</th>\n",
              "      <td>84.5</td>\n",
              "    </tr>\n",
              "    <tr>\n",
              "      <th>Flying</th>\n",
              "      <td>85.0</td>\n",
              "    </tr>\n",
              "    <tr>\n",
              "      <th>Ghost</th>\n",
              "      <td>66.0</td>\n",
              "    </tr>\n",
              "    <tr>\n",
              "      <th>Grass</th>\n",
              "      <td>70.0</td>\n",
              "    </tr>\n",
              "    <tr>\n",
              "      <th>Ground</th>\n",
              "      <td>85.0</td>\n",
              "    </tr>\n",
              "    <tr>\n",
              "      <th>Ice</th>\n",
              "      <td>67.0</td>\n",
              "    </tr>\n",
              "    <tr>\n",
              "      <th>Normal</th>\n",
              "      <td>70.5</td>\n",
              "    </tr>\n",
              "    <tr>\n",
              "      <th>Poison</th>\n",
              "      <td>74.0</td>\n",
              "    </tr>\n",
              "    <tr>\n",
              "      <th>Psychic</th>\n",
              "      <td>57.0</td>\n",
              "    </tr>\n",
              "    <tr>\n",
              "      <th>Rock</th>\n",
              "      <td>95.0</td>\n",
              "    </tr>\n",
              "    <tr>\n",
              "      <th>Steel</th>\n",
              "      <td>89.0</td>\n",
              "    </tr>\n",
              "    <tr>\n",
              "      <th>Water</th>\n",
              "      <td>72.0</td>\n",
              "    </tr>\n",
              "  </tbody>\n",
              "</table>\n",
              "</div>"
            ],
            "text/plain": [
              "          Attack\n",
              "Type 1          \n",
              "Bug         65.0\n",
              "Dark        88.0\n",
              "Dragon     113.5\n",
              "Electric    65.0\n",
              "Fairy       52.0\n",
              "Fighting   100.0\n",
              "Fire        84.5\n",
              "Flying      85.0\n",
              "Ghost       66.0\n",
              "Grass       70.0\n",
              "Ground      85.0\n",
              "Ice         67.0\n",
              "Normal      70.5\n",
              "Poison      74.0\n",
              "Psychic     57.0\n",
              "Rock        95.0\n",
              "Steel       89.0\n",
              "Water       72.0"
            ]
          },
          "metadata": {},
          "execution_count": 17
        }
      ]
    },
    {
      "cell_type": "code",
      "metadata": {
        "colab": {
          "base_uri": "https://localhost:8080/",
          "height": 522
        },
        "id": "gtMDZdlZAAkq",
        "outputId": "6de3a385-d773-4445-fdde-dab116022620"
      },
      "source": [
        "sns.set(rc={'figure.figsize':(10,7)})\n",
        "dfmt.plot(kind='barh',legend='Reverse', linewidth = 3,fontsize=15)\n",
        "plt.xlabel('median Attack',fontsize=15)\n",
        "plt.ylabel('Type 1',fontsize=15)\n",
        "plt.grid()\n",
        "plt.title(\"#media de todos los pokemones agrupados por Type 1\",fontsize=15)\n",
        "plt.xticks(rotation=90,fontsize=15)"
      ],
      "execution_count": 18,
      "outputs": [
        {
          "output_type": "execute_result",
          "data": {
            "text/plain": [
              "(array([  0.,  20.,  40.,  60.,  80., 100., 120.]),\n",
              " <a list of 7 Text major ticklabel objects>)"
            ]
          },
          "metadata": {},
          "execution_count": 18
        },
        {
          "output_type": "display_data",
          "data": {
            "image/png": "[encoded data removed]",
            "text/plain": [
              "<Figure size 720x504 with 1 Axes>"
            ]
          },
          "metadata": {}
        }
      ]
    },
    {
      "cell_type": "markdown",
      "metadata": {
        "id": "icVwAqRB-71l"
      },
      "source": [
        "## Ejercicio 2:\n",
        "\n",
        "Grafique el ataque de los pokemones con un grafico boxplot para los siguientes casos:\n",
        "1. Todos los pokemones\n",
        "2. Los pokemones agrupados por Legendary\n",
        "3. Los pokemones agrupados por Type 1"
      ]
    },
    {
      "cell_type": "code",
      "metadata": {
        "colab": {
          "base_uri": "https://localhost:8080/",
          "height": 412
        },
        "id": "AVFc2iW3LzLk",
        "outputId": "4871ccad-bfef-44ce-c69e-54b991b0d3ee"
      },
      "source": [
        "import numpy as np\n",
        "df['LEGENDARY DESCRIP']=np.where(df['Legendary']==True,'Legendario','no Legendario')\n",
        "df"
      ],
      "execution_count": 19,
      "outputs": [
        {
          "output_type": "execute_result",
          "data": {
            "text/html": [
              "<div>\n",
              "<style scoped>\n",
              "    .dataframe tbody tr th:only-of-type {\n",
              "        vertical-align: middle;\n",
              "    }\n",
              "\n",
              "    .dataframe tbody tr th {\n",
              "        vertical-align: top;\n",
              "    }\n",
              "\n",
              "    .dataframe thead th {\n",
              "        text-align: right;\n",
              "    }\n",
              "</style>\n",
              "<table border=\"1\" class=\"dataframe\">\n",
              "  <thead>\n",
              "    <tr style=\"text-align: right;\">\n",
              "      <th></th>\n",
              "      <th>#</th>\n",
              "      <th>Name</th>\n",
              "      <th>Type 1</th>\n",
              "      <th>Type 2</th>\n",
              "      <th>HP</th>\n",
              "      <th>Attack</th>\n",
              "      <th>Defense</th>\n",
              "      <th>Sp. Atk</th>\n",
              "      <th>Sp. Def</th>\n",
              "      <th>Speed</th>\n",
              "      <th>Generation</th>\n",
              "      <th>Legendary</th>\n",
              "      <th>LEGENDARY DESCRIP</th>\n",
              "    </tr>\n",
              "  </thead>\n",
              "  <tbody>\n",
              "    <tr>\n",
              "      <th>0</th>\n",
              "      <td>1</td>\n",
              "      <td>Bulbasaur</td>\n",
              "      <td>Grass</td>\n",
              "      <td>Poison</td>\n",
              "      <td>45</td>\n",
              "      <td>49</td>\n",
              "      <td>49</td>\n",
              "      <td>65</td>\n",
              "      <td>65</td>\n",
              "      <td>45</td>\n",
              "      <td>1</td>\n",
              "      <td>False</td>\n",
              "      <td>no Legendario</td>\n",
              "    </tr>\n",
              "    <tr>\n",
              "      <th>1</th>\n",
              "      <td>2</td>\n",
              "      <td>Ivysaur</td>\n",
              "      <td>Grass</td>\n",
              "      <td>Poison</td>\n",
              "      <td>60</td>\n",
              "      <td>62</td>\n",
              "      <td>63</td>\n",
              "      <td>80</td>\n",
              "      <td>80</td>\n",
              "      <td>60</td>\n",
              "      <td>1</td>\n",
              "      <td>False</td>\n",
              "      <td>no Legendario</td>\n",
              "    </tr>\n",
              "    <tr>\n",
              "      <th>2</th>\n",
              "      <td>3</td>\n",
              "      <td>Venusaur</td>\n",
              "      <td>Grass</td>\n",
              "      <td>Poison</td>\n",
              "      <td>80</td>\n",
              "      <td>82</td>\n",
              "      <td>83</td>\n",
              "      <td>100</td>\n",
              "      <td>100</td>\n",
              "      <td>80</td>\n",
              "      <td>1</td>\n",
              "      <td>False</td>\n",
              "      <td>no Legendario</td>\n",
              "    </tr>\n",
              "    <tr>\n",
              "      <th>3</th>\n",
              "      <td>3</td>\n",
              "      <td>VenusaurMega Venusaur</td>\n",
              "      <td>Grass</td>\n",
              "      <td>Poison</td>\n",
              "      <td>80</td>\n",
              "      <td>100</td>\n",
              "      <td>123</td>\n",
              "      <td>122</td>\n",
              "      <td>120</td>\n",
              "      <td>80</td>\n",
              "      <td>1</td>\n",
              "      <td>False</td>\n",
              "      <td>no Legendario</td>\n",
              "    </tr>\n",
              "    <tr>\n",
              "      <th>4</th>\n",
              "      <td>4</td>\n",
              "      <td>Charmander</td>\n",
              "      <td>Fire</td>\n",
              "      <td>NaN</td>\n",
              "      <td>39</td>\n",
              "      <td>52</td>\n",
              "      <td>43</td>\n",
              "      <td>60</td>\n",
              "      <td>50</td>\n",
              "      <td>65</td>\n",
              "      <td>1</td>\n",
              "      <td>False</td>\n",
              "      <td>no Legendario</td>\n",
              "    </tr>\n",
              "    <tr>\n",
              "      <th>...</th>\n",
              "      <td>...</td>\n",
              "      <td>...</td>\n",
              "      <td>...</td>\n",
              "      <td>...</td>\n",
              "      <td>...</td>\n",
              "      <td>...</td>\n",
              "      <td>...</td>\n",
              "      <td>...</td>\n",
              "      <td>...</td>\n",
              "      <td>...</td>\n",
              "      <td>...</td>\n",
              "      <td>...</td>\n",
              "      <td>...</td>\n",
              "    </tr>\n",
              "    <tr>\n",
              "      <th>795</th>\n",
              "      <td>719</td>\n",
              "      <td>Diancie</td>\n",
              "      <td>Rock</td>\n",
              "      <td>Fairy</td>\n",
              "      <td>50</td>\n",
              "      <td>100</td>\n",
              "      <td>150</td>\n",
              "      <td>100</td>\n",
              "      <td>150</td>\n",
              "      <td>50</td>\n",
              "      <td>6</td>\n",
              "      <td>True</td>\n",
              "      <td>Legendario</td>\n",
              "    </tr>\n",
              "    <tr>\n",
              "      <th>796</th>\n",
              "      <td>719</td>\n",
              "      <td>DiancieMega Diancie</td>\n",
              "      <td>Rock</td>\n",
              "      <td>Fairy</td>\n",
              "      <td>50</td>\n",
              "      <td>160</td>\n",
              "      <td>110</td>\n",
              "      <td>160</td>\n",
              "      <td>110</td>\n",
              "      <td>110</td>\n",
              "      <td>6</td>\n",
              "      <td>True</td>\n",
              "      <td>Legendario</td>\n",
              "    </tr>\n",
              "    <tr>\n",
              "      <th>797</th>\n",
              "      <td>720</td>\n",
              "      <td>HoopaHoopa Confined</td>\n",
              "      <td>Psychic</td>\n",
              "      <td>Ghost</td>\n",
              "      <td>80</td>\n",
              "      <td>110</td>\n",
              "      <td>60</td>\n",
              "      <td>150</td>\n",
              "      <td>130</td>\n",
              "      <td>70</td>\n",
              "      <td>6</td>\n",
              "      <td>True</td>\n",
              "      <td>Legendario</td>\n",
              "    </tr>\n",
              "    <tr>\n",
              "      <th>798</th>\n",
              "      <td>720</td>\n",
              "      <td>HoopaHoopa Unbound</td>\n",
              "      <td>Psychic</td>\n",
              "      <td>Dark</td>\n",
              "      <td>80</td>\n",
              "      <td>160</td>\n",
              "      <td>60</td>\n",
              "      <td>170</td>\n",
              "      <td>130</td>\n",
              "      <td>80</td>\n",
              "      <td>6</td>\n",
              "      <td>True</td>\n",
              "      <td>Legendario</td>\n",
              "    </tr>\n",
              "    <tr>\n",
              "      <th>799</th>\n",
              "      <td>721</td>\n",
              "      <td>Volcanion</td>\n",
              "      <td>Fire</td>\n",
              "      <td>Water</td>\n",
              "      <td>80</td>\n",
              "      <td>110</td>\n",
              "      <td>120</td>\n",
              "      <td>130</td>\n",
              "      <td>90</td>\n",
              "      <td>70</td>\n",
              "      <td>6</td>\n",
              "      <td>True</td>\n",
              "      <td>Legendario</td>\n",
              "    </tr>\n",
              "  </tbody>\n",
              "</table>\n",
              "<p>800 rows × 13 columns</p>\n",
              "</div>"
            ],
            "text/plain": [
              "       #                   Name  ... Legendary LEGENDARY DESCRIP\n",
              "0      1              Bulbasaur  ...     False     no Legendario\n",
              "1      2                Ivysaur  ...     False     no Legendario\n",
              "2      3               Venusaur  ...     False     no Legendario\n",
              "3      3  VenusaurMega Venusaur  ...     False     no Legendario\n",
              "4      4             Charmander  ...     False     no Legendario\n",
              "..   ...                    ...  ...       ...               ...\n",
              "795  719                Diancie  ...      True        Legendario\n",
              "796  719    DiancieMega Diancie  ...      True        Legendario\n",
              "797  720    HoopaHoopa Confined  ...      True        Legendario\n",
              "798  720     HoopaHoopa Unbound  ...      True        Legendario\n",
              "799  721              Volcanion  ...      True        Legendario\n",
              "\n",
              "[800 rows x 13 columns]"
            ]
          },
          "metadata": {},
          "execution_count": 19
        }
      ]
    },
    {
      "cell_type": "markdown",
      "metadata": {
        "id": "i83h93gcLIL0"
      },
      "source": [
        "# Ejercicio 2 - PUNTO 1"
      ]
    },
    {
      "cell_type": "markdown",
      "metadata": {
        "id": "hIKJruOcLevE"
      },
      "source": [
        "#Grafique el ataque de los pokemones con un grafico boxplot para:\n",
        "\n",
        "#Todos los pokemones"
      ]
    },
    {
      "cell_type": "code",
      "metadata": {
        "colab": {
          "base_uri": "https://localhost:8080/"
        },
        "id": "79lYp3LFMItN",
        "outputId": "154823e5-3ccf-4b21-a248-ba3c547ce59d"
      },
      "source": [
        "df['Attack'].describe()"
      ],
      "execution_count": 20,
      "outputs": [
        {
          "output_type": "execute_result",
          "data": {
            "text/plain": [
              "count    800.000000\n",
              "mean      79.001250\n",
              "std       32.457366\n",
              "min        5.000000\n",
              "25%       55.000000\n",
              "50%       75.000000\n",
              "75%      100.000000\n",
              "max      190.000000\n",
              "Name: Attack, dtype: float64"
            ]
          },
          "metadata": {},
          "execution_count": 20
        }
      ]
    },
    {
      "cell_type": "code",
      "metadata": {
        "colab": {
          "base_uri": "https://localhost:8080/",
          "height": 541
        },
        "id": "DcDFLTxcL4Ij",
        "outputId": "26a13ccf-5335-42d5-b3ef-8704c65b7771"
      },
      "source": [
        "import plotly.express as px\n",
        "fig = px.box(df, y=\"Attack\",title=\"Box plot of Attack\",hover_data=[\"Attack\"],width=950)\n",
        "fig.show()"
      ],
      "execution_count": 60,
      "outputs": [
        {
          "output_type": "display_data",
          "data": {
            "text/html": [
              "<html>\n",
              "<head><meta charset=\"utf-8\" /></head>\n",
              "<body>\n",
              "    <div>\n",
              "            <script src=\"https://cdnjs.cloudflare.com/ajax/libs/mathjax/2.7.5/MathJax.js?config=TeX-AMS-MML_SVG\"></script><script type=\"text/javascript\">if (window.MathJax) {MathJax.Hub.Config({SVG: {font: \"STIX-Web\"}});}</script>\n",
              "                <script type=\"text/javascript\">window.PlotlyConfig = {MathJaxConfig: 'local'};</script>\n",
              "        <script src=\"https://cdn.plot.ly/plotly-latest.min.js\"></script>    \n",
              "            <div id=\"c59ec40a-80be-4b66-975e-58b3eaa68f85\" class=\"plotly-graph-div\" style=\"height:525px; width:950px;\"></div>\n",
              "            <script type=\"text/javascript\">\n",
              "                \n",
              "                    window.PLOTLYENV=window.PLOTLYENV || {};\n",
              "                    \n",
              "                if (document.getElementById(\"c59ec40a-80be-4b66-975e-58b3eaa68f85\")) {\n",
              "                    Plotly.newPlot(\n",
              "                        'c59ec40a-80be-4b66-975e-58b3eaa68f85',\n",
              "                        [{\"alignmentgroup\": \"True\", \"customdata\": [[49], [62], [82], [100], [52], [64], [84], [130], [104], [48], [63], [83], [103], [30], [20], [45], [35], [25], [90], [150], [45], [60], [80], [80], [56], [81], [60], [90], [60], [85], [55], [90], [75], [100], [47], [62], [92], [57], [72], [102], [45], [70], [41], [76], [45], [70], [45], [80], [50], [65], [80], [70], [95], [55], [65], [55], [80], [45], [70], [52], [82], [80], [105], [70], [110], [50], [65], [95], [20], [35], [50], [50], [80], [100], [130], [75], [90], [105], [40], [70], [80], [95], [120], [85], [100], [65], [75], [75], [35], [60], [65], [85], [110], [45], [70], [80], [105], [65], [95], [35], [50], [65], [65], [45], [48], [73], [105], [130], [30], [50], [40], [95], [50], [80], [120], [105], [55], [65], [90], [85], [130], [5], [55], [95], [125], [40], [65], [67], [92], [45], [75], [45], [110], [50], [83], [95], [125], [155], [100], [10], [125], [155], [85], [48], [55], [65], [65], [130], [60], [40], [60], [80], [115], [105], [135], [110], [85], [90], [100], [64], [84], [134], [110], [190], [150], [100], [49], [62], [82], [52], [64], [84], [65], [80], [105], [46], [76], [30], [50], [20], [35], [60], [90], [90], [38], [58], [40], [25], [30], [20], [40], [50], [75], [40], [55], [75], [95], [80], [20], [50], [100], [75], [35], [45], [55], [70], [30], [75], [65], [45], [85], [65], [65], [85], [75], [60], [72], [33], [80], [65], [90], [70], [75], [85], [125], [80], [120], [95], [130], [150], [10], [125], [185], [95], [80], [130], [40], [50], [50], [100], [55], [65], [105], [55], [40], [80], [60], [90], [90], [95], [60], [120], [80], [95], [20], [35], [95], [30], [63], [75], [80], [10], [85], [115], [75], [64], [84], [134], [164], [90], [130], [100], [45], [65], [85], [110], [60], [85], [120], [160], [70], [85], [110], [150], [55], [90], [30], [70], [45], [35], [70], [35], [50], [30], [50], [70], [40], [70], [100], [55], [85], [30], [50], [25], [35], [65], [85], [30], [60], [40], [130], [60], [80], [160], [45], [90], [90], [51], [71], [91], [60], [120], [20], [45], [45], [65], [75], [85], [85], [105], [70], [90], [110], [140], [40], [60], [100], [45], [75], [75], [50], [40], [73], [47], [60], [43], [73], [90], [120], [140], [70], [90], [60], [100], [120], [85], [25], [45], [60], [100], [70], [100], [85], [115], [40], [70], [110], [115], [100], [55], [95], [48], [78], [80], [120], [40], [70], [41], [81], [95], [125], [15], [60], [70], [90], [75], [115], [165], [40], [70], [68], [50], [130], [150], [23], [50], [80], [120], [40], [60], [80], [64], [104], [84], [90], [30], [75], [95], [135], [145], [55], [75], [135], [145], [100], [50], [75], [80], [100], [90], [130], [100], [150], [150], [180], [150], [180], [100], [150], [180], [70], [95], [68], [89], [109], [58], [78], [104], [51], [66], [86], [55], [75], [120], [45], [85], [25], [85], [65], [85], [120], [30], [70], [125], [165], [42], [52], [29], [59], [79], [69], [94], [30], [80], [45], [65], [105], [35], [60], [48], [83], [100], [50], [80], [66], [76], [136], [60], [125], [55], [82], [30], [63], [93], [24], [89], [80], [25], [5], [65], [92], [70], [90], [130], [170], [85], [70], [110], [145], [72], [112], [50], [90], [61], [106], [100], [49], [69], [20], [62], [92], [132], [120], [70], [85], [140], [100], [123], [95], [50], [76], [110], [60], [95], [130], [80], [125], [165], [55], [100], [80], [50], [65], [65], [65], [65], [65], [75], [105], [125], [120], [120], [90], [160], [100], [120], [70], [80], [100], [90], [100], [103], [120], [100], [45], [60], [75], [63], [93], [123], [55], [75], [100], [55], [85], [60], [80], [110], [50], [88], [53], [98], [53], [98], [53], [98], [25], [55], [55], [77], [115], [60], [100], [75], [105], [135], [45], [57], [85], [135], [60], [60], [80], [105], [140], [50], [65], [95], [100], [125], [53], [63], [103], [45], [55], [100], [27], [67], [35], [60], [92], [72], [82], [117], [90], [140], [30], [86], [65], [95], [75], [90], [58], [30], [50], [78], [108], [112], [140], [50], [95], [65], [105], [50], [95], [30], [45], [55], [30], [40], [65], [44], [87], [50], [65], [95], [60], [100], [75], [75], [135], [55], [85], [40], [60], [75], [47], [77], [50], [94], [55], [80], [100], [55], [85], [115], [55], [75], [30], [40], [55], [87], [117], [147], [70], [110], [50], [40], [70], [66], [85], [125], [120], [74], [124], [85], [125], [110], [83], [123], [55], [65], [97], [109], [65], [85], [105], [85], [60], [90], [129], [90], [115], [100], [115], [105], [120], [150], [125], [145], [130], [170], [120], [72], [72], [77], [128], [120], [61], [78], [107], [45], [59], [69], [56], [63], [95], [36], [56], [50], [73], [81], [35], [22], [52], [50], [68], [38], [45], [65], [65], [100], [82], [124], [80], [48], [48], [48], [80], [110], [150], [50], [52], [72], [48], [80], [54], [92], [52], [105], [60], [75], [53], [73], [38], [55], [89], [121], [59], [77], [65], [92], [58], [50], [50], [75], [100], [80], [70], [110], [66], [66], [66], [66], [90], [85], [95], [100], [69], [117], [30], [70], [131], [131], [100], [100], [160], [110], [160], [110]], \"hoverlabel\": {\"namelength\": 0}, \"hovertemplate\": \"Attack=%{customdata[0]}\", \"legendgroup\": \"\", \"marker\": {\"color\": \"#636efa\"}, \"name\": \"\", \"notched\": false, \"offsetgroup\": \"\", \"orientation\": \"v\", \"showlegend\": false, \"type\": \"box\", \"x0\": \" \", \"xaxis\": \"x\", \"y\": [49, 62, 82, 100, 52, 64, 84, 130, 104, 48, 63, 83, 103, 30, 20, 45, 35, 25, 90, 150, 45, 60, 80, 80, 56, 81, 60, 90, 60, 85, 55, 90, 75, 100, 47, 62, 92, 57, 72, 102, 45, 70, 41, 76, 45, 70, 45, 80, 50, 65, 80, 70, 95, 55, 65, 55, 80, 45, 70, 52, 82, 80, 105, 70, 110, 50, 65, 95, 20, 35, 50, 50, 80, 100, 130, 75, 90, 105, 40, 70, 80, 95, 120, 85, 100, 65, 75, 75, 35, 60, 65, 85, 110, 45, 70, 80, 105, 65, 95, 35, 50, 65, 65, 45, 48, 73, 105, 130, 30, 50, 40, 95, 50, 80, 120, 105, 55, 65, 90, 85, 130, 5, 55, 95, 125, 40, 65, 67, 92, 45, 75, 45, 110, 50, 83, 95, 125, 155, 100, 10, 125, 155, 85, 48, 55, 65, 65, 130, 60, 40, 60, 80, 115, 105, 135, 110, 85, 90, 100, 64, 84, 134, 110, 190, 150, 100, 49, 62, 82, 52, 64, 84, 65, 80, 105, 46, 76, 30, 50, 20, 35, 60, 90, 90, 38, 58, 40, 25, 30, 20, 40, 50, 75, 40, 55, 75, 95, 80, 20, 50, 100, 75, 35, 45, 55, 70, 30, 75, 65, 45, 85, 65, 65, 85, 75, 60, 72, 33, 80, 65, 90, 70, 75, 85, 125, 80, 120, 95, 130, 150, 10, 125, 185, 95, 80, 130, 40, 50, 50, 100, 55, 65, 105, 55, 40, 80, 60, 90, 90, 95, 60, 120, 80, 95, 20, 35, 95, 30, 63, 75, 80, 10, 85, 115, 75, 64, 84, 134, 164, 90, 130, 100, 45, 65, 85, 110, 60, 85, 120, 160, 70, 85, 110, 150, 55, 90, 30, 70, 45, 35, 70, 35, 50, 30, 50, 70, 40, 70, 100, 55, 85, 30, 50, 25, 35, 65, 85, 30, 60, 40, 130, 60, 80, 160, 45, 90, 90, 51, 71, 91, 60, 120, 20, 45, 45, 65, 75, 85, 85, 105, 70, 90, 110, 140, 40, 60, 100, 45, 75, 75, 50, 40, 73, 47, 60, 43, 73, 90, 120, 140, 70, 90, 60, 100, 120, 85, 25, 45, 60, 100, 70, 100, 85, 115, 40, 70, 110, 115, 100, 55, 95, 48, 78, 80, 120, 40, 70, 41, 81, 95, 125, 15, 60, 70, 90, 75, 115, 165, 40, 70, 68, 50, 130, 150, 23, 50, 80, 120, 40, 60, 80, 64, 104, 84, 90, 30, 75, 95, 135, 145, 55, 75, 135, 145, 100, 50, 75, 80, 100, 90, 130, 100, 150, 150, 180, 150, 180, 100, 150, 180, 70, 95, 68, 89, 109, 58, 78, 104, 51, 66, 86, 55, 75, 120, 45, 85, 25, 85, 65, 85, 120, 30, 70, 125, 165, 42, 52, 29, 59, 79, 69, 94, 30, 80, 45, 65, 105, 35, 60, 48, 83, 100, 50, 80, 66, 76, 136, 60, 125, 55, 82, 30, 63, 93, 24, 89, 80, 25, 5, 65, 92, 70, 90, 130, 170, 85, 70, 110, 145, 72, 112, 50, 90, 61, 106, 100, 49, 69, 20, 62, 92, 132, 120, 70, 85, 140, 100, 123, 95, 50, 76, 110, 60, 95, 130, 80, 125, 165, 55, 100, 80, 50, 65, 65, 65, 65, 65, 75, 105, 125, 120, 120, 90, 160, 100, 120, 70, 80, 100, 90, 100, 103, 120, 100, 45, 60, 75, 63, 93, 123, 55, 75, 100, 55, 85, 60, 80, 110, 50, 88, 53, 98, 53, 98, 53, 98, 25, 55, 55, 77, 115, 60, 100, 75, 105, 135, 45, 57, 85, 135, 60, 60, 80, 105, 140, 50, 65, 95, 100, 125, 53, 63, 103, 45, 55, 100, 27, 67, 35, 60, 92, 72, 82, 117, 90, 140, 30, 86, 65, 95, 75, 90, 58, 30, 50, 78, 108, 112, 140, 50, 95, 65, 105, 50, 95, 30, 45, 55, 30, 40, 65, 44, 87, 50, 65, 95, 60, 100, 75, 75, 135, 55, 85, 40, 60, 75, 47, 77, 50, 94, 55, 80, 100, 55, 85, 115, 55, 75, 30, 40, 55, 87, 117, 147, 70, 110, 50, 40, 70, 66, 85, 125, 120, 74, 124, 85, 125, 110, 83, 123, 55, 65, 97, 109, 65, 85, 105, 85, 60, 90, 129, 90, 115, 100, 115, 105, 120, 150, 125, 145, 130, 170, 120, 72, 72, 77, 128, 120, 61, 78, 107, 45, 59, 69, 56, 63, 95, 36, 56, 50, 73, 81, 35, 22, 52, 50, 68, 38, 45, 65, 65, 100, 82, 124, 80, 48, 48, 48, 80, 110, 150, 50, 52, 72, 48, 80, 54, 92, 52, 105, 60, 75, 53, 73, 38, 55, 89, 121, 59, 77, 65, 92, 58, 50, 50, 75, 100, 80, 70, 110, 66, 66, 66, 66, 90, 85, 95, 100, 69, 117, 30, 70, 131, 131, 100, 100, 160, 110, 160, 110], \"y0\": \" \", \"yaxis\": \"y\"}],\n",
              "                        {\"boxmode\": \"group\", \"legend\": {\"tracegroupgap\": 0}, \"template\": {\"data\": {\"bar\": [{\"error_x\": {\"color\": \"#2a3f5f\"}, \"error_y\": {\"color\": \"#2a3f5f\"}, \"marker\": {\"line\": {\"color\": \"#E5ECF6\", \"width\": 0.5}}, \"type\": \"bar\"}], \"barpolar\": [{\"marker\": {\"line\": {\"color\": \"#E5ECF6\", \"width\": 0.5}}, \"type\": \"barpolar\"}], \"carpet\": [{\"aaxis\": {\"endlinecolor\": \"#2a3f5f\", \"gridcolor\": \"white\", \"linecolor\": \"white\", \"minorgridcolor\": \"white\", \"startlinecolor\": \"#2a3f5f\"}, \"baxis\": {\"endlinecolor\": \"#2a3f5f\", \"gridcolor\": \"white\", \"linecolor\": \"white\", \"minorgridcolor\": \"white\", \"startlinecolor\": \"#2a3f5f\"}, \"type\": \"carpet\"}], \"choropleth\": [{\"colorbar\": {\"outlinewidth\": 0, \"ticks\": \"\"}, \"type\": \"choropleth\"}], \"contour\": [{\"colorbar\": {\"outlinewidth\": 0, \"ticks\": \"\"}, \"colorscale\": [[0.0, \"#0d0887\"], [0.1111111111111111, \"#46039f\"], [0.2222222222222222, \"#7201a8\"], [0.3333333333333333, \"#9c179e\"], [0.4444444444444444, \"#bd3786\"], [0.5555555555555556, \"#d8576b\"], [0.6666666666666666, \"#ed7953\"], [0.7777777777777778, \"#fb9f3a\"], [0.8888888888888888, \"#fdca26\"], [1.0, \"#f0f921\"]], \"type\": \"contour\"}], \"contourcarpet\": [{\"colorbar\": {\"outlinewidth\": 0, \"ticks\": \"\"}, \"type\": \"contourcarpet\"}], \"heatmap\": [{\"colorbar\": {\"outlinewidth\": 0, \"ticks\": \"\"}, \"colorscale\": [[0.0, \"#0d0887\"], [0.1111111111111111, \"#46039f\"], [0.2222222222222222, \"#7201a8\"], [0.3333333333333333, \"#9c179e\"], [0.4444444444444444, \"#bd3786\"], [0.5555555555555556, \"#d8576b\"], [0.6666666666666666, \"#ed7953\"], [0.7777777777777778, \"#fb9f3a\"], [0.8888888888888888, \"#fdca26\"], [1.0, \"#f0f921\"]], \"type\": \"heatmap\"}], \"heatmapgl\": [{\"colorbar\": {\"outlinewidth\": 0, \"ticks\": \"\"}, \"colorscale\": [[0.0, \"#0d0887\"], [0.1111111111111111, \"#46039f\"], [0.2222222222222222, \"#7201a8\"], [0.3333333333333333, \"#9c179e\"], [0.4444444444444444, \"#bd3786\"], [0.5555555555555556, \"#d8576b\"], [0.6666666666666666, \"#ed7953\"], [0.7777777777777778, \"#fb9f3a\"], [0.8888888888888888, \"#fdca26\"], [1.0, \"#f0f921\"]], \"type\": \"heatmapgl\"}], \"histogram\": [{\"marker\": {\"colorbar\": {\"outlinewidth\": 0, \"ticks\": \"\"}}, \"type\": \"histogram\"}], \"histogram2d\": [{\"colorbar\": {\"outlinewidth\": 0, \"ticks\": \"\"}, \"colorscale\": [[0.0, \"#0d0887\"], [0.1111111111111111, \"#46039f\"], [0.2222222222222222, \"#7201a8\"], [0.3333333333333333, \"#9c179e\"], [0.4444444444444444, \"#bd3786\"], [0.5555555555555556, \"#d8576b\"], [0.6666666666666666, \"#ed7953\"], [0.7777777777777778, \"#fb9f3a\"], [0.8888888888888888, \"#fdca26\"], [1.0, \"#f0f921\"]], \"type\": \"histogram2d\"}], \"histogram2dcontour\": [{\"colorbar\": {\"outlinewidth\": 0, \"ticks\": \"\"}, \"colorscale\": [[0.0, \"#0d0887\"], [0.1111111111111111, \"#46039f\"], [0.2222222222222222, \"#7201a8\"], [0.3333333333333333, \"#9c179e\"], [0.4444444444444444, \"#bd3786\"], [0.5555555555555556, \"#d8576b\"], [0.6666666666666666, \"#ed7953\"], [0.7777777777777778, \"#fb9f3a\"], [0.8888888888888888, \"#fdca26\"], [1.0, \"#f0f921\"]], \"type\": \"histogram2dcontour\"}], \"mesh3d\": [{\"colorbar\": {\"outlinewidth\": 0, \"ticks\": \"\"}, \"type\": \"mesh3d\"}], \"parcoords\": [{\"line\": {\"colorbar\": {\"outlinewidth\": 0, \"ticks\": \"\"}}, \"type\": \"parcoords\"}], \"pie\": [{\"automargin\": true, \"type\": \"pie\"}], \"scatter\": [{\"marker\": {\"colorbar\": {\"outlinewidth\": 0, \"ticks\": \"\"}}, \"type\": \"scatter\"}], \"scatter3d\": [{\"line\": {\"colorbar\": {\"outlinewidth\": 0, \"ticks\": \"\"}}, \"marker\": {\"colorbar\": {\"outlinewidth\": 0, \"ticks\": \"\"}}, \"type\": \"scatter3d\"}], \"scattercarpet\": [{\"marker\": {\"colorbar\": {\"outlinewidth\": 0, \"ticks\": \"\"}}, \"type\": \"scattercarpet\"}], \"scattergeo\": [{\"marker\": {\"colorbar\": {\"outlinewidth\": 0, \"ticks\": \"\"}}, \"type\": \"scattergeo\"}], \"scattergl\": [{\"marker\": {\"colorbar\": {\"outlinewidth\": 0, \"ticks\": \"\"}}, \"type\": \"scattergl\"}], \"scattermapbox\": [{\"marker\": {\"colorbar\": {\"outlinewidth\": 0, \"ticks\": \"\"}}, \"type\": \"scattermapbox\"}], \"scatterpolar\": [{\"marker\": {\"colorbar\": {\"outlinewidth\": 0, \"ticks\": \"\"}}, \"type\": \"scatterpolar\"}], \"scatterpolargl\": [{\"marker\": {\"colorbar\": {\"outlinewidth\": 0, \"ticks\": \"\"}}, \"type\": \"scatterpolargl\"}], \"scatterternary\": [{\"marker\": {\"colorbar\": {\"outlinewidth\": 0, \"ticks\": \"\"}}, \"type\": \"scatterternary\"}], \"surface\": [{\"colorbar\": {\"outlinewidth\": 0, \"ticks\": \"\"}, \"colorscale\": [[0.0, \"#0d0887\"], [0.1111111111111111, \"#46039f\"], [0.2222222222222222, \"#7201a8\"], [0.3333333333333333, \"#9c179e\"], [0.4444444444444444, \"#bd3786\"], [0.5555555555555556, \"#d8576b\"], [0.6666666666666666, \"#ed7953\"], [0.7777777777777778, \"#fb9f3a\"], [0.8888888888888888, \"#fdca26\"], [1.0, \"#f0f921\"]], \"type\": \"surface\"}], \"table\": [{\"cells\": {\"fill\": {\"color\": \"#EBF0F8\"}, \"line\": {\"color\": \"white\"}}, \"header\": {\"fill\": {\"color\": \"#C8D4E3\"}, \"line\": {\"color\": \"white\"}}, \"type\": \"table\"}]}, \"layout\": {\"annotationdefaults\": {\"arrowcolor\": \"#2a3f5f\", \"arrowhead\": 0, \"arrowwidth\": 1}, \"coloraxis\": {\"colorbar\": {\"outlinewidth\": 0, \"ticks\": \"\"}}, \"colorscale\": {\"diverging\": [[0, \"#8e0152\"], [0.1, \"#c51b7d\"], [0.2, \"#de77ae\"], [0.3, \"#f1b6da\"], [0.4, \"#fde0ef\"], [0.5, \"#f7f7f7\"], [0.6, \"#e6f5d0\"], [0.7, \"#b8e186\"], [0.8, \"#7fbc41\"], [0.9, \"#4d9221\"], [1, \"#276419\"]], \"sequential\": [[0.0, \"#0d0887\"], [0.1111111111111111, \"#46039f\"], [0.2222222222222222, \"#7201a8\"], [0.3333333333333333, \"#9c179e\"], [0.4444444444444444, \"#bd3786\"], [0.5555555555555556, \"#d8576b\"], [0.6666666666666666, \"#ed7953\"], [0.7777777777777778, \"#fb9f3a\"], [0.8888888888888888, \"#fdca26\"], [1.0, \"#f0f921\"]], \"sequentialminus\": [[0.0, \"#0d0887\"], [0.1111111111111111, \"#46039f\"], [0.2222222222222222, \"#7201a8\"], [0.3333333333333333, \"#9c179e\"], [0.4444444444444444, \"#bd3786\"], [0.5555555555555556, \"#d8576b\"], [0.6666666666666666, \"#ed7953\"], [0.7777777777777778, \"#fb9f3a\"], [0.8888888888888888, \"#fdca26\"], [1.0, \"#f0f921\"]]}, \"colorway\": [\"#636efa\", \"#EF553B\", \"#00cc96\", \"#ab63fa\", \"#FFA15A\", \"#19d3f3\", \"#FF6692\", \"#B6E880\", \"#FF97FF\", \"#FECB52\"], \"font\": {\"color\": \"#2a3f5f\"}, \"geo\": {\"bgcolor\": \"white\", \"lakecolor\": \"white\", \"landcolor\": \"#E5ECF6\", \"showlakes\": true, \"showland\": true, \"subunitcolor\": \"white\"}, \"hoverlabel\": {\"align\": \"left\"}, \"hovermode\": \"closest\", \"mapbox\": {\"style\": \"light\"}, \"paper_bgcolor\": \"white\", \"plot_bgcolor\": \"#E5ECF6\", \"polar\": {\"angularaxis\": {\"gridcolor\": \"white\", \"linecolor\": \"white\", \"ticks\": \"\"}, \"bgcolor\": \"#E5ECF6\", \"radialaxis\": {\"gridcolor\": \"white\", \"linecolor\": \"white\", \"ticks\": \"\"}}, \"scene\": {\"xaxis\": {\"backgroundcolor\": \"#E5ECF6\", \"gridcolor\": \"white\", \"gridwidth\": 2, \"linecolor\": \"white\", \"showbackground\": true, \"ticks\": \"\", \"zerolinecolor\": \"white\"}, \"yaxis\": {\"backgroundcolor\": \"#E5ECF6\", \"gridcolor\": \"white\", \"gridwidth\": 2, \"linecolor\": \"white\", \"showbackground\": true, \"ticks\": \"\", \"zerolinecolor\": \"white\"}, \"zaxis\": {\"backgroundcolor\": \"#E5ECF6\", \"gridcolor\": \"white\", \"gridwidth\": 2, \"linecolor\": \"white\", \"showbackground\": true, \"ticks\": \"\", \"zerolinecolor\": \"white\"}}, \"shapedefaults\": {\"line\": {\"color\": \"#2a3f5f\"}}, \"ternary\": {\"aaxis\": {\"gridcolor\": \"white\", \"linecolor\": \"white\", \"ticks\": \"\"}, \"baxis\": {\"gridcolor\": \"white\", \"linecolor\": \"white\", \"ticks\": \"\"}, \"bgcolor\": \"#E5ECF6\", \"caxis\": {\"gridcolor\": \"white\", \"linecolor\": \"white\", \"ticks\": \"\"}}, \"title\": {\"x\": 0.05}, \"xaxis\": {\"automargin\": true, \"gridcolor\": \"white\", \"linecolor\": \"white\", \"ticks\": \"\", \"title\": {\"standoff\": 15}, \"zerolinecolor\": \"white\", \"zerolinewidth\": 2}, \"yaxis\": {\"automargin\": true, \"gridcolor\": \"white\", \"linecolor\": \"white\", \"ticks\": \"\", \"title\": {\"standoff\": 15}, \"zerolinecolor\": \"white\", \"zerolinewidth\": 2}}}, \"title\": {\"text\": \"Box plot of Attack\"}, \"width\": 950, \"xaxis\": {\"anchor\": \"y\", \"domain\": [0.0, 1.0]}, \"yaxis\": {\"anchor\": \"x\", \"domain\": [0.0, 1.0], \"title\": {\"text\": \"Attack\"}}},\n",
              "                        {\"responsive\": true}\n",
              "                    ).then(function(){\n",
              "                            \n",
              "var gd = document.getElementById('c59ec40a-80be-4b66-975e-58b3eaa68f85');\n",
              "var x = new MutationObserver(function (mutations, observer) {{\n",
              "        var display = window.getComputedStyle(gd).display;\n",
              "        if (!display || display === 'none') {{\n",
              "            console.log([gd, 'removed!']);\n",
              "            Plotly.purge(gd);\n",
              "            observer.disconnect();\n",
              "        }}\n",
              "}});\n",
              "\n",
              "// Listen for the removal of the full notebook cells\n",
              "var notebookContainer = gd.closest('#notebook-container');\n",
              "if (notebookContainer) {{\n",
              "    x.observe(notebookContainer, {childList: true});\n",
              "}}\n",
              "\n",
              "// Listen for the clearing of the current output cell\n",
              "var outputEl = gd.closest('.output');\n",
              "if (outputEl) {{\n",
              "    x.observe(outputEl, {childList: true});\n",
              "}}\n",
              "\n",
              "                        })\n",
              "                };\n",
              "                \n",
              "            </script>\n",
              "        </div>\n",
              "</body>\n",
              "</html>"
            ]
          },
          "metadata": {}
        }
      ]
    },
    {
      "cell_type": "markdown",
      "metadata": {
        "id": "CKsqXUdXMWAc"
      },
      "source": [
        "# EJERCICIO 2 - PUNTO 2"
      ]
    },
    {
      "cell_type": "markdown",
      "metadata": {
        "id": "yQZ0YGEkMZrc"
      },
      "source": [
        "#Grafique el ataque de los pokemones con un grafico boxplot para:\n",
        "#Los pokemones agrupados por Legendary"
      ]
    },
    {
      "cell_type": "code",
      "metadata": {
        "colab": {
          "base_uri": "https://localhost:8080/"
        },
        "id": "EOrm2y6yMqwX",
        "outputId": "08fedbc5-8cae-4cd7-a162-9daf5571ec2c"
      },
      "source": [
        "df[df['LEGENDARY DESCRIP']==\"Legendario\"].Attack.describe()"
      ],
      "execution_count": 22,
      "outputs": [
        {
          "output_type": "execute_result",
          "data": {
            "text/plain": [
              "count     65.000000\n",
              "mean     116.676923\n",
              "std       30.348037\n",
              "min       50.000000\n",
              "25%      100.000000\n",
              "50%      110.000000\n",
              "75%      131.000000\n",
              "max      190.000000\n",
              "Name: Attack, dtype: float64"
            ]
          },
          "metadata": {},
          "execution_count": 22
        }
      ]
    },
    {
      "cell_type": "code",
      "metadata": {
        "colab": {
          "base_uri": "https://localhost:8080/"
        },
        "id": "VH1Q1Pb6N_eD",
        "outputId": "cca85395-7bcc-49e5-f4eb-7b9de60b9a8f"
      },
      "source": [
        "df[df['LEGENDARY DESCRIP']==\"no Legendario\"].Attack.describe()"
      ],
      "execution_count": 23,
      "outputs": [
        {
          "output_type": "execute_result",
          "data": {
            "text/plain": [
              "count    735.000000\n",
              "mean      75.669388\n",
              "std       30.490153\n",
              "min        5.000000\n",
              "25%       54.500000\n",
              "50%       72.000000\n",
              "75%       95.000000\n",
              "max      185.000000\n",
              "Name: Attack, dtype: float64"
            ]
          },
          "metadata": {},
          "execution_count": 23
        }
      ]
    },
    {
      "cell_type": "code",
      "metadata": {
        "colab": {
          "base_uri": "https://localhost:8080/",
          "height": 541
        },
        "id": "Y5NgUz8XPVCM",
        "outputId": "b4f0c0d6-2f16-45ad-d040-9bd89a0a3b71"
      },
      "source": [
        "import plotly.express as px\n",
        "fig = px.box(df, x=\"LEGENDARY DESCRIP\", y=\"Attack\",title=\"Box plot of Legendary\",notched=True,color=\"LEGENDARY DESCRIP\",hover_data=[\"LEGENDARY DESCRIP\"])\n",
        "fig.show()"
      ],
      "execution_count": 24,
      "outputs": [
        {
          "output_type": "display_data",
          "data": {
            "text/html": [
              "<html>\n",
              "<head><meta charset=\"utf-8\" /></head>\n",
              "<body>\n",
              "    <div>\n",
              "            <script src=\"https://cdnjs.cloudflare.com/ajax/libs/mathjax/2.7.5/MathJax.js?config=TeX-AMS-MML_SVG\"></script><script type=\"text/javascript\">if (window.MathJax) {MathJax.Hub.Config({SVG: {font: \"STIX-Web\"}});}</script>\n",
              "                <script type=\"text/javascript\">window.PlotlyConfig = {MathJaxConfig: 'local'};</script>\n",
              "        <script src=\"https://cdn.plot.ly/plotly-latest.min.js\"></script>    \n",
              "            <div id=\"ffd275d4-4ba4-4036-9218-fb3a918cb552\" class=\"plotly-graph-div\" style=\"height:525px; width:100%;\"></div>\n",
              "            <script type=\"text/javascript\">\n",
              "                \n",
              "                    window.PLOTLYENV=window.PLOTLYENV || {};\n",
              "                    \n",
              "                if (document.getElementById(\"ffd275d4-4ba4-4036-9218-fb3a918cb552\")) {\n",
              "                    Plotly.newPlot(\n",
              "                        'ffd275d4-4ba4-4036-9218-fb3a918cb552',\n",
              "                        [{\"alignmentgroup\": \"True\", \"customdata\": [[\"no Legendario\"], [\"no Legendario\"], [\"no Legendario\"], [\"no Legendario\"], [\"no Legendario\"], [\"no Legendario\"], [\"no Legendario\"], [\"no Legendario\"], [\"no Legendario\"], [\"no Legendario\"], [\"no Legendario\"], [\"no Legendario\"], [\"no Legendario\"], [\"no Legendario\"], [\"no Legendario\"], [\"no Legendario\"], [\"no Legendario\"], [\"no Legendario\"], [\"no Legendario\"], [\"no Legendario\"], [\"no Legendario\"], [\"no Legendario\"], [\"no Legendario\"], [\"no Legendario\"], [\"no Legendario\"], [\"no Legendario\"], [\"no Legendario\"], [\"no Legendario\"], [\"no Legendario\"], [\"no Legendario\"], [\"no Legendario\"], [\"no Legendario\"], [\"no Legendario\"], [\"no Legendario\"], [\"no Legendario\"], [\"no Legendario\"], [\"no Legendario\"], [\"no Legendario\"], [\"no Legendario\"], [\"no Legendario\"], [\"no Legendario\"], [\"no Legendario\"], [\"no Legendario\"], [\"no Legendario\"], [\"no Legendario\"], [\"no Legendario\"], [\"no Legendario\"], [\"no Legendario\"], [\"no Legendario\"], [\"no Legendario\"], [\"no Legendario\"], [\"no Legendario\"], [\"no Legendario\"], [\"no Legendario\"], [\"no Legendario\"], [\"no Legendario\"], [\"no Legendario\"], [\"no Legendario\"], [\"no Legendario\"], [\"no Legendario\"], [\"no Legendario\"], [\"no Legendario\"], [\"no Legendario\"], [\"no Legendario\"], [\"no Legendario\"], [\"no Legendario\"], [\"no Legendario\"], [\"no Legendario\"], [\"no Legendario\"], [\"no Legendario\"], [\"no Legendario\"], [\"no Legendario\"], [\"no Legendario\"], [\"no Legendario\"], [\"no Legendario\"], [\"no Legendario\"], [\"no Legendario\"], [\"no Legendario\"], [\"no Legendario\"], [\"no Legendario\"], [\"no Legendario\"], [\"no Legendario\"], [\"no Legendario\"], [\"no Legendario\"], [\"no Legendario\"], [\"no Legendario\"], [\"no Legendario\"], [\"no Legendario\"], [\"no Legendario\"], [\"no Legendario\"], [\"no Legendario\"], [\"no Legendario\"], [\"no Legendario\"], [\"no Legendario\"], [\"no Legendario\"], [\"no Legendario\"], [\"no Legendario\"], [\"no Legendario\"], [\"no Legendario\"], [\"no Legendario\"], [\"no Legendario\"], [\"no Legendario\"], [\"no Legendario\"], [\"no Legendario\"], [\"no Legendario\"], [\"no Legendario\"], [\"no Legendario\"], [\"no Legendario\"], [\"no Legendario\"], [\"no Legendario\"], [\"no Legendario\"], [\"no Legendario\"], [\"no Legendario\"], [\"no Legendario\"], [\"no Legendario\"], [\"no Legendario\"], [\"no Legendario\"], [\"no Legendario\"], [\"no Legendario\"], [\"no Legendario\"], [\"no Legendario\"], [\"no Legendario\"], [\"no Legendario\"], [\"no Legendario\"], [\"no Legendario\"], [\"no Legendario\"], [\"no Legendario\"], [\"no Legendario\"], [\"no Legendario\"], [\"no Legendario\"], [\"no Legendario\"], [\"no Legendario\"], [\"no Legendario\"], [\"no Legendario\"], [\"no Legendario\"], [\"no Legendario\"], [\"no Legendario\"], [\"no Legendario\"], [\"no Legendario\"], [\"no Legendario\"], [\"no Legendario\"], [\"no Legendario\"], [\"no Legendario\"], [\"no Legendario\"], [\"no Legendario\"], [\"no Legendario\"], [\"no Legendario\"], [\"no Legendario\"], [\"no Legendario\"], [\"no Legendario\"], [\"no Legendario\"], [\"no Legendario\"], [\"no Legendario\"], [\"no Legendario\"], [\"no Legendario\"], [\"no Legendario\"], [\"no Legendario\"], [\"no Legendario\"], [\"no Legendario\"], [\"no Legendario\"], [\"no Legendario\"], [\"no Legendario\"], [\"no Legendario\"], [\"no Legendario\"], [\"no Legendario\"], [\"no Legendario\"], [\"no Legendario\"], [\"no Legendario\"], [\"no Legendario\"], [\"no Legendario\"], [\"no Legendario\"], [\"no Legendario\"], [\"no Legendario\"], [\"no Legendario\"], [\"no Legendario\"], [\"no Legendario\"], [\"no Legendario\"], [\"no Legendario\"], [\"no Legendario\"], [\"no Legendario\"], [\"no Legendario\"], [\"no Legendario\"], [\"no Legendario\"], [\"no Legendario\"], [\"no Legendario\"], [\"no Legendario\"], [\"no Legendario\"], [\"no Legendario\"], [\"no Legendario\"], [\"no Legendario\"], [\"no Legendario\"], [\"no Legendario\"], [\"no Legendario\"], [\"no Legendario\"], [\"no Legendario\"], [\"no Legendario\"], [\"no Legendario\"], [\"no Legendario\"], [\"no Legendario\"], [\"no Legendario\"], [\"no Legendario\"], [\"no Legendario\"], [\"no Legendario\"], [\"no Legendario\"], [\"no Legendario\"], [\"no Legendario\"], [\"no Legendario\"], [\"no Legendario\"], [\"no Legendario\"], [\"no Legendario\"], [\"no Legendario\"], [\"no Legendario\"], [\"no Legendario\"], [\"no Legendario\"], [\"no Legendario\"], [\"no Legendario\"], [\"no Legendario\"], [\"no Legendario\"], [\"no Legendario\"], [\"no Legendario\"], [\"no Legendario\"], [\"no Legendario\"], [\"no Legendario\"], [\"no Legendario\"], [\"no Legendario\"], [\"no Legendario\"], [\"no Legendario\"], [\"no Legendario\"], [\"no Legendario\"], [\"no Legendario\"], [\"no Legendario\"], [\"no Legendario\"], [\"no Legendario\"], [\"no Legendario\"], [\"no Legendario\"], [\"no Legendario\"], [\"no Legendario\"], [\"no Legendario\"], [\"no Legendario\"], [\"no Legendario\"], [\"no Legendario\"], [\"no Legendario\"], [\"no Legendario\"], [\"no Legendario\"], [\"no Legendario\"], [\"no Legendario\"], [\"no Legendario\"], [\"no Legendario\"], [\"no Legendario\"], [\"no Legendario\"], [\"no Legendario\"], [\"no Legendario\"], [\"no Legendario\"], [\"no Legendario\"], [\"no Legendario\"], [\"no Legendario\"], [\"no Legendario\"], [\"no Legendario\"], [\"no Legendario\"], [\"no Legendario\"], [\"no Legendario\"], [\"no Legendario\"], [\"no Legendario\"], [\"no Legendario\"], [\"no Legendario\"], [\"no Legendario\"], [\"no Legendario\"], [\"no Legendario\"], [\"no Legendario\"], [\"no Legendario\"], [\"no Legendario\"], [\"no Legendario\"], [\"no Legendario\"], [\"no Legendario\"], [\"no Legendario\"], [\"no Legendario\"], [\"no Legendario\"], [\"no Legendario\"], [\"no Legendario\"], [\"no Legendario\"], [\"no Legendario\"], [\"no Legendario\"], [\"no Legendario\"], [\"no Legendario\"], [\"no Legendario\"], [\"no Legendario\"], [\"no Legendario\"], [\"no Legendario\"], [\"no Legendario\"], [\"no Legendario\"], [\"no Legendario\"], [\"no Legendario\"], [\"no Legendario\"], [\"no Legendario\"], [\"no Legendario\"], [\"no Legendario\"], [\"no Legendario\"], [\"no Legendario\"], [\"no Legendario\"], [\"no Legendario\"], [\"no Legendario\"], [\"no Legendario\"], [\"no Legendario\"], [\"no Legendario\"], [\"no Legendario\"], [\"no Legendario\"], [\"no Legendario\"], [\"no Legendario\"], [\"no Legendario\"], [\"no Legendario\"], [\"no Legendario\"], [\"no Legendario\"], [\"no Legendario\"], [\"no Legendario\"], [\"no Legendario\"], [\"no Legendario\"], [\"no Legendario\"], [\"no Legendario\"], [\"no Legendario\"], [\"no Legendario\"], [\"no Legendario\"], [\"no Legendario\"], [\"no Legendario\"], [\"no Legendario\"], [\"no Legendario\"], [\"no Legendario\"], [\"no Legendario\"], [\"no Legendario\"], [\"no Legendario\"], [\"no Legendario\"], [\"no Legendario\"], [\"no Legendario\"], [\"no Legendario\"], [\"no Legendario\"], [\"no Legendario\"], [\"no Legendario\"], [\"no Legendario\"], [\"no Legendario\"], [\"no Legendario\"], [\"no Legendario\"], [\"no Legendario\"], [\"no Legendario\"], [\"no Legendario\"], [\"no Legendario\"], [\"no Legendario\"], [\"no Legendario\"], [\"no Legendario\"], [\"no Legendario\"], [\"no Legendario\"], [\"no Legendario\"], [\"no Legendario\"], [\"no Legendario\"], [\"no Legendario\"], [\"no Legendario\"], [\"no Legendario\"], [\"no Legendario\"], [\"no Legendario\"], [\"no Legendario\"], [\"no Legendario\"], [\"no Legendario\"], [\"no Legendario\"], [\"no Legendario\"], [\"no Legendario\"], [\"no Legendario\"], [\"no Legendario\"], [\"no Legendario\"], [\"no Legendario\"], [\"no Legendario\"], [\"no Legendario\"], [\"no Legendario\"], [\"no Legendario\"], [\"no Legendario\"], [\"no Legendario\"], [\"no Legendario\"], [\"no Legendario\"], [\"no Legendario\"], [\"no Legendario\"], [\"no Legendario\"], [\"no Legendario\"], [\"no Legendario\"], [\"no Legendario\"], [\"no Legendario\"], [\"no Legendario\"], [\"no Legendario\"], [\"no Legendario\"], [\"no Legendario\"], [\"no Legendario\"], [\"no Legendario\"], [\"no Legendario\"], [\"no Legendario\"], [\"no Legendario\"], [\"no Legendario\"], [\"no Legendario\"], [\"no Legendario\"], [\"no Legendario\"], [\"no Legendario\"], [\"no Legendario\"], [\"no Legendario\"], [\"no Legendario\"], [\"no Legendario\"], [\"no Legendario\"], [\"no Legendario\"], [\"no Legendario\"], [\"no Legendario\"], [\"no Legendario\"], [\"no Legendario\"], [\"no Legendario\"], [\"no Legendario\"], [\"no Legendario\"], [\"no Legendario\"], [\"no Legendario\"], [\"no Legendario\"], [\"no Legendario\"], [\"no Legendario\"], [\"no Legendario\"], [\"no Legendario\"], [\"no Legendario\"], [\"no Legendario\"], [\"no Legendario\"], [\"no Legendario\"], [\"no Legendario\"], [\"no Legendario\"], [\"no Legendario\"], [\"no Legendario\"], [\"no Legendario\"], [\"no Legendario\"], [\"no Legendario\"], [\"no Legendario\"], [\"no Legendario\"], [\"no Legendario\"], [\"no Legendario\"], [\"no Legendario\"], [\"no Legendario\"], [\"no Legendario\"], [\"no Legendario\"], [\"no Legendario\"], [\"no Legendario\"], [\"no Legendario\"], [\"no Legendario\"], [\"no Legendario\"], [\"no Legendario\"], [\"no Legendario\"], [\"no Legendario\"], [\"no Legendario\"], [\"no Legendario\"], [\"no Legendario\"], [\"no Legendario\"], [\"no Legendario\"], [\"no Legendario\"], [\"no Legendario\"], [\"no Legendario\"], [\"no Legendario\"], [\"no Legendario\"], [\"no Legendario\"], [\"no Legendario\"], [\"no Legendario\"], [\"no Legendario\"], [\"no Legendario\"], [\"no Legendario\"], [\"no Legendario\"], [\"no Legendario\"], [\"no Legendario\"], [\"no Legendario\"], [\"no Legendario\"], [\"no Legendario\"], [\"no Legendario\"], [\"no Legendario\"], [\"no Legendario\"], [\"no Legendario\"], [\"no Legendario\"], [\"no Legendario\"], [\"no Legendario\"], [\"no Legendario\"], [\"no Legendario\"], [\"no Legendario\"], [\"no Legendario\"], [\"no Legendario\"], [\"no Legendario\"], [\"no Legendario\"], [\"no Legendario\"], [\"no Legendario\"], [\"no Legendario\"], [\"no Legendario\"], [\"no Legendario\"], [\"no Legendario\"], [\"no Legendario\"], [\"no Legendario\"], [\"no Legendario\"], [\"no Legendario\"], [\"no Legendario\"], [\"no Legendario\"], [\"no Legendario\"], [\"no Legendario\"], [\"no Legendario\"], [\"no Legendario\"], [\"no Legendario\"], [\"no Legendario\"], [\"no Legendario\"], [\"no Legendario\"], [\"no Legendario\"], [\"no Legendario\"], [\"no Legendario\"], [\"no Legendario\"], [\"no Legendario\"], [\"no Legendario\"], [\"no Legendario\"], [\"no Legendario\"], [\"no Legendario\"], [\"no Legendario\"], [\"no Legendario\"], [\"no Legendario\"], [\"no Legendario\"], [\"no Legendario\"], [\"no Legendario\"], [\"no Legendario\"], [\"no Legendario\"], [\"no Legendario\"], [\"no Legendario\"], [\"no Legendario\"], [\"no Legendario\"], [\"no Legendario\"], [\"no Legendario\"], [\"no Legendario\"], [\"no Legendario\"], [\"no Legendario\"], [\"no Legendario\"], [\"no Legendario\"], [\"no Legendario\"], [\"no Legendario\"], [\"no Legendario\"], [\"no Legendario\"], [\"no Legendario\"], [\"no Legendario\"], [\"no Legendario\"], [\"no Legendario\"], [\"no Legendario\"], [\"no Legendario\"], [\"no Legendario\"], [\"no Legendario\"], [\"no Legendario\"], [\"no Legendario\"], [\"no Legendario\"], [\"no Legendario\"], [\"no Legendario\"], [\"no Legendario\"], [\"no Legendario\"], [\"no Legendario\"], [\"no Legendario\"], [\"no Legendario\"], [\"no Legendario\"], [\"no Legendario\"], [\"no Legendario\"], [\"no Legendario\"], [\"no Legendario\"], [\"no Legendario\"], [\"no Legendario\"], [\"no Legendario\"], [\"no Legendario\"], [\"no Legendario\"], [\"no Legendario\"], [\"no Legendario\"], [\"no Legendario\"], [\"no Legendario\"], [\"no Legendario\"], [\"no Legendario\"], [\"no Legendario\"], [\"no Legendario\"], [\"no Legendario\"], [\"no Legendario\"], [\"no Legendario\"], [\"no Legendario\"], [\"no Legendario\"], [\"no Legendario\"], [\"no Legendario\"], [\"no Legendario\"], [\"no Legendario\"], [\"no Legendario\"], [\"no Legendario\"], [\"no Legendario\"], [\"no Legendario\"], [\"no Legendario\"], [\"no Legendario\"], [\"no Legendario\"], [\"no Legendario\"], [\"no Legendario\"], [\"no Legendario\"], [\"no Legendario\"], [\"no Legendario\"], [\"no Legendario\"], [\"no Legendario\"], [\"no Legendario\"], [\"no Legendario\"], [\"no Legendario\"], [\"no Legendario\"], [\"no Legendario\"], [\"no Legendario\"], [\"no Legendario\"], [\"no Legendario\"], [\"no Legendario\"], [\"no Legendario\"], [\"no Legendario\"], [\"no Legendario\"], [\"no Legendario\"], [\"no Legendario\"], [\"no Legendario\"], [\"no Legendario\"], [\"no Legendario\"], [\"no Legendario\"], [\"no Legendario\"], [\"no Legendario\"], [\"no Legendario\"], [\"no Legendario\"], [\"no Legendario\"], [\"no Legendario\"], [\"no Legendario\"], [\"no Legendario\"], [\"no Legendario\"], [\"no Legendario\"], [\"no Legendario\"], [\"no Legendario\"], [\"no Legendario\"], [\"no Legendario\"], [\"no Legendario\"], [\"no Legendario\"], [\"no Legendario\"], [\"no Legendario\"], [\"no Legendario\"], [\"no Legendario\"], [\"no Legendario\"], [\"no Legendario\"], [\"no Legendario\"], [\"no Legendario\"], [\"no Legendario\"], [\"no Legendario\"], [\"no Legendario\"], [\"no Legendario\"], [\"no Legendario\"], [\"no Legendario\"], [\"no Legendario\"], [\"no Legendario\"], [\"no Legendario\"], [\"no Legendario\"], [\"no Legendario\"], [\"no Legendario\"], [\"no Legendario\"], [\"no Legendario\"], [\"no Legendario\"], [\"no Legendario\"], [\"no Legendario\"], [\"no Legendario\"], [\"no Legendario\"], [\"no Legendario\"], [\"no Legendario\"], [\"no Legendario\"], [\"no Legendario\"], [\"no Legendario\"], [\"no Legendario\"], [\"no Legendario\"], [\"no Legendario\"], [\"no Legendario\"], [\"no Legendario\"], [\"no Legendario\"], [\"no Legendario\"], [\"no Legendario\"], [\"no Legendario\"], [\"no Legendario\"], [\"no Legendario\"], [\"no Legendario\"], [\"no Legendario\"], [\"no Legendario\"], [\"no Legendario\"], [\"no Legendario\"], [\"no Legendario\"], [\"no Legendario\"], [\"no Legendario\"], [\"no Legendario\"], [\"no Legendario\"], [\"no Legendario\"], [\"no Legendario\"], [\"no Legendario\"], [\"no Legendario\"], [\"no Legendario\"], [\"no Legendario\"], [\"no Legendario\"], [\"no Legendario\"], [\"no Legendario\"], [\"no Legendario\"], [\"no Legendario\"], [\"no Legendario\"], [\"no Legendario\"], [\"no Legendario\"], [\"no Legendario\"], [\"no Legendario\"], [\"no Legendario\"], [\"no Legendario\"], [\"no Legendario\"], [\"no Legendario\"], [\"no Legendario\"], [\"no Legendario\"], [\"no Legendario\"], [\"no Legendario\"], [\"no Legendario\"], [\"no Legendario\"], [\"no Legendario\"], [\"no Legendario\"], [\"no Legendario\"], [\"no Legendario\"], [\"no Legendario\"], [\"no Legendario\"], [\"no Legendario\"], [\"no Legendario\"], [\"no Legendario\"], [\"no Legendario\"], [\"no Legendario\"], [\"no Legendario\"], [\"no Legendario\"], [\"no Legendario\"], [\"no Legendario\"], [\"no Legendario\"], [\"no Legendario\"], [\"no Legendario\"], [\"no Legendario\"], [\"no Legendario\"], [\"no Legendario\"], [\"no Legendario\"], [\"no Legendario\"], [\"no Legendario\"], [\"no Legendario\"], [\"no Legendario\"], [\"no Legendario\"], [\"no Legendario\"], [\"no Legendario\"], [\"no Legendario\"], [\"no Legendario\"], [\"no Legendario\"]], \"hoverlabel\": {\"namelength\": 0}, \"hovertemplate\": \"LEGENDARY DESCRIP=%{customdata[0]}<br>Attack=%{y}\", \"legendgroup\": \"LEGENDARY DESCRIP=no Legendario\", \"marker\": {\"color\": \"#636efa\"}, \"name\": \"LEGENDARY DESCRIP=no Legendario\", \"notched\": true, \"offsetgroup\": \"LEGENDARY DESCRIP=no Legendario\", \"orientation\": \"v\", \"showlegend\": true, \"type\": \"box\", \"x\": [\"no Legendario\", \"no Legendario\", \"no Legendario\", \"no Legendario\", \"no Legendario\", \"no Legendario\", \"no Legendario\", \"no Legendario\", \"no Legendario\", \"no Legendario\", \"no Legendario\", \"no Legendario\", \"no Legendario\", \"no Legendario\", \"no Legendario\", \"no Legendario\", \"no Legendario\", \"no Legendario\", \"no Legendario\", \"no Legendario\", \"no Legendario\", \"no Legendario\", \"no Legendario\", \"no Legendario\", \"no Legendario\", \"no Legendario\", \"no Legendario\", \"no Legendario\", \"no Legendario\", \"no Legendario\", \"no Legendario\", \"no Legendario\", \"no Legendario\", \"no Legendario\", \"no Legendario\", \"no Legendario\", \"no Legendario\", \"no Legendario\", \"no Legendario\", \"no Legendario\", \"no Legendario\", \"no Legendario\", \"no Legendario\", \"no Legendario\", \"no Legendario\", \"no Legendario\", \"no Legendario\", \"no Legendario\", \"no Legendario\", \"no Legendario\", \"no Legendario\", \"no Legendario\", \"no Legendario\", \"no Legendario\", \"no Legendario\", \"no Legendario\", \"no Legendario\", \"no Legendario\", \"no Legendario\", \"no Legendario\", \"no Legendario\", \"no Legendario\", \"no Legendario\", \"no Legendario\", \"no Legendario\", \"no Legendario\", \"no Legendario\", \"no Legendario\", \"no Legendario\", \"no Legendario\", \"no Legendario\", \"no Legendario\", \"no Legendario\", \"no Legendario\", \"no Legendario\", \"no Legendario\", \"no Legendario\", \"no Legendario\", \"no Legendario\", \"no Legendario\", \"no Legendario\", \"no Legendario\", \"no Legendario\", \"no Legendario\", \"no Legendario\", \"no Legendario\", \"no Legendario\", \"no Legendario\", \"no Legendario\", \"no Legendario\", \"no Legendario\", \"no Legendario\", \"no Legendario\", \"no Legendario\", \"no Legendario\", \"no Legendario\", \"no Legendario\", \"no Legendario\", \"no Legendario\", \"no Legendario\", \"no Legendario\", \"no Legendario\", \"no Legendario\", \"no Legendario\", \"no Legendario\", \"no Legendario\", \"no Legendario\", \"no Legendario\", \"no Legendario\", \"no Legendario\", \"no Legendario\", \"no Legendario\", \"no Legendario\", \"no Legendario\", \"no Legendario\", \"no Legendario\", \"no Legendario\", \"no Legendario\", \"no Legendario\", \"no Legendario\", \"no Legendario\", \"no Legendario\", \"no Legendario\", \"no Legendario\", \"no Legendario\", \"no Legendario\", \"no Legendario\", \"no Legendario\", \"no Legendario\", \"no Legendario\", \"no Legendario\", \"no Legendario\", \"no Legendario\", \"no Legendario\", \"no Legendario\", \"no Legendario\", \"no Legendario\", \"no Legendario\", \"no Legendario\", \"no Legendario\", \"no Legendario\", \"no Legendario\", \"no Legendario\", \"no Legendario\", \"no Legendario\", \"no Legendario\", \"no Legendario\", \"no Legendario\", \"no Legendario\", \"no Legendario\", \"no Legendario\", \"no Legendario\", \"no Legendario\", \"no Legendario\", \"no Legendario\", \"no Legendario\", \"no Legendario\", \"no Legendario\", \"no Legendario\", \"no Legendario\", \"no Legendario\", \"no Legendario\", \"no Legendario\", \"no Legendario\", \"no Legendario\", \"no Legendario\", \"no Legendario\", \"no Legendario\", \"no Legendario\", \"no Legendario\", \"no Legendario\", \"no Legendario\", \"no Legendario\", \"no Legendario\", \"no Legendario\", \"no Legendario\", \"no Legendario\", \"no Legendario\", \"no Legendario\", \"no Legendario\", \"no Legendario\", \"no Legendario\", \"no Legendario\", \"no Legendario\", \"no Legendario\", \"no Legendario\", \"no Legendario\", \"no Legendario\", \"no Legendario\", \"no Legendario\", \"no Legendario\", \"no Legendario\", \"no Legendario\", \"no Legendario\", \"no Legendario\", \"no Legendario\", \"no Legendario\", \"no Legendario\", \"no Legendario\", \"no Legendario\", \"no Legendario\", \"no Legendario\", \"no Legendario\", \"no Legendario\", \"no Legendario\", \"no Legendario\", \"no Legendario\", \"no Legendario\", \"no Legendario\", \"no Legendario\", \"no Legendario\", \"no Legendario\", \"no Legendario\", \"no Legendario\", \"no Legendario\", \"no Legendario\", \"no Legendario\", \"no Legendario\", \"no Legendario\", \"no Legendario\", \"no Legendario\", \"no Legendario\", \"no Legendario\", \"no Legendario\", \"no Legendario\", \"no Legendario\", \"no Legendario\", \"no Legendario\", \"no Legendario\", \"no Legendario\", \"no Legendario\", \"no Legendario\", \"no Legendario\", \"no Legendario\", \"no Legendario\", \"no Legendario\", \"no Legendario\", \"no Legendario\", \"no Legendario\", \"no Legendario\", \"no Legendario\", \"no Legendario\", \"no Legendario\", \"no Legendario\", \"no Legendario\", \"no Legendario\", \"no Legendario\", \"no Legendario\", \"no Legendario\", \"no Legendario\", \"no Legendario\", \"no Legendario\", \"no Legendario\", \"no Legendario\", \"no Legendario\", \"no Legendario\", \"no Legendario\", \"no Legendario\", \"no Legendario\", \"no Legendario\", \"no Legendario\", \"no Legendario\", \"no Legendario\", \"no Legendario\", \"no Legendario\", \"no Legendario\", \"no Legendario\", \"no Legendario\", \"no Legendario\", \"no Legendario\", \"no Legendario\", \"no Legendario\", \"no Legendario\", \"no Legendario\", \"no Legendario\", \"no Legendario\", \"no Legendario\", \"no Legendario\", \"no Legendario\", \"no Legendario\", \"no Legendario\", \"no Legendario\", \"no Legendario\", \"no Legendario\", \"no Legendario\", \"no Legendario\", \"no Legendario\", \"no Legendario\", \"no Legendario\", \"no Legendario\", \"no Legendario\", \"no Legendario\", \"no Legendario\", \"no Legendario\", \"no Legendario\", \"no Legendario\", \"no Legendario\", \"no Legendario\", \"no Legendario\", \"no Legendario\", \"no Legendario\", \"no Legendario\", \"no Legendario\", \"no Legendario\", \"no Legendario\", \"no Legendario\", \"no Legendario\", \"no Legendario\", \"no Legendario\", \"no Legendario\", \"no Legendario\", \"no Legendario\", \"no Legendario\", \"no Legendario\", \"no Legendario\", \"no Legendario\", \"no Legendario\", \"no Legendario\", \"no Legendario\", \"no Legendario\", \"no Legendario\", \"no Legendario\", \"no Legendario\", \"no Legendario\", \"no Legendario\", \"no Legendario\", \"no Legendario\", \"no Legendario\", \"no Legendario\", \"no Legendario\", \"no Legendario\", \"no Legendario\", \"no Legendario\", \"no Legendario\", \"no Legendario\", \"no Legendario\", \"no Legendario\", \"no Legendario\", \"no Legendario\", \"no Legendario\", \"no Legendario\", \"no Legendario\", \"no Legendario\", \"no Legendario\", \"no Legendario\", \"no Legendario\", \"no Legendario\", \"no Legendario\", \"no Legendario\", \"no Legendario\", \"no Legendario\", \"no Legendario\", \"no Legendario\", \"no Legendario\", \"no Legendario\", \"no Legendario\", \"no Legendario\", \"no Legendario\", \"no Legendario\", \"no Legendario\", \"no Legendario\", \"no Legendario\", \"no Legendario\", \"no Legendario\", \"no Legendario\", \"no Legendario\", \"no Legendario\", \"no Legendario\", \"no Legendario\", \"no Legendario\", \"no Legendario\", \"no Legendario\", \"no Legendario\", \"no Legendario\", \"no Legendario\", \"no Legendario\", \"no Legendario\", \"no Legendario\", \"no Legendario\", \"no Legendario\", \"no Legendario\", \"no Legendario\", \"no Legendario\", \"no Legendario\", \"no Legendario\", \"no Legendario\", \"no Legendario\", \"no Legendario\", \"no Legendario\", \"no Legendario\", \"no Legendario\", \"no Legendario\", \"no Legendario\", \"no Legendario\", \"no Legendario\", \"no Legendario\", \"no Legendario\", \"no Legendario\", \"no Legendario\", \"no Legendario\", \"no Legendario\", \"no Legendario\", \"no Legendario\", \"no Legendario\", \"no Legendario\", \"no Legendario\", \"no Legendario\", \"no Legendario\", \"no Legendario\", \"no Legendario\", \"no Legendario\", \"no Legendario\", \"no Legendario\", \"no Legendario\", \"no Legendario\", \"no Legendario\", \"no Legendario\", \"no Legendario\", \"no Legendario\", \"no Legendario\", \"no Legendario\", \"no Legendario\", \"no Legendario\", \"no Legendario\", \"no Legendario\", \"no Legendario\", \"no Legendario\", \"no Legendario\", \"no Legendario\", \"no Legendario\", \"no Legendario\", \"no Legendario\", \"no Legendario\", \"no Legendario\", \"no Legendario\", \"no Legendario\", \"no Legendario\", \"no Legendario\", \"no Legendario\", \"no Legendario\", \"no Legendario\", \"no Legendario\", \"no Legendario\", \"no Legendario\", \"no Legendario\", \"no Legendario\", \"no Legendario\", \"no Legendario\", \"no Legendario\", \"no Legendario\", \"no Legendario\", \"no Legendario\", \"no Legendario\", \"no Legendario\", \"no Legendario\", \"no Legendario\", \"no Legendario\", \"no Legendario\", \"no Legendario\", \"no Legendario\", \"no Legendario\", \"no Legendario\", \"no Legendario\", \"no Legendario\", \"no Legendario\", \"no Legendario\", \"no Legendario\", \"no Legendario\", \"no Legendario\", \"no Legendario\", \"no Legendario\", \"no Legendario\", \"no Legendario\", \"no Legendario\", \"no Legendario\", \"no Legendario\", \"no Legendario\", \"no Legendario\", \"no Legendario\", \"no Legendario\", \"no Legendario\", \"no Legendario\", \"no Legendario\", \"no Legendario\", \"no Legendario\", \"no Legendario\", \"no Legendario\", \"no Legendario\", \"no Legendario\", \"no Legendario\", \"no Legendario\", \"no Legendario\", \"no Legendario\", \"no Legendario\", \"no Legendario\", \"no Legendario\", \"no Legendario\", \"no Legendario\", \"no Legendario\", \"no Legendario\", \"no Legendario\", \"no Legendario\", \"no Legendario\", \"no Legendario\", \"no Legendario\", \"no Legendario\", \"no Legendario\", \"no Legendario\", \"no Legendario\", \"no Legendario\", \"no Legendario\", \"no Legendario\", \"no Legendario\", \"no Legendario\", \"no Legendario\", \"no Legendario\", \"no Legendario\", \"no Legendario\", \"no Legendario\", \"no Legendario\", \"no Legendario\", \"no Legendario\", \"no Legendario\", \"no Legendario\", \"no Legendario\", \"no Legendario\", \"no Legendario\", \"no Legendario\", \"no Legendario\", \"no Legendario\", \"no Legendario\", \"no Legendario\", \"no Legendario\", \"no Legendario\", \"no Legendario\", \"no Legendario\", \"no Legendario\", \"no Legendario\", \"no Legendario\", \"no Legendario\", \"no Legendario\", \"no Legendario\", \"no Legendario\", \"no Legendario\", \"no Legendario\", \"no Legendario\", \"no Legendario\", \"no Legendario\", \"no Legendario\", \"no Legendario\", \"no Legendario\", \"no Legendario\", \"no Legendario\", \"no Legendario\", \"no Legendario\", \"no Legendario\", \"no Legendario\", \"no Legendario\", \"no Legendario\", \"no Legendario\", \"no Legendario\", \"no Legendario\", \"no Legendario\", \"no Legendario\", \"no Legendario\", \"no Legendario\", \"no Legendario\", \"no Legendario\", \"no Legendario\", \"no Legendario\", \"no Legendario\", \"no Legendario\", \"no Legendario\", \"no Legendario\", \"no Legendario\", \"no Legendario\", \"no Legendario\", \"no Legendario\", \"no Legendario\", \"no Legendario\", \"no Legendario\", \"no Legendario\", \"no Legendario\", \"no Legendario\", \"no Legendario\", \"no Legendario\", \"no Legendario\", \"no Legendario\", \"no Legendario\", \"no Legendario\", \"no Legendario\", \"no Legendario\", \"no Legendario\", \"no Legendario\", \"no Legendario\", \"no Legendario\", \"no Legendario\", \"no Legendario\", \"no Legendario\", \"no Legendario\", \"no Legendario\", \"no Legendario\", \"no Legendario\", \"no Legendario\", \"no Legendario\", \"no Legendario\", \"no Legendario\", \"no Legendario\", \"no Legendario\", \"no Legendario\", \"no Legendario\", \"no Legendario\", \"no Legendario\", \"no Legendario\", \"no Legendario\", \"no Legendario\", \"no Legendario\", \"no Legendario\", \"no Legendario\", \"no Legendario\", \"no Legendario\", \"no Legendario\", \"no Legendario\", \"no Legendario\", \"no Legendario\", \"no Legendario\", \"no Legendario\", \"no Legendario\", \"no Legendario\", \"no Legendario\", \"no Legendario\", \"no Legendario\", \"no Legendario\", \"no Legendario\", \"no Legendario\", \"no Legendario\", \"no Legendario\", \"no Legendario\", \"no Legendario\", \"no Legendario\", \"no Legendario\", \"no Legendario\", \"no Legendario\", \"no Legendario\", \"no Legendario\", \"no Legendario\", \"no Legendario\", \"no Legendario\", \"no Legendario\", \"no Legendario\", \"no Legendario\", \"no Legendario\", \"no Legendario\", \"no Legendario\", \"no Legendario\", \"no Legendario\", \"no Legendario\", \"no Legendario\", \"no Legendario\", \"no Legendario\", \"no Legendario\", \"no Legendario\", \"no Legendario\", \"no Legendario\", \"no Legendario\", \"no Legendario\", \"no Legendario\", \"no Legendario\", \"no Legendario\", \"no Legendario\", \"no Legendario\", \"no Legendario\", \"no Legendario\", \"no Legendario\", \"no Legendario\", \"no Legendario\", \"no Legendario\", \"no Legendario\", \"no Legendario\", \"no Legendario\", \"no Legendario\", \"no Legendario\", \"no Legendario\", \"no Legendario\", \"no Legendario\", \"no Legendario\", \"no Legendario\", \"no Legendario\", \"no Legendario\", \"no Legendario\", \"no Legendario\", \"no Legendario\", \"no Legendario\", \"no Legendario\", \"no Legendario\", \"no Legendario\", \"no Legendario\", \"no Legendario\", \"no Legendario\", \"no Legendario\", \"no Legendario\", \"no Legendario\", \"no Legendario\", \"no Legendario\", \"no Legendario\", \"no Legendario\", \"no Legendario\", \"no Legendario\", \"no Legendario\", \"no Legendario\", \"no Legendario\", \"no Legendario\", \"no Legendario\", \"no Legendario\", \"no Legendario\", \"no Legendario\", \"no Legendario\", \"no Legendario\", \"no Legendario\", \"no Legendario\", \"no Legendario\", \"no Legendario\", \"no Legendario\", \"no Legendario\", \"no Legendario\", \"no Legendario\", \"no Legendario\", \"no Legendario\", \"no Legendario\", \"no Legendario\", \"no Legendario\", \"no Legendario\", \"no Legendario\", \"no Legendario\", \"no Legendario\"], \"x0\": \" \", \"xaxis\": \"x\", \"y\": [49, 62, 82, 100, 52, 64, 84, 130, 104, 48, 63, 83, 103, 30, 20, 45, 35, 25, 90, 150, 45, 60, 80, 80, 56, 81, 60, 90, 60, 85, 55, 90, 75, 100, 47, 62, 92, 57, 72, 102, 45, 70, 41, 76, 45, 70, 45, 80, 50, 65, 80, 70, 95, 55, 65, 55, 80, 45, 70, 52, 82, 80, 105, 70, 110, 50, 65, 95, 20, 35, 50, 50, 80, 100, 130, 75, 90, 105, 40, 70, 80, 95, 120, 85, 100, 65, 75, 75, 35, 60, 65, 85, 110, 45, 70, 80, 105, 65, 95, 35, 50, 65, 65, 45, 48, 73, 105, 130, 30, 50, 40, 95, 50, 80, 120, 105, 55, 65, 90, 85, 130, 5, 55, 95, 125, 40, 65, 67, 92, 45, 75, 45, 110, 50, 83, 95, 125, 155, 100, 10, 125, 155, 85, 48, 55, 65, 65, 130, 60, 40, 60, 80, 115, 105, 135, 110, 64, 84, 134, 100, 49, 62, 82, 52, 64, 84, 65, 80, 105, 46, 76, 30, 50, 20, 35, 60, 90, 90, 38, 58, 40, 25, 30, 20, 40, 50, 75, 40, 55, 75, 95, 80, 20, 50, 100, 75, 35, 45, 55, 70, 30, 75, 65, 45, 85, 65, 65, 85, 75, 60, 72, 33, 80, 65, 90, 70, 75, 85, 125, 80, 120, 95, 130, 150, 10, 125, 185, 95, 80, 130, 40, 50, 50, 100, 55, 65, 105, 55, 40, 80, 60, 90, 90, 95, 60, 120, 80, 95, 20, 35, 95, 30, 63, 75, 80, 10, 64, 84, 134, 164, 100, 45, 65, 85, 110, 60, 85, 120, 160, 70, 85, 110, 150, 55, 90, 30, 70, 45, 35, 70, 35, 50, 30, 50, 70, 40, 70, 100, 55, 85, 30, 50, 25, 35, 65, 85, 30, 60, 40, 130, 60, 80, 160, 45, 90, 90, 51, 71, 91, 60, 120, 20, 45, 45, 65, 75, 85, 85, 105, 70, 90, 110, 140, 40, 60, 100, 45, 75, 75, 50, 40, 73, 47, 60, 43, 73, 90, 120, 140, 70, 90, 60, 100, 120, 85, 25, 45, 60, 100, 70, 100, 85, 115, 40, 70, 110, 115, 100, 55, 95, 48, 78, 80, 120, 40, 70, 41, 81, 95, 125, 15, 60, 70, 90, 75, 115, 165, 40, 70, 68, 50, 130, 150, 23, 50, 80, 120, 40, 60, 80, 64, 104, 84, 90, 30, 75, 95, 135, 145, 55, 75, 135, 145, 68, 89, 109, 58, 78, 104, 51, 66, 86, 55, 75, 120, 45, 85, 25, 85, 65, 85, 120, 30, 70, 125, 165, 42, 52, 29, 59, 79, 69, 94, 30, 80, 45, 65, 105, 35, 60, 48, 83, 100, 50, 80, 66, 76, 136, 60, 125, 55, 82, 30, 63, 93, 24, 89, 80, 25, 5, 65, 92, 70, 90, 130, 170, 85, 70, 110, 145, 72, 112, 50, 90, 61, 106, 100, 49, 69, 20, 62, 92, 132, 120, 70, 85, 140, 100, 123, 95, 50, 76, 110, 60, 95, 130, 80, 125, 165, 55, 100, 80, 50, 65, 65, 65, 65, 65, 70, 80, 100, 45, 60, 75, 63, 93, 123, 55, 75, 100, 55, 85, 60, 80, 110, 50, 88, 53, 98, 53, 98, 53, 98, 25, 55, 55, 77, 115, 60, 100, 75, 105, 135, 45, 57, 85, 135, 60, 60, 80, 105, 140, 50, 65, 95, 100, 125, 53, 63, 103, 45, 55, 100, 27, 67, 35, 60, 92, 72, 82, 117, 90, 140, 30, 86, 65, 95, 75, 90, 58, 30, 50, 78, 108, 112, 140, 50, 95, 65, 105, 50, 95, 30, 45, 55, 30, 40, 65, 44, 87, 50, 65, 95, 60, 100, 75, 75, 135, 55, 85, 40, 60, 75, 47, 77, 50, 94, 55, 80, 100, 55, 85, 115, 55, 75, 30, 40, 55, 87, 117, 147, 70, 110, 50, 40, 70, 66, 85, 125, 120, 74, 124, 85, 125, 110, 83, 123, 55, 65, 97, 109, 65, 85, 105, 85, 60, 72, 72, 77, 128, 120, 61, 78, 107, 45, 59, 69, 56, 63, 95, 36, 56, 50, 73, 81, 35, 22, 52, 50, 68, 38, 45, 65, 65, 100, 82, 124, 80, 48, 48, 48, 80, 110, 150, 50, 52, 72, 48, 80, 54, 92, 52, 105, 60, 75, 53, 73, 38, 55, 89, 121, 59, 77, 65, 92, 58, 50, 50, 75, 100, 80, 70, 110, 66, 66, 66, 66, 90, 85, 95, 100, 69, 117, 30, 70], \"y0\": \" \", \"yaxis\": \"y\"}, {\"alignmentgroup\": \"True\", \"customdata\": [[\"Legendario\"], [\"Legendario\"], [\"Legendario\"], [\"Legendario\"], [\"Legendario\"], [\"Legendario\"], [\"Legendario\"], [\"Legendario\"], [\"Legendario\"], [\"Legendario\"], [\"Legendario\"], [\"Legendario\"], [\"Legendario\"], [\"Legendario\"], [\"Legendario\"], [\"Legendario\"], [\"Legendario\"], [\"Legendario\"], [\"Legendario\"], [\"Legendario\"], [\"Legendario\"], [\"Legendario\"], [\"Legendario\"], [\"Legendario\"], [\"Legendario\"], [\"Legendario\"], [\"Legendario\"], [\"Legendario\"], [\"Legendario\"], [\"Legendario\"], [\"Legendario\"], [\"Legendario\"], [\"Legendario\"], [\"Legendario\"], [\"Legendario\"], [\"Legendario\"], [\"Legendario\"], [\"Legendario\"], [\"Legendario\"], [\"Legendario\"], [\"Legendario\"], [\"Legendario\"], [\"Legendario\"], [\"Legendario\"], [\"Legendario\"], [\"Legendario\"], [\"Legendario\"], [\"Legendario\"], [\"Legendario\"], [\"Legendario\"], [\"Legendario\"], [\"Legendario\"], [\"Legendario\"], [\"Legendario\"], [\"Legendario\"], [\"Legendario\"], [\"Legendario\"], [\"Legendario\"], [\"Legendario\"], [\"Legendario\"], [\"Legendario\"], [\"Legendario\"], [\"Legendario\"], [\"Legendario\"], [\"Legendario\"]], \"hoverlabel\": {\"namelength\": 0}, \"hovertemplate\": \"LEGENDARY DESCRIP=%{customdata[0]}<br>Attack=%{y}\", \"legendgroup\": \"LEGENDARY DESCRIP=Legendario\", \"marker\": {\"color\": \"#EF553B\"}, \"name\": \"LEGENDARY DESCRIP=Legendario\", \"notched\": true, \"offsetgroup\": \"LEGENDARY DESCRIP=Legendario\", \"orientation\": \"v\", \"showlegend\": true, \"type\": \"box\", \"x\": [\"Legendario\", \"Legendario\", \"Legendario\", \"Legendario\", \"Legendario\", \"Legendario\", \"Legendario\", \"Legendario\", \"Legendario\", \"Legendario\", \"Legendario\", \"Legendario\", \"Legendario\", \"Legendario\", \"Legendario\", \"Legendario\", \"Legendario\", \"Legendario\", \"Legendario\", \"Legendario\", \"Legendario\", \"Legendario\", \"Legendario\", \"Legendario\", \"Legendario\", \"Legendario\", \"Legendario\", \"Legendario\", \"Legendario\", \"Legendario\", \"Legendario\", \"Legendario\", \"Legendario\", \"Legendario\", \"Legendario\", \"Legendario\", \"Legendario\", \"Legendario\", \"Legendario\", \"Legendario\", \"Legendario\", \"Legendario\", \"Legendario\", \"Legendario\", \"Legendario\", \"Legendario\", \"Legendario\", \"Legendario\", \"Legendario\", \"Legendario\", \"Legendario\", \"Legendario\", \"Legendario\", \"Legendario\", \"Legendario\", \"Legendario\", \"Legendario\", \"Legendario\", \"Legendario\", \"Legendario\", \"Legendario\", \"Legendario\", \"Legendario\", \"Legendario\", \"Legendario\"], \"x0\": \" \", \"xaxis\": \"x\", \"y\": [85, 90, 100, 110, 190, 150, 85, 115, 75, 90, 130, 100, 50, 75, 80, 100, 90, 130, 100, 150, 150, 180, 150, 180, 100, 150, 180, 70, 95, 75, 105, 125, 120, 120, 90, 160, 100, 120, 90, 100, 103, 120, 100, 90, 129, 90, 115, 100, 115, 105, 120, 150, 125, 145, 130, 170, 120, 131, 131, 100, 100, 160, 110, 160, 110], \"y0\": \" \", \"yaxis\": \"y\"}],\n",
              "                        {\"boxmode\": \"group\", \"legend\": {\"tracegroupgap\": 0}, \"template\": {\"data\": {\"bar\": [{\"error_x\": {\"color\": \"#2a3f5f\"}, \"error_y\": {\"color\": \"#2a3f5f\"}, \"marker\": {\"line\": {\"color\": \"#E5ECF6\", \"width\": 0.5}}, \"type\": \"bar\"}], \"barpolar\": [{\"marker\": {\"line\": {\"color\": \"#E5ECF6\", \"width\": 0.5}}, \"type\": \"barpolar\"}], \"carpet\": [{\"aaxis\": {\"endlinecolor\": \"#2a3f5f\", \"gridcolor\": \"white\", \"linecolor\": \"white\", \"minorgridcolor\": \"white\", \"startlinecolor\": \"#2a3f5f\"}, \"baxis\": {\"endlinecolor\": \"#2a3f5f\", \"gridcolor\": \"white\", \"linecolor\": \"white\", \"minorgridcolor\": \"white\", \"startlinecolor\": \"#2a3f5f\"}, \"type\": \"carpet\"}], \"choropleth\": [{\"colorbar\": {\"outlinewidth\": 0, \"ticks\": \"\"}, \"type\": \"choropleth\"}], \"contour\": [{\"colorbar\": {\"outlinewidth\": 0, \"ticks\": \"\"}, \"colorscale\": [[0.0, \"#0d0887\"], [0.1111111111111111, \"#46039f\"], [0.2222222222222222, \"#7201a8\"], [0.3333333333333333, \"#9c179e\"], [0.4444444444444444, \"#bd3786\"], [0.5555555555555556, \"#d8576b\"], [0.6666666666666666, \"#ed7953\"], [0.7777777777777778, \"#fb9f3a\"], [0.8888888888888888, \"#fdca26\"], [1.0, \"#f0f921\"]], \"type\": \"contour\"}], \"contourcarpet\": [{\"colorbar\": {\"outlinewidth\": 0, \"ticks\": \"\"}, \"type\": \"contourcarpet\"}], \"heatmap\": [{\"colorbar\": {\"outlinewidth\": 0, \"ticks\": \"\"}, \"colorscale\": [[0.0, \"#0d0887\"], [0.1111111111111111, \"#46039f\"], [0.2222222222222222, \"#7201a8\"], [0.3333333333333333, \"#9c179e\"], [0.4444444444444444, \"#bd3786\"], [0.5555555555555556, \"#d8576b\"], [0.6666666666666666, \"#ed7953\"], [0.7777777777777778, \"#fb9f3a\"], [0.8888888888888888, \"#fdca26\"], [1.0, \"#f0f921\"]], \"type\": \"heatmap\"}], \"heatmapgl\": [{\"colorbar\": {\"outlinewidth\": 0, \"ticks\": \"\"}, \"colorscale\": [[0.0, \"#0d0887\"], [0.1111111111111111, \"#46039f\"], [0.2222222222222222, \"#7201a8\"], [0.3333333333333333, \"#9c179e\"], [0.4444444444444444, \"#bd3786\"], [0.5555555555555556, \"#d8576b\"], [0.6666666666666666, \"#ed7953\"], [0.7777777777777778, \"#fb9f3a\"], [0.8888888888888888, \"#fdca26\"], [1.0, \"#f0f921\"]], \"type\": \"heatmapgl\"}], \"histogram\": [{\"marker\": {\"colorbar\": {\"outlinewidth\": 0, \"ticks\": \"\"}}, \"type\": \"histogram\"}], \"histogram2d\": [{\"colorbar\": {\"outlinewidth\": 0, \"ticks\": \"\"}, \"colorscale\": [[0.0, \"#0d0887\"], [0.1111111111111111, \"#46039f\"], [0.2222222222222222, \"#7201a8\"], [0.3333333333333333, \"#9c179e\"], [0.4444444444444444, \"#bd3786\"], [0.5555555555555556, \"#d8576b\"], [0.6666666666666666, \"#ed7953\"], [0.7777777777777778, \"#fb9f3a\"], [0.8888888888888888, \"#fdca26\"], [1.0, \"#f0f921\"]], \"type\": \"histogram2d\"}], \"histogram2dcontour\": [{\"colorbar\": {\"outlinewidth\": 0, \"ticks\": \"\"}, \"colorscale\": [[0.0, \"#0d0887\"], [0.1111111111111111, \"#46039f\"], [0.2222222222222222, \"#7201a8\"], [0.3333333333333333, \"#9c179e\"], [0.4444444444444444, \"#bd3786\"], [0.5555555555555556, \"#d8576b\"], [0.6666666666666666, \"#ed7953\"], [0.7777777777777778, \"#fb9f3a\"], [0.8888888888888888, \"#fdca26\"], [1.0, \"#f0f921\"]], \"type\": \"histogram2dcontour\"}], \"mesh3d\": [{\"colorbar\": {\"outlinewidth\": 0, \"ticks\": \"\"}, \"type\": \"mesh3d\"}], \"parcoords\": [{\"line\": {\"colorbar\": {\"outlinewidth\": 0, \"ticks\": \"\"}}, \"type\": \"parcoords\"}], \"pie\": [{\"automargin\": true, \"type\": \"pie\"}], \"scatter\": [{\"marker\": {\"colorbar\": {\"outlinewidth\": 0, \"ticks\": \"\"}}, \"type\": \"scatter\"}], \"scatter3d\": [{\"line\": {\"colorbar\": {\"outlinewidth\": 0, \"ticks\": \"\"}}, \"marker\": {\"colorbar\": {\"outlinewidth\": 0, \"ticks\": \"\"}}, \"type\": \"scatter3d\"}], \"scattercarpet\": [{\"marker\": {\"colorbar\": {\"outlinewidth\": 0, \"ticks\": \"\"}}, \"type\": \"scattercarpet\"}], \"scattergeo\": [{\"marker\": {\"colorbar\": {\"outlinewidth\": 0, \"ticks\": \"\"}}, \"type\": \"scattergeo\"}], \"scattergl\": [{\"marker\": {\"colorbar\": {\"outlinewidth\": 0, \"ticks\": \"\"}}, \"type\": \"scattergl\"}], \"scattermapbox\": [{\"marker\": {\"colorbar\": {\"outlinewidth\": 0, \"ticks\": \"\"}}, \"type\": \"scattermapbox\"}], \"scatterpolar\": [{\"marker\": {\"colorbar\": {\"outlinewidth\": 0, \"ticks\": \"\"}}, \"type\": \"scatterpolar\"}], \"scatterpolargl\": [{\"marker\": {\"colorbar\": {\"outlinewidth\": 0, \"ticks\": \"\"}}, \"type\": \"scatterpolargl\"}], \"scatterternary\": [{\"marker\": {\"colorbar\": {\"outlinewidth\": 0, \"ticks\": \"\"}}, \"type\": \"scatterternary\"}], \"surface\": [{\"colorbar\": {\"outlinewidth\": 0, \"ticks\": \"\"}, \"colorscale\": [[0.0, \"#0d0887\"], [0.1111111111111111, \"#46039f\"], [0.2222222222222222, \"#7201a8\"], [0.3333333333333333, \"#9c179e\"], [0.4444444444444444, \"#bd3786\"], [0.5555555555555556, \"#d8576b\"], [0.6666666666666666, \"#ed7953\"], [0.7777777777777778, \"#fb9f3a\"], [0.8888888888888888, \"#fdca26\"], [1.0, \"#f0f921\"]], \"type\": \"surface\"}], \"table\": [{\"cells\": {\"fill\": {\"color\": \"#EBF0F8\"}, \"line\": {\"color\": \"white\"}}, \"header\": {\"fill\": {\"color\": \"#C8D4E3\"}, \"line\": {\"color\": \"white\"}}, \"type\": \"table\"}]}, \"layout\": {\"annotationdefaults\": {\"arrowcolor\": \"#2a3f5f\", \"arrowhead\": 0, \"arrowwidth\": 1}, \"coloraxis\": {\"colorbar\": {\"outlinewidth\": 0, \"ticks\": \"\"}}, \"colorscale\": {\"diverging\": [[0, \"#8e0152\"], [0.1, \"#c51b7d\"], [0.2, \"#de77ae\"], [0.3, \"#f1b6da\"], [0.4, \"#fde0ef\"], [0.5, \"#f7f7f7\"], [0.6, \"#e6f5d0\"], [0.7, \"#b8e186\"], [0.8, \"#7fbc41\"], [0.9, \"#4d9221\"], [1, \"#276419\"]], \"sequential\": [[0.0, \"#0d0887\"], [0.1111111111111111, \"#46039f\"], [0.2222222222222222, \"#7201a8\"], [0.3333333333333333, \"#9c179e\"], [0.4444444444444444, \"#bd3786\"], [0.5555555555555556, \"#d8576b\"], [0.6666666666666666, \"#ed7953\"], [0.7777777777777778, \"#fb9f3a\"], [0.8888888888888888, \"#fdca26\"], [1.0, \"#f0f921\"]], \"sequentialminus\": [[0.0, \"#0d0887\"], [0.1111111111111111, \"#46039f\"], [0.2222222222222222, \"#7201a8\"], [0.3333333333333333, \"#9c179e\"], [0.4444444444444444, \"#bd3786\"], [0.5555555555555556, \"#d8576b\"], [0.6666666666666666, \"#ed7953\"], [0.7777777777777778, \"#fb9f3a\"], [0.8888888888888888, \"#fdca26\"], [1.0, \"#f0f921\"]]}, \"colorway\": [\"#636efa\", \"#EF553B\", \"#00cc96\", \"#ab63fa\", \"#FFA15A\", \"#19d3f3\", \"#FF6692\", \"#B6E880\", \"#FF97FF\", \"#FECB52\"], \"font\": {\"color\": \"#2a3f5f\"}, \"geo\": {\"bgcolor\": \"white\", \"lakecolor\": \"white\", \"landcolor\": \"#E5ECF6\", \"showlakes\": true, \"showland\": true, \"subunitcolor\": \"white\"}, \"hoverlabel\": {\"align\": \"left\"}, \"hovermode\": \"closest\", \"mapbox\": {\"style\": \"light\"}, \"paper_bgcolor\": \"white\", \"plot_bgcolor\": \"#E5ECF6\", \"polar\": {\"angularaxis\": {\"gridcolor\": \"white\", \"linecolor\": \"white\", \"ticks\": \"\"}, \"bgcolor\": \"#E5ECF6\", \"radialaxis\": {\"gridcolor\": \"white\", \"linecolor\": \"white\", \"ticks\": \"\"}}, \"scene\": {\"xaxis\": {\"backgroundcolor\": \"#E5ECF6\", \"gridcolor\": \"white\", \"gridwidth\": 2, \"linecolor\": \"white\", \"showbackground\": true, \"ticks\": \"\", \"zerolinecolor\": \"white\"}, \"yaxis\": {\"backgroundcolor\": \"#E5ECF6\", \"gridcolor\": \"white\", \"gridwidth\": 2, \"linecolor\": \"white\", \"showbackground\": true, \"ticks\": \"\", \"zerolinecolor\": \"white\"}, \"zaxis\": {\"backgroundcolor\": \"#E5ECF6\", \"gridcolor\": \"white\", \"gridwidth\": 2, \"linecolor\": \"white\", \"showbackground\": true, \"ticks\": \"\", \"zerolinecolor\": \"white\"}}, \"shapedefaults\": {\"line\": {\"color\": \"#2a3f5f\"}}, \"ternary\": {\"aaxis\": {\"gridcolor\": \"white\", \"linecolor\": \"white\", \"ticks\": \"\"}, \"baxis\": {\"gridcolor\": \"white\", \"linecolor\": \"white\", \"ticks\": \"\"}, \"bgcolor\": \"#E5ECF6\", \"caxis\": {\"gridcolor\": \"white\", \"linecolor\": \"white\", \"ticks\": \"\"}}, \"title\": {\"x\": 0.05}, \"xaxis\": {\"automargin\": true, \"gridcolor\": \"white\", \"linecolor\": \"white\", \"ticks\": \"\", \"title\": {\"standoff\": 15}, \"zerolinecolor\": \"white\", \"zerolinewidth\": 2}, \"yaxis\": {\"automargin\": true, \"gridcolor\": \"white\", \"linecolor\": \"white\", \"ticks\": \"\", \"title\": {\"standoff\": 15}, \"zerolinecolor\": \"white\", \"zerolinewidth\": 2}}}, \"title\": {\"text\": \"Box plot of Legendary\"}, \"xaxis\": {\"anchor\": \"y\", \"categoryarray\": [\"no Legendario\", \"Legendario\"], \"categoryorder\": \"array\", \"domain\": [0.0, 1.0], \"title\": {\"text\": \"LEGENDARY DESCRIP\"}}, \"yaxis\": {\"anchor\": \"x\", \"domain\": [0.0, 1.0], \"title\": {\"text\": \"Attack\"}}},\n",
              "                        {\"responsive\": true}\n",
              "                    ).then(function(){\n",
              "                            \n",
              "var gd = document.getElementById('ffd275d4-4ba4-4036-9218-fb3a918cb552');\n",
              "var x = new MutationObserver(function (mutations, observer) {{\n",
              "        var display = window.getComputedStyle(gd).display;\n",
              "        if (!display || display === 'none') {{\n",
              "            console.log([gd, 'removed!']);\n",
              "            Plotly.purge(gd);\n",
              "            observer.disconnect();\n",
              "        }}\n",
              "}});\n",
              "\n",
              "// Listen for the removal of the full notebook cells\n",
              "var notebookContainer = gd.closest('#notebook-container');\n",
              "if (notebookContainer) {{\n",
              "    x.observe(notebookContainer, {childList: true});\n",
              "}}\n",
              "\n",
              "// Listen for the clearing of the current output cell\n",
              "var outputEl = gd.closest('.output');\n",
              "if (outputEl) {{\n",
              "    x.observe(outputEl, {childList: true});\n",
              "}}\n",
              "\n",
              "                        })\n",
              "                };\n",
              "                \n",
              "            </script>\n",
              "        </div>\n",
              "</body>\n",
              "</html>"
            ]
          },
          "metadata": {}
        }
      ]
    },
    {
      "cell_type": "markdown",
      "metadata": {
        "id": "IYGyUZNNQui6"
      },
      "source": [
        "# EJERCICIO 2 - PUNTO 3"
      ]
    },
    {
      "cell_type": "markdown",
      "metadata": {
        "id": "ziRyCyvVQu6B"
      },
      "source": [
        "#Grafique el ataque de los pokemones con un grafico boxplot para:\n",
        "#Los pokemones agrupados por Type 1"
      ]
    },
    {
      "cell_type": "code",
      "metadata": {
        "colab": {
          "base_uri": "https://localhost:8080/",
          "height": 541
        },
        "id": "IFH3JLy1Q-cJ",
        "outputId": "3a73ed3d-897f-4bf4-94bc-e34686e8acc6"
      },
      "source": [
        "import plotly.express as px\n",
        "fig = px.box(df, x=\"Type 1\", y=\"Attack\",title=\"Box plot of Type 1\")\n",
        "fig.show()"
      ],
      "execution_count": 25,
      "outputs": [
        {
          "output_type": "display_data",
          "data": {
            "text/html": [
              "<html>\n",
              "<head><meta charset=\"utf-8\" /></head>\n",
              "<body>\n",
              "    <div>\n",
              "            <script src=\"https://cdnjs.cloudflare.com/ajax/libs/mathjax/2.7.5/MathJax.js?config=TeX-AMS-MML_SVG\"></script><script type=\"text/javascript\">if (window.MathJax) {MathJax.Hub.Config({SVG: {font: \"STIX-Web\"}});}</script>\n",
              "                <script type=\"text/javascript\">window.PlotlyConfig = {MathJaxConfig: 'local'};</script>\n",
              "        <script src=\"https://cdn.plot.ly/plotly-latest.min.js\"></script>    \n",
              "            <div id=\"c33c692d-68c8-4ce9-b190-c6da2fb660fb\" class=\"plotly-graph-div\" style=\"height:525px; width:100%;\"></div>\n",
              "            <script type=\"text/javascript\">\n",
              "                \n",
              "                    window.PLOTLYENV=window.PLOTLYENV || {};\n",
              "                    \n",
              "                if (document.getElementById(\"c33c692d-68c8-4ce9-b190-c6da2fb660fb\")) {\n",
              "                    Plotly.newPlot(\n",
              "                        'c33c692d-68c8-4ce9-b190-c6da2fb660fb',\n",
              "                        [{\"alignmentgroup\": \"True\", \"hoverlabel\": {\"namelength\": 0}, \"hovertemplate\": \"Type 1=%{x}<br>Attack=%{y}\", \"legendgroup\": \"\", \"marker\": {\"color\": \"#636efa\"}, \"name\": \"\", \"notched\": false, \"offsetgroup\": \"\", \"orientation\": \"v\", \"showlegend\": false, \"type\": \"box\", \"x\": [\"Grass\", \"Grass\", \"Grass\", \"Grass\", \"Fire\", \"Fire\", \"Fire\", \"Fire\", \"Fire\", \"Water\", \"Water\", \"Water\", \"Water\", \"Bug\", \"Bug\", \"Bug\", \"Bug\", \"Bug\", \"Bug\", \"Bug\", \"Normal\", \"Normal\", \"Normal\", \"Normal\", \"Normal\", \"Normal\", \"Normal\", \"Normal\", \"Poison\", \"Poison\", \"Electric\", \"Electric\", \"Ground\", \"Ground\", \"Poison\", \"Poison\", \"Poison\", \"Poison\", \"Poison\", \"Poison\", \"Fairy\", \"Fairy\", \"Fire\", \"Fire\", \"Normal\", \"Normal\", \"Poison\", \"Poison\", \"Grass\", \"Grass\", \"Grass\", \"Bug\", \"Bug\", \"Bug\", \"Bug\", \"Ground\", \"Ground\", \"Normal\", \"Normal\", \"Water\", \"Water\", \"Fighting\", \"Fighting\", \"Fire\", \"Fire\", \"Water\", \"Water\", \"Water\", \"Psychic\", \"Psychic\", \"Psychic\", \"Psychic\", \"Fighting\", \"Fighting\", \"Fighting\", \"Grass\", \"Grass\", \"Grass\", \"Water\", \"Water\", \"Rock\", \"Rock\", \"Rock\", \"Fire\", \"Fire\", \"Water\", \"Water\", \"Water\", \"Electric\", \"Electric\", \"Normal\", \"Normal\", \"Normal\", \"Water\", \"Water\", \"Poison\", \"Poison\", \"Water\", \"Water\", \"Ghost\", \"Ghost\", \"Ghost\", \"Ghost\", \"Rock\", \"Psychic\", \"Psychic\", \"Water\", \"Water\", \"Electric\", \"Electric\", \"Grass\", \"Grass\", \"Ground\", \"Ground\", \"Fighting\", \"Fighting\", \"Normal\", \"Poison\", \"Poison\", \"Ground\", \"Ground\", \"Normal\", \"Grass\", \"Normal\", \"Normal\", \"Water\", \"Water\", \"Water\", \"Water\", \"Water\", \"Water\", \"Psychic\", \"Bug\", \"Ice\", \"Electric\", \"Fire\", \"Bug\", \"Bug\", \"Normal\", \"Water\", \"Water\", \"Water\", \"Water\", \"Normal\", \"Normal\", \"Water\", \"Electric\", \"Fire\", \"Normal\", \"Rock\", \"Rock\", \"Rock\", \"Rock\", \"Rock\", \"Rock\", \"Normal\", \"Ice\", \"Electric\", \"Fire\", \"Dragon\", \"Dragon\", \"Dragon\", \"Psychic\", \"Psychic\", \"Psychic\", \"Psychic\", \"Grass\", \"Grass\", \"Grass\", \"Fire\", \"Fire\", \"Fire\", \"Water\", \"Water\", \"Water\", \"Normal\", \"Normal\", \"Normal\", \"Normal\", \"Bug\", \"Bug\", \"Bug\", \"Bug\", \"Poison\", \"Water\", \"Water\", \"Electric\", \"Fairy\", \"Normal\", \"Fairy\", \"Fairy\", \"Psychic\", \"Psychic\", \"Electric\", \"Electric\", \"Electric\", \"Electric\", \"Grass\", \"Water\", \"Water\", \"Rock\", \"Water\", \"Grass\", \"Grass\", \"Grass\", \"Normal\", \"Grass\", \"Grass\", \"Bug\", \"Water\", \"Water\", \"Psychic\", \"Dark\", \"Dark\", \"Water\", \"Ghost\", \"Psychic\", \"Psychic\", \"Normal\", \"Bug\", \"Bug\", \"Normal\", \"Ground\", \"Steel\", \"Steel\", \"Fairy\", \"Fairy\", \"Water\", \"Bug\", \"Bug\", \"Bug\", \"Bug\", \"Bug\", \"Dark\", \"Normal\", \"Normal\", \"Fire\", \"Fire\", \"Ice\", \"Ice\", \"Water\", \"Water\", \"Water\", \"Ice\", \"Water\", \"Steel\", \"Dark\", \"Dark\", \"Dark\", \"Water\", \"Ground\", \"Ground\", \"Normal\", \"Normal\", \"Normal\", \"Fighting\", \"Fighting\", \"Ice\", \"Electric\", \"Fire\", \"Normal\", \"Normal\", \"Electric\", \"Fire\", \"Water\", \"Rock\", \"Rock\", \"Rock\", \"Rock\", \"Psychic\", \"Fire\", \"Psychic\", \"Grass\", \"Grass\", \"Grass\", \"Grass\", \"Fire\", \"Fire\", \"Fire\", \"Fire\", \"Water\", \"Water\", \"Water\", \"Water\", \"Dark\", \"Dark\", \"Normal\", \"Normal\", \"Bug\", \"Bug\", \"Bug\", \"Bug\", \"Bug\", \"Water\", \"Water\", \"Water\", \"Grass\", \"Grass\", \"Grass\", \"Normal\", \"Normal\", \"Water\", \"Water\", \"Psychic\", \"Psychic\", \"Psychic\", \"Psychic\", \"Bug\", \"Bug\", \"Grass\", \"Grass\", \"Normal\", \"Normal\", \"Normal\", \"Bug\", \"Bug\", \"Bug\", \"Normal\", \"Normal\", \"Normal\", \"Fighting\", \"Fighting\", \"Normal\", \"Rock\", \"Normal\", \"Normal\", \"Dark\", \"Dark\", \"Steel\", \"Steel\", \"Steel\", \"Steel\", \"Steel\", \"Steel\", \"Fighting\", \"Fighting\", \"Fighting\", \"Electric\", \"Electric\", \"Electric\", \"Electric\", \"Electric\", \"Bug\", \"Bug\", \"Grass\", \"Poison\", \"Poison\", \"Water\", \"Water\", \"Water\", \"Water\", \"Water\", \"Fire\", \"Fire\", \"Fire\", \"Fire\", \"Psychic\", \"Psychic\", \"Normal\", \"Ground\", \"Ground\", \"Ground\", \"Grass\", \"Grass\", \"Normal\", \"Dragon\", \"Dragon\", \"Normal\", \"Poison\", \"Rock\", \"Rock\", \"Water\", \"Water\", \"Water\", \"Water\", \"Ground\", \"Ground\", \"Rock\", \"Rock\", \"Rock\", \"Rock\", \"Water\", \"Water\", \"Normal\", \"Normal\", \"Ghost\", \"Ghost\", \"Ghost\", \"Ghost\", \"Ghost\", \"Grass\", \"Psychic\", \"Dark\", \"Dark\", \"Psychic\", \"Ice\", \"Ice\", \"Ice\", \"Ice\", \"Ice\", \"Ice\", \"Water\", \"Water\", \"Water\", \"Water\", \"Water\", \"Dragon\", \"Dragon\", \"Dragon\", \"Dragon\", \"Steel\", \"Steel\", \"Steel\", \"Steel\", \"Rock\", \"Ice\", \"Steel\", \"Dragon\", \"Dragon\", \"Dragon\", \"Dragon\", \"Water\", \"Water\", \"Ground\", \"Ground\", \"Dragon\", \"Dragon\", \"Steel\", \"Psychic\", \"Psychic\", \"Psychic\", \"Psychic\", \"Grass\", \"Grass\", \"Grass\", \"Fire\", \"Fire\", \"Fire\", \"Water\", \"Water\", \"Water\", \"Normal\", \"Normal\", \"Normal\", \"Normal\", \"Normal\", \"Bug\", \"Bug\", \"Electric\", \"Electric\", \"Electric\", \"Grass\", \"Grass\", \"Rock\", \"Rock\", \"Rock\", \"Rock\", \"Bug\", \"Bug\", \"Bug\", \"Bug\", \"Bug\", \"Bug\", \"Bug\", \"Electric\", \"Water\", \"Water\", \"Grass\", \"Grass\", \"Water\", \"Water\", \"Normal\", \"Ghost\", \"Ghost\", \"Normal\", \"Normal\", \"Normal\", \"Ghost\", \"Dark\", \"Normal\", \"Normal\", \"Psychic\", \"Poison\", \"Poison\", \"Steel\", \"Steel\", \"Rock\", \"Psychic\", \"Normal\", \"Normal\", \"Ghost\", \"Dragon\", \"Dragon\", \"Dragon\", \"Dragon\", \"Normal\", \"Fighting\", \"Fighting\", \"Fighting\", \"Ground\", \"Ground\", \"Poison\", \"Poison\", \"Poison\", \"Poison\", \"Grass\", \"Water\", \"Water\", \"Water\", \"Grass\", \"Grass\", \"Grass\", \"Dark\", \"Electric\", \"Normal\", \"Ground\", \"Grass\", \"Electric\", \"Fire\", \"Fairy\", \"Bug\", \"Grass\", \"Ice\", \"Ground\", \"Ice\", \"Normal\", \"Psychic\", \"Psychic\", \"Rock\", \"Ghost\", \"Ice\", \"Electric\", \"Electric\", \"Electric\", \"Electric\", \"Electric\", \"Electric\", \"Psychic\", \"Psychic\", \"Psychic\", \"Steel\", \"Water\", \"Fire\", \"Normal\", \"Ghost\", \"Ghost\", \"Psychic\", \"Water\", \"Water\", \"Dark\", \"Grass\", \"Grass\", \"Normal\", \"Psychic\", \"Grass\", \"Grass\", \"Grass\", \"Fire\", \"Fire\", \"Fire\", \"Water\", \"Water\", \"Water\", \"Normal\", \"Normal\", \"Normal\", \"Normal\", \"Normal\", \"Dark\", \"Dark\", \"Grass\", \"Grass\", \"Fire\", \"Fire\", \"Water\", \"Water\", \"Psychic\", \"Psychic\", \"Normal\", \"Normal\", \"Normal\", \"Electric\", \"Electric\", \"Rock\", \"Rock\", \"Rock\", \"Psychic\", \"Psychic\", \"Ground\", \"Ground\", \"Normal\", \"Normal\", \"Fighting\", \"Fighting\", \"Fighting\", \"Water\", \"Water\", \"Water\", \"Fighting\", \"Fighting\", \"Bug\", \"Bug\", \"Bug\", \"Bug\", \"Bug\", \"Bug\", \"Grass\", \"Grass\", \"Grass\", \"Grass\", \"Water\", \"Ground\", \"Ground\", \"Ground\", \"Fire\", \"Fire\", \"Fire\", \"Grass\", \"Bug\", \"Bug\", \"Dark\", \"Dark\", \"Psychic\", \"Ghost\", \"Ghost\", \"Water\", \"Water\", \"Rock\", \"Rock\", \"Poison\", \"Poison\", \"Dark\", \"Dark\", \"Normal\", \"Normal\", \"Psychic\", \"Psychic\", \"Psychic\", \"Psychic\", \"Psychic\", \"Psychic\", \"Water\", \"Water\", \"Ice\", \"Ice\", \"Ice\", \"Normal\", \"Normal\", \"Electric\", \"Bug\", \"Bug\", \"Grass\", \"Grass\", \"Water\", \"Water\", \"Water\", \"Bug\", \"Bug\", \"Grass\", \"Grass\", \"Steel\", \"Steel\", \"Steel\", \"Electric\", \"Electric\", \"Electric\", \"Psychic\", \"Psychic\", \"Ghost\", \"Ghost\", \"Ghost\", \"Dragon\", \"Dragon\", \"Dragon\", \"Ice\", \"Ice\", \"Ice\", \"Bug\", \"Bug\", \"Ground\", \"Fighting\", \"Fighting\", \"Dragon\", \"Ground\", \"Ground\", \"Dark\", \"Dark\", \"Normal\", \"Normal\", \"Normal\", \"Dark\", \"Dark\", \"Fire\", \"Bug\", \"Dark\", \"Dark\", \"Dark\", \"Bug\", \"Bug\", \"Steel\", \"Rock\", \"Grass\", \"Flying\", \"Flying\", \"Electric\", \"Electric\", \"Dragon\", \"Dragon\", \"Ground\", \"Ground\", \"Dragon\", \"Dragon\", \"Dragon\", \"Water\", \"Water\", \"Normal\", \"Normal\", \"Bug\", \"Grass\", \"Grass\", \"Grass\", \"Fire\", \"Fire\", \"Fire\", \"Water\", \"Water\", \"Water\", \"Normal\", \"Normal\", \"Normal\", \"Fire\", \"Fire\", \"Bug\", \"Bug\", \"Bug\", \"Fire\", \"Fire\", \"Fairy\", \"Fairy\", \"Fairy\", \"Grass\", \"Grass\", \"Fighting\", \"Fighting\", \"Normal\", \"Psychic\", \"Psychic\", \"Psychic\", \"Steel\", \"Steel\", \"Steel\", \"Steel\", \"Fairy\", \"Fairy\", \"Fairy\", \"Fairy\", \"Dark\", \"Dark\", \"Rock\", \"Rock\", \"Poison\", \"Poison\", \"Water\", \"Water\", \"Electric\", \"Electric\", \"Rock\", \"Rock\", \"Rock\", \"Rock\", \"Fairy\", \"Fighting\", \"Electric\", \"Rock\", \"Dragon\", \"Dragon\", \"Dragon\", \"Steel\", \"Ghost\", \"Ghost\", \"Ghost\", \"Ghost\", \"Ghost\", \"Ghost\", \"Ghost\", \"Ghost\", \"Ghost\", \"Ghost\", \"Ice\", \"Ice\", \"Flying\", \"Flying\", \"Fairy\", \"Dark\", \"Dragon\", \"Rock\", \"Rock\", \"Psychic\", \"Psychic\", \"Fire\"], \"x0\": \" \", \"xaxis\": \"x\", \"y\": [49, 62, 82, 100, 52, 64, 84, 130, 104, 48, 63, 83, 103, 30, 20, 45, 35, 25, 90, 150, 45, 60, 80, 80, 56, 81, 60, 90, 60, 85, 55, 90, 75, 100, 47, 62, 92, 57, 72, 102, 45, 70, 41, 76, 45, 70, 45, 80, 50, 65, 80, 70, 95, 55, 65, 55, 80, 45, 70, 52, 82, 80, 105, 70, 110, 50, 65, 95, 20, 35, 50, 50, 80, 100, 130, 75, 90, 105, 40, 70, 80, 95, 120, 85, 100, 65, 75, 75, 35, 60, 65, 85, 110, 45, 70, 80, 105, 65, 95, 35, 50, 65, 65, 45, 48, 73, 105, 130, 30, 50, 40, 95, 50, 80, 120, 105, 55, 65, 90, 85, 130, 5, 55, 95, 125, 40, 65, 67, 92, 45, 75, 45, 110, 50, 83, 95, 125, 155, 100, 10, 125, 155, 85, 48, 55, 65, 65, 130, 60, 40, 60, 80, 115, 105, 135, 110, 85, 90, 100, 64, 84, 134, 110, 190, 150, 100, 49, 62, 82, 52, 64, 84, 65, 80, 105, 46, 76, 30, 50, 20, 35, 60, 90, 90, 38, 58, 40, 25, 30, 20, 40, 50, 75, 40, 55, 75, 95, 80, 20, 50, 100, 75, 35, 45, 55, 70, 30, 75, 65, 45, 85, 65, 65, 85, 75, 60, 72, 33, 80, 65, 90, 70, 75, 85, 125, 80, 120, 95, 130, 150, 10, 125, 185, 95, 80, 130, 40, 50, 50, 100, 55, 65, 105, 55, 40, 80, 60, 90, 90, 95, 60, 120, 80, 95, 20, 35, 95, 30, 63, 75, 80, 10, 85, 115, 75, 64, 84, 134, 164, 90, 130, 100, 45, 65, 85, 110, 60, 85, 120, 160, 70, 85, 110, 150, 55, 90, 30, 70, 45, 35, 70, 35, 50, 30, 50, 70, 40, 70, 100, 55, 85, 30, 50, 25, 35, 65, 85, 30, 60, 40, 130, 60, 80, 160, 45, 90, 90, 51, 71, 91, 60, 120, 20, 45, 45, 65, 75, 85, 85, 105, 70, 90, 110, 140, 40, 60, 100, 45, 75, 75, 50, 40, 73, 47, 60, 43, 73, 90, 120, 140, 70, 90, 60, 100, 120, 85, 25, 45, 60, 100, 70, 100, 85, 115, 40, 70, 110, 115, 100, 55, 95, 48, 78, 80, 120, 40, 70, 41, 81, 95, 125, 15, 60, 70, 90, 75, 115, 165, 40, 70, 68, 50, 130, 150, 23, 50, 80, 120, 40, 60, 80, 64, 104, 84, 90, 30, 75, 95, 135, 145, 55, 75, 135, 145, 100, 50, 75, 80, 100, 90, 130, 100, 150, 150, 180, 150, 180, 100, 150, 180, 70, 95, 68, 89, 109, 58, 78, 104, 51, 66, 86, 55, 75, 120, 45, 85, 25, 85, 65, 85, 120, 30, 70, 125, 165, 42, 52, 29, 59, 79, 69, 94, 30, 80, 45, 65, 105, 35, 60, 48, 83, 100, 50, 80, 66, 76, 136, 60, 125, 55, 82, 30, 63, 93, 24, 89, 80, 25, 5, 65, 92, 70, 90, 130, 170, 85, 70, 110, 145, 72, 112, 50, 90, 61, 106, 100, 49, 69, 20, 62, 92, 132, 120, 70, 85, 140, 100, 123, 95, 50, 76, 110, 60, 95, 130, 80, 125, 165, 55, 100, 80, 50, 65, 65, 65, 65, 65, 75, 105, 125, 120, 120, 90, 160, 100, 120, 70, 80, 100, 90, 100, 103, 120, 100, 45, 60, 75, 63, 93, 123, 55, 75, 100, 55, 85, 60, 80, 110, 50, 88, 53, 98, 53, 98, 53, 98, 25, 55, 55, 77, 115, 60, 100, 75, 105, 135, 45, 57, 85, 135, 60, 60, 80, 105, 140, 50, 65, 95, 100, 125, 53, 63, 103, 45, 55, 100, 27, 67, 35, 60, 92, 72, 82, 117, 90, 140, 30, 86, 65, 95, 75, 90, 58, 30, 50, 78, 108, 112, 140, 50, 95, 65, 105, 50, 95, 30, 45, 55, 30, 40, 65, 44, 87, 50, 65, 95, 60, 100, 75, 75, 135, 55, 85, 40, 60, 75, 47, 77, 50, 94, 55, 80, 100, 55, 85, 115, 55, 75, 30, 40, 55, 87, 117, 147, 70, 110, 50, 40, 70, 66, 85, 125, 120, 74, 124, 85, 125, 110, 83, 123, 55, 65, 97, 109, 65, 85, 105, 85, 60, 90, 129, 90, 115, 100, 115, 105, 120, 150, 125, 145, 130, 170, 120, 72, 72, 77, 128, 120, 61, 78, 107, 45, 59, 69, 56, 63, 95, 36, 56, 50, 73, 81, 35, 22, 52, 50, 68, 38, 45, 65, 65, 100, 82, 124, 80, 48, 48, 48, 80, 110, 150, 50, 52, 72, 48, 80, 54, 92, 52, 105, 60, 75, 53, 73, 38, 55, 89, 121, 59, 77, 65, 92, 58, 50, 50, 75, 100, 80, 70, 110, 66, 66, 66, 66, 90, 85, 95, 100, 69, 117, 30, 70, 131, 131, 100, 100, 160, 110, 160, 110], \"y0\": \" \", \"yaxis\": \"y\"}],\n",
              "                        {\"boxmode\": \"group\", \"legend\": {\"tracegroupgap\": 0}, \"template\": {\"data\": {\"bar\": [{\"error_x\": {\"color\": \"#2a3f5f\"}, \"error_y\": {\"color\": \"#2a3f5f\"}, \"marker\": {\"line\": {\"color\": \"#E5ECF6\", \"width\": 0.5}}, \"type\": \"bar\"}], \"barpolar\": [{\"marker\": {\"line\": {\"color\": \"#E5ECF6\", \"width\": 0.5}}, \"type\": \"barpolar\"}], \"carpet\": [{\"aaxis\": {\"endlinecolor\": \"#2a3f5f\", \"gridcolor\": \"white\", \"linecolor\": \"white\", \"minorgridcolor\": \"white\", \"startlinecolor\": \"#2a3f5f\"}, \"baxis\": {\"endlinecolor\": \"#2a3f5f\", \"gridcolor\": \"white\", \"linecolor\": \"white\", \"minorgridcolor\": \"white\", \"startlinecolor\": \"#2a3f5f\"}, \"type\": \"carpet\"}], \"choropleth\": [{\"colorbar\": {\"outlinewidth\": 0, \"ticks\": \"\"}, \"type\": \"choropleth\"}], \"contour\": [{\"colorbar\": {\"outlinewidth\": 0, \"ticks\": \"\"}, \"colorscale\": [[0.0, \"#0d0887\"], [0.1111111111111111, \"#46039f\"], [0.2222222222222222, \"#7201a8\"], [0.3333333333333333, \"#9c179e\"], [0.4444444444444444, \"#bd3786\"], [0.5555555555555556, \"#d8576b\"], [0.6666666666666666, \"#ed7953\"], [0.7777777777777778, \"#fb9f3a\"], [0.8888888888888888, \"#fdca26\"], [1.0, \"#f0f921\"]], \"type\": \"contour\"}], \"contourcarpet\": [{\"colorbar\": {\"outlinewidth\": 0, \"ticks\": \"\"}, \"type\": \"contourcarpet\"}], \"heatmap\": [{\"colorbar\": {\"outlinewidth\": 0, \"ticks\": \"\"}, \"colorscale\": [[0.0, \"#0d0887\"], [0.1111111111111111, \"#46039f\"], [0.2222222222222222, \"#7201a8\"], [0.3333333333333333, \"#9c179e\"], [0.4444444444444444, \"#bd3786\"], [0.5555555555555556, \"#d8576b\"], [0.6666666666666666, \"#ed7953\"], [0.7777777777777778, \"#fb9f3a\"], [0.8888888888888888, \"#fdca26\"], [1.0, \"#f0f921\"]], \"type\": \"heatmap\"}], \"heatmapgl\": [{\"colorbar\": {\"outlinewidth\": 0, \"ticks\": \"\"}, \"colorscale\": [[0.0, \"#0d0887\"], [0.1111111111111111, \"#46039f\"], [0.2222222222222222, \"#7201a8\"], [0.3333333333333333, \"#9c179e\"], [0.4444444444444444, \"#bd3786\"], [0.5555555555555556, \"#d8576b\"], [0.6666666666666666, \"#ed7953\"], [0.7777777777777778, \"#fb9f3a\"], [0.8888888888888888, \"#fdca26\"], [1.0, \"#f0f921\"]], \"type\": \"heatmapgl\"}], \"histogram\": [{\"marker\": {\"colorbar\": {\"outlinewidth\": 0, \"ticks\": \"\"}}, \"type\": \"histogram\"}], \"histogram2d\": [{\"colorbar\": {\"outlinewidth\": 0, \"ticks\": \"\"}, \"colorscale\": [[0.0, \"#0d0887\"], [0.1111111111111111, \"#46039f\"], [0.2222222222222222, \"#7201a8\"], [0.3333333333333333, \"#9c179e\"], [0.4444444444444444, \"#bd3786\"], [0.5555555555555556, \"#d8576b\"], [0.6666666666666666, \"#ed7953\"], [0.7777777777777778, \"#fb9f3a\"], [0.8888888888888888, \"#fdca26\"], [1.0, \"#f0f921\"]], \"type\": \"histogram2d\"}], \"histogram2dcontour\": [{\"colorbar\": {\"outlinewidth\": 0, \"ticks\": \"\"}, \"colorscale\": [[0.0, \"#0d0887\"], [0.1111111111111111, \"#46039f\"], [0.2222222222222222, \"#7201a8\"], [0.3333333333333333, \"#9c179e\"], [0.4444444444444444, \"#bd3786\"], [0.5555555555555556, \"#d8576b\"], [0.6666666666666666, \"#ed7953\"], [0.7777777777777778, \"#fb9f3a\"], [0.8888888888888888, \"#fdca26\"], [1.0, \"#f0f921\"]], \"type\": \"histogram2dcontour\"}], \"mesh3d\": [{\"colorbar\": {\"outlinewidth\": 0, \"ticks\": \"\"}, \"type\": \"mesh3d\"}], \"parcoords\": [{\"line\": {\"colorbar\": {\"outlinewidth\": 0, \"ticks\": \"\"}}, \"type\": \"parcoords\"}], \"pie\": [{\"automargin\": true, \"type\": \"pie\"}], \"scatter\": [{\"marker\": {\"colorbar\": {\"outlinewidth\": 0, \"ticks\": \"\"}}, \"type\": \"scatter\"}], \"scatter3d\": [{\"line\": {\"colorbar\": {\"outlinewidth\": 0, \"ticks\": \"\"}}, \"marker\": {\"colorbar\": {\"outlinewidth\": 0, \"ticks\": \"\"}}, \"type\": \"scatter3d\"}], \"scattercarpet\": [{\"marker\": {\"colorbar\": {\"outlinewidth\": 0, \"ticks\": \"\"}}, \"type\": \"scattercarpet\"}], \"scattergeo\": [{\"marker\": {\"colorbar\": {\"outlinewidth\": 0, \"ticks\": \"\"}}, \"type\": \"scattergeo\"}], \"scattergl\": [{\"marker\": {\"colorbar\": {\"outlinewidth\": 0, \"ticks\": \"\"}}, \"type\": \"scattergl\"}], \"scattermapbox\": [{\"marker\": {\"colorbar\": {\"outlinewidth\": 0, \"ticks\": \"\"}}, \"type\": \"scattermapbox\"}], \"scatterpolar\": [{\"marker\": {\"colorbar\": {\"outlinewidth\": 0, \"ticks\": \"\"}}, \"type\": \"scatterpolar\"}], \"scatterpolargl\": [{\"marker\": {\"colorbar\": {\"outlinewidth\": 0, \"ticks\": \"\"}}, \"type\": \"scatterpolargl\"}], \"scatterternary\": [{\"marker\": {\"colorbar\": {\"outlinewidth\": 0, \"ticks\": \"\"}}, \"type\": \"scatterternary\"}], \"surface\": [{\"colorbar\": {\"outlinewidth\": 0, \"ticks\": \"\"}, \"colorscale\": [[0.0, \"#0d0887\"], [0.1111111111111111, \"#46039f\"], [0.2222222222222222, \"#7201a8\"], [0.3333333333333333, \"#9c179e\"], [0.4444444444444444, \"#bd3786\"], [0.5555555555555556, \"#d8576b\"], [0.6666666666666666, \"#ed7953\"], [0.7777777777777778, \"#fb9f3a\"], [0.8888888888888888, \"#fdca26\"], [1.0, \"#f0f921\"]], \"type\": \"surface\"}], \"table\": [{\"cells\": {\"fill\": {\"color\": \"#EBF0F8\"}, \"line\": {\"color\": \"white\"}}, \"header\": {\"fill\": {\"color\": \"#C8D4E3\"}, \"line\": {\"color\": \"white\"}}, \"type\": \"table\"}]}, \"layout\": {\"annotationdefaults\": {\"arrowcolor\": \"#2a3f5f\", \"arrowhead\": 0, \"arrowwidth\": 1}, \"coloraxis\": {\"colorbar\": {\"outlinewidth\": 0, \"ticks\": \"\"}}, \"colorscale\": {\"diverging\": [[0, \"#8e0152\"], [0.1, \"#c51b7d\"], [0.2, \"#de77ae\"], [0.3, \"#f1b6da\"], [0.4, \"#fde0ef\"], [0.5, \"#f7f7f7\"], [0.6, \"#e6f5d0\"], [0.7, \"#b8e186\"], [0.8, \"#7fbc41\"], [0.9, \"#4d9221\"], [1, \"#276419\"]], \"sequential\": [[0.0, \"#0d0887\"], [0.1111111111111111, \"#46039f\"], [0.2222222222222222, \"#7201a8\"], [0.3333333333333333, \"#9c179e\"], [0.4444444444444444, \"#bd3786\"], [0.5555555555555556, \"#d8576b\"], [0.6666666666666666, \"#ed7953\"], [0.7777777777777778, \"#fb9f3a\"], [0.8888888888888888, \"#fdca26\"], [1.0, \"#f0f921\"]], \"sequentialminus\": [[0.0, \"#0d0887\"], [0.1111111111111111, \"#46039f\"], [0.2222222222222222, \"#7201a8\"], [0.3333333333333333, \"#9c179e\"], [0.4444444444444444, \"#bd3786\"], [0.5555555555555556, \"#d8576b\"], [0.6666666666666666, \"#ed7953\"], [0.7777777777777778, \"#fb9f3a\"], [0.8888888888888888, \"#fdca26\"], [1.0, \"#f0f921\"]]}, \"colorway\": [\"#636efa\", \"#EF553B\", \"#00cc96\", \"#ab63fa\", \"#FFA15A\", \"#19d3f3\", \"#FF6692\", \"#B6E880\", \"#FF97FF\", \"#FECB52\"], \"font\": {\"color\": \"#2a3f5f\"}, \"geo\": {\"bgcolor\": \"white\", \"lakecolor\": \"white\", \"landcolor\": \"#E5ECF6\", \"showlakes\": true, \"showland\": true, \"subunitcolor\": \"white\"}, \"hoverlabel\": {\"align\": \"left\"}, \"hovermode\": \"closest\", \"mapbox\": {\"style\": \"light\"}, \"paper_bgcolor\": \"white\", \"plot_bgcolor\": \"#E5ECF6\", \"polar\": {\"angularaxis\": {\"gridcolor\": \"white\", \"linecolor\": \"white\", \"ticks\": \"\"}, \"bgcolor\": \"#E5ECF6\", \"radialaxis\": {\"gridcolor\": \"white\", \"linecolor\": \"white\", \"ticks\": \"\"}}, \"scene\": {\"xaxis\": {\"backgroundcolor\": \"#E5ECF6\", \"gridcolor\": \"white\", \"gridwidth\": 2, \"linecolor\": \"white\", \"showbackground\": true, \"ticks\": \"\", \"zerolinecolor\": \"white\"}, \"yaxis\": {\"backgroundcolor\": \"#E5ECF6\", \"gridcolor\": \"white\", \"gridwidth\": 2, \"linecolor\": \"white\", \"showbackground\": true, \"ticks\": \"\", \"zerolinecolor\": \"white\"}, \"zaxis\": {\"backgroundcolor\": \"#E5ECF6\", \"gridcolor\": \"white\", \"gridwidth\": 2, \"linecolor\": \"white\", \"showbackground\": true, \"ticks\": \"\", \"zerolinecolor\": \"white\"}}, \"shapedefaults\": {\"line\": {\"color\": \"#2a3f5f\"}}, \"ternary\": {\"aaxis\": {\"gridcolor\": \"white\", \"linecolor\": \"white\", \"ticks\": \"\"}, \"baxis\": {\"gridcolor\": \"white\", \"linecolor\": \"white\", \"ticks\": \"\"}, \"bgcolor\": \"#E5ECF6\", \"caxis\": {\"gridcolor\": \"white\", \"linecolor\": \"white\", \"ticks\": \"\"}}, \"title\": {\"x\": 0.05}, \"xaxis\": {\"automargin\": true, \"gridcolor\": \"white\", \"linecolor\": \"white\", \"ticks\": \"\", \"title\": {\"standoff\": 15}, \"zerolinecolor\": \"white\", \"zerolinewidth\": 2}, \"yaxis\": {\"automargin\": true, \"gridcolor\": \"white\", \"linecolor\": \"white\", \"ticks\": \"\", \"title\": {\"standoff\": 15}, \"zerolinecolor\": \"white\", \"zerolinewidth\": 2}}}, \"title\": {\"text\": \"Box plot of Type 1\"}, \"xaxis\": {\"anchor\": \"y\", \"domain\": [0.0, 1.0], \"title\": {\"text\": \"Type 1\"}}, \"yaxis\": {\"anchor\": \"x\", \"domain\": [0.0, 1.0], \"title\": {\"text\": \"Attack\"}}},\n",
              "                        {\"responsive\": true}\n",
              "                    ).then(function(){\n",
              "                            \n",
              "var gd = document.getElementById('c33c692d-68c8-4ce9-b190-c6da2fb660fb');\n",
              "var x = new MutationObserver(function (mutations, observer) {{\n",
              "        var display = window.getComputedStyle(gd).display;\n",
              "        if (!display || display === 'none') {{\n",
              "            console.log([gd, 'removed!']);\n",
              "            Plotly.purge(gd);\n",
              "            observer.disconnect();\n",
              "        }}\n",
              "}});\n",
              "\n",
              "// Listen for the removal of the full notebook cells\n",
              "var notebookContainer = gd.closest('#notebook-container');\n",
              "if (notebookContainer) {{\n",
              "    x.observe(notebookContainer, {childList: true});\n",
              "}}\n",
              "\n",
              "// Listen for the clearing of the current output cell\n",
              "var outputEl = gd.closest('.output');\n",
              "if (outputEl) {{\n",
              "    x.observe(outputEl, {childList: true});\n",
              "}}\n",
              "\n",
              "                        })\n",
              "                };\n",
              "                \n",
              "            </script>\n",
              "        </div>\n",
              "</body>\n",
              "</html>"
            ]
          },
          "metadata": {}
        }
      ]
    },
    {
      "cell_type": "markdown",
      "metadata": {
        "id": "tO65sHNiAmU9"
      },
      "source": [
        "## Ejercicio 3:\n",
        "\n",
        "Realice las siguientes pruebas de hipótesis:\n",
        "1. El promedio del ataque de los pokemones es mayor a 77\n",
        "2. El promedio del ataque de los pokemones legendarios es diferente a los no legendarios\n",
        "\n",
        "\n",
        "Y determine con un nivel de significancia del 5% (es decir $\\alpha$ = 0.05), si podemos rechazar o no las 3 hipótesis anteriores. "
      ]
    },
    {
      "cell_type": "code",
      "metadata": {
        "colab": {
          "base_uri": "https://localhost:8080/"
        },
        "id": "W_eNuKmyRYuF",
        "outputId": "6da6d4f1-1f67-42a9-f9c5-89c1689c4723"
      },
      "source": [
        "pip install jupyter_contrib_nbextensions"
      ],
      "execution_count": 61,
      "outputs": [
        {
          "output_type": "stream",
          "name": "stdout",
          "text": [
            "Requirement already satisfied: jupyter_contrib_nbextensions in /usr/local/lib/python3.7/dist-packages (0.5.1)\n",
            "Requirement already satisfied: jupyter-contrib-core>=0.3.3 in /usr/local/lib/python3.7/dist-packages (from jupyter_contrib_nbextensions) (0.3.3)\n",
            "Requirement already satisfied: pyyaml in /usr/local/lib/python3.7/dist-packages (from jupyter_contrib_nbextensions) (3.13)\n",
            "Requirement already satisfied: ipython-genutils in /usr/local/lib/python3.7/dist-packages (from jupyter_contrib_nbextensions) (0.2.0)\n",
            "Requirement already satisfied: tornado in /usr/local/lib/python3.7/dist-packages (from jupyter_contrib_nbextensions) (5.1.1)\n",
            "Requirement already satisfied: traitlets>=4.1 in /usr/local/lib/python3.7/dist-packages (from jupyter_contrib_nbextensions) (5.0.5)\n",
            "Requirement already satisfied: lxml in /usr/local/lib/python3.7/dist-packages (from jupyter_contrib_nbextensions) (4.2.6)\n",
            "Requirement already satisfied: jupyter-core in /usr/local/lib/python3.7/dist-packages (from jupyter_contrib_nbextensions) (4.7.1)\n",
            "Requirement already satisfied: jupyter-highlight-selected-word>=0.1.1 in /usr/local/lib/python3.7/dist-packages (from jupyter_contrib_nbextensions) (0.2.0)\n",
            "Requirement already satisfied: jupyter-latex-envs>=1.3.8 in /usr/local/lib/python3.7/dist-packages (from jupyter_contrib_nbextensions) (1.4.6)\n",
            "Requirement already satisfied: nbconvert>=4.2 in /usr/local/lib/python3.7/dist-packages (from jupyter_contrib_nbextensions) (5.6.1)\n",
            "Requirement already satisfied: jupyter-nbextensions-configurator>=0.4.0 in /usr/local/lib/python3.7/dist-packages (from jupyter_contrib_nbextensions) (0.4.1)\n",
            "Requirement already satisfied: notebook>=4.0 in /usr/local/lib/python3.7/dist-packages (from jupyter_contrib_nbextensions) (5.3.1)\n",
            "Requirement already satisfied: setuptools in /usr/local/lib/python3.7/dist-packages (from jupyter-contrib-core>=0.3.3->jupyter_contrib_nbextensions) (57.4.0)\n",
            "Requirement already satisfied: ipython in /usr/local/lib/python3.7/dist-packages (from jupyter-latex-envs>=1.3.8->jupyter_contrib_nbextensions) (5.5.0)\n",
            "Requirement already satisfied: defusedxml in /usr/local/lib/python3.7/dist-packages (from nbconvert>=4.2->jupyter_contrib_nbextensions) (0.7.1)\n",
            "Requirement already satisfied: jinja2>=2.4 in /usr/local/lib/python3.7/dist-packages (from nbconvert>=4.2->jupyter_contrib_nbextensions) (2.11.3)\n",
            "Requirement already satisfied: pygments in /usr/local/lib/python3.7/dist-packages (from nbconvert>=4.2->jupyter_contrib_nbextensions) (2.6.1)\n",
            "Requirement already satisfied: testpath in /usr/local/lib/python3.7/dist-packages (from nbconvert>=4.2->jupyter_contrib_nbextensions) (0.5.0)\n",
            "Requirement already satisfied: pandocfilters>=1.4.1 in /usr/local/lib/python3.7/dist-packages (from nbconvert>=4.2->jupyter_contrib_nbextensions) (1.4.3)\n",
            "Requirement already satisfied: mistune<2,>=0.8.1 in /usr/local/lib/python3.7/dist-packages (from nbconvert>=4.2->jupyter_contrib_nbextensions) (0.8.4)\n",
            "Requirement already satisfied: bleach in /usr/local/lib/python3.7/dist-packages (from nbconvert>=4.2->jupyter_contrib_nbextensions) (4.0.0)\n",
            "Requirement already satisfied: nbformat>=4.4 in /usr/local/lib/python3.7/dist-packages (from nbconvert>=4.2->jupyter_contrib_nbextensions) (5.1.3)\n",
            "Requirement already satisfied: entrypoints>=0.2.2 in /usr/local/lib/python3.7/dist-packages (from nbconvert>=4.2->jupyter_contrib_nbextensions) (0.3)\n",
            "Requirement already satisfied: MarkupSafe>=0.23 in /usr/local/lib/python3.7/dist-packages (from jinja2>=2.4->nbconvert>=4.2->jupyter_contrib_nbextensions) (2.0.1)\n",
            "Requirement already satisfied: jsonschema!=2.5.0,>=2.4 in /usr/local/lib/python3.7/dist-packages (from nbformat>=4.4->nbconvert>=4.2->jupyter_contrib_nbextensions) (2.6.0)\n",
            "Requirement already satisfied: Send2Trash in /usr/local/lib/python3.7/dist-packages (from notebook>=4.0->jupyter_contrib_nbextensions) (1.8.0)\n",
            "Requirement already satisfied: jupyter-client>=5.2.0 in /usr/local/lib/python3.7/dist-packages (from notebook>=4.0->jupyter_contrib_nbextensions) (5.3.5)\n",
            "Requirement already satisfied: terminado>=0.8.1 in /usr/local/lib/python3.7/dist-packages (from notebook>=4.0->jupyter_contrib_nbextensions) (0.11.0)\n",
            "Requirement already satisfied: ipykernel in /usr/local/lib/python3.7/dist-packages (from notebook>=4.0->jupyter_contrib_nbextensions) (4.10.1)\n",
            "Requirement already satisfied: pyzmq>=13 in /usr/local/lib/python3.7/dist-packages (from jupyter-client>=5.2.0->notebook>=4.0->jupyter_contrib_nbextensions) (22.2.1)\n",
            "Requirement already satisfied: python-dateutil>=2.1 in /usr/local/lib/python3.7/dist-packages (from jupyter-client>=5.2.0->notebook>=4.0->jupyter_contrib_nbextensions) (2.8.2)\n",
            "Requirement already satisfied: six>=1.5 in /usr/local/lib/python3.7/dist-packages (from python-dateutil>=2.1->jupyter-client>=5.2.0->notebook>=4.0->jupyter_contrib_nbextensions) (1.15.0)\n",
            "Requirement already satisfied: ptyprocess in /usr/local/lib/python3.7/dist-packages (from terminado>=0.8.1->notebook>=4.0->jupyter_contrib_nbextensions) (0.7.0)\n",
            "Requirement already satisfied: webencodings in /usr/local/lib/python3.7/dist-packages (from bleach->nbconvert>=4.2->jupyter_contrib_nbextensions) (0.5.1)\n",
            "Requirement already satisfied: packaging in /usr/local/lib/python3.7/dist-packages (from bleach->nbconvert>=4.2->jupyter_contrib_nbextensions) (21.0)\n",
            "Requirement already satisfied: decorator in /usr/local/lib/python3.7/dist-packages (from ipython->jupyter-latex-envs>=1.3.8->jupyter_contrib_nbextensions) (4.4.2)\n",
            "Requirement already satisfied: simplegeneric>0.8 in /usr/local/lib/python3.7/dist-packages (from ipython->jupyter-latex-envs>=1.3.8->jupyter_contrib_nbextensions) (0.8.1)\n",
            "Requirement already satisfied: prompt-toolkit<2.0.0,>=1.0.4 in /usr/local/lib/python3.7/dist-packages (from ipython->jupyter-latex-envs>=1.3.8->jupyter_contrib_nbextensions) (1.0.18)\n",
            "Requirement already satisfied: pexpect in /usr/local/lib/python3.7/dist-packages (from ipython->jupyter-latex-envs>=1.3.8->jupyter_contrib_nbextensions) (4.8.0)\n",
            "Requirement already satisfied: pickleshare in /usr/local/lib/python3.7/dist-packages (from ipython->jupyter-latex-envs>=1.3.8->jupyter_contrib_nbextensions) (0.7.5)\n",
            "Requirement already satisfied: wcwidth in /usr/local/lib/python3.7/dist-packages (from prompt-toolkit<2.0.0,>=1.0.4->ipython->jupyter-latex-envs>=1.3.8->jupyter_contrib_nbextensions) (0.2.5)\n",
            "Requirement already satisfied: pyparsing>=2.0.2 in /usr/local/lib/python3.7/dist-packages (from packaging->bleach->nbconvert>=4.2->jupyter_contrib_nbextensions) (2.4.7)\n"
          ]
        }
      ]
    },
    {
      "cell_type": "code",
      "metadata": {
        "colab": {
          "base_uri": "https://localhost:8080/"
        },
        "id": "gXYzpTX4UL-N",
        "outputId": "dac0d551-482a-4b91-80dc-86bc8860066e"
      },
      "source": [
        "pip install pingouin"
      ],
      "execution_count": 62,
      "outputs": [
        {
          "output_type": "stream",
          "name": "stdout",
          "text": [
            "Requirement already satisfied: pingouin in /usr/local/lib/python3.7/dist-packages (0.4.0)\n",
            "Requirement already satisfied: matplotlib>=3.0.2 in /usr/local/lib/python3.7/dist-packages (from pingouin) (3.2.2)\n",
            "Requirement already satisfied: statsmodels>=0.12.0 in /usr/local/lib/python3.7/dist-packages (from pingouin) (0.12.2)\n",
            "Requirement already satisfied: scikit-learn in /usr/local/lib/python3.7/dist-packages (from pingouin) (0.22.2.post1)\n",
            "Requirement already satisfied: outdated in /usr/local/lib/python3.7/dist-packages (from pingouin) (0.2.1)\n",
            "Requirement already satisfied: scipy>=1.7 in /usr/local/lib/python3.7/dist-packages (from pingouin) (1.7.1)\n",
            "Requirement already satisfied: numpy>=1.19 in /usr/local/lib/python3.7/dist-packages (from pingouin) (1.19.5)\n",
            "Requirement already satisfied: pandas>=1.0 in /usr/local/lib/python3.7/dist-packages (from pingouin) (1.1.5)\n",
            "Requirement already satisfied: pandas-flavor>=0.2.0 in /usr/local/lib/python3.7/dist-packages (from pingouin) (0.2.0)\n",
            "Requirement already satisfied: tabulate in /usr/local/lib/python3.7/dist-packages (from pingouin) (0.8.9)\n",
            "Requirement already satisfied: seaborn>=0.9.0 in /usr/local/lib/python3.7/dist-packages (from pingouin) (0.11.1)\n",
            "Requirement already satisfied: kiwisolver>=1.0.1 in /usr/local/lib/python3.7/dist-packages (from matplotlib>=3.0.2->pingouin) (1.3.1)\n",
            "Requirement already satisfied: cycler>=0.10 in /usr/local/lib/python3.7/dist-packages (from matplotlib>=3.0.2->pingouin) (0.10.0)\n",
            "Requirement already satisfied: python-dateutil>=2.1 in /usr/local/lib/python3.7/dist-packages (from matplotlib>=3.0.2->pingouin) (2.8.2)\n",
            "Requirement already satisfied: pyparsing!=2.0.4,!=2.1.2,!=2.1.6,>=2.0.1 in /usr/local/lib/python3.7/dist-packages (from matplotlib>=3.0.2->pingouin) (2.4.7)\n",
            "Requirement already satisfied: six in /usr/local/lib/python3.7/dist-packages (from cycler>=0.10->matplotlib>=3.0.2->pingouin) (1.15.0)\n",
            "Requirement already satisfied: pytz>=2017.2 in /usr/local/lib/python3.7/dist-packages (from pandas>=1.0->pingouin) (2018.9)\n",
            "Requirement already satisfied: xarray in /usr/local/lib/python3.7/dist-packages (from pandas-flavor>=0.2.0->pingouin) (0.18.2)\n",
            "Requirement already satisfied: patsy>=0.5 in /usr/local/lib/python3.7/dist-packages (from statsmodels>=0.12.0->pingouin) (0.5.1)\n",
            "Requirement already satisfied: littleutils in /usr/local/lib/python3.7/dist-packages (from outdated->pingouin) (0.2.2)\n",
            "Requirement already satisfied: requests in /usr/local/lib/python3.7/dist-packages (from outdated->pingouin) (2.23.0)\n",
            "Requirement already satisfied: certifi>=2017.4.17 in /usr/local/lib/python3.7/dist-packages (from requests->outdated->pingouin) (2021.5.30)\n",
            "Requirement already satisfied: idna<3,>=2.5 in /usr/local/lib/python3.7/dist-packages (from requests->outdated->pingouin) (2.10)\n",
            "Requirement already satisfied: urllib3!=1.25.0,!=1.25.1,<1.26,>=1.21.1 in /usr/local/lib/python3.7/dist-packages (from requests->outdated->pingouin) (1.24.3)\n",
            "Requirement already satisfied: chardet<4,>=3.0.2 in /usr/local/lib/python3.7/dist-packages (from requests->outdated->pingouin) (3.0.4)\n",
            "Requirement already satisfied: joblib>=0.11 in /usr/local/lib/python3.7/dist-packages (from scikit-learn->pingouin) (1.0.1)\n",
            "Requirement already satisfied: setuptools>=40.4 in /usr/local/lib/python3.7/dist-packages (from xarray->pandas-flavor>=0.2.0->pingouin) (57.4.0)\n"
          ]
        }
      ]
    },
    {
      "cell_type": "code",
      "metadata": {
        "id": "MAmGA5AtUmmB"
      },
      "source": [
        "import pandas as pd\n",
        "import numpy as np\n",
        "import matplotlib.pyplot as plt\n",
        "import seaborn as sns\n",
        "from statsmodels.formula.api import ols\n",
        "import statsmodels\n",
        "from scipy import stats\n",
        "from pingouin import pairwise_ttests #this is for performing the pairwise tests"
      ],
      "execution_count": 28,
      "outputs": []
    },
    {
      "cell_type": "code",
      "metadata": {
        "id": "kdpPWJDUUqvQ"
      },
      "source": [
        "#import statsmodels.api as sm\n",
        "import plotly.express as px"
      ],
      "execution_count": 29,
      "outputs": []
    },
    {
      "cell_type": "code",
      "metadata": {
        "id": "0HhX4hP4frYQ"
      },
      "source": [
        "df = pd.read_csv('pokemon_data.csv')"
      ],
      "execution_count": 30,
      "outputs": []
    },
    {
      "cell_type": "markdown",
      "metadata": {
        "id": "4GXwMtABRVGh"
      },
      "source": [
        "# EJERCICIO 3 - PUNTO 1"
      ]
    },
    {
      "cell_type": "markdown",
      "metadata": {
        "id": "6w1Q6sO5RdRb"
      },
      "source": [
        "#Realice las siguientes pruebas de hipótesis: El promedio del ataque de los pokemones es mayor a 77"
      ]
    },
    {
      "cell_type": "code",
      "metadata": {
        "colab": {
          "base_uri": "https://localhost:8080/",
          "height": 412
        },
        "id": "TrS7ZZtVfjR9",
        "outputId": "c1c62492-5b88-4fa5-d88a-2424dfc5a113"
      },
      "source": [
        "import numpy as np\n",
        "df['LEGENDARY DESCRIP']=np.where(df['Legendary']==True,'Legendario','no Legendario')\n",
        "df"
      ],
      "execution_count": 31,
      "outputs": [
        {
          "output_type": "execute_result",
          "data": {
            "text/html": [
              "<div>\n",
              "<style scoped>\n",
              "    .dataframe tbody tr th:only-of-type {\n",
              "        vertical-align: middle;\n",
              "    }\n",
              "\n",
              "    .dataframe tbody tr th {\n",
              "        vertical-align: top;\n",
              "    }\n",
              "\n",
              "    .dataframe thead th {\n",
              "        text-align: right;\n",
              "    }\n",
              "</style>\n",
              "<table border=\"1\" class=\"dataframe\">\n",
              "  <thead>\n",
              "    <tr style=\"text-align: right;\">\n",
              "      <th></th>\n",
              "      <th>#</th>\n",
              "      <th>Name</th>\n",
              "      <th>Type 1</th>\n",
              "      <th>Type 2</th>\n",
              "      <th>HP</th>\n",
              "      <th>Attack</th>\n",
              "      <th>Defense</th>\n",
              "      <th>Sp. Atk</th>\n",
              "      <th>Sp. Def</th>\n",
              "      <th>Speed</th>\n",
              "      <th>Generation</th>\n",
              "      <th>Legendary</th>\n",
              "      <th>LEGENDARY DESCRIP</th>\n",
              "    </tr>\n",
              "  </thead>\n",
              "  <tbody>\n",
              "    <tr>\n",
              "      <th>0</th>\n",
              "      <td>1</td>\n",
              "      <td>Bulbasaur</td>\n",
              "      <td>Grass</td>\n",
              "      <td>Poison</td>\n",
              "      <td>45</td>\n",
              "      <td>49</td>\n",
              "      <td>49</td>\n",
              "      <td>65</td>\n",
              "      <td>65</td>\n",
              "      <td>45</td>\n",
              "      <td>1</td>\n",
              "      <td>False</td>\n",
              "      <td>no Legendario</td>\n",
              "    </tr>\n",
              "    <tr>\n",
              "      <th>1</th>\n",
              "      <td>2</td>\n",
              "      <td>Ivysaur</td>\n",
              "      <td>Grass</td>\n",
              "      <td>Poison</td>\n",
              "      <td>60</td>\n",
              "      <td>62</td>\n",
              "      <td>63</td>\n",
              "      <td>80</td>\n",
              "      <td>80</td>\n",
              "      <td>60</td>\n",
              "      <td>1</td>\n",
              "      <td>False</td>\n",
              "      <td>no Legendario</td>\n",
              "    </tr>\n",
              "    <tr>\n",
              "      <th>2</th>\n",
              "      <td>3</td>\n",
              "      <td>Venusaur</td>\n",
              "      <td>Grass</td>\n",
              "      <td>Poison</td>\n",
              "      <td>80</td>\n",
              "      <td>82</td>\n",
              "      <td>83</td>\n",
              "      <td>100</td>\n",
              "      <td>100</td>\n",
              "      <td>80</td>\n",
              "      <td>1</td>\n",
              "      <td>False</td>\n",
              "      <td>no Legendario</td>\n",
              "    </tr>\n",
              "    <tr>\n",
              "      <th>3</th>\n",
              "      <td>3</td>\n",
              "      <td>VenusaurMega Venusaur</td>\n",
              "      <td>Grass</td>\n",
              "      <td>Poison</td>\n",
              "      <td>80</td>\n",
              "      <td>100</td>\n",
              "      <td>123</td>\n",
              "      <td>122</td>\n",
              "      <td>120</td>\n",
              "      <td>80</td>\n",
              "      <td>1</td>\n",
              "      <td>False</td>\n",
              "      <td>no Legendario</td>\n",
              "    </tr>\n",
              "    <tr>\n",
              "      <th>4</th>\n",
              "      <td>4</td>\n",
              "      <td>Charmander</td>\n",
              "      <td>Fire</td>\n",
              "      <td>NaN</td>\n",
              "      <td>39</td>\n",
              "      <td>52</td>\n",
              "      <td>43</td>\n",
              "      <td>60</td>\n",
              "      <td>50</td>\n",
              "      <td>65</td>\n",
              "      <td>1</td>\n",
              "      <td>False</td>\n",
              "      <td>no Legendario</td>\n",
              "    </tr>\n",
              "    <tr>\n",
              "      <th>...</th>\n",
              "      <td>...</td>\n",
              "      <td>...</td>\n",
              "      <td>...</td>\n",
              "      <td>...</td>\n",
              "      <td>...</td>\n",
              "      <td>...</td>\n",
              "      <td>...</td>\n",
              "      <td>...</td>\n",
              "      <td>...</td>\n",
              "      <td>...</td>\n",
              "      <td>...</td>\n",
              "      <td>...</td>\n",
              "      <td>...</td>\n",
              "    </tr>\n",
              "    <tr>\n",
              "      <th>795</th>\n",
              "      <td>719</td>\n",
              "      <td>Diancie</td>\n",
              "      <td>Rock</td>\n",
              "      <td>Fairy</td>\n",
              "      <td>50</td>\n",
              "      <td>100</td>\n",
              "      <td>150</td>\n",
              "      <td>100</td>\n",
              "      <td>150</td>\n",
              "      <td>50</td>\n",
              "      <td>6</td>\n",
              "      <td>True</td>\n",
              "      <td>Legendario</td>\n",
              "    </tr>\n",
              "    <tr>\n",
              "      <th>796</th>\n",
              "      <td>719</td>\n",
              "      <td>DiancieMega Diancie</td>\n",
              "      <td>Rock</td>\n",
              "      <td>Fairy</td>\n",
              "      <td>50</td>\n",
              "      <td>160</td>\n",
              "      <td>110</td>\n",
              "      <td>160</td>\n",
              "      <td>110</td>\n",
              "      <td>110</td>\n",
              "      <td>6</td>\n",
              "      <td>True</td>\n",
              "      <td>Legendario</td>\n",
              "    </tr>\n",
              "    <tr>\n",
              "      <th>797</th>\n",
              "      <td>720</td>\n",
              "      <td>HoopaHoopa Confined</td>\n",
              "      <td>Psychic</td>\n",
              "      <td>Ghost</td>\n",
              "      <td>80</td>\n",
              "      <td>110</td>\n",
              "      <td>60</td>\n",
              "      <td>150</td>\n",
              "      <td>130</td>\n",
              "      <td>70</td>\n",
              "      <td>6</td>\n",
              "      <td>True</td>\n",
              "      <td>Legendario</td>\n",
              "    </tr>\n",
              "    <tr>\n",
              "      <th>798</th>\n",
              "      <td>720</td>\n",
              "      <td>HoopaHoopa Unbound</td>\n",
              "      <td>Psychic</td>\n",
              "      <td>Dark</td>\n",
              "      <td>80</td>\n",
              "      <td>160</td>\n",
              "      <td>60</td>\n",
              "      <td>170</td>\n",
              "      <td>130</td>\n",
              "      <td>80</td>\n",
              "      <td>6</td>\n",
              "      <td>True</td>\n",
              "      <td>Legendario</td>\n",
              "    </tr>\n",
              "    <tr>\n",
              "      <th>799</th>\n",
              "      <td>721</td>\n",
              "      <td>Volcanion</td>\n",
              "      <td>Fire</td>\n",
              "      <td>Water</td>\n",
              "      <td>80</td>\n",
              "      <td>110</td>\n",
              "      <td>120</td>\n",
              "      <td>130</td>\n",
              "      <td>90</td>\n",
              "      <td>70</td>\n",
              "      <td>6</td>\n",
              "      <td>True</td>\n",
              "      <td>Legendario</td>\n",
              "    </tr>\n",
              "  </tbody>\n",
              "</table>\n",
              "<p>800 rows × 13 columns</p>\n",
              "</div>"
            ],
            "text/plain": [
              "       #                   Name  ... Legendary LEGENDARY DESCRIP\n",
              "0      1              Bulbasaur  ...     False     no Legendario\n",
              "1      2                Ivysaur  ...     False     no Legendario\n",
              "2      3               Venusaur  ...     False     no Legendario\n",
              "3      3  VenusaurMega Venusaur  ...     False     no Legendario\n",
              "4      4             Charmander  ...     False     no Legendario\n",
              "..   ...                    ...  ...       ...               ...\n",
              "795  719                Diancie  ...      True        Legendario\n",
              "796  719    DiancieMega Diancie  ...      True        Legendario\n",
              "797  720    HoopaHoopa Confined  ...      True        Legendario\n",
              "798  720     HoopaHoopa Unbound  ...      True        Legendario\n",
              "799  721              Volcanion  ...      True        Legendario\n",
              "\n",
              "[800 rows x 13 columns]"
            ]
          },
          "metadata": {},
          "execution_count": 31
        }
      ]
    },
    {
      "cell_type": "code",
      "metadata": {
        "id": "OvPYBujCWNgQ",
        "colab": {
          "base_uri": "https://localhost:8080/",
          "height": 201
        },
        "outputId": "f5554710-c434-4a47-90ce-8e6ed5a9fb4c"
      },
      "source": [
        "df.head()"
      ],
      "execution_count": 32,
      "outputs": [
        {
          "output_type": "execute_result",
          "data": {
            "text/html": [
              "<div>\n",
              "<style scoped>\n",
              "    .dataframe tbody tr th:only-of-type {\n",
              "        vertical-align: middle;\n",
              "    }\n",
              "\n",
              "    .dataframe tbody tr th {\n",
              "        vertical-align: top;\n",
              "    }\n",
              "\n",
              "    .dataframe thead th {\n",
              "        text-align: right;\n",
              "    }\n",
              "</style>\n",
              "<table border=\"1\" class=\"dataframe\">\n",
              "  <thead>\n",
              "    <tr style=\"text-align: right;\">\n",
              "      <th></th>\n",
              "      <th>#</th>\n",
              "      <th>Name</th>\n",
              "      <th>Type 1</th>\n",
              "      <th>Type 2</th>\n",
              "      <th>HP</th>\n",
              "      <th>Attack</th>\n",
              "      <th>Defense</th>\n",
              "      <th>Sp. Atk</th>\n",
              "      <th>Sp. Def</th>\n",
              "      <th>Speed</th>\n",
              "      <th>Generation</th>\n",
              "      <th>Legendary</th>\n",
              "      <th>LEGENDARY DESCRIP</th>\n",
              "    </tr>\n",
              "  </thead>\n",
              "  <tbody>\n",
              "    <tr>\n",
              "      <th>0</th>\n",
              "      <td>1</td>\n",
              "      <td>Bulbasaur</td>\n",
              "      <td>Grass</td>\n",
              "      <td>Poison</td>\n",
              "      <td>45</td>\n",
              "      <td>49</td>\n",
              "      <td>49</td>\n",
              "      <td>65</td>\n",
              "      <td>65</td>\n",
              "      <td>45</td>\n",
              "      <td>1</td>\n",
              "      <td>False</td>\n",
              "      <td>no Legendario</td>\n",
              "    </tr>\n",
              "    <tr>\n",
              "      <th>1</th>\n",
              "      <td>2</td>\n",
              "      <td>Ivysaur</td>\n",
              "      <td>Grass</td>\n",
              "      <td>Poison</td>\n",
              "      <td>60</td>\n",
              "      <td>62</td>\n",
              "      <td>63</td>\n",
              "      <td>80</td>\n",
              "      <td>80</td>\n",
              "      <td>60</td>\n",
              "      <td>1</td>\n",
              "      <td>False</td>\n",
              "      <td>no Legendario</td>\n",
              "    </tr>\n",
              "    <tr>\n",
              "      <th>2</th>\n",
              "      <td>3</td>\n",
              "      <td>Venusaur</td>\n",
              "      <td>Grass</td>\n",
              "      <td>Poison</td>\n",
              "      <td>80</td>\n",
              "      <td>82</td>\n",
              "      <td>83</td>\n",
              "      <td>100</td>\n",
              "      <td>100</td>\n",
              "      <td>80</td>\n",
              "      <td>1</td>\n",
              "      <td>False</td>\n",
              "      <td>no Legendario</td>\n",
              "    </tr>\n",
              "    <tr>\n",
              "      <th>3</th>\n",
              "      <td>3</td>\n",
              "      <td>VenusaurMega Venusaur</td>\n",
              "      <td>Grass</td>\n",
              "      <td>Poison</td>\n",
              "      <td>80</td>\n",
              "      <td>100</td>\n",
              "      <td>123</td>\n",
              "      <td>122</td>\n",
              "      <td>120</td>\n",
              "      <td>80</td>\n",
              "      <td>1</td>\n",
              "      <td>False</td>\n",
              "      <td>no Legendario</td>\n",
              "    </tr>\n",
              "    <tr>\n",
              "      <th>4</th>\n",
              "      <td>4</td>\n",
              "      <td>Charmander</td>\n",
              "      <td>Fire</td>\n",
              "      <td>NaN</td>\n",
              "      <td>39</td>\n",
              "      <td>52</td>\n",
              "      <td>43</td>\n",
              "      <td>60</td>\n",
              "      <td>50</td>\n",
              "      <td>65</td>\n",
              "      <td>1</td>\n",
              "      <td>False</td>\n",
              "      <td>no Legendario</td>\n",
              "    </tr>\n",
              "  </tbody>\n",
              "</table>\n",
              "</div>"
            ],
            "text/plain": [
              "   #                   Name Type 1  ... Generation  Legendary  LEGENDARY DESCRIP\n",
              "0  1              Bulbasaur  Grass  ...          1      False      no Legendario\n",
              "1  2                Ivysaur  Grass  ...          1      False      no Legendario\n",
              "2  3               Venusaur  Grass  ...          1      False      no Legendario\n",
              "3  3  VenusaurMega Venusaur  Grass  ...          1      False      no Legendario\n",
              "4  4             Charmander   Fire  ...          1      False      no Legendario\n",
              "\n",
              "[5 rows x 13 columns]"
            ]
          },
          "metadata": {},
          "execution_count": 32
        }
      ]
    },
    {
      "cell_type": "code",
      "metadata": {
        "colab": {
          "base_uri": "https://localhost:8080/",
          "height": 292
        },
        "id": "kVGiTnFLWaJo",
        "outputId": "4b84ecfc-6988-467b-b07b-4ee2f8e6e0b2"
      },
      "source": [
        "df.describe()"
      ],
      "execution_count": 33,
      "outputs": [
        {
          "output_type": "execute_result",
          "data": {
            "text/html": [
              "<div>\n",
              "<style scoped>\n",
              "    .dataframe tbody tr th:only-of-type {\n",
              "        vertical-align: middle;\n",
              "    }\n",
              "\n",
              "    .dataframe tbody tr th {\n",
              "        vertical-align: top;\n",
              "    }\n",
              "\n",
              "    .dataframe thead th {\n",
              "        text-align: right;\n",
              "    }\n",
              "</style>\n",
              "<table border=\"1\" class=\"dataframe\">\n",
              "  <thead>\n",
              "    <tr style=\"text-align: right;\">\n",
              "      <th></th>\n",
              "      <th>#</th>\n",
              "      <th>HP</th>\n",
              "      <th>Attack</th>\n",
              "      <th>Defense</th>\n",
              "      <th>Sp. Atk</th>\n",
              "      <th>Sp. Def</th>\n",
              "      <th>Speed</th>\n",
              "      <th>Generation</th>\n",
              "    </tr>\n",
              "  </thead>\n",
              "  <tbody>\n",
              "    <tr>\n",
              "      <th>count</th>\n",
              "      <td>800.000000</td>\n",
              "      <td>800.000000</td>\n",
              "      <td>800.000000</td>\n",
              "      <td>800.000000</td>\n",
              "      <td>800.000000</td>\n",
              "      <td>800.000000</td>\n",
              "      <td>800.000000</td>\n",
              "      <td>800.00000</td>\n",
              "    </tr>\n",
              "    <tr>\n",
              "      <th>mean</th>\n",
              "      <td>362.813750</td>\n",
              "      <td>69.258750</td>\n",
              "      <td>79.001250</td>\n",
              "      <td>73.842500</td>\n",
              "      <td>72.820000</td>\n",
              "      <td>71.902500</td>\n",
              "      <td>68.277500</td>\n",
              "      <td>3.32375</td>\n",
              "    </tr>\n",
              "    <tr>\n",
              "      <th>std</th>\n",
              "      <td>208.343798</td>\n",
              "      <td>25.534669</td>\n",
              "      <td>32.457366</td>\n",
              "      <td>31.183501</td>\n",
              "      <td>32.722294</td>\n",
              "      <td>27.828916</td>\n",
              "      <td>29.060474</td>\n",
              "      <td>1.66129</td>\n",
              "    </tr>\n",
              "    <tr>\n",
              "      <th>min</th>\n",
              "      <td>1.000000</td>\n",
              "      <td>1.000000</td>\n",
              "      <td>5.000000</td>\n",
              "      <td>5.000000</td>\n",
              "      <td>10.000000</td>\n",
              "      <td>20.000000</td>\n",
              "      <td>5.000000</td>\n",
              "      <td>1.00000</td>\n",
              "    </tr>\n",
              "    <tr>\n",
              "      <th>25%</th>\n",
              "      <td>184.750000</td>\n",
              "      <td>50.000000</td>\n",
              "      <td>55.000000</td>\n",
              "      <td>50.000000</td>\n",
              "      <td>49.750000</td>\n",
              "      <td>50.000000</td>\n",
              "      <td>45.000000</td>\n",
              "      <td>2.00000</td>\n",
              "    </tr>\n",
              "    <tr>\n",
              "      <th>50%</th>\n",
              "      <td>364.500000</td>\n",
              "      <td>65.000000</td>\n",
              "      <td>75.000000</td>\n",
              "      <td>70.000000</td>\n",
              "      <td>65.000000</td>\n",
              "      <td>70.000000</td>\n",
              "      <td>65.000000</td>\n",
              "      <td>3.00000</td>\n",
              "    </tr>\n",
              "    <tr>\n",
              "      <th>75%</th>\n",
              "      <td>539.250000</td>\n",
              "      <td>80.000000</td>\n",
              "      <td>100.000000</td>\n",
              "      <td>90.000000</td>\n",
              "      <td>95.000000</td>\n",
              "      <td>90.000000</td>\n",
              "      <td>90.000000</td>\n",
              "      <td>5.00000</td>\n",
              "    </tr>\n",
              "    <tr>\n",
              "      <th>max</th>\n",
              "      <td>721.000000</td>\n",
              "      <td>255.000000</td>\n",
              "      <td>190.000000</td>\n",
              "      <td>230.000000</td>\n",
              "      <td>194.000000</td>\n",
              "      <td>230.000000</td>\n",
              "      <td>180.000000</td>\n",
              "      <td>6.00000</td>\n",
              "    </tr>\n",
              "  </tbody>\n",
              "</table>\n",
              "</div>"
            ],
            "text/plain": [
              "                #          HP      Attack  ...     Sp. Def       Speed  Generation\n",
              "count  800.000000  800.000000  800.000000  ...  800.000000  800.000000   800.00000\n",
              "mean   362.813750   69.258750   79.001250  ...   71.902500   68.277500     3.32375\n",
              "std    208.343798   25.534669   32.457366  ...   27.828916   29.060474     1.66129\n",
              "min      1.000000    1.000000    5.000000  ...   20.000000    5.000000     1.00000\n",
              "25%    184.750000   50.000000   55.000000  ...   50.000000   45.000000     2.00000\n",
              "50%    364.500000   65.000000   75.000000  ...   70.000000   65.000000     3.00000\n",
              "75%    539.250000   80.000000  100.000000  ...   90.000000   90.000000     5.00000\n",
              "max    721.000000  255.000000  190.000000  ...  230.000000  180.000000     6.00000\n",
              "\n",
              "[8 rows x 8 columns]"
            ]
          },
          "metadata": {},
          "execution_count": 33
        }
      ]
    },
    {
      "cell_type": "code",
      "metadata": {
        "colab": {
          "base_uri": "https://localhost:8080/",
          "height": 541
        },
        "id": "Zt2YrELieiSh",
        "outputId": "5c80a47e-844c-471b-912f-f695d410e012"
      },
      "source": [
        "sns.set(rc={'figure.figsize':(5,5)})\n",
        "fig = px.histogram(df, x=\"Attack\",nbins=100)\n",
        "fig.show()"
      ],
      "execution_count": 34,
      "outputs": [
        {
          "output_type": "display_data",
          "data": {
            "text/html": [
              "<html>\n",
              "<head><meta charset=\"utf-8\" /></head>\n",
              "<body>\n",
              "    <div>\n",
              "            <script src=\"https://cdnjs.cloudflare.com/ajax/libs/mathjax/2.7.5/MathJax.js?config=TeX-AMS-MML_SVG\"></script><script type=\"text/javascript\">if (window.MathJax) {MathJax.Hub.Config({SVG: {font: \"STIX-Web\"}});}</script>\n",
              "                <script type=\"text/javascript\">window.PlotlyConfig = {MathJaxConfig: 'local'};</script>\n",
              "        <script src=\"https://cdn.plot.ly/plotly-latest.min.js\"></script>    \n",
              "            <div id=\"f6af9f5f-455e-403c-8247-ad8fc52e4a11\" class=\"plotly-graph-div\" style=\"height:525px; width:100%;\"></div>\n",
              "            <script type=\"text/javascript\">\n",
              "                \n",
              "                    window.PLOTLYENV=window.PLOTLYENV || {};\n",
              "                    \n",
              "                if (document.getElementById(\"f6af9f5f-455e-403c-8247-ad8fc52e4a11\")) {\n",
              "                    Plotly.newPlot(\n",
              "                        'f6af9f5f-455e-403c-8247-ad8fc52e4a11',\n",
              "                        [{\"alignmentgroup\": \"True\", \"bingroup\": \"x\", \"hoverlabel\": {\"namelength\": 0}, \"hovertemplate\": \"Attack=%{x}<br>count=%{y}\", \"legendgroup\": \"\", \"marker\": {\"color\": \"#636efa\"}, \"name\": \"\", \"nbinsx\": 100, \"offsetgroup\": \"\", \"orientation\": \"v\", \"showlegend\": false, \"type\": \"histogram\", \"x\": [49, 62, 82, 100, 52, 64, 84, 130, 104, 48, 63, 83, 103, 30, 20, 45, 35, 25, 90, 150, 45, 60, 80, 80, 56, 81, 60, 90, 60, 85, 55, 90, 75, 100, 47, 62, 92, 57, 72, 102, 45, 70, 41, 76, 45, 70, 45, 80, 50, 65, 80, 70, 95, 55, 65, 55, 80, 45, 70, 52, 82, 80, 105, 70, 110, 50, 65, 95, 20, 35, 50, 50, 80, 100, 130, 75, 90, 105, 40, 70, 80, 95, 120, 85, 100, 65, 75, 75, 35, 60, 65, 85, 110, 45, 70, 80, 105, 65, 95, 35, 50, 65, 65, 45, 48, 73, 105, 130, 30, 50, 40, 95, 50, 80, 120, 105, 55, 65, 90, 85, 130, 5, 55, 95, 125, 40, 65, 67, 92, 45, 75, 45, 110, 50, 83, 95, 125, 155, 100, 10, 125, 155, 85, 48, 55, 65, 65, 130, 60, 40, 60, 80, 115, 105, 135, 110, 85, 90, 100, 64, 84, 134, 110, 190, 150, 100, 49, 62, 82, 52, 64, 84, 65, 80, 105, 46, 76, 30, 50, 20, 35, 60, 90, 90, 38, 58, 40, 25, 30, 20, 40, 50, 75, 40, 55, 75, 95, 80, 20, 50, 100, 75, 35, 45, 55, 70, 30, 75, 65, 45, 85, 65, 65, 85, 75, 60, 72, 33, 80, 65, 90, 70, 75, 85, 125, 80, 120, 95, 130, 150, 10, 125, 185, 95, 80, 130, 40, 50, 50, 100, 55, 65, 105, 55, 40, 80, 60, 90, 90, 95, 60, 120, 80, 95, 20, 35, 95, 30, 63, 75, 80, 10, 85, 115, 75, 64, 84, 134, 164, 90, 130, 100, 45, 65, 85, 110, 60, 85, 120, 160, 70, 85, 110, 150, 55, 90, 30, 70, 45, 35, 70, 35, 50, 30, 50, 70, 40, 70, 100, 55, 85, 30, 50, 25, 35, 65, 85, 30, 60, 40, 130, 60, 80, 160, 45, 90, 90, 51, 71, 91, 60, 120, 20, 45, 45, 65, 75, 85, 85, 105, 70, 90, 110, 140, 40, 60, 100, 45, 75, 75, 50, 40, 73, 47, 60, 43, 73, 90, 120, 140, 70, 90, 60, 100, 120, 85, 25, 45, 60, 100, 70, 100, 85, 115, 40, 70, 110, 115, 100, 55, 95, 48, 78, 80, 120, 40, 70, 41, 81, 95, 125, 15, 60, 70, 90, 75, 115, 165, 40, 70, 68, 50, 130, 150, 23, 50, 80, 120, 40, 60, 80, 64, 104, 84, 90, 30, 75, 95, 135, 145, 55, 75, 135, 145, 100, 50, 75, 80, 100, 90, 130, 100, 150, 150, 180, 150, 180, 100, 150, 180, 70, 95, 68, 89, 109, 58, 78, 104, 51, 66, 86, 55, 75, 120, 45, 85, 25, 85, 65, 85, 120, 30, 70, 125, 165, 42, 52, 29, 59, 79, 69, 94, 30, 80, 45, 65, 105, 35, 60, 48, 83, 100, 50, 80, 66, 76, 136, 60, 125, 55, 82, 30, 63, 93, 24, 89, 80, 25, 5, 65, 92, 70, 90, 130, 170, 85, 70, 110, 145, 72, 112, 50, 90, 61, 106, 100, 49, 69, 20, 62, 92, 132, 120, 70, 85, 140, 100, 123, 95, 50, 76, 110, 60, 95, 130, 80, 125, 165, 55, 100, 80, 50, 65, 65, 65, 65, 65, 75, 105, 125, 120, 120, 90, 160, 100, 120, 70, 80, 100, 90, 100, 103, 120, 100, 45, 60, 75, 63, 93, 123, 55, 75, 100, 55, 85, 60, 80, 110, 50, 88, 53, 98, 53, 98, 53, 98, 25, 55, 55, 77, 115, 60, 100, 75, 105, 135, 45, 57, 85, 135, 60, 60, 80, 105, 140, 50, 65, 95, 100, 125, 53, 63, 103, 45, 55, 100, 27, 67, 35, 60, 92, 72, 82, 117, 90, 140, 30, 86, 65, 95, 75, 90, 58, 30, 50, 78, 108, 112, 140, 50, 95, 65, 105, 50, 95, 30, 45, 55, 30, 40, 65, 44, 87, 50, 65, 95, 60, 100, 75, 75, 135, 55, 85, 40, 60, 75, 47, 77, 50, 94, 55, 80, 100, 55, 85, 115, 55, 75, 30, 40, 55, 87, 117, 147, 70, 110, 50, 40, 70, 66, 85, 125, 120, 74, 124, 85, 125, 110, 83, 123, 55, 65, 97, 109, 65, 85, 105, 85, 60, 90, 129, 90, 115, 100, 115, 105, 120, 150, 125, 145, 130, 170, 120, 72, 72, 77, 128, 120, 61, 78, 107, 45, 59, 69, 56, 63, 95, 36, 56, 50, 73, 81, 35, 22, 52, 50, 68, 38, 45, 65, 65, 100, 82, 124, 80, 48, 48, 48, 80, 110, 150, 50, 52, 72, 48, 80, 54, 92, 52, 105, 60, 75, 53, 73, 38, 55, 89, 121, 59, 77, 65, 92, 58, 50, 50, 75, 100, 80, 70, 110, 66, 66, 66, 66, 90, 85, 95, 100, 69, 117, 30, 70, 131, 131, 100, 100, 160, 110, 160, 110], \"xaxis\": \"x\", \"yaxis\": \"y\"}],\n",
              "                        {\"barmode\": \"relative\", \"legend\": {\"tracegroupgap\": 0}, \"margin\": {\"t\": 60}, \"template\": {\"data\": {\"bar\": [{\"error_x\": {\"color\": \"#2a3f5f\"}, \"error_y\": {\"color\": \"#2a3f5f\"}, \"marker\": {\"line\": {\"color\": \"#E5ECF6\", \"width\": 0.5}}, \"type\": \"bar\"}], \"barpolar\": [{\"marker\": {\"line\": {\"color\": \"#E5ECF6\", \"width\": 0.5}}, \"type\": \"barpolar\"}], \"carpet\": [{\"aaxis\": {\"endlinecolor\": \"#2a3f5f\", \"gridcolor\": \"white\", \"linecolor\": \"white\", \"minorgridcolor\": \"white\", \"startlinecolor\": \"#2a3f5f\"}, \"baxis\": {\"endlinecolor\": \"#2a3f5f\", \"gridcolor\": \"white\", \"linecolor\": \"white\", \"minorgridcolor\": \"white\", \"startlinecolor\": \"#2a3f5f\"}, \"type\": \"carpet\"}], \"choropleth\": [{\"colorbar\": {\"outlinewidth\": 0, \"ticks\": \"\"}, \"type\": \"choropleth\"}], \"contour\": [{\"colorbar\": {\"outlinewidth\": 0, \"ticks\": \"\"}, \"colorscale\": [[0.0, \"#0d0887\"], [0.1111111111111111, \"#46039f\"], [0.2222222222222222, \"#7201a8\"], [0.3333333333333333, \"#9c179e\"], [0.4444444444444444, \"#bd3786\"], [0.5555555555555556, \"#d8576b\"], [0.6666666666666666, \"#ed7953\"], [0.7777777777777778, \"#fb9f3a\"], [0.8888888888888888, \"#fdca26\"], [1.0, \"#f0f921\"]], \"type\": \"contour\"}], \"contourcarpet\": [{\"colorbar\": {\"outlinewidth\": 0, \"ticks\": \"\"}, \"type\": \"contourcarpet\"}], \"heatmap\": [{\"colorbar\": {\"outlinewidth\": 0, \"ticks\": \"\"}, \"colorscale\": [[0.0, \"#0d0887\"], [0.1111111111111111, \"#46039f\"], [0.2222222222222222, \"#7201a8\"], [0.3333333333333333, \"#9c179e\"], [0.4444444444444444, \"#bd3786\"], [0.5555555555555556, \"#d8576b\"], [0.6666666666666666, \"#ed7953\"], [0.7777777777777778, \"#fb9f3a\"], [0.8888888888888888, \"#fdca26\"], [1.0, \"#f0f921\"]], \"type\": \"heatmap\"}], \"heatmapgl\": [{\"colorbar\": {\"outlinewidth\": 0, \"ticks\": \"\"}, \"colorscale\": [[0.0, \"#0d0887\"], [0.1111111111111111, \"#46039f\"], [0.2222222222222222, \"#7201a8\"], [0.3333333333333333, \"#9c179e\"], [0.4444444444444444, \"#bd3786\"], [0.5555555555555556, \"#d8576b\"], [0.6666666666666666, \"#ed7953\"], [0.7777777777777778, \"#fb9f3a\"], [0.8888888888888888, \"#fdca26\"], [1.0, \"#f0f921\"]], \"type\": \"heatmapgl\"}], \"histogram\": [{\"marker\": {\"colorbar\": {\"outlinewidth\": 0, \"ticks\": \"\"}}, \"type\": \"histogram\"}], \"histogram2d\": [{\"colorbar\": {\"outlinewidth\": 0, \"ticks\": \"\"}, \"colorscale\": [[0.0, \"#0d0887\"], [0.1111111111111111, \"#46039f\"], [0.2222222222222222, \"#7201a8\"], [0.3333333333333333, \"#9c179e\"], [0.4444444444444444, \"#bd3786\"], [0.5555555555555556, \"#d8576b\"], [0.6666666666666666, \"#ed7953\"], [0.7777777777777778, \"#fb9f3a\"], [0.8888888888888888, \"#fdca26\"], [1.0, \"#f0f921\"]], \"type\": \"histogram2d\"}], \"histogram2dcontour\": [{\"colorbar\": {\"outlinewidth\": 0, \"ticks\": \"\"}, \"colorscale\": [[0.0, \"#0d0887\"], [0.1111111111111111, \"#46039f\"], [0.2222222222222222, \"#7201a8\"], [0.3333333333333333, \"#9c179e\"], [0.4444444444444444, \"#bd3786\"], [0.5555555555555556, \"#d8576b\"], [0.6666666666666666, \"#ed7953\"], [0.7777777777777778, \"#fb9f3a\"], [0.8888888888888888, \"#fdca26\"], [1.0, \"#f0f921\"]], \"type\": \"histogram2dcontour\"}], \"mesh3d\": [{\"colorbar\": {\"outlinewidth\": 0, \"ticks\": \"\"}, \"type\": \"mesh3d\"}], \"parcoords\": [{\"line\": {\"colorbar\": {\"outlinewidth\": 0, \"ticks\": \"\"}}, \"type\": \"parcoords\"}], \"pie\": [{\"automargin\": true, \"type\": \"pie\"}], \"scatter\": [{\"marker\": {\"colorbar\": {\"outlinewidth\": 0, \"ticks\": \"\"}}, \"type\": \"scatter\"}], \"scatter3d\": [{\"line\": {\"colorbar\": {\"outlinewidth\": 0, \"ticks\": \"\"}}, \"marker\": {\"colorbar\": {\"outlinewidth\": 0, \"ticks\": \"\"}}, \"type\": \"scatter3d\"}], \"scattercarpet\": [{\"marker\": {\"colorbar\": {\"outlinewidth\": 0, \"ticks\": \"\"}}, \"type\": \"scattercarpet\"}], \"scattergeo\": [{\"marker\": {\"colorbar\": {\"outlinewidth\": 0, \"ticks\": \"\"}}, \"type\": \"scattergeo\"}], \"scattergl\": [{\"marker\": {\"colorbar\": {\"outlinewidth\": 0, \"ticks\": \"\"}}, \"type\": \"scattergl\"}], \"scattermapbox\": [{\"marker\": {\"colorbar\": {\"outlinewidth\": 0, \"ticks\": \"\"}}, \"type\": \"scattermapbox\"}], \"scatterpolar\": [{\"marker\": {\"colorbar\": {\"outlinewidth\": 0, \"ticks\": \"\"}}, \"type\": \"scatterpolar\"}], \"scatterpolargl\": [{\"marker\": {\"colorbar\": {\"outlinewidth\": 0, \"ticks\": \"\"}}, \"type\": \"scatterpolargl\"}], \"scatterternary\": [{\"marker\": {\"colorbar\": {\"outlinewidth\": 0, \"ticks\": \"\"}}, \"type\": \"scatterternary\"}], \"surface\": [{\"colorbar\": {\"outlinewidth\": 0, \"ticks\": \"\"}, \"colorscale\": [[0.0, \"#0d0887\"], [0.1111111111111111, \"#46039f\"], [0.2222222222222222, \"#7201a8\"], [0.3333333333333333, \"#9c179e\"], [0.4444444444444444, \"#bd3786\"], [0.5555555555555556, \"#d8576b\"], [0.6666666666666666, \"#ed7953\"], [0.7777777777777778, \"#fb9f3a\"], [0.8888888888888888, \"#fdca26\"], [1.0, \"#f0f921\"]], \"type\": \"surface\"}], \"table\": [{\"cells\": {\"fill\": {\"color\": \"#EBF0F8\"}, \"line\": {\"color\": \"white\"}}, \"header\": {\"fill\": {\"color\": \"#C8D4E3\"}, \"line\": {\"color\": \"white\"}}, \"type\": \"table\"}]}, \"layout\": {\"annotationdefaults\": {\"arrowcolor\": \"#2a3f5f\", \"arrowhead\": 0, \"arrowwidth\": 1}, \"coloraxis\": {\"colorbar\": {\"outlinewidth\": 0, \"ticks\": \"\"}}, \"colorscale\": {\"diverging\": [[0, \"#8e0152\"], [0.1, \"#c51b7d\"], [0.2, \"#de77ae\"], [0.3, \"#f1b6da\"], [0.4, \"#fde0ef\"], [0.5, \"#f7f7f7\"], [0.6, \"#e6f5d0\"], [0.7, \"#b8e186\"], [0.8, \"#7fbc41\"], [0.9, \"#4d9221\"], [1, \"#276419\"]], \"sequential\": [[0.0, \"#0d0887\"], [0.1111111111111111, \"#46039f\"], [0.2222222222222222, \"#7201a8\"], [0.3333333333333333, \"#9c179e\"], [0.4444444444444444, \"#bd3786\"], [0.5555555555555556, \"#d8576b\"], [0.6666666666666666, \"#ed7953\"], [0.7777777777777778, \"#fb9f3a\"], [0.8888888888888888, \"#fdca26\"], [1.0, \"#f0f921\"]], \"sequentialminus\": [[0.0, \"#0d0887\"], [0.1111111111111111, \"#46039f\"], [0.2222222222222222, \"#7201a8\"], [0.3333333333333333, \"#9c179e\"], [0.4444444444444444, \"#bd3786\"], [0.5555555555555556, \"#d8576b\"], [0.6666666666666666, \"#ed7953\"], [0.7777777777777778, \"#fb9f3a\"], [0.8888888888888888, \"#fdca26\"], [1.0, \"#f0f921\"]]}, \"colorway\": [\"#636efa\", \"#EF553B\", \"#00cc96\", \"#ab63fa\", \"#FFA15A\", \"#19d3f3\", \"#FF6692\", \"#B6E880\", \"#FF97FF\", \"#FECB52\"], \"font\": {\"color\": \"#2a3f5f\"}, \"geo\": {\"bgcolor\": \"white\", \"lakecolor\": \"white\", \"landcolor\": \"#E5ECF6\", \"showlakes\": true, \"showland\": true, \"subunitcolor\": \"white\"}, \"hoverlabel\": {\"align\": \"left\"}, \"hovermode\": \"closest\", \"mapbox\": {\"style\": \"light\"}, \"paper_bgcolor\": \"white\", \"plot_bgcolor\": \"#E5ECF6\", \"polar\": {\"angularaxis\": {\"gridcolor\": \"white\", \"linecolor\": \"white\", \"ticks\": \"\"}, \"bgcolor\": \"#E5ECF6\", \"radialaxis\": {\"gridcolor\": \"white\", \"linecolor\": \"white\", \"ticks\": \"\"}}, \"scene\": {\"xaxis\": {\"backgroundcolor\": \"#E5ECF6\", \"gridcolor\": \"white\", \"gridwidth\": 2, \"linecolor\": \"white\", \"showbackground\": true, \"ticks\": \"\", \"zerolinecolor\": \"white\"}, \"yaxis\": {\"backgroundcolor\": \"#E5ECF6\", \"gridcolor\": \"white\", \"gridwidth\": 2, \"linecolor\": \"white\", \"showbackground\": true, \"ticks\": \"\", \"zerolinecolor\": \"white\"}, \"zaxis\": {\"backgroundcolor\": \"#E5ECF6\", \"gridcolor\": \"white\", \"gridwidth\": 2, \"linecolor\": \"white\", \"showbackground\": true, \"ticks\": \"\", \"zerolinecolor\": \"white\"}}, \"shapedefaults\": {\"line\": {\"color\": \"#2a3f5f\"}}, \"ternary\": {\"aaxis\": {\"gridcolor\": \"white\", \"linecolor\": \"white\", \"ticks\": \"\"}, \"baxis\": {\"gridcolor\": \"white\", \"linecolor\": \"white\", \"ticks\": \"\"}, \"bgcolor\": \"#E5ECF6\", \"caxis\": {\"gridcolor\": \"white\", \"linecolor\": \"white\", \"ticks\": \"\"}}, \"title\": {\"x\": 0.05}, \"xaxis\": {\"automargin\": true, \"gridcolor\": \"white\", \"linecolor\": \"white\", \"ticks\": \"\", \"title\": {\"standoff\": 15}, \"zerolinecolor\": \"white\", \"zerolinewidth\": 2}, \"yaxis\": {\"automargin\": true, \"gridcolor\": \"white\", \"linecolor\": \"white\", \"ticks\": \"\", \"title\": {\"standoff\": 15}, \"zerolinecolor\": \"white\", \"zerolinewidth\": 2}}}, \"xaxis\": {\"anchor\": \"y\", \"domain\": [0.0, 1.0], \"title\": {\"text\": \"Attack\"}}, \"yaxis\": {\"anchor\": \"x\", \"domain\": [0.0, 1.0], \"title\": {\"text\": \"count\"}}},\n",
              "                        {\"responsive\": true}\n",
              "                    ).then(function(){\n",
              "                            \n",
              "var gd = document.getElementById('f6af9f5f-455e-403c-8247-ad8fc52e4a11');\n",
              "var x = new MutationObserver(function (mutations, observer) {{\n",
              "        var display = window.getComputedStyle(gd).display;\n",
              "        if (!display || display === 'none') {{\n",
              "            console.log([gd, 'removed!']);\n",
              "            Plotly.purge(gd);\n",
              "            observer.disconnect();\n",
              "        }}\n",
              "}});\n",
              "\n",
              "// Listen for the removal of the full notebook cells\n",
              "var notebookContainer = gd.closest('#notebook-container');\n",
              "if (notebookContainer) {{\n",
              "    x.observe(notebookContainer, {childList: true});\n",
              "}}\n",
              "\n",
              "// Listen for the clearing of the current output cell\n",
              "var outputEl = gd.closest('.output');\n",
              "if (outputEl) {{\n",
              "    x.observe(outputEl, {childList: true});\n",
              "}}\n",
              "\n",
              "                        })\n",
              "                };\n",
              "                \n",
              "            </script>\n",
              "        </div>\n",
              "</body>\n",
              "</html>"
            ]
          },
          "metadata": {}
        }
      ]
    },
    {
      "cell_type": "code",
      "metadata": {
        "colab": {
          "base_uri": "https://localhost:8080/"
        },
        "id": "fB9qbyz-Wn8C",
        "outputId": "16a66711-0036-4764-8955-a7996fb871fa"
      },
      "source": [
        "df['Attack'].mean()"
      ],
      "execution_count": 35,
      "outputs": [
        {
          "output_type": "execute_result",
          "data": {
            "text/plain": [
              "79.00125"
            ]
          },
          "metadata": {},
          "execution_count": 35
        }
      ]
    },
    {
      "cell_type": "markdown",
      "metadata": {
        "id": "_pyMKsKBX1Nb"
      },
      "source": [
        "# para  μ=79.00125 y μ0=77, se presenta una diferenecia de 2.001249999999999, por lo que para concluir si se considera una diferencia significativa, debemos realizar la prueba de hipotesis:\n",
        "\n",
        "\n"
      ]
    },
    {
      "cell_type": "code",
      "metadata": {
        "colab": {
          "base_uri": "https://localhost:8080/"
        },
        "id": "IM_d78pXhi7k",
        "outputId": "6a36641d-07a8-412a-f15e-484ff4675912"
      },
      "source": [
        "stats.ttest_1samp(df['Attack'], popmean=77)"
      ],
      "execution_count": 36,
      "outputs": [
        {
          "output_type": "execute_result",
          "data": {
            "text/plain": [
              "Ttest_1sampResult(statistic=1.7439461372672926, pvalue=0.08155305645189834)"
            ]
          },
          "metadata": {},
          "execution_count": 36
        }
      ]
    },
    {
      "cell_type": "code",
      "metadata": {
        "colab": {
          "base_uri": "https://localhost:8080/"
        },
        "id": "z30pQ8rmYZkV",
        "outputId": "60387b92-8def-419f-ad48-ddafb207e244"
      },
      "source": [
        "T,p = stats.ttest_1samp(df['Attack'], popmean=77)\n",
        "p"
      ],
      "execution_count": 37,
      "outputs": [
        {
          "output_type": "execute_result",
          "data": {
            "text/plain": [
              "0.08155305645189834"
            ]
          },
          "metadata": {},
          "execution_count": 37
        }
      ]
    },
    {
      "cell_type": "code",
      "metadata": {
        "colab": {
          "base_uri": "https://localhost:8080/"
        },
        "id": "eZyGPt9Bhvl1",
        "outputId": "268b82ba-655e-42a7-9985-6cf57d40f15a"
      },
      "source": [
        "p<0.05"
      ],
      "execution_count": 38,
      "outputs": [
        {
          "output_type": "execute_result",
          "data": {
            "text/plain": [
              "False"
            ]
          },
          "metadata": {},
          "execution_count": 38
        }
      ]
    },
    {
      "cell_type": "code",
      "metadata": {
        "colab": {
          "base_uri": "https://localhost:8080/"
        },
        "id": "nDRSjf45i8nF",
        "outputId": "edebaf5a-a546-4f1b-ca4f-9c97a3522a00"
      },
      "source": [
        "p>0.05"
      ],
      "execution_count": 39,
      "outputs": [
        {
          "output_type": "execute_result",
          "data": {
            "text/plain": [
              "True"
            ]
          },
          "metadata": {},
          "execution_count": 39
        }
      ]
    },
    {
      "cell_type": "markdown",
      "metadata": {
        "id": "bqJhRZPRiJAT"
      },
      "source": [
        "# dado que p (0.08155305645189834) es mayor que  α=0.05.\n",
        "# y esta probabilidad es mayor que nuestro nivel de significación ( p>α ) se tiene que retener la hipotesis nula  H0  y afirmamos que la diferencia observada no es estadísticamente significativa."
      ]
    },
    {
      "cell_type": "markdown",
      "metadata": {
        "id": "QiavC8wKoq_p"
      },
      "source": [
        "# Ahora bien, Aplicamos la alternativa es unilateral, Ha:μ>μ0  o  Ha:μ<μ0 . Encontramos:\n"
      ]
    },
    {
      "cell_type": "code",
      "metadata": {
        "id": "ni2nJF0xiHwc"
      },
      "source": [
        "u=79.00125\n",
        "u0=77"
      ],
      "execution_count": 40,
      "outputs": []
    },
    {
      "cell_type": "code",
      "metadata": {
        "colab": {
          "base_uri": "https://localhost:8080/"
        },
        "id": "CliUPJZSmH5R",
        "outputId": "9d43ca96-a82a-4073-b624-5a55522b8d61"
      },
      "source": [
        "u>u0"
      ],
      "execution_count": 41,
      "outputs": [
        {
          "output_type": "execute_result",
          "data": {
            "text/plain": [
              "True"
            ]
          },
          "metadata": {},
          "execution_count": 41
        }
      ]
    },
    {
      "cell_type": "code",
      "metadata": {
        "colab": {
          "base_uri": "https://localhost:8080/"
        },
        "id": "9NvHMIUloiIi",
        "outputId": "162416d2-3f49-4320-f6f6-448b0e8651b7"
      },
      "source": [
        "u<u0"
      ],
      "execution_count": 42,
      "outputs": [
        {
          "output_type": "execute_result",
          "data": {
            "text/plain": [
              "False"
            ]
          },
          "metadata": {},
          "execution_count": 42
        }
      ]
    },
    {
      "cell_type": "markdown",
      "metadata": {
        "id": "VzujqU84miyL"
      },
      "source": [
        "# dado que μ>μ0, debemos dividir **p** por la mitad, lo cual nos ayudara a decidir si efectivamente si tenemos suficientes argumentos para sostener la hipótesis nula y rechazar totalmente la hipotesis alterna."
      ]
    },
    {
      "cell_type": "code",
      "metadata": {
        "colab": {
          "base_uri": "https://localhost:8080/"
        },
        "id": "oKCWf0p5mh7L",
        "outputId": "4a167f27-13d8-4839-867e-ca82f8edfb18"
      },
      "source": [
        "p_valueh = p/2\n",
        "p_valueh"
      ],
      "execution_count": 43,
      "outputs": [
        {
          "output_type": "execute_result",
          "data": {
            "text/plain": [
              "0.04077652822594917"
            ]
          },
          "metadata": {},
          "execution_count": 43
        }
      ]
    },
    {
      "cell_type": "code",
      "metadata": {
        "colab": {
          "base_uri": "https://localhost:8080/"
        },
        "id": "YUOmRqaonaiR",
        "outputId": "09b67908-0a6e-4eb2-9cd2-0c71d3a1cce3"
      },
      "source": [
        "p_valueh<0.05"
      ],
      "execution_count": 44,
      "outputs": [
        {
          "output_type": "execute_result",
          "data": {
            "text/plain": [
              "True"
            ]
          },
          "metadata": {},
          "execution_count": 44
        }
      ]
    },
    {
      "cell_type": "code",
      "metadata": {
        "colab": {
          "base_uri": "https://localhost:8080/"
        },
        "id": "NGsSAsTNnjY4",
        "outputId": "babe1533-23d7-47f0-e0e1-dcd6f57fd2a0"
      },
      "source": [
        "p_valueh>0.05"
      ],
      "execution_count": 45,
      "outputs": [
        {
          "output_type": "execute_result",
          "data": {
            "text/plain": [
              "False"
            ]
          },
          "metadata": {},
          "execution_count": 45
        }
      ]
    },
    {
      "cell_type": "markdown",
      "metadata": {
        "id": "jzURqCLlnrrR"
      },
      "source": [
        "# Ahora bien con los nuevos argumentos observamos que, p_valueh (0.04077652822594917) es menor que el nivel de significancia (α  = 0.05)\n",
        "\n",
        "# ( p_valueh <α ) por lo tanto debemos rechazar la hipotesis nula  H0  y se afirma que esta diferencia observada es \"estadísticamente significativa\""
      ]
    },
    {
      "cell_type": "markdown",
      "metadata": {
        "id": "RZE1cszbp6oY"
      },
      "source": [
        "# EJERCICIO 3 - PUNTO 2"
      ]
    },
    {
      "cell_type": "markdown",
      "metadata": {
        "id": "btSe1i-5qEsC"
      },
      "source": [
        "# 2. El promedio del ataque de los pokemones legendarios es diferente a los no legendarios"
      ]
    },
    {
      "cell_type": "code",
      "metadata": {
        "colab": {
          "base_uri": "https://localhost:8080/",
          "height": 412
        },
        "id": "lzNTxtO7vZV-",
        "outputId": "b9efdfa0-18b1-4621-e914-a0661e91b46c"
      },
      "source": [
        "df"
      ],
      "execution_count": 46,
      "outputs": [
        {
          "output_type": "execute_result",
          "data": {
            "text/html": [
              "<div>\n",
              "<style scoped>\n",
              "    .dataframe tbody tr th:only-of-type {\n",
              "        vertical-align: middle;\n",
              "    }\n",
              "\n",
              "    .dataframe tbody tr th {\n",
              "        vertical-align: top;\n",
              "    }\n",
              "\n",
              "    .dataframe thead th {\n",
              "        text-align: right;\n",
              "    }\n",
              "</style>\n",
              "<table border=\"1\" class=\"dataframe\">\n",
              "  <thead>\n",
              "    <tr style=\"text-align: right;\">\n",
              "      <th></th>\n",
              "      <th>#</th>\n",
              "      <th>Name</th>\n",
              "      <th>Type 1</th>\n",
              "      <th>Type 2</th>\n",
              "      <th>HP</th>\n",
              "      <th>Attack</th>\n",
              "      <th>Defense</th>\n",
              "      <th>Sp. Atk</th>\n",
              "      <th>Sp. Def</th>\n",
              "      <th>Speed</th>\n",
              "      <th>Generation</th>\n",
              "      <th>Legendary</th>\n",
              "      <th>LEGENDARY DESCRIP</th>\n",
              "    </tr>\n",
              "  </thead>\n",
              "  <tbody>\n",
              "    <tr>\n",
              "      <th>0</th>\n",
              "      <td>1</td>\n",
              "      <td>Bulbasaur</td>\n",
              "      <td>Grass</td>\n",
              "      <td>Poison</td>\n",
              "      <td>45</td>\n",
              "      <td>49</td>\n",
              "      <td>49</td>\n",
              "      <td>65</td>\n",
              "      <td>65</td>\n",
              "      <td>45</td>\n",
              "      <td>1</td>\n",
              "      <td>False</td>\n",
              "      <td>no Legendario</td>\n",
              "    </tr>\n",
              "    <tr>\n",
              "      <th>1</th>\n",
              "      <td>2</td>\n",
              "      <td>Ivysaur</td>\n",
              "      <td>Grass</td>\n",
              "      <td>Poison</td>\n",
              "      <td>60</td>\n",
              "      <td>62</td>\n",
              "      <td>63</td>\n",
              "      <td>80</td>\n",
              "      <td>80</td>\n",
              "      <td>60</td>\n",
              "      <td>1</td>\n",
              "      <td>False</td>\n",
              "      <td>no Legendario</td>\n",
              "    </tr>\n",
              "    <tr>\n",
              "      <th>2</th>\n",
              "      <td>3</td>\n",
              "      <td>Venusaur</td>\n",
              "      <td>Grass</td>\n",
              "      <td>Poison</td>\n",
              "      <td>80</td>\n",
              "      <td>82</td>\n",
              "      <td>83</td>\n",
              "      <td>100</td>\n",
              "      <td>100</td>\n",
              "      <td>80</td>\n",
              "      <td>1</td>\n",
              "      <td>False</td>\n",
              "      <td>no Legendario</td>\n",
              "    </tr>\n",
              "    <tr>\n",
              "      <th>3</th>\n",
              "      <td>3</td>\n",
              "      <td>VenusaurMega Venusaur</td>\n",
              "      <td>Grass</td>\n",
              "      <td>Poison</td>\n",
              "      <td>80</td>\n",
              "      <td>100</td>\n",
              "      <td>123</td>\n",
              "      <td>122</td>\n",
              "      <td>120</td>\n",
              "      <td>80</td>\n",
              "      <td>1</td>\n",
              "      <td>False</td>\n",
              "      <td>no Legendario</td>\n",
              "    </tr>\n",
              "    <tr>\n",
              "      <th>4</th>\n",
              "      <td>4</td>\n",
              "      <td>Charmander</td>\n",
              "      <td>Fire</td>\n",
              "      <td>NaN</td>\n",
              "      <td>39</td>\n",
              "      <td>52</td>\n",
              "      <td>43</td>\n",
              "      <td>60</td>\n",
              "      <td>50</td>\n",
              "      <td>65</td>\n",
              "      <td>1</td>\n",
              "      <td>False</td>\n",
              "      <td>no Legendario</td>\n",
              "    </tr>\n",
              "    <tr>\n",
              "      <th>...</th>\n",
              "      <td>...</td>\n",
              "      <td>...</td>\n",
              "      <td>...</td>\n",
              "      <td>...</td>\n",
              "      <td>...</td>\n",
              "      <td>...</td>\n",
              "      <td>...</td>\n",
              "      <td>...</td>\n",
              "      <td>...</td>\n",
              "      <td>...</td>\n",
              "      <td>...</td>\n",
              "      <td>...</td>\n",
              "      <td>...</td>\n",
              "    </tr>\n",
              "    <tr>\n",
              "      <th>795</th>\n",
              "      <td>719</td>\n",
              "      <td>Diancie</td>\n",
              "      <td>Rock</td>\n",
              "      <td>Fairy</td>\n",
              "      <td>50</td>\n",
              "      <td>100</td>\n",
              "      <td>150</td>\n",
              "      <td>100</td>\n",
              "      <td>150</td>\n",
              "      <td>50</td>\n",
              "      <td>6</td>\n",
              "      <td>True</td>\n",
              "      <td>Legendario</td>\n",
              "    </tr>\n",
              "    <tr>\n",
              "      <th>796</th>\n",
              "      <td>719</td>\n",
              "      <td>DiancieMega Diancie</td>\n",
              "      <td>Rock</td>\n",
              "      <td>Fairy</td>\n",
              "      <td>50</td>\n",
              "      <td>160</td>\n",
              "      <td>110</td>\n",
              "      <td>160</td>\n",
              "      <td>110</td>\n",
              "      <td>110</td>\n",
              "      <td>6</td>\n",
              "      <td>True</td>\n",
              "      <td>Legendario</td>\n",
              "    </tr>\n",
              "    <tr>\n",
              "      <th>797</th>\n",
              "      <td>720</td>\n",
              "      <td>HoopaHoopa Confined</td>\n",
              "      <td>Psychic</td>\n",
              "      <td>Ghost</td>\n",
              "      <td>80</td>\n",
              "      <td>110</td>\n",
              "      <td>60</td>\n",
              "      <td>150</td>\n",
              "      <td>130</td>\n",
              "      <td>70</td>\n",
              "      <td>6</td>\n",
              "      <td>True</td>\n",
              "      <td>Legendario</td>\n",
              "    </tr>\n",
              "    <tr>\n",
              "      <th>798</th>\n",
              "      <td>720</td>\n",
              "      <td>HoopaHoopa Unbound</td>\n",
              "      <td>Psychic</td>\n",
              "      <td>Dark</td>\n",
              "      <td>80</td>\n",
              "      <td>160</td>\n",
              "      <td>60</td>\n",
              "      <td>170</td>\n",
              "      <td>130</td>\n",
              "      <td>80</td>\n",
              "      <td>6</td>\n",
              "      <td>True</td>\n",
              "      <td>Legendario</td>\n",
              "    </tr>\n",
              "    <tr>\n",
              "      <th>799</th>\n",
              "      <td>721</td>\n",
              "      <td>Volcanion</td>\n",
              "      <td>Fire</td>\n",
              "      <td>Water</td>\n",
              "      <td>80</td>\n",
              "      <td>110</td>\n",
              "      <td>120</td>\n",
              "      <td>130</td>\n",
              "      <td>90</td>\n",
              "      <td>70</td>\n",
              "      <td>6</td>\n",
              "      <td>True</td>\n",
              "      <td>Legendario</td>\n",
              "    </tr>\n",
              "  </tbody>\n",
              "</table>\n",
              "<p>800 rows × 13 columns</p>\n",
              "</div>"
            ],
            "text/plain": [
              "       #                   Name  ... Legendary LEGENDARY DESCRIP\n",
              "0      1              Bulbasaur  ...     False     no Legendario\n",
              "1      2                Ivysaur  ...     False     no Legendario\n",
              "2      3               Venusaur  ...     False     no Legendario\n",
              "3      3  VenusaurMega Venusaur  ...     False     no Legendario\n",
              "4      4             Charmander  ...     False     no Legendario\n",
              "..   ...                    ...  ...       ...               ...\n",
              "795  719                Diancie  ...      True        Legendario\n",
              "796  719    DiancieMega Diancie  ...      True        Legendario\n",
              "797  720    HoopaHoopa Confined  ...      True        Legendario\n",
              "798  720     HoopaHoopa Unbound  ...      True        Legendario\n",
              "799  721              Volcanion  ...      True        Legendario\n",
              "\n",
              "[800 rows x 13 columns]"
            ]
          },
          "metadata": {},
          "execution_count": 46
        }
      ]
    },
    {
      "cell_type": "code",
      "metadata": {
        "colab": {
          "base_uri": "https://localhost:8080/"
        },
        "id": "LDEpLwQYy97N",
        "outputId": "3371b1f7-4ead-46d8-897e-92bb84665bbc"
      },
      "source": [
        "df[df['LEGENDARY DESCRIP']==\"Legendario\"].Attack.describe()"
      ],
      "execution_count": 47,
      "outputs": [
        {
          "output_type": "execute_result",
          "data": {
            "text/plain": [
              "count     65.000000\n",
              "mean     116.676923\n",
              "std       30.348037\n",
              "min       50.000000\n",
              "25%      100.000000\n",
              "50%      110.000000\n",
              "75%      131.000000\n",
              "max      190.000000\n",
              "Name: Attack, dtype: float64"
            ]
          },
          "metadata": {},
          "execution_count": 47
        }
      ]
    },
    {
      "cell_type": "code",
      "metadata": {
        "colab": {
          "base_uri": "https://localhost:8080/"
        },
        "id": "s1RBvmR5zCG6",
        "outputId": "1269c878-aaf6-414d-8648-098421aaf7f4"
      },
      "source": [
        "df[df['LEGENDARY DESCRIP']==\"no Legendario\"].Attack.describe()"
      ],
      "execution_count": 48,
      "outputs": [
        {
          "output_type": "execute_result",
          "data": {
            "text/plain": [
              "count    735.000000\n",
              "mean      75.669388\n",
              "std       30.490153\n",
              "min        5.000000\n",
              "25%       54.500000\n",
              "50%       72.000000\n",
              "75%       95.000000\n",
              "max      185.000000\n",
              "Name: Attack, dtype: float64"
            ]
          },
          "metadata": {},
          "execution_count": 48
        }
      ]
    },
    {
      "cell_type": "code",
      "metadata": {
        "colab": {
          "base_uri": "https://localhost:8080/",
          "height": 541
        },
        "id": "tNKQNRmqvlsA",
        "outputId": "d716d087-15af-4a34-9a70-c49f7e15fc99"
      },
      "source": [
        "import plotly.express as px\n",
        "fig = px.box(df, x=\"LEGENDARY DESCRIP\", y=\"Attack\", points=\"all\",width=1300)\n",
        "fig.show()"
      ],
      "execution_count": 64,
      "outputs": [
        {
          "output_type": "display_data",
          "data": {
            "text/html": [
              "<html>\n",
              "<head><meta charset=\"utf-8\" /></head>\n",
              "<body>\n",
              "    <div>\n",
              "            <script src=\"https://cdnjs.cloudflare.com/ajax/libs/mathjax/2.7.5/MathJax.js?config=TeX-AMS-MML_SVG\"></script><script type=\"text/javascript\">if (window.MathJax) {MathJax.Hub.Config({SVG: {font: \"STIX-Web\"}});}</script>\n",
              "                <script type=\"text/javascript\">window.PlotlyConfig = {MathJaxConfig: 'local'};</script>\n",
              "        <script src=\"https://cdn.plot.ly/plotly-latest.min.js\"></script>    \n",
              "            <div id=\"7ca8f58f-6a9c-4a60-aa62-93cec4a7ec76\" class=\"plotly-graph-div\" style=\"height:525px; width:1300px;\"></div>\n",
              "            <script type=\"text/javascript\">\n",
              "                \n",
              "                    window.PLOTLYENV=window.PLOTLYENV || {};\n",
              "                    \n",
              "                if (document.getElementById(\"7ca8f58f-6a9c-4a60-aa62-93cec4a7ec76\")) {\n",
              "                    Plotly.newPlot(\n",
              "                        '7ca8f58f-6a9c-4a60-aa62-93cec4a7ec76',\n",
              "                        [{\"alignmentgroup\": \"True\", \"boxpoints\": \"all\", \"hoverlabel\": {\"namelength\": 0}, \"hovertemplate\": \"LEGENDARY DESCRIP=%{x}<br>Attack=%{y}\", \"legendgroup\": \"\", \"marker\": {\"color\": \"#636efa\"}, \"name\": \"\", \"notched\": false, \"offsetgroup\": \"\", \"orientation\": \"v\", \"showlegend\": false, \"type\": \"box\", \"x\": [\"no Legendario\", \"no Legendario\", \"no Legendario\", \"no Legendario\", \"no Legendario\", \"no Legendario\", \"no Legendario\", \"no Legendario\", \"no Legendario\", \"no Legendario\", \"no Legendario\", \"no Legendario\", \"no Legendario\", \"no Legendario\", \"no Legendario\", \"no Legendario\", \"no Legendario\", \"no Legendario\", \"no Legendario\", \"no Legendario\", \"no Legendario\", \"no Legendario\", \"no Legendario\", \"no Legendario\", \"no Legendario\", \"no Legendario\", \"no Legendario\", \"no Legendario\", \"no Legendario\", \"no Legendario\", \"no Legendario\", \"no Legendario\", \"no Legendario\", \"no Legendario\", \"no Legendario\", \"no Legendario\", \"no Legendario\", \"no Legendario\", \"no Legendario\", \"no Legendario\", \"no Legendario\", \"no Legendario\", \"no Legendario\", \"no Legendario\", \"no Legendario\", \"no Legendario\", \"no Legendario\", \"no Legendario\", \"no Legendario\", \"no Legendario\", \"no Legendario\", \"no Legendario\", \"no Legendario\", \"no Legendario\", \"no Legendario\", \"no Legendario\", \"no Legendario\", \"no Legendario\", \"no Legendario\", \"no Legendario\", \"no Legendario\", \"no Legendario\", \"no Legendario\", \"no Legendario\", \"no Legendario\", \"no Legendario\", \"no Legendario\", \"no Legendario\", \"no Legendario\", \"no Legendario\", \"no Legendario\", \"no Legendario\", \"no Legendario\", \"no Legendario\", \"no Legendario\", \"no Legendario\", \"no Legendario\", \"no Legendario\", \"no Legendario\", \"no Legendario\", \"no Legendario\", \"no Legendario\", \"no Legendario\", \"no Legendario\", \"no Legendario\", \"no Legendario\", \"no Legendario\", \"no Legendario\", \"no Legendario\", \"no Legendario\", \"no Legendario\", \"no Legendario\", \"no Legendario\", \"no Legendario\", \"no Legendario\", \"no Legendario\", \"no Legendario\", \"no Legendario\", \"no Legendario\", \"no Legendario\", \"no Legendario\", \"no Legendario\", \"no Legendario\", \"no Legendario\", \"no Legendario\", \"no Legendario\", \"no Legendario\", \"no Legendario\", \"no Legendario\", \"no Legendario\", \"no Legendario\", \"no Legendario\", \"no Legendario\", \"no Legendario\", \"no Legendario\", \"no Legendario\", \"no Legendario\", \"no Legendario\", \"no Legendario\", \"no Legendario\", \"no Legendario\", \"no Legendario\", \"no Legendario\", \"no Legendario\", \"no Legendario\", \"no Legendario\", \"no Legendario\", \"no Legendario\", \"no Legendario\", \"no Legendario\", \"no Legendario\", \"no Legendario\", \"no Legendario\", \"no Legendario\", \"no Legendario\", \"no Legendario\", \"no Legendario\", \"no Legendario\", \"no Legendario\", \"no Legendario\", \"no Legendario\", \"no Legendario\", \"no Legendario\", \"no Legendario\", \"no Legendario\", \"no Legendario\", \"no Legendario\", \"no Legendario\", \"no Legendario\", \"no Legendario\", \"no Legendario\", \"no Legendario\", \"no Legendario\", \"no Legendario\", \"no Legendario\", \"no Legendario\", \"Legendario\", \"Legendario\", \"Legendario\", \"no Legendario\", \"no Legendario\", \"no Legendario\", \"Legendario\", \"Legendario\", \"Legendario\", \"no Legendario\", \"no Legendario\", \"no Legendario\", \"no Legendario\", \"no Legendario\", \"no Legendario\", \"no Legendario\", \"no Legendario\", \"no Legendario\", \"no Legendario\", \"no Legendario\", \"no Legendario\", \"no Legendario\", \"no Legendario\", \"no Legendario\", \"no Legendario\", \"no Legendario\", \"no Legendario\", \"no Legendario\", \"no Legendario\", \"no Legendario\", \"no Legendario\", \"no Legendario\", \"no Legendario\", \"no Legendario\", \"no Legendario\", \"no Legendario\", \"no Legendario\", \"no Legendario\", \"no Legendario\", \"no Legendario\", \"no Legendario\", \"no Legendario\", \"no Legendario\", \"no Legendario\", \"no Legendario\", \"no Legendario\", \"no Legendario\", \"no Legendario\", \"no Legendario\", \"no Legendario\", \"no Legendario\", \"no Legendario\", \"no Legendario\", \"no Legendario\", \"no Legendario\", \"no Legendario\", \"no Legendario\", \"no Legendario\", \"no Legendario\", \"no Legendario\", \"no Legendario\", \"no Legendario\", \"no Legendario\", \"no Legendario\", \"no Legendario\", \"no Legendario\", \"no Legendario\", \"no Legendario\", \"no Legendario\", \"no Legendario\", \"no Legendario\", \"no Legendario\", \"no Legendario\", \"no Legendario\", \"no Legendario\", \"no Legendario\", \"no Legendario\", \"no Legendario\", \"no Legendario\", \"no Legendario\", \"no Legendario\", \"no Legendario\", \"no Legendario\", \"no Legendario\", \"no Legendario\", \"no Legendario\", \"no Legendario\", \"no Legendario\", \"no Legendario\", \"no Legendario\", \"no Legendario\", \"no Legendario\", \"no Legendario\", \"no Legendario\", \"no Legendario\", \"no Legendario\", \"no Legendario\", \"no Legendario\", \"no Legendario\", \"no Legendario\", \"no Legendario\", \"no Legendario\", \"no Legendario\", \"no Legendario\", \"no Legendario\", \"no Legendario\", \"Legendario\", \"Legendario\", \"Legendario\", \"no Legendario\", \"no Legendario\", \"no Legendario\", \"no Legendario\", \"Legendario\", \"Legendario\", \"no Legendario\", \"no Legendario\", \"no Legendario\", \"no Legendario\", \"no Legendario\", \"no Legendario\", \"no Legendario\", \"no Legendario\", \"no Legendario\", \"no Legendario\", \"no Legendario\", \"no Legendario\", \"no Legendario\", \"no Legendario\", \"no Legendario\", \"no Legendario\", \"no Legendario\", \"no Legendario\", \"no Legendario\", \"no Legendario\", \"no Legendario\", \"no Legendario\", \"no Legendario\", \"no Legendario\", \"no Legendario\", \"no Legendario\", \"no Legendario\", \"no Legendario\", \"no Legendario\", \"no Legendario\", \"no Legendario\", \"no Legendario\", \"no Legendario\", \"no Legendario\", \"no Legendario\", \"no Legendario\", \"no Legendario\", \"no Legendario\", \"no Legendario\", \"no Legendario\", \"no Legendario\", \"no Legendario\", \"no Legendario\", \"no Legendario\", \"no Legendario\", \"no Legendario\", \"no Legendario\", \"no Legendario\", \"no Legendario\", \"no Legendario\", \"no Legendario\", \"no Legendario\", \"no Legendario\", \"no Legendario\", \"no Legendario\", \"no Legendario\", \"no Legendario\", \"no Legendario\", \"no Legendario\", \"no Legendario\", \"no Legendario\", \"no Legendario\", \"no Legendario\", \"no Legendario\", \"no Legendario\", \"no Legendario\", \"no Legendario\", \"no Legendario\", \"no Legendario\", \"no Legendario\", \"no Legendario\", \"no Legendario\", \"no Legendario\", \"no Legendario\", \"no Legendario\", \"no Legendario\", \"no Legendario\", \"no Legendario\", \"no Legendario\", \"no Legendario\", \"no Legendario\", \"no Legendario\", \"no Legendario\", \"no Legendario\", \"no Legendario\", \"no Legendario\", \"no Legendario\", \"no Legendario\", \"no Legendario\", \"no Legendario\", \"no Legendario\", \"no Legendario\", \"no Legendario\", \"no Legendario\", \"no Legendario\", \"no Legendario\", \"no Legendario\", \"no Legendario\", \"no Legendario\", \"no Legendario\", \"no Legendario\", \"no Legendario\", \"no Legendario\", \"no Legendario\", \"no Legendario\", \"no Legendario\", \"no Legendario\", \"no Legendario\", \"no Legendario\", \"no Legendario\", \"no Legendario\", \"no Legendario\", \"no Legendario\", \"no Legendario\", \"no Legendario\", \"no Legendario\", \"no Legendario\", \"no Legendario\", \"no Legendario\", \"no Legendario\", \"no Legendario\", \"no Legendario\", \"no Legendario\", \"no Legendario\", \"no Legendario\", \"no Legendario\", \"no Legendario\", \"no Legendario\", \"no Legendario\", \"no Legendario\", \"no Legendario\", \"no Legendario\", \"no Legendario\", \"no Legendario\", \"no Legendario\", \"no Legendario\", \"no Legendario\", \"no Legendario\", \"no Legendario\", \"no Legendario\", \"no Legendario\", \"no Legendario\", \"no Legendario\", \"Legendario\", \"Legendario\", \"Legendario\", \"Legendario\", \"Legendario\", \"Legendario\", \"Legendario\", \"Legendario\", \"Legendario\", \"Legendario\", \"Legendario\", \"Legendario\", \"Legendario\", \"Legendario\", \"Legendario\", \"Legendario\", \"Legendario\", \"Legendario\", \"no Legendario\", \"no Legendario\", \"no Legendario\", \"no Legendario\", \"no Legendario\", \"no Legendario\", \"no Legendario\", \"no Legendario\", \"no Legendario\", \"no Legendario\", \"no Legendario\", \"no Legendario\", \"no Legendario\", \"no Legendario\", \"no Legendario\", \"no Legendario\", \"no Legendario\", \"no Legendario\", \"no Legendario\", \"no Legendario\", \"no Legendario\", \"no Legendario\", \"no Legendario\", \"no Legendario\", \"no Legendario\", \"no Legendario\", \"no Legendario\", \"no Legendario\", \"no Legendario\", \"no Legendario\", \"no Legendario\", \"no Legendario\", \"no Legendario\", \"no Legendario\", \"no Legendario\", \"no Legendario\", \"no Legendario\", \"no Legendario\", \"no Legendario\", \"no Legendario\", \"no Legendario\", \"no Legendario\", \"no Legendario\", \"no Legendario\", \"no Legendario\", \"no Legendario\", \"no Legendario\", \"no Legendario\", \"no Legendario\", \"no Legendario\", \"no Legendario\", \"no Legendario\", \"no Legendario\", \"no Legendario\", \"no Legendario\", \"no Legendario\", \"no Legendario\", \"no Legendario\", \"no Legendario\", \"no Legendario\", \"no Legendario\", \"no Legendario\", \"no Legendario\", \"no Legendario\", \"no Legendario\", \"no Legendario\", \"no Legendario\", \"no Legendario\", \"no Legendario\", \"no Legendario\", \"no Legendario\", \"no Legendario\", \"no Legendario\", \"no Legendario\", \"no Legendario\", \"no Legendario\", \"no Legendario\", \"no Legendario\", \"no Legendario\", \"no Legendario\", \"no Legendario\", \"no Legendario\", \"no Legendario\", \"no Legendario\", \"no Legendario\", \"no Legendario\", \"no Legendario\", \"no Legendario\", \"no Legendario\", \"no Legendario\", \"no Legendario\", \"no Legendario\", \"no Legendario\", \"no Legendario\", \"no Legendario\", \"no Legendario\", \"no Legendario\", \"no Legendario\", \"no Legendario\", \"no Legendario\", \"no Legendario\", \"no Legendario\", \"no Legendario\", \"no Legendario\", \"no Legendario\", \"Legendario\", \"Legendario\", \"Legendario\", \"Legendario\", \"Legendario\", \"Legendario\", \"Legendario\", \"Legendario\", \"Legendario\", \"no Legendario\", \"no Legendario\", \"no Legendario\", \"Legendario\", \"Legendario\", \"Legendario\", \"Legendario\", \"Legendario\", \"no Legendario\", \"no Legendario\", \"no Legendario\", \"no Legendario\", \"no Legendario\", \"no Legendario\", \"no Legendario\", \"no Legendario\", \"no Legendario\", \"no Legendario\", \"no Legendario\", \"no Legendario\", \"no Legendario\", \"no Legendario\", \"no Legendario\", \"no Legendario\", \"no Legendario\", \"no Legendario\", \"no Legendario\", \"no Legendario\", \"no Legendario\", \"no Legendario\", \"no Legendario\", \"no Legendario\", \"no Legendario\", \"no Legendario\", \"no Legendario\", \"no Legendario\", \"no Legendario\", \"no Legendario\", \"no Legendario\", \"no Legendario\", \"no Legendario\", \"no Legendario\", \"no Legendario\", \"no Legendario\", \"no Legendario\", \"no Legendario\", \"no Legendario\", \"no Legendario\", \"no Legendario\", \"no Legendario\", \"no Legendario\", \"no Legendario\", \"no Legendario\", \"no Legendario\", \"no Legendario\", \"no Legendario\", \"no Legendario\", \"no Legendario\", \"no Legendario\", \"no Legendario\", \"no Legendario\", \"no Legendario\", \"no Legendario\", \"no Legendario\", \"no Legendario\", \"no Legendario\", \"no Legendario\", \"no Legendario\", \"no Legendario\", \"no Legendario\", \"no Legendario\", \"no Legendario\", \"no Legendario\", \"no Legendario\", \"no Legendario\", \"no Legendario\", \"no Legendario\", \"no Legendario\", \"no Legendario\", \"no Legendario\", \"no Legendario\", \"no Legendario\", \"no Legendario\", \"no Legendario\", \"no Legendario\", \"no Legendario\", \"no Legendario\", \"no Legendario\", \"no Legendario\", \"no Legendario\", \"no Legendario\", \"no Legendario\", \"no Legendario\", \"no Legendario\", \"no Legendario\", \"no Legendario\", \"no Legendario\", \"no Legendario\", \"no Legendario\", \"no Legendario\", \"no Legendario\", \"no Legendario\", \"no Legendario\", \"no Legendario\", \"no Legendario\", \"no Legendario\", \"no Legendario\", \"no Legendario\", \"no Legendario\", \"no Legendario\", \"no Legendario\", \"no Legendario\", \"no Legendario\", \"no Legendario\", \"no Legendario\", \"no Legendario\", \"no Legendario\", \"no Legendario\", \"no Legendario\", \"no Legendario\", \"no Legendario\", \"no Legendario\", \"no Legendario\", \"no Legendario\", \"no Legendario\", \"no Legendario\", \"no Legendario\", \"no Legendario\", \"no Legendario\", \"no Legendario\", \"no Legendario\", \"no Legendario\", \"no Legendario\", \"no Legendario\", \"no Legendario\", \"no Legendario\", \"no Legendario\", \"no Legendario\", \"no Legendario\", \"no Legendario\", \"no Legendario\", \"no Legendario\", \"no Legendario\", \"no Legendario\", \"no Legendario\", \"no Legendario\", \"no Legendario\", \"no Legendario\", \"no Legendario\", \"no Legendario\", \"no Legendario\", \"no Legendario\", \"no Legendario\", \"Legendario\", \"Legendario\", \"Legendario\", \"Legendario\", \"Legendario\", \"Legendario\", \"Legendario\", \"Legendario\", \"Legendario\", \"Legendario\", \"Legendario\", \"Legendario\", \"Legendario\", \"Legendario\", \"no Legendario\", \"no Legendario\", \"no Legendario\", \"no Legendario\", \"no Legendario\", \"no Legendario\", \"no Legendario\", \"no Legendario\", \"no Legendario\", \"no Legendario\", \"no Legendario\", \"no Legendario\", \"no Legendario\", \"no Legendario\", \"no Legendario\", \"no Legendario\", \"no Legendario\", \"no Legendario\", \"no Legendario\", \"no Legendario\", \"no Legendario\", \"no Legendario\", \"no Legendario\", \"no Legendario\", \"no Legendario\", \"no Legendario\", \"no Legendario\", \"no Legendario\", \"no Legendario\", \"no Legendario\", \"no Legendario\", \"no Legendario\", \"no Legendario\", \"no Legendario\", \"no Legendario\", \"no Legendario\", \"no Legendario\", \"no Legendario\", \"no Legendario\", \"no Legendario\", \"no Legendario\", \"no Legendario\", \"no Legendario\", \"no Legendario\", \"no Legendario\", \"no Legendario\", \"no Legendario\", \"no Legendario\", \"no Legendario\", \"no Legendario\", \"no Legendario\", \"no Legendario\", \"no Legendario\", \"no Legendario\", \"no Legendario\", \"no Legendario\", \"no Legendario\", \"no Legendario\", \"no Legendario\", \"no Legendario\", \"no Legendario\", \"no Legendario\", \"no Legendario\", \"no Legendario\", \"no Legendario\", \"no Legendario\", \"no Legendario\", \"no Legendario\", \"no Legendario\", \"no Legendario\", \"no Legendario\", \"no Legendario\", \"no Legendario\", \"no Legendario\", \"no Legendario\", \"no Legendario\", \"no Legendario\", \"no Legendario\", \"no Legendario\", \"Legendario\", \"Legendario\", \"Legendario\", \"Legendario\", \"Legendario\", \"Legendario\", \"Legendario\", \"Legendario\"], \"x0\": \" \", \"xaxis\": \"x\", \"y\": [49, 62, 82, 100, 52, 64, 84, 130, 104, 48, 63, 83, 103, 30, 20, 45, 35, 25, 90, 150, 45, 60, 80, 80, 56, 81, 60, 90, 60, 85, 55, 90, 75, 100, 47, 62, 92, 57, 72, 102, 45, 70, 41, 76, 45, 70, 45, 80, 50, 65, 80, 70, 95, 55, 65, 55, 80, 45, 70, 52, 82, 80, 105, 70, 110, 50, 65, 95, 20, 35, 50, 50, 80, 100, 130, 75, 90, 105, 40, 70, 80, 95, 120, 85, 100, 65, 75, 75, 35, 60, 65, 85, 110, 45, 70, 80, 105, 65, 95, 35, 50, 65, 65, 45, 48, 73, 105, 130, 30, 50, 40, 95, 50, 80, 120, 105, 55, 65, 90, 85, 130, 5, 55, 95, 125, 40, 65, 67, 92, 45, 75, 45, 110, 50, 83, 95, 125, 155, 100, 10, 125, 155, 85, 48, 55, 65, 65, 130, 60, 40, 60, 80, 115, 105, 135, 110, 85, 90, 100, 64, 84, 134, 110, 190, 150, 100, 49, 62, 82, 52, 64, 84, 65, 80, 105, 46, 76, 30, 50, 20, 35, 60, 90, 90, 38, 58, 40, 25, 30, 20, 40, 50, 75, 40, 55, 75, 95, 80, 20, 50, 100, 75, 35, 45, 55, 70, 30, 75, 65, 45, 85, 65, 65, 85, 75, 60, 72, 33, 80, 65, 90, 70, 75, 85, 125, 80, 120, 95, 130, 150, 10, 125, 185, 95, 80, 130, 40, 50, 50, 100, 55, 65, 105, 55, 40, 80, 60, 90, 90, 95, 60, 120, 80, 95, 20, 35, 95, 30, 63, 75, 80, 10, 85, 115, 75, 64, 84, 134, 164, 90, 130, 100, 45, 65, 85, 110, 60, 85, 120, 160, 70, 85, 110, 150, 55, 90, 30, 70, 45, 35, 70, 35, 50, 30, 50, 70, 40, 70, 100, 55, 85, 30, 50, 25, 35, 65, 85, 30, 60, 40, 130, 60, 80, 160, 45, 90, 90, 51, 71, 91, 60, 120, 20, 45, 45, 65, 75, 85, 85, 105, 70, 90, 110, 140, 40, 60, 100, 45, 75, 75, 50, 40, 73, 47, 60, 43, 73, 90, 120, 140, 70, 90, 60, 100, 120, 85, 25, 45, 60, 100, 70, 100, 85, 115, 40, 70, 110, 115, 100, 55, 95, 48, 78, 80, 120, 40, 70, 41, 81, 95, 125, 15, 60, 70, 90, 75, 115, 165, 40, 70, 68, 50, 130, 150, 23, 50, 80, 120, 40, 60, 80, 64, 104, 84, 90, 30, 75, 95, 135, 145, 55, 75, 135, 145, 100, 50, 75, 80, 100, 90, 130, 100, 150, 150, 180, 150, 180, 100, 150, 180, 70, 95, 68, 89, 109, 58, 78, 104, 51, 66, 86, 55, 75, 120, 45, 85, 25, 85, 65, 85, 120, 30, 70, 125, 165, 42, 52, 29, 59, 79, 69, 94, 30, 80, 45, 65, 105, 35, 60, 48, 83, 100, 50, 80, 66, 76, 136, 60, 125, 55, 82, 30, 63, 93, 24, 89, 80, 25, 5, 65, 92, 70, 90, 130, 170, 85, 70, 110, 145, 72, 112, 50, 90, 61, 106, 100, 49, 69, 20, 62, 92, 132, 120, 70, 85, 140, 100, 123, 95, 50, 76, 110, 60, 95, 130, 80, 125, 165, 55, 100, 80, 50, 65, 65, 65, 65, 65, 75, 105, 125, 120, 120, 90, 160, 100, 120, 70, 80, 100, 90, 100, 103, 120, 100, 45, 60, 75, 63, 93, 123, 55, 75, 100, 55, 85, 60, 80, 110, 50, 88, 53, 98, 53, 98, 53, 98, 25, 55, 55, 77, 115, 60, 100, 75, 105, 135, 45, 57, 85, 135, 60, 60, 80, 105, 140, 50, 65, 95, 100, 125, 53, 63, 103, 45, 55, 100, 27, 67, 35, 60, 92, 72, 82, 117, 90, 140, 30, 86, 65, 95, 75, 90, 58, 30, 50, 78, 108, 112, 140, 50, 95, 65, 105, 50, 95, 30, 45, 55, 30, 40, 65, 44, 87, 50, 65, 95, 60, 100, 75, 75, 135, 55, 85, 40, 60, 75, 47, 77, 50, 94, 55, 80, 100, 55, 85, 115, 55, 75, 30, 40, 55, 87, 117, 147, 70, 110, 50, 40, 70, 66, 85, 125, 120, 74, 124, 85, 125, 110, 83, 123, 55, 65, 97, 109, 65, 85, 105, 85, 60, 90, 129, 90, 115, 100, 115, 105, 120, 150, 125, 145, 130, 170, 120, 72, 72, 77, 128, 120, 61, 78, 107, 45, 59, 69, 56, 63, 95, 36, 56, 50, 73, 81, 35, 22, 52, 50, 68, 38, 45, 65, 65, 100, 82, 124, 80, 48, 48, 48, 80, 110, 150, 50, 52, 72, 48, 80, 54, 92, 52, 105, 60, 75, 53, 73, 38, 55, 89, 121, 59, 77, 65, 92, 58, 50, 50, 75, 100, 80, 70, 110, 66, 66, 66, 66, 90, 85, 95, 100, 69, 117, 30, 70, 131, 131, 100, 100, 160, 110, 160, 110], \"y0\": \" \", \"yaxis\": \"y\"}],\n",
              "                        {\"boxmode\": \"group\", \"legend\": {\"tracegroupgap\": 0}, \"margin\": {\"t\": 60}, \"template\": {\"data\": {\"bar\": [{\"error_x\": {\"color\": \"#2a3f5f\"}, \"error_y\": {\"color\": \"#2a3f5f\"}, \"marker\": {\"line\": {\"color\": \"#E5ECF6\", \"width\": 0.5}}, \"type\": \"bar\"}], \"barpolar\": [{\"marker\": {\"line\": {\"color\": \"#E5ECF6\", \"width\": 0.5}}, \"type\": \"barpolar\"}], \"carpet\": [{\"aaxis\": {\"endlinecolor\": \"#2a3f5f\", \"gridcolor\": \"white\", \"linecolor\": \"white\", \"minorgridcolor\": \"white\", \"startlinecolor\": \"#2a3f5f\"}, \"baxis\": {\"endlinecolor\": \"#2a3f5f\", \"gridcolor\": \"white\", \"linecolor\": \"white\", \"minorgridcolor\": \"white\", \"startlinecolor\": \"#2a3f5f\"}, \"type\": \"carpet\"}], \"choropleth\": [{\"colorbar\": {\"outlinewidth\": 0, \"ticks\": \"\"}, \"type\": \"choropleth\"}], \"contour\": [{\"colorbar\": {\"outlinewidth\": 0, \"ticks\": \"\"}, \"colorscale\": [[0.0, \"#0d0887\"], [0.1111111111111111, \"#46039f\"], [0.2222222222222222, \"#7201a8\"], [0.3333333333333333, \"#9c179e\"], [0.4444444444444444, \"#bd3786\"], [0.5555555555555556, \"#d8576b\"], [0.6666666666666666, \"#ed7953\"], [0.7777777777777778, \"#fb9f3a\"], [0.8888888888888888, \"#fdca26\"], [1.0, \"#f0f921\"]], \"type\": \"contour\"}], \"contourcarpet\": [{\"colorbar\": {\"outlinewidth\": 0, \"ticks\": \"\"}, \"type\": \"contourcarpet\"}], \"heatmap\": [{\"colorbar\": {\"outlinewidth\": 0, \"ticks\": \"\"}, \"colorscale\": [[0.0, \"#0d0887\"], [0.1111111111111111, \"#46039f\"], [0.2222222222222222, \"#7201a8\"], [0.3333333333333333, \"#9c179e\"], [0.4444444444444444, \"#bd3786\"], [0.5555555555555556, \"#d8576b\"], [0.6666666666666666, \"#ed7953\"], [0.7777777777777778, \"#fb9f3a\"], [0.8888888888888888, \"#fdca26\"], [1.0, \"#f0f921\"]], \"type\": \"heatmap\"}], \"heatmapgl\": [{\"colorbar\": {\"outlinewidth\": 0, \"ticks\": \"\"}, \"colorscale\": [[0.0, \"#0d0887\"], [0.1111111111111111, \"#46039f\"], [0.2222222222222222, \"#7201a8\"], [0.3333333333333333, \"#9c179e\"], [0.4444444444444444, \"#bd3786\"], [0.5555555555555556, \"#d8576b\"], [0.6666666666666666, \"#ed7953\"], [0.7777777777777778, \"#fb9f3a\"], [0.8888888888888888, \"#fdca26\"], [1.0, \"#f0f921\"]], \"type\": \"heatmapgl\"}], \"histogram\": [{\"marker\": {\"colorbar\": {\"outlinewidth\": 0, \"ticks\": \"\"}}, \"type\": \"histogram\"}], \"histogram2d\": [{\"colorbar\": {\"outlinewidth\": 0, \"ticks\": \"\"}, \"colorscale\": [[0.0, \"#0d0887\"], [0.1111111111111111, \"#46039f\"], [0.2222222222222222, \"#7201a8\"], [0.3333333333333333, \"#9c179e\"], [0.4444444444444444, \"#bd3786\"], [0.5555555555555556, \"#d8576b\"], [0.6666666666666666, \"#ed7953\"], [0.7777777777777778, \"#fb9f3a\"], [0.8888888888888888, \"#fdca26\"], [1.0, \"#f0f921\"]], \"type\": \"histogram2d\"}], \"histogram2dcontour\": [{\"colorbar\": {\"outlinewidth\": 0, \"ticks\": \"\"}, \"colorscale\": [[0.0, \"#0d0887\"], [0.1111111111111111, \"#46039f\"], [0.2222222222222222, \"#7201a8\"], [0.3333333333333333, \"#9c179e\"], [0.4444444444444444, \"#bd3786\"], [0.5555555555555556, \"#d8576b\"], [0.6666666666666666, \"#ed7953\"], [0.7777777777777778, \"#fb9f3a\"], [0.8888888888888888, \"#fdca26\"], [1.0, \"#f0f921\"]], \"type\": \"histogram2dcontour\"}], \"mesh3d\": [{\"colorbar\": {\"outlinewidth\": 0, \"ticks\": \"\"}, \"type\": \"mesh3d\"}], \"parcoords\": [{\"line\": {\"colorbar\": {\"outlinewidth\": 0, \"ticks\": \"\"}}, \"type\": \"parcoords\"}], \"pie\": [{\"automargin\": true, \"type\": \"pie\"}], \"scatter\": [{\"marker\": {\"colorbar\": {\"outlinewidth\": 0, \"ticks\": \"\"}}, \"type\": \"scatter\"}], \"scatter3d\": [{\"line\": {\"colorbar\": {\"outlinewidth\": 0, \"ticks\": \"\"}}, \"marker\": {\"colorbar\": {\"outlinewidth\": 0, \"ticks\": \"\"}}, \"type\": \"scatter3d\"}], \"scattercarpet\": [{\"marker\": {\"colorbar\": {\"outlinewidth\": 0, \"ticks\": \"\"}}, \"type\": \"scattercarpet\"}], \"scattergeo\": [{\"marker\": {\"colorbar\": {\"outlinewidth\": 0, \"ticks\": \"\"}}, \"type\": \"scattergeo\"}], \"scattergl\": [{\"marker\": {\"colorbar\": {\"outlinewidth\": 0, \"ticks\": \"\"}}, \"type\": \"scattergl\"}], \"scattermapbox\": [{\"marker\": {\"colorbar\": {\"outlinewidth\": 0, \"ticks\": \"\"}}, \"type\": \"scattermapbox\"}], \"scatterpolar\": [{\"marker\": {\"colorbar\": {\"outlinewidth\": 0, \"ticks\": \"\"}}, \"type\": \"scatterpolar\"}], \"scatterpolargl\": [{\"marker\": {\"colorbar\": {\"outlinewidth\": 0, \"ticks\": \"\"}}, \"type\": \"scatterpolargl\"}], \"scatterternary\": [{\"marker\": {\"colorbar\": {\"outlinewidth\": 0, \"ticks\": \"\"}}, \"type\": \"scatterternary\"}], \"surface\": [{\"colorbar\": {\"outlinewidth\": 0, \"ticks\": \"\"}, \"colorscale\": [[0.0, \"#0d0887\"], [0.1111111111111111, \"#46039f\"], [0.2222222222222222, \"#7201a8\"], [0.3333333333333333, \"#9c179e\"], [0.4444444444444444, \"#bd3786\"], [0.5555555555555556, \"#d8576b\"], [0.6666666666666666, \"#ed7953\"], [0.7777777777777778, \"#fb9f3a\"], [0.8888888888888888, \"#fdca26\"], [1.0, \"#f0f921\"]], \"type\": \"surface\"}], \"table\": [{\"cells\": {\"fill\": {\"color\": \"#EBF0F8\"}, \"line\": {\"color\": \"white\"}}, \"header\": {\"fill\": {\"color\": \"#C8D4E3\"}, \"line\": {\"color\": \"white\"}}, \"type\": \"table\"}]}, \"layout\": {\"annotationdefaults\": {\"arrowcolor\": \"#2a3f5f\", \"arrowhead\": 0, \"arrowwidth\": 1}, \"coloraxis\": {\"colorbar\": {\"outlinewidth\": 0, \"ticks\": \"\"}}, \"colorscale\": {\"diverging\": [[0, \"#8e0152\"], [0.1, \"#c51b7d\"], [0.2, \"#de77ae\"], [0.3, \"#f1b6da\"], [0.4, \"#fde0ef\"], [0.5, \"#f7f7f7\"], [0.6, \"#e6f5d0\"], [0.7, \"#b8e186\"], [0.8, \"#7fbc41\"], [0.9, \"#4d9221\"], [1, \"#276419\"]], \"sequential\": [[0.0, \"#0d0887\"], [0.1111111111111111, \"#46039f\"], [0.2222222222222222, \"#7201a8\"], [0.3333333333333333, \"#9c179e\"], [0.4444444444444444, \"#bd3786\"], [0.5555555555555556, \"#d8576b\"], [0.6666666666666666, \"#ed7953\"], [0.7777777777777778, \"#fb9f3a\"], [0.8888888888888888, \"#fdca26\"], [1.0, \"#f0f921\"]], \"sequentialminus\": [[0.0, \"#0d0887\"], [0.1111111111111111, \"#46039f\"], [0.2222222222222222, \"#7201a8\"], [0.3333333333333333, \"#9c179e\"], [0.4444444444444444, \"#bd3786\"], [0.5555555555555556, \"#d8576b\"], [0.6666666666666666, \"#ed7953\"], [0.7777777777777778, \"#fb9f3a\"], [0.8888888888888888, \"#fdca26\"], [1.0, \"#f0f921\"]]}, \"colorway\": [\"#636efa\", \"#EF553B\", \"#00cc96\", \"#ab63fa\", \"#FFA15A\", \"#19d3f3\", \"#FF6692\", \"#B6E880\", \"#FF97FF\", \"#FECB52\"], \"font\": {\"color\": \"#2a3f5f\"}, \"geo\": {\"bgcolor\": \"white\", \"lakecolor\": \"white\", \"landcolor\": \"#E5ECF6\", \"showlakes\": true, \"showland\": true, \"subunitcolor\": \"white\"}, \"hoverlabel\": {\"align\": \"left\"}, \"hovermode\": \"closest\", \"mapbox\": {\"style\": \"light\"}, \"paper_bgcolor\": \"white\", \"plot_bgcolor\": \"#E5ECF6\", \"polar\": {\"angularaxis\": {\"gridcolor\": \"white\", \"linecolor\": \"white\", \"ticks\": \"\"}, \"bgcolor\": \"#E5ECF6\", \"radialaxis\": {\"gridcolor\": \"white\", \"linecolor\": \"white\", \"ticks\": \"\"}}, \"scene\": {\"xaxis\": {\"backgroundcolor\": \"#E5ECF6\", \"gridcolor\": \"white\", \"gridwidth\": 2, \"linecolor\": \"white\", \"showbackground\": true, \"ticks\": \"\", \"zerolinecolor\": \"white\"}, \"yaxis\": {\"backgroundcolor\": \"#E5ECF6\", \"gridcolor\": \"white\", \"gridwidth\": 2, \"linecolor\": \"white\", \"showbackground\": true, \"ticks\": \"\", \"zerolinecolor\": \"white\"}, \"zaxis\": {\"backgroundcolor\": \"#E5ECF6\", \"gridcolor\": \"white\", \"gridwidth\": 2, \"linecolor\": \"white\", \"showbackground\": true, \"ticks\": \"\", \"zerolinecolor\": \"white\"}}, \"shapedefaults\": {\"line\": {\"color\": \"#2a3f5f\"}}, \"ternary\": {\"aaxis\": {\"gridcolor\": \"white\", \"linecolor\": \"white\", \"ticks\": \"\"}, \"baxis\": {\"gridcolor\": \"white\", \"linecolor\": \"white\", \"ticks\": \"\"}, \"bgcolor\": \"#E5ECF6\", \"caxis\": {\"gridcolor\": \"white\", \"linecolor\": \"white\", \"ticks\": \"\"}}, \"title\": {\"x\": 0.05}, \"xaxis\": {\"automargin\": true, \"gridcolor\": \"white\", \"linecolor\": \"white\", \"ticks\": \"\", \"title\": {\"standoff\": 15}, \"zerolinecolor\": \"white\", \"zerolinewidth\": 2}, \"yaxis\": {\"automargin\": true, \"gridcolor\": \"white\", \"linecolor\": \"white\", \"ticks\": \"\", \"title\": {\"standoff\": 15}, \"zerolinecolor\": \"white\", \"zerolinewidth\": 2}}}, \"width\": 1300, \"xaxis\": {\"anchor\": \"y\", \"domain\": [0.0, 1.0], \"title\": {\"text\": \"LEGENDARY DESCRIP\"}}, \"yaxis\": {\"anchor\": \"x\", \"domain\": [0.0, 1.0], \"title\": {\"text\": \"Attack\"}}},\n",
              "                        {\"responsive\": true}\n",
              "                    ).then(function(){\n",
              "                            \n",
              "var gd = document.getElementById('7ca8f58f-6a9c-4a60-aa62-93cec4a7ec76');\n",
              "var x = new MutationObserver(function (mutations, observer) {{\n",
              "        var display = window.getComputedStyle(gd).display;\n",
              "        if (!display || display === 'none') {{\n",
              "            console.log([gd, 'removed!']);\n",
              "            Plotly.purge(gd);\n",
              "            observer.disconnect();\n",
              "        }}\n",
              "}});\n",
              "\n",
              "// Listen for the removal of the full notebook cells\n",
              "var notebookContainer = gd.closest('#notebook-container');\n",
              "if (notebookContainer) {{\n",
              "    x.observe(notebookContainer, {childList: true});\n",
              "}}\n",
              "\n",
              "// Listen for the clearing of the current output cell\n",
              "var outputEl = gd.closest('.output');\n",
              "if (outputEl) {{\n",
              "    x.observe(outputEl, {childList: true});\n",
              "}}\n",
              "\n",
              "                        })\n",
              "                };\n",
              "                \n",
              "            </script>\n",
              "        </div>\n",
              "</body>\n",
              "</html>"
            ]
          },
          "metadata": {}
        }
      ]
    },
    {
      "cell_type": "code",
      "metadata": {
        "colab": {
          "base_uri": "https://localhost:8080/"
        },
        "id": "YJAfnvaUwkc3",
        "outputId": "b8ffc522-e604-40e2-deaf-1178e8f97913"
      },
      "source": [
        "legendary=df[df['LEGENDARY DESCRIP']=='Legendario'].Attack\n",
        "no_leyendary=df[df['LEGENDARY DESCRIP'] =='no Legendario'].Attack\n",
        "\n",
        "statistic, pvaluele = stats.ttest_ind(legendary,no_leyendary, equal_var=False)\n",
        "statistic, pvaluele"
      ],
      "execution_count": 50,
      "outputs": [
        {
          "output_type": "execute_result",
          "data": {
            "text/plain": [
              "(10.438133539322203, 2.520372449236646e-16)"
            ]
          },
          "metadata": {},
          "execution_count": 50
        }
      ]
    },
    {
      "cell_type": "code",
      "metadata": {
        "colab": {
          "base_uri": "https://localhost:8080/"
        },
        "id": "bWP2ipeVxlR0",
        "outputId": "1c2515ce-7f4d-4696-fd1d-3f8da530ca31"
      },
      "source": [
        "pvaluele<0.05"
      ],
      "execution_count": 51,
      "outputs": [
        {
          "output_type": "execute_result",
          "data": {
            "text/plain": [
              "True"
            ]
          },
          "metadata": {},
          "execution_count": 51
        }
      ]
    },
    {
      "cell_type": "markdown",
      "metadata": {
        "id": "rjS9f-pvxuzu"
      },
      "source": [
        "# como se puede observar se realiza la prueba test para dos muestras los pakemones no legendarios y legendarios, el valor p es muy pequeño (p=2.520372449236646e-16), por lo anterior siendo ( p<α ),se rechaza la hipotesis nula, y se afirmama que la diferencia observada es \"estadísticamente significativa\".\n",
        "\n",
        "# por lo que se concluye que estadisticamente con un 95% de confianza que hay diferencia, rechazando la hipotesis nula de el grupo legendary, por lo tanto tomamos las hipotesis alternativas\n"
      ]
    }
  ]
}