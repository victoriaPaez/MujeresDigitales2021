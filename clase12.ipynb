{
  "nbformat": 4,
  "nbformat_minor": 0,
  "metadata": {
    "colab": {
      "name": "clase12.ipynb",
      "provenance": [],
      "authorship_tag": "ABX9TyMuQviwapHr9KxXDF8KDKlU",
      "include_colab_link": true
    },
    "kernelspec": {
      "name": "python3",
      "display_name": "Python 3"
    },
    "language_info": {
      "name": "python"
    }
  },
  "cells": [
    {
      "cell_type": "markdown",
      "metadata": {
        "id": "view-in-github",
        "colab_type": "text"
      },
      "source": [
        "<a href=\"https://colab.research.google.com/github/victoriaPaez/MujeresDigitales2021/blob/main/clase12.ipynb\" target=\"_parent\"><img src=\"https://colab.research.google.com/assets/colab-badge.svg\" alt=\"Open In Colab\"/></a>"
      ]
    },
    {
      "cell_type": "code",
      "metadata": {
        "colab": {
          "base_uri": "https://localhost:8080/"
        },
        "id": "4zABC7NBxakZ",
        "outputId": "74994576-312f-44da-eb56-d1ed97e3c94b"
      },
      "source": [
        "import pandas as pd #llamamos la libreria pandas y le ponemos un alias pd\n",
        "david = pd.Series([145,142,38,13], name='counts') #se crea una serie con los siguientes datos\n",
        "#convierte una lista en una serie y a la columna se le nombra counts\n",
        "\n",
        "print(type(david))\n",
        "print('\\n')\n",
        "print(david.index)\n",
        "print('\\n')\n",
        "print(david.values)\n",
        "print('\\n')\n",
        "david"
      ],
      "execution_count": 7,
      "outputs": [
        {
          "output_type": "stream",
          "text": [
            "<class 'pandas.core.series.Series'>\n",
            "\n",
            "\n",
            "RangeIndex(start=0, stop=4, step=1)\n",
            "\n",
            "\n",
            "[145 142  38  13]\n",
            "\n",
            "\n"
          ],
          "name": "stdout"
        },
        {
          "output_type": "execute_result",
          "data": {
            "text/plain": [
              "0    145\n",
              "1    142\n",
              "2     38\n",
              "3     13\n",
              "Name: counts, dtype: int64"
            ]
          },
          "metadata": {
            "tags": []
          },
          "execution_count": 7
        }
      ]
    },
    {
      "cell_type": "code",
      "metadata": {
        "colab": {
          "base_uri": "https://localhost:8080/"
        },
        "id": "WDQq0WsiKFpx",
        "outputId": "78ad036c-bc6c-4e4c-d36d-f4ea11a553fe"
      },
      "source": [
        "pd.Series(['a','b','c'])"
      ],
      "execution_count": 3,
      "outputs": [
        {
          "output_type": "execute_result",
          "data": {
            "text/plain": [
              "0    a\n",
              "1    b\n",
              "2    c\n",
              "dtype: object"
            ]
          },
          "metadata": {
            "tags": []
          },
          "execution_count": 3
        }
      ]
    },
    {
      "cell_type": "code",
      "metadata": {
        "colab": {
          "base_uri": "https://localhost:8080/"
        },
        "id": "GgRNtuWRLTFQ",
        "outputId": "df40d453-a7e6-4de6-c851-663e24ae0969"
      },
      "source": [
        "#indice no tiene que ser numero\n",
        "david3 = pd.Series([145,142,38,13], name ='counts',index=['juan','pedro','sofia','andrea'])\n",
        "print(david3)\n",
        "print('\\n')\n",
        "print(david3.values)\n",
        "print('\\n')\n",
        "print(david3.index)\n",
        "print('\\n')\n",
        "\n"
      ],
      "execution_count": 12,
      "outputs": [
        {
          "output_type": "stream",
          "text": [
            "juan      145\n",
            "pedro     142\n",
            "sofia      38\n",
            "andrea     13\n",
            "Name: counts, dtype: int64\n",
            "\n",
            "\n",
            "[145 142  38  13]\n",
            "\n",
            "\n",
            "Index(['juan', 'pedro', 'sofia', 'andrea'], dtype='object')\n",
            "\n",
            "\n"
          ],
          "name": "stdout"
        }
      ]
    },
    {
      "cell_type": "code",
      "metadata": {
        "colab": {
          "base_uri": "https://localhost:8080/"
        },
        "id": "MUbld5VxVY2i",
        "outputId": "b13bb26e-ca85-4364-dcc4-1e7da7dde7cc"
      },
      "source": [
        "david3[['juan','andrea']]"
      ],
      "execution_count": 32,
      "outputs": [
        {
          "output_type": "execute_result",
          "data": {
            "text/plain": [
              "juan      145\n",
              "andrea     13\n",
              "Name: counts, dtype: int64"
            ]
          },
          "metadata": {
            "tags": []
          },
          "execution_count": 32
        }
      ]
    },
    {
      "cell_type": "code",
      "metadata": {
        "colab": {
          "base_uri": "https://localhost:8080/"
        },
        "id": "hLxqQVM5NHZJ",
        "outputId": "fe317ef4-43b8-4747-e987-f58c35701881"
      },
      "source": [
        "#y que hay de los nulos\n",
        "nan_ser = pd.Series([2,None],index=['O','C'])\n",
        "print(nan_ser)#nan solo puede ser dato tipo float\n",
        "nan_ser.count()\n"
      ],
      "execution_count": 15,
      "outputs": [
        {
          "output_type": "stream",
          "text": [
            "O    2.0\n",
            "C    NaN\n",
            "dtype: float64\n"
          ],
          "name": "stdout"
        },
        {
          "output_type": "execute_result",
          "data": {
            "text/plain": [
              "1"
            ]
          },
          "metadata": {
            "tags": []
          },
          "execution_count": 15
        }
      ]
    },
    {
      "cell_type": "code",
      "metadata": {
        "colab": {
          "base_uri": "https://localhost:8080/"
        },
        "id": "Gk6VjUYgNykT",
        "outputId": "b0a38230-a633-41d2-9994-a6c7e8e8a03a"
      },
      "source": [
        "serie_impar =pd.Series(range(1,16,2),name='impar')\n",
        "print(serie_impar.values)\n",
        "print('\\n')\n",
        "serie_impar"
      ],
      "execution_count": 26,
      "outputs": [
        {
          "output_type": "stream",
          "text": [
            "[ 1  3  5  7  9 11 13 15]\n",
            "\n",
            "\n"
          ],
          "name": "stdout"
        },
        {
          "output_type": "execute_result",
          "data": {
            "text/plain": [
              "0     1\n",
              "1     3\n",
              "2     5\n",
              "3     7\n",
              "4     9\n",
              "5    11\n",
              "6    13\n",
              "7    15\n",
              "Name: impar, dtype: int64"
            ]
          },
          "metadata": {
            "tags": []
          },
          "execution_count": 26
        }
      ]
    },
    {
      "cell_type": "code",
      "metadata": {
        "colab": {
          "base_uri": "https://localhost:8080/"
        },
        "id": "hAMjio2WRsSi",
        "outputId": "23a52153-b264-4b90-b2ab-4b9e2b011299"
      },
      "source": [
        "serie_impar =pd.Series([1,3,5,7,9,12,15],name='impar')\n",
        "print(serie_impar.values)\n",
        "print('\\n')\n",
        "serie_impar\n",
        "\n",
        "\n"
      ],
      "execution_count": 63,
      "outputs": [
        {
          "output_type": "stream",
          "text": [
            "[ 1  3  5  7  9 12 15]\n",
            "\n",
            "\n",
            "2    5\n",
            "3    7\n",
            "4    9\n",
            "Name: impar, dtype: int64\n"
          ],
          "name": "stdout"
        }
      ]
    },
    {
      "cell_type": "code",
      "metadata": {
        "colab": {
          "base_uri": "https://localhost:8080/"
        },
        "id": "tjyjbpcnYyUZ",
        "outputId": "9d38fc12-4a50-4a37-e910-1c84c47e1ad5"
      },
      "source": [
        "print(serie_impar[2:5])"
      ],
      "execution_count": 64,
      "outputs": [
        {
          "output_type": "stream",
          "text": [
            "2    5\n",
            "3    7\n",
            "4    9\n",
            "Name: impar, dtype: int64\n"
          ],
          "name": "stdout"
        }
      ]
    },
    {
      "cell_type": "code",
      "metadata": {
        "colab": {
          "base_uri": "https://localhost:8080/"
        },
        "id": "Rt9DYmP6Y8o0",
        "outputId": "e1c86eb7-9c8c-4218-fc10-fd9161bdd8d9"
      },
      "source": [
        "\n",
        "print(serie_impar>10)"
      ],
      "execution_count": 65,
      "outputs": [
        {
          "output_type": "stream",
          "text": [
            "0    False\n",
            "1    False\n",
            "2    False\n",
            "3    False\n",
            "4    False\n",
            "5     True\n",
            "6     True\n",
            "Name: impar, dtype: bool\n"
          ],
          "name": "stdout"
        }
      ]
    },
    {
      "cell_type": "code",
      "metadata": {
        "colab": {
          "base_uri": "https://localhost:8080/"
        },
        "id": "8ngDz0pVR__5",
        "outputId": "44c13091-3dc9-4200-9be2-f70d36f034a6"
      },
      "source": [
        "#PROCESO CLAB (CREACION, LECTURA, ACTUALIZACION, BORRADO)\n",
        "#1) creacion\n",
        "cidys =pd.Series([10,7,1,22], index=['1968','1969','1970','1970'], name='Per')\n",
        "print(cidys)\n",
        "print('\\n')\n",
        "#guardar multiples entradas de la serie\n",
        "cidys2 =pd.Series({'1969':7,'1970':[1,22]}, index=['1968','1969','1970','1970'], name='Per')\n",
        "print(cidys2)\n",
        "print('\\n')\n",
        "\n",
        "# 2)lectura\n",
        "print(cidys2['1970'])\n",
        "print('\\n')\n",
        "print(cidys['1968'])\n",
        "print('\\n')\n",
        "\n",
        "for i in cidys:\n",
        "  print(i)"
      ],
      "execution_count": 38,
      "outputs": [
        {
          "output_type": "stream",
          "text": [
            "1968    10\n",
            "1969     7\n",
            "1970     1\n",
            "1970    22\n",
            "Name: Per, dtype: int64\n",
            "\n",
            "\n",
            "1968        NaN\n",
            "1969          7\n",
            "1970    [1, 22]\n",
            "1970    [1, 22]\n",
            "Name: Per, dtype: object\n",
            "\n",
            "\n",
            "1970    [1, 22]\n",
            "1970    [1, 22]\n",
            "Name: Per, dtype: object\n",
            "\n",
            "\n",
            "10\n",
            "\n",
            "\n",
            "10\n",
            "7\n",
            "1\n",
            "22\n"
          ],
          "name": "stdout"
        }
      ]
    },
    {
      "cell_type": "code",
      "metadata": {
        "colab": {
          "base_uri": "https://localhost:8080/"
        },
        "id": "oH8WWmYBaAQl",
        "outputId": "cf32b1df-9033-4b8f-b704-4adb47aeb65a"
      },
      "source": [
        "#actualizacion -- asignacion\n",
        "cidys =pd.Series([10,7,1,22], index=['1968','1969','1970','1970'], name='Per')\n",
        "cidys\n",
        "cidys['1969']=6\n",
        "cidys\n",
        "cidys['1970']=2\n",
        "cidys\n"
      ],
      "execution_count": 71,
      "outputs": [
        {
          "output_type": "execute_result",
          "data": {
            "text/plain": [
              "1968    10\n",
              "1969     6\n",
              "1970     2\n",
              "1970     2\n",
              "Name: Per, dtype: int64"
            ]
          },
          "metadata": {
            "tags": []
          },
          "execution_count": 71
        }
      ]
    },
    {
      "cell_type": "code",
      "metadata": {
        "colab": {
          "base_uri": "https://localhost:8080/"
        },
        "id": "KH3_gx4dazGR",
        "outputId": "9e7219dd-546e-4ace-a938-7bcccd71218b"
      },
      "source": [
        "#agregar nuevos valores a la serie\n",
        "cidys = cidys.append(pd.Series({'1974':19}))\n",
        "print(cidys)"
      ],
      "execution_count": 73,
      "outputs": [
        {
          "output_type": "stream",
          "text": [
            "1968    10\n",
            "1969     6\n",
            "1970     2\n",
            "1970     2\n",
            "1974     9\n",
            "1974    19\n",
            "dtype: int64\n"
          ],
          "name": "stdout"
        }
      ]
    },
    {
      "cell_type": "code",
      "metadata": {
        "colab": {
          "base_uri": "https://localhost:8080/"
        },
        "id": "mEmlhfE1bY8k",
        "outputId": "891cec38-9361-4745-8938-99ed139ca5a9"
      },
      "source": [
        "#borrado\n",
        "del cidys['1968']\n",
        "print(cidys)\n"
      ],
      "execution_count": 74,
      "outputs": [
        {
          "output_type": "stream",
          "text": [
            "1969     6\n",
            "1970     2\n",
            "1970     2\n",
            "1974     9\n",
            "1974    19\n",
            "dtype: int64\n"
          ],
          "name": "stdout"
        }
      ]
    },
    {
      "cell_type": "code",
      "metadata": {
        "id": "G2gMlqcYbrDh",
        "outputId": "c2f76ce2-f71f-4ae4-d074-23384996ad89",
        "colab": {
          "base_uri": "https://localhost:8080/"
        }
      },
      "source": [
        "#filtro\n",
        "cidys[cidys<=2]"
      ],
      "execution_count": 75,
      "outputs": [
        {
          "output_type": "execute_result",
          "data": {
            "text/plain": [
              "1970    2\n",
              "1970    2\n",
              "dtype: int64"
            ]
          },
          "metadata": {
            "tags": []
          },
          "execution_count": 75
        }
      ]
    },
    {
      "cell_type": "code",
      "metadata": {
        "id": "dRZme_PZdf4T",
        "outputId": "03603488-0ea5-41e2-edfa-5d7c5f301743",
        "colab": {
          "base_uri": "https://localhost:8080/"
        }
      },
      "source": [
        "cidys"
      ],
      "execution_count": 76,
      "outputs": [
        {
          "output_type": "execute_result",
          "data": {
            "text/plain": [
              "1969     6\n",
              "1970     2\n",
              "1970     2\n",
              "1974     9\n",
              "1974    19\n",
              "dtype: int64"
            ]
          },
          "metadata": {
            "tags": []
          },
          "execution_count": 76
        }
      ]
    },
    {
      "cell_type": "code",
      "metadata": {
        "id": "GlDWUbtBdi_r",
        "outputId": "1d74510d-c725-4937-cbab-8fb62dfc880d",
        "colab": {
          "base_uri": "https://localhost:8080/"
        }
      },
      "source": [
        "#loc llama los indice especificando el indice y la columna\n",
        "cidys.loc['1970']"
      ],
      "execution_count": 77,
      "outputs": [
        {
          "output_type": "execute_result",
          "data": {
            "text/plain": [
              "1970    2\n",
              "1970    2\n",
              "dtype: int64"
            ]
          },
          "metadata": {
            "tags": []
          },
          "execution_count": 77
        }
      ]
    }
  ]
}