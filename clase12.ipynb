{
  "nbformat": 4,
  "nbformat_minor": 0,
  "metadata": {
    "colab": {
      "name": "clase12.ipynb",
      "provenance": [],
      "authorship_tag": "ABX9TyP+JTIS6UJ/q0QEH3GAWL9R",
      "include_colab_link": true
    },
    "kernelspec": {
      "name": "python3",
      "display_name": "Python 3"
    },
    "language_info": {
      "name": "python"
    }
  },
  "cells": [
    {
      "cell_type": "markdown",
      "metadata": {
        "id": "view-in-github",
        "colab_type": "text"
      },
      "source": [
        "<a href=\"https://colab.research.google.com/github/victoriaPaez/MujeresDigitales2021/blob/main/clase12.ipynb\" target=\"_parent\"><img src=\"https://colab.research.google.com/assets/colab-badge.svg\" alt=\"Open In Colab\"/></a>"
      ]
    },
    {
      "cell_type": "code",
      "metadata": {
        "colab": {
          "base_uri": "https://localhost:8080/"
        },
        "id": "4zABC7NBxakZ",
        "outputId": "74994576-312f-44da-eb56-d1ed97e3c94b"
      },
      "source": [
        "import pandas as pd #llamamos la libreria pandas y le ponemos un alias pd\n",
        "david = pd.Series([145,142,38,13], name='counts') #se crea una serie con los siguientes datos\n",
        "#convierte una lista en una serie y a la columna se le nombra counts\n",
        "\n",
        "print(type(david))\n",
        "print('\\n')\n",
        "print(david.index)\n",
        "print('\\n')\n",
        "print(david.values)\n",
        "print('\\n')\n",
        "david"
      ],
      "execution_count": 7,
      "outputs": [
        {
          "output_type": "stream",
          "text": [
            "<class 'pandas.core.series.Series'>\n",
            "\n",
            "\n",
            "RangeIndex(start=0, stop=4, step=1)\n",
            "\n",
            "\n",
            "[145 142  38  13]\n",
            "\n",
            "\n"
          ],
          "name": "stdout"
        },
        {
          "output_type": "execute_result",
          "data": {
            "text/plain": [
              "0    145\n",
              "1    142\n",
              "2     38\n",
              "3     13\n",
              "Name: counts, dtype: int64"
            ]
          },
          "metadata": {
            "tags": []
          },
          "execution_count": 7
        }
      ]
    },
    {
      "cell_type": "code",
      "metadata": {
        "colab": {
          "base_uri": "https://localhost:8080/"
        },
        "id": "WDQq0WsiKFpx",
        "outputId": "78ad036c-bc6c-4e4c-d36d-f4ea11a553fe"
      },
      "source": [
        "pd.Series(['a','b','c'])"
      ],
      "execution_count": 3,
      "outputs": [
        {
          "output_type": "execute_result",
          "data": {
            "text/plain": [
              "0    a\n",
              "1    b\n",
              "2    c\n",
              "dtype: object"
            ]
          },
          "metadata": {
            "tags": []
          },
          "execution_count": 3
        }
      ]
    }
  ]
}