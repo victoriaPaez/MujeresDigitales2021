{
  "nbformat": 4,
  "nbformat_minor": 0,
  "metadata": {
    "colab": {
      "name": "clase12.ipynb",
      "provenance": [],
      "authorship_tag": "ABX9TyN3i7YSzf3JFNynJi0ldfeV",
      "include_colab_link": true
    },
    "kernelspec": {
      "name": "python3",
      "display_name": "Python 3"
    },
    "language_info": {
      "name": "python"
    }
  },
  "cells": [
    {
      "cell_type": "markdown",
      "metadata": {
        "id": "view-in-github",
        "colab_type": "text"
      },
      "source": [
        "<a href=\"https://colab.research.google.com/github/victoriaPaez/MujeresDigitales2021/blob/main/clase12.ipynb\" target=\"_parent\"><img src=\"https://colab.research.google.com/assets/colab-badge.svg\" alt=\"Open In Colab\"/></a>"
      ]
    },
    {
      "cell_type": "code",
      "metadata": {
        "colab": {
          "base_uri": "https://localhost:8080/"
        },
        "id": "4zABC7NBxakZ",
        "outputId": "74994576-312f-44da-eb56-d1ed97e3c94b"
      },
      "source": [
        "import pandas as pd #llamamos la libreria pandas y le ponemos un alias pd\n",
        "david = pd.Series([145,142,38,13], name='counts') #se crea una serie con los siguientes datos\n",
        "#convierte una lista en una serie y a la columna se le nombra counts\n",
        "\n",
        "print(type(david))\n",
        "print('\\n')\n",
        "print(david.index)\n",
        "print('\\n')\n",
        "print(david.values)\n",
        "print('\\n')\n",
        "david"
      ],
      "execution_count": 7,
      "outputs": [
        {
          "output_type": "stream",
          "text": [
            "<class 'pandas.core.series.Series'>\n",
            "\n",
            "\n",
            "RangeIndex(start=0, stop=4, step=1)\n",
            "\n",
            "\n",
            "[145 142  38  13]\n",
            "\n",
            "\n"
          ],
          "name": "stdout"
        },
        {
          "output_type": "execute_result",
          "data": {
            "text/plain": [
              "0    145\n",
              "1    142\n",
              "2     38\n",
              "3     13\n",
              "Name: counts, dtype: int64"
            ]
          },
          "metadata": {
            "tags": []
          },
          "execution_count": 7
        }
      ]
    },
    {
      "cell_type": "code",
      "metadata": {
        "colab": {
          "base_uri": "https://localhost:8080/"
        },
        "id": "WDQq0WsiKFpx",
        "outputId": "78ad036c-bc6c-4e4c-d36d-f4ea11a553fe"
      },
      "source": [
        "pd.Series(['a','b','c'])"
      ],
      "execution_count": 3,
      "outputs": [
        {
          "output_type": "execute_result",
          "data": {
            "text/plain": [
              "0    a\n",
              "1    b\n",
              "2    c\n",
              "dtype: object"
            ]
          },
          "metadata": {
            "tags": []
          },
          "execution_count": 3
        }
      ]
    },
    {
      "cell_type": "code",
      "metadata": {
        "colab": {
          "base_uri": "https://localhost:8080/"
        },
        "id": "GgRNtuWRLTFQ",
        "outputId": "df40d453-a7e6-4de6-c851-663e24ae0969"
      },
      "source": [
        "#indice no tiene que ser numero\n",
        "david3 = pd.Series([145,142,38,13], name ='counts',index=['juan','pedro','sofia','andrea'])\n",
        "print(david3)\n",
        "print('\\n')\n",
        "print(david3.values)\n",
        "print('\\n')\n",
        "print(david3.index)\n",
        "print('\\n')\n",
        "\n"
      ],
      "execution_count": 12,
      "outputs": [
        {
          "output_type": "stream",
          "text": [
            "juan      145\n",
            "pedro     142\n",
            "sofia      38\n",
            "andrea     13\n",
            "Name: counts, dtype: int64\n",
            "\n",
            "\n",
            "[145 142  38  13]\n",
            "\n",
            "\n",
            "Index(['juan', 'pedro', 'sofia', 'andrea'], dtype='object')\n",
            "\n",
            "\n"
          ],
          "name": "stdout"
        }
      ]
    },
    {
      "cell_type": "code",
      "metadata": {
        "colab": {
          "base_uri": "https://localhost:8080/"
        },
        "id": "hLxqQVM5NHZJ",
        "outputId": "fe317ef4-43b8-4747-e987-f58c35701881"
      },
      "source": [
        "#y que hay de los nulos\n",
        "nan_ser = pd.Series([2,None],index=['O','C'])\n",
        "print(nan_ser)#nan solo puede ser dato tipo float\n",
        "nan_ser.count()\n"
      ],
      "execution_count": 15,
      "outputs": [
        {
          "output_type": "stream",
          "text": [
            "O    2.0\n",
            "C    NaN\n",
            "dtype: float64\n"
          ],
          "name": "stdout"
        },
        {
          "output_type": "execute_result",
          "data": {
            "text/plain": [
              "1"
            ]
          },
          "metadata": {
            "tags": []
          },
          "execution_count": 15
        }
      ]
    },
    {
      "cell_type": "code",
      "metadata": {
        "colab": {
          "base_uri": "https://localhost:8080/"
        },
        "id": "Gk6VjUYgNykT",
        "outputId": "b0a38230-a633-41d2-9994-a6c7e8e8a03a"
      },
      "source": [
        "serie_impar =pd.Series(range(1,16,2),name='impar')\n",
        "print(serie_impar.values)\n",
        "print('\\n')\n",
        "serie_impar"
      ],
      "execution_count": 26,
      "outputs": [
        {
          "output_type": "stream",
          "text": [
            "[ 1  3  5  7  9 11 13 15]\n",
            "\n",
            "\n"
          ],
          "name": "stdout"
        },
        {
          "output_type": "execute_result",
          "data": {
            "text/plain": [
              "0     1\n",
              "1     3\n",
              "2     5\n",
              "3     7\n",
              "4     9\n",
              "5    11\n",
              "6    13\n",
              "7    15\n",
              "Name: impar, dtype: int64"
            ]
          },
          "metadata": {
            "tags": []
          },
          "execution_count": 26
        }
      ]
    }
  ]
}