{
  "nbformat": 4,
  "nbformat_minor": 0,
  "metadata": {
    "colab": {
      "name": "Clase3.ipynb",
      "provenance": [],
      "authorship_tag": "ABX9TyNaLGjAEatFfNgcvon1vvW8",
      "include_colab_link": true
    },
    "kernelspec": {
      "name": "python3",
      "display_name": "Python 3"
    },
    "language_info": {
      "name": "python"
    }
  },
  "cells": [
    {
      "cell_type": "markdown",
      "metadata": {
        "id": "view-in-github",
        "colab_type": "text"
      },
      "source": [
        "<a href=\"https://colab.research.google.com/github/victoriaPaez/MujeresDigitales2021/blob/main/Clase3.ipynb\" target=\"_parent\"><img src=\"https://colab.research.google.com/assets/colab-badge.svg\" alt=\"Open In Colab\"/></a>"
      ]
    },
    {
      "cell_type": "markdown",
      "metadata": {
        "id": "j1jE7PtN4l3z"
      },
      "source": [
        ""
      ]
    },
    {
      "cell_type": "markdown",
      "metadata": {
        "id": "QkOGydPP4m_L"
      },
      "source": [
        "**estructuras de condicionales**\n",
        "\n",
        "\n",
        "---\n",
        "\n",
        "AL momento de construir una instruccion de tipo condicional se deberà comprender que dichas instrucciones, estan diseñadas para ayudar en la toma de decisiones\n",
        "Ejemplo: \n",
        "\n",
        "**Si** pedro va a la tienda por la izquierda lleara mas rapido, si no se demorara mas.\n",
        "\n",
        "Existen varios tipos de instrucciones algunos pueden ser simples y otros multiples, sin embargo solo se generan dos resultados:\n",
        "\n",
        "-verdadero  \n",
        "-falso\n",
        "\n",
        "En Python tales resultados serian True o False\n",
        "\n",
        "para aplicar condicionales que se veran a continuacion se debe recordar los comados de operadores matematicos\n",
        "\n",
        "1. Igualdad (==)\n",
        "2. Diferencia (!=)\n",
        "3. Menor que (<)\n",
        "4. Mayor que (>)\n",
        "5. Menor o igual que (<=)\n",
        "6. Mayor o igual que (>=)\n",
        "\n",
        "en condiciones ultiples podemos enlazar los operadores logicos\n",
        "1. AND (y)\n",
        "2. OR (o)\n",
        "3. NOT (no)\n",
        "\n",
        "\n",
        "para aplicar lo operadores matematicos y logicos debemos tener en cuenta el diagrama de flujo, permite mayor organizacion de las ideas para la toma de decisiones\n",
        "\n"
      ]
    },
    {
      "cell_type": "markdown",
      "metadata": {
        "id": "it-q_Nk9BPHR"
      },
      "source": [
        "**comnado if**\n",
        "\n",
        "\n",
        "---\n",
        "permite evaluar si una sentencia es verdadera o falsa, ejecuta una accion establecida medicnte un codigo, inmediatamente en las lineas siguientes a dicha condicion\n"
      ]
    },
    {
      "cell_type": "code",
      "metadata": {
        "colab": {
          "base_uri": "https://localhost:8080/"
        },
        "id": "wkG_zmCJBgT4",
        "outputId": "0d3af697-8279-4dde-a2f2-5b0ed6ecb449"
      },
      "source": [
        "num = input ('Escribir un numero: ')\n",
        "if num == 200:\n",
        "    print('Escribiste el numero 200')"
      ],
      "execution_count": 5,
      "outputs": [
        {
          "output_type": "stream",
          "text": [
            "Escribir un numero: 200\n"
          ],
          "name": "stdout"
        }
      ]
    },
    {
      "cell_type": "markdown",
      "metadata": {
        "id": "EzMBX8GDCRbI"
      },
      "source": [
        "**comando else**\n",
        "\n",
        "\n",
        "---\n",
        "es conocido como \"si no\" permite relacionar las acciones que deberia realizar en caso que la condicion sea falsa.\n"
      ]
    },
    {
      "cell_type": "code",
      "metadata": {
        "colab": {
          "base_uri": "https://localhost:8080/"
        },
        "id": "qjYDHVH5Ch_A",
        "outputId": "5a537ad9-0b4d-4731-a87b-57569df7b151"
      },
      "source": [
        "num = int(input ('Escribir un numero: '))\n",
        "if num == 200:\n",
        "  print(\"Escribiste el numero 200\")\n",
        "else:\n",
        "  print(\"el numero escrito no es 200\")"
      ],
      "execution_count": 12,
      "outputs": [
        {
          "output_type": "stream",
          "text": [
            "Escribir un numero: 200\n",
            "Escribiste el numero 200\n"
          ],
          "name": "stdout"
        }
      ]
    },
    {
      "cell_type": "markdown",
      "metadata": {
        "id": "yS-5NM4TD4Hw"
      },
      "source": [
        "**comado ELIF**\n",
        "\n",
        "\n",
        "---\n",
        "\n",
        "Significa \"sino si\", permite concatenar condiciones:\n"
      ]
    },
    {
      "cell_type": "code",
      "metadata": {
        "colab": {
          "base_uri": "https://localhost:8080/"
        },
        "id": "HiWZA8NGEDlQ",
        "outputId": "c24d7126-2e21-472e-a913-62ce62727813"
      },
      "source": [
        "num = int(input ('Escribir un numero: '))\n",
        "if num == 200:\n",
        "  print(\"Escribiste el numero 200\")\n",
        "elif num>200:\n",
        "  print(\"el numero escrito es mayor a 200\")\n",
        "else:\n",
        "  print(\"el numero escrito no es 200\")"
      ],
      "execution_count": 15,
      "outputs": [
        {
          "output_type": "stream",
          "text": [
            "Escribir un numero: 199\n",
            "el numero escrito no es 200\n"
          ],
          "name": "stdout"
        }
      ]
    },
    {
      "cell_type": "markdown",
      "metadata": {
        "id": "XuXZ_mFFHn7Q"
      },
      "source": [
        "**condicionales multiples**\n",
        "\n",
        "\n",
        "---\n",
        "cuando se presentan situaciones con mas de una condicion que dependen unas de otras, estas se pueden tratar ,mediante el manejo de varias sentencias o comandos if o mediante el manejo adecuado del comando elif \n",
        "\n",
        "en muchos casos cuando hay multiples condiciones la programacion necesita mayor cantidad de lineas\n",
        "\n",
        "en esos casos es necesario de operadores logicos (AND OR)\n"
      ]
    },
    {
      "cell_type": "code",
      "metadata": {
        "colab": {
          "base_uri": "https://localhost:8080/"
        },
        "id": "HCR6OsvgIGhu",
        "outputId": "14e5df5c-1a59-45ef-c74e-a71be14abc46"
      },
      "source": [
        "x=int(input(\"valor\"))#condicional anidada\n",
        "if 0<x:\n",
        "  if x<10:\n",
        "    print(\"x es un numero positivo\")"
      ],
      "execution_count": 22,
      "outputs": [
        {
          "output_type": "stream",
          "text": [
            "valor8\n",
            "x es un numero positivo\n"
          ],
          "name": "stdout"
        }
      ]
    },
    {
      "cell_type": "code",
      "metadata": {
        "colab": {
          "base_uri": "https://localhost:8080/"
        },
        "id": "lVmaHudPJ9U_",
        "outputId": "02ef7e5f-9a63-4f11-8892-c50f260dc2de"
      },
      "source": [
        "x=int(input(\"valor\")) #Expresion booleana\n",
        "if 0<x and x<10:\n",
        " print (\"x es un numero de un digito\")"
      ],
      "execution_count": 26,
      "outputs": [
        {
          "output_type": "stream",
          "text": [
            "valor8\n",
            "x es un numero de un digito\n"
          ],
          "name": "stdout"
        }
      ]
    },
    {
      "cell_type": "code",
      "metadata": {
        "colab": {
          "base_uri": "https://localhost:8080/"
        },
        "id": "K7_5-Y2SKWVG",
        "outputId": "87150d9d-9258-4174-f217-c2721ef32381"
      },
      "source": [
        "x=int(input(\"valor\"))#esta condicion es la misma expresion boleana compuesta y la misma expresion condicional anidada\n",
        "if 0<x<10:\n",
        "   print (\"x es un numero de un digito\")"
      ],
      "execution_count": 27,
      "outputs": [
        {
          "output_type": "stream",
          "text": [
            "valor8\n",
            "x es un numero de un digito\n"
          ],
          "name": "stdout"
        }
      ]
    },
    {
      "cell_type": "markdown",
      "metadata": {
        "id": "sJTpDys8KvFo"
      },
      "source": [
        "esta condicion es la misma expresion boleana compuesta y la misma expresion condicional anidada"
      ]
    },
    {
      "cell_type": "markdown",
      "metadata": {
        "id": "M10K_h0JNWS4"
      },
      "source": [
        "**estructuras de control iteractivas**\n",
        "las variables son clave en la estructura de control iterativas, puesto que son el medio entre la iteracion y la condicion que se esta ejecutando\n",
        "\n",
        "\n",
        "**que es iteracion**\n",
        "es la consecucion del codigo tantas veces requiera hasta que se cumplan las condiciones establecidas\n",
        "\n",
        "**banderas**\n",
        "son las variables que toman un valor preferiblemente binario, booleano e indica un estado\n",
        "\n",
        "Ejemplo:"
      ]
    },
    {
      "cell_type": "code",
      "metadata": {
        "colab": {
          "base_uri": "https://localhost:8080/"
        },
        "id": "xNJRN_Q3N4Be",
        "outputId": "9afdd271-5951-4569-c280-841b223f4653"
      },
      "source": [
        "suma = False\n",
        "total =0\n",
        "a=3\n",
        "b=10\n",
        "if (suma==False):\n",
        "   total = a + b\n",
        "   suma = True\n",
        "\n",
        "if (suma == True):\n",
        "  print(\"el valor total de la suma es: \", total)\n",
        " "
      ],
      "execution_count": 31,
      "outputs": [
        {
          "output_type": "stream",
          "text": [
            "el valor total de la suma es:  13\n"
          ],
          "name": "stdout"
        }
      ]
    },
    {
      "cell_type": "markdown",
      "metadata": {
        "id": "jLLnNHZlPghv"
      },
      "source": [
        "la variable suma en este caso del tipo booleano y su funcion es indicar cuando se ejecuto la suma, por lo tanto tiene un estado inicial false, pero luego de ejecutar la suma el valor true"
      ]
    }
  ]
}