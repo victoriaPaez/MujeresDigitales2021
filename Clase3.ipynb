{
  "nbformat": 4,
  "nbformat_minor": 0,
  "metadata": {
    "colab": {
      "name": "Clase3.ipynb",
      "provenance": [],
      "authorship_tag": "ABX9TyO5AbSTksZKBnmH+Mfan8HC",
      "include_colab_link": true
    },
    "kernelspec": {
      "name": "python3",
      "display_name": "Python 3"
    },
    "language_info": {
      "name": "python"
    }
  },
  "cells": [
    {
      "cell_type": "markdown",
      "metadata": {
        "id": "view-in-github",
        "colab_type": "text"
      },
      "source": [
        "<a href=\"https://colab.research.google.com/github/victoriaPaez/MujeresDigitales2021/blob/main/Clase3.ipynb\" target=\"_parent\"><img src=\"https://colab.research.google.com/assets/colab-badge.svg\" alt=\"Open In Colab\"/></a>"
      ]
    },
    {
      "cell_type": "markdown",
      "metadata": {
        "id": "j1jE7PtN4l3z"
      },
      "source": [
        ""
      ]
    },
    {
      "cell_type": "markdown",
      "metadata": {
        "id": "QkOGydPP4m_L"
      },
      "source": [
        "**estructuras de condicionales**\n",
        "\n",
        "\n",
        "---\n",
        "\n",
        "AL momento de construir una instruccion de tipo condicional se deberà comprender que dichas instrucciones, estan diseñadas para ayudar en la toma de decisiones\n",
        "Ejemplo: \n",
        "\n",
        "**Si** pedro va a la tienda por la izquierda lleara mas rapido, si no se demorara mas.\n",
        "\n",
        "Existen varios tipos de instrucciones algunos pueden ser simples y otros multiples, sin embargo solo se generan dos resultados:\n",
        "\n",
        "-verdadero  \n",
        "-falso\n",
        "\n",
        "En Python tales resultados serian True o False\n",
        "\n",
        "para aplicar condicionales que se veran a continuacion se debe recordar los comados de operadores matematicos\n",
        "\n",
        "1. Igualdad (==)\n",
        "2. Diferencia (!=)\n",
        "3. Menor que (<)\n",
        "4. Mayor que (>)\n",
        "5. Menor o igual que (<=)\n",
        "6. Mayor o igual que (>=)"
      ]
    },
    {
      "cell_type": "code",
      "metadata": {
        "id": "dMWu1byc7Jkz"
      },
      "source": [
        ""
      ],
      "execution_count": null,
      "outputs": []
    }
  ]
}