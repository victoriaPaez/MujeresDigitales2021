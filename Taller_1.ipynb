{
  "nbformat": 4,
  "nbformat_minor": 0,
  "metadata": {
    "colab": {
      "name": "Taller 1.ipynb",
      "provenance": [],
      "authorship_tag": "ABX9TyOzLtoCNjV/7wUI29JRdycr",
      "include_colab_link": true
    },
    "kernelspec": {
      "name": "python3",
      "display_name": "Python 3"
    },
    "language_info": {
      "name": "python"
    }
  },
  "cells": [
    {
      "cell_type": "markdown",
      "metadata": {
        "id": "view-in-github",
        "colab_type": "text"
      },
      "source": [
        "<a href=\"https://colab.research.google.com/github/victoriaPaez/MujeresDigitales2021/blob/main/Taller_1.ipynb\" target=\"_parent\"><img src=\"https://colab.research.google.com/assets/colab-badge.svg\" alt=\"Open In Colab\"/></a>"
      ]
    },
    {
      "cell_type": "code",
      "metadata": {
        "colab": {
          "base_uri": "https://localhost:8080/"
        },
        "id": "Soosr1LzEvAT",
        "outputId": "11b837a5-8c76-4a3a-e699-e531497ec338"
      },
      "source": [
        "#el Bootcamp comenzo el 26 de Julio de 2021, se les explico a las estudiantes que se les evaluarìa de la siguiente manera\n",
        "\n",
        "tareasPorcentaje=10\n",
        "talleresPorcentaje=25\n",
        "asistenciaPorcentaje =5\n",
        "participacionPorcentaje=15\n",
        "proyectoPorcentaje=45\n",
        "\n",
        "#teniendo en cuenta la ponderacion de calificacion del Bootcamp, las estudiantes deciden desarrolar un programa que les permita saber cuanto tendria que sacar en el proyecto para tener una definitiva de 3.7 mìnimo, si las notas que llevan hasta el momento son las siguientes:\n",
        "\n",
        "notasTareas=4.5\n",
        "notasTalleres=4.0\n",
        "notasAsistencia=5.0\n",
        "notasParticipacion=4.0\n",
        "\n",
        "notaMaxima=5.0\n",
        "notaMinimaAprobar=3.7\n",
        "porcentaje_minimo_aprobar=((notaMinimaAprobar*100)/notaMaxima)\n",
        "print(\"para aprobar el Bootcamp con una nota minima de 3.7 se necesita un porcentaje de \",porcentaje_minimo_aprobar,\"% \\n\")\n",
        "\n",
        "Porcentaje_Tareas= (notasTareas*tareasPorcentaje)/notaMaxima\n",
        "porcentaje_talleres=(notasTalleres*talleresPorcentaje)/notaMaxima\n",
        "porcentaje_asistencia=(notasAsistencia*asistenciaPorcentaje )/notaMaxima\n",
        "porcentaje_participacion=(notasParticipacion*participacionPorcentaje)/notaMaxima\n",
        "\n",
        "porcentaje_proyecto_Minimo= porcentaje_minimo_aprobar- (Porcentaje_Tareas+porcentaje_talleres+porcentaje_asistencia+porcentaje_participacion)\n",
        "\n",
        "notaMinimaProyecto=(porcentaje_proyecto_Minimo*notaMaxima)/proyectoPorcentaje\n",
        "\n",
        "print(\"la nota minima que necesitan en el proyecto para aprobar el Bootcamp con 3.7  es: \", round(notaMinimaProyecto),\"\\n\") "
      ],
      "execution_count": 2,
      "outputs": [
        {
          "output_type": "stream",
          "text": [
            "para aprobar el Bootcamp con una nota minima de 3.7 se necesita un porcentaje de  74.0 % \n",
            "\n",
            "la nota minima que necesitan en el proyecto para aprobar el Bootcamp con 3.7  es:  3 \n",
            "\n"
          ],
          "name": "stdout"
        }
      ]
    }
  ]
}