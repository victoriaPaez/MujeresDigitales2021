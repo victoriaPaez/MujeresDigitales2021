{
  "nbformat": 4,
  "nbformat_minor": 0,
  "metadata": {
    "colab": {
      "name": "Taller 1.ipynb",
      "provenance": [],
      "authorship_tag": "ABX9TyOj9HX91Elt0TT2d9r76JPc",
      "include_colab_link": true
    },
    "kernelspec": {
      "name": "python3",
      "display_name": "Python 3"
    },
    "language_info": {
      "name": "python"
    }
  },
  "cells": [
    {
      "cell_type": "markdown",
      "metadata": {
        "id": "view-in-github",
        "colab_type": "text"
      },
      "source": [
        "<a href=\"https://colab.research.google.com/github/victoriaPaez/MujeresDigitales2021/blob/main/Taller_1.ipynb\" target=\"_parent\"><img src=\"https://colab.research.google.com/assets/colab-badge.svg\" alt=\"Open In Colab\"/></a>"
      ]
    },
    {
      "cell_type": "markdown",
      "metadata": {
        "id": "f_-jekuwb_eB"
      },
      "source": [
        "\n",
        "**TALLER 1**\n",
        "---\n",
        "\n",
        "**Ejercicio 1**\n",
        "\n",
        "\n",
        "---\n",
        "\n"
      ]
    },
    {
      "cell_type": "code",
      "metadata": {
        "colab": {
          "base_uri": "https://localhost:8080/"
        },
        "id": "Soosr1LzEvAT",
        "outputId": "11b837a5-8c76-4a3a-e699-e531497ec338"
      },
      "source": [
        "#el Bootcamp comenzo el 26 de Julio de 2021, se les explico a las estudiantes que se les evaluarìa de la siguiente manera\n",
        "\n",
        "tareasPorcentaje=10\n",
        "talleresPorcentaje=25\n",
        "asistenciaPorcentaje =5\n",
        "participacionPorcentaje=15\n",
        "proyectoPorcentaje=45\n",
        "\n",
        "#teniendo en cuenta la ponderacion de calificacion del Bootcamp, las estudiantes deciden desarrolar un programa que les permita saber cuanto tendria que sacar en el proyecto para tener una definitiva de 3.7 mìnimo, si las notas que llevan hasta el momento son las siguientes:\n",
        "\n",
        "notasTareas=4.5\n",
        "notasTalleres=4.0\n",
        "notasAsistencia=5.0\n",
        "notasParticipacion=4.0\n",
        "\n",
        "notaMaxima=5.0\n",
        "notaMinimaAprobar=3.7\n",
        "porcentaje_minimo_aprobar=((notaMinimaAprobar*100)/notaMaxima)\n",
        "print(\"para aprobar el Bootcamp con una nota minima de 3.7 se necesita un porcentaje de \",porcentaje_minimo_aprobar,\"% \\n\")\n",
        "\n",
        "Porcentaje_Tareas= (notasTareas*tareasPorcentaje)/notaMaxima\n",
        "porcentaje_talleres=(notasTalleres*talleresPorcentaje)/notaMaxima\n",
        "porcentaje_asistencia=(notasAsistencia*asistenciaPorcentaje )/notaMaxima\n",
        "porcentaje_participacion=(notasParticipacion*participacionPorcentaje)/notaMaxima\n",
        "\n",
        "porcentaje_proyecto_Minimo= porcentaje_minimo_aprobar- (Porcentaje_Tareas+porcentaje_talleres+porcentaje_asistencia+porcentaje_participacion)\n",
        "\n",
        "notaMinimaProyecto=(porcentaje_proyecto_Minimo*notaMaxima)/proyectoPorcentaje\n",
        "\n",
        "print(\"la nota minima que necesitan en el proyecto para aprobar el Bootcamp con 3.7  es: \", round(notaMinimaProyecto),\"\\n\") "
      ],
      "execution_count": null,
      "outputs": [
        {
          "output_type": "stream",
          "text": [
            "para aprobar el Bootcamp con una nota minima de 3.7 se necesita un porcentaje de  74.0 % \n",
            "\n",
            "la nota minima que necesitan en el proyecto para aprobar el Bootcamp con 3.7  es:  3 \n",
            "\n"
          ],
          "name": "stdout"
        }
      ]
    },
    {
      "cell_type": "markdown",
      "metadata": {
        "id": "07CpNIhDcJSY"
      },
      "source": [
        "\n",
        "\n",
        "---\n",
        "\n",
        "\n",
        "**Ejercicio 2**\n",
        "\n",
        "---\n",
        "\n"
      ]
    },
    {
      "cell_type": "code",
      "metadata": {
        "colab": {
          "base_uri": "https://localhost:8080/"
        },
        "id": "V1_wVfXBbre6",
        "outputId": "1a0b2e76-937f-4e7a-895f-583892363df1"
      },
      "source": [
        "\n",
        "#La empresa VIVAFLY tiene como eslogan: \"Satisfacción y plenitud en un solo viaje\". Por lo cual, uno de los medios que utiliza VIVAFLY para mantener la satisfacción al cliente, es realizar rifas a lo largo del año para fomentar mayor unión y entendimiento. Para el mes de septiembre, por motivos de celebración de Amor y Amistad, la empresa decide sortear los siguientes viajes a los 5 clientes con más antigüedad:\n",
        "\n",
        "#premio_1=\"Viaje todo incluído para dos personas a San Andrés\"\n",
        "#premio_2=\"un pasadía a los termales de San Vicente incluyendo almuerzo\"\n",
        "#premio_3=\"Viaje todo incluido para dos personas a Santa Marta\"\n",
        "#premio_4=\"Pasadía al desierto de Tatacoa (Sin incluír alimentación)\"\n",
        "#no_ganador=\"No hay premio\"\n",
        "\n",
        "#La empresa utilizará para el sorteo el método de balotera. A continuación se menciona el color ganador por premio:\n",
        "\n",
        "rosado_Color= \"Viaje todo incluído para dos personas a San Andrés\"\n",
        "verde_Color=\"un pasadía a los termales de San Vicente incluyendo almuerzo\"\n",
        "azul_Color= \"Viaje todo incluido para dos personas a Santa Marta\"\n",
        "gris_Color= \"Pasadía al desierto de Tatacoa (Sin incluír alimentación)\"\n",
        "rojo_Color= \"No hay premio\"\n",
        "\n",
        "#La probabilidad de sacar una balota es:\n",
        "\n",
        "balota_rosada=0.15\n",
        "balota_verde=0.20\n",
        "balota_azul=0.05\n",
        "balota_gris=0.20\n",
        "balota_rojo=0.40\n",
        "\n",
        "#Adicionalmente, para las personas que SI obtengan premio, recibirán un bono en efectivo del porcentaje que represente la probabilidad de ganar con cada balota sobre un valor de 1.000.000 pesos. Sin embargo, se debe tener en cuenta que, Si al aplicar el porcentaje arroja un valor inferior a 120.000, no se les dará el bono en efectivo sino dos boletas de cine 4D para la película en estreno del mes incluyendo un solo combo de palomitas.Por otro lado, para la persona que saque balota roja obtendrá un premio de 120.000 pesos.\n",
        "\n",
        "\n",
        "valorEfectivo=1000000\n",
        "\n",
        "\n",
        "#Nota: El sorteo se realiza con el método de NO reemplazo. Es decir, la probabilidad de sacar cada una de las balotas es la misma para los 5 clientes. Porque a medida que vayan sacando las balotas ganadoras estás se regresan a la balotera y se mantendrá la misma cantidad de balotas.\n",
        "\n",
        "#Teniendo en cuenta lo anterior.Se le pide a la analista que genere un código donde se pueda observar las respectivas premiaciones.\n",
        "\n",
        "#las entradas deben ser las siguientes:\n",
        "\n",
        "#Nombre de la concursante\n",
        "        #Color de balota\n",
        "\n",
        "#Salida:\n",
        "        #Premio\n",
        "\n",
        "nombre_Consursante = input ('Escribir el nombre del concursante: ')\n",
        "nombre_Balota = input ('Escribir el nombre del concursante: ')\n",
        "print(\"\\n\")\n",
        "\n",
        "if(nombre_Balota==\"rosado\"): \n",
        "    a=balota_rosada\n",
        "    print(\"La empresa VIVAFLY se complace en anunciar que La participante\", nombre_Consursante,\" ganó \", rosado_Color,\" en nuestro sorteo de viajes de AMOR y AMISTAD \\n\")\n",
        "elif(nombre_Balota==\"verde\"):\n",
        "    a=balota_verde\n",
        "    print(\"La empresa VIVAFLY se complace en anunciar que La participante\", nombre_Consursante,\" ganó \", verde_Color,\" en nuestro sorteo de viajes de AMOR y AMISTAD \\n\")\n",
        "elif(nombre_Balota==\"azul\"):\n",
        "    a=balota_azul\n",
        "    print(\"La empresa VIVAFLY se complace en anunciar que La participante\", nombre_Consursante,\" ganó \", azul_Color,\" en nuestro sorteo de viajes de AMOR y AMISTAD \\n\")\n",
        "elif(nombre_Balota==\"gris\"):\n",
        "    a=balota_gris\n",
        "    print(\"La empresa VIVAFLY se complace en anunciar que La participante\", nombre_Consursante,\" ganó \", gris_Color,\" en nuestro sorteo de viajes de AMOR y AMISTAD \\n\")\n",
        "elif(nombre_Balota==\"rojo\"):\n",
        "    a=balota_rojo\n",
        "    print(\"lo siento: \", nombre_Consursante,\" en esta oportunidad \", rojo_Color,\" en nuestro sorteo de viajes de AMOR y AMISTAD \\n\")\n",
        "else:\n",
        "    a=0\n",
        "    print(\"lo siento: \", nombre_Consursante,\" la balota de color: \", nombre_Balota,\"no es valida \\n\")\n",
        "    \n",
        "bono=(a*valorEfectivo)\n",
        "\n",
        "if(bono >= 120000):\n",
        "    print(\"Felicidades se ha ganado un bono por: \",round(bono),\" pesos\\n\")\n",
        "elif(bono == 0):\n",
        "    print(\"lo siento la opcion no es valida\")\n",
        "else:\n",
        "    print(\"felicidades ha ganado dos boletas de cine 4D para la película en estreno del mes incluyendo un solo combo de palomitas \\n\")\n"
      ],
      "execution_count": 1,
      "outputs": [
        {
          "output_type": "stream",
          "text": [
            "Escribir el nombre del concursante: ana\n",
            "Escribir el nombre del concursante: verde\n",
            "\n",
            "\n",
            "La empresa VIVAFLY se complace en anunciar que La participante ana  ganó  un pasadía a los termales de San Vicente incluyendo almuerzo  en nuestro sorteo de viajes de AMOR y AMISTAD \n",
            "\n",
            "Felicidades se ha ganado un bono por:  200000  pesos\n",
            "\n"
          ],
          "name": "stdout"
        }
      ]
    }
  ]
}