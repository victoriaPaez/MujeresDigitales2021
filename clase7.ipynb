{
  "nbformat": 4,
  "nbformat_minor": 0,
  "metadata": {
    "colab": {
      "name": "clase7.ipynb",
      "provenance": [],
      "authorship_tag": "ABX9TyNa6DECwS/gxMFN8ttfdjsY",
      "include_colab_link": true
    },
    "kernelspec": {
      "name": "python3",
      "display_name": "Python 3"
    },
    "language_info": {
      "name": "python"
    }
  },
  "cells": [
    {
      "cell_type": "markdown",
      "metadata": {
        "id": "view-in-github",
        "colab_type": "text"
      },
      "source": [
        "<a href=\"https://colab.research.google.com/github/victoriaPaez/MujeresDigitales2021/blob/main/clase7.ipynb\" target=\"_parent\"><img src=\"https://colab.research.google.com/assets/colab-badge.svg\" alt=\"Open In Colab\"/></a>"
      ]
    },
    {
      "cell_type": "markdown",
      "metadata": {
        "id": "DPyLx4tozNLp"
      },
      "source": [
        "**continuacion de funciones**\n",
        "\n",
        "def suma(*argumento)"
      ]
    },
    {
      "cell_type": "code",
      "metadata": {
        "colab": {
          "base_uri": "https://localhost:8080/"
        },
        "id": "ZKw5hubVumba",
        "outputId": "4e1cb147-05d7-4c95-9f11-6c278eca2358"
      },
      "source": [
        "def suma(number):\n",
        "  total =0\n",
        "  for i in number:\n",
        "    total +=1\n",
        "  return total\n",
        "suma([2,3,5,4])\n",
        "\n"
      ],
      "execution_count": 9,
      "outputs": [
        {
          "output_type": "execute_result",
          "data": {
            "text/plain": [
              "4"
            ]
          },
          "metadata": {
            "tags": []
          },
          "execution_count": 9
        }
      ]
    },
    {
      "cell_type": "markdown",
      "metadata": {
        "id": "BXw04Ykc1UWi"
      },
      "source": [
        "el uso de *_ el uso del doble* nos permite tener como parametro de entrada una lista de elementos en forma de clave y valor\n",
        "la forma de iterar sera usando el comando *items()"
      ]
    },
    {
      "cell_type": "code",
      "metadata": {
        "id": "0rMFs0oX3MlI"
      },
      "source": [
        "def suma(**dado):\n",
        "  suma=0;\n",
        "  for i,j in dado.items():\n",
        "     suma +=j\n",
        "  return suma\n",
        "\n",
        "  suma(a=3,b=30,c=7)"
      ],
      "execution_count": 11,
      "outputs": []
    },
    {
      "cell_type": "markdown",
      "metadata": {
        "id": "tm3TsfSF4MIq"
      },
      "source": [
        "*+apliquemos la definicion del comando return**\n",
        "\n",
        "1 devolvemos parametros"
      ]
    },
    {
      "cell_type": "code",
      "metadata": {
        "colab": {
          "base_uri": "https://localhost:8080/",
          "height": 36
        },
        "id": "W79FuiR64_Ix",
        "outputId": "352f1a1b-f5a0-401e-8bd6-92ff91de8c59"
      },
      "source": [
        "def w(): \n",
        "  return \"HI\"\n",
        "w()"
      ],
      "execution_count": 13,
      "outputs": [
        {
          "output_type": "execute_result",
          "data": {
            "application/vnd.google.colaboratory.intrinsic+json": {
              "type": "string"
            },
            "text/plain": [
              "'HI'"
            ]
          },
          "metadata": {
            "tags": []
          },
          "execution_count": 13
        }
      ]
    },
    {
      "cell_type": "code",
      "metadata": {
        "colab": {
          "base_uri": "https://localhost:8080/"
        },
        "id": "i7FmWtuG5LL6",
        "outputId": "3aeb4a10-f183-4bf1-d731-5a1462639bdc"
      },
      "source": [
        "#devolver varias variables\n",
        "def sd(a,b,c):\n",
        "  q=a+b+c\n",
        "  z=q/3\n",
        "  return q,z\n",
        "q,z = sd(2,4,6)\n",
        "print(q)\n",
        "print(z)"
      ],
      "execution_count": 14,
      "outputs": [
        {
          "output_type": "stream",
          "text": [
            "12\n",
            "4.0\n"
          ],
          "name": "stdout"
        }
      ]
    },
    {
      "cell_type": "markdown",
      "metadata": {
        "id": "atGfqXbQ6Csy"
      },
      "source": [
        "**formas de hacer documentacion en la progracion y por bloques de codigo de linea**"
      ]
    },
    {
      "cell_type": "code",
      "metadata": {
        "colab": {
          "base_uri": "https://localhost:8080/"
        },
        "id": "M95WPGdO6KUK",
        "outputId": "40e98f8f-ad9f-4b20-e219-83232fcb434e"
      },
      "source": [
        "def paula(a,b):\n",
        "  \"\"\"\n",
        "  descripcion de la funcion, los parametros que se va a usar, explicar como se usa y que operaciones devuelve la funcion\n",
        "  \"\"\"\n",
        "  return a+b\n",
        "\n",
        "paula(8,3)"
      ],
      "execution_count": 19,
      "outputs": [
        {
          "output_type": "execute_result",
          "data": {
            "text/plain": [
              "11"
            ]
          },
          "metadata": {
            "tags": []
          },
          "execution_count": 19
        }
      ]
    },
    {
      "cell_type": "code",
      "metadata": {
        "colab": {
          "base_uri": "https://localhost:8080/"
        },
        "id": "0Jsgc5Fm64KU",
        "outputId": "f938f62c-0fc5-45e4-b64e-b89af97e4463"
      },
      "source": [
        "help(paula)"
      ],
      "execution_count": 20,
      "outputs": [
        {
          "output_type": "stream",
          "text": [
            "Help on function paula in module __main__:\n",
            "\n",
            "paula(a, b)\n",
            "    descripcion de la funcion, los parametros que se va a usar, explicar como se usa y que operaciones devuelve la funcion\n",
            "\n"
          ],
          "name": "stdout"
        }
      ]
    }
  ]
}