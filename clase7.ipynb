{
  "nbformat": 4,
  "nbformat_minor": 0,
  "metadata": {
    "colab": {
      "name": "clase7.ipynb",
      "provenance": [],
      "authorship_tag": "ABX9TyMfXYLXIQhgLEvLG1kAylWE",
      "include_colab_link": true
    },
    "kernelspec": {
      "name": "python3",
      "display_name": "Python 3"
    },
    "language_info": {
      "name": "python"
    }
  },
  "cells": [
    {
      "cell_type": "markdown",
      "metadata": {
        "id": "view-in-github",
        "colab_type": "text"
      },
      "source": [
        "<a href=\"https://colab.research.google.com/github/victoriaPaez/MujeresDigitales2021/blob/main/clase7.ipynb\" target=\"_parent\"><img src=\"https://colab.research.google.com/assets/colab-badge.svg\" alt=\"Open In Colab\"/></a>"
      ]
    },
    {
      "cell_type": "markdown",
      "metadata": {
        "id": "DPyLx4tozNLp"
      },
      "source": [
        "**continuacion de funciones**\n",
        "\n",
        "def suma(*argumento)"
      ]
    },
    {
      "cell_type": "code",
      "metadata": {
        "colab": {
          "base_uri": "https://localhost:8080/"
        },
        "id": "ZKw5hubVumba",
        "outputId": "4e1cb147-05d7-4c95-9f11-6c278eca2358"
      },
      "source": [
        "def suma(number):\n",
        "  total =0\n",
        "  for i in number:\n",
        "    total +=1\n",
        "  return total\n",
        "suma([2,3,5,4])\n",
        "\n"
      ],
      "execution_count": 9,
      "outputs": [
        {
          "output_type": "execute_result",
          "data": {
            "text/plain": [
              "4"
            ]
          },
          "metadata": {
            "tags": []
          },
          "execution_count": 9
        }
      ]
    },
    {
      "cell_type": "markdown",
      "metadata": {
        "id": "BXw04Ykc1UWi"
      },
      "source": [
        "el uso de *_ el uso del doble* nos permite tener como parametro de entrada una lista de elementos en forma de clave y valor\n",
        "la forma de iterar sera usando el comando *items()"
      ]
    },
    {
      "cell_type": "code",
      "metadata": {
        "id": "0rMFs0oX3MlI"
      },
      "source": [
        "def suma(**dado):\n",
        "  suma=0;\n",
        "  for i,j in dado.items():\n",
        "     suma +=j\n",
        "  return suma\n",
        "\n",
        "  suma(a=3,b=30,c=7)"
      ],
      "execution_count": 11,
      "outputs": []
    },
    {
      "cell_type": "markdown",
      "metadata": {
        "id": "tm3TsfSF4MIq"
      },
      "source": [
        "*+apliquemos la definicion del comando return**\n",
        "\n",
        "1 devolvemos parametros"
      ]
    },
    {
      "cell_type": "code",
      "metadata": {
        "colab": {
          "base_uri": "https://localhost:8080/",
          "height": 36
        },
        "id": "W79FuiR64_Ix",
        "outputId": "352f1a1b-f5a0-401e-8bd6-92ff91de8c59"
      },
      "source": [
        "def w(): \n",
        "  return \"HI\"\n",
        "w()"
      ],
      "execution_count": 13,
      "outputs": [
        {
          "output_type": "execute_result",
          "data": {
            "application/vnd.google.colaboratory.intrinsic+json": {
              "type": "string"
            },
            "text/plain": [
              "'HI'"
            ]
          },
          "metadata": {
            "tags": []
          },
          "execution_count": 13
        }
      ]
    },
    {
      "cell_type": "code",
      "metadata": {
        "colab": {
          "base_uri": "https://localhost:8080/"
        },
        "id": "i7FmWtuG5LL6",
        "outputId": "3aeb4a10-f183-4bf1-d731-5a1462639bdc"
      },
      "source": [
        "#devolver varias variables\n",
        "def sd(a,b,c):\n",
        "  q=a+b+c\n",
        "  z=q/3\n",
        "  return q,z\n",
        "q,z = sd(2,4,6)\n",
        "print(q)\n",
        "print(z)"
      ],
      "execution_count": 14,
      "outputs": [
        {
          "output_type": "stream",
          "text": [
            "12\n",
            "4.0\n"
          ],
          "name": "stdout"
        }
      ]
    },
    {
      "cell_type": "markdown",
      "metadata": {
        "id": "atGfqXbQ6Csy"
      },
      "source": [
        "**formas de hacer documentacion en la progracion y por bloques de codigo de linea**"
      ]
    },
    {
      "cell_type": "code",
      "metadata": {
        "colab": {
          "base_uri": "https://localhost:8080/"
        },
        "id": "M95WPGdO6KUK",
        "outputId": "40e98f8f-ad9f-4b20-e219-83232fcb434e"
      },
      "source": [
        "def paula(a,b):\n",
        "  \"\"\"\n",
        "  descripcion de la funcion, los parametros que se va a usar, explicar como se usa y que operaciones devuelve la funcion (docstring)\n",
        "  \"\"\"\n",
        "  return a+b\n",
        "\n",
        "paula(8,3)"
      ],
      "execution_count": 19,
      "outputs": [
        {
          "output_type": "execute_result",
          "data": {
            "text/plain": [
              "11"
            ]
          },
          "metadata": {
            "tags": []
          },
          "execution_count": 19
        }
      ]
    },
    {
      "cell_type": "code",
      "metadata": {
        "colab": {
          "base_uri": "https://localhost:8080/"
        },
        "id": "0Jsgc5Fm64KU",
        "outputId": "12282bbc-04d7-403c-f1f3-a6d351f11861"
      },
      "source": [
        "help(paula.__doc__) #otra forma de llamar el comentario es print del nombre de la funcion \n",
        "                    #seguido de print(punto seguido doble guioon bajo escribir doc doble guion bajo)"
      ],
      "execution_count": 22,
      "outputs": [
        {
          "output_type": "stream",
          "text": [
            "No Python documentation found for 'descripcion de la funcion, los parametros que se va a usar, explicar como se usa y que operaciones devuelve la funcion'.\n",
            "Use help() to get the interactive help utility.\n",
            "Use help(str) for help on the str class.\n",
            "\n"
          ],
          "name": "stdout"
        }
      ]
    },
    {
      "cell_type": "markdown",
      "metadata": {
        "id": "XUYeCEBb8XUM"
      },
      "source": [
        "**direferncias entre valores y referencias**\n",
        "\n",
        "\n",
        "---\n",
        "existen dos conceptos de paso por valor y por referencia, que se aplican a la hora de tratar a los parametros de entrada de una funcion :\n",
        "\n",
        "1. si se usa un parametro que pasa por **valor**, se crea una copia local de la variable, lo cual implica que cualquier modificacion sobre esta no tendra repercusiones sobre la base original\n",
        "\n",
        "2. si la variable pasa como referencia, actuara directamente  sobre la base original.\n",
        "\n"
      ]
    },
    {
      "cell_type": "code",
      "metadata": {
        "colab": {
          "base_uri": "https://localhost:8080/"
        },
        "id": "k_AX6rFI9oZP",
        "outputId": "c8b17d0f-ec83-4151-ee49-bd1ddb998096"
      },
      "source": [
        "#ejemplo de paso por **valor**\n",
        "x=3\n",
        "def funcion(w):\n",
        "  w=0\n",
        "funcion(x)\n",
        "print(x)"
      ],
      "execution_count": 27,
      "outputs": [
        {
          "output_type": "stream",
          "text": [
            "3\n"
          ],
          "name": "stdout"
        }
      ]
    },
    {
      "cell_type": "markdown",
      "metadata": {
        "id": "Ylz9H9yT-gEM"
      },
      "source": [
        "1. inicio con x=3\n",
        "2. se lo pasamos a la funcion()\n",
        "3. dentro de esta funcion hacemos que la variable valga 0\n",
        "4. dado que pasa como valor dentro de la funcion se crea una copia local de x, por lo cual, la variable original no se modifica"
      ]
    },
    {
      "cell_type": "code",
      "metadata": {
        "id": "gey_QYhh_Fjs"
      },
      "source": [
        "#ejemplo de paso por **referencia**\n"
      ],
      "execution_count": null,
      "outputs": []
    }
  ]
}