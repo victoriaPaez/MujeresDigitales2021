{
  "nbformat": 4,
  "nbformat_minor": 0,
  "metadata": {
    "colab": {
      "name": "clase1.ipynb",
      "provenance": [],
      "authorship_tag": "ABX9TyPIvPi3OcLPBhhlmBVFm4p9",
      "include_colab_link": true
    },
    "kernelspec": {
      "name": "python3",
      "display_name": "Python 3"
    },
    "language_info": {
      "name": "python"
    }
  },
  "cells": [
    {
      "cell_type": "markdown",
      "metadata": {
        "id": "view-in-github",
        "colab_type": "text"
      },
      "source": [
        "<a href=\"https://colab.research.google.com/github/victoriaPaez/MujeresDigitales2021/blob/main/clase1.ipynb\" target=\"_parent\"><img src=\"https://colab.research.google.com/assets/colab-badge.svg\" alt=\"Open In Colab\"/></a>"
      ]
    },
    {
      "cell_type": "code",
      "metadata": {
        "id": "iuB4wJLNoLKt"
      },
      "source": [
        ""
      ],
      "execution_count": null,
      "outputs": []
    },
    {
      "cell_type": "markdown",
      "metadata": {
        "id": "rI9tOwkxoLly"
      },
      "source": [
        ""
      ]
    },
    {
      "cell_type": "markdown",
      "metadata": {
        "id": "DUR9Dpu1oPGp"
      },
      "source": [
        "**Introduccion**\n",
        "\n",
        "---\n",
        "para manejar un codigo limpio en python debemos eguir las siguientes recomendaciones:\n",
        "1. manejar minusculas\n",
        "2. se puede añadir numeros\n",
        "3. aparece error si no estan seguidasla declaracion de la variable con el numero asignado, es decir **Ejemplo**\n",
        "- ana1 = correcto\n",
        "- ana 1= incorrecto\n",
        "\n",
        "---\n",
        "\n",
        "En Python hay varios tipos de datos conpuestos y que estan disponibles por defecto en los interprtes\n",
        "**de que tipos**\n",
        "- numericos\n",
        "- secuencias\n",
        "- Mapeo\n",
        "- Conjuntos usados para agrupar otros valores\n",
        "\n",
        "***Direfencia ente constante y variable***: \n",
        "**constante** es una constante que no cambia con el paso del tiempo\n",
        "**variable:** es suceptible a tomar distintos valores numericos **Ejemplo**\n"
      ]
    },
    {
      "cell_type": "code",
      "metadata": {
        "colab": {
          "base_uri": "https://localhost:8080/"
        },
        "id": "NSp9yn-crOYH",
        "outputId": "3c056dea-26d6-4655-8b06-e5e0c76a8245"
      },
      "source": [
        "x=89\n",
        "print(x)"
      ],
      "execution_count": 2,
      "outputs": [
        {
          "output_type": "stream",
          "text": [
            "89\n"
          ],
          "name": "stdout"
        }
      ]
    },
    {
      "cell_type": "markdown",
      "metadata": {
        "id": "OG20hfyarYn2"
      },
      "source": [
        "**tipos de datos**\n",
        "\n",
        "---\n",
        "\n",
        "\n",
        "\n",
        "enteros: numeros que no tiene decimales (pueden ser positivos y negativos)"
      ]
    },
    {
      "cell_type": "code",
      "metadata": {
        "colab": {
          "base_uri": "https://localhost:8080/"
        },
        "id": "HKubBrHAr5SR",
        "outputId": "41451abb-5914-4072-e89e-528f9e8ca285"
      },
      "source": [
        "a=int(3.089)\n",
        "print(a)"
      ],
      "execution_count": 3,
      "outputs": [
        {
          "output_type": "stream",
          "text": [
            "3\n"
          ],
          "name": "stdout"
        }
      ]
    },
    {
      "cell_type": "markdown",
      "metadata": {
        "id": "iQiqqUENscyF"
      },
      "source": [
        "comando int es para hacer alusion a numeros enteros a parte el comando float permite valores con decimales\n"
      ]
    },
    {
      "cell_type": "code",
      "metadata": {
        "colab": {
          "base_uri": "https://localhost:8080/"
        },
        "id": "FQQVLR1-stOq",
        "outputId": "e596f1c9-66d1-4a83-9ec3-79adb5896bf4"
      },
      "source": [
        "b=float(8.45)\n",
        "print(b)"
      ],
      "execution_count": 6,
      "outputs": [
        {
          "output_type": "stream",
          "text": [
            "8.45\n"
          ],
          "name": "stdout"
        }
      ]
    },
    {
      "cell_type": "markdown",
      "metadata": {
        "id": "xqRsoqKAs6uG"
      },
      "source": [
        "**tipo cadena**\n",
        "\n",
        "---\n",
        "\n",
        "las cadenas de texto encerrado entre \"\" o '' y se pueden conformar de diferentes caracteres puden ser;\n",
        "- numericos\n",
        "- alfabeticos\n",
        "- especiales\n",
        "\n",
        "estas cadenas admiten operadores como las uma y la resta  (variable string)\n"
      ]
    },
    {
      "cell_type": "code",
      "metadata": {
        "colab": {
          "base_uri": "https://localhost:8080/"
        },
        "id": "jUKgKPmKtfE4",
        "outputId": "bae42595-b058-4aa4-e708-96b0f8ceecd2"
      },
      "source": [
        "val1=\"Andrea\"\n",
        "val2= \"Hola Mundo\"\n",
        "print(val1 +\" \"+ val2)"
      ],
      "execution_count": 14,
      "outputs": [
        {
          "output_type": "stream",
          "text": [
            "Andrea Hola Mundo\n"
          ],
          "name": "stdout"
        }
      ]
    },
    {
      "cell_type": "code",
      "metadata": {
        "colab": {
          "base_uri": "https://localhost:8080/"
        },
        "id": "HDOYIoPct-DG",
        "outputId": "01209b01-9378-4711-abe3-fce5244fdb13"
      },
      "source": [
        "n=\"Aprender\"\n",
        "z = 'Phyton'\n",
        "nz = n + \" \" + z #no es codigo limpio se debe hacer el codigo mas simple posible\n",
        "print(nz)\n",
        "print(n,z)"
      ],
      "execution_count": 19,
      "outputs": [
        {
          "output_type": "stream",
          "text": [
            "Aprender Phyton\n",
            "Aprender Phyton\n"
          ],
          "name": "stdout"
        }
      ]
    },
    {
      "cell_type": "markdown",
      "metadata": {
        "id": "Hj5JqosxyEQ9"
      },
      "source": [
        "**Tipo Boleano**\n",
        "este tipo de variable solo tendra el valor de verdadero o falso\n",
        "**nota:** son valores usados en condiciones y bucles\n"
      ]
    },
    {
      "cell_type": "code",
      "metadata": {
        "colab": {
          "base_uri": "https://localhost:8080/"
        },
        "id": "jJbPe3BKycca",
        "outputId": "551ea1a3-11c7-47ee-ed0e-7b692cd18a61"
      },
      "source": [
        "lola=True\n",
        "print(\"el valor es verdadero\", lola, \"el cual es de tipo: \", type(lola))\n"
      ],
      "execution_count": 24,
      "outputs": [
        {
          "output_type": "stream",
          "text": [
            "el valor es verdadero True el cual es de tipo:  <class 'bool'>\n"
          ],
          "name": "stdout"
        }
      ]
    },
    {
      "cell_type": "markdown",
      "metadata": {
        "id": "tm2pM8yWzRRS"
      },
      "source": [
        "Python cuenta con tipos de datos que admiten colecciones (ejemplos listas, duplas, diccionarios)\n",
        "\n",
        "**tipo de conjuntos**\n",
        "son una coleccion de datos sin elementos que se repiten"
      ]
    },
    {
      "cell_type": "code",
      "metadata": {
        "colab": {
          "base_uri": "https://localhost:8080/"
        },
        "id": "wd2OR0h40Eho",
        "outputId": "6629c81c-1163-44d2-cf72-df6726736976"
      },
      "source": [
        "fru=\"pera\", \"manzana\",\"naranja\"\n",
        "colores =\"morado\",\"Blanco\",\"azul\"\n",
        "print(fru,colores)"
      ],
      "execution_count": 26,
      "outputs": [
        {
          "output_type": "stream",
          "text": [
            "('pera', 'manzana', 'naranja') ('morado', 'Blanco', 'azul')\n"
          ],
          "name": "stdout"
        }
      ]
    },
    {
      "cell_type": "markdown",
      "metadata": {
        "id": "J9qlqrXV0iSR"
      },
      "source": [
        "**tipo listas**\n",
        "\n",
        "---\n",
        "Son listas las que almacenasn vectores.\n",
        "ejemplo:\n",
        "\n"
      ]
    },
    {
      "cell_type": "code",
      "metadata": {
        "colab": {
          "base_uri": "https://localhost:8080/"
        },
        "id": "ZOEYReBB03od",
        "outputId": "352ff68c-310f-4edc-fbc7-ba6c7e4fbbd0"
      },
      "source": [
        "ines=[\"5\",\"uva\",\"lila\",\"perro\",\"casa\"]\n",
        "fe=ines[0:3:2]#[ posiicion donde inicia: hasta donde va a llegar se comienza a contar desde 1: la posicionque va a contar]\n",
        "print(ines)\n",
        "print(fe)"
      ],
      "execution_count": 39,
      "outputs": [
        {
          "output_type": "stream",
          "text": [
            "['5', 'uva', 'lila', 'perro', 'casa']\n",
            "['5', 'lila']\n"
          ],
          "name": "stdout"
        }
      ]
    },
    {
      "cell_type": "markdown",
      "metadata": {
        "id": "SNzd-IQI4BeY"
      },
      "source": [
        "**tipo tuplas**\n",
        "\n",
        "---\n",
        "es una lista que no se puede modificar despues de la creacion de esta:\n",
        "Tuplas anidadas: Agrupacion(tuplas)\n",
        "\n"
      ]
    },
    {
      "cell_type": "code",
      "metadata": {
        "colab": {
          "base_uri": "https://localhost:8080/"
        },
        "id": "uUOhtl_H4lg7",
        "outputId": "17f506bf-225d-4e47-c2ea-16d8c543c0a2"
      },
      "source": [
        "tupla=23,28,\"hola\"\n",
        "print(tupla)\n",
        "otra=tupla,(1,2,3,4)\n",
        "print(otra)"
      ],
      "execution_count": 42,
      "outputs": [
        {
          "output_type": "stream",
          "text": [
            "(23, 28, 'hola')\n",
            "((23, 28, 'hola'), (1, 2, 3, 4))\n"
          ],
          "name": "stdout"
        }
      ]
    },
    {
      "cell_type": "markdown",
      "metadata": {
        "id": "bak68aSl5473"
      },
      "source": [
        "**Diccionarios**\n",
        "\n",
        "---\n",
        "define los datos uno a uno entre un campo (ID -Identificador clave) y un valor\n",
        "\n"
      ]
    },
    {
      "cell_type": "code",
      "metadata": {
        "colab": {
          "base_uri": "https://localhost:8080/"
        },
        "id": "nIB-JpsK6xeR",
        "outputId": "cc7404f1-bb41-4c3e-8e95-58e5a6ea9288"
      },
      "source": [
        "datos_b={ #agrupacion intena\n",
        "    \"nombres\":\"Diana\",\n",
        "    \"Apellido\":\"Perea\",\n",
        "    \"Cedula\":\"2345671\",\n",
        "    \"Estado_Civil\":\"Casada\",\n",
        "    \"Lugar_nacimiento\":\"Pitalito\",\n",
        "    \"Fecha_Nacimiento\":\"24/12/1980\",\n",
        "}\n",
        "\n",
        "print(datos_b.keys())\n",
        "print(datos_b.values())\n",
        "print(datos_b.items())\n",
        "\n",
        "print(\"cedula de ciudadnia: \", datos_b['Cedula'])"
      ],
      "execution_count": 62,
      "outputs": [
        {
          "output_type": "stream",
          "text": [
            "dict_keys(['nombres', 'Apellido', 'Cedula', 'Estado_Civil', 'Lugar_nacimiento', 'Fecha_Nacimiento'])\n",
            "dict_values(['Diana', 'Perea', '2345671', 'Casada', 'Pitalito', '24/12/1980'])\n",
            "dict_items([('nombres', 'Diana'), ('Apellido', 'Perea'), ('Cedula', '2345671'), ('Estado_Civil', 'Casada'), ('Lugar_nacimiento', 'Pitalito'), ('Fecha_Nacimiento', '24/12/1980')])\n",
            "cedula de ciudadnia:  2345671\n"
          ],
          "name": "stdout"
        }
      ]
    },
    {
      "cell_type": "markdown",
      "metadata": {
        "id": "9w6Qwict8m5u"
      },
      "source": [
        "**Ejemplo practivo (caracteristicas de los carros)**\n",
        "\n",
        "---\n",
        "\n"
      ]
    },
    {
      "cell_type": "code",
      "metadata": {
        "colab": {
          "base_uri": "https://localhost:8080/"
        },
        "id": "UaOT7uTj8tF6",
        "outputId": "e684e397-af04-4229-9e78-ac2ecedd15bf"
      },
      "source": [
        "carros_0={}#se crea el espacio\n",
        "carros_0['tam']=\"grande\",#se añaden los campos y valores\n",
        "carros_0['color']=\"negro\",\n",
        "carros_0['marca']=\"renault\",\n",
        "carros_0['precio']=60\n",
        "\n",
        "\n",
        "carros_1={}#se crea el espacio\n",
        "carros_1['tam']=\"pequeño\",#se añaden los campos y valores\n",
        "carros_1['color']=\"blanco\",\n",
        "carros_1['marca']=\"renault\",\n",
        "carros_1['precio']=37\n",
        "print(carros_0)\n",
        "print(carros_1)\n",
        "\n",
        "compra0=carros_0['precio'] \n",
        "compra1=carros_1['precio']\n",
        "compratotal=compra0+compra1\n",
        "\n",
        "print(\"la compra total fue de: \"+ str(compratotal) )"
      ],
      "execution_count": 60,
      "outputs": [
        {
          "output_type": "stream",
          "text": [
            "{'tam': ('grande',), 'color': ('negro',), 'marca': ('renault',), 'precio': 60}\n",
            "{'tam': ('pequeño',), 'color': ('blanco',), 'marca': ('renault',), 'precio': 37}\n",
            "la compra total fue de: 97\n"
          ],
          "name": "stdout"
        }
      ]
    }
  ]
}