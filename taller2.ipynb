{
  "nbformat": 4,
  "nbformat_minor": 0,
  "metadata": {
    "colab": {
      "name": "taller2.ipynb",
      "provenance": [],
      "authorship_tag": "ABX9TyOh24DUviGsmedQVte+NVv5",
      "include_colab_link": true
    },
    "kernelspec": {
      "name": "python3",
      "display_name": "Python 3"
    },
    "language_info": {
      "name": "python"
    }
  },
  "cells": [
    {
      "cell_type": "markdown",
      "metadata": {
        "id": "view-in-github",
        "colab_type": "text"
      },
      "source": [
        "<a href=\"https://colab.research.google.com/github/victoriaPaez/MujeresDigitales2021/blob/main/taller2.ipynb\" target=\"_parent\"><img src=\"https://colab.research.google.com/assets/colab-badge.svg\" alt=\"Open In Colab\"/></a>"
      ]
    },
    {
      "cell_type": "code",
      "metadata": {
        "colab": {
          "base_uri": "https://localhost:8080/"
        },
        "id": "unmR6redldL3",
        "outputId": "d0babce2-5fc3-4824-8f57-009856bf691a"
      },
      "source": [
        "def vendedores():\n",
        "  vendedor=[]\n",
        "\n",
        "  cantVendedor=int(input(\"ingresa el total del vendedores:  \"))\n",
        "  for x in range (cantVendedor):\n",
        "    nombre=input(\"ingresa nombre del vendedor:  \")\n",
        "    cant=int(input(\"ingresa la puntuacion obtenida el rango debe ser de 1 a 10: \"))\n",
        "    vendedor.append((nombre,cant))\n",
        "    resultado =sorted(vendedor, key=lambda p:(p[0]))\n",
        "  return resultado\n",
        "\n",
        "def vmayor_rendimiento(vendedor):\n",
        "    mayor=0\n",
        "    for x in range(1,len(vendedor)):\n",
        "      a=vendedor[x][1]\n",
        "      if a>mayor:\n",
        "        mayor=a\n",
        "    print(\"\\n\")\n",
        "    resultados=sorted(vendedor, key=lambda p:int(p[1]),reverse=True)\n",
        "    print(\"y los datos correspondientes al vendedor con mejor rendimiento son: \",resultados[0],\"\\n\")\n",
        "\n",
        "\n",
        "def vmenor_rendimiento(vendedor):\n",
        "  menor=9\n",
        "  for x in range(1,len(vendedor)):\n",
        "    a=vendedor[x][1]\n",
        "    if a<menor:\n",
        "      menor=a\n",
        "  resultados=sorted(vendedor, key=lambda p:int(p[1]))\n",
        "  print(\"y los datos correspondientes el vendedor con menor rendimiento son: \",resultados[0],\"\\n\")\n",
        "\n",
        "\n",
        "def prom(vendedor):\n",
        "  acum=0\n",
        "  for x in range(len(vendedor)):\n",
        "    a=vendedor[x][1]\n",
        "    acum=acum + a\n",
        "  print(\"el promedio general del nivel de cumplimiento del area de ventas: \", acum/len(vendedor),\"\\n\")\n",
        "\n",
        "\n",
        "def iguales(vendedor):\n",
        "  repetidos=[]\n",
        "  archivo=[]\n",
        "  for n in vendedor:\n",
        "    if n not in archivo:\n",
        "      archivo.append(n)\n",
        "    else:\n",
        "      repetidos.append(n)\n",
        "  print(\"el empate se presento en: \",repetidos)\n",
        "\n",
        "\n",
        "total=vendedores()\n",
        "vmayor_rendimiento(total)\n",
        "vmenor_rendimiento(total)\n",
        "prom(total)\n",
        "iguales(total)"
      ],
      "execution_count": 2,
      "outputs": [
        {
          "output_type": "stream",
          "text": [
            "ingresa el total del vendedores:  4\n",
            "ingresa nombre del vendedor:  angel\n",
            "ingresa la puntuacion obtenida el rango debe ser de 1 a 10: 5\n",
            "ingresa nombre del vendedor:  pedro\n",
            "ingresa la puntuacion obtenida el rango debe ser de 1 a 10: 9\n",
            "ingresa nombre del vendedor:  rosario\n",
            "ingresa la puntuacion obtenida el rango debe ser de 1 a 10: 4\n",
            "ingresa nombre del vendedor:  mariana\n",
            "ingresa la puntuacion obtenida el rango debe ser de 1 a 10: 7\n",
            "\n",
            "\n",
            "y los datos correspondientes al vendedor con mejor rendimiento son:  ('pedro', 9) \n",
            "\n",
            "y los datos correspondientes el vendedor con menor rendimiento son:  ('rosario', 4) \n",
            "\n",
            "el promedio general del nivel de cumplimiento del area de ventas:  6.25 \n",
            "\n",
            "el empate se presento en:  []\n"
          ],
          "name": "stdout"
        }
      ]
    }
  ]
}