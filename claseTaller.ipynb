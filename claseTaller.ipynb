{
  "nbformat": 4,
  "nbformat_minor": 0,
  "metadata": {
    "colab": {
      "name": "claseTaller.ipynb",
      "provenance": [],
      "collapsed_sections": [],
      "authorship_tag": "ABX9TyMocMarZgmM2BZ8aUuDce1V",
      "include_colab_link": true
    },
    "kernelspec": {
      "name": "python3",
      "display_name": "Python 3"
    },
    "language_info": {
      "name": "python"
    }
  },
  "cells": [
    {
      "cell_type": "markdown",
      "metadata": {
        "id": "view-in-github",
        "colab_type": "text"
      },
      "source": [
        "<a href=\"https://colab.research.google.com/github/victoriaPaez/MujeresDigitales2021/blob/main/claseTaller.ipynb\" target=\"_parent\"><img src=\"https://colab.research.google.com/assets/colab-badge.svg\" alt=\"Open In Colab\"/></a>"
      ]
    },
    {
      "cell_type": "markdown",
      "metadata": {
        "id": "ZKeOEVwd8L9D"
      },
      "source": [
        "**recordatorio**\n",
        "\n",
        "\n",
        "---\n",
        "\n"
      ]
    },
    {
      "cell_type": "code",
      "metadata": {
        "colab": {
          "base_uri": "https://localhost:8080/",
          "height": 243
        },
        "id": "L_mR6D9H2NUV",
        "outputId": "1790635b-ecb7-46cd-95ca-da83b83300d3"
      },
      "source": [
        "Lcompras=list()\n",
        "articulo=articulo =input(\"¿que productos se va a comprar?\")\n",
        "while (articulo!=\"\"):\n",
        "  Lcompras.append(articulo)\n",
        "print(Lcompras)"
      ],
      "execution_count": null,
      "outputs": [
        {
          "output_type": "stream",
          "text": [
            "¿que productos se va a comprar?PERA\n"
          ],
          "name": "stdout"
        },
        {
          "output_type": "error",
          "ename": "KeyboardInterrupt",
          "evalue": "ignored",
          "traceback": [
            "\u001b[0;31m---------------------------------------------------------------------------\u001b[0m",
            "\u001b[0;31mKeyboardInterrupt\u001b[0m                         Traceback (most recent call last)",
            "\u001b[0;32m<ipython-input-8-546e792861e2>\u001b[0m in \u001b[0;36m<module>\u001b[0;34m()\u001b[0m\n\u001b[1;32m      2\u001b[0m \u001b[0marticulo\u001b[0m\u001b[0;34m=\u001b[0m\u001b[0marticulo\u001b[0m \u001b[0;34m=\u001b[0m\u001b[0minput\u001b[0m\u001b[0;34m(\u001b[0m\u001b[0;34m\"¿que productos se va a comprar?\"\u001b[0m\u001b[0;34m)\u001b[0m\u001b[0;34m\u001b[0m\u001b[0;34m\u001b[0m\u001b[0m\n\u001b[1;32m      3\u001b[0m \u001b[0;32mwhile\u001b[0m \u001b[0;34m(\u001b[0m\u001b[0marticulo\u001b[0m\u001b[0;34m!=\u001b[0m\u001b[0;34m\"\"\u001b[0m\u001b[0;34m)\u001b[0m\u001b[0;34m:\u001b[0m\u001b[0;34m\u001b[0m\u001b[0;34m\u001b[0m\u001b[0m\n\u001b[0;32m----> 4\u001b[0;31m   \u001b[0mLcompras\u001b[0m\u001b[0;34m.\u001b[0m\u001b[0mappend\u001b[0m\u001b[0;34m(\u001b[0m\u001b[0marticulo\u001b[0m\u001b[0;34m)\u001b[0m\u001b[0;34m\u001b[0m\u001b[0;34m\u001b[0m\u001b[0m\n\u001b[0m\u001b[1;32m      5\u001b[0m \u001b[0mprint\u001b[0m\u001b[0;34m(\u001b[0m\u001b[0mLcompras\u001b[0m\u001b[0;34m)\u001b[0m\u001b[0;34m\u001b[0m\u001b[0;34m\u001b[0m\u001b[0m\n",
            "\u001b[0;31mKeyboardInterrupt\u001b[0m: "
          ]
        }
      ]
    },
    {
      "cell_type": "code",
      "metadata": {
        "colab": {
          "base_uri": "https://localhost:8080/",
          "height": 442
        },
        "id": "x3ct1BTaA2Mb",
        "outputId": "51ca880e-5e67-491d-8dd5-c8323208145c"
      },
      "source": [
        "def poblacion():\n",
        "  pais=[]\n",
        "  for x in range (2):\n",
        "    nombre=input(\"ingresa nombre del pais\")\n",
        "    cant=int(input(\"cantidad de habitantes\"))\n",
        "    pais.append((nombre,cant))\n",
        "  return pais\n",
        "\n",
        "def view(pais):\n",
        "  print (\"habitantes por pais:\")\n",
        "  for x in range(len(pais)):\n",
        "    print(pais[x][1])\n",
        "    \n",
        "    i=1\n",
        "\n",
        "def mayor(pais):\n",
        "  p=0\n",
        "  for x in range(1,len(pais)):\n",
        "    if (pais[x][0]>[p][1]):\n",
        "      pos=x\n",
        "  print(\"el pais con la mas alta poblacion registrada es: \",pais[p][0])\n",
        "\n",
        "\n",
        "pais=poblacion()\n",
        "view(pais)\n",
        "mayor(pais)"
      ],
      "execution_count": 49,
      "outputs": [
        {
          "output_type": "stream",
          "text": [
            "ingresa nombre del paisc\n",
            "cantidad de habitantes6\n",
            "ingresa nombre del paisr\n",
            "cantidad de habitantes76\n",
            "habitantes por pais:\n",
            "6\n",
            "76\n"
          ],
          "name": "stdout"
        },
        {
          "output_type": "error",
          "ename": "IndexError",
          "evalue": "ignored",
          "traceback": [
            "\u001b[0;31m---------------------------------------------------------------------------\u001b[0m",
            "\u001b[0;31mIndexError\u001b[0m                                Traceback (most recent call last)",
            "\u001b[0;32m<ipython-input-49-b89d4533b623>\u001b[0m in \u001b[0;36m<module>\u001b[0;34m()\u001b[0m\n\u001b[1;32m     24\u001b[0m \u001b[0mpais\u001b[0m\u001b[0;34m=\u001b[0m\u001b[0mpoblacion\u001b[0m\u001b[0;34m(\u001b[0m\u001b[0;34m)\u001b[0m\u001b[0;34m\u001b[0m\u001b[0;34m\u001b[0m\u001b[0m\n\u001b[1;32m     25\u001b[0m \u001b[0mview\u001b[0m\u001b[0;34m(\u001b[0m\u001b[0mpais\u001b[0m\u001b[0;34m)\u001b[0m\u001b[0;34m\u001b[0m\u001b[0;34m\u001b[0m\u001b[0m\n\u001b[0;32m---> 26\u001b[0;31m \u001b[0mmayor\u001b[0m\u001b[0;34m(\u001b[0m\u001b[0mpais\u001b[0m\u001b[0;34m)\u001b[0m\u001b[0;34m\u001b[0m\u001b[0;34m\u001b[0m\u001b[0m\n\u001b[0m",
            "\u001b[0;32m<ipython-input-49-b89d4533b623>\u001b[0m in \u001b[0;36mmayor\u001b[0;34m(pais)\u001b[0m\n\u001b[1;32m     17\u001b[0m   \u001b[0mp\u001b[0m\u001b[0;34m=\u001b[0m\u001b[0;36m0\u001b[0m\u001b[0;34m\u001b[0m\u001b[0;34m\u001b[0m\u001b[0m\n\u001b[1;32m     18\u001b[0m   \u001b[0;32mfor\u001b[0m \u001b[0mx\u001b[0m \u001b[0;32min\u001b[0m \u001b[0mrange\u001b[0m\u001b[0;34m(\u001b[0m\u001b[0;36m1\u001b[0m\u001b[0;34m,\u001b[0m\u001b[0mlen\u001b[0m\u001b[0;34m(\u001b[0m\u001b[0mpais\u001b[0m\u001b[0;34m)\u001b[0m\u001b[0;34m)\u001b[0m\u001b[0;34m:\u001b[0m\u001b[0;34m\u001b[0m\u001b[0;34m\u001b[0m\u001b[0m\n\u001b[0;32m---> 19\u001b[0;31m     \u001b[0;32mif\u001b[0m \u001b[0;34m(\u001b[0m\u001b[0mpais\u001b[0m\u001b[0;34m[\u001b[0m\u001b[0mx\u001b[0m\u001b[0;34m]\u001b[0m\u001b[0;34m[\u001b[0m\u001b[0;36m0\u001b[0m\u001b[0;34m]\u001b[0m\u001b[0;34m>\u001b[0m\u001b[0;34m[\u001b[0m\u001b[0mp\u001b[0m\u001b[0;34m]\u001b[0m\u001b[0;34m[\u001b[0m\u001b[0;36m1\u001b[0m\u001b[0;34m]\u001b[0m\u001b[0;34m)\u001b[0m\u001b[0;34m:\u001b[0m\u001b[0;34m\u001b[0m\u001b[0;34m\u001b[0m\u001b[0m\n\u001b[0m\u001b[1;32m     20\u001b[0m       \u001b[0mpos\u001b[0m\u001b[0;34m=\u001b[0m\u001b[0mx\u001b[0m\u001b[0;34m\u001b[0m\u001b[0;34m\u001b[0m\u001b[0m\n\u001b[1;32m     21\u001b[0m   \u001b[0mprint\u001b[0m\u001b[0;34m(\u001b[0m\u001b[0;34m\"el pais con la mas alta poblacion registrada es: \"\u001b[0m\u001b[0;34m,\u001b[0m\u001b[0mpais\u001b[0m\u001b[0;34m[\u001b[0m\u001b[0mp\u001b[0m\u001b[0;34m]\u001b[0m\u001b[0;34m[\u001b[0m\u001b[0;36m0\u001b[0m\u001b[0;34m]\u001b[0m\u001b[0;34m)\u001b[0m\u001b[0;34m\u001b[0m\u001b[0;34m\u001b[0m\u001b[0m\n",
            "\u001b[0;31mIndexError\u001b[0m: list index out of range"
          ]
        }
      ]
    },
    {
      "cell_type": "markdown",
      "metadata": {
        "id": "GhTBQ-LIFCwS"
      },
      "source": [
        "se solicita realizar un programa que permita identificar el nivel de cumplimiento del area de ventas de la empresa AVA. entre los principales requerimientos se encuentran los siguientes\n",
        "\n",
        "**1. permite ingresar la cantidad de vendedores del area de ventas**\n",
        "**2. permita ingresar la puntuacion para cada uno de ellos (escala de 1 a 10)**\n",
        "3. el programa debe permitiridentificar el vendedor con peor rendimiento y mejor rendimiento\n",
        "4. obtener tambien el promedio general del nivel de cumplimiento del area de ventas Nota: si hay empate en la puntuacion para definir el primer y ultimo puesto, se define en orden alfabetico"
      ]
    },
    {
      "cell_type": "code",
      "metadata": {
        "colab": {
          "base_uri": "https://localhost:8080/"
        },
        "id": "a6OYYH4kHXgE",
        "outputId": "ec76bee8-7744-4dc8-f19b-68402c97da7b"
      },
      "source": [
        "def vendedores():\n",
        "  vendedor=[]\n",
        "  cantVendedor=int(input(\"ingresa el total del vendedores:  \"))\n",
        "  for x in range (cantVendedor):\n",
        "    nombre=input(\"ingresa nombre del vendedor:  \")\n",
        "    cant=int(input(\"ingresa la puntuacion obtenida: \"))\n",
        "    vendedor.append((nombre,cant))\n",
        "  return vendedor\n",
        "\n",
        "\n",
        "def view(vendedor):\n",
        "  print(\"nombre--- puntuacion\")\n",
        "  mayor=0\n",
        "  for x in range(len(vendedor)):\n",
        "    #print(vendedor[x][0],\"       \",vendedor[x][1],\"\\n\")\n",
        "    a=vendedor[x][1]\n",
        "    print(a)\n",
        "    if a>mayor:\n",
        "        mayor=a\n",
        "  print(\"el numero mayor es:\",mayor)\n",
        "  print(vendedor[x][0],\"       \",mayor,\"\\n\")\n",
        "\n",
        "\n",
        "total=vendedores()\n",
        "view(total)\n",
        "mayor(total)"
      ],
      "execution_count": 92,
      "outputs": [
        {
          "output_type": "stream",
          "text": [
            "ingresa el total del vendedores:  3\n",
            "ingresa nombre del vendedor:  t\n",
            "ingresa la puntuacion obtenida: 54\n",
            "ingresa nombre del vendedor:  r\n",
            "ingresa la puntuacion obtenida: 43\n",
            "ingresa nombre del vendedor:  z\n",
            "ingresa la puntuacion obtenida: 78\n",
            "nombre--- puntuacion\n",
            "54\n",
            "43\n",
            "78\n",
            "el numero mayor es: 78\n",
            "z         78 \n",
            "\n"
          ],
          "name": "stdout"
        }
      ]
    },
    {
      "cell_type": "code",
      "metadata": {
        "colab": {
          "base_uri": "https://localhost:8080/"
        },
        "id": "2-D5Qb4eKopW",
        "outputId": "0f295e42-a803-4d7b-834b-2f74d3f9ea08"
      },
      "source": [
        "n = int(input(\"n= \"))\n",
        "\n",
        "def int_to_list(n):\n",
        "    l = []\n",
        "    while n != 0:\n",
        "        l = [n % 10] + l\n",
        "        n = n // 10\n",
        "    return l\n",
        "\n",
        "print(n)"
      ],
      "execution_count": 64,
      "outputs": [
        {
          "output_type": "stream",
          "text": [
            "n= 5\n",
            "5\n"
          ],
          "name": "stdout"
        }
      ]
    }
  ]
}