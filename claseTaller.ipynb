{
  "nbformat": 4,
  "nbformat_minor": 0,
  "metadata": {
    "colab": {
      "name": "claseTaller.ipynb",
      "provenance": [],
      "collapsed_sections": [],
      "authorship_tag": "ABX9TyMV9xKKtpQqRSpY662PVkVq",
      "include_colab_link": true
    },
    "kernelspec": {
      "name": "python3",
      "display_name": "Python 3"
    },
    "language_info": {
      "name": "python"
    }
  },
  "cells": [
    {
      "cell_type": "markdown",
      "metadata": {
        "id": "view-in-github",
        "colab_type": "text"
      },
      "source": [
        "<a href=\"https://colab.research.google.com/github/victoriaPaez/MujeresDigitales2021/blob/main/claseTaller.ipynb\" target=\"_parent\"><img src=\"https://colab.research.google.com/assets/colab-badge.svg\" alt=\"Open In Colab\"/></a>"
      ]
    },
    {
      "cell_type": "markdown",
      "metadata": {
        "id": "ZKeOEVwd8L9D"
      },
      "source": [
        "**recordatorio**\n",
        "\n",
        "\n",
        "---\n",
        "\n"
      ]
    },
    {
      "cell_type": "code",
      "metadata": {
        "colab": {
          "base_uri": "https://localhost:8080/",
          "height": 243
        },
        "id": "L_mR6D9H2NUV",
        "outputId": "1790635b-ecb7-46cd-95ca-da83b83300d3"
      },
      "source": [
        "Lcompras=list()\n",
        "articulo=articulo =input(\"¿que productos se va a comprar?\")\n",
        "while (articulo!=\"\"):\n",
        "  Lcompras.append(articulo)\n",
        "print(Lcompras)"
      ],
      "execution_count": null,
      "outputs": [
        {
          "output_type": "stream",
          "text": [
            "¿que productos se va a comprar?PERA\n"
          ],
          "name": "stdout"
        },
        {
          "output_type": "error",
          "ename": "KeyboardInterrupt",
          "evalue": "ignored",
          "traceback": [
            "\u001b[0;31m---------------------------------------------------------------------------\u001b[0m",
            "\u001b[0;31mKeyboardInterrupt\u001b[0m                         Traceback (most recent call last)",
            "\u001b[0;32m<ipython-input-8-546e792861e2>\u001b[0m in \u001b[0;36m<module>\u001b[0;34m()\u001b[0m\n\u001b[1;32m      2\u001b[0m \u001b[0marticulo\u001b[0m\u001b[0;34m=\u001b[0m\u001b[0marticulo\u001b[0m \u001b[0;34m=\u001b[0m\u001b[0minput\u001b[0m\u001b[0;34m(\u001b[0m\u001b[0;34m\"¿que productos se va a comprar?\"\u001b[0m\u001b[0;34m)\u001b[0m\u001b[0;34m\u001b[0m\u001b[0;34m\u001b[0m\u001b[0m\n\u001b[1;32m      3\u001b[0m \u001b[0;32mwhile\u001b[0m \u001b[0;34m(\u001b[0m\u001b[0marticulo\u001b[0m\u001b[0;34m!=\u001b[0m\u001b[0;34m\"\"\u001b[0m\u001b[0;34m)\u001b[0m\u001b[0;34m:\u001b[0m\u001b[0;34m\u001b[0m\u001b[0;34m\u001b[0m\u001b[0m\n\u001b[0;32m----> 4\u001b[0;31m   \u001b[0mLcompras\u001b[0m\u001b[0;34m.\u001b[0m\u001b[0mappend\u001b[0m\u001b[0;34m(\u001b[0m\u001b[0marticulo\u001b[0m\u001b[0;34m)\u001b[0m\u001b[0;34m\u001b[0m\u001b[0;34m\u001b[0m\u001b[0m\n\u001b[0m\u001b[1;32m      5\u001b[0m \u001b[0mprint\u001b[0m\u001b[0;34m(\u001b[0m\u001b[0mLcompras\u001b[0m\u001b[0;34m)\u001b[0m\u001b[0;34m\u001b[0m\u001b[0;34m\u001b[0m\u001b[0m\n",
            "\u001b[0;31mKeyboardInterrupt\u001b[0m: "
          ]
        }
      ]
    },
    {
      "cell_type": "code",
      "metadata": {
        "colab": {
          "base_uri": "https://localhost:8080/",
          "height": 442
        },
        "id": "x3ct1BTaA2Mb",
        "outputId": "506520ff-a28f-437b-f4a1-4973b44e9330"
      },
      "source": [
        "def poblacion():\n",
        "  pais=[]\n",
        "  for x in range (2):\n",
        "    nombre=input(\"ingresa nombre del pais\")\n",
        "    cant=int(input(\"cantidad de habitantes\"))\n",
        "    pais.append((nombre,cant))\n",
        "  return pais\n",
        "\n",
        "def view(pais):\n",
        "  print (\"habitantes por pais:\")\n",
        "  for x in range(len(pais)):\n",
        "    print(pais[x][1])\n",
        "    \n",
        "    i=1\n",
        "\n",
        "def mayor(pais):\n",
        "  p=0\n",
        "  for x in range(1,len(pais)):\n",
        "    if pais[x][0]>[p][1]:\n",
        "      pos=x\n",
        "  print(\"el pais con la mas alta poblacion registrada es: \",pais[pos][0])\n",
        "\n",
        "\n",
        "pais=poblacion()\n",
        "view(pais)\n",
        "mayor(pais)"
      ],
      "execution_count": 152,
      "outputs": [
        {
          "output_type": "stream",
          "text": [
            "ingresa nombre del paiscuba\n",
            "cantidad de habitantes4\n",
            "ingresa nombre del paiscolombia\n",
            "cantidad de habitantes2\n",
            "habitantes por pais:\n",
            "4\n",
            "2\n"
          ],
          "name": "stdout"
        },
        {
          "output_type": "error",
          "ename": "IndexError",
          "evalue": "ignored",
          "traceback": [
            "\u001b[0;31m---------------------------------------------------------------------------\u001b[0m",
            "\u001b[0;31mIndexError\u001b[0m                                Traceback (most recent call last)",
            "\u001b[0;32m<ipython-input-152-3156998be382>\u001b[0m in \u001b[0;36m<module>\u001b[0;34m()\u001b[0m\n\u001b[1;32m     24\u001b[0m \u001b[0mpais\u001b[0m\u001b[0;34m=\u001b[0m\u001b[0mpoblacion\u001b[0m\u001b[0;34m(\u001b[0m\u001b[0;34m)\u001b[0m\u001b[0;34m\u001b[0m\u001b[0;34m\u001b[0m\u001b[0m\n\u001b[1;32m     25\u001b[0m \u001b[0mview\u001b[0m\u001b[0;34m(\u001b[0m\u001b[0mpais\u001b[0m\u001b[0;34m)\u001b[0m\u001b[0;34m\u001b[0m\u001b[0;34m\u001b[0m\u001b[0m\n\u001b[0;32m---> 26\u001b[0;31m \u001b[0mmayor\u001b[0m\u001b[0;34m(\u001b[0m\u001b[0mpais\u001b[0m\u001b[0;34m)\u001b[0m\u001b[0;34m\u001b[0m\u001b[0;34m\u001b[0m\u001b[0m\n\u001b[0m",
            "\u001b[0;32m<ipython-input-152-3156998be382>\u001b[0m in \u001b[0;36mmayor\u001b[0;34m(pais)\u001b[0m\n\u001b[1;32m     17\u001b[0m   \u001b[0mp\u001b[0m\u001b[0;34m=\u001b[0m\u001b[0;36m0\u001b[0m\u001b[0;34m\u001b[0m\u001b[0;34m\u001b[0m\u001b[0m\n\u001b[1;32m     18\u001b[0m   \u001b[0;32mfor\u001b[0m \u001b[0mx\u001b[0m \u001b[0;32min\u001b[0m \u001b[0mrange\u001b[0m\u001b[0;34m(\u001b[0m\u001b[0;36m1\u001b[0m\u001b[0;34m,\u001b[0m\u001b[0mlen\u001b[0m\u001b[0;34m(\u001b[0m\u001b[0mpais\u001b[0m\u001b[0;34m)\u001b[0m\u001b[0;34m)\u001b[0m\u001b[0;34m:\u001b[0m\u001b[0;34m\u001b[0m\u001b[0;34m\u001b[0m\u001b[0m\n\u001b[0;32m---> 19\u001b[0;31m     \u001b[0;32mif\u001b[0m \u001b[0mpais\u001b[0m\u001b[0;34m[\u001b[0m\u001b[0mx\u001b[0m\u001b[0;34m]\u001b[0m\u001b[0;34m[\u001b[0m\u001b[0;36m0\u001b[0m\u001b[0;34m]\u001b[0m\u001b[0;34m>\u001b[0m\u001b[0;34m[\u001b[0m\u001b[0mp\u001b[0m\u001b[0;34m]\u001b[0m\u001b[0;34m[\u001b[0m\u001b[0;36m1\u001b[0m\u001b[0;34m]\u001b[0m\u001b[0;34m:\u001b[0m\u001b[0;34m\u001b[0m\u001b[0;34m\u001b[0m\u001b[0m\n\u001b[0m\u001b[1;32m     20\u001b[0m       \u001b[0mpos\u001b[0m\u001b[0;34m=\u001b[0m\u001b[0mx\u001b[0m\u001b[0;34m\u001b[0m\u001b[0;34m\u001b[0m\u001b[0m\n\u001b[1;32m     21\u001b[0m   \u001b[0mprint\u001b[0m\u001b[0;34m(\u001b[0m\u001b[0;34m\"el pais con la mas alta poblacion registrada es: \"\u001b[0m\u001b[0;34m,\u001b[0m\u001b[0mpais\u001b[0m\u001b[0;34m[\u001b[0m\u001b[0mpos\u001b[0m\u001b[0;34m]\u001b[0m\u001b[0;34m[\u001b[0m\u001b[0;36m0\u001b[0m\u001b[0;34m]\u001b[0m\u001b[0;34m)\u001b[0m\u001b[0;34m\u001b[0m\u001b[0;34m\u001b[0m\u001b[0m\n",
            "\u001b[0;31mIndexError\u001b[0m: list index out of range"
          ]
        }
      ]
    },
    {
      "cell_type": "markdown",
      "metadata": {
        "id": "GhTBQ-LIFCwS"
      },
      "source": [
        "se solicita realizar un programa que permita identificar el nivel de cumplimiento del area de ventas de la empresa AVA. entre los principales requerimientos se encuentran los siguientes\n",
        "\n",
        "**1. permite ingresar la cantidad de vendedores del area de ventas**\n",
        "**2. permita ingresar la puntuacion para cada uno de ellos (escala de 1 a 10)**\n",
        "3. el programa debe permitiridentificar el vendedor con peor rendimiento y mejor rendimiento\n",
        "4. obtener tambien el promedio general del nivel de cumplimiento del area de ventas Nota: si hay empate en la puntuacion para definir el primer y ultimo puesto, se define en orden alfabetico"
      ]
    },
    {
      "cell_type": "code",
      "metadata": {
        "id": "a6OYYH4kHXgE"
      },
      "source": [
        ""
      ],
      "execution_count": 137,
      "outputs": []
    },
    {
      "cell_type": "code",
      "metadata": {
        "id": "6jVRe8b6eEat"
      },
      "source": [
        ""
      ],
      "execution_count": null,
      "outputs": []
    },
    {
      "cell_type": "code",
      "metadata": {
        "colab": {
          "base_uri": "https://localhost:8080/"
        },
        "id": "2-D5Qb4eKopW",
        "outputId": "dd4a152d-957d-4815-ceb7-bf40be8fb478"
      },
      "source": [
        "def vendedores():\n",
        "  vendedor=[]\n",
        "  cantVendedor=int(input(\"ingresa el total del vendedores:  \"))\n",
        "  for x in range (cantVendedor):\n",
        "    nombre=input(\"ingresa nombre del vendedor:  \")\n",
        "    cant=int(input(\"ingresa la puntuacion obtenida: \"))\n",
        "    vendedor.append((nombre,cant))\n",
        "  return vendedor\n",
        "\n",
        "\n",
        "def view(vendedor):\n",
        "  print(\"nombre--- puntuacion\")\n",
        "  mayor=0\n",
        "  for x in range(len(vendedor)):\n",
        "    #print(vendedor[x][0],\"       \",vendedor[x][1],\"\\n\")\n",
        "    a=vendedor[x][1]\n",
        "    #print(a)\n",
        "    if a>mayor:\n",
        "      mayor=a\n",
        "  print(\"el numero mayor es:\",mayor)\n",
        "  print(\"El vendedor: \",vendedor[x][0],\" tiene el mayor rendimiento con: \",mayor,\"\\n\")\n",
        "\n",
        "def menor(vendedor):\n",
        "  print(\"nombre--- puntuacion\")\n",
        "  menor=9\n",
        "  for x in range(len(vendedor)):\n",
        "    #print(vendedor[x][0],\"       \",vendedor[x][1],\"\\n\")\n",
        "    a=vendedor[x][1]\n",
        "    #print(a)\n",
        "    if a<menor:\n",
        "      menor=a\n",
        "  print(\"el numero menor es:\",menor)\n",
        "  print(\"El vendedor: \",vendedor[x][0],\" tiene el menor rendimiento con: \",menor,\"\\n\")\n",
        "\n",
        "\n",
        "def prom(vendedor):\n",
        "  print(\"nombre--- puntuacion\")\n",
        "  acum=0\n",
        "  for x in range(len(vendedor)):\n",
        "    #print(vendedor[x][0],\"       \",vendedor[x][1],\"\\n\")\n",
        "    a=vendedor[x][1]\n",
        "    acum=acum + a\n",
        "  print(\"el promedio es: \", acum/len(vendedor))\n",
        "\n",
        "\n",
        "total=vendedores()\n",
        "#view(total)\n",
        "#menor(total)\n",
        "prom(total)\n"
      ],
      "execution_count": 158,
      "outputs": [
        {
          "output_type": "stream",
          "text": [
            "ingresa el total del vendedores:  3\n",
            "ingresa nombre del vendedor:  rr\n",
            "ingresa la puntuacion obtenida: 5\n",
            "ingresa nombre del vendedor:  eee\n",
            "ingresa la puntuacion obtenida: 3\n",
            "ingresa nombre del vendedor:  eee\n",
            "ingresa la puntuacion obtenida: 2\n",
            "nombre--- puntuacion\n",
            "la suma es:  5\n",
            "la suma es:  8\n",
            "la suma es:  10\n"
          ],
          "name": "stdout"
        }
      ]
    }
  ]
}