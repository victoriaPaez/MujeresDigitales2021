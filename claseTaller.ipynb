{
  "nbformat": 4,
  "nbformat_minor": 0,
  "metadata": {
    "colab": {
      "name": "claseTaller.ipynb",
      "provenance": [],
      "collapsed_sections": [],
      "authorship_tag": "ABX9TyOGrtNbrcMzngTOOASG12GF",
      "include_colab_link": true
    },
    "kernelspec": {
      "name": "python3",
      "display_name": "Python 3"
    },
    "language_info": {
      "name": "python"
    }
  },
  "cells": [
    {
      "cell_type": "markdown",
      "metadata": {
        "id": "view-in-github",
        "colab_type": "text"
      },
      "source": [
        "<a href=\"https://colab.research.google.com/github/victoriaPaez/MujeresDigitales2021/blob/main/claseTaller.ipynb\" target=\"_parent\"><img src=\"https://colab.research.google.com/assets/colab-badge.svg\" alt=\"Open In Colab\"/></a>"
      ]
    },
    {
      "cell_type": "markdown",
      "metadata": {
        "id": "ZKeOEVwd8L9D"
      },
      "source": [
        "**recordatorio**\n",
        "\n",
        "\n",
        "---\n",
        "\n"
      ]
    },
    {
      "cell_type": "code",
      "metadata": {
        "colab": {
          "base_uri": "https://localhost:8080/",
          "height": 243
        },
        "id": "L_mR6D9H2NUV",
        "outputId": "1790635b-ecb7-46cd-95ca-da83b83300d3"
      },
      "source": [
        "Lcompras=list()\n",
        "articulo=articulo =input(\"¿que productos se va a comprar?\")\n",
        "while (articulo!=\"\"):\n",
        "  Lcompras.append(articulo)\n",
        "print(Lcompras)"
      ],
      "execution_count": null,
      "outputs": [
        {
          "output_type": "stream",
          "text": [
            "¿que productos se va a comprar?PERA\n"
          ],
          "name": "stdout"
        },
        {
          "output_type": "error",
          "ename": "KeyboardInterrupt",
          "evalue": "ignored",
          "traceback": [
            "\u001b[0;31m---------------------------------------------------------------------------\u001b[0m",
            "\u001b[0;31mKeyboardInterrupt\u001b[0m                         Traceback (most recent call last)",
            "\u001b[0;32m<ipython-input-8-546e792861e2>\u001b[0m in \u001b[0;36m<module>\u001b[0;34m()\u001b[0m\n\u001b[1;32m      2\u001b[0m \u001b[0marticulo\u001b[0m\u001b[0;34m=\u001b[0m\u001b[0marticulo\u001b[0m \u001b[0;34m=\u001b[0m\u001b[0minput\u001b[0m\u001b[0;34m(\u001b[0m\u001b[0;34m\"¿que productos se va a comprar?\"\u001b[0m\u001b[0;34m)\u001b[0m\u001b[0;34m\u001b[0m\u001b[0;34m\u001b[0m\u001b[0m\n\u001b[1;32m      3\u001b[0m \u001b[0;32mwhile\u001b[0m \u001b[0;34m(\u001b[0m\u001b[0marticulo\u001b[0m\u001b[0;34m!=\u001b[0m\u001b[0;34m\"\"\u001b[0m\u001b[0;34m)\u001b[0m\u001b[0;34m:\u001b[0m\u001b[0;34m\u001b[0m\u001b[0;34m\u001b[0m\u001b[0m\n\u001b[0;32m----> 4\u001b[0;31m   \u001b[0mLcompras\u001b[0m\u001b[0;34m.\u001b[0m\u001b[0mappend\u001b[0m\u001b[0;34m(\u001b[0m\u001b[0marticulo\u001b[0m\u001b[0;34m)\u001b[0m\u001b[0;34m\u001b[0m\u001b[0;34m\u001b[0m\u001b[0m\n\u001b[0m\u001b[1;32m      5\u001b[0m \u001b[0mprint\u001b[0m\u001b[0;34m(\u001b[0m\u001b[0mLcompras\u001b[0m\u001b[0;34m)\u001b[0m\u001b[0;34m\u001b[0m\u001b[0;34m\u001b[0m\u001b[0m\n",
            "\u001b[0;31mKeyboardInterrupt\u001b[0m: "
          ]
        }
      ]
    },
    {
      "cell_type": "code",
      "metadata": {
        "colab": {
          "base_uri": "https://localhost:8080/",
          "height": 442
        },
        "id": "x3ct1BTaA2Mb",
        "outputId": "506520ff-a28f-437b-f4a1-4973b44e9330"
      },
      "source": [
        "def poblacion():\n",
        "  pais=[]\n",
        "  for x in range (2):\n",
        "    nombre=input(\"ingresa nombre del pais\")\n",
        "    cant=int(input(\"cantidad de habitantes\"))\n",
        "    pais.append((nombre,cant))\n",
        "  return pais\n",
        "\n",
        "def view(pais):\n",
        "  print (\"habitantes por pais:\")\n",
        "  for x in range(len(pais)):\n",
        "    print(pais[x][1])\n",
        "    \n",
        "    i=1\n",
        "\n",
        "def mayor(pais):\n",
        "  p=0\n",
        "  for x in range(1,len(pais)):\n",
        "    if pais[x][0]>[p][1]:\n",
        "      pos=x\n",
        "  print(\"el pais con la mas alta poblacion registrada es: \",pais[pos][0])\n",
        "\n",
        "\n",
        "pais=poblacion()\n",
        "view(pais)\n",
        "mayor(pais)"
      ],
      "execution_count": null,
      "outputs": [
        {
          "output_type": "stream",
          "text": [
            "ingresa nombre del paiscuba\n",
            "cantidad de habitantes4\n",
            "ingresa nombre del paiscolombia\n",
            "cantidad de habitantes2\n",
            "habitantes por pais:\n",
            "4\n",
            "2\n"
          ],
          "name": "stdout"
        },
        {
          "output_type": "error",
          "ename": "IndexError",
          "evalue": "ignored",
          "traceback": [
            "\u001b[0;31m---------------------------------------------------------------------------\u001b[0m",
            "\u001b[0;31mIndexError\u001b[0m                                Traceback (most recent call last)",
            "\u001b[0;32m<ipython-input-152-3156998be382>\u001b[0m in \u001b[0;36m<module>\u001b[0;34m()\u001b[0m\n\u001b[1;32m     24\u001b[0m \u001b[0mpais\u001b[0m\u001b[0;34m=\u001b[0m\u001b[0mpoblacion\u001b[0m\u001b[0;34m(\u001b[0m\u001b[0;34m)\u001b[0m\u001b[0;34m\u001b[0m\u001b[0;34m\u001b[0m\u001b[0m\n\u001b[1;32m     25\u001b[0m \u001b[0mview\u001b[0m\u001b[0;34m(\u001b[0m\u001b[0mpais\u001b[0m\u001b[0;34m)\u001b[0m\u001b[0;34m\u001b[0m\u001b[0;34m\u001b[0m\u001b[0m\n\u001b[0;32m---> 26\u001b[0;31m \u001b[0mmayor\u001b[0m\u001b[0;34m(\u001b[0m\u001b[0mpais\u001b[0m\u001b[0;34m)\u001b[0m\u001b[0;34m\u001b[0m\u001b[0;34m\u001b[0m\u001b[0m\n\u001b[0m",
            "\u001b[0;32m<ipython-input-152-3156998be382>\u001b[0m in \u001b[0;36mmayor\u001b[0;34m(pais)\u001b[0m\n\u001b[1;32m     17\u001b[0m   \u001b[0mp\u001b[0m\u001b[0;34m=\u001b[0m\u001b[0;36m0\u001b[0m\u001b[0;34m\u001b[0m\u001b[0;34m\u001b[0m\u001b[0m\n\u001b[1;32m     18\u001b[0m   \u001b[0;32mfor\u001b[0m \u001b[0mx\u001b[0m \u001b[0;32min\u001b[0m \u001b[0mrange\u001b[0m\u001b[0;34m(\u001b[0m\u001b[0;36m1\u001b[0m\u001b[0;34m,\u001b[0m\u001b[0mlen\u001b[0m\u001b[0;34m(\u001b[0m\u001b[0mpais\u001b[0m\u001b[0;34m)\u001b[0m\u001b[0;34m)\u001b[0m\u001b[0;34m:\u001b[0m\u001b[0;34m\u001b[0m\u001b[0;34m\u001b[0m\u001b[0m\n\u001b[0;32m---> 19\u001b[0;31m     \u001b[0;32mif\u001b[0m \u001b[0mpais\u001b[0m\u001b[0;34m[\u001b[0m\u001b[0mx\u001b[0m\u001b[0;34m]\u001b[0m\u001b[0;34m[\u001b[0m\u001b[0;36m0\u001b[0m\u001b[0;34m]\u001b[0m\u001b[0;34m>\u001b[0m\u001b[0;34m[\u001b[0m\u001b[0mp\u001b[0m\u001b[0;34m]\u001b[0m\u001b[0;34m[\u001b[0m\u001b[0;36m1\u001b[0m\u001b[0;34m]\u001b[0m\u001b[0;34m:\u001b[0m\u001b[0;34m\u001b[0m\u001b[0;34m\u001b[0m\u001b[0m\n\u001b[0m\u001b[1;32m     20\u001b[0m       \u001b[0mpos\u001b[0m\u001b[0;34m=\u001b[0m\u001b[0mx\u001b[0m\u001b[0;34m\u001b[0m\u001b[0;34m\u001b[0m\u001b[0m\n\u001b[1;32m     21\u001b[0m   \u001b[0mprint\u001b[0m\u001b[0;34m(\u001b[0m\u001b[0;34m\"el pais con la mas alta poblacion registrada es: \"\u001b[0m\u001b[0;34m,\u001b[0m\u001b[0mpais\u001b[0m\u001b[0;34m[\u001b[0m\u001b[0mpos\u001b[0m\u001b[0;34m]\u001b[0m\u001b[0;34m[\u001b[0m\u001b[0;36m0\u001b[0m\u001b[0;34m]\u001b[0m\u001b[0;34m)\u001b[0m\u001b[0;34m\u001b[0m\u001b[0;34m\u001b[0m\u001b[0m\n",
            "\u001b[0;31mIndexError\u001b[0m: list index out of range"
          ]
        }
      ]
    },
    {
      "cell_type": "markdown",
      "metadata": {
        "id": "GhTBQ-LIFCwS"
      },
      "source": [
        "se solicita realizar un programa que permita identificar el nivel de cumplimiento del area de ventas de la empresa AVA. entre los principales requerimientos se encuentran los siguientes\n",
        "\n",
        "**1. permite ingresar la cantidad de vendedores del area de ventas**\n",
        "**2. permita ingresar la puntuacion para cada uno de ellos (escala de 1 a 10)**\n",
        "3. el programa debe permitiridentificar el vendedor con peor rendimiento y mejor rendimiento\n",
        "4. obtener tambien el promedio general del nivel de cumplimiento del area de ventas Nota: si hay empate en la puntuacion para definir el primer y ultimo puesto, se define en orden alfabetico"
      ]
    },
    {
      "cell_type": "code",
      "metadata": {
        "id": "a6OYYH4kHXgE"
      },
      "source": [
        ""
      ],
      "execution_count": null,
      "outputs": []
    },
    {
      "cell_type": "code",
      "metadata": {
        "id": "6jVRe8b6eEat"
      },
      "source": [
        ""
      ],
      "execution_count": null,
      "outputs": []
    },
    {
      "cell_type": "code",
      "metadata": {
        "colab": {
          "base_uri": "https://localhost:8080/"
        },
        "id": "2-D5Qb4eKopW",
        "outputId": "64ecec9e-c45c-475d-b74e-ad4a1fbfb698"
      },
      "source": [
        "def vendedores():\n",
        "  vendedor=[]\n",
        "\n",
        "  cantVendedor=int(input(\"ingresa el total del vendedores:  \"))\n",
        "  for x in range (cantVendedor):\n",
        "    nombre=input(\"ingresa nombre del vendedor:  \")\n",
        "    cant=int(input(\"ingresa la puntuacion obtenida: \"))\n",
        "    vendedor.append((nombre,cant))\n",
        "    resultado =sorted(vendedor, key=lambda p:(p[0]))\n",
        "  return resultado\n",
        "\n",
        "\n",
        "def vmayor_rendimiento(vendedor):\n",
        "    mayor=0\n",
        "    for x in range(1,len(vendedor)):\n",
        "      a=vendedor[x][1]\n",
        "      if a>mayor:\n",
        "        mayor=a\n",
        "    print(\"el mayor rendimiento obtenido fue:\",mayor)\n",
        "    resultados=sorted(vendedor, key=lambda p:int(p[1]),reverse=True)\n",
        "    print(\"y los datos correspondientes al vendedor con mejor rendimiento son: \",resultados[0])\n",
        "\n",
        "\n",
        "def vmenor_rendimiento(vendedor):\n",
        "  menor=9\n",
        "  for x in range(1,len(vendedor)):\n",
        "    a=vendedor[x][1]\n",
        "    if a<menor:\n",
        "      menor=a\n",
        "  print(\"el menor rendimiento es:\",menor)\n",
        "  resultados=sorted(vendedor, key=lambda p:int(p[1]))\n",
        "  print(resultados)\n",
        "  print(\"y los datos correspondientes el vendedor con menor rendimiento son: \",resultados[0])\n",
        "\n",
        "\n",
        "def prom(vendedor):\n",
        "  print(\"nombre--- puntuacion\")\n",
        "  acum=0\n",
        "  for x in range(len(vendedor)):\n",
        "    #print(vendedor[x][0],\"       \",vendedor[x][1],\"\\n\")\n",
        "    a=vendedor[x][1]\n",
        "    acum=acum + a\n",
        "  print(\"el promedio es: \", acum/len(vendedor))\n",
        "\n",
        "\n",
        "\n",
        "\n",
        "\n",
        "\n",
        "\n",
        "\n",
        "\n",
        "def mayor(vendedor):\n",
        "  print(\"nombre--- puntuacion\")\n",
        "  mayor=0\n",
        "  for x in range(1,len(vendedor)):\n",
        "    #print(vendedor[x][0],\"       \",vendedor[x][1],\"\\n\")\n",
        "    a=vendedor[x][1]\n",
        "    #print(a)\n",
        "    if a>mayor:\n",
        "      mayor=a\n",
        "    print(\"el mayor rendimiento obtenido fue:\",mayor)\n",
        "  print(\"El vendedor: \",vendedor[x][0],\" tiene el mayor rendimiento con: \",mayor,\"\\n\")\n",
        "\n",
        "\n",
        "\n",
        "\n",
        "\n",
        "\n",
        "\n",
        "\n",
        "\n",
        "\n",
        "\n",
        "\n",
        "\n",
        "\n",
        "\n",
        "\n",
        "\n",
        "def menor(vendedor):\n",
        "  print(\"nombre--- puntuacion\")\n",
        "  menor=9\n",
        "  for x in range(len(vendedor)):\n",
        "    #print(vendedor[x][0],\"       \",vendedor[x][1],\"\\n\")\n",
        "    a=vendedor[x][1]\n",
        "    #print(a)\n",
        "    if a<menor:\n",
        "      menor=a\n",
        "  print(\"el numero menor es:\",menor)\n",
        "  print(\"El vendedor: \",vendedor[x][0],\" tiene el menor rendimiento con: \",menor,\"\\n\")\n",
        "\n",
        "\n",
        "\n",
        "\n",
        "\n",
        "\n",
        "\n",
        "\n",
        "total=vendedores()\n",
        "#vmayor_rendimiento(total)\n",
        "vmenor_rendimiento(total)\n",
        "#view(total)\n",
        "#menor(total)\n",
        "#prom(total)\n"
      ],
      "execution_count": 84,
      "outputs": [
        {
          "output_type": "stream",
          "text": [
            "ingresa el total del vendedores:  4\n",
            "ingresa nombre del vendedor:  t\n",
            "ingresa la puntuacion obtenida: 1\n",
            "ingresa nombre del vendedor:  a\n",
            "ingresa la puntuacion obtenida: 9\n",
            "ingresa nombre del vendedor:  o\n",
            "ingresa la puntuacion obtenida: 18\n",
            "ingresa nombre del vendedor:  u\n",
            "ingresa la puntuacion obtenida: 3\n",
            "el menor rendimiento es: 1\n",
            "[('t', 1), ('u', 3), ('a', 9), ('o', 18)]\n",
            "y los datos correspondientes el vendedor con menor rendimiento son:  ('t', 1)\n"
          ],
          "name": "stdout"
        }
      ]
    },
    {
      "cell_type": "code",
      "metadata": {
        "colab": {
          "base_uri": "https://localhost:8080/",
          "height": 337
        },
        "id": "0fXBd0eclOMx",
        "outputId": "531b9912-840b-465a-e771-6adbeeb9df0d"
      },
      "source": [
        "vendedores=[]\n",
        "notas=[]\n",
        "cantVendedor=int(input(\"ingresa el total del vendedores:  \"))\n",
        "for x in range(cantVendedor):\n",
        "    nom=input(\"Ingrese el nombre del alumno:\")\n",
        "    vendedores.append(nom)\n",
        "    no=int(input(\"Ingrese la nota de dicho alumno:\"))\n",
        "    notas.append(no)\n",
        "\n",
        "for k in range(cantVendedor-1):\n",
        "    for x in range(cantVendedor-k):\n",
        "        if notas[x]<notas[x+1]:\n",
        "            aux1=notas[x]\n",
        "            notas[x]=notas[x+1]\n",
        "            notas[x+1]=aux1\n",
        "            aux2=vendedores[x]\n",
        "            vendedores[x]=vendedores[x+1]\n",
        "            vendedores[x+1]=aux2\n",
        "\n",
        "print(\"Lista de alumnos y sus notas ordenadas de mayor a menor\")\n",
        "for x in range(5):\n",
        "    print(vendedores[x],notas[x])"
      ],
      "execution_count": 24,
      "outputs": [
        {
          "output_type": "stream",
          "text": [
            "ingresa el total del vendedores:  3\n",
            "Ingrese el nombre del alumno:w\n",
            "Ingrese la nota de dicho alumno:5\n",
            "Ingrese el nombre del alumno:a\n",
            "Ingrese la nota de dicho alumno:2\n",
            "Ingrese el nombre del alumno:r\n",
            "Ingrese la nota de dicho alumno:2\n"
          ],
          "name": "stdout"
        },
        {
          "output_type": "error",
          "ename": "IndexError",
          "evalue": "ignored",
          "traceback": [
            "\u001b[0;31m---------------------------------------------------------------------------\u001b[0m",
            "\u001b[0;31mIndexError\u001b[0m                                Traceback (most recent call last)",
            "\u001b[0;32m<ipython-input-24-01b3c7b70c50>\u001b[0m in \u001b[0;36m<module>\u001b[0;34m()\u001b[0m\n\u001b[1;32m     10\u001b[0m \u001b[0;32mfor\u001b[0m \u001b[0mk\u001b[0m \u001b[0;32min\u001b[0m \u001b[0mrange\u001b[0m\u001b[0;34m(\u001b[0m\u001b[0mcantVendedor\u001b[0m\u001b[0;34m-\u001b[0m\u001b[0;36m1\u001b[0m\u001b[0;34m)\u001b[0m\u001b[0;34m:\u001b[0m\u001b[0;34m\u001b[0m\u001b[0;34m\u001b[0m\u001b[0m\n\u001b[1;32m     11\u001b[0m     \u001b[0;32mfor\u001b[0m \u001b[0mx\u001b[0m \u001b[0;32min\u001b[0m \u001b[0mrange\u001b[0m\u001b[0;34m(\u001b[0m\u001b[0mcantVendedor\u001b[0m\u001b[0;34m-\u001b[0m\u001b[0mk\u001b[0m\u001b[0;34m)\u001b[0m\u001b[0;34m:\u001b[0m\u001b[0;34m\u001b[0m\u001b[0;34m\u001b[0m\u001b[0m\n\u001b[0;32m---> 12\u001b[0;31m         \u001b[0;32mif\u001b[0m \u001b[0mnotas\u001b[0m\u001b[0;34m[\u001b[0m\u001b[0mx\u001b[0m\u001b[0;34m]\u001b[0m\u001b[0;34m<\u001b[0m\u001b[0mnotas\u001b[0m\u001b[0;34m[\u001b[0m\u001b[0mx\u001b[0m\u001b[0;34m+\u001b[0m\u001b[0;36m1\u001b[0m\u001b[0;34m]\u001b[0m\u001b[0;34m:\u001b[0m\u001b[0;34m\u001b[0m\u001b[0;34m\u001b[0m\u001b[0m\n\u001b[0m\u001b[1;32m     13\u001b[0m             \u001b[0maux1\u001b[0m\u001b[0;34m=\u001b[0m\u001b[0mnotas\u001b[0m\u001b[0;34m[\u001b[0m\u001b[0mx\u001b[0m\u001b[0;34m]\u001b[0m\u001b[0;34m\u001b[0m\u001b[0;34m\u001b[0m\u001b[0m\n\u001b[1;32m     14\u001b[0m             \u001b[0mnotas\u001b[0m\u001b[0;34m[\u001b[0m\u001b[0mx\u001b[0m\u001b[0;34m]\u001b[0m\u001b[0;34m=\u001b[0m\u001b[0mnotas\u001b[0m\u001b[0;34m[\u001b[0m\u001b[0mx\u001b[0m\u001b[0;34m+\u001b[0m\u001b[0;36m1\u001b[0m\u001b[0;34m]\u001b[0m\u001b[0;34m\u001b[0m\u001b[0;34m\u001b[0m\u001b[0m\n",
            "\u001b[0;31mIndexError\u001b[0m: list index out of range"
          ]
        }
      ]
    }
  ]
}