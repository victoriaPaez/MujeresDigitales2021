{
  "nbformat": 4,
  "nbformat_minor": 0,
  "metadata": {
    "colab": {
      "name": "claseTaller.ipynb",
      "provenance": [],
      "collapsed_sections": [],
      "authorship_tag": "ABX9TyMbLB17pRfhxAKVvF4BLldD",
      "include_colab_link": true
    },
    "kernelspec": {
      "name": "python3",
      "display_name": "Python 3"
    },
    "language_info": {
      "name": "python"
    }
  },
  "cells": [
    {
      "cell_type": "markdown",
      "metadata": {
        "id": "view-in-github",
        "colab_type": "text"
      },
      "source": [
        "<a href=\"https://colab.research.google.com/github/victoriaPaez/MujeresDigitales2021/blob/main/claseTaller.ipynb\" target=\"_parent\"><img src=\"https://colab.research.google.com/assets/colab-badge.svg\" alt=\"Open In Colab\"/></a>"
      ]
    },
    {
      "cell_type": "markdown",
      "metadata": {
        "id": "ZKeOEVwd8L9D"
      },
      "source": [
        "**recordatorio**\n",
        "\n",
        "\n",
        "---\n",
        "\n"
      ]
    },
    {
      "cell_type": "code",
      "metadata": {
        "colab": {
          "base_uri": "https://localhost:8080/",
          "height": 243
        },
        "id": "L_mR6D9H2NUV",
        "outputId": "1790635b-ecb7-46cd-95ca-da83b83300d3"
      },
      "source": [
        "Lcompras=list()\n",
        "articulo=articulo =input(\"¿que productos se va a comprar?\")\n",
        "while (articulo!=\"\"):\n",
        "  Lcompras.append(articulo)\n",
        "print(Lcompras)"
      ],
      "execution_count": null,
      "outputs": [
        {
          "output_type": "stream",
          "text": [
            "¿que productos se va a comprar?PERA\n"
          ],
          "name": "stdout"
        },
        {
          "output_type": "error",
          "ename": "KeyboardInterrupt",
          "evalue": "ignored",
          "traceback": [
            "\u001b[0;31m---------------------------------------------------------------------------\u001b[0m",
            "\u001b[0;31mKeyboardInterrupt\u001b[0m                         Traceback (most recent call last)",
            "\u001b[0;32m<ipython-input-8-546e792861e2>\u001b[0m in \u001b[0;36m<module>\u001b[0;34m()\u001b[0m\n\u001b[1;32m      2\u001b[0m \u001b[0marticulo\u001b[0m\u001b[0;34m=\u001b[0m\u001b[0marticulo\u001b[0m \u001b[0;34m=\u001b[0m\u001b[0minput\u001b[0m\u001b[0;34m(\u001b[0m\u001b[0;34m\"¿que productos se va a comprar?\"\u001b[0m\u001b[0;34m)\u001b[0m\u001b[0;34m\u001b[0m\u001b[0;34m\u001b[0m\u001b[0m\n\u001b[1;32m      3\u001b[0m \u001b[0;32mwhile\u001b[0m \u001b[0;34m(\u001b[0m\u001b[0marticulo\u001b[0m\u001b[0;34m!=\u001b[0m\u001b[0;34m\"\"\u001b[0m\u001b[0;34m)\u001b[0m\u001b[0;34m:\u001b[0m\u001b[0;34m\u001b[0m\u001b[0;34m\u001b[0m\u001b[0m\n\u001b[0;32m----> 4\u001b[0;31m   \u001b[0mLcompras\u001b[0m\u001b[0;34m.\u001b[0m\u001b[0mappend\u001b[0m\u001b[0;34m(\u001b[0m\u001b[0marticulo\u001b[0m\u001b[0;34m)\u001b[0m\u001b[0;34m\u001b[0m\u001b[0;34m\u001b[0m\u001b[0m\n\u001b[0m\u001b[1;32m      5\u001b[0m \u001b[0mprint\u001b[0m\u001b[0;34m(\u001b[0m\u001b[0mLcompras\u001b[0m\u001b[0;34m)\u001b[0m\u001b[0;34m\u001b[0m\u001b[0;34m\u001b[0m\u001b[0m\n",
            "\u001b[0;31mKeyboardInterrupt\u001b[0m: "
          ]
        }
      ]
    },
    {
      "cell_type": "code",
      "metadata": {
        "colab": {
          "base_uri": "https://localhost:8080/",
          "height": 418
        },
        "id": "x3ct1BTaA2Mb",
        "outputId": "9d544c93-e555-4282-d590-6620ffdb77a3"
      },
      "source": [
        "def poblacion():\n",
        "  pais=[]\n",
        "  for x in range (2):\n",
        "    nombre=input(\"ingresa nombre del pais\")\n",
        "    cant=int(input(\"cantidad de habitantes\"))\n",
        "    pais.append((nombre,cant))\n",
        "  return pais\n",
        "\n",
        "def view(pais):\n",
        "  print (\"habitantes por pais:\")\n",
        "  for x in range(len(pais)):\n",
        "    print(pais[x][0],pais[x][1])\n",
        "\n",
        "def mayor(pais):\n",
        "  p=0\n",
        "  for x in range(1,len(pais)):\n",
        "    if pais[x][1]>[p][1]:\n",
        "      p=x\n",
        "  print(\"el pais con la mas alta poblacion registrada es: \",pais[pos][0])\n",
        "\n",
        "\n",
        "pais=poblacion()\n",
        "view(pais)\n",
        "mayor(pais)"
      ],
      "execution_count": 271,
      "outputs": [
        {
          "output_type": "stream",
          "text": [
            "ingresa nombre del paiscuba\n",
            "cantidad de habitantes500\n",
            "ingresa nombre del paiscaribe\n",
            "cantidad de habitantes200\n",
            "habitantes por pais:\n",
            "cuba 500\n",
            "caribe 200\n"
          ],
          "name": "stdout"
        },
        {
          "output_type": "error",
          "ename": "IndexError",
          "evalue": "ignored",
          "traceback": [
            "\u001b[0;31m---------------------------------------------------------------------------\u001b[0m",
            "\u001b[0;31mIndexError\u001b[0m                                Traceback (most recent call last)",
            "\u001b[0;32m<ipython-input-271-ac30a3821086>\u001b[0m in \u001b[0;36m<module>\u001b[0;34m()\u001b[0m\n\u001b[1;32m     22\u001b[0m \u001b[0mpais\u001b[0m\u001b[0;34m=\u001b[0m\u001b[0mpoblacion\u001b[0m\u001b[0;34m(\u001b[0m\u001b[0;34m)\u001b[0m\u001b[0;34m\u001b[0m\u001b[0;34m\u001b[0m\u001b[0m\n\u001b[1;32m     23\u001b[0m \u001b[0mview\u001b[0m\u001b[0;34m(\u001b[0m\u001b[0mpais\u001b[0m\u001b[0;34m)\u001b[0m\u001b[0;34m\u001b[0m\u001b[0;34m\u001b[0m\u001b[0m\n\u001b[0;32m---> 24\u001b[0;31m \u001b[0mmayor\u001b[0m\u001b[0;34m(\u001b[0m\u001b[0mpais\u001b[0m\u001b[0;34m)\u001b[0m\u001b[0;34m\u001b[0m\u001b[0;34m\u001b[0m\u001b[0m\n\u001b[0m",
            "\u001b[0;32m<ipython-input-271-ac30a3821086>\u001b[0m in \u001b[0;36mmayor\u001b[0;34m(pais)\u001b[0m\n\u001b[1;32m     15\u001b[0m   \u001b[0mp\u001b[0m\u001b[0;34m=\u001b[0m\u001b[0;36m0\u001b[0m\u001b[0;34m\u001b[0m\u001b[0;34m\u001b[0m\u001b[0m\n\u001b[1;32m     16\u001b[0m   \u001b[0;32mfor\u001b[0m \u001b[0mx\u001b[0m \u001b[0;32min\u001b[0m \u001b[0mrange\u001b[0m\u001b[0;34m(\u001b[0m\u001b[0;36m1\u001b[0m\u001b[0;34m,\u001b[0m\u001b[0mlen\u001b[0m\u001b[0;34m(\u001b[0m\u001b[0mpais\u001b[0m\u001b[0;34m)\u001b[0m\u001b[0;34m)\u001b[0m\u001b[0;34m:\u001b[0m\u001b[0;34m\u001b[0m\u001b[0;34m\u001b[0m\u001b[0m\n\u001b[0;32m---> 17\u001b[0;31m     \u001b[0;32mif\u001b[0m \u001b[0mpais\u001b[0m\u001b[0;34m[\u001b[0m\u001b[0mx\u001b[0m\u001b[0;34m]\u001b[0m\u001b[0;34m[\u001b[0m\u001b[0;36m1\u001b[0m\u001b[0;34m]\u001b[0m\u001b[0;34m>\u001b[0m\u001b[0;34m[\u001b[0m\u001b[0mp\u001b[0m\u001b[0;34m]\u001b[0m\u001b[0;34m[\u001b[0m\u001b[0;36m1\u001b[0m\u001b[0;34m]\u001b[0m\u001b[0;34m:\u001b[0m\u001b[0;34m\u001b[0m\u001b[0;34m\u001b[0m\u001b[0m\n\u001b[0m\u001b[1;32m     18\u001b[0m       \u001b[0mp\u001b[0m\u001b[0;34m=\u001b[0m\u001b[0mx\u001b[0m\u001b[0;34m\u001b[0m\u001b[0;34m\u001b[0m\u001b[0m\n\u001b[1;32m     19\u001b[0m   \u001b[0mprint\u001b[0m\u001b[0;34m(\u001b[0m\u001b[0;34m\"el pais con la mas alta poblacion registrada es: \"\u001b[0m\u001b[0;34m,\u001b[0m\u001b[0mpais\u001b[0m\u001b[0;34m[\u001b[0m\u001b[0mpos\u001b[0m\u001b[0;34m]\u001b[0m\u001b[0;34m[\u001b[0m\u001b[0;36m0\u001b[0m\u001b[0;34m]\u001b[0m\u001b[0;34m)\u001b[0m\u001b[0;34m\u001b[0m\u001b[0;34m\u001b[0m\u001b[0m\n",
            "\u001b[0;31mIndexError\u001b[0m: list index out of range"
          ]
        }
      ]
    },
    {
      "cell_type": "markdown",
      "metadata": {
        "id": "GhTBQ-LIFCwS"
      },
      "source": [
        "se solicita realizar un programa que permita identificar el nivel de cumplimiento del area de ventas de la empresa AVA. entre los principales requerimientos se encuentran los siguientes\n",
        "\n",
        "**1. permite ingresar la cantidad de vendedores del area de ventas**\n",
        "**2. permita ingresar la puntuacion para cada uno de ellos (escala de 1 a 10)**\n",
        "**3. el programa debe permitir identificar el vendedor con peor rendimiento y mejor rendimiento**\n",
        "**4. obtener tambien **el promedio general del nivel de cumplimiento del area de ventas** **\n",
        "5. Nota: si hay empate en la puntuacion para definir el primer y ultimo puesto, se define en orden alfabetico"
      ]
    },
    {
      "cell_type": "code",
      "metadata": {
        "id": "a6OYYH4kHXgE"
      },
      "source": [
        ""
      ],
      "execution_count": null,
      "outputs": []
    },
    {
      "cell_type": "code",
      "metadata": {
        "id": "6jVRe8b6eEat"
      },
      "source": [
        ""
      ],
      "execution_count": null,
      "outputs": []
    },
    {
      "cell_type": "code",
      "metadata": {
        "colab": {
          "base_uri": "https://localhost:8080/"
        },
        "id": "2-D5Qb4eKopW",
        "outputId": "87dc62b9-e7f5-4ed6-9ed0-e445ba896555"
      },
      "source": [
        "def vendedores():\n",
        "  vendedor=[]\n",
        "\n",
        "  cantVendedor=int(input(\"ingresa el total del vendedores:  \"))\n",
        "  for x in range (cantVendedor):\n",
        "    nombre=input(\"ingresa nombre del vendedor:  \")\n",
        "    cant=int(input(\"ingresa la puntuacion obtenida el rango debe ser de 1 a 10: \"))\n",
        "    vendedor.append((nombre,cant))\n",
        "    resultado =sorted(vendedor, key=lambda p:(p[0]))\n",
        "  return resultado\n",
        "\n",
        "def vmayor_rendimiento(vendedor):\n",
        "    mayor=0\n",
        "    for x in range(len(vendedor)):\n",
        "      a=vendedor[x][1]\n",
        "      if a>mayor:\n",
        "        mayor=a\n",
        "    print(\"\\n\")\n",
        "    print(\"el mayor rendimiento obtenido fue:\",mayor)\n",
        "    resultados=sorted(vendedor, key=lambda p:int(p[1]),reverse=True)\n",
        "    print(\"y los datos correspondientes al vendedor con mejor rendimiento son: \",resultados[0],\"\\n\")\n",
        "\n",
        "\n",
        "def vmenor_rendimiento(vendedor):\n",
        "  menor=9\n",
        "  for x in range(len(vendedor)):\n",
        "    a=vendedor[x][1]\n",
        "    if a<menor:\n",
        "      menor=a\n",
        "  print(\"el menor rendimiento es:\",menor)\n",
        "  resultados=sorted(vendedor, key=lambda p:int(p[1]))\n",
        "  print(\"y los datos correspondientes el vendedor con menor rendimiento son: \",resultados[0],\"\\n\")\n",
        "\n",
        "\n",
        "def prom(vendedor):\n",
        "  acum=0\n",
        "  for x in range(len(vendedor)):\n",
        "    a=vendedor[x][1]\n",
        "    acum=acum + a\n",
        "  print(\"el promedio general del nivel de cumplimiento del area de ventas: \", acum/len(vendedor),\"\\n\")\n",
        "\n",
        "\n",
        "def iguales(vendedor):\n",
        "  repetidos=[]\n",
        "  archivo=[]\n",
        "  for n in vendedor:\n",
        "    if n not in archivo:\n",
        "      archivo.append(n)\n",
        "    else:\n",
        "      repetidos.append(n)\n",
        "  print(\"el empate se presento en: \",repetidos)\n",
        "\n",
        "\n",
        "      \n",
        "\n",
        "  \n",
        "\n",
        "\n",
        " \n",
        "\n",
        "\n",
        "\n",
        "\n",
        "\n",
        "\n",
        "\n",
        "\"\"\"\n",
        "def mayor(vendedor):\n",
        "  print(\"nombre--- puntuacion\")\n",
        "  mayor=0\n",
        "  for x in range(1,len(vendedor)):\n",
        "    #print(vendedor[x][0],\"       \",vendedor[x][1],\"\\n\")\n",
        "    a=vendedor[x][1]\n",
        "    #print(a)\n",
        "    if a>mayor:\n",
        "      mayor=a\n",
        "    print(\"el mayor rendimiento obtenido fue:\",mayor)\n",
        "  print(\"El vendedor: \",vendedor[x][0],\" tiene el mayor rendimiento con: \",mayor,\"\\n\")\n",
        "\n",
        "def menor(vendedor):\n",
        "  print(\"nombre--- puntuacion\")\n",
        "  menor=9\n",
        "  for x in range(len(vendedor)):\n",
        "    #print(vendedor[x][0],\"       \",vendedor[x][1],\"\\n\")\n",
        "    a=vendedor[x][1]\n",
        "    #print(a)\n",
        "    if a<menor:\n",
        "      menor=a\n",
        "  print(\"el numero menor es:\",menor)\n",
        "  print(\"El vendedor: \",vendedor[x][0],\" tiene el menor rendimiento con: \",menor,\"\\n\")\n",
        "\n",
        "\"\"\"\n",
        "\n",
        "\n",
        "\n",
        "\n",
        "\n",
        "\n",
        "total=vendedores()\n",
        "vmayor_rendimiento(total)\n",
        "vmenor_rendimiento(total)\n",
        "prom(total)\n",
        "iguales(total)\n",
        "\n",
        "\n"
      ],
      "execution_count": 272,
      "outputs": [
        {
          "output_type": "stream",
          "text": [
            "ingresa el total del vendedores:  4\n",
            "ingresa nombre del vendedor:  t\n",
            "ingresa la puntuacion obtenida el rango debe ser de 1 a 10: 9\n",
            "ingresa nombre del vendedor:  e\n",
            "ingresa la puntuacion obtenida el rango debe ser de 1 a 10: 2\n",
            "ingresa nombre del vendedor:  t\n",
            "ingresa la puntuacion obtenida el rango debe ser de 1 a 10: 5\n",
            "ingresa nombre del vendedor:  d\n",
            "ingresa la puntuacion obtenida el rango debe ser de 1 a 10: 1\n",
            "\n",
            "\n",
            "el mayor rendimiento obtenido fue: 9\n",
            "y los datos correspondientes al vendedor con mejor rendimiento son:  ('t', 9) \n",
            "\n",
            "el menor rendimiento es: 1\n",
            "y los datos correspondientes el vendedor con menor rendimiento son:  ('d', 1) \n",
            "\n",
            "el promedio general del nivel de cumplimiento del area de ventas:  4.25 \n",
            "\n",
            "el empate se presento en:  []\n"
          ],
          "name": "stdout"
        }
      ]
    }
  ]
}