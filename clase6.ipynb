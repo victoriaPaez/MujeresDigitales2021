{
  "nbformat": 4,
  "nbformat_minor": 0,
  "metadata": {
    "colab": {
      "name": "clase6.ipynb",
      "provenance": [],
      "collapsed_sections": [],
      "authorship_tag": "ABX9TyNQhNiRGcf221zH5OuOawkk",
      "include_colab_link": true
    },
    "kernelspec": {
      "name": "python3",
      "display_name": "Python 3"
    },
    "language_info": {
      "name": "python"
    }
  },
  "cells": [
    {
      "cell_type": "markdown",
      "metadata": {
        "id": "view-in-github",
        "colab_type": "text"
      },
      "source": [
        "<a href=\"https://colab.research.google.com/github/victoriaPaez/MujeresDigitales2021/blob/main/clase6.ipynb\" target=\"_parent\"><img src=\"https://colab.research.google.com/assets/colab-badge.svg\" alt=\"Open In Colab\"/></a>"
      ]
    },
    {
      "cell_type": "markdown",
      "metadata": {
        "id": "m4eoHeruMmiF"
      },
      "source": [
        "**continuacion de los ejemplos de uso de lista de comprension**\n",
        "\n",
        "\n",
        "---\n",
        "#comprension de conjuntos\n",
        "\n",
        "\n",
        "---\n",
        "la comprension de conjuntos es muy similar a la que veniamos manejando con listas la unica diferrencia es que se usa los {}\n",
        "\n",
        "recordemos que los conjuntos tambien denominados **sets** no permiten duplicados, es decir cada elemento es unico si se llega a añadir un elemento repetitido, no arrojara error pero no se mostrara em el print\n",
        "\n",
        "\n"
      ]
    },
    {
      "cell_type": "code",
      "metadata": {
        "colab": {
          "base_uri": "https://localhost:8080/"
        },
        "id": "OewcdOe5NeNK",
        "outputId": "9284d808-faa8-48db-943b-1d31e7938a38"
      },
      "source": [
        "sa=\"emma ama a mama\"\n",
        "sa2={i for i in sa if i == \"m\"}\n",
        "print (sa2)"
      ],
      "execution_count": 1,
      "outputs": [
        {
          "output_type": "stream",
          "text": [
            "{'m'}\n"
          ],
          "name": "stdout"
        }
      ]
    },
    {
      "cell_type": "markdown",
      "metadata": {
        "id": "-a9XE1zZOUnx"
      },
      "source": [
        "ahora veamos a continuacion el caso dediccionarios de comprension. la unica diferencia que tiene respecto a las listas o conjuntos de comprension es la especificacion de llaves o claves(keys)"
      ]
    },
    {
      "cell_type": "code",
      "metadata": {
        "colab": {
          "base_uri": "https://localhost:8080/"
        },
        "id": "Sf87OPX0OpV8",
        "outputId": "f991690c-9de9-403d-ab04-c0101548521d"
      },
      "source": [
        "lista=['nombre','apellido','ciudad']\n",
        "lista2=['maria','rojas','popayan']\n",
        "dict={i:j for i,j in zip (lista, lista2)}\n",
        "print (dict)"
      ],
      "execution_count": 2,
      "outputs": [
        {
          "output_type": "stream",
          "text": [
            "{'nombre': 'maria', 'apellido': 'rojas', 'ciudad': 'popayan'}\n"
          ],
          "name": "stdout"
        }
      ]
    },
    {
      "cell_type": "markdown",
      "metadata": {
        "id": "3PmA4uEfPr7L"
      },
      "source": [
        "pudimos observar que añadiendo: asignamos un valor a la llave declarada, a su vez usamos zip() el cual tiene como funcion  iterar dos listas en paralelo, es decir con zip() podemos convertir dos listas en un diccionario y al for se manejaria iterando dos valores en simultaneo."
      ]
    },
    {
      "cell_type": "markdown",
      "metadata": {
        "id": "AV-ObGl8QnxD"
      },
      "source": [
        "**otras estructuras de control**\n",
        "\n",
        "\n",
        "---\n",
        "1. Switch\n",
        "2. break\n",
        "3. Continue\n",
        "4. complemento de iteracion (Enumerate)\n"
      ]
    },
    {
      "cell_type": "markdown",
      "metadata": {
        "id": "vR24Wu8jQ4Ey"
      },
      "source": [
        "**Switch**\n",
        "es una herramienta permite ejecutar diferentes secciones de codigo dependiendo de las condiciones impuestas.\n",
        "\n",
        "su funcion es muy similar a usar if anidadoso varios if por separado al mismo tiempo.\n",
        "\n",
        "sin embargo en python no hay un Switch directo."
      ]
    },
    {
      "cell_type": "markdown",
      "metadata": {
        "id": "Fo-pxrlXu0A6"
      },
      "source": [
        "braek nos permite alterar el comportamienro de los ciclos while y for, Directamente la funcion es la que finaliza los ciclos"
      ]
    },
    {
      "cell_type": "code",
      "metadata": {
        "colab": {
          "base_uri": "https://localhost:8080/"
        },
        "id": "RqNM9-mbt4YE",
        "outputId": "54e0bc20-c73c-4949-f2ec-718c585042bb"
      },
      "source": [
        "x=\"andrea\"\n",
        "for i in x:\n",
        "  if(i==\"e\"):\n",
        "    print(\"se obtuvo la letra e\\n\")\n",
        "    break\n",
        "  print(i,\"\\n\")"
      ],
      "execution_count": null,
      "outputs": [
        {
          "output_type": "stream",
          "text": [
            "a \n",
            "\n",
            "n \n",
            "\n",
            "d \n",
            "\n",
            "r \n",
            "\n",
            "se obtuvo la letra e\n",
            "\n"
          ],
          "name": "stdout"
        }
      ]
    },
    {
      "cell_type": "code",
      "metadata": {
        "id": "cJ1Wv1qeu_P4"
      },
      "source": [
        "x=15\n",
        "while True:\n",
        "  x-=1\n",
        "  print(x)\n",
        "\n",
        "  if(x==0):\n",
        "    break\n",
        "    "
      ],
      "execution_count": null,
      "outputs": []
    },
    {
      "cell_type": "markdown",
      "metadata": {
        "id": "PytxEoda6PIg"
      },
      "source": [
        "funciones \n",
        "la funcion nos permite ordenar de manera deacuad la generacion de objetivos y bloques de codigo por ciclos y demas estructuras\n",
        "\n",
        "la sintaxis es la siguiente\n",
        "def nombre_funcion(argumentos):\n",
        "nombre_funcion(argumentos)"
      ]
    },
    {
      "cell_type": "code",
      "metadata": {
        "colab": {
          "base_uri": "https://localhost:8080/"
        },
        "id": "Oed6gLaC7N6L",
        "outputId": "cfc78b54-7844-4a36-ef97-dc4758fc58c8"
      },
      "source": [
        "def f(a):\n",
        "  return 2*a\n",
        "\n",
        "y=f(3)#llamamos o invocamos a la funcion \n",
        "print(y)"
      ],
      "execution_count": null,
      "outputs": [
        {
          "output_type": "stream",
          "text": [
            "6\n"
          ],
          "name": "stdout"
        }
      ]
    },
    {
      "cell_type": "markdown",
      "metadata": {
        "id": "l6jwCav-7ikE"
      },
      "source": [
        "las funciones no solo realizan una operacion con sus entradas (argumentos de inicio), si no tambien parten de los siguientes principios:\n",
        "\n",
        "1. reusabilidad\n",
        "si tenem,os un fragmento de codigo usado en muchos sitios, y se guarda en una funcion nos evitara tener codigo repetido\n",
        "Además de a conveniencia que tiene por ser facilmente editable.\n",
        "\n",
        "\n",
        "2. mosularidad \n",
        "permite legibilidad de forma mas sencilla es decir los largos bloques de codigo pueden agrupar en modulo o funciones la lectura va a ser mucho mas sencilla\n"
      ]
    },
    {
      "cell_type": "code",
      "metadata": {
        "id": "5_mfzPQp6M75"
      },
      "source": [
        ""
      ],
      "execution_count": null,
      "outputs": []
    },
    {
      "cell_type": "code",
      "metadata": {
        "id": "nVNUOBuI8lw_"
      },
      "source": [
        "#elemplo 1 sin argumentos de entrada ni parametros de salida\n",
        "de s(): #declaracion de la funcion \n",
        "print (\"hello luisa\")\n",
        "s() # al cerrar la definicion de funcion me va a aparecer la ejecucion de codigo"
      ],
      "execution_count": null,
      "outputs": []
    },
    {
      "cell_type": "code",
      "metadata": {
        "colab": {
          "base_uri": "https://localhost:8080/"
        },
        "id": "mE3CFo-C9XLJ",
        "outputId": "7221c66d-729e-4e65-9648-05baa2c005eb"
      },
      "source": [
        "#ejemplo 2 incluir argumentos de entrada\n",
        "def s(apellido):\n",
        "  print (\"hola luisa\", apellido)\n",
        "\n",
        "s(\"varon\")"
      ],
      "execution_count": null,
      "outputs": [
        {
          "output_type": "stream",
          "text": [
            "hola luisa varon\n"
          ],
          "name": "stdout"
        }
      ]
    },
    {
      "cell_type": "code",
      "metadata": {
        "colab": {
          "base_uri": "https://localhost:8080/"
        },
        "id": "JYgfBTPU97Br",
        "outputId": "20f04213-f1a1-458d-8654-6cc4f11cdaaf"
      },
      "source": [
        "#ejemplo 3 usando dos argumentos de entrada y salida y operacion matematica\n",
        "def suma(a,b):\n",
        "  return a+b\n",
        "suma(8,3)"
      ],
      "execution_count": null,
      "outputs": [
        {
          "output_type": "execute_result",
          "data": {
            "text/plain": [
              "11"
            ]
          },
          "metadata": {
            "tags": []
          },
          "execution_count": 5
        }
      ]
    },
    {
      "cell_type": "code",
      "metadata": {
        "colab": {
          "base_uri": "https://localhost:8080/"
        },
        "id": "Ml4kwR8G-2tG",
        "outputId": "099ee973-07e2-46be-923a-06c5c9f39133"
      },
      "source": [
        "#ejemplo de usabilidad del codigo\n",
        "suma(a=5, b=52)"
      ],
      "execution_count": null,
      "outputs": [
        {
          "output_type": "execute_result",
          "data": {
            "text/plain": [
              "57"
            ]
          },
          "metadata": {
            "tags": []
          },
          "execution_count": 6
        }
      ]
    },
    {
      "cell_type": "code",
      "metadata": {
        "colab": {
          "base_uri": "https://localhost:8080/"
        },
        "id": "Q3ptf6we_f-3",
        "outputId": "41a92977-4a91-4adf-aaa6-9fc1f1725a52"
      },
      "source": [
        "#ejemplo de argumentos fijos desde el inicio\n",
        "def suma (a,b,c,d=1):\n",
        "  return a+b+c+d\n",
        "\n",
        "suma(2,3,4)"
      ],
      "execution_count": null,
      "outputs": [
        {
          "output_type": "execute_result",
          "data": {
            "text/plain": [
              "10"
            ]
          },
          "metadata": {
            "tags": []
          },
          "execution_count": 11
        }
      ]
    },
    {
      "cell_type": "code",
      "metadata": {
        "colab": {
          "base_uri": "https://localhost:8080/"
        },
        "id": "a8uAyJKYBM5r",
        "outputId": "ed927786-bbfa-4269-fd29-bb4f77cdbbc6"
      },
      "source": [
        "def suma( a=2, b=6,c=9,d=4):\n",
        "  return a+b+c+d\n",
        "\n",
        "suma(5)\n",
        "suma(a=4,c=98)"
      ],
      "execution_count": null,
      "outputs": [
        {
          "output_type": "execute_result",
          "data": {
            "text/plain": [
              "112"
            ]
          },
          "metadata": {
            "tags": []
          },
          "execution_count": 15
        }
      ]
    },
    {
      "cell_type": "code",
      "metadata": {
        "colab": {
          "base_uri": "https://localhost:8080/"
        },
        "id": "hlDGFcA8Blj1",
        "outputId": "ee33134f-7824-4555-c280-66c78c60b9d5"
      },
      "source": [
        "#argumentos de longitud variable\n",
        "def suma(number):\n",
        "  total=0\n",
        "  for i in number:\n",
        "    total +=i\n",
        "  return total\n",
        "\n",
        "suma([1,3,5,4])\n",
        "\n"
      ],
      "execution_count": null,
      "outputs": [
        {
          "output_type": "execute_result",
          "data": {
            "text/plain": [
              "13"
            ]
          },
          "metadata": {
            "tags": []
          },
          "execution_count": 23
        }
      ]
    },
    {
      "cell_type": "markdown",
      "metadata": {
        "id": "cWMVbbURC7yo"
      },
      "source": [
        "se realizo la suma de todos los numeros de entrada la declaracion de los argumentos de salida seria una lista\n",
        "\n",
        "la forma de sintaxis anterior es valida sin embargo, tenemos un solo argumento que es una lista de numeros\n",
        "\n",
        "s declaramos un argumento * esto hara que el argumento guardado como tupla de manera automatica\n"
      ]
    },
    {
      "cell_type": "code",
      "metadata": {
        "colab": {
          "base_uri": "https://localhost:8080/"
        },
        "id": "uhXk4YUjDwmc",
        "outputId": "7d9c7834-6b13-41c8-8376-1cf980f8c864"
      },
      "source": [
        "def suma(*number):\n",
        "  print(type(number))\n",
        "  total =0\n",
        "  for i in number:\n",
        "    total +=i\n",
        "  return total\n",
        "\n",
        "suma(2,3,4,4)"
      ],
      "execution_count": null,
      "outputs": [
        {
          "output_type": "stream",
          "text": [
            "<class 'tuple'>\n"
          ],
          "name": "stdout"
        },
        {
          "output_type": "execute_result",
          "data": {
            "text/plain": [
              "13"
            ]
          },
          "metadata": {
            "tags": []
          },
          "execution_count": 22
        }
      ]
    }
  ]
}