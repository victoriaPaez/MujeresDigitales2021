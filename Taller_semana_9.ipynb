{
  "nbformat": 4,
  "nbformat_minor": 0,
  "metadata": {
    "colab": {
      "name": "Taller semana 9.ipynb",
      "provenance": [],
      "collapsed_sections": [
        "509TAlLOehsK",
        "JCqoynxwehsN",
        "wx6jroyEuOpr",
        "labyBU0K6IIy",
        "FPSrcfQfuMbS",
        "VyOTSf82xgCD",
        "eLsdXPfzPAdJ",
        "lrqwfXmDw5cC"
      ],
      "include_colab_link": true
    },
    "kernelspec": {
      "display_name": "Python 3",
      "language": "python",
      "name": "python3"
    },
    "language_info": {
      "codemirror_mode": {
        "name": "ipython",
        "version": 3
      },
      "file_extension": ".py",
      "mimetype": "text/x-python",
      "name": "python",
      "nbconvert_exporter": "python",
      "pygments_lexer": "ipython3",
      "version": "3.8.11"
    }
  },
  "cells": [
    {
      "cell_type": "markdown",
      "metadata": {
        "id": "view-in-github",
        "colab_type": "text"
      },
      "source": [
        "<a href=\"https://colab.research.google.com/github/victoriaPaez/MujeresDigitales2021/blob/main/Taller_semana_9.ipynb\" target=\"_parent\"><img src=\"https://colab.research.google.com/assets/colab-badge.svg\" alt=\"Open In Colab\"/></a>"
      ]
    },
    {
      "cell_type": "markdown",
      "metadata": {
        "id": "7kX7MaXwvNyX"
      },
      "source": [
        "# Predicción de pagos a préstamos"
      ]
    },
    {
      "cell_type": "markdown",
      "metadata": {
        "id": "5GAsfaWFvNyc"
      },
      "source": [
        "## Introducción"
      ]
    },
    {
      "cell_type": "markdown",
      "metadata": {
        "id": "BwA5B3BSvNyd"
      },
      "source": [
        "**Contexto comercial.** Como analista de un banco se le entrega un conjunto de datos con información de los clientes y si pagaron el crédito o no. Su jefe le pida que entrene algunos modelos para responder la pregunta: si un usuario incurrirá en incumplimiento o no. El algoritmo para predecir la probabilidad de incumplimiento es el núcleo del negocio.\n",
        "\n",
        "**Problema comercial.** Su tarea es **crear un modelo de clasificación para determinar si un usuario incumplirá con su préstamo o no**.\n",
        "\n",
        "**Contexto analítico.** Como científico de datos, ahora debe concentrarse en perfeccionar el algoritmo de clasificación. Debe verificar cuantitativamente que el algoritmo funcionará para datos futuros. Además, debe expandir su conjunto de herramientas para no depender únicamente de la regresión logística, ya que tiene algunas deficiencias que se manejan mejor con otros tipos de modelos. "
      ]
    },
    {
      "cell_type": "markdown",
      "metadata": {
        "id": "C1zD6LENvNyd"
      },
      "source": [
        "## Evaluar los diferentes modelos"
      ]
    },
    {
      "cell_type": "code",
      "metadata": {
        "id": "MrD6hbRZvNye"
      },
      "source": [
        "import pandas as pd\n",
        "from sklearn.linear_model import LogisticRegression\n",
        "from sklearn.ensemble import RandomForestClassifier\n",
        "from sklearn.neighbors import KNeighborsClassifier\n",
        "from sklearn.model_selection import train_test_split\n",
        "from sklearn.metrics import precision_score\n",
        "from sklearn.model_selection import RandomizedSearchCV\n",
        "import statsmodels.api as sm"
      ],
      "execution_count": 1146,
      "outputs": []
    },
    {
      "cell_type": "code",
      "metadata": {
        "id": "Q1QTa0S1ehsG"
      },
      "source": [
        "df = pd.read_csv(\"Lending_club_cleaned_2.csv\")"
      ],
      "execution_count": 1147,
      "outputs": []
    },
    {
      "cell_type": "code",
      "metadata": {
        "id": "HwhmLOgwvNyg",
        "scrolled": true,
        "colab": {
          "base_uri": "https://localhost:8080/",
          "height": 201
        },
        "outputId": "6ec79a2a-a14a-491e-9033-559b62fd7586"
      },
      "source": [
        "df.head()"
      ],
      "execution_count": 1148,
      "outputs": [
        {
          "output_type": "execute_result",
          "data": {
            "text/html": [
              "<div>\n",
              "<style scoped>\n",
              "    .dataframe tbody tr th:only-of-type {\n",
              "        vertical-align: middle;\n",
              "    }\n",
              "\n",
              "    .dataframe tbody tr th {\n",
              "        vertical-align: top;\n",
              "    }\n",
              "\n",
              "    .dataframe thead th {\n",
              "        text-align: right;\n",
              "    }\n",
              "</style>\n",
              "<table border=\"1\" class=\"dataframe\">\n",
              "  <thead>\n",
              "    <tr style=\"text-align: right;\">\n",
              "      <th></th>\n",
              "      <th>loan_status</th>\n",
              "      <th>annual_inc</th>\n",
              "      <th>verification_status</th>\n",
              "      <th>emp_length</th>\n",
              "      <th>home_ownership</th>\n",
              "      <th>int_rate</th>\n",
              "      <th>loan_amnt</th>\n",
              "      <th>purpose</th>\n",
              "      <th>term</th>\n",
              "      <th>grade</th>\n",
              "    </tr>\n",
              "  </thead>\n",
              "  <tbody>\n",
              "    <tr>\n",
              "      <th>0</th>\n",
              "      <td>Fully Paid</td>\n",
              "      <td>24000.0</td>\n",
              "      <td>Verified</td>\n",
              "      <td>10+ years</td>\n",
              "      <td>RENT</td>\n",
              "      <td>10.65%</td>\n",
              "      <td>5000</td>\n",
              "      <td>credit_card</td>\n",
              "      <td>36 months</td>\n",
              "      <td>B</td>\n",
              "    </tr>\n",
              "    <tr>\n",
              "      <th>1</th>\n",
              "      <td>Charged Off</td>\n",
              "      <td>30000.0</td>\n",
              "      <td>Source Verified</td>\n",
              "      <td>&lt; 1 year</td>\n",
              "      <td>RENT</td>\n",
              "      <td>15.27%</td>\n",
              "      <td>2500</td>\n",
              "      <td>car</td>\n",
              "      <td>60 months</td>\n",
              "      <td>C</td>\n",
              "    </tr>\n",
              "    <tr>\n",
              "      <th>2</th>\n",
              "      <td>Fully Paid</td>\n",
              "      <td>12252.0</td>\n",
              "      <td>Not Verified</td>\n",
              "      <td>10+ years</td>\n",
              "      <td>RENT</td>\n",
              "      <td>15.96%</td>\n",
              "      <td>2400</td>\n",
              "      <td>small_business</td>\n",
              "      <td>36 months</td>\n",
              "      <td>C</td>\n",
              "    </tr>\n",
              "    <tr>\n",
              "      <th>3</th>\n",
              "      <td>Fully Paid</td>\n",
              "      <td>49200.0</td>\n",
              "      <td>Source Verified</td>\n",
              "      <td>10+ years</td>\n",
              "      <td>RENT</td>\n",
              "      <td>13.49%</td>\n",
              "      <td>10000</td>\n",
              "      <td>other</td>\n",
              "      <td>36 months</td>\n",
              "      <td>C</td>\n",
              "    </tr>\n",
              "    <tr>\n",
              "      <th>4</th>\n",
              "      <td>Fully Paid</td>\n",
              "      <td>80000.0</td>\n",
              "      <td>Source Verified</td>\n",
              "      <td>1 year</td>\n",
              "      <td>RENT</td>\n",
              "      <td>12.69%</td>\n",
              "      <td>3000</td>\n",
              "      <td>other</td>\n",
              "      <td>60 months</td>\n",
              "      <td>B</td>\n",
              "    </tr>\n",
              "  </tbody>\n",
              "</table>\n",
              "</div>"
            ],
            "text/plain": [
              "   loan_status  annual_inc  ...        term grade\n",
              "0   Fully Paid     24000.0  ...   36 months     B\n",
              "1  Charged Off     30000.0  ...   60 months     C\n",
              "2   Fully Paid     12252.0  ...   36 months     C\n",
              "3   Fully Paid     49200.0  ...   36 months     C\n",
              "4   Fully Paid     80000.0  ...   60 months     B\n",
              "\n",
              "[5 rows x 10 columns]"
            ]
          },
          "metadata": {},
          "execution_count": 1148
        }
      ]
    },
    {
      "cell_type": "code",
      "metadata": {
        "id": "UnW7Fa3qhecS",
        "colab": {
          "base_uri": "https://localhost:8080/"
        },
        "outputId": "e62116fe-9c1d-41bf-d515-94c588bddd79"
      },
      "source": [
        "df.shape"
      ],
      "execution_count": 1149,
      "outputs": [
        {
          "output_type": "execute_result",
          "data": {
            "text/plain": [
              "(38705, 10)"
            ]
          },
          "metadata": {},
          "execution_count": 1149
        }
      ]
    },
    {
      "cell_type": "code",
      "metadata": {
        "id": "7ks6j_oMS0ZY",
        "colab": {
          "base_uri": "https://localhost:8080/",
          "height": 201
        },
        "outputId": "782bb93c-3c20-4c68-950d-8d7f294705b2"
      },
      "source": [
        "# copiamos el dataframe para no alterar el dataframe original\n",
        "dfk=df.copy()\n",
        "dfk.head()"
      ],
      "execution_count": 1150,
      "outputs": [
        {
          "output_type": "execute_result",
          "data": {
            "text/html": [
              "<div>\n",
              "<style scoped>\n",
              "    .dataframe tbody tr th:only-of-type {\n",
              "        vertical-align: middle;\n",
              "    }\n",
              "\n",
              "    .dataframe tbody tr th {\n",
              "        vertical-align: top;\n",
              "    }\n",
              "\n",
              "    .dataframe thead th {\n",
              "        text-align: right;\n",
              "    }\n",
              "</style>\n",
              "<table border=\"1\" class=\"dataframe\">\n",
              "  <thead>\n",
              "    <tr style=\"text-align: right;\">\n",
              "      <th></th>\n",
              "      <th>loan_status</th>\n",
              "      <th>annual_inc</th>\n",
              "      <th>verification_status</th>\n",
              "      <th>emp_length</th>\n",
              "      <th>home_ownership</th>\n",
              "      <th>int_rate</th>\n",
              "      <th>loan_amnt</th>\n",
              "      <th>purpose</th>\n",
              "      <th>term</th>\n",
              "      <th>grade</th>\n",
              "    </tr>\n",
              "  </thead>\n",
              "  <tbody>\n",
              "    <tr>\n",
              "      <th>0</th>\n",
              "      <td>Fully Paid</td>\n",
              "      <td>24000.0</td>\n",
              "      <td>Verified</td>\n",
              "      <td>10+ years</td>\n",
              "      <td>RENT</td>\n",
              "      <td>10.65%</td>\n",
              "      <td>5000</td>\n",
              "      <td>credit_card</td>\n",
              "      <td>36 months</td>\n",
              "      <td>B</td>\n",
              "    </tr>\n",
              "    <tr>\n",
              "      <th>1</th>\n",
              "      <td>Charged Off</td>\n",
              "      <td>30000.0</td>\n",
              "      <td>Source Verified</td>\n",
              "      <td>&lt; 1 year</td>\n",
              "      <td>RENT</td>\n",
              "      <td>15.27%</td>\n",
              "      <td>2500</td>\n",
              "      <td>car</td>\n",
              "      <td>60 months</td>\n",
              "      <td>C</td>\n",
              "    </tr>\n",
              "    <tr>\n",
              "      <th>2</th>\n",
              "      <td>Fully Paid</td>\n",
              "      <td>12252.0</td>\n",
              "      <td>Not Verified</td>\n",
              "      <td>10+ years</td>\n",
              "      <td>RENT</td>\n",
              "      <td>15.96%</td>\n",
              "      <td>2400</td>\n",
              "      <td>small_business</td>\n",
              "      <td>36 months</td>\n",
              "      <td>C</td>\n",
              "    </tr>\n",
              "    <tr>\n",
              "      <th>3</th>\n",
              "      <td>Fully Paid</td>\n",
              "      <td>49200.0</td>\n",
              "      <td>Source Verified</td>\n",
              "      <td>10+ years</td>\n",
              "      <td>RENT</td>\n",
              "      <td>13.49%</td>\n",
              "      <td>10000</td>\n",
              "      <td>other</td>\n",
              "      <td>36 months</td>\n",
              "      <td>C</td>\n",
              "    </tr>\n",
              "    <tr>\n",
              "      <th>4</th>\n",
              "      <td>Fully Paid</td>\n",
              "      <td>80000.0</td>\n",
              "      <td>Source Verified</td>\n",
              "      <td>1 year</td>\n",
              "      <td>RENT</td>\n",
              "      <td>12.69%</td>\n",
              "      <td>3000</td>\n",
              "      <td>other</td>\n",
              "      <td>60 months</td>\n",
              "      <td>B</td>\n",
              "    </tr>\n",
              "  </tbody>\n",
              "</table>\n",
              "</div>"
            ],
            "text/plain": [
              "   loan_status  annual_inc  ...        term grade\n",
              "0   Fully Paid     24000.0  ...   36 months     B\n",
              "1  Charged Off     30000.0  ...   60 months     C\n",
              "2   Fully Paid     12252.0  ...   36 months     C\n",
              "3   Fully Paid     49200.0  ...   36 months     C\n",
              "4   Fully Paid     80000.0  ...   60 months     B\n",
              "\n",
              "[5 rows x 10 columns]"
            ]
          },
          "metadata": {},
          "execution_count": 1150
        }
      ]
    },
    {
      "cell_type": "markdown",
      "metadata": {
        "id": "509TAlLOehsK"
      },
      "source": [
        "## Ejercicio 1\n",
        "\n",
        "Realice una estandarización de los datos númericos usando el promedio y la desviación estándar esto es: $(datos - promedio) / desviación\\ estándar$, para las columnas ```[loan_amnt, int_rate, annual_inc]```. Y para las variables categóricas use one hot encoding ```[home_ownership, purpose, grade, loan_status]```.\n",
        "\n",
        "Tip: Para las variables categóricas recuerde que puede usar la función de pandas: get_dummies"
      ]
    },
    {
      "cell_type": "code",
      "metadata": {
        "id": "GKpwXufukvPC",
        "colab": {
          "base_uri": "https://localhost:8080/",
          "height": 201
        },
        "outputId": "8b562f80-2566-4b0e-f0df-2864c6518673"
      },
      "source": [
        "# copiamos el dataframe para no alterar el dataframe original\n",
        "dfN=df.copy()\n",
        "dfN.head()"
      ],
      "execution_count": 1151,
      "outputs": [
        {
          "output_type": "execute_result",
          "data": {
            "text/html": [
              "<div>\n",
              "<style scoped>\n",
              "    .dataframe tbody tr th:only-of-type {\n",
              "        vertical-align: middle;\n",
              "    }\n",
              "\n",
              "    .dataframe tbody tr th {\n",
              "        vertical-align: top;\n",
              "    }\n",
              "\n",
              "    .dataframe thead th {\n",
              "        text-align: right;\n",
              "    }\n",
              "</style>\n",
              "<table border=\"1\" class=\"dataframe\">\n",
              "  <thead>\n",
              "    <tr style=\"text-align: right;\">\n",
              "      <th></th>\n",
              "      <th>loan_status</th>\n",
              "      <th>annual_inc</th>\n",
              "      <th>verification_status</th>\n",
              "      <th>emp_length</th>\n",
              "      <th>home_ownership</th>\n",
              "      <th>int_rate</th>\n",
              "      <th>loan_amnt</th>\n",
              "      <th>purpose</th>\n",
              "      <th>term</th>\n",
              "      <th>grade</th>\n",
              "    </tr>\n",
              "  </thead>\n",
              "  <tbody>\n",
              "    <tr>\n",
              "      <th>0</th>\n",
              "      <td>Fully Paid</td>\n",
              "      <td>24000.0</td>\n",
              "      <td>Verified</td>\n",
              "      <td>10+ years</td>\n",
              "      <td>RENT</td>\n",
              "      <td>10.65%</td>\n",
              "      <td>5000</td>\n",
              "      <td>credit_card</td>\n",
              "      <td>36 months</td>\n",
              "      <td>B</td>\n",
              "    </tr>\n",
              "    <tr>\n",
              "      <th>1</th>\n",
              "      <td>Charged Off</td>\n",
              "      <td>30000.0</td>\n",
              "      <td>Source Verified</td>\n",
              "      <td>&lt; 1 year</td>\n",
              "      <td>RENT</td>\n",
              "      <td>15.27%</td>\n",
              "      <td>2500</td>\n",
              "      <td>car</td>\n",
              "      <td>60 months</td>\n",
              "      <td>C</td>\n",
              "    </tr>\n",
              "    <tr>\n",
              "      <th>2</th>\n",
              "      <td>Fully Paid</td>\n",
              "      <td>12252.0</td>\n",
              "      <td>Not Verified</td>\n",
              "      <td>10+ years</td>\n",
              "      <td>RENT</td>\n",
              "      <td>15.96%</td>\n",
              "      <td>2400</td>\n",
              "      <td>small_business</td>\n",
              "      <td>36 months</td>\n",
              "      <td>C</td>\n",
              "    </tr>\n",
              "    <tr>\n",
              "      <th>3</th>\n",
              "      <td>Fully Paid</td>\n",
              "      <td>49200.0</td>\n",
              "      <td>Source Verified</td>\n",
              "      <td>10+ years</td>\n",
              "      <td>RENT</td>\n",
              "      <td>13.49%</td>\n",
              "      <td>10000</td>\n",
              "      <td>other</td>\n",
              "      <td>36 months</td>\n",
              "      <td>C</td>\n",
              "    </tr>\n",
              "    <tr>\n",
              "      <th>4</th>\n",
              "      <td>Fully Paid</td>\n",
              "      <td>80000.0</td>\n",
              "      <td>Source Verified</td>\n",
              "      <td>1 year</td>\n",
              "      <td>RENT</td>\n",
              "      <td>12.69%</td>\n",
              "      <td>3000</td>\n",
              "      <td>other</td>\n",
              "      <td>60 months</td>\n",
              "      <td>B</td>\n",
              "    </tr>\n",
              "  </tbody>\n",
              "</table>\n",
              "</div>"
            ],
            "text/plain": [
              "   loan_status  annual_inc  ...        term grade\n",
              "0   Fully Paid     24000.0  ...   36 months     B\n",
              "1  Charged Off     30000.0  ...   60 months     C\n",
              "2   Fully Paid     12252.0  ...   36 months     C\n",
              "3   Fully Paid     49200.0  ...   36 months     C\n",
              "4   Fully Paid     80000.0  ...   60 months     B\n",
              "\n",
              "[5 rows x 10 columns]"
            ]
          },
          "metadata": {},
          "execution_count": 1151
        }
      ]
    },
    {
      "cell_type": "code",
      "metadata": {
        "id": "BYW7zi84kwTb",
        "colab": {
          "base_uri": "https://localhost:8080/",
          "height": 201
        },
        "outputId": "e55b4916-b304-4f39-e567-1bcc62dfd69b"
      },
      "source": [
        "#seleccionamos las columas que estamos interesados \n",
        "dfN=dfN[['loan_status','annual_inc','int_rate','loan_amnt','home_ownership','purpose','grade']]\n",
        "dfN.head()"
      ],
      "execution_count": 1152,
      "outputs": [
        {
          "output_type": "execute_result",
          "data": {
            "text/html": [
              "<div>\n",
              "<style scoped>\n",
              "    .dataframe tbody tr th:only-of-type {\n",
              "        vertical-align: middle;\n",
              "    }\n",
              "\n",
              "    .dataframe tbody tr th {\n",
              "        vertical-align: top;\n",
              "    }\n",
              "\n",
              "    .dataframe thead th {\n",
              "        text-align: right;\n",
              "    }\n",
              "</style>\n",
              "<table border=\"1\" class=\"dataframe\">\n",
              "  <thead>\n",
              "    <tr style=\"text-align: right;\">\n",
              "      <th></th>\n",
              "      <th>loan_status</th>\n",
              "      <th>annual_inc</th>\n",
              "      <th>int_rate</th>\n",
              "      <th>loan_amnt</th>\n",
              "      <th>home_ownership</th>\n",
              "      <th>purpose</th>\n",
              "      <th>grade</th>\n",
              "    </tr>\n",
              "  </thead>\n",
              "  <tbody>\n",
              "    <tr>\n",
              "      <th>0</th>\n",
              "      <td>Fully Paid</td>\n",
              "      <td>24000.0</td>\n",
              "      <td>10.65%</td>\n",
              "      <td>5000</td>\n",
              "      <td>RENT</td>\n",
              "      <td>credit_card</td>\n",
              "      <td>B</td>\n",
              "    </tr>\n",
              "    <tr>\n",
              "      <th>1</th>\n",
              "      <td>Charged Off</td>\n",
              "      <td>30000.0</td>\n",
              "      <td>15.27%</td>\n",
              "      <td>2500</td>\n",
              "      <td>RENT</td>\n",
              "      <td>car</td>\n",
              "      <td>C</td>\n",
              "    </tr>\n",
              "    <tr>\n",
              "      <th>2</th>\n",
              "      <td>Fully Paid</td>\n",
              "      <td>12252.0</td>\n",
              "      <td>15.96%</td>\n",
              "      <td>2400</td>\n",
              "      <td>RENT</td>\n",
              "      <td>small_business</td>\n",
              "      <td>C</td>\n",
              "    </tr>\n",
              "    <tr>\n",
              "      <th>3</th>\n",
              "      <td>Fully Paid</td>\n",
              "      <td>49200.0</td>\n",
              "      <td>13.49%</td>\n",
              "      <td>10000</td>\n",
              "      <td>RENT</td>\n",
              "      <td>other</td>\n",
              "      <td>C</td>\n",
              "    </tr>\n",
              "    <tr>\n",
              "      <th>4</th>\n",
              "      <td>Fully Paid</td>\n",
              "      <td>80000.0</td>\n",
              "      <td>12.69%</td>\n",
              "      <td>3000</td>\n",
              "      <td>RENT</td>\n",
              "      <td>other</td>\n",
              "      <td>B</td>\n",
              "    </tr>\n",
              "  </tbody>\n",
              "</table>\n",
              "</div>"
            ],
            "text/plain": [
              "   loan_status  annual_inc int_rate  ...  home_ownership         purpose grade\n",
              "0   Fully Paid     24000.0   10.65%  ...            RENT     credit_card     B\n",
              "1  Charged Off     30000.0   15.27%  ...            RENT             car     C\n",
              "2   Fully Paid     12252.0   15.96%  ...            RENT  small_business     C\n",
              "3   Fully Paid     49200.0   13.49%  ...            RENT           other     C\n",
              "4   Fully Paid     80000.0   12.69%  ...            RENT           other     B\n",
              "\n",
              "[5 rows x 7 columns]"
            ]
          },
          "metadata": {},
          "execution_count": 1152
        }
      ]
    },
    {
      "cell_type": "code",
      "metadata": {
        "colab": {
          "base_uri": "https://localhost:8080/"
        },
        "id": "zk5V7N__Bmnq",
        "outputId": "e6a4e311-cc8b-4f03-8b50-e4739de4a569"
      },
      "source": [
        "dfN.shape"
      ],
      "execution_count": 1153,
      "outputs": [
        {
          "output_type": "execute_result",
          "data": {
            "text/plain": [
              "(38705, 7)"
            ]
          },
          "metadata": {},
          "execution_count": 1153
        }
      ]
    },
    {
      "cell_type": "code",
      "metadata": {
        "colab": {
          "base_uri": "https://localhost:8080/"
        },
        "id": "FV8vy26TxtRo",
        "outputId": "6f5074f8-6014-42bb-c594-a7fe0b5c8710"
      },
      "source": [
        "dfN.dtypes"
      ],
      "execution_count": 1154,
      "outputs": [
        {
          "output_type": "execute_result",
          "data": {
            "text/plain": [
              "loan_status        object\n",
              "annual_inc        float64\n",
              "int_rate           object\n",
              "loan_amnt           int64\n",
              "home_ownership     object\n",
              "purpose            object\n",
              "grade              object\n",
              "dtype: object"
            ]
          },
          "metadata": {},
          "execution_count": 1154
        }
      ]
    },
    {
      "cell_type": "code",
      "metadata": {
        "id": "CvXn0cA8xqdF"
      },
      "source": [
        "dfN[\"int_rate\"] = dfN[\"int_rate\"].str.rstrip('%').astype('float')"
      ],
      "execution_count": 1155,
      "outputs": []
    },
    {
      "cell_type": "code",
      "metadata": {
        "colab": {
          "base_uri": "https://localhost:8080/",
          "height": 292
        },
        "id": "v8pXwXu36GyQ",
        "outputId": "c7df8b60-3ce7-4166-eebb-80ae328aa1b0"
      },
      "source": [
        "dfN.describe()"
      ],
      "execution_count": 1156,
      "outputs": [
        {
          "output_type": "execute_result",
          "data": {
            "text/html": [
              "<div>\n",
              "<style scoped>\n",
              "    .dataframe tbody tr th:only-of-type {\n",
              "        vertical-align: middle;\n",
              "    }\n",
              "\n",
              "    .dataframe tbody tr th {\n",
              "        vertical-align: top;\n",
              "    }\n",
              "\n",
              "    .dataframe thead th {\n",
              "        text-align: right;\n",
              "    }\n",
              "</style>\n",
              "<table border=\"1\" class=\"dataframe\">\n",
              "  <thead>\n",
              "    <tr style=\"text-align: right;\">\n",
              "      <th></th>\n",
              "      <th>annual_inc</th>\n",
              "      <th>int_rate</th>\n",
              "      <th>loan_amnt</th>\n",
              "    </tr>\n",
              "  </thead>\n",
              "  <tbody>\n",
              "    <tr>\n",
              "      <th>count</th>\n",
              "      <td>3.870500e+04</td>\n",
              "      <td>38705.000000</td>\n",
              "      <td>38705.000000</td>\n",
              "    </tr>\n",
              "    <tr>\n",
              "      <th>mean</th>\n",
              "      <td>6.961750e+04</td>\n",
              "      <td>12.059525</td>\n",
              "      <td>11303.916161</td>\n",
              "    </tr>\n",
              "    <tr>\n",
              "      <th>std</th>\n",
              "      <td>6.422378e+04</td>\n",
              "      <td>3.719517</td>\n",
              "      <td>7470.319733</td>\n",
              "    </tr>\n",
              "    <tr>\n",
              "      <th>min</th>\n",
              "      <td>4.000000e+03</td>\n",
              "      <td>5.420000</td>\n",
              "      <td>500.000000</td>\n",
              "    </tr>\n",
              "    <tr>\n",
              "      <th>25%</th>\n",
              "      <td>4.149600e+04</td>\n",
              "      <td>9.320000</td>\n",
              "      <td>5500.000000</td>\n",
              "    </tr>\n",
              "    <tr>\n",
              "      <th>50%</th>\n",
              "      <td>6.000000e+04</td>\n",
              "      <td>11.860000</td>\n",
              "      <td>10000.000000</td>\n",
              "    </tr>\n",
              "    <tr>\n",
              "      <th>75%</th>\n",
              "      <td>8.320000e+04</td>\n",
              "      <td>14.590000</td>\n",
              "      <td>15000.000000</td>\n",
              "    </tr>\n",
              "    <tr>\n",
              "      <th>max</th>\n",
              "      <td>6.000000e+06</td>\n",
              "      <td>24.590000</td>\n",
              "      <td>35000.000000</td>\n",
              "    </tr>\n",
              "  </tbody>\n",
              "</table>\n",
              "</div>"
            ],
            "text/plain": [
              "         annual_inc      int_rate     loan_amnt\n",
              "count  3.870500e+04  38705.000000  38705.000000\n",
              "mean   6.961750e+04     12.059525  11303.916161\n",
              "std    6.422378e+04      3.719517   7470.319733\n",
              "min    4.000000e+03      5.420000    500.000000\n",
              "25%    4.149600e+04      9.320000   5500.000000\n",
              "50%    6.000000e+04     11.860000  10000.000000\n",
              "75%    8.320000e+04     14.590000  15000.000000\n",
              "max    6.000000e+06     24.590000  35000.000000"
            ]
          },
          "metadata": {},
          "execution_count": 1156
        }
      ]
    },
    {
      "cell_type": "code",
      "metadata": {
        "colab": {
          "base_uri": "https://localhost:8080/"
        },
        "id": "F2PW7oyuvTX3",
        "outputId": "6c1e1bc5-8cd2-46c5-9b3d-8269ce23e883"
      },
      "source": [
        "dfN.dtypes"
      ],
      "execution_count": 1157,
      "outputs": [
        {
          "output_type": "execute_result",
          "data": {
            "text/plain": [
              "loan_status        object\n",
              "annual_inc        float64\n",
              "int_rate          float64\n",
              "loan_amnt           int64\n",
              "home_ownership     object\n",
              "purpose            object\n",
              "grade              object\n",
              "dtype: object"
            ]
          },
          "metadata": {},
          "execution_count": 1157
        }
      ]
    },
    {
      "cell_type": "code",
      "metadata": {
        "id": "fExzz-VmXnJS",
        "colab": {
          "base_uri": "https://localhost:8080/",
          "height": 221
        },
        "outputId": "e4319707-620b-4263-d9fb-67a33c7ed66b"
      },
      "source": [
        "# Encoding las variables categoricas no numericas \n",
        "dfN2 = pd.get_dummies(dfN, columns=['purpose', 'grade'], drop_first=False)\n",
        "dfN2 = pd.get_dummies(dfN2, columns=['home_ownership'], drop_first=True)\n",
        "dfN2.replace({'loan_status': {\"Charged Off\":0, \"Fully Paid\":1},}, inplace=True)\n",
        "dfN2.head(5)"
      ],
      "execution_count": 1158,
      "outputs": [
        {
          "output_type": "execute_result",
          "data": {
            "text/html": [
              "<div>\n",
              "<style scoped>\n",
              "    .dataframe tbody tr th:only-of-type {\n",
              "        vertical-align: middle;\n",
              "    }\n",
              "\n",
              "    .dataframe tbody tr th {\n",
              "        vertical-align: top;\n",
              "    }\n",
              "\n",
              "    .dataframe thead th {\n",
              "        text-align: right;\n",
              "    }\n",
              "</style>\n",
              "<table border=\"1\" class=\"dataframe\">\n",
              "  <thead>\n",
              "    <tr style=\"text-align: right;\">\n",
              "      <th></th>\n",
              "      <th>loan_status</th>\n",
              "      <th>annual_inc</th>\n",
              "      <th>int_rate</th>\n",
              "      <th>loan_amnt</th>\n",
              "      <th>purpose_car</th>\n",
              "      <th>purpose_credit_card</th>\n",
              "      <th>purpose_debt_consolidation</th>\n",
              "      <th>purpose_educational</th>\n",
              "      <th>purpose_home_improvement</th>\n",
              "      <th>purpose_house</th>\n",
              "      <th>purpose_major_purchase</th>\n",
              "      <th>purpose_medical</th>\n",
              "      <th>purpose_moving</th>\n",
              "      <th>purpose_other</th>\n",
              "      <th>purpose_renewable_energy</th>\n",
              "      <th>purpose_small_business</th>\n",
              "      <th>purpose_vacation</th>\n",
              "      <th>purpose_wedding</th>\n",
              "      <th>grade_A</th>\n",
              "      <th>grade_B</th>\n",
              "      <th>grade_C</th>\n",
              "      <th>grade_D</th>\n",
              "      <th>grade_E</th>\n",
              "      <th>grade_F</th>\n",
              "      <th>grade_G</th>\n",
              "      <th>home_ownership_OTHER</th>\n",
              "      <th>home_ownership_OWN</th>\n",
              "      <th>home_ownership_RENT</th>\n",
              "    </tr>\n",
              "  </thead>\n",
              "  <tbody>\n",
              "    <tr>\n",
              "      <th>0</th>\n",
              "      <td>1</td>\n",
              "      <td>24000.0</td>\n",
              "      <td>10.65</td>\n",
              "      <td>5000</td>\n",
              "      <td>0</td>\n",
              "      <td>1</td>\n",
              "      <td>0</td>\n",
              "      <td>0</td>\n",
              "      <td>0</td>\n",
              "      <td>0</td>\n",
              "      <td>0</td>\n",
              "      <td>0</td>\n",
              "      <td>0</td>\n",
              "      <td>0</td>\n",
              "      <td>0</td>\n",
              "      <td>0</td>\n",
              "      <td>0</td>\n",
              "      <td>0</td>\n",
              "      <td>0</td>\n",
              "      <td>1</td>\n",
              "      <td>0</td>\n",
              "      <td>0</td>\n",
              "      <td>0</td>\n",
              "      <td>0</td>\n",
              "      <td>0</td>\n",
              "      <td>0</td>\n",
              "      <td>0</td>\n",
              "      <td>1</td>\n",
              "    </tr>\n",
              "    <tr>\n",
              "      <th>1</th>\n",
              "      <td>0</td>\n",
              "      <td>30000.0</td>\n",
              "      <td>15.27</td>\n",
              "      <td>2500</td>\n",
              "      <td>1</td>\n",
              "      <td>0</td>\n",
              "      <td>0</td>\n",
              "      <td>0</td>\n",
              "      <td>0</td>\n",
              "      <td>0</td>\n",
              "      <td>0</td>\n",
              "      <td>0</td>\n",
              "      <td>0</td>\n",
              "      <td>0</td>\n",
              "      <td>0</td>\n",
              "      <td>0</td>\n",
              "      <td>0</td>\n",
              "      <td>0</td>\n",
              "      <td>0</td>\n",
              "      <td>0</td>\n",
              "      <td>1</td>\n",
              "      <td>0</td>\n",
              "      <td>0</td>\n",
              "      <td>0</td>\n",
              "      <td>0</td>\n",
              "      <td>0</td>\n",
              "      <td>0</td>\n",
              "      <td>1</td>\n",
              "    </tr>\n",
              "    <tr>\n",
              "      <th>2</th>\n",
              "      <td>1</td>\n",
              "      <td>12252.0</td>\n",
              "      <td>15.96</td>\n",
              "      <td>2400</td>\n",
              "      <td>0</td>\n",
              "      <td>0</td>\n",
              "      <td>0</td>\n",
              "      <td>0</td>\n",
              "      <td>0</td>\n",
              "      <td>0</td>\n",
              "      <td>0</td>\n",
              "      <td>0</td>\n",
              "      <td>0</td>\n",
              "      <td>0</td>\n",
              "      <td>0</td>\n",
              "      <td>1</td>\n",
              "      <td>0</td>\n",
              "      <td>0</td>\n",
              "      <td>0</td>\n",
              "      <td>0</td>\n",
              "      <td>1</td>\n",
              "      <td>0</td>\n",
              "      <td>0</td>\n",
              "      <td>0</td>\n",
              "      <td>0</td>\n",
              "      <td>0</td>\n",
              "      <td>0</td>\n",
              "      <td>1</td>\n",
              "    </tr>\n",
              "    <tr>\n",
              "      <th>3</th>\n",
              "      <td>1</td>\n",
              "      <td>49200.0</td>\n",
              "      <td>13.49</td>\n",
              "      <td>10000</td>\n",
              "      <td>0</td>\n",
              "      <td>0</td>\n",
              "      <td>0</td>\n",
              "      <td>0</td>\n",
              "      <td>0</td>\n",
              "      <td>0</td>\n",
              "      <td>0</td>\n",
              "      <td>0</td>\n",
              "      <td>0</td>\n",
              "      <td>1</td>\n",
              "      <td>0</td>\n",
              "      <td>0</td>\n",
              "      <td>0</td>\n",
              "      <td>0</td>\n",
              "      <td>0</td>\n",
              "      <td>0</td>\n",
              "      <td>1</td>\n",
              "      <td>0</td>\n",
              "      <td>0</td>\n",
              "      <td>0</td>\n",
              "      <td>0</td>\n",
              "      <td>0</td>\n",
              "      <td>0</td>\n",
              "      <td>1</td>\n",
              "    </tr>\n",
              "    <tr>\n",
              "      <th>4</th>\n",
              "      <td>1</td>\n",
              "      <td>80000.0</td>\n",
              "      <td>12.69</td>\n",
              "      <td>3000</td>\n",
              "      <td>0</td>\n",
              "      <td>0</td>\n",
              "      <td>0</td>\n",
              "      <td>0</td>\n",
              "      <td>0</td>\n",
              "      <td>0</td>\n",
              "      <td>0</td>\n",
              "      <td>0</td>\n",
              "      <td>0</td>\n",
              "      <td>1</td>\n",
              "      <td>0</td>\n",
              "      <td>0</td>\n",
              "      <td>0</td>\n",
              "      <td>0</td>\n",
              "      <td>0</td>\n",
              "      <td>1</td>\n",
              "      <td>0</td>\n",
              "      <td>0</td>\n",
              "      <td>0</td>\n",
              "      <td>0</td>\n",
              "      <td>0</td>\n",
              "      <td>0</td>\n",
              "      <td>0</td>\n",
              "      <td>1</td>\n",
              "    </tr>\n",
              "  </tbody>\n",
              "</table>\n",
              "</div>"
            ],
            "text/plain": [
              "   loan_status  annual_inc  ...  home_ownership_OWN  home_ownership_RENT\n",
              "0            1     24000.0  ...                   0                    1\n",
              "1            0     30000.0  ...                   0                    1\n",
              "2            1     12252.0  ...                   0                    1\n",
              "3            1     49200.0  ...                   0                    1\n",
              "4            1     80000.0  ...                   0                    1\n",
              "\n",
              "[5 rows x 28 columns]"
            ]
          },
          "metadata": {},
          "execution_count": 1158
        }
      ]
    },
    {
      "cell_type": "code",
      "metadata": {
        "colab": {
          "base_uri": "https://localhost:8080/"
        },
        "id": "fiqmDdSRuW3P",
        "outputId": "31c7afaa-e327-42e8-c745-9b3cfda23708"
      },
      "source": [
        "dfN2.dtypes"
      ],
      "execution_count": 1159,
      "outputs": [
        {
          "output_type": "execute_result",
          "data": {
            "text/plain": [
              "loan_status                     int64\n",
              "annual_inc                    float64\n",
              "int_rate                      float64\n",
              "loan_amnt                       int64\n",
              "purpose_car                     uint8\n",
              "purpose_credit_card             uint8\n",
              "purpose_debt_consolidation      uint8\n",
              "purpose_educational             uint8\n",
              "purpose_home_improvement        uint8\n",
              "purpose_house                   uint8\n",
              "purpose_major_purchase          uint8\n",
              "purpose_medical                 uint8\n",
              "purpose_moving                  uint8\n",
              "purpose_other                   uint8\n",
              "purpose_renewable_energy        uint8\n",
              "purpose_small_business          uint8\n",
              "purpose_vacation                uint8\n",
              "purpose_wedding                 uint8\n",
              "grade_A                         uint8\n",
              "grade_B                         uint8\n",
              "grade_C                         uint8\n",
              "grade_D                         uint8\n",
              "grade_E                         uint8\n",
              "grade_F                         uint8\n",
              "grade_G                         uint8\n",
              "home_ownership_OTHER            uint8\n",
              "home_ownership_OWN              uint8\n",
              "home_ownership_RENT             uint8\n",
              "dtype: object"
            ]
          },
          "metadata": {},
          "execution_count": 1159
        }
      ]
    },
    {
      "cell_type": "code",
      "metadata": {
        "colab": {
          "base_uri": "https://localhost:8080/",
          "height": 312
        },
        "id": "meu2yUGel7DL",
        "outputId": "967e5db4-c937-4d1b-9a76-42f291aa80e1"
      },
      "source": [
        "dfN2.describe()"
      ],
      "execution_count": 1160,
      "outputs": [
        {
          "output_type": "execute_result",
          "data": {
            "text/html": [
              "<div>\n",
              "<style scoped>\n",
              "    .dataframe tbody tr th:only-of-type {\n",
              "        vertical-align: middle;\n",
              "    }\n",
              "\n",
              "    .dataframe tbody tr th {\n",
              "        vertical-align: top;\n",
              "    }\n",
              "\n",
              "    .dataframe thead th {\n",
              "        text-align: right;\n",
              "    }\n",
              "</style>\n",
              "<table border=\"1\" class=\"dataframe\">\n",
              "  <thead>\n",
              "    <tr style=\"text-align: right;\">\n",
              "      <th></th>\n",
              "      <th>loan_status</th>\n",
              "      <th>annual_inc</th>\n",
              "      <th>int_rate</th>\n",
              "      <th>loan_amnt</th>\n",
              "      <th>purpose_car</th>\n",
              "      <th>purpose_credit_card</th>\n",
              "      <th>purpose_debt_consolidation</th>\n",
              "      <th>purpose_educational</th>\n",
              "      <th>purpose_home_improvement</th>\n",
              "      <th>purpose_house</th>\n",
              "      <th>purpose_major_purchase</th>\n",
              "      <th>purpose_medical</th>\n",
              "      <th>purpose_moving</th>\n",
              "      <th>purpose_other</th>\n",
              "      <th>purpose_renewable_energy</th>\n",
              "      <th>purpose_small_business</th>\n",
              "      <th>purpose_vacation</th>\n",
              "      <th>purpose_wedding</th>\n",
              "      <th>grade_A</th>\n",
              "      <th>grade_B</th>\n",
              "      <th>grade_C</th>\n",
              "      <th>grade_D</th>\n",
              "      <th>grade_E</th>\n",
              "      <th>grade_F</th>\n",
              "      <th>grade_G</th>\n",
              "      <th>home_ownership_OTHER</th>\n",
              "      <th>home_ownership_OWN</th>\n",
              "      <th>home_ownership_RENT</th>\n",
              "    </tr>\n",
              "  </thead>\n",
              "  <tbody>\n",
              "    <tr>\n",
              "      <th>count</th>\n",
              "      <td>38705.000000</td>\n",
              "      <td>3.870500e+04</td>\n",
              "      <td>38705.000000</td>\n",
              "      <td>38705.000000</td>\n",
              "      <td>38705.000000</td>\n",
              "      <td>38705.000000</td>\n",
              "      <td>38705.000000</td>\n",
              "      <td>38705.000000</td>\n",
              "      <td>38705.000000</td>\n",
              "      <td>38705.000000</td>\n",
              "      <td>38705.000000</td>\n",
              "      <td>38705.000000</td>\n",
              "      <td>38705.000000</td>\n",
              "      <td>38705.000000</td>\n",
              "      <td>38705.000000</td>\n",
              "      <td>38705.000000</td>\n",
              "      <td>38705.000000</td>\n",
              "      <td>38705.000000</td>\n",
              "      <td>38705.000000</td>\n",
              "      <td>38705.000000</td>\n",
              "      <td>38705.000000</td>\n",
              "      <td>38705.000000</td>\n",
              "      <td>38705.000000</td>\n",
              "      <td>38705.000000</td>\n",
              "      <td>38705.000000</td>\n",
              "      <td>38705.000000</td>\n",
              "      <td>38705.000000</td>\n",
              "      <td>38705.000000</td>\n",
              "    </tr>\n",
              "    <tr>\n",
              "      <th>mean</th>\n",
              "      <td>0.859450</td>\n",
              "      <td>6.961750e+04</td>\n",
              "      <td>12.059525</td>\n",
              "      <td>11303.916161</td>\n",
              "      <td>0.038729</td>\n",
              "      <td>0.129363</td>\n",
              "      <td>0.472161</td>\n",
              "      <td>0.008190</td>\n",
              "      <td>0.074590</td>\n",
              "      <td>0.009534</td>\n",
              "      <td>0.054670</td>\n",
              "      <td>0.017310</td>\n",
              "      <td>0.014443</td>\n",
              "      <td>0.099160</td>\n",
              "      <td>0.002454</td>\n",
              "      <td>0.046144</td>\n",
              "      <td>0.009094</td>\n",
              "      <td>0.024157</td>\n",
              "      <td>0.250459</td>\n",
              "      <td>0.302209</td>\n",
              "      <td>0.205090</td>\n",
              "      <td>0.134685</td>\n",
              "      <td>0.072626</td>\n",
              "      <td>0.026741</td>\n",
              "      <td>0.008190</td>\n",
              "      <td>0.002532</td>\n",
              "      <td>0.073505</td>\n",
              "      <td>0.478155</td>\n",
              "    </tr>\n",
              "    <tr>\n",
              "      <th>std</th>\n",
              "      <td>0.347562</td>\n",
              "      <td>6.422378e+04</td>\n",
              "      <td>3.719517</td>\n",
              "      <td>7470.319733</td>\n",
              "      <td>0.192950</td>\n",
              "      <td>0.335606</td>\n",
              "      <td>0.499231</td>\n",
              "      <td>0.090129</td>\n",
              "      <td>0.262732</td>\n",
              "      <td>0.097175</td>\n",
              "      <td>0.227338</td>\n",
              "      <td>0.130427</td>\n",
              "      <td>0.119308</td>\n",
              "      <td>0.298881</td>\n",
              "      <td>0.049482</td>\n",
              "      <td>0.209799</td>\n",
              "      <td>0.094931</td>\n",
              "      <td>0.153539</td>\n",
              "      <td>0.433283</td>\n",
              "      <td>0.459221</td>\n",
              "      <td>0.403772</td>\n",
              "      <td>0.341392</td>\n",
              "      <td>0.259525</td>\n",
              "      <td>0.161327</td>\n",
              "      <td>0.090129</td>\n",
              "      <td>0.050256</td>\n",
              "      <td>0.260967</td>\n",
              "      <td>0.499529</td>\n",
              "    </tr>\n",
              "    <tr>\n",
              "      <th>min</th>\n",
              "      <td>0.000000</td>\n",
              "      <td>4.000000e+03</td>\n",
              "      <td>5.420000</td>\n",
              "      <td>500.000000</td>\n",
              "      <td>0.000000</td>\n",
              "      <td>0.000000</td>\n",
              "      <td>0.000000</td>\n",
              "      <td>0.000000</td>\n",
              "      <td>0.000000</td>\n",
              "      <td>0.000000</td>\n",
              "      <td>0.000000</td>\n",
              "      <td>0.000000</td>\n",
              "      <td>0.000000</td>\n",
              "      <td>0.000000</td>\n",
              "      <td>0.000000</td>\n",
              "      <td>0.000000</td>\n",
              "      <td>0.000000</td>\n",
              "      <td>0.000000</td>\n",
              "      <td>0.000000</td>\n",
              "      <td>0.000000</td>\n",
              "      <td>0.000000</td>\n",
              "      <td>0.000000</td>\n",
              "      <td>0.000000</td>\n",
              "      <td>0.000000</td>\n",
              "      <td>0.000000</td>\n",
              "      <td>0.000000</td>\n",
              "      <td>0.000000</td>\n",
              "      <td>0.000000</td>\n",
              "    </tr>\n",
              "    <tr>\n",
              "      <th>25%</th>\n",
              "      <td>1.000000</td>\n",
              "      <td>4.149600e+04</td>\n",
              "      <td>9.320000</td>\n",
              "      <td>5500.000000</td>\n",
              "      <td>0.000000</td>\n",
              "      <td>0.000000</td>\n",
              "      <td>0.000000</td>\n",
              "      <td>0.000000</td>\n",
              "      <td>0.000000</td>\n",
              "      <td>0.000000</td>\n",
              "      <td>0.000000</td>\n",
              "      <td>0.000000</td>\n",
              "      <td>0.000000</td>\n",
              "      <td>0.000000</td>\n",
              "      <td>0.000000</td>\n",
              "      <td>0.000000</td>\n",
              "      <td>0.000000</td>\n",
              "      <td>0.000000</td>\n",
              "      <td>0.000000</td>\n",
              "      <td>0.000000</td>\n",
              "      <td>0.000000</td>\n",
              "      <td>0.000000</td>\n",
              "      <td>0.000000</td>\n",
              "      <td>0.000000</td>\n",
              "      <td>0.000000</td>\n",
              "      <td>0.000000</td>\n",
              "      <td>0.000000</td>\n",
              "      <td>0.000000</td>\n",
              "    </tr>\n",
              "    <tr>\n",
              "      <th>50%</th>\n",
              "      <td>1.000000</td>\n",
              "      <td>6.000000e+04</td>\n",
              "      <td>11.860000</td>\n",
              "      <td>10000.000000</td>\n",
              "      <td>0.000000</td>\n",
              "      <td>0.000000</td>\n",
              "      <td>0.000000</td>\n",
              "      <td>0.000000</td>\n",
              "      <td>0.000000</td>\n",
              "      <td>0.000000</td>\n",
              "      <td>0.000000</td>\n",
              "      <td>0.000000</td>\n",
              "      <td>0.000000</td>\n",
              "      <td>0.000000</td>\n",
              "      <td>0.000000</td>\n",
              "      <td>0.000000</td>\n",
              "      <td>0.000000</td>\n",
              "      <td>0.000000</td>\n",
              "      <td>0.000000</td>\n",
              "      <td>0.000000</td>\n",
              "      <td>0.000000</td>\n",
              "      <td>0.000000</td>\n",
              "      <td>0.000000</td>\n",
              "      <td>0.000000</td>\n",
              "      <td>0.000000</td>\n",
              "      <td>0.000000</td>\n",
              "      <td>0.000000</td>\n",
              "      <td>0.000000</td>\n",
              "    </tr>\n",
              "    <tr>\n",
              "      <th>75%</th>\n",
              "      <td>1.000000</td>\n",
              "      <td>8.320000e+04</td>\n",
              "      <td>14.590000</td>\n",
              "      <td>15000.000000</td>\n",
              "      <td>0.000000</td>\n",
              "      <td>0.000000</td>\n",
              "      <td>1.000000</td>\n",
              "      <td>0.000000</td>\n",
              "      <td>0.000000</td>\n",
              "      <td>0.000000</td>\n",
              "      <td>0.000000</td>\n",
              "      <td>0.000000</td>\n",
              "      <td>0.000000</td>\n",
              "      <td>0.000000</td>\n",
              "      <td>0.000000</td>\n",
              "      <td>0.000000</td>\n",
              "      <td>0.000000</td>\n",
              "      <td>0.000000</td>\n",
              "      <td>1.000000</td>\n",
              "      <td>1.000000</td>\n",
              "      <td>0.000000</td>\n",
              "      <td>0.000000</td>\n",
              "      <td>0.000000</td>\n",
              "      <td>0.000000</td>\n",
              "      <td>0.000000</td>\n",
              "      <td>0.000000</td>\n",
              "      <td>0.000000</td>\n",
              "      <td>1.000000</td>\n",
              "    </tr>\n",
              "    <tr>\n",
              "      <th>max</th>\n",
              "      <td>1.000000</td>\n",
              "      <td>6.000000e+06</td>\n",
              "      <td>24.590000</td>\n",
              "      <td>35000.000000</td>\n",
              "      <td>1.000000</td>\n",
              "      <td>1.000000</td>\n",
              "      <td>1.000000</td>\n",
              "      <td>1.000000</td>\n",
              "      <td>1.000000</td>\n",
              "      <td>1.000000</td>\n",
              "      <td>1.000000</td>\n",
              "      <td>1.000000</td>\n",
              "      <td>1.000000</td>\n",
              "      <td>1.000000</td>\n",
              "      <td>1.000000</td>\n",
              "      <td>1.000000</td>\n",
              "      <td>1.000000</td>\n",
              "      <td>1.000000</td>\n",
              "      <td>1.000000</td>\n",
              "      <td>1.000000</td>\n",
              "      <td>1.000000</td>\n",
              "      <td>1.000000</td>\n",
              "      <td>1.000000</td>\n",
              "      <td>1.000000</td>\n",
              "      <td>1.000000</td>\n",
              "      <td>1.000000</td>\n",
              "      <td>1.000000</td>\n",
              "      <td>1.000000</td>\n",
              "    </tr>\n",
              "  </tbody>\n",
              "</table>\n",
              "</div>"
            ],
            "text/plain": [
              "        loan_status    annual_inc  ...  home_ownership_OWN  home_ownership_RENT\n",
              "count  38705.000000  3.870500e+04  ...        38705.000000         38705.000000\n",
              "mean       0.859450  6.961750e+04  ...            0.073505             0.478155\n",
              "std        0.347562  6.422378e+04  ...            0.260967             0.499529\n",
              "min        0.000000  4.000000e+03  ...            0.000000             0.000000\n",
              "25%        1.000000  4.149600e+04  ...            0.000000             0.000000\n",
              "50%        1.000000  6.000000e+04  ...            0.000000             0.000000\n",
              "75%        1.000000  8.320000e+04  ...            0.000000             1.000000\n",
              "max        1.000000  6.000000e+06  ...            1.000000             1.000000\n",
              "\n",
              "[8 rows x 28 columns]"
            ]
          },
          "metadata": {},
          "execution_count": 1160
        }
      ]
    },
    {
      "cell_type": "code",
      "metadata": {
        "id": "g3UIJafBeC5p"
      },
      "source": [
        "#Variable de interes:loan_amnt\t"
      ],
      "execution_count": 1161,
      "outputs": []
    },
    {
      "cell_type": "code",
      "metadata": {
        "id": "Z8mH6FevJy14"
      },
      "source": [
        "# multiple regression\n",
        "X = dfN2.drop(['loan_amnt','loan_status'], axis=1)\n",
        "y = dfN2[['loan_amnt']].values.ravel()"
      ],
      "execution_count": 1162,
      "outputs": []
    },
    {
      "cell_type": "code",
      "metadata": {
        "id": "R6ryjpZ4oBS9"
      },
      "source": [
        "# Split Train, Validation y Test Data separacion de los datos: entrenamiento 80% y prueba 20%\n",
        "X_rest, X_test, y_rest, y_test = train_test_split(X, y, test_size=0.20, random_state=0)\n",
        "X_train, X_vali, y_train, y_vali = train_test_split(X_rest, y_rest, test_size=0.20, random_state=0)"
      ],
      "execution_count": 1163,
      "outputs": []
    },
    {
      "cell_type": "code",
      "metadata": {
        "id": "ffAqD1tdoI50",
        "colab": {
          "base_uri": "https://localhost:8080/"
        },
        "outputId": "15ece151-e3d7-4861-e5ae-20cee535267c"
      },
      "source": [
        "# media de la data de training data\n",
        "training_mean = X_train.mean()\n",
        "training_mean"
      ],
      "execution_count": 1164,
      "outputs": [
        {
          "output_type": "execute_result",
          "data": {
            "text/plain": [
              "annual_inc                    69335.553540\n",
              "int_rate                         12.049112\n",
              "purpose_car                       0.038432\n",
              "purpose_credit_card               0.131121\n",
              "purpose_debt_consolidation        0.472771\n",
              "purpose_educational               0.007630\n",
              "purpose_home_improvement          0.074482\n",
              "purpose_house                     0.009164\n",
              "purpose_major_purchase            0.054459\n",
              "purpose_medical                   0.017803\n",
              "purpose_moving                    0.014573\n",
              "purpose_other                     0.097170\n",
              "purpose_renewable_energy          0.002503\n",
              "purpose_small_business            0.047112\n",
              "purpose_vacation                  0.009164\n",
              "purpose_wedding                   0.023616\n",
              "grade_A                           0.252755\n",
              "grade_B                           0.301885\n",
              "grade_C                           0.204957\n",
              "grade_D                           0.131767\n",
              "grade_E                           0.073069\n",
              "grade_F                           0.027613\n",
              "grade_G                           0.007953\n",
              "home_ownership_OTHER              0.002220\n",
              "home_ownership_OWN                0.074361\n",
              "home_ownership_RENT               0.479351\n",
              "dtype: float64"
            ]
          },
          "metadata": {},
          "execution_count": 1164
        }
      ]
    },
    {
      "cell_type": "code",
      "metadata": {
        "id": "XLeknGXktmJl",
        "colab": {
          "base_uri": "https://localhost:8080/"
        },
        "outputId": "73f2886d-aba5-48ff-a841-f99ae4c05889"
      },
      "source": [
        "#la desviacion de la data de training data\n",
        "training_std =  X_train.std()\n",
        "training_std"
      ],
      "execution_count": 1165,
      "outputs": [
        {
          "output_type": "execute_result",
          "data": {
            "text/plain": [
              "annual_inc                    59432.563539\n",
              "int_rate                          3.723274\n",
              "purpose_car                       0.192241\n",
              "purpose_credit_card               0.337540\n",
              "purpose_debt_consolidation        0.499268\n",
              "purpose_educational               0.087017\n",
              "purpose_home_improvement          0.262559\n",
              "purpose_house                     0.095291\n",
              "purpose_major_purchase            0.226925\n",
              "purpose_medical                   0.132238\n",
              "purpose_moving                    0.119840\n",
              "purpose_other                     0.296195\n",
              "purpose_renewable_energy          0.049968\n",
              "purpose_small_business            0.211882\n",
              "purpose_vacation                  0.095291\n",
              "purpose_wedding                   0.151854\n",
              "grade_A                           0.434601\n",
              "grade_B                           0.459085\n",
              "grade_C                           0.403679\n",
              "grade_D                           0.338244\n",
              "grade_E                           0.260255\n",
              "grade_F                           0.163864\n",
              "grade_G                           0.088825\n",
              "home_ownership_OTHER              0.047069\n",
              "home_ownership_OWN                0.262363\n",
              "home_ownership_RENT               0.499584\n",
              "dtype: float64"
            ]
          },
          "metadata": {},
          "execution_count": 1165
        }
      ]
    },
    {
      "cell_type": "code",
      "metadata": {
        "id": "VbbEHq-poON8"
      },
      "source": [
        "# Centrar la data (algo usual en tecnicas de regularizacion)\n",
        "X_train = (X_train - training_mean) / training_std # normalizar \n",
        "X_vali= (X_vali- training_mean) / training_std # normalizar\n",
        "X_test = (X_test - training_mean) / training_std # normalizar "
      ],
      "execution_count": 1166,
      "outputs": []
    },
    {
      "cell_type": "code",
      "metadata": {
        "colab": {
          "base_uri": "https://localhost:8080/"
        },
        "id": "sHfyTA9NoRkT",
        "outputId": "60cd454d-2404-46d6-b1b4-af5aa6ac204d"
      },
      "source": [
        "print(\"X_train\", X_train.shape)\n",
        "print(\"X_vali\",X_vali.shape)\n",
        "print(\"X_test\",X_test.shape)"
      ],
      "execution_count": 1167,
      "outputs": [
        {
          "output_type": "stream",
          "name": "stdout",
          "text": [
            "X_train (24771, 26)\n",
            "X_vali (6193, 26)\n",
            "X_test (7741, 26)\n"
          ]
        }
      ]
    },
    {
      "cell_type": "markdown",
      "metadata": {
        "id": "JCqoynxwehsN"
      },
      "source": [
        "## Ejercicio 1.1:\n",
        "\n",
        "Realice una separación de los datos: entrenamiento 80% y prueba 20%"
      ]
    },
    {
      "cell_type": "code",
      "metadata": {
        "id": "dXDTh72f3bOH",
        "colab": {
          "base_uri": "https://localhost:8080/"
        },
        "outputId": "728d9bc9-0317-4247-e07c-8232e507420a"
      },
      "source": [
        "# Ajustar el modelo a train\n",
        "#X_train = sm.add_constant(X_train, prepend=True)\n",
        "model_linear = sm.OLS(y_train, sm.add_constant(X_train))\n",
        "original_linear = model_linear.fit()\n",
        "print(original_linear.summary())"
      ],
      "execution_count": 1168,
      "outputs": [
        {
          "output_type": "stream",
          "name": "stdout",
          "text": [
            "                            OLS Regression Results                            \n",
            "==============================================================================\n",
            "Dep. Variable:                      y   R-squared:                       0.259\n",
            "Model:                            OLS   Adj. R-squared:                  0.259\n",
            "Method:                 Least Squares   F-statistic:                     360.9\n",
            "Date:                Thu, 14 Oct 2021   Prob (F-statistic):               0.00\n",
            "Time:                        23:01:31   Log-Likelihood:            -2.5214e+05\n",
            "No. Observations:               24771   AIC:                         5.043e+05\n",
            "Df Residuals:                   24746   BIC:                         5.045e+05\n",
            "Df Model:                          24                                         \n",
            "Covariance Type:            nonrobust                                         \n",
            "==============================================================================================\n",
            "                                 coef    std err          t      P>|t|      [0.025      0.975]\n",
            "----------------------------------------------------------------------------------------------\n",
            "const                       1.123e+04     40.520    277.233      0.000    1.12e+04    1.13e+04\n",
            "annual_inc                  1733.5036     41.730     41.541      0.000    1651.710    1815.297\n",
            "int_rate                    2980.8622    143.246     20.809      0.000    2700.092    3261.633\n",
            "purpose_car                 -610.2047     38.677    -15.777      0.000    -686.015    -534.395\n",
            "purpose_credit_card          359.4022     34.490     10.421      0.000     291.800     427.004\n",
            "purpose_debt_consolidation   817.1403     27.065     30.192      0.000     764.091     870.189\n",
            "purpose_educational         -263.7402     40.165     -6.566      0.000    -342.467    -185.014\n",
            "purpose_home_improvement    -114.7858     37.843     -3.033      0.002    -188.960     -40.612\n",
            "purpose_house                221.0595     40.055      5.519      0.000     142.550     299.569\n",
            "purpose_major_purchase      -447.5590     37.900    -11.809      0.000    -521.845    -373.273\n",
            "purpose_medical             -299.6140     39.597     -7.567      0.000    -377.226    -222.002\n",
            "purpose_moving              -394.4831     39.880     -9.892      0.000    -472.651    -316.316\n",
            "purpose_other               -691.5613     35.908    -19.260      0.000    -761.942    -621.180\n",
            "purpose_renewable_energy    -115.2786     40.401     -2.853      0.004    -194.468     -36.090\n",
            "purpose_small_business       336.1849     38.295      8.779      0.000     261.124     411.245\n",
            "purpose_vacation            -395.7474     40.062     -9.878      0.000    -474.270    -317.224\n",
            "purpose_wedding              -94.9629     39.339     -2.414      0.016    -172.070     -17.856\n",
            "grade_A                      656.3231     88.670      7.402      0.000     482.524     830.122\n",
            "grade_B                      405.9306     37.533     10.815      0.000     332.365     479.497\n",
            "grade_C                     -503.5345     37.212    -13.532      0.000    -576.472    -430.597\n",
            "grade_D                     -703.5564     55.767    -12.616      0.000    -812.863    -594.250\n",
            "grade_E                     -147.1931     65.060     -2.262      0.024    -274.714     -19.672\n",
            "grade_F                       26.1015     61.149      0.427      0.669     -93.755     145.958\n",
            "grade_G                       41.3799     50.660      0.817      0.414     -57.916     140.676\n",
            "home_ownership_OTHER         -69.3038     40.599     -1.707      0.088    -148.880      10.272\n",
            "home_ownership_OWN          -398.0327     42.424     -9.382      0.000    -481.186    -314.879\n",
            "home_ownership_RENT        -1052.1240     44.423    -23.684      0.000   -1139.197    -965.051\n",
            "==============================================================================\n",
            "Omnibus:                     3072.991   Durbin-Watson:                   1.999\n",
            "Prob(Omnibus):                  0.000   Jarque-Bera (JB):            17353.792\n",
            "Skew:                           0.464   Prob(JB):                         0.00\n",
            "Kurtosis:                       6.994   Cond. No.                     3.73e+15\n",
            "==============================================================================\n",
            "\n",
            "Warnings:\n",
            "[1] Standard Errors assume that the covariance matrix of the errors is correctly specified.\n",
            "[2] The smallest eigenvalue is 4.04e-27. This might indicate that there are\n",
            "strong multicollinearity problems or that the design matrix is singular.\n"
          ]
        }
      ]
    },
    {
      "cell_type": "code",
      "metadata": {
        "id": "lYqMfaKF6Q0I"
      },
      "source": [
        "from sklearn import linear_model\n",
        "# Ajustar el modelo L1 \n",
        "model_l1 = linear_model.Lasso(alpha=40, fit_intercept=True) # mayor alpha para una mayor regularizacion \n",
        "results_l1 = model_l1.fit(X_train, y_train)"
      ],
      "execution_count": 1173,
      "outputs": []
    },
    {
      "cell_type": "code",
      "metadata": {
        "id": "8FRpRSGI66UB",
        "colab": {
          "base_uri": "https://localhost:8080/"
        },
        "outputId": "b9b6ff99-0d8b-4777-c303-90050d67471d"
      },
      "source": [
        "sorted(zip(X_train.columns, results_l1.coef_), key=lambda x: x[1])"
      ],
      "execution_count": 1174,
      "outputs": [
        {
          "output_type": "execute_result",
          "data": {
            "text/plain": [
              "[('home_ownership_RENT', -1010.1816738895649),\n",
              " ('grade_D', -633.0058303746736),\n",
              " ('grade_C', -595.9059027396814),\n",
              " ('purpose_other', -511.6503174647843),\n",
              " ('purpose_car', -482.27576520801006),\n",
              " ('home_ownership_OWN', -347.55266106010316),\n",
              " ('purpose_vacation', -312.7175658825738),\n",
              " ('purpose_major_purchase', -307.97673354978247),\n",
              " ('purpose_moving', -298.34878580899704),\n",
              " ('purpose_medical', -198.88731285406638),\n",
              " ('purpose_educational', -184.2714111309413),\n",
              " ('purpose_renewable_energy', -50.473114052422645),\n",
              " ('home_ownership_OTHER', -25.991890269866197),\n",
              " ('purpose_home_improvement', 0.0),\n",
              " ('purpose_wedding', -0.0),\n",
              " ('grade_A', 0.0),\n",
              " ('grade_E', -0.0),\n",
              " ('grade_B', 18.490856076232028),\n",
              " ('grade_G', 109.8322484971815),\n",
              " ('grade_F', 137.0359593647962),\n",
              " ('purpose_house', 228.96286917650343),\n",
              " ('purpose_small_business', 399.7935319780785),\n",
              " ('purpose_credit_card', 490.01264034181105),\n",
              " ('purpose_debt_consolidation', 1037.7442992873423),\n",
              " ('annual_inc', 1715.840658631476),\n",
              " ('int_rate', 2278.3990286765884)]"
            ]
          },
          "metadata": {},
          "execution_count": 1174
        }
      ]
    },
    {
      "cell_type": "code",
      "metadata": {
        "id": "MX3x63I0VY9M"
      },
      "source": [
        "# Reducir el numero de variables basados en los resultado L1\n",
        "cols_to_drop = ['grade_E','grade_A','purpose_wedding','purpose_home_improvement']\n",
        "\n",
        "X_train_simplified = X_train.drop(columns=cols_to_drop)\n",
        "X_vali_simplified = X_vali.drop(columns=cols_to_drop)\n",
        "X_test_simplified = X_test.drop(columns=cols_to_drop)\n",
        "\n",
        "# Para uso futuro hacemos lo mismo en el resto de la data\n",
        "X_simplified=X.drop(columns=cols_to_drop)\n",
        "X_rest_simplified=X_rest.drop(columns=cols_to_drop) #recordar X_rest es train+validation set"
      ],
      "execution_count": 1176,
      "outputs": []
    },
    {
      "cell_type": "code",
      "metadata": {
        "id": "Fa8j4QwfVh8m",
        "colab": {
          "base_uri": "https://localhost:8080/"
        },
        "outputId": "75a26483-2e61-464f-c3c4-423bd231d455"
      },
      "source": [
        "# Re ajustar el modelo de multiple linear regression (no regularizacion)\n",
        "model_linear = sm.OLS(y_train, sm.add_constant(X_train_simplified))\n",
        "res_linear = model_linear.fit()\n",
        "print(res_linear.summary())"
      ],
      "execution_count": 1177,
      "outputs": [
        {
          "output_type": "stream",
          "name": "stdout",
          "text": [
            "                            OLS Regression Results                            \n",
            "==============================================================================\n",
            "Dep. Variable:                      y   R-squared:                       0.259\n",
            "Model:                            OLS   Adj. R-squared:                  0.258\n",
            "Method:                 Least Squares   F-statistic:                     392.3\n",
            "Date:                Thu, 14 Oct 2021   Prob (F-statistic):               0.00\n",
            "Time:                        23:03:43   Log-Likelihood:            -2.5215e+05\n",
            "No. Observations:               24771   AIC:                         5.044e+05\n",
            "Df Residuals:                   24748   BIC:                         5.045e+05\n",
            "Df Model:                          22                                         \n",
            "Covariance Type:            nonrobust                                         \n",
            "==============================================================================================\n",
            "                                 coef    std err          t      P>|t|      [0.025      0.975]\n",
            "----------------------------------------------------------------------------------------------\n",
            "const                       1.123e+04     40.537    277.113      0.000    1.12e+04    1.13e+04\n",
            "annual_inc                  1734.2249     41.735     41.553      0.000    1652.422    1816.028\n",
            "int_rate                    2349.1325     56.937     41.258      0.000    2237.532    2460.733\n",
            "purpose_car                 -517.8624     47.123    -10.990      0.000    -610.227    -425.498\n",
            "purpose_credit_card          525.6825     58.348      9.009      0.000     411.317     640.048\n",
            "purpose_debt_consolidation  1059.6540     72.264     14.664      0.000     918.012    1201.296\n",
            "purpose_educational         -220.6032     42.085     -5.242      0.000    -303.092    -138.115\n",
            "purpose_house                268.1121     42.288      6.340      0.000     185.226     350.999\n",
            "purpose_major_purchase      -340.2752     49.488     -6.876      0.000    -437.275    -243.276\n",
            "purpose_medical             -236.7870     43.773     -5.409      0.000    -322.584    -150.990\n",
            "purpose_moving              -334.2975     43.494     -7.686      0.000    -419.549    -249.046\n",
            "purpose_other               -543.2496     54.981     -9.881      0.000    -651.016    -435.483\n",
            "purpose_renewable_energy     -91.3644     41.015     -2.228      0.026    -171.757     -10.972\n",
            "purpose_small_business       433.1948     48.424      8.946      0.000     338.282     528.108\n",
            "purpose_vacation            -350.5696     42.303     -8.287      0.000    -433.486    -267.654\n",
            "grade_B                       31.9789     48.042      0.666      0.506     -62.187     126.145\n",
            "grade_C                     -660.3950     51.961    -12.710      0.000    -762.241    -558.549\n",
            "grade_D                     -711.3050     54.458    -13.062      0.000    -818.046    -604.564\n",
            "grade_F                      136.1881     48.644      2.800      0.005      40.843     231.533\n",
            "grade_G                      125.0308     43.824      2.853      0.004      39.132     210.929\n",
            "home_ownership_OTHER         -67.8043     40.615     -1.669      0.095    -147.412      11.803\n",
            "home_ownership_OWN          -395.0697     42.435     -9.310      0.000    -478.246    -311.894\n",
            "home_ownership_RENT        -1057.4672     44.038    -24.013      0.000   -1143.785    -971.150\n",
            "==============================================================================\n",
            "Omnibus:                     3094.048   Durbin-Watson:                   2.000\n",
            "Prob(Omnibus):                  0.000   Jarque-Bera (JB):            17549.250\n",
            "Skew:                           0.467   Prob(JB):                         0.00\n",
            "Kurtosis:                       7.016   Cond. No.                         3.71\n",
            "==============================================================================\n",
            "\n",
            "Warnings:\n",
            "[1] Standard Errors assume that the covariance matrix of the errors is correctly specified.\n"
          ]
        }
      ]
    },
    {
      "cell_type": "code",
      "metadata": {
        "id": "rRlnnpClWlzu"
      },
      "source": [
        "# Ajustar el modelo\n",
        "model_l2 = linear_model.Ridge(alpha=99.8, fit_intercept=True) # mayor alpha para mayor regularizacion\n",
        "results_l2 = model_l2.fit(X_train_simplified, y_train)"
      ],
      "execution_count": 1178,
      "outputs": []
    },
    {
      "cell_type": "code",
      "metadata": {
        "id": "3uHfNRY1WpfF",
        "colab": {
          "base_uri": "https://localhost:8080/"
        },
        "outputId": "945c664d-b096-4f1b-f4f2-b9edc5feffd2"
      },
      "source": [
        "sorted(zip(X_train_simplified.columns, results_l2.coef_), key=lambda x: x[1])"
      ],
      "execution_count": 1179,
      "outputs": [
        {
          "output_type": "execute_result",
          "data": {
            "text/plain": [
              "[('home_ownership_RENT', -1052.6085342444053),\n",
              " ('grade_D', -695.1674554023164),\n",
              " ('grade_C', -647.0963389531044),\n",
              " ('purpose_other', -546.81579970978),\n",
              " ('purpose_car', -519.8488130021454),\n",
              " ('home_ownership_OWN', -392.8941481212474),\n",
              " ('purpose_vacation', -351.12080516698813),\n",
              " ('purpose_major_purchase', -343.67243403762535),\n",
              " ('purpose_moving', -335.5323538669191),\n",
              " ('purpose_medical', -238.2279141659913),\n",
              " ('purpose_educational', -221.71128679890427),\n",
              " ('purpose_renewable_energy', -91.7540637242258),\n",
              " ('home_ownership_OTHER', -67.25862108881513),\n",
              " ('grade_B', 37.926257965015935),\n",
              " ('grade_G', 131.41824509004144),\n",
              " ('grade_F', 146.6526454670742),\n",
              " ('purpose_house', 265.51077917861073),\n",
              " ('purpose_small_business', 428.72604868421604),\n",
              " ('purpose_credit_card', 517.8357690203765),\n",
              " ('purpose_debt_consolidation', 1049.1254922089645),\n",
              " ('annual_inc', 1728.8048094849948),\n",
              " ('int_rate', 2327.5271256862984)]"
            ]
          },
          "metadata": {},
          "execution_count": 1179
        }
      ]
    },
    {
      "cell_type": "code",
      "metadata": {
        "id": "833eRft2WxFP"
      },
      "source": [
        "# buscar diferentes valores de lambda\n",
        "import numpy as np\n",
        "from sklearn.metrics import mean_squared_error, r2_score\n",
        "lambdas = np.arange(0.1, 100.0, 0.1)\n",
        "\n",
        "coefs = []\n",
        "mse_train = []\n",
        "mse_vali = []\n",
        "for l in lambdas:\n",
        "    ridge = linear_model.Ridge(alpha=l, fit_intercept=True)\n",
        "    ridge.fit(X_train_simplified, y_train)\n",
        "    mse_train.append(mean_squared_error(y_train, ridge.predict(X_train_simplified))) # train data\n",
        "    mse_vali.append(mean_squared_error(y_vali, ridge.predict(X_vali_simplified))) # validation data"
      ],
      "execution_count": 1180,
      "outputs": []
    },
    {
      "cell_type": "code",
      "metadata": {
        "id": "hYSj7hQuXI2t",
        "colab": {
          "base_uri": "https://localhost:8080/",
          "height": 406
        },
        "outputId": "41309df5-4e61-4220-c919-d1d1fc0d66dd"
      },
      "source": [
        "# Graficar los resultados\n",
        "import matplotlib.pyplot as plt\n",
        "fig, ax1 = plt.subplots(1,3,figsize=(18,6))\n",
        "\n",
        "ax1[0].plot(lambdas, mse_train, 'r-')\n",
        "ax1[0].set_title('Train MSE curve')\n",
        "\n",
        "ax1[1].plot(lambdas, mse_vali, 'b-')\n",
        "ax1[1].set_title('Validation MSE curve')\n",
        "\n",
        "#Poner dos figuras en la misma \n",
        "ax1[2].plot(lambdas, mse_train, 'r-')\n",
        "ax1[2].plot(lambdas, mse_vali, 'b-')\n",
        "ax1[2].set_title('Train & Validation')\n",
        "\n",
        "for ax in ax1.flat:\n",
        "    ax.set_xlabel('$\\lambda$')\n",
        "    ax.set_ylabel('MSE')\n",
        "        \n",
        "plt.show()"
      ],
      "execution_count": 1181,
      "outputs": [
        {
          "output_type": "display_data",
          "data": {
            "image/png": "[encoded data removed]",
            "text/plain": [
              "<Figure size 1296x432 with 3 Axes>"
            ]
          },
          "metadata": {
            "needs_background": "light"
          }
        }
      ]
    },
    {
      "cell_type": "code",
      "metadata": {
        "id": "urKFWkxxXaqn",
        "colab": {
          "base_uri": "https://localhost:8080/"
        },
        "outputId": "1b8b1b7a-4aa7-411e-aa1b-cd46a10b4152"
      },
      "source": [
        "min_index=mse_vali.index(min(mse_vali))\n",
        "print(\"The optimal lambda is: \", lambdas[min_index])\n",
        "print(\"Validation MSE=\",mse_vali[min_index])\n",
        "print(\"Train MSE=\", mse_train[min_index])"
      ],
      "execution_count": 1145,
      "outputs": [
        {
          "output_type": "stream",
          "name": "stdout",
          "text": [
            "The optimal lambda is:  99.9\n",
            "Validation MSE= 46171349.57583807\n",
            "Train MSE= 40631404.41155212\n"
          ]
        }
      ]
    },
    {
      "cell_type": "markdown",
      "metadata": {
        "id": "JCwaNfJd-iwq"
      },
      "source": [
        "SE ESTIMA EL MEJOR $\\lambda$."
      ]
    },
    {
      "cell_type": "code",
      "metadata": {
        "id": "ddwPoBEbrd0n",
        "colab": {
          "base_uri": "https://localhost:8080/"
        },
        "outputId": "5e828f41-8f5a-4f3e-d0de-807f23805543"
      },
      "source": [
        "\n",
        "from sklearn.model_selection import train_test_split, KFold\n",
        "kf=KFold(n_splits=10,random_state=0)\n",
        "\n",
        "MSE_total=[]\n",
        "for index_train, index_test in kf.split(X_rest_simplified):\n",
        "    \n",
        "    #Extraer la data en folds\n",
        "    X_train_fold, y_train_fold=X_rest_simplified.iloc[index_train], y_rest[index_train]\n",
        "    X_test_fold, y_test_fold=X_rest_simplified.iloc[index_test], y_rest[index_test]\n",
        "    \n",
        "    #Normalizar la data:\n",
        "    training_fold_mean = X_train_fold.mean()\n",
        "    training_fold_std =  X_train_fold.std()\n",
        "    X_train_fold = (X_train_fold - training_fold_mean) / training_fold_std # normalizar\n",
        "    X_test_fold = (X_test_fold - training_fold_mean) / training_fold_std # normalizar\n",
        "   \n",
        "    MSE_fold=[]\n",
        "\n",
        "    for l in lambdas:\n",
        "        ridge = linear_model.Ridge(alpha=l, fit_intercept=True)\n",
        "        ridge.fit(X_train_fold, y_train_fold)\n",
        "        \n",
        "        #Calcular el MSE para la test data\n",
        "        MSE_fold.append(mean_squared_error(y_test_fold, ridge.predict(X_test_fold)))\n",
        "    \n",
        "    MSE_total.append(MSE_fold)"
      ],
      "execution_count": 1182,
      "outputs": [
        {
          "output_type": "stream",
          "name": "stderr",
          "text": [
            "/usr/local/lib/python3.7/dist-packages/sklearn/model_selection/_split.py:296: FutureWarning: Setting a random_state has no effect since shuffle is False. This will raise an error in 0.24. You should leave random_state to its default (None), or set shuffle=True.\n",
            "  FutureWarning\n"
          ]
        }
      ]
    },
    {
      "cell_type": "code",
      "metadata": {
        "id": "XPxTONberykX",
        "colab": {
          "base_uri": "https://localhost:8080/",
          "height": 408
        },
        "outputId": "7d7b2fbb-0c2d-42e7-c411-8a2ac3c6dd98"
      },
      "source": [
        "#la media para cada lambda:\n",
        "\n",
        "MSE_lambdas=np.matrix(MSE_total).mean(0).reshape(999,1)\n",
        "fig, ax = plt.subplots(figsize=(8,6))\n",
        "\n",
        "ax.plot(lambdas, MSE_lambdas)\n",
        "ax.set_title('Mean MSE curve')"
      ],
      "execution_count": 1183,
      "outputs": [
        {
          "output_type": "execute_result",
          "data": {
            "text/plain": [
              "Text(0.5, 1.0, 'Mean MSE curve')"
            ]
          },
          "metadata": {},
          "execution_count": 1183
        },
        {
          "output_type": "display_data",
          "data": {
            "image/png": "[encoded data removed]",
            "text/plain": [
              "<Figure size 576x432 with 1 Axes>"
            ]
          },
          "metadata": {
            "needs_background": "light"
          }
        }
      ]
    },
    {
      "cell_type": "code",
      "metadata": {
        "id": "gMW39wSMsf3m",
        "colab": {
          "base_uri": "https://localhost:8080/"
        },
        "outputId": "6fad378d-8a32-44a4-ff12-46405eed3aeb"
      },
      "source": [
        "min_index=np.argmin(MSE_lambdas)\n",
        "print(\"The optimal lambda is: \", lambdas[min_index])\n",
        "print(\"Average MSE is:\", min(MSE_lambdas))"
      ],
      "execution_count": 1184,
      "outputs": [
        {
          "output_type": "stream",
          "name": "stdout",
          "text": [
            "The optimal lambda is:  99.9\n",
            "Average MSE is: [[42248408.67167707]]\n"
          ]
        }
      ]
    },
    {
      "cell_type": "code",
      "metadata": {
        "id": "d-SIhzJst8c3",
        "colab": {
          "base_uri": "https://localhost:8080/",
          "height": 627
        },
        "outputId": "07e52f0a-ce66-4702-d3b3-23b3bc8680b0"
      },
      "source": [
        "# ciclo para multiples valores de lambda y guardar los coeficientes ajustados\n",
        "lambdas = np.logspace(-1, 7, 200)\n",
        "\n",
        "coefs = []\n",
        "for l in lambdas:\n",
        "    ridge = linear_model.Ridge(alpha=l, fit_intercept=True)\n",
        "    ridge.fit(X_train_simplified, y_train)\n",
        "    coefs.append(ridge.coef_)\n",
        "\n",
        "fig,ax = plt.subplots(figsize=(15,10))\n",
        "ax.plot(lambdas, coefs)\n",
        "ax.set_xscale('log')\n",
        "ax.set_xlim(ax.get_xlim())  # reverse axis\n",
        "plt.xlabel('$\\lambda$')\n",
        "plt.ylabel(\"Coefficient values\")\n",
        "plt.title('Ridge coefficients as a function of the regularization')\n",
        "plt.axis('tight')\n",
        "plt.show()\n",
        "#plt.savefig('ridge_coef_plot.png', bbox_inches='tight')"
      ],
      "execution_count": 1185,
      "outputs": [
        {
          "output_type": "display_data",
          "data": {
            "image/png": "[encoded data removed]",
            "text/plain": [
              "<Figure size 1080x720 with 1 Axes>"
            ]
          },
          "metadata": {
            "needs_background": "light"
          }
        }
      ]
    },
    {
      "cell_type": "code",
      "metadata": {
        "id": "9JMBbeN1uDcE"
      },
      "source": [
        "# Ciclo para diferentes valores de alpha y guardar coeficientes ajustados\n",
        "alpha_list = np.logspace(-5, 1, 99)\n",
        "\n",
        "coefs = []\n",
        "for a in alpha_list:\n",
        "    enet = linear_model.ElasticNet(random_state=0, alpha=a, l1_ratio=0.5, fit_intercept=True)\n",
        "    enet.fit(X_train_simplified, y_train)\n",
        "    coefs.append(enet.coef_.ravel())"
      ],
      "execution_count": 1186,
      "outputs": []
    },
    {
      "cell_type": "code",
      "metadata": {
        "id": "RYFRAS6xuGIS",
        "colab": {
          "base_uri": "https://localhost:8080/",
          "height": 625
        },
        "outputId": "b3c98ab5-9b4e-4ebb-e7cd-6f0fc5fefb64"
      },
      "source": [
        "# Graficar \n",
        "fig, ax = plt.subplots(figsize=(15,10))\n",
        "ax.plot(alpha_list, coefs)\n",
        "ax.set_xscale('log')\n",
        "ax.set_xlim(ax.get_xlim())  # reverse axis\n",
        "plt.xlabel(r'$\\alpha$')\n",
        "plt.ylabel('Parameter Coefficients')\n",
        "plt.title(r'Elastic net coefficients as a function of $\\alpha$')\n",
        "plt.axis('tight');"
      ],
      "execution_count": 1187,
      "outputs": [
        {
          "output_type": "display_data",
          "data": {
            "image/png": "[encoded data removed]",
            "text/plain": [
              "<Figure size 1080x720 with 1 Axes>"
            ]
          },
          "metadata": {
            "needs_background": "light"
          }
        }
      ]
    },
    {
      "cell_type": "code",
      "metadata": {
        "id": "auGOGPzluLH2",
        "colab": {
          "base_uri": "https://localhost:8080/"
        },
        "outputId": "98eadc60-fc59-4d40-cec2-550489a616cb"
      },
      "source": [
        "# Comparar la progresion de los errores de train y test errors a medida que varia alpha\n",
        "alphas = np.logspace(-5, 1, 99)\n",
        "enet = linear_model.ElasticNet(random_state=0, l1_ratio=0.5, fit_intercept=True)\n",
        "train_errors = list()\n",
        "test_errors = list()\n",
        "for alpha in alphas:\n",
        "    enet.set_params(alpha=alpha)\n",
        "    enet.fit(X_train_simplified, y_train)\n",
        "    train_errors.append(enet.score(X_train_simplified, y_train))\n",
        "    test_errors.append(enet.score(X_vali_simplified, y_vali))\n",
        "\n",
        "i_alpha_optim = np.argmax(test_errors)\n",
        "alpha_optim = alphas[i_alpha_optim]\n",
        "print(\"Optimal alpha regularization parameter : %.6f\" % alpha_optim)\n",
        "\n",
        "# Estimar los coef_ de toda la data con parametros de regularizacion optimos\n",
        "enet.set_params(alpha=alpha_optim)\n",
        "coef_ = enet.fit(X, y).coef_"
      ],
      "execution_count": 1188,
      "outputs": [
        {
          "output_type": "stream",
          "name": "stdout",
          "text": [
            "Optimal alpha regularization parameter : 0.686649\n"
          ]
        }
      ]
    },
    {
      "cell_type": "code",
      "metadata": {
        "id": "eS7GS9SZul1G",
        "colab": {
          "base_uri": "https://localhost:8080/",
          "height": 355
        },
        "outputId": "24675e7e-f7a7-42b0-db41-7547f61a7c1c"
      },
      "source": [
        "# Graficar el R-squared como funcion de \n",
        "fig,ax = plt.subplots(figsize=(8,5))\n",
        "plt.semilogx(alphas, train_errors, label='Train')\n",
        "plt.semilogx(alphas, test_errors, label='Validation')\n",
        "plt.vlines(alpha_optim, plt.ylim()[0], np.max(test_errors), color='k',linewidth=3, label=r'Optimum $\\alpha$')\n",
        "plt.legend(loc='lower left')\n",
        "plt.ylim([0, 0.9])\n",
        "plt.title(r'Elastic net performance as a function of the $\\alpha$ parameter')\n",
        "plt.xlabel(r'$\\alpha$')\n",
        "plt.ylabel(r'$R^2$');"
      ],
      "execution_count": 1189,
      "outputs": [
        {
          "output_type": "display_data",
          "data": {
            "image/png": "[encoded data removed]",
            "text/plain": [
              "<Figure size 576x360 with 1 Axes>"
            ]
          },
          "metadata": {
            "needs_background": "light"
          }
        }
      ]
    },
    {
      "cell_type": "code",
      "metadata": {
        "id": "jW7NuauAuyWu",
        "colab": {
          "base_uri": "https://localhost:8080/"
        },
        "outputId": "42cb289b-528f-4eeb-98cd-7991258c173b"
      },
      "source": [
        "# Compare la progresión del tren y los errores de prueba y el alfa y el rho varían\n",
        "alphas = np.logspace(-5, 1, 99)\n",
        "rhos = [0.1,0.2,0.3,0.4,0.5,0.6,0.7,0.8,0.9]\n",
        "list_alpha_optim = []\n",
        "for rho in rhos:\n",
        "    train_errors = []\n",
        "    test_errors = []\n",
        "    enet = linear_model.ElasticNet(random_state=0, l1_ratio=0.5, fit_intercept=True)\n",
        "    for alpha in alphas:\n",
        "        enet.set_params(alpha=alpha, l1_ratio=rho)\n",
        "        enet.fit(X_train_simplified, y_train)\n",
        "        train_errors.append(enet.score(X_train_simplified, y_train))\n",
        "        test_errors.append(enet.score(X_vali_simplified, y_vali))\n",
        "\n",
        "    i_alpha_optim = np.argmax(test_errors)\n",
        "    alpha_optim = alphas[i_alpha_optim]\n",
        "    print(\"Optimal alpha for rho = %.6f: %.6f\" % (rho, alpha_optim))\n",
        "    list_alpha_optim.append(alpha_optim)"
      ],
      "execution_count": 1190,
      "outputs": [
        {
          "output_type": "stream",
          "name": "stdout",
          "text": [
            "Optimal alpha for rho = 0.100000: 0.390694\n",
            "Optimal alpha for rho = 0.200000: 0.449843\n",
            "Optimal alpha for rho = 0.300000: 0.517947\n",
            "Optimal alpha for rho = 0.400000: 0.596362\n",
            "Optimal alpha for rho = 0.500000: 0.686649\n",
            "Optimal alpha for rho = 0.600000: 0.790604\n",
            "Optimal alpha for rho = 0.700000: 1.206793\n",
            "Optimal alpha for rho = 0.800000: 1.599859\n",
            "Optimal alpha for rho = 0.900000: 3.237458\n"
          ]
        }
      ]
    },
    {
      "cell_type": "code",
      "metadata": {
        "id": "OL-FlYv2u76K",
        "colab": {
          "base_uri": "https://localhost:8080/"
        },
        "outputId": "b9427ed1-8f96-4f3d-a6c5-1d863179f26c"
      },
      "source": [
        "# Mirar los coeficientes del modelo final\n",
        "final_elastic_net_model = linear_model.ElasticNet(random_state=0, alpha= 0.686649, l1_ratio=0.5, fit_intercept=True)\n",
        "final_elastic_net_model.fit(X_train_simplified, y_train)\n",
        "sorted(zip(X_train_simplified.columns, final_elastic_net_model.coef_), key=lambda x: x[1])"
      ],
      "execution_count": 1191,
      "outputs": [
        {
          "output_type": "execute_result",
          "data": {
            "text/plain": [
              "[('home_ownership_RENT', -786.2301275055983),\n",
              " ('purpose_other', -537.4178913045395),\n",
              " ('purpose_car', -483.71611794066706),\n",
              " ('purpose_major_purchase', -366.3612988142102),\n",
              " ('purpose_moving', -310.493202350886),\n",
              " ('purpose_vacation', -307.800702723084),\n",
              " ('home_ownership_OWN', -270.9551774964457),\n",
              " ('grade_C', -236.1857566024137),\n",
              " ('purpose_medical', -226.91226830481978),\n",
              " ('purpose_educational', -214.57253220838456),\n",
              " ('grade_D', -180.12231230183812),\n",
              " ('purpose_renewable_energy', -78.94291911121796),\n",
              " ('home_ownership_OTHER', -39.90927597910525),\n",
              " ('grade_B', 139.30872511294757),\n",
              " ('purpose_house', 172.97662074606765),\n",
              " ('purpose_credit_card', 278.8547971754863),\n",
              " ('purpose_small_business', 290.18014563077384),\n",
              " ('grade_G', 293.721411354801),\n",
              " ('grade_F', 417.93130769955684),\n",
              " ('purpose_debt_consolidation', 720.1683230447402),\n",
              " ('annual_inc', 1362.4066311213319),\n",
              " ('int_rate', 1481.8554754521813)]"
            ]
          },
          "metadata": {},
          "execution_count": 1191
        }
      ]
    },
    {
      "cell_type": "code",
      "metadata": {
        "id": "jrKGCDDSvHUd",
        "colab": {
          "base_uri": "https://localhost:8080/"
        },
        "outputId": "7c77da52-5bb2-4980-cec4-242bf678d35a"
      },
      "source": [
        "#calcular el performace usando el MSE: \n",
        "print(\"OLS MSE:\", mean_squared_error(y_test, res_linear.predict(sm.add_constant(X_test_simplified))))\n",
        "print(\"Ridge MSE:\", mean_squared_error(y_test, model_l2.predict(X_test_simplified)))\n",
        "print(\"Elastic Net MSE:\", mean_squared_error(y_test, final_elastic_net_model.predict(X_test_simplified)))"
      ],
      "execution_count": 1192,
      "outputs": [
        {
          "output_type": "stream",
          "name": "stdout",
          "text": [
            "OLS MSE: 42239726.910648145\n",
            "Ridge MSE: 42251980.662217\n",
            "Elastic Net MSE: 43736389.806054905\n"
          ]
        }
      ]
    },
    {
      "cell_type": "markdown",
      "metadata": {
        "id": "0LDws1jIehsO"
      },
      "source": [
        "## Ejercicio 2:\n",
        "\n",
        "Entrene 3 modelos para predecir si un cliente pagará el crédito o no:\n",
        "1. Regresión logística\n",
        "2. Árbol aleatorio (random forest)\n",
        "3. KNN (vecinos mas cercanos)"
      ]
    },
    {
      "cell_type": "markdown",
      "metadata": {
        "id": "hGVj_uVAehsP"
      },
      "source": [
        "## Ejercicio 3:\n",
        "\n",
        "Compare los tres modelos anteriores usando la métrica precisión. Recuerde que la fórmula es: $VP/(VP+FP)$\n",
        "\n",
        "Donde:\n",
        "\n",
        "\n",
        "VP: Verdaderos positivos\n",
        "\n",
        "FP: Falsos positivos"
      ]
    },
    {
      "cell_type": "markdown",
      "metadata": {
        "id": "wx6jroyEuOpr"
      },
      "source": [
        "# Ejercicio 2 Regresión logística "
      ]
    },
    {
      "cell_type": "code",
      "metadata": {
        "id": "LeRrRhRy0DGk"
      },
      "source": [
        "# Listos para una multiple regression\n",
        "#X = dfN2.drop(['loan_status'], axis=1)\n",
        "X = dfN2[['loan_amnt']]\n",
        "y = dfN2[['loan_status']]"
      ],
      "execution_count": 1193,
      "outputs": []
    },
    {
      "cell_type": "code",
      "metadata": {
        "id": "HEwjQIFm0ORT",
        "colab": {
          "base_uri": "https://localhost:8080/",
          "height": 412
        },
        "outputId": "595b3b88-822d-4b2d-8f39-8a6f9c2e1998"
      },
      "source": [
        "X"
      ],
      "execution_count": 1194,
      "outputs": [
        {
          "output_type": "execute_result",
          "data": {
            "text/html": [
              "<div>\n",
              "<style scoped>\n",
              "    .dataframe tbody tr th:only-of-type {\n",
              "        vertical-align: middle;\n",
              "    }\n",
              "\n",
              "    .dataframe tbody tr th {\n",
              "        vertical-align: top;\n",
              "    }\n",
              "\n",
              "    .dataframe thead th {\n",
              "        text-align: right;\n",
              "    }\n",
              "</style>\n",
              "<table border=\"1\" class=\"dataframe\">\n",
              "  <thead>\n",
              "    <tr style=\"text-align: right;\">\n",
              "      <th></th>\n",
              "      <th>loan_amnt</th>\n",
              "    </tr>\n",
              "  </thead>\n",
              "  <tbody>\n",
              "    <tr>\n",
              "      <th>0</th>\n",
              "      <td>5000</td>\n",
              "    </tr>\n",
              "    <tr>\n",
              "      <th>1</th>\n",
              "      <td>2500</td>\n",
              "    </tr>\n",
              "    <tr>\n",
              "      <th>2</th>\n",
              "      <td>2400</td>\n",
              "    </tr>\n",
              "    <tr>\n",
              "      <th>3</th>\n",
              "      <td>10000</td>\n",
              "    </tr>\n",
              "    <tr>\n",
              "      <th>4</th>\n",
              "      <td>3000</td>\n",
              "    </tr>\n",
              "    <tr>\n",
              "      <th>...</th>\n",
              "      <td>...</td>\n",
              "    </tr>\n",
              "    <tr>\n",
              "      <th>38700</th>\n",
              "      <td>2500</td>\n",
              "    </tr>\n",
              "    <tr>\n",
              "      <th>38701</th>\n",
              "      <td>8500</td>\n",
              "    </tr>\n",
              "    <tr>\n",
              "      <th>38702</th>\n",
              "      <td>5000</td>\n",
              "    </tr>\n",
              "    <tr>\n",
              "      <th>38703</th>\n",
              "      <td>5000</td>\n",
              "    </tr>\n",
              "    <tr>\n",
              "      <th>38704</th>\n",
              "      <td>7500</td>\n",
              "    </tr>\n",
              "  </tbody>\n",
              "</table>\n",
              "<p>38705 rows × 1 columns</p>\n",
              "</div>"
            ],
            "text/plain": [
              "       loan_amnt\n",
              "0           5000\n",
              "1           2500\n",
              "2           2400\n",
              "3          10000\n",
              "4           3000\n",
              "...          ...\n",
              "38700       2500\n",
              "38701       8500\n",
              "38702       5000\n",
              "38703       5000\n",
              "38704       7500\n",
              "\n",
              "[38705 rows x 1 columns]"
            ]
          },
          "metadata": {},
          "execution_count": 1194
        }
      ]
    },
    {
      "cell_type": "code",
      "metadata": {
        "id": "o3pO0q-Y4L7x",
        "colab": {
          "base_uri": "https://localhost:8080/",
          "height": 412
        },
        "outputId": "3564038c-485d-44e7-84be-977dab904ea2"
      },
      "source": [
        "y"
      ],
      "execution_count": 1195,
      "outputs": [
        {
          "output_type": "execute_result",
          "data": {
            "text/html": [
              "<div>\n",
              "<style scoped>\n",
              "    .dataframe tbody tr th:only-of-type {\n",
              "        vertical-align: middle;\n",
              "    }\n",
              "\n",
              "    .dataframe tbody tr th {\n",
              "        vertical-align: top;\n",
              "    }\n",
              "\n",
              "    .dataframe thead th {\n",
              "        text-align: right;\n",
              "    }\n",
              "</style>\n",
              "<table border=\"1\" class=\"dataframe\">\n",
              "  <thead>\n",
              "    <tr style=\"text-align: right;\">\n",
              "      <th></th>\n",
              "      <th>loan_status</th>\n",
              "    </tr>\n",
              "  </thead>\n",
              "  <tbody>\n",
              "    <tr>\n",
              "      <th>0</th>\n",
              "      <td>1</td>\n",
              "    </tr>\n",
              "    <tr>\n",
              "      <th>1</th>\n",
              "      <td>0</td>\n",
              "    </tr>\n",
              "    <tr>\n",
              "      <th>2</th>\n",
              "      <td>1</td>\n",
              "    </tr>\n",
              "    <tr>\n",
              "      <th>3</th>\n",
              "      <td>1</td>\n",
              "    </tr>\n",
              "    <tr>\n",
              "      <th>4</th>\n",
              "      <td>1</td>\n",
              "    </tr>\n",
              "    <tr>\n",
              "      <th>...</th>\n",
              "      <td>...</td>\n",
              "    </tr>\n",
              "    <tr>\n",
              "      <th>38700</th>\n",
              "      <td>1</td>\n",
              "    </tr>\n",
              "    <tr>\n",
              "      <th>38701</th>\n",
              "      <td>1</td>\n",
              "    </tr>\n",
              "    <tr>\n",
              "      <th>38702</th>\n",
              "      <td>1</td>\n",
              "    </tr>\n",
              "    <tr>\n",
              "      <th>38703</th>\n",
              "      <td>1</td>\n",
              "    </tr>\n",
              "    <tr>\n",
              "      <th>38704</th>\n",
              "      <td>1</td>\n",
              "    </tr>\n",
              "  </tbody>\n",
              "</table>\n",
              "<p>38705 rows × 1 columns</p>\n",
              "</div>"
            ],
            "text/plain": [
              "       loan_status\n",
              "0                1\n",
              "1                0\n",
              "2                1\n",
              "3                1\n",
              "4                1\n",
              "...            ...\n",
              "38700            1\n",
              "38701            1\n",
              "38702            1\n",
              "38703            1\n",
              "38704            1\n",
              "\n",
              "[38705 rows x 1 columns]"
            ]
          },
          "metadata": {},
          "execution_count": 1195
        }
      ]
    },
    {
      "cell_type": "code",
      "metadata": {
        "id": "ebfbhiu9fbkr"
      },
      "source": [
        "#Entrenamos un modelo de regresión logística\n",
        "#importamos la clase LogisticRegresion de scikit-learn\n",
        "from sklearn.linear_model import LogisticRegression"
      ],
      "execution_count": 1196,
      "outputs": []
    },
    {
      "cell_type": "code",
      "metadata": {
        "id": "q-K-z-0wfeA4"
      },
      "source": [
        "# Creamos una instancia de la Regresión Logística\n",
        "regresion_logistica = LogisticRegression()"
      ],
      "execution_count": 1197,
      "outputs": []
    },
    {
      "cell_type": "code",
      "metadata": {
        "id": "f9SmzhZA0TCF",
        "colab": {
          "base_uri": "https://localhost:8080/"
        },
        "outputId": "60ec37ee-1a1b-4586-c450-9eab49cf3beb"
      },
      "source": [
        "#Entrenamos la regresión logística con los datos de entrenamiento\n",
        "regresion_logistica.fit(X,y)"
      ],
      "execution_count": 1198,
      "outputs": [
        {
          "output_type": "stream",
          "name": "stderr",
          "text": [
            "/usr/local/lib/python3.7/dist-packages/sklearn/utils/validation.py:760: DataConversionWarning: A column-vector y was passed when a 1d array was expected. Please change the shape of y to (n_samples, ), for example using ravel().\n",
            "  y = column_or_1d(y, warn=True)\n"
          ]
        },
        {
          "output_type": "execute_result",
          "data": {
            "text/plain": [
              "LogisticRegression(C=1.0, class_weight=None, dual=False, fit_intercept=True,\n",
              "                   intercept_scaling=1, l1_ratio=None, max_iter=100,\n",
              "                   multi_class='auto', n_jobs=None, penalty='l2',\n",
              "                   random_state=None, solver='lbfgs', tol=0.0001, verbose=0,\n",
              "                   warm_start=False)"
            ]
          },
          "metadata": {},
          "execution_count": 1198
        }
      ]
    },
    {
      "cell_type": "code",
      "metadata": {
        "id": "3NfOU9HrgLg7"
      },
      "source": [
        "X_nuevo = np.array([2500,5000, 8500, 10000,3000,750,120000,30000,75000,3500,500]).reshape(-1,1)"
      ],
      "execution_count": 1199,
      "outputs": []
    },
    {
      "cell_type": "code",
      "metadata": {
        "id": "PPA611RpAlji",
        "colab": {
          "base_uri": "https://localhost:8080/"
        },
        "outputId": "3a8ee610-0d4d-41c1-ba17-93c27eadef95"
      },
      "source": [
        "# Usa el modelo entrenado para obtener las predicciones con datos nuevos\n",
        "\n",
        "prediccion = regresion_logistica.predict(X_nuevo)\n",
        "print(prediccion)"
      ],
      "execution_count": 1200,
      "outputs": [
        {
          "output_type": "stream",
          "name": "stdout",
          "text": [
            "[1 1 1 1 1 1 0 1 1 1 1]\n"
          ]
        }
      ]
    },
    {
      "cell_type": "code",
      "metadata": {
        "id": "W7mB-pwT0z_D",
        "colab": {
          "base_uri": "https://localhost:8080/"
        },
        "outputId": "dc78eca2-2b0b-44b2-b6ed-501cdb52ba0c"
      },
      "source": [
        "#obtenemos las probabilidades de la predicción\n",
        "probabilidades_prediccion = regresion_logistica.predict_proba(X_nuevo)\n",
        "print(probabilidades_prediccion)"
      ],
      "execution_count": 1201,
      "outputs": [
        {
          "output_type": "stream",
          "name": "stdout",
          "text": [
            "[[0.12027294 0.87972706]\n",
            " [0.1255185  0.8744815 ]\n",
            " [0.13319039 0.86680961]\n",
            " [0.13659805 0.86340195]\n",
            " [0.12130668 0.87869332]\n",
            " [0.11671456 0.88328544]\n",
            " [0.57386746 0.42613254]\n",
            " [0.18931356 0.81068644]\n",
            " [0.35929754 0.64070246]\n",
            " [0.12234808 0.87765192]\n",
            " [0.11621374 0.88378626]]\n"
          ]
        }
      ]
    },
    {
      "cell_type": "code",
      "metadata": {
        "id": "-cDvHZcF047Z",
        "colab": {
          "base_uri": "https://localhost:8080/"
        },
        "outputId": "a920b19e-e810-405a-f032-f7d3d61cb830"
      },
      "source": [
        "# Como seguramente estamos más interesados en la probabilidad de aprobar, podemos centrarnos en la segunda columna\n",
        "print(probabilidades_prediccion[:,1])"
      ],
      "execution_count": 1202,
      "outputs": [
        {
          "output_type": "stream",
          "name": "stdout",
          "text": [
            "[0.87972706 0.8744815  0.86680961 0.86340195 0.87869332 0.88328544\n",
            " 0.42613254 0.81068644 0.64070246 0.87765192 0.88378626]\n"
          ]
        }
      ]
    },
    {
      "cell_type": "code",
      "metadata": {
        "id": "qKsNHyhz07_j",
        "colab": {
          "base_uri": "https://localhost:8080/"
        },
        "outputId": "11987154-3add-489c-c7f4-b2da08bb6058"
      },
      "source": [
        "intercepto=regresion_logistica.intercept_\n",
        "intercepto[0]"
      ],
      "execution_count": 1203,
      "outputs": [
        {
          "output_type": "execute_result",
          "data": {
            "text/plain": [
              "2.0385181995167607"
            ]
          },
          "metadata": {},
          "execution_count": 1203
        }
      ]
    },
    {
      "cell_type": "code",
      "metadata": {
        "id": "ZzbIBtq30_UY",
        "colab": {
          "base_uri": "https://localhost:8080/"
        },
        "outputId": "80c85af0-4a32-4e12-db1b-9f304c6dc009"
      },
      "source": [
        "beta1=regresion_logistica.coef_\n",
        "beta1[0][0]"
      ],
      "execution_count": 1204,
      "outputs": [
        {
          "output_type": "execute_result",
          "data": {
            "text/plain": [
              "-1.9468051882719665e-05"
            ]
          },
          "metadata": {},
          "execution_count": 1204
        }
      ]
    },
    {
      "cell_type": "code",
      "metadata": {
        "id": "rKwClIEC5qYu"
      },
      "source": [
        "X1=dfN2['loan_amnt'].unique()"
      ],
      "execution_count": 1205,
      "outputs": []
    },
    {
      "cell_type": "code",
      "metadata": {
        "id": "zELEz-5K1AN3",
        "colab": {
          "base_uri": "https://localhost:8080/",
          "height": 412
        },
        "outputId": "7167e16a-6b54-4a36-b5dc-78cc7d773b52"
      },
      "source": [
        "import pandas as pd\n",
        "dfu= pd.DataFrame()\n",
        "dfu['X']=X1\n",
        "dfu['X_predicho']=dfu['X']*beta1[0][0]+ intercepto[0] # Calculo de los valores de X para la funcion Sigmoide\n",
        "dfu['Probabilidades']=1/(1+np.exp(-dfu.X_predicho)) # Calculo de probabilidades \n",
        "dfu"
      ],
      "execution_count": 1206,
      "outputs": [
        {
          "output_type": "execute_result",
          "data": {
            "text/html": [
              "<div>\n",
              "<style scoped>\n",
              "    .dataframe tbody tr th:only-of-type {\n",
              "        vertical-align: middle;\n",
              "    }\n",
              "\n",
              "    .dataframe tbody tr th {\n",
              "        vertical-align: top;\n",
              "    }\n",
              "\n",
              "    .dataframe thead th {\n",
              "        text-align: right;\n",
              "    }\n",
              "</style>\n",
              "<table border=\"1\" class=\"dataframe\">\n",
              "  <thead>\n",
              "    <tr style=\"text-align: right;\">\n",
              "      <th></th>\n",
              "      <th>X</th>\n",
              "      <th>X_predicho</th>\n",
              "      <th>Probabilidades</th>\n",
              "    </tr>\n",
              "  </thead>\n",
              "  <tbody>\n",
              "    <tr>\n",
              "      <th>0</th>\n",
              "      <td>5000</td>\n",
              "      <td>1.941178</td>\n",
              "      <td>0.874481</td>\n",
              "    </tr>\n",
              "    <tr>\n",
              "      <th>1</th>\n",
              "      <td>2500</td>\n",
              "      <td>1.989848</td>\n",
              "      <td>0.879727</td>\n",
              "    </tr>\n",
              "    <tr>\n",
              "      <th>2</th>\n",
              "      <td>2400</td>\n",
              "      <td>1.991795</td>\n",
              "      <td>0.879933</td>\n",
              "    </tr>\n",
              "    <tr>\n",
              "      <th>3</th>\n",
              "      <td>10000</td>\n",
              "      <td>1.843838</td>\n",
              "      <td>0.863402</td>\n",
              "    </tr>\n",
              "    <tr>\n",
              "      <th>4</th>\n",
              "      <td>3000</td>\n",
              "      <td>1.980114</td>\n",
              "      <td>0.878693</td>\n",
              "    </tr>\n",
              "    <tr>\n",
              "      <th>...</th>\n",
              "      <td>...</td>\n",
              "      <td>...</td>\n",
              "      <td>...</td>\n",
              "    </tr>\n",
              "    <tr>\n",
              "      <th>875</th>\n",
              "      <td>800</td>\n",
              "      <td>2.022944</td>\n",
              "      <td>0.883185</td>\n",
              "    </tr>\n",
              "    <tr>\n",
              "      <th>876</th>\n",
              "      <td>10325</td>\n",
              "      <td>1.837511</td>\n",
              "      <td>0.862654</td>\n",
              "    </tr>\n",
              "    <tr>\n",
              "      <th>877</th>\n",
              "      <td>13025</td>\n",
              "      <td>1.784947</td>\n",
              "      <td>0.856307</td>\n",
              "    </tr>\n",
              "    <tr>\n",
              "      <th>878</th>\n",
              "      <td>22350</td>\n",
              "      <td>1.603407</td>\n",
              "      <td>0.832494</td>\n",
              "    </tr>\n",
              "    <tr>\n",
              "      <th>879</th>\n",
              "      <td>22550</td>\n",
              "      <td>1.599514</td>\n",
              "      <td>0.831950</td>\n",
              "    </tr>\n",
              "  </tbody>\n",
              "</table>\n",
              "<p>880 rows × 3 columns</p>\n",
              "</div>"
            ],
            "text/plain": [
              "         X  X_predicho  Probabilidades\n",
              "0     5000    1.941178        0.874481\n",
              "1     2500    1.989848        0.879727\n",
              "2     2400    1.991795        0.879933\n",
              "3    10000    1.843838        0.863402\n",
              "4     3000    1.980114        0.878693\n",
              "..     ...         ...             ...\n",
              "875    800    2.022944        0.883185\n",
              "876  10325    1.837511        0.862654\n",
              "877  13025    1.784947        0.856307\n",
              "878  22350    1.603407        0.832494\n",
              "879  22550    1.599514        0.831950\n",
              "\n",
              "[880 rows x 3 columns]"
            ]
          },
          "metadata": {},
          "execution_count": 1206
        }
      ]
    },
    {
      "cell_type": "code",
      "metadata": {
        "id": "fP5fpg0IigS6",
        "colab": {
          "base_uri": "https://localhost:8080/",
          "height": 292
        },
        "outputId": "ce91c5d7-0b2c-4930-ac3b-93bbcc3fd700"
      },
      "source": [
        "dfu.describe()"
      ],
      "execution_count": 1207,
      "outputs": [
        {
          "output_type": "execute_result",
          "data": {
            "text/html": [
              "<div>\n",
              "<style scoped>\n",
              "    .dataframe tbody tr th:only-of-type {\n",
              "        vertical-align: middle;\n",
              "    }\n",
              "\n",
              "    .dataframe tbody tr th {\n",
              "        vertical-align: top;\n",
              "    }\n",
              "\n",
              "    .dataframe thead th {\n",
              "        text-align: right;\n",
              "    }\n",
              "</style>\n",
              "<table border=\"1\" class=\"dataframe\">\n",
              "  <thead>\n",
              "    <tr style=\"text-align: right;\">\n",
              "      <th></th>\n",
              "      <th>X</th>\n",
              "      <th>X_predicho</th>\n",
              "      <th>Probabilidades</th>\n",
              "    </tr>\n",
              "  </thead>\n",
              "  <tbody>\n",
              "    <tr>\n",
              "      <th>count</th>\n",
              "      <td>880.000000</td>\n",
              "      <td>880.000000</td>\n",
              "      <td>880.000000</td>\n",
              "    </tr>\n",
              "    <tr>\n",
              "      <th>mean</th>\n",
              "      <td>13515.937500</td>\n",
              "      <td>1.775389</td>\n",
              "      <td>0.853927</td>\n",
              "    </tr>\n",
              "    <tr>\n",
              "      <th>std</th>\n",
              "      <td>8452.775921</td>\n",
              "      <td>0.164559</td>\n",
              "      <td>0.021118</td>\n",
              "    </tr>\n",
              "    <tr>\n",
              "      <th>min</th>\n",
              "      <td>500.000000</td>\n",
              "      <td>1.357136</td>\n",
              "      <td>0.795294</td>\n",
              "    </tr>\n",
              "    <tr>\n",
              "      <th>25%</th>\n",
              "      <td>6568.750000</td>\n",
              "      <td>1.662298</td>\n",
              "      <td>0.840546</td>\n",
              "    </tr>\n",
              "    <tr>\n",
              "      <th>50%</th>\n",
              "      <td>12287.500000</td>\n",
              "      <td>1.799305</td>\n",
              "      <td>0.858064</td>\n",
              "    </tr>\n",
              "    <tr>\n",
              "      <th>75%</th>\n",
              "      <td>19325.000000</td>\n",
              "      <td>1.910637</td>\n",
              "      <td>0.871091</td>\n",
              "    </tr>\n",
              "    <tr>\n",
              "      <th>max</th>\n",
              "      <td>35000.000000</td>\n",
              "      <td>2.028784</td>\n",
              "      <td>0.883786</td>\n",
              "    </tr>\n",
              "  </tbody>\n",
              "</table>\n",
              "</div>"
            ],
            "text/plain": [
              "                  X  X_predicho  Probabilidades\n",
              "count    880.000000  880.000000      880.000000\n",
              "mean   13515.937500    1.775389        0.853927\n",
              "std     8452.775921    0.164559        0.021118\n",
              "min      500.000000    1.357136        0.795294\n",
              "25%     6568.750000    1.662298        0.840546\n",
              "50%    12287.500000    1.799305        0.858064\n",
              "75%    19325.000000    1.910637        0.871091\n",
              "max    35000.000000    2.028784        0.883786"
            ]
          },
          "metadata": {},
          "execution_count": 1207
        }
      ]
    },
    {
      "cell_type": "code",
      "metadata": {
        "id": "r_mlABNv1M_c",
        "colab": {
          "base_uri": "https://localhost:8080/",
          "height": 325
        },
        "outputId": "3b604989-8fa0-463f-e197-3dcf9e67c504"
      },
      "source": [
        "import matplotlib.pyplot as plt\n",
        "import math\n",
        "def sigmoid(x):\n",
        "  a=[]\n",
        "  for item in x:\n",
        "    a.append(1/(1+math.exp(-item)))\n",
        "  return a\n",
        "x= np.arange(-5,5,0.01)\n",
        "sig=sigmoid(x)\n",
        "plt.plot(x,sig)\n",
        "plt.axhline(y=0.5, color='r',linestyle='--')\n",
        "plt.xlabel('x')\n",
        "plt.ylabel('Probabilidad')\n",
        "plt.title('Grafico 2')\n",
        "plt.suptitle('Grafica Sigmoide')\n",
        "plt.scatter(dfu.X_predicho,dfu.Probabilidades,color='g')"
      ],
      "execution_count": 1208,
      "outputs": [
        {
          "output_type": "execute_result",
          "data": {
            "text/plain": [
              "<matplotlib.collections.PathCollection at 0x7f6bb94e7c50>"
            ]
          },
          "metadata": {},
          "execution_count": 1208
        },
        {
          "output_type": "display_data",
          "data": {
            "image/png": "[encoded data removed]",
            "text/plain": [
              "<Figure size 432x288 with 1 Axes>"
            ]
          },
          "metadata": {
            "needs_background": "light"
          }
        }
      ]
    },
    {
      "cell_type": "code",
      "metadata": {
        "id": "_-gZ0crWiWxB"
      },
      "source": [
        "#SE TIENE APROXIMADAMENTE UN 88% DE FACTIBILIDAD QUE LOS CLIENTES PAGARAN LOS CREDITOS"
      ],
      "execution_count": 1209,
      "outputs": []
    },
    {
      "cell_type": "markdown",
      "metadata": {
        "id": "labyBU0K6IIy"
      },
      "source": [
        "# EJERCICIO 3 Regresión logística  - métrica precisión."
      ]
    },
    {
      "cell_type": "code",
      "metadata": {
        "id": "bwU7CW7C6JrP"
      },
      "source": [
        "import matplotlib.pyplot as plt\n",
        "import pandas as pd\n",
        "import seaborn as sns\n",
        "from sklearn.neighbors import KNeighborsClassifier"
      ],
      "execution_count": 1225,
      "outputs": []
    },
    {
      "cell_type": "code",
      "metadata": {
        "colab": {
          "base_uri": "https://localhost:8080/",
          "height": 412
        },
        "id": "Fnzybwkx64Fr",
        "outputId": "ac151415-5cf3-4162-8494-60b59825a0f6"
      },
      "source": [
        "df"
      ],
      "execution_count": 1226,
      "outputs": [
        {
          "output_type": "execute_result",
          "data": {
            "text/html": [
              "<div>\n",
              "<style scoped>\n",
              "    .dataframe tbody tr th:only-of-type {\n",
              "        vertical-align: middle;\n",
              "    }\n",
              "\n",
              "    .dataframe tbody tr th {\n",
              "        vertical-align: top;\n",
              "    }\n",
              "\n",
              "    .dataframe thead th {\n",
              "        text-align: right;\n",
              "    }\n",
              "</style>\n",
              "<table border=\"1\" class=\"dataframe\">\n",
              "  <thead>\n",
              "    <tr style=\"text-align: right;\">\n",
              "      <th></th>\n",
              "      <th>loan_status</th>\n",
              "      <th>annual_inc</th>\n",
              "      <th>verification_status</th>\n",
              "      <th>emp_length</th>\n",
              "      <th>home_ownership</th>\n",
              "      <th>int_rate</th>\n",
              "      <th>loan_amnt</th>\n",
              "      <th>purpose</th>\n",
              "      <th>term</th>\n",
              "      <th>grade</th>\n",
              "    </tr>\n",
              "  </thead>\n",
              "  <tbody>\n",
              "    <tr>\n",
              "      <th>0</th>\n",
              "      <td>Fully Paid</td>\n",
              "      <td>24000.0</td>\n",
              "      <td>Verified</td>\n",
              "      <td>10+ years</td>\n",
              "      <td>RENT</td>\n",
              "      <td>10.65%</td>\n",
              "      <td>5000</td>\n",
              "      <td>credit_card</td>\n",
              "      <td>36 months</td>\n",
              "      <td>B</td>\n",
              "    </tr>\n",
              "    <tr>\n",
              "      <th>1</th>\n",
              "      <td>Charged Off</td>\n",
              "      <td>30000.0</td>\n",
              "      <td>Source Verified</td>\n",
              "      <td>&lt; 1 year</td>\n",
              "      <td>RENT</td>\n",
              "      <td>15.27%</td>\n",
              "      <td>2500</td>\n",
              "      <td>car</td>\n",
              "      <td>60 months</td>\n",
              "      <td>C</td>\n",
              "    </tr>\n",
              "    <tr>\n",
              "      <th>2</th>\n",
              "      <td>Fully Paid</td>\n",
              "      <td>12252.0</td>\n",
              "      <td>Not Verified</td>\n",
              "      <td>10+ years</td>\n",
              "      <td>RENT</td>\n",
              "      <td>15.96%</td>\n",
              "      <td>2400</td>\n",
              "      <td>small_business</td>\n",
              "      <td>36 months</td>\n",
              "      <td>C</td>\n",
              "    </tr>\n",
              "    <tr>\n",
              "      <th>3</th>\n",
              "      <td>Fully Paid</td>\n",
              "      <td>49200.0</td>\n",
              "      <td>Source Verified</td>\n",
              "      <td>10+ years</td>\n",
              "      <td>RENT</td>\n",
              "      <td>13.49%</td>\n",
              "      <td>10000</td>\n",
              "      <td>other</td>\n",
              "      <td>36 months</td>\n",
              "      <td>C</td>\n",
              "    </tr>\n",
              "    <tr>\n",
              "      <th>4</th>\n",
              "      <td>Fully Paid</td>\n",
              "      <td>80000.0</td>\n",
              "      <td>Source Verified</td>\n",
              "      <td>1 year</td>\n",
              "      <td>RENT</td>\n",
              "      <td>12.69%</td>\n",
              "      <td>3000</td>\n",
              "      <td>other</td>\n",
              "      <td>60 months</td>\n",
              "      <td>B</td>\n",
              "    </tr>\n",
              "    <tr>\n",
              "      <th>...</th>\n",
              "      <td>...</td>\n",
              "      <td>...</td>\n",
              "      <td>...</td>\n",
              "      <td>...</td>\n",
              "      <td>...</td>\n",
              "      <td>...</td>\n",
              "      <td>...</td>\n",
              "      <td>...</td>\n",
              "      <td>...</td>\n",
              "      <td>...</td>\n",
              "    </tr>\n",
              "    <tr>\n",
              "      <th>38700</th>\n",
              "      <td>Fully Paid</td>\n",
              "      <td>110000.0</td>\n",
              "      <td>Not Verified</td>\n",
              "      <td>4 years</td>\n",
              "      <td>MORTGAGE</td>\n",
              "      <td>8.07%</td>\n",
              "      <td>2500</td>\n",
              "      <td>home_improvement</td>\n",
              "      <td>36 months</td>\n",
              "      <td>A</td>\n",
              "    </tr>\n",
              "    <tr>\n",
              "      <th>38701</th>\n",
              "      <td>Fully Paid</td>\n",
              "      <td>18000.0</td>\n",
              "      <td>Not Verified</td>\n",
              "      <td>3 years</td>\n",
              "      <td>RENT</td>\n",
              "      <td>10.28%</td>\n",
              "      <td>8500</td>\n",
              "      <td>credit_card</td>\n",
              "      <td>36 months</td>\n",
              "      <td>C</td>\n",
              "    </tr>\n",
              "    <tr>\n",
              "      <th>38702</th>\n",
              "      <td>Fully Paid</td>\n",
              "      <td>100000.0</td>\n",
              "      <td>Not Verified</td>\n",
              "      <td>&lt; 1 year</td>\n",
              "      <td>MORTGAGE</td>\n",
              "      <td>8.07%</td>\n",
              "      <td>5000</td>\n",
              "      <td>debt_consolidation</td>\n",
              "      <td>36 months</td>\n",
              "      <td>A</td>\n",
              "    </tr>\n",
              "    <tr>\n",
              "      <th>38703</th>\n",
              "      <td>Fully Paid</td>\n",
              "      <td>200000.0</td>\n",
              "      <td>Not Verified</td>\n",
              "      <td>&lt; 1 year</td>\n",
              "      <td>MORTGAGE</td>\n",
              "      <td>7.43%</td>\n",
              "      <td>5000</td>\n",
              "      <td>other</td>\n",
              "      <td>36 months</td>\n",
              "      <td>A</td>\n",
              "    </tr>\n",
              "    <tr>\n",
              "      <th>38704</th>\n",
              "      <td>Fully Paid</td>\n",
              "      <td>22000.0</td>\n",
              "      <td>Not Verified</td>\n",
              "      <td>&lt; 1 year</td>\n",
              "      <td>OWN</td>\n",
              "      <td>13.75%</td>\n",
              "      <td>7500</td>\n",
              "      <td>debt_consolidation</td>\n",
              "      <td>36 months</td>\n",
              "      <td>E</td>\n",
              "    </tr>\n",
              "  </tbody>\n",
              "</table>\n",
              "<p>38705 rows × 10 columns</p>\n",
              "</div>"
            ],
            "text/plain": [
              "       loan_status  annual_inc  ...        term grade\n",
              "0       Fully Paid     24000.0  ...   36 months     B\n",
              "1      Charged Off     30000.0  ...   60 months     C\n",
              "2       Fully Paid     12252.0  ...   36 months     C\n",
              "3       Fully Paid     49200.0  ...   36 months     C\n",
              "4       Fully Paid     80000.0  ...   60 months     B\n",
              "...            ...         ...  ...         ...   ...\n",
              "38700   Fully Paid    110000.0  ...   36 months     A\n",
              "38701   Fully Paid     18000.0  ...   36 months     C\n",
              "38702   Fully Paid    100000.0  ...   36 months     A\n",
              "38703   Fully Paid    200000.0  ...   36 months     A\n",
              "38704   Fully Paid     22000.0  ...   36 months     E\n",
              "\n",
              "[38705 rows x 10 columns]"
            ]
          },
          "metadata": {},
          "execution_count": 1226
        }
      ]
    },
    {
      "cell_type": "code",
      "metadata": {
        "colab": {
          "base_uri": "https://localhost:8080/",
          "height": 201
        },
        "id": "elxoc5Rn6Qca",
        "outputId": "a17ee0a7-aa9d-4552-d15e-86d835a43560"
      },
      "source": [
        "wu=df.copy()\n",
        "wu.head()"
      ],
      "execution_count": 1227,
      "outputs": [
        {
          "output_type": "execute_result",
          "data": {
            "text/html": [
              "<div>\n",
              "<style scoped>\n",
              "    .dataframe tbody tr th:only-of-type {\n",
              "        vertical-align: middle;\n",
              "    }\n",
              "\n",
              "    .dataframe tbody tr th {\n",
              "        vertical-align: top;\n",
              "    }\n",
              "\n",
              "    .dataframe thead th {\n",
              "        text-align: right;\n",
              "    }\n",
              "</style>\n",
              "<table border=\"1\" class=\"dataframe\">\n",
              "  <thead>\n",
              "    <tr style=\"text-align: right;\">\n",
              "      <th></th>\n",
              "      <th>loan_status</th>\n",
              "      <th>annual_inc</th>\n",
              "      <th>verification_status</th>\n",
              "      <th>emp_length</th>\n",
              "      <th>home_ownership</th>\n",
              "      <th>int_rate</th>\n",
              "      <th>loan_amnt</th>\n",
              "      <th>purpose</th>\n",
              "      <th>term</th>\n",
              "      <th>grade</th>\n",
              "    </tr>\n",
              "  </thead>\n",
              "  <tbody>\n",
              "    <tr>\n",
              "      <th>0</th>\n",
              "      <td>Fully Paid</td>\n",
              "      <td>24000.0</td>\n",
              "      <td>Verified</td>\n",
              "      <td>10+ years</td>\n",
              "      <td>RENT</td>\n",
              "      <td>10.65%</td>\n",
              "      <td>5000</td>\n",
              "      <td>credit_card</td>\n",
              "      <td>36 months</td>\n",
              "      <td>B</td>\n",
              "    </tr>\n",
              "    <tr>\n",
              "      <th>1</th>\n",
              "      <td>Charged Off</td>\n",
              "      <td>30000.0</td>\n",
              "      <td>Source Verified</td>\n",
              "      <td>&lt; 1 year</td>\n",
              "      <td>RENT</td>\n",
              "      <td>15.27%</td>\n",
              "      <td>2500</td>\n",
              "      <td>car</td>\n",
              "      <td>60 months</td>\n",
              "      <td>C</td>\n",
              "    </tr>\n",
              "    <tr>\n",
              "      <th>2</th>\n",
              "      <td>Fully Paid</td>\n",
              "      <td>12252.0</td>\n",
              "      <td>Not Verified</td>\n",
              "      <td>10+ years</td>\n",
              "      <td>RENT</td>\n",
              "      <td>15.96%</td>\n",
              "      <td>2400</td>\n",
              "      <td>small_business</td>\n",
              "      <td>36 months</td>\n",
              "      <td>C</td>\n",
              "    </tr>\n",
              "    <tr>\n",
              "      <th>3</th>\n",
              "      <td>Fully Paid</td>\n",
              "      <td>49200.0</td>\n",
              "      <td>Source Verified</td>\n",
              "      <td>10+ years</td>\n",
              "      <td>RENT</td>\n",
              "      <td>13.49%</td>\n",
              "      <td>10000</td>\n",
              "      <td>other</td>\n",
              "      <td>36 months</td>\n",
              "      <td>C</td>\n",
              "    </tr>\n",
              "    <tr>\n",
              "      <th>4</th>\n",
              "      <td>Fully Paid</td>\n",
              "      <td>80000.0</td>\n",
              "      <td>Source Verified</td>\n",
              "      <td>1 year</td>\n",
              "      <td>RENT</td>\n",
              "      <td>12.69%</td>\n",
              "      <td>3000</td>\n",
              "      <td>other</td>\n",
              "      <td>60 months</td>\n",
              "      <td>B</td>\n",
              "    </tr>\n",
              "  </tbody>\n",
              "</table>\n",
              "</div>"
            ],
            "text/plain": [
              "   loan_status  annual_inc  ...        term grade\n",
              "0   Fully Paid     24000.0  ...   36 months     B\n",
              "1  Charged Off     30000.0  ...   60 months     C\n",
              "2   Fully Paid     12252.0  ...   36 months     C\n",
              "3   Fully Paid     49200.0  ...   36 months     C\n",
              "4   Fully Paid     80000.0  ...   60 months     B\n",
              "\n",
              "[5 rows x 10 columns]"
            ]
          },
          "metadata": {},
          "execution_count": 1227
        }
      ]
    },
    {
      "cell_type": "code",
      "metadata": {
        "colab": {
          "base_uri": "https://localhost:8080/",
          "height": 201
        },
        "id": "M3xjAqkt9l_u",
        "outputId": "dfbff122-7d3f-4f04-c8aa-af361b4daf2b"
      },
      "source": [
        "#seleccionamos las columas que estamos interesados  \n",
        "wu=wu[['loan_status','annual_inc','int_rate','loan_amnt','home_ownership']]\n",
        "wu.head()"
      ],
      "execution_count": 1228,
      "outputs": [
        {
          "output_type": "execute_result",
          "data": {
            "text/html": [
              "<div>\n",
              "<style scoped>\n",
              "    .dataframe tbody tr th:only-of-type {\n",
              "        vertical-align: middle;\n",
              "    }\n",
              "\n",
              "    .dataframe tbody tr th {\n",
              "        vertical-align: top;\n",
              "    }\n",
              "\n",
              "    .dataframe thead th {\n",
              "        text-align: right;\n",
              "    }\n",
              "</style>\n",
              "<table border=\"1\" class=\"dataframe\">\n",
              "  <thead>\n",
              "    <tr style=\"text-align: right;\">\n",
              "      <th></th>\n",
              "      <th>loan_status</th>\n",
              "      <th>annual_inc</th>\n",
              "      <th>int_rate</th>\n",
              "      <th>loan_amnt</th>\n",
              "      <th>home_ownership</th>\n",
              "    </tr>\n",
              "  </thead>\n",
              "  <tbody>\n",
              "    <tr>\n",
              "      <th>0</th>\n",
              "      <td>Fully Paid</td>\n",
              "      <td>24000.0</td>\n",
              "      <td>10.65%</td>\n",
              "      <td>5000</td>\n",
              "      <td>RENT</td>\n",
              "    </tr>\n",
              "    <tr>\n",
              "      <th>1</th>\n",
              "      <td>Charged Off</td>\n",
              "      <td>30000.0</td>\n",
              "      <td>15.27%</td>\n",
              "      <td>2500</td>\n",
              "      <td>RENT</td>\n",
              "    </tr>\n",
              "    <tr>\n",
              "      <th>2</th>\n",
              "      <td>Fully Paid</td>\n",
              "      <td>12252.0</td>\n",
              "      <td>15.96%</td>\n",
              "      <td>2400</td>\n",
              "      <td>RENT</td>\n",
              "    </tr>\n",
              "    <tr>\n",
              "      <th>3</th>\n",
              "      <td>Fully Paid</td>\n",
              "      <td>49200.0</td>\n",
              "      <td>13.49%</td>\n",
              "      <td>10000</td>\n",
              "      <td>RENT</td>\n",
              "    </tr>\n",
              "    <tr>\n",
              "      <th>4</th>\n",
              "      <td>Fully Paid</td>\n",
              "      <td>80000.0</td>\n",
              "      <td>12.69%</td>\n",
              "      <td>3000</td>\n",
              "      <td>RENT</td>\n",
              "    </tr>\n",
              "  </tbody>\n",
              "</table>\n",
              "</div>"
            ],
            "text/plain": [
              "   loan_status  annual_inc int_rate  loan_amnt home_ownership\n",
              "0   Fully Paid     24000.0   10.65%       5000           RENT\n",
              "1  Charged Off     30000.0   15.27%       2500           RENT\n",
              "2   Fully Paid     12252.0   15.96%       2400           RENT\n",
              "3   Fully Paid     49200.0   13.49%      10000           RENT\n",
              "4   Fully Paid     80000.0   12.69%       3000           RENT"
            ]
          },
          "metadata": {},
          "execution_count": 1228
        }
      ]
    },
    {
      "cell_type": "code",
      "metadata": {
        "id": "ED6huvd-9r-6"
      },
      "source": [
        "wu[\"int_rate\"] = wu[\"int_rate\"].str.rstrip('%').astype('float')"
      ],
      "execution_count": 1229,
      "outputs": []
    },
    {
      "cell_type": "code",
      "metadata": {
        "colab": {
          "base_uri": "https://localhost:8080/",
          "height": 201
        },
        "id": "dCVLkrRL9wFV",
        "outputId": "0ad98cda-4a87-4996-e70f-ae4d8f930597"
      },
      "source": [
        "wu = pd.get_dummies(wu, columns=['home_ownership'], drop_first=True)\n",
        "wu.replace({'loan_status': {\"Charged Off\":0, \"Fully Paid\":1},}, inplace=True)\n",
        "wu.head(5)"
      ],
      "execution_count": 1230,
      "outputs": [
        {
          "output_type": "execute_result",
          "data": {
            "text/html": [
              "<div>\n",
              "<style scoped>\n",
              "    .dataframe tbody tr th:only-of-type {\n",
              "        vertical-align: middle;\n",
              "    }\n",
              "\n",
              "    .dataframe tbody tr th {\n",
              "        vertical-align: top;\n",
              "    }\n",
              "\n",
              "    .dataframe thead th {\n",
              "        text-align: right;\n",
              "    }\n",
              "</style>\n",
              "<table border=\"1\" class=\"dataframe\">\n",
              "  <thead>\n",
              "    <tr style=\"text-align: right;\">\n",
              "      <th></th>\n",
              "      <th>loan_status</th>\n",
              "      <th>annual_inc</th>\n",
              "      <th>int_rate</th>\n",
              "      <th>loan_amnt</th>\n",
              "      <th>home_ownership_OTHER</th>\n",
              "      <th>home_ownership_OWN</th>\n",
              "      <th>home_ownership_RENT</th>\n",
              "    </tr>\n",
              "  </thead>\n",
              "  <tbody>\n",
              "    <tr>\n",
              "      <th>0</th>\n",
              "      <td>1</td>\n",
              "      <td>24000.0</td>\n",
              "      <td>10.65</td>\n",
              "      <td>5000</td>\n",
              "      <td>0</td>\n",
              "      <td>0</td>\n",
              "      <td>1</td>\n",
              "    </tr>\n",
              "    <tr>\n",
              "      <th>1</th>\n",
              "      <td>0</td>\n",
              "      <td>30000.0</td>\n",
              "      <td>15.27</td>\n",
              "      <td>2500</td>\n",
              "      <td>0</td>\n",
              "      <td>0</td>\n",
              "      <td>1</td>\n",
              "    </tr>\n",
              "    <tr>\n",
              "      <th>2</th>\n",
              "      <td>1</td>\n",
              "      <td>12252.0</td>\n",
              "      <td>15.96</td>\n",
              "      <td>2400</td>\n",
              "      <td>0</td>\n",
              "      <td>0</td>\n",
              "      <td>1</td>\n",
              "    </tr>\n",
              "    <tr>\n",
              "      <th>3</th>\n",
              "      <td>1</td>\n",
              "      <td>49200.0</td>\n",
              "      <td>13.49</td>\n",
              "      <td>10000</td>\n",
              "      <td>0</td>\n",
              "      <td>0</td>\n",
              "      <td>1</td>\n",
              "    </tr>\n",
              "    <tr>\n",
              "      <th>4</th>\n",
              "      <td>1</td>\n",
              "      <td>80000.0</td>\n",
              "      <td>12.69</td>\n",
              "      <td>3000</td>\n",
              "      <td>0</td>\n",
              "      <td>0</td>\n",
              "      <td>1</td>\n",
              "    </tr>\n",
              "  </tbody>\n",
              "</table>\n",
              "</div>"
            ],
            "text/plain": [
              "   loan_status  annual_inc  ...  home_ownership_OWN  home_ownership_RENT\n",
              "0            1     24000.0  ...                   0                    1\n",
              "1            0     30000.0  ...                   0                    1\n",
              "2            1     12252.0  ...                   0                    1\n",
              "3            1     49200.0  ...                   0                    1\n",
              "4            1     80000.0  ...                   0                    1\n",
              "\n",
              "[5 rows x 7 columns]"
            ]
          },
          "metadata": {},
          "execution_count": 1230
        }
      ]
    },
    {
      "cell_type": "code",
      "metadata": {
        "colab": {
          "base_uri": "https://localhost:8080/",
          "height": 201
        },
        "id": "J9uAeR5p9rz6",
        "outputId": "9dc90bc2-53ca-4b74-9f9e-1069d61477c7"
      },
      "source": [
        "#seleccionamos las columas que estamos interesados  \n",
        "wun=wu[['loan_status','annual_inc','int_rate','loan_amnt']]\n",
        "wun.head()"
      ],
      "execution_count": 1231,
      "outputs": [
        {
          "output_type": "execute_result",
          "data": {
            "text/html": [
              "<div>\n",
              "<style scoped>\n",
              "    .dataframe tbody tr th:only-of-type {\n",
              "        vertical-align: middle;\n",
              "    }\n",
              "\n",
              "    .dataframe tbody tr th {\n",
              "        vertical-align: top;\n",
              "    }\n",
              "\n",
              "    .dataframe thead th {\n",
              "        text-align: right;\n",
              "    }\n",
              "</style>\n",
              "<table border=\"1\" class=\"dataframe\">\n",
              "  <thead>\n",
              "    <tr style=\"text-align: right;\">\n",
              "      <th></th>\n",
              "      <th>loan_status</th>\n",
              "      <th>annual_inc</th>\n",
              "      <th>int_rate</th>\n",
              "      <th>loan_amnt</th>\n",
              "    </tr>\n",
              "  </thead>\n",
              "  <tbody>\n",
              "    <tr>\n",
              "      <th>0</th>\n",
              "      <td>1</td>\n",
              "      <td>24000.0</td>\n",
              "      <td>10.65</td>\n",
              "      <td>5000</td>\n",
              "    </tr>\n",
              "    <tr>\n",
              "      <th>1</th>\n",
              "      <td>0</td>\n",
              "      <td>30000.0</td>\n",
              "      <td>15.27</td>\n",
              "      <td>2500</td>\n",
              "    </tr>\n",
              "    <tr>\n",
              "      <th>2</th>\n",
              "      <td>1</td>\n",
              "      <td>12252.0</td>\n",
              "      <td>15.96</td>\n",
              "      <td>2400</td>\n",
              "    </tr>\n",
              "    <tr>\n",
              "      <th>3</th>\n",
              "      <td>1</td>\n",
              "      <td>49200.0</td>\n",
              "      <td>13.49</td>\n",
              "      <td>10000</td>\n",
              "    </tr>\n",
              "    <tr>\n",
              "      <th>4</th>\n",
              "      <td>1</td>\n",
              "      <td>80000.0</td>\n",
              "      <td>12.69</td>\n",
              "      <td>3000</td>\n",
              "    </tr>\n",
              "  </tbody>\n",
              "</table>\n",
              "</div>"
            ],
            "text/plain": [
              "   loan_status  annual_inc  int_rate  loan_amnt\n",
              "0            1     24000.0     10.65       5000\n",
              "1            0     30000.0     15.27       2500\n",
              "2            1     12252.0     15.96       2400\n",
              "3            1     49200.0     13.49      10000\n",
              "4            1     80000.0     12.69       3000"
            ]
          },
          "metadata": {},
          "execution_count": 1231
        }
      ]
    },
    {
      "cell_type": "code",
      "metadata": {
        "id": "dXH4M3mi9_3c"
      },
      "source": [
        "X1 =wun[['loan_amnt',\t'annual_inc','int_rate']]\n",
        "y1 =wun[['loan_status']]\n"
      ],
      "execution_count": 1236,
      "outputs": []
    },
    {
      "cell_type": "code",
      "metadata": {
        "colab": {
          "base_uri": "https://localhost:8080/"
        },
        "id": "RvpKzJYA-GCi",
        "outputId": "1ad9c4fa-5ad8-43c4-c5e3-19113ec17ca5"
      },
      "source": [
        "regresion_logistica.fit(X1,y)"
      ],
      "execution_count": 1237,
      "outputs": [
        {
          "output_type": "stream",
          "name": "stderr",
          "text": [
            "/usr/local/lib/python3.7/dist-packages/sklearn/utils/validation.py:760: DataConversionWarning: A column-vector y was passed when a 1d array was expected. Please change the shape of y to (n_samples, ), for example using ravel().\n",
            "  y = column_or_1d(y, warn=True)\n"
          ]
        },
        {
          "output_type": "execute_result",
          "data": {
            "text/plain": [
              "LogisticRegression(C=1.0, class_weight=None, dual=False, fit_intercept=True,\n",
              "                   intercept_scaling=1, l1_ratio=None, max_iter=100,\n",
              "                   multi_class='auto', n_jobs=None, penalty='l2',\n",
              "                   random_state=None, solver='lbfgs', tol=0.0001, verbose=0,\n",
              "                   warm_start=False)"
            ]
          },
          "metadata": {},
          "execution_count": 1237
        }
      ]
    },
    {
      "cell_type": "code",
      "metadata": {
        "colab": {
          "base_uri": "https://localhost:8080/",
          "height": 412
        },
        "id": "b68bcQlX-OL9",
        "outputId": "adbfabf1-125c-4d63-aba9-07bcb841888f"
      },
      "source": [
        "X1"
      ],
      "execution_count": 1238,
      "outputs": [
        {
          "output_type": "execute_result",
          "data": {
            "text/html": [
              "<div>\n",
              "<style scoped>\n",
              "    .dataframe tbody tr th:only-of-type {\n",
              "        vertical-align: middle;\n",
              "    }\n",
              "\n",
              "    .dataframe tbody tr th {\n",
              "        vertical-align: top;\n",
              "    }\n",
              "\n",
              "    .dataframe thead th {\n",
              "        text-align: right;\n",
              "    }\n",
              "</style>\n",
              "<table border=\"1\" class=\"dataframe\">\n",
              "  <thead>\n",
              "    <tr style=\"text-align: right;\">\n",
              "      <th></th>\n",
              "      <th>loan_amnt</th>\n",
              "      <th>annual_inc</th>\n",
              "      <th>int_rate</th>\n",
              "    </tr>\n",
              "  </thead>\n",
              "  <tbody>\n",
              "    <tr>\n",
              "      <th>0</th>\n",
              "      <td>5000</td>\n",
              "      <td>24000.0</td>\n",
              "      <td>10.65</td>\n",
              "    </tr>\n",
              "    <tr>\n",
              "      <th>1</th>\n",
              "      <td>2500</td>\n",
              "      <td>30000.0</td>\n",
              "      <td>15.27</td>\n",
              "    </tr>\n",
              "    <tr>\n",
              "      <th>2</th>\n",
              "      <td>2400</td>\n",
              "      <td>12252.0</td>\n",
              "      <td>15.96</td>\n",
              "    </tr>\n",
              "    <tr>\n",
              "      <th>3</th>\n",
              "      <td>10000</td>\n",
              "      <td>49200.0</td>\n",
              "      <td>13.49</td>\n",
              "    </tr>\n",
              "    <tr>\n",
              "      <th>4</th>\n",
              "      <td>3000</td>\n",
              "      <td>80000.0</td>\n",
              "      <td>12.69</td>\n",
              "    </tr>\n",
              "    <tr>\n",
              "      <th>...</th>\n",
              "      <td>...</td>\n",
              "      <td>...</td>\n",
              "      <td>...</td>\n",
              "    </tr>\n",
              "    <tr>\n",
              "      <th>38700</th>\n",
              "      <td>2500</td>\n",
              "      <td>110000.0</td>\n",
              "      <td>8.07</td>\n",
              "    </tr>\n",
              "    <tr>\n",
              "      <th>38701</th>\n",
              "      <td>8500</td>\n",
              "      <td>18000.0</td>\n",
              "      <td>10.28</td>\n",
              "    </tr>\n",
              "    <tr>\n",
              "      <th>38702</th>\n",
              "      <td>5000</td>\n",
              "      <td>100000.0</td>\n",
              "      <td>8.07</td>\n",
              "    </tr>\n",
              "    <tr>\n",
              "      <th>38703</th>\n",
              "      <td>5000</td>\n",
              "      <td>200000.0</td>\n",
              "      <td>7.43</td>\n",
              "    </tr>\n",
              "    <tr>\n",
              "      <th>38704</th>\n",
              "      <td>7500</td>\n",
              "      <td>22000.0</td>\n",
              "      <td>13.75</td>\n",
              "    </tr>\n",
              "  </tbody>\n",
              "</table>\n",
              "<p>38705 rows × 3 columns</p>\n",
              "</div>"
            ],
            "text/plain": [
              "       loan_amnt  annual_inc  int_rate\n",
              "0           5000     24000.0     10.65\n",
              "1           2500     30000.0     15.27\n",
              "2           2400     12252.0     15.96\n",
              "3          10000     49200.0     13.49\n",
              "4           3000     80000.0     12.69\n",
              "...          ...         ...       ...\n",
              "38700       2500    110000.0      8.07\n",
              "38701       8500     18000.0     10.28\n",
              "38702       5000    100000.0      8.07\n",
              "38703       5000    200000.0      7.43\n",
              "38704       7500     22000.0     13.75\n",
              "\n",
              "[38705 rows x 3 columns]"
            ]
          },
          "metadata": {},
          "execution_count": 1238
        }
      ]
    },
    {
      "cell_type": "code",
      "metadata": {
        "colab": {
          "base_uri": "https://localhost:8080/",
          "height": 412
        },
        "id": "1bXX-IKl-Qjb",
        "outputId": "7760a19c-5811-480c-ca83-5b4e752fc677"
      },
      "source": [
        "y1"
      ],
      "execution_count": 1239,
      "outputs": [
        {
          "output_type": "execute_result",
          "data": {
            "text/html": [
              "<div>\n",
              "<style scoped>\n",
              "    .dataframe tbody tr th:only-of-type {\n",
              "        vertical-align: middle;\n",
              "    }\n",
              "\n",
              "    .dataframe tbody tr th {\n",
              "        vertical-align: top;\n",
              "    }\n",
              "\n",
              "    .dataframe thead th {\n",
              "        text-align: right;\n",
              "    }\n",
              "</style>\n",
              "<table border=\"1\" class=\"dataframe\">\n",
              "  <thead>\n",
              "    <tr style=\"text-align: right;\">\n",
              "      <th></th>\n",
              "      <th>loan_status</th>\n",
              "    </tr>\n",
              "  </thead>\n",
              "  <tbody>\n",
              "    <tr>\n",
              "      <th>0</th>\n",
              "      <td>1</td>\n",
              "    </tr>\n",
              "    <tr>\n",
              "      <th>1</th>\n",
              "      <td>0</td>\n",
              "    </tr>\n",
              "    <tr>\n",
              "      <th>2</th>\n",
              "      <td>1</td>\n",
              "    </tr>\n",
              "    <tr>\n",
              "      <th>3</th>\n",
              "      <td>1</td>\n",
              "    </tr>\n",
              "    <tr>\n",
              "      <th>4</th>\n",
              "      <td>1</td>\n",
              "    </tr>\n",
              "    <tr>\n",
              "      <th>...</th>\n",
              "      <td>...</td>\n",
              "    </tr>\n",
              "    <tr>\n",
              "      <th>38700</th>\n",
              "      <td>1</td>\n",
              "    </tr>\n",
              "    <tr>\n",
              "      <th>38701</th>\n",
              "      <td>1</td>\n",
              "    </tr>\n",
              "    <tr>\n",
              "      <th>38702</th>\n",
              "      <td>1</td>\n",
              "    </tr>\n",
              "    <tr>\n",
              "      <th>38703</th>\n",
              "      <td>1</td>\n",
              "    </tr>\n",
              "    <tr>\n",
              "      <th>38704</th>\n",
              "      <td>1</td>\n",
              "    </tr>\n",
              "  </tbody>\n",
              "</table>\n",
              "<p>38705 rows × 1 columns</p>\n",
              "</div>"
            ],
            "text/plain": [
              "       loan_status\n",
              "0                1\n",
              "1                0\n",
              "2                1\n",
              "3                1\n",
              "4                1\n",
              "...            ...\n",
              "38700            1\n",
              "38701            1\n",
              "38702            1\n",
              "38703            1\n",
              "38704            1\n",
              "\n",
              "[38705 rows x 1 columns]"
            ]
          },
          "metadata": {},
          "execution_count": 1239
        }
      ]
    },
    {
      "cell_type": "code",
      "metadata": {
        "colab": {
          "base_uri": "https://localhost:8080/"
        },
        "id": "IEdiVPrIEvZ6",
        "outputId": "2ac7af9e-4ba9-482b-9a35-eca5c3880afa"
      },
      "source": [
        "regresion_logistica.predict(X1)[:5]"
      ],
      "execution_count": 1240,
      "outputs": [
        {
          "output_type": "execute_result",
          "data": {
            "text/plain": [
              "array([1, 1, 1, 1, 1])"
            ]
          },
          "metadata": {},
          "execution_count": 1240
        }
      ]
    },
    {
      "cell_type": "code",
      "metadata": {
        "colab": {
          "base_uri": "https://localhost:8080/"
        },
        "id": "_ZaPVCbc-oKz",
        "outputId": "f261cd56-6bcf-4a74-df25-4256d48e80f9"
      },
      "source": [
        "from sklearn.metrics import precision_score\n",
        "precision_score(y1, regresion_logistica.predict(X1))"
      ],
      "execution_count": 1241,
      "outputs": [
        {
          "output_type": "execute_result",
          "data": {
            "text/plain": [
              "0.8594496835034233"
            ]
          },
          "metadata": {},
          "execution_count": 1241
        }
      ]
    },
    {
      "cell_type": "code",
      "metadata": {
        "id": "2XuKGuzX-xAa"
      },
      "source": [
        "#CON LA METRICA DE PRESICION SE TIENE APROXIMADAMENTE UN 86% DE FACTIBILIDAD QUE LOS CLIENTES PAGARAN LOS CREDITOS"
      ],
      "execution_count": 1242,
      "outputs": []
    },
    {
      "cell_type": "markdown",
      "metadata": {
        "id": "FPSrcfQfuMbS"
      },
      "source": [
        "#Ejercicio 2 Árbol aleatorio (random forest) "
      ]
    },
    {
      "cell_type": "code",
      "metadata": {
        "id": "2pz2Bj5VNW6S"
      },
      "source": [
        "#Carga de las librerías\n",
        "import urllib.request\n",
        "import pandas as pd\n",
        "from sklearn.model_selection import train_test_split\n",
        "from sklearn.ensemble import RandomForestClassifier\n",
        "from sklearn.tree import DecisionTreeClassifier"
      ],
      "execution_count": 1243,
      "outputs": []
    },
    {
      "cell_type": "code",
      "metadata": {
        "id": "cMSCnefxNfbN",
        "colab": {
          "base_uri": "https://localhost:8080/",
          "height": 221
        },
        "outputId": "4db87e1b-0d36-4828-ba90-2bef32cfed4c"
      },
      "source": [
        "dfN2.head(5)"
      ],
      "execution_count": 1244,
      "outputs": [
        {
          "output_type": "execute_result",
          "data": {
            "text/html": [
              "<div>\n",
              "<style scoped>\n",
              "    .dataframe tbody tr th:only-of-type {\n",
              "        vertical-align: middle;\n",
              "    }\n",
              "\n",
              "    .dataframe tbody tr th {\n",
              "        vertical-align: top;\n",
              "    }\n",
              "\n",
              "    .dataframe thead th {\n",
              "        text-align: right;\n",
              "    }\n",
              "</style>\n",
              "<table border=\"1\" class=\"dataframe\">\n",
              "  <thead>\n",
              "    <tr style=\"text-align: right;\">\n",
              "      <th></th>\n",
              "      <th>loan_status</th>\n",
              "      <th>annual_inc</th>\n",
              "      <th>int_rate</th>\n",
              "      <th>loan_amnt</th>\n",
              "      <th>purpose_car</th>\n",
              "      <th>purpose_credit_card</th>\n",
              "      <th>purpose_debt_consolidation</th>\n",
              "      <th>purpose_educational</th>\n",
              "      <th>purpose_home_improvement</th>\n",
              "      <th>purpose_house</th>\n",
              "      <th>purpose_major_purchase</th>\n",
              "      <th>purpose_medical</th>\n",
              "      <th>purpose_moving</th>\n",
              "      <th>purpose_other</th>\n",
              "      <th>purpose_renewable_energy</th>\n",
              "      <th>purpose_small_business</th>\n",
              "      <th>purpose_vacation</th>\n",
              "      <th>purpose_wedding</th>\n",
              "      <th>grade_A</th>\n",
              "      <th>grade_B</th>\n",
              "      <th>grade_C</th>\n",
              "      <th>grade_D</th>\n",
              "      <th>grade_E</th>\n",
              "      <th>grade_F</th>\n",
              "      <th>grade_G</th>\n",
              "      <th>home_ownership_OTHER</th>\n",
              "      <th>home_ownership_OWN</th>\n",
              "      <th>home_ownership_RENT</th>\n",
              "    </tr>\n",
              "  </thead>\n",
              "  <tbody>\n",
              "    <tr>\n",
              "      <th>0</th>\n",
              "      <td>1</td>\n",
              "      <td>24000.0</td>\n",
              "      <td>10.65</td>\n",
              "      <td>5000</td>\n",
              "      <td>0</td>\n",
              "      <td>1</td>\n",
              "      <td>0</td>\n",
              "      <td>0</td>\n",
              "      <td>0</td>\n",
              "      <td>0</td>\n",
              "      <td>0</td>\n",
              "      <td>0</td>\n",
              "      <td>0</td>\n",
              "      <td>0</td>\n",
              "      <td>0</td>\n",
              "      <td>0</td>\n",
              "      <td>0</td>\n",
              "      <td>0</td>\n",
              "      <td>0</td>\n",
              "      <td>1</td>\n",
              "      <td>0</td>\n",
              "      <td>0</td>\n",
              "      <td>0</td>\n",
              "      <td>0</td>\n",
              "      <td>0</td>\n",
              "      <td>0</td>\n",
              "      <td>0</td>\n",
              "      <td>1</td>\n",
              "    </tr>\n",
              "    <tr>\n",
              "      <th>1</th>\n",
              "      <td>0</td>\n",
              "      <td>30000.0</td>\n",
              "      <td>15.27</td>\n",
              "      <td>2500</td>\n",
              "      <td>1</td>\n",
              "      <td>0</td>\n",
              "      <td>0</td>\n",
              "      <td>0</td>\n",
              "      <td>0</td>\n",
              "      <td>0</td>\n",
              "      <td>0</td>\n",
              "      <td>0</td>\n",
              "      <td>0</td>\n",
              "      <td>0</td>\n",
              "      <td>0</td>\n",
              "      <td>0</td>\n",
              "      <td>0</td>\n",
              "      <td>0</td>\n",
              "      <td>0</td>\n",
              "      <td>0</td>\n",
              "      <td>1</td>\n",
              "      <td>0</td>\n",
              "      <td>0</td>\n",
              "      <td>0</td>\n",
              "      <td>0</td>\n",
              "      <td>0</td>\n",
              "      <td>0</td>\n",
              "      <td>1</td>\n",
              "    </tr>\n",
              "    <tr>\n",
              "      <th>2</th>\n",
              "      <td>1</td>\n",
              "      <td>12252.0</td>\n",
              "      <td>15.96</td>\n",
              "      <td>2400</td>\n",
              "      <td>0</td>\n",
              "      <td>0</td>\n",
              "      <td>0</td>\n",
              "      <td>0</td>\n",
              "      <td>0</td>\n",
              "      <td>0</td>\n",
              "      <td>0</td>\n",
              "      <td>0</td>\n",
              "      <td>0</td>\n",
              "      <td>0</td>\n",
              "      <td>0</td>\n",
              "      <td>1</td>\n",
              "      <td>0</td>\n",
              "      <td>0</td>\n",
              "      <td>0</td>\n",
              "      <td>0</td>\n",
              "      <td>1</td>\n",
              "      <td>0</td>\n",
              "      <td>0</td>\n",
              "      <td>0</td>\n",
              "      <td>0</td>\n",
              "      <td>0</td>\n",
              "      <td>0</td>\n",
              "      <td>1</td>\n",
              "    </tr>\n",
              "    <tr>\n",
              "      <th>3</th>\n",
              "      <td>1</td>\n",
              "      <td>49200.0</td>\n",
              "      <td>13.49</td>\n",
              "      <td>10000</td>\n",
              "      <td>0</td>\n",
              "      <td>0</td>\n",
              "      <td>0</td>\n",
              "      <td>0</td>\n",
              "      <td>0</td>\n",
              "      <td>0</td>\n",
              "      <td>0</td>\n",
              "      <td>0</td>\n",
              "      <td>0</td>\n",
              "      <td>1</td>\n",
              "      <td>0</td>\n",
              "      <td>0</td>\n",
              "      <td>0</td>\n",
              "      <td>0</td>\n",
              "      <td>0</td>\n",
              "      <td>0</td>\n",
              "      <td>1</td>\n",
              "      <td>0</td>\n",
              "      <td>0</td>\n",
              "      <td>0</td>\n",
              "      <td>0</td>\n",
              "      <td>0</td>\n",
              "      <td>0</td>\n",
              "      <td>1</td>\n",
              "    </tr>\n",
              "    <tr>\n",
              "      <th>4</th>\n",
              "      <td>1</td>\n",
              "      <td>80000.0</td>\n",
              "      <td>12.69</td>\n",
              "      <td>3000</td>\n",
              "      <td>0</td>\n",
              "      <td>0</td>\n",
              "      <td>0</td>\n",
              "      <td>0</td>\n",
              "      <td>0</td>\n",
              "      <td>0</td>\n",
              "      <td>0</td>\n",
              "      <td>0</td>\n",
              "      <td>0</td>\n",
              "      <td>1</td>\n",
              "      <td>0</td>\n",
              "      <td>0</td>\n",
              "      <td>0</td>\n",
              "      <td>0</td>\n",
              "      <td>0</td>\n",
              "      <td>1</td>\n",
              "      <td>0</td>\n",
              "      <td>0</td>\n",
              "      <td>0</td>\n",
              "      <td>0</td>\n",
              "      <td>0</td>\n",
              "      <td>0</td>\n",
              "      <td>0</td>\n",
              "      <td>1</td>\n",
              "    </tr>\n",
              "  </tbody>\n",
              "</table>\n",
              "</div>"
            ],
            "text/plain": [
              "   loan_status  annual_inc  ...  home_ownership_OWN  home_ownership_RENT\n",
              "0            1     24000.0  ...                   0                    1\n",
              "1            0     30000.0  ...                   0                    1\n",
              "2            1     12252.0  ...                   0                    1\n",
              "3            1     49200.0  ...                   0                    1\n",
              "4            1     80000.0  ...                   0                    1\n",
              "\n",
              "[5 rows x 28 columns]"
            ]
          },
          "metadata": {},
          "execution_count": 1244
        }
      ]
    },
    {
      "cell_type": "code",
      "metadata": {
        "id": "8xmehWR4Nm3U",
        "colab": {
          "base_uri": "https://localhost:8080/"
        },
        "outputId": "2a85066a-e5e8-4b52-f027-9014918d9875"
      },
      "source": [
        "dfN2.shape"
      ],
      "execution_count": 1245,
      "outputs": [
        {
          "output_type": "execute_result",
          "data": {
            "text/plain": [
              "(38705, 28)"
            ]
          },
          "metadata": {},
          "execution_count": 1245
        }
      ]
    },
    {
      "cell_type": "code",
      "metadata": {
        "id": "stcRCPl6NsGZ",
        "colab": {
          "base_uri": "https://localhost:8080/"
        },
        "outputId": "f1ce90a6-e4c2-403d-b95b-9cf5b1b854d5"
      },
      "source": [
        "dfN2.info()"
      ],
      "execution_count": 1246,
      "outputs": [
        {
          "output_type": "stream",
          "name": "stdout",
          "text": [
            "<class 'pandas.core.frame.DataFrame'>\n",
            "RangeIndex: 38705 entries, 0 to 38704\n",
            "Data columns (total 28 columns):\n",
            " #   Column                      Non-Null Count  Dtype  \n",
            "---  ------                      --------------  -----  \n",
            " 0   loan_status                 38705 non-null  int64  \n",
            " 1   annual_inc                  38705 non-null  float64\n",
            " 2   int_rate                    38705 non-null  float64\n",
            " 3   loan_amnt                   38705 non-null  int64  \n",
            " 4   purpose_car                 38705 non-null  uint8  \n",
            " 5   purpose_credit_card         38705 non-null  uint8  \n",
            " 6   purpose_debt_consolidation  38705 non-null  uint8  \n",
            " 7   purpose_educational         38705 non-null  uint8  \n",
            " 8   purpose_home_improvement    38705 non-null  uint8  \n",
            " 9   purpose_house               38705 non-null  uint8  \n",
            " 10  purpose_major_purchase      38705 non-null  uint8  \n",
            " 11  purpose_medical             38705 non-null  uint8  \n",
            " 12  purpose_moving              38705 non-null  uint8  \n",
            " 13  purpose_other               38705 non-null  uint8  \n",
            " 14  purpose_renewable_energy    38705 non-null  uint8  \n",
            " 15  purpose_small_business      38705 non-null  uint8  \n",
            " 16  purpose_vacation            38705 non-null  uint8  \n",
            " 17  purpose_wedding             38705 non-null  uint8  \n",
            " 18  grade_A                     38705 non-null  uint8  \n",
            " 19  grade_B                     38705 non-null  uint8  \n",
            " 20  grade_C                     38705 non-null  uint8  \n",
            " 21  grade_D                     38705 non-null  uint8  \n",
            " 22  grade_E                     38705 non-null  uint8  \n",
            " 23  grade_F                     38705 non-null  uint8  \n",
            " 24  grade_G                     38705 non-null  uint8  \n",
            " 25  home_ownership_OTHER        38705 non-null  uint8  \n",
            " 26  home_ownership_OWN          38705 non-null  uint8  \n",
            " 27  home_ownership_RENT         38705 non-null  uint8  \n",
            "dtypes: float64(2), int64(2), uint8(24)\n",
            "memory usage: 2.1 MB\n"
          ]
        }
      ]
    },
    {
      "cell_type": "code",
      "metadata": {
        "id": "Nxy1lv1WNwzd",
        "colab": {
          "base_uri": "https://localhost:8080/"
        },
        "outputId": "cb15df9b-23c6-4722-900b-c31bf77b91f3"
      },
      "source": [
        "dfN2.isnull().sum()"
      ],
      "execution_count": 1247,
      "outputs": [
        {
          "output_type": "execute_result",
          "data": {
            "text/plain": [
              "loan_status                   0\n",
              "annual_inc                    0\n",
              "int_rate                      0\n",
              "loan_amnt                     0\n",
              "purpose_car                   0\n",
              "purpose_credit_card           0\n",
              "purpose_debt_consolidation    0\n",
              "purpose_educational           0\n",
              "purpose_home_improvement      0\n",
              "purpose_house                 0\n",
              "purpose_major_purchase        0\n",
              "purpose_medical               0\n",
              "purpose_moving                0\n",
              "purpose_other                 0\n",
              "purpose_renewable_energy      0\n",
              "purpose_small_business        0\n",
              "purpose_vacation              0\n",
              "purpose_wedding               0\n",
              "grade_A                       0\n",
              "grade_B                       0\n",
              "grade_C                       0\n",
              "grade_D                       0\n",
              "grade_E                       0\n",
              "grade_F                       0\n",
              "grade_G                       0\n",
              "home_ownership_OTHER          0\n",
              "home_ownership_OWN            0\n",
              "home_ownership_RENT           0\n",
              "dtype: int64"
            ]
          },
          "metadata": {},
          "execution_count": 1247
        }
      ]
    },
    {
      "cell_type": "code",
      "metadata": {
        "id": "Qj5P3JiqN-Ym"
      },
      "source": [
        "X = dfN2.drop(['loan_status'], axis=1)\n",
        "y = dfN2[['loan_status']]"
      ],
      "execution_count": 1248,
      "outputs": []
    },
    {
      "cell_type": "code",
      "metadata": {
        "id": "rQvLzD2qOBXl",
        "colab": {
          "base_uri": "https://localhost:8080/",
          "height": 432
        },
        "outputId": "f7bdeba5-3ccb-4a79-ad56-2918f04c7dfb"
      },
      "source": [
        "X"
      ],
      "execution_count": 1249,
      "outputs": [
        {
          "output_type": "execute_result",
          "data": {
            "text/html": [
              "<div>\n",
              "<style scoped>\n",
              "    .dataframe tbody tr th:only-of-type {\n",
              "        vertical-align: middle;\n",
              "    }\n",
              "\n",
              "    .dataframe tbody tr th {\n",
              "        vertical-align: top;\n",
              "    }\n",
              "\n",
              "    .dataframe thead th {\n",
              "        text-align: right;\n",
              "    }\n",
              "</style>\n",
              "<table border=\"1\" class=\"dataframe\">\n",
              "  <thead>\n",
              "    <tr style=\"text-align: right;\">\n",
              "      <th></th>\n",
              "      <th>annual_inc</th>\n",
              "      <th>int_rate</th>\n",
              "      <th>loan_amnt</th>\n",
              "      <th>purpose_car</th>\n",
              "      <th>purpose_credit_card</th>\n",
              "      <th>purpose_debt_consolidation</th>\n",
              "      <th>purpose_educational</th>\n",
              "      <th>purpose_home_improvement</th>\n",
              "      <th>purpose_house</th>\n",
              "      <th>purpose_major_purchase</th>\n",
              "      <th>purpose_medical</th>\n",
              "      <th>purpose_moving</th>\n",
              "      <th>purpose_other</th>\n",
              "      <th>purpose_renewable_energy</th>\n",
              "      <th>purpose_small_business</th>\n",
              "      <th>purpose_vacation</th>\n",
              "      <th>purpose_wedding</th>\n",
              "      <th>grade_A</th>\n",
              "      <th>grade_B</th>\n",
              "      <th>grade_C</th>\n",
              "      <th>grade_D</th>\n",
              "      <th>grade_E</th>\n",
              "      <th>grade_F</th>\n",
              "      <th>grade_G</th>\n",
              "      <th>home_ownership_OTHER</th>\n",
              "      <th>home_ownership_OWN</th>\n",
              "      <th>home_ownership_RENT</th>\n",
              "    </tr>\n",
              "  </thead>\n",
              "  <tbody>\n",
              "    <tr>\n",
              "      <th>0</th>\n",
              "      <td>24000.0</td>\n",
              "      <td>10.65</td>\n",
              "      <td>5000</td>\n",
              "      <td>0</td>\n",
              "      <td>1</td>\n",
              "      <td>0</td>\n",
              "      <td>0</td>\n",
              "      <td>0</td>\n",
              "      <td>0</td>\n",
              "      <td>0</td>\n",
              "      <td>0</td>\n",
              "      <td>0</td>\n",
              "      <td>0</td>\n",
              "      <td>0</td>\n",
              "      <td>0</td>\n",
              "      <td>0</td>\n",
              "      <td>0</td>\n",
              "      <td>0</td>\n",
              "      <td>1</td>\n",
              "      <td>0</td>\n",
              "      <td>0</td>\n",
              "      <td>0</td>\n",
              "      <td>0</td>\n",
              "      <td>0</td>\n",
              "      <td>0</td>\n",
              "      <td>0</td>\n",
              "      <td>1</td>\n",
              "    </tr>\n",
              "    <tr>\n",
              "      <th>1</th>\n",
              "      <td>30000.0</td>\n",
              "      <td>15.27</td>\n",
              "      <td>2500</td>\n",
              "      <td>1</td>\n",
              "      <td>0</td>\n",
              "      <td>0</td>\n",
              "      <td>0</td>\n",
              "      <td>0</td>\n",
              "      <td>0</td>\n",
              "      <td>0</td>\n",
              "      <td>0</td>\n",
              "      <td>0</td>\n",
              "      <td>0</td>\n",
              "      <td>0</td>\n",
              "      <td>0</td>\n",
              "      <td>0</td>\n",
              "      <td>0</td>\n",
              "      <td>0</td>\n",
              "      <td>0</td>\n",
              "      <td>1</td>\n",
              "      <td>0</td>\n",
              "      <td>0</td>\n",
              "      <td>0</td>\n",
              "      <td>0</td>\n",
              "      <td>0</td>\n",
              "      <td>0</td>\n",
              "      <td>1</td>\n",
              "    </tr>\n",
              "    <tr>\n",
              "      <th>2</th>\n",
              "      <td>12252.0</td>\n",
              "      <td>15.96</td>\n",
              "      <td>2400</td>\n",
              "      <td>0</td>\n",
              "      <td>0</td>\n",
              "      <td>0</td>\n",
              "      <td>0</td>\n",
              "      <td>0</td>\n",
              "      <td>0</td>\n",
              "      <td>0</td>\n",
              "      <td>0</td>\n",
              "      <td>0</td>\n",
              "      <td>0</td>\n",
              "      <td>0</td>\n",
              "      <td>1</td>\n",
              "      <td>0</td>\n",
              "      <td>0</td>\n",
              "      <td>0</td>\n",
              "      <td>0</td>\n",
              "      <td>1</td>\n",
              "      <td>0</td>\n",
              "      <td>0</td>\n",
              "      <td>0</td>\n",
              "      <td>0</td>\n",
              "      <td>0</td>\n",
              "      <td>0</td>\n",
              "      <td>1</td>\n",
              "    </tr>\n",
              "    <tr>\n",
              "      <th>3</th>\n",
              "      <td>49200.0</td>\n",
              "      <td>13.49</td>\n",
              "      <td>10000</td>\n",
              "      <td>0</td>\n",
              "      <td>0</td>\n",
              "      <td>0</td>\n",
              "      <td>0</td>\n",
              "      <td>0</td>\n",
              "      <td>0</td>\n",
              "      <td>0</td>\n",
              "      <td>0</td>\n",
              "      <td>0</td>\n",
              "      <td>1</td>\n",
              "      <td>0</td>\n",
              "      <td>0</td>\n",
              "      <td>0</td>\n",
              "      <td>0</td>\n",
              "      <td>0</td>\n",
              "      <td>0</td>\n",
              "      <td>1</td>\n",
              "      <td>0</td>\n",
              "      <td>0</td>\n",
              "      <td>0</td>\n",
              "      <td>0</td>\n",
              "      <td>0</td>\n",
              "      <td>0</td>\n",
              "      <td>1</td>\n",
              "    </tr>\n",
              "    <tr>\n",
              "      <th>4</th>\n",
              "      <td>80000.0</td>\n",
              "      <td>12.69</td>\n",
              "      <td>3000</td>\n",
              "      <td>0</td>\n",
              "      <td>0</td>\n",
              "      <td>0</td>\n",
              "      <td>0</td>\n",
              "      <td>0</td>\n",
              "      <td>0</td>\n",
              "      <td>0</td>\n",
              "      <td>0</td>\n",
              "      <td>0</td>\n",
              "      <td>1</td>\n",
              "      <td>0</td>\n",
              "      <td>0</td>\n",
              "      <td>0</td>\n",
              "      <td>0</td>\n",
              "      <td>0</td>\n",
              "      <td>1</td>\n",
              "      <td>0</td>\n",
              "      <td>0</td>\n",
              "      <td>0</td>\n",
              "      <td>0</td>\n",
              "      <td>0</td>\n",
              "      <td>0</td>\n",
              "      <td>0</td>\n",
              "      <td>1</td>\n",
              "    </tr>\n",
              "    <tr>\n",
              "      <th>...</th>\n",
              "      <td>...</td>\n",
              "      <td>...</td>\n",
              "      <td>...</td>\n",
              "      <td>...</td>\n",
              "      <td>...</td>\n",
              "      <td>...</td>\n",
              "      <td>...</td>\n",
              "      <td>...</td>\n",
              "      <td>...</td>\n",
              "      <td>...</td>\n",
              "      <td>...</td>\n",
              "      <td>...</td>\n",
              "      <td>...</td>\n",
              "      <td>...</td>\n",
              "      <td>...</td>\n",
              "      <td>...</td>\n",
              "      <td>...</td>\n",
              "      <td>...</td>\n",
              "      <td>...</td>\n",
              "      <td>...</td>\n",
              "      <td>...</td>\n",
              "      <td>...</td>\n",
              "      <td>...</td>\n",
              "      <td>...</td>\n",
              "      <td>...</td>\n",
              "      <td>...</td>\n",
              "      <td>...</td>\n",
              "    </tr>\n",
              "    <tr>\n",
              "      <th>38700</th>\n",
              "      <td>110000.0</td>\n",
              "      <td>8.07</td>\n",
              "      <td>2500</td>\n",
              "      <td>0</td>\n",
              "      <td>0</td>\n",
              "      <td>0</td>\n",
              "      <td>0</td>\n",
              "      <td>1</td>\n",
              "      <td>0</td>\n",
              "      <td>0</td>\n",
              "      <td>0</td>\n",
              "      <td>0</td>\n",
              "      <td>0</td>\n",
              "      <td>0</td>\n",
              "      <td>0</td>\n",
              "      <td>0</td>\n",
              "      <td>0</td>\n",
              "      <td>1</td>\n",
              "      <td>0</td>\n",
              "      <td>0</td>\n",
              "      <td>0</td>\n",
              "      <td>0</td>\n",
              "      <td>0</td>\n",
              "      <td>0</td>\n",
              "      <td>0</td>\n",
              "      <td>0</td>\n",
              "      <td>0</td>\n",
              "    </tr>\n",
              "    <tr>\n",
              "      <th>38701</th>\n",
              "      <td>18000.0</td>\n",
              "      <td>10.28</td>\n",
              "      <td>8500</td>\n",
              "      <td>0</td>\n",
              "      <td>1</td>\n",
              "      <td>0</td>\n",
              "      <td>0</td>\n",
              "      <td>0</td>\n",
              "      <td>0</td>\n",
              "      <td>0</td>\n",
              "      <td>0</td>\n",
              "      <td>0</td>\n",
              "      <td>0</td>\n",
              "      <td>0</td>\n",
              "      <td>0</td>\n",
              "      <td>0</td>\n",
              "      <td>0</td>\n",
              "      <td>0</td>\n",
              "      <td>0</td>\n",
              "      <td>1</td>\n",
              "      <td>0</td>\n",
              "      <td>0</td>\n",
              "      <td>0</td>\n",
              "      <td>0</td>\n",
              "      <td>0</td>\n",
              "      <td>0</td>\n",
              "      <td>1</td>\n",
              "    </tr>\n",
              "    <tr>\n",
              "      <th>38702</th>\n",
              "      <td>100000.0</td>\n",
              "      <td>8.07</td>\n",
              "      <td>5000</td>\n",
              "      <td>0</td>\n",
              "      <td>0</td>\n",
              "      <td>1</td>\n",
              "      <td>0</td>\n",
              "      <td>0</td>\n",
              "      <td>0</td>\n",
              "      <td>0</td>\n",
              "      <td>0</td>\n",
              "      <td>0</td>\n",
              "      <td>0</td>\n",
              "      <td>0</td>\n",
              "      <td>0</td>\n",
              "      <td>0</td>\n",
              "      <td>0</td>\n",
              "      <td>1</td>\n",
              "      <td>0</td>\n",
              "      <td>0</td>\n",
              "      <td>0</td>\n",
              "      <td>0</td>\n",
              "      <td>0</td>\n",
              "      <td>0</td>\n",
              "      <td>0</td>\n",
              "      <td>0</td>\n",
              "      <td>0</td>\n",
              "    </tr>\n",
              "    <tr>\n",
              "      <th>38703</th>\n",
              "      <td>200000.0</td>\n",
              "      <td>7.43</td>\n",
              "      <td>5000</td>\n",
              "      <td>0</td>\n",
              "      <td>0</td>\n",
              "      <td>0</td>\n",
              "      <td>0</td>\n",
              "      <td>0</td>\n",
              "      <td>0</td>\n",
              "      <td>0</td>\n",
              "      <td>0</td>\n",
              "      <td>0</td>\n",
              "      <td>1</td>\n",
              "      <td>0</td>\n",
              "      <td>0</td>\n",
              "      <td>0</td>\n",
              "      <td>0</td>\n",
              "      <td>1</td>\n",
              "      <td>0</td>\n",
              "      <td>0</td>\n",
              "      <td>0</td>\n",
              "      <td>0</td>\n",
              "      <td>0</td>\n",
              "      <td>0</td>\n",
              "      <td>0</td>\n",
              "      <td>0</td>\n",
              "      <td>0</td>\n",
              "    </tr>\n",
              "    <tr>\n",
              "      <th>38704</th>\n",
              "      <td>22000.0</td>\n",
              "      <td>13.75</td>\n",
              "      <td>7500</td>\n",
              "      <td>0</td>\n",
              "      <td>0</td>\n",
              "      <td>1</td>\n",
              "      <td>0</td>\n",
              "      <td>0</td>\n",
              "      <td>0</td>\n",
              "      <td>0</td>\n",
              "      <td>0</td>\n",
              "      <td>0</td>\n",
              "      <td>0</td>\n",
              "      <td>0</td>\n",
              "      <td>0</td>\n",
              "      <td>0</td>\n",
              "      <td>0</td>\n",
              "      <td>0</td>\n",
              "      <td>0</td>\n",
              "      <td>0</td>\n",
              "      <td>0</td>\n",
              "      <td>1</td>\n",
              "      <td>0</td>\n",
              "      <td>0</td>\n",
              "      <td>0</td>\n",
              "      <td>1</td>\n",
              "      <td>0</td>\n",
              "    </tr>\n",
              "  </tbody>\n",
              "</table>\n",
              "<p>38705 rows × 27 columns</p>\n",
              "</div>"
            ],
            "text/plain": [
              "       annual_inc  int_rate  ...  home_ownership_OWN  home_ownership_RENT\n",
              "0         24000.0     10.65  ...                   0                    1\n",
              "1         30000.0     15.27  ...                   0                    1\n",
              "2         12252.0     15.96  ...                   0                    1\n",
              "3         49200.0     13.49  ...                   0                    1\n",
              "4         80000.0     12.69  ...                   0                    1\n",
              "...           ...       ...  ...                 ...                  ...\n",
              "38700    110000.0      8.07  ...                   0                    0\n",
              "38701     18000.0     10.28  ...                   0                    1\n",
              "38702    100000.0      8.07  ...                   0                    0\n",
              "38703    200000.0      7.43  ...                   0                    0\n",
              "38704     22000.0     13.75  ...                   1                    0\n",
              "\n",
              "[38705 rows x 27 columns]"
            ]
          },
          "metadata": {},
          "execution_count": 1249
        }
      ]
    },
    {
      "cell_type": "code",
      "metadata": {
        "id": "YccOaW69OIkb",
        "colab": {
          "base_uri": "https://localhost:8080/",
          "height": 412
        },
        "outputId": "e838dce4-76d8-49ab-a89e-0de4cec80d67"
      },
      "source": [
        "y"
      ],
      "execution_count": 1250,
      "outputs": [
        {
          "output_type": "execute_result",
          "data": {
            "text/html": [
              "<div>\n",
              "<style scoped>\n",
              "    .dataframe tbody tr th:only-of-type {\n",
              "        vertical-align: middle;\n",
              "    }\n",
              "\n",
              "    .dataframe tbody tr th {\n",
              "        vertical-align: top;\n",
              "    }\n",
              "\n",
              "    .dataframe thead th {\n",
              "        text-align: right;\n",
              "    }\n",
              "</style>\n",
              "<table border=\"1\" class=\"dataframe\">\n",
              "  <thead>\n",
              "    <tr style=\"text-align: right;\">\n",
              "      <th></th>\n",
              "      <th>loan_status</th>\n",
              "    </tr>\n",
              "  </thead>\n",
              "  <tbody>\n",
              "    <tr>\n",
              "      <th>0</th>\n",
              "      <td>1</td>\n",
              "    </tr>\n",
              "    <tr>\n",
              "      <th>1</th>\n",
              "      <td>0</td>\n",
              "    </tr>\n",
              "    <tr>\n",
              "      <th>2</th>\n",
              "      <td>1</td>\n",
              "    </tr>\n",
              "    <tr>\n",
              "      <th>3</th>\n",
              "      <td>1</td>\n",
              "    </tr>\n",
              "    <tr>\n",
              "      <th>4</th>\n",
              "      <td>1</td>\n",
              "    </tr>\n",
              "    <tr>\n",
              "      <th>...</th>\n",
              "      <td>...</td>\n",
              "    </tr>\n",
              "    <tr>\n",
              "      <th>38700</th>\n",
              "      <td>1</td>\n",
              "    </tr>\n",
              "    <tr>\n",
              "      <th>38701</th>\n",
              "      <td>1</td>\n",
              "    </tr>\n",
              "    <tr>\n",
              "      <th>38702</th>\n",
              "      <td>1</td>\n",
              "    </tr>\n",
              "    <tr>\n",
              "      <th>38703</th>\n",
              "      <td>1</td>\n",
              "    </tr>\n",
              "    <tr>\n",
              "      <th>38704</th>\n",
              "      <td>1</td>\n",
              "    </tr>\n",
              "  </tbody>\n",
              "</table>\n",
              "<p>38705 rows × 1 columns</p>\n",
              "</div>"
            ],
            "text/plain": [
              "       loan_status\n",
              "0                1\n",
              "1                0\n",
              "2                1\n",
              "3                1\n",
              "4                1\n",
              "...            ...\n",
              "38700            1\n",
              "38701            1\n",
              "38702            1\n",
              "38703            1\n",
              "38704            1\n",
              "\n",
              "[38705 rows x 1 columns]"
            ]
          },
          "metadata": {},
          "execution_count": 1250
        }
      ]
    },
    {
      "cell_type": "code",
      "metadata": {
        "id": "1mRSQeXbOeZl"
      },
      "source": [
        "#Separamos en train y test!\n",
        "(X_train, X_test,y_train, y_test) = train_test_split(X,y,stratify=y,test_size=0.30,random_state=42)"
      ],
      "execution_count": 1251,
      "outputs": []
    },
    {
      "cell_type": "code",
      "metadata": {
        "id": "NpW35mFbOgnO",
        "colab": {
          "base_uri": "https://localhost:8080/"
        },
        "outputId": "7a429ef6-6afd-4812-f7cc-01d4f546ce10"
      },
      "source": [
        "#Creamos un arbol de decisión sencillo y lo fiteamos\n",
        "tree = DecisionTreeClassifier(random_state=42)\n",
        "tree.fit(X_train, y_train)"
      ],
      "execution_count": 1252,
      "outputs": [
        {
          "output_type": "execute_result",
          "data": {
            "text/plain": [
              "DecisionTreeClassifier(ccp_alpha=0.0, class_weight=None, criterion='gini',\n",
              "                       max_depth=None, max_features=None, max_leaf_nodes=None,\n",
              "                       min_impurity_decrease=0.0, min_impurity_split=None,\n",
              "                       min_samples_leaf=1, min_samples_split=2,\n",
              "                       min_weight_fraction_leaf=0.0, presort='deprecated',\n",
              "                       random_state=42, splitter='best')"
            ]
          },
          "metadata": {},
          "execution_count": 1252
        }
      ]
    },
    {
      "cell_type": "code",
      "metadata": {
        "id": "z0XkJTsEOjOD",
        "colab": {
          "base_uri": "https://localhost:8080/",
          "height": 432
        },
        "outputId": "3b44e0f9-14dd-4267-a971-6882a157c60b"
      },
      "source": [
        "X_test"
      ],
      "execution_count": 1253,
      "outputs": [
        {
          "output_type": "execute_result",
          "data": {
            "text/html": [
              "<div>\n",
              "<style scoped>\n",
              "    .dataframe tbody tr th:only-of-type {\n",
              "        vertical-align: middle;\n",
              "    }\n",
              "\n",
              "    .dataframe tbody tr th {\n",
              "        vertical-align: top;\n",
              "    }\n",
              "\n",
              "    .dataframe thead th {\n",
              "        text-align: right;\n",
              "    }\n",
              "</style>\n",
              "<table border=\"1\" class=\"dataframe\">\n",
              "  <thead>\n",
              "    <tr style=\"text-align: right;\">\n",
              "      <th></th>\n",
              "      <th>annual_inc</th>\n",
              "      <th>int_rate</th>\n",
              "      <th>loan_amnt</th>\n",
              "      <th>purpose_car</th>\n",
              "      <th>purpose_credit_card</th>\n",
              "      <th>purpose_debt_consolidation</th>\n",
              "      <th>purpose_educational</th>\n",
              "      <th>purpose_home_improvement</th>\n",
              "      <th>purpose_house</th>\n",
              "      <th>purpose_major_purchase</th>\n",
              "      <th>purpose_medical</th>\n",
              "      <th>purpose_moving</th>\n",
              "      <th>purpose_other</th>\n",
              "      <th>purpose_renewable_energy</th>\n",
              "      <th>purpose_small_business</th>\n",
              "      <th>purpose_vacation</th>\n",
              "      <th>purpose_wedding</th>\n",
              "      <th>grade_A</th>\n",
              "      <th>grade_B</th>\n",
              "      <th>grade_C</th>\n",
              "      <th>grade_D</th>\n",
              "      <th>grade_E</th>\n",
              "      <th>grade_F</th>\n",
              "      <th>grade_G</th>\n",
              "      <th>home_ownership_OTHER</th>\n",
              "      <th>home_ownership_OWN</th>\n",
              "      <th>home_ownership_RENT</th>\n",
              "    </tr>\n",
              "  </thead>\n",
              "  <tbody>\n",
              "    <tr>\n",
              "      <th>17244</th>\n",
              "      <td>75000.0</td>\n",
              "      <td>10.74</td>\n",
              "      <td>7000</td>\n",
              "      <td>0</td>\n",
              "      <td>0</td>\n",
              "      <td>0</td>\n",
              "      <td>0</td>\n",
              "      <td>0</td>\n",
              "      <td>0</td>\n",
              "      <td>0</td>\n",
              "      <td>0</td>\n",
              "      <td>0</td>\n",
              "      <td>1</td>\n",
              "      <td>0</td>\n",
              "      <td>0</td>\n",
              "      <td>0</td>\n",
              "      <td>0</td>\n",
              "      <td>0</td>\n",
              "      <td>1</td>\n",
              "      <td>0</td>\n",
              "      <td>0</td>\n",
              "      <td>0</td>\n",
              "      <td>0</td>\n",
              "      <td>0</td>\n",
              "      <td>0</td>\n",
              "      <td>0</td>\n",
              "      <td>0</td>\n",
              "    </tr>\n",
              "    <tr>\n",
              "      <th>26652</th>\n",
              "      <td>51000.0</td>\n",
              "      <td>11.49</td>\n",
              "      <td>25000</td>\n",
              "      <td>0</td>\n",
              "      <td>0</td>\n",
              "      <td>1</td>\n",
              "      <td>0</td>\n",
              "      <td>0</td>\n",
              "      <td>0</td>\n",
              "      <td>0</td>\n",
              "      <td>0</td>\n",
              "      <td>0</td>\n",
              "      <td>0</td>\n",
              "      <td>0</td>\n",
              "      <td>0</td>\n",
              "      <td>0</td>\n",
              "      <td>0</td>\n",
              "      <td>0</td>\n",
              "      <td>1</td>\n",
              "      <td>0</td>\n",
              "      <td>0</td>\n",
              "      <td>0</td>\n",
              "      <td>0</td>\n",
              "      <td>0</td>\n",
              "      <td>0</td>\n",
              "      <td>0</td>\n",
              "      <td>0</td>\n",
              "    </tr>\n",
              "    <tr>\n",
              "      <th>2384</th>\n",
              "      <td>65000.0</td>\n",
              "      <td>16.77</td>\n",
              "      <td>12000</td>\n",
              "      <td>0</td>\n",
              "      <td>0</td>\n",
              "      <td>1</td>\n",
              "      <td>0</td>\n",
              "      <td>0</td>\n",
              "      <td>0</td>\n",
              "      <td>0</td>\n",
              "      <td>0</td>\n",
              "      <td>0</td>\n",
              "      <td>0</td>\n",
              "      <td>0</td>\n",
              "      <td>0</td>\n",
              "      <td>0</td>\n",
              "      <td>0</td>\n",
              "      <td>0</td>\n",
              "      <td>0</td>\n",
              "      <td>0</td>\n",
              "      <td>1</td>\n",
              "      <td>0</td>\n",
              "      <td>0</td>\n",
              "      <td>0</td>\n",
              "      <td>0</td>\n",
              "      <td>0</td>\n",
              "      <td>0</td>\n",
              "    </tr>\n",
              "    <tr>\n",
              "      <th>21708</th>\n",
              "      <td>50000.0</td>\n",
              "      <td>6.91</td>\n",
              "      <td>5000</td>\n",
              "      <td>0</td>\n",
              "      <td>0</td>\n",
              "      <td>1</td>\n",
              "      <td>0</td>\n",
              "      <td>0</td>\n",
              "      <td>0</td>\n",
              "      <td>0</td>\n",
              "      <td>0</td>\n",
              "      <td>0</td>\n",
              "      <td>0</td>\n",
              "      <td>0</td>\n",
              "      <td>0</td>\n",
              "      <td>0</td>\n",
              "      <td>0</td>\n",
              "      <td>1</td>\n",
              "      <td>0</td>\n",
              "      <td>0</td>\n",
              "      <td>0</td>\n",
              "      <td>0</td>\n",
              "      <td>0</td>\n",
              "      <td>0</td>\n",
              "      <td>0</td>\n",
              "      <td>0</td>\n",
              "      <td>1</td>\n",
              "    </tr>\n",
              "    <tr>\n",
              "      <th>26351</th>\n",
              "      <td>46000.0</td>\n",
              "      <td>11.86</td>\n",
              "      <td>6000</td>\n",
              "      <td>0</td>\n",
              "      <td>0</td>\n",
              "      <td>0</td>\n",
              "      <td>0</td>\n",
              "      <td>0</td>\n",
              "      <td>0</td>\n",
              "      <td>1</td>\n",
              "      <td>0</td>\n",
              "      <td>0</td>\n",
              "      <td>0</td>\n",
              "      <td>0</td>\n",
              "      <td>0</td>\n",
              "      <td>0</td>\n",
              "      <td>0</td>\n",
              "      <td>0</td>\n",
              "      <td>1</td>\n",
              "      <td>0</td>\n",
              "      <td>0</td>\n",
              "      <td>0</td>\n",
              "      <td>0</td>\n",
              "      <td>0</td>\n",
              "      <td>0</td>\n",
              "      <td>0</td>\n",
              "      <td>0</td>\n",
              "    </tr>\n",
              "    <tr>\n",
              "      <th>...</th>\n",
              "      <td>...</td>\n",
              "      <td>...</td>\n",
              "      <td>...</td>\n",
              "      <td>...</td>\n",
              "      <td>...</td>\n",
              "      <td>...</td>\n",
              "      <td>...</td>\n",
              "      <td>...</td>\n",
              "      <td>...</td>\n",
              "      <td>...</td>\n",
              "      <td>...</td>\n",
              "      <td>...</td>\n",
              "      <td>...</td>\n",
              "      <td>...</td>\n",
              "      <td>...</td>\n",
              "      <td>...</td>\n",
              "      <td>...</td>\n",
              "      <td>...</td>\n",
              "      <td>...</td>\n",
              "      <td>...</td>\n",
              "      <td>...</td>\n",
              "      <td>...</td>\n",
              "      <td>...</td>\n",
              "      <td>...</td>\n",
              "      <td>...</td>\n",
              "      <td>...</td>\n",
              "      <td>...</td>\n",
              "    </tr>\n",
              "    <tr>\n",
              "      <th>23941</th>\n",
              "      <td>42000.0</td>\n",
              "      <td>16.32</td>\n",
              "      <td>2000</td>\n",
              "      <td>0</td>\n",
              "      <td>0</td>\n",
              "      <td>1</td>\n",
              "      <td>0</td>\n",
              "      <td>0</td>\n",
              "      <td>0</td>\n",
              "      <td>0</td>\n",
              "      <td>0</td>\n",
              "      <td>0</td>\n",
              "      <td>0</td>\n",
              "      <td>0</td>\n",
              "      <td>0</td>\n",
              "      <td>0</td>\n",
              "      <td>0</td>\n",
              "      <td>0</td>\n",
              "      <td>0</td>\n",
              "      <td>0</td>\n",
              "      <td>1</td>\n",
              "      <td>0</td>\n",
              "      <td>0</td>\n",
              "      <td>0</td>\n",
              "      <td>0</td>\n",
              "      <td>0</td>\n",
              "      <td>1</td>\n",
              "    </tr>\n",
              "    <tr>\n",
              "      <th>4629</th>\n",
              "      <td>26400.0</td>\n",
              "      <td>12.69</td>\n",
              "      <td>13200</td>\n",
              "      <td>0</td>\n",
              "      <td>0</td>\n",
              "      <td>1</td>\n",
              "      <td>0</td>\n",
              "      <td>0</td>\n",
              "      <td>0</td>\n",
              "      <td>0</td>\n",
              "      <td>0</td>\n",
              "      <td>0</td>\n",
              "      <td>0</td>\n",
              "      <td>0</td>\n",
              "      <td>0</td>\n",
              "      <td>0</td>\n",
              "      <td>0</td>\n",
              "      <td>0</td>\n",
              "      <td>1</td>\n",
              "      <td>0</td>\n",
              "      <td>0</td>\n",
              "      <td>0</td>\n",
              "      <td>0</td>\n",
              "      <td>0</td>\n",
              "      <td>0</td>\n",
              "      <td>0</td>\n",
              "      <td>0</td>\n",
              "    </tr>\n",
              "    <tr>\n",
              "      <th>5895</th>\n",
              "      <td>90000.0</td>\n",
              "      <td>6.03</td>\n",
              "      <td>6000</td>\n",
              "      <td>1</td>\n",
              "      <td>0</td>\n",
              "      <td>0</td>\n",
              "      <td>0</td>\n",
              "      <td>0</td>\n",
              "      <td>0</td>\n",
              "      <td>0</td>\n",
              "      <td>0</td>\n",
              "      <td>0</td>\n",
              "      <td>0</td>\n",
              "      <td>0</td>\n",
              "      <td>0</td>\n",
              "      <td>0</td>\n",
              "      <td>0</td>\n",
              "      <td>1</td>\n",
              "      <td>0</td>\n",
              "      <td>0</td>\n",
              "      <td>0</td>\n",
              "      <td>0</td>\n",
              "      <td>0</td>\n",
              "      <td>0</td>\n",
              "      <td>0</td>\n",
              "      <td>0</td>\n",
              "      <td>0</td>\n",
              "    </tr>\n",
              "    <tr>\n",
              "      <th>5607</th>\n",
              "      <td>61651.0</td>\n",
              "      <td>17.58</td>\n",
              "      <td>15000</td>\n",
              "      <td>0</td>\n",
              "      <td>0</td>\n",
              "      <td>1</td>\n",
              "      <td>0</td>\n",
              "      <td>0</td>\n",
              "      <td>0</td>\n",
              "      <td>0</td>\n",
              "      <td>0</td>\n",
              "      <td>0</td>\n",
              "      <td>0</td>\n",
              "      <td>0</td>\n",
              "      <td>0</td>\n",
              "      <td>0</td>\n",
              "      <td>0</td>\n",
              "      <td>0</td>\n",
              "      <td>0</td>\n",
              "      <td>0</td>\n",
              "      <td>1</td>\n",
              "      <td>0</td>\n",
              "      <td>0</td>\n",
              "      <td>0</td>\n",
              "      <td>0</td>\n",
              "      <td>0</td>\n",
              "      <td>0</td>\n",
              "    </tr>\n",
              "    <tr>\n",
              "      <th>32590</th>\n",
              "      <td>30796.8</td>\n",
              "      <td>14.96</td>\n",
              "      <td>5000</td>\n",
              "      <td>0</td>\n",
              "      <td>0</td>\n",
              "      <td>1</td>\n",
              "      <td>0</td>\n",
              "      <td>0</td>\n",
              "      <td>0</td>\n",
              "      <td>0</td>\n",
              "      <td>0</td>\n",
              "      <td>0</td>\n",
              "      <td>0</td>\n",
              "      <td>0</td>\n",
              "      <td>0</td>\n",
              "      <td>0</td>\n",
              "      <td>0</td>\n",
              "      <td>0</td>\n",
              "      <td>0</td>\n",
              "      <td>0</td>\n",
              "      <td>1</td>\n",
              "      <td>0</td>\n",
              "      <td>0</td>\n",
              "      <td>0</td>\n",
              "      <td>0</td>\n",
              "      <td>0</td>\n",
              "      <td>1</td>\n",
              "    </tr>\n",
              "  </tbody>\n",
              "</table>\n",
              "<p>11612 rows × 27 columns</p>\n",
              "</div>"
            ],
            "text/plain": [
              "       annual_inc  int_rate  ...  home_ownership_OWN  home_ownership_RENT\n",
              "17244     75000.0     10.74  ...                   0                    0\n",
              "26652     51000.0     11.49  ...                   0                    0\n",
              "2384      65000.0     16.77  ...                   0                    0\n",
              "21708     50000.0      6.91  ...                   0                    1\n",
              "26351     46000.0     11.86  ...                   0                    0\n",
              "...           ...       ...  ...                 ...                  ...\n",
              "23941     42000.0     16.32  ...                   0                    1\n",
              "4629      26400.0     12.69  ...                   0                    0\n",
              "5895      90000.0      6.03  ...                   0                    0\n",
              "5607      61651.0     17.58  ...                   0                    0\n",
              "32590     30796.8     14.96  ...                   0                    1\n",
              "\n",
              "[11612 rows x 27 columns]"
            ]
          },
          "metadata": {},
          "execution_count": 1253
        }
      ]
    },
    {
      "cell_type": "code",
      "metadata": {
        "id": "ZWvND4FLOo9f",
        "colab": {
          "base_uri": "https://localhost:8080/",
          "height": 412
        },
        "outputId": "c40233b5-5bd4-4361-a05f-3f5b7f1e0990"
      },
      "source": [
        "y_test"
      ],
      "execution_count": 1254,
      "outputs": [
        {
          "output_type": "execute_result",
          "data": {
            "text/html": [
              "<div>\n",
              "<style scoped>\n",
              "    .dataframe tbody tr th:only-of-type {\n",
              "        vertical-align: middle;\n",
              "    }\n",
              "\n",
              "    .dataframe tbody tr th {\n",
              "        vertical-align: top;\n",
              "    }\n",
              "\n",
              "    .dataframe thead th {\n",
              "        text-align: right;\n",
              "    }\n",
              "</style>\n",
              "<table border=\"1\" class=\"dataframe\">\n",
              "  <thead>\n",
              "    <tr style=\"text-align: right;\">\n",
              "      <th></th>\n",
              "      <th>loan_status</th>\n",
              "    </tr>\n",
              "  </thead>\n",
              "  <tbody>\n",
              "    <tr>\n",
              "      <th>17244</th>\n",
              "      <td>1</td>\n",
              "    </tr>\n",
              "    <tr>\n",
              "      <th>26652</th>\n",
              "      <td>1</td>\n",
              "    </tr>\n",
              "    <tr>\n",
              "      <th>2384</th>\n",
              "      <td>1</td>\n",
              "    </tr>\n",
              "    <tr>\n",
              "      <th>21708</th>\n",
              "      <td>1</td>\n",
              "    </tr>\n",
              "    <tr>\n",
              "      <th>26351</th>\n",
              "      <td>1</td>\n",
              "    </tr>\n",
              "    <tr>\n",
              "      <th>...</th>\n",
              "      <td>...</td>\n",
              "    </tr>\n",
              "    <tr>\n",
              "      <th>23941</th>\n",
              "      <td>0</td>\n",
              "    </tr>\n",
              "    <tr>\n",
              "      <th>4629</th>\n",
              "      <td>1</td>\n",
              "    </tr>\n",
              "    <tr>\n",
              "      <th>5895</th>\n",
              "      <td>1</td>\n",
              "    </tr>\n",
              "    <tr>\n",
              "      <th>5607</th>\n",
              "      <td>1</td>\n",
              "    </tr>\n",
              "    <tr>\n",
              "      <th>32590</th>\n",
              "      <td>1</td>\n",
              "    </tr>\n",
              "  </tbody>\n",
              "</table>\n",
              "<p>11612 rows × 1 columns</p>\n",
              "</div>"
            ],
            "text/plain": [
              "       loan_status\n",
              "17244            1\n",
              "26652            1\n",
              "2384             1\n",
              "21708            1\n",
              "26351            1\n",
              "...            ...\n",
              "23941            0\n",
              "4629             1\n",
              "5895             1\n",
              "5607             1\n",
              "32590            1\n",
              "\n",
              "[11612 rows x 1 columns]"
            ]
          },
          "metadata": {},
          "execution_count": 1254
        }
      ]
    },
    {
      "cell_type": "code",
      "metadata": {
        "id": "pPnAhatWOmR-",
        "colab": {
          "base_uri": "https://localhost:8080/"
        },
        "outputId": "03beee80-1012-44f5-f106-f246bcb8fec4"
      },
      "source": [
        "y_test_pred = tree.predict(X_test) #Prediccion en Test\n",
        "y_test_pred"
      ],
      "execution_count": 1255,
      "outputs": [
        {
          "output_type": "execute_result",
          "data": {
            "text/plain": [
              "array([1, 1, 1, ..., 1, 1, 1])"
            ]
          },
          "metadata": {},
          "execution_count": 1255
        }
      ]
    },
    {
      "cell_type": "code",
      "metadata": {
        "id": "c2ltTOmNOtCC",
        "colab": {
          "base_uri": "https://localhost:8080/"
        },
        "outputId": "d55af815-3b42-4764-bc6a-f6b4581b5fad"
      },
      "source": [
        "from sklearn.metrics import accuracy_score\n",
        "\n",
        "#Calculo el accuracy en Test\n",
        "test_accuracy = accuracy_score(y_test, y_test_pred)\n",
        "\n",
        "print('% de aciertos sobre el set de evaluación:',test_accuracy)"
      ],
      "execution_count": 1256,
      "outputs": [
        {
          "output_type": "stream",
          "name": "stdout",
          "text": [
            "% de aciertos sobre el set de evaluación: 0.7610230795728556\n"
          ]
        }
      ]
    },
    {
      "cell_type": "code",
      "metadata": {
        "id": "DqO_HKxzOyZO",
        "colab": {
          "base_uri": "https://localhost:8080/"
        },
        "outputId": "e65db783-f7f6-4653-c13b-a78c2780992d"
      },
      "source": [
        "#Creamos un random forest!\n",
        "model = RandomForestClassifier(random_state=42, n_estimators=100,\n",
        "                               class_weight=\"balanced\", max_features=\"log2\")\n",
        "model.fit(X_train, y_train)"
      ],
      "execution_count": 1257,
      "outputs": [
        {
          "output_type": "stream",
          "name": "stderr",
          "text": [
            "/usr/local/lib/python3.7/dist-packages/ipykernel_launcher.py:4: DataConversionWarning: A column-vector y was passed when a 1d array was expected. Please change the shape of y to (n_samples,), for example using ravel().\n",
            "  after removing the cwd from sys.path.\n"
          ]
        },
        {
          "output_type": "execute_result",
          "data": {
            "text/plain": [
              "RandomForestClassifier(bootstrap=True, ccp_alpha=0.0, class_weight='balanced',\n",
              "                       criterion='gini', max_depth=None, max_features='log2',\n",
              "                       max_leaf_nodes=None, max_samples=None,\n",
              "                       min_impurity_decrease=0.0, min_impurity_split=None,\n",
              "                       min_samples_leaf=1, min_samples_split=2,\n",
              "                       min_weight_fraction_leaf=0.0, n_estimators=100,\n",
              "                       n_jobs=None, oob_score=False, random_state=42, verbose=0,\n",
              "                       warm_start=False)"
            ]
          },
          "metadata": {},
          "execution_count": 1257
        }
      ]
    },
    {
      "cell_type": "code",
      "metadata": {
        "id": "8SdnuTqTO1cn",
        "colab": {
          "base_uri": "https://localhost:8080/"
        },
        "outputId": "fb59c170-3fed-40bc-f124-a3030fee41f7"
      },
      "source": [
        "y_test_pred = model.predict(X_test) #Prediccion en Test\n",
        "y_test_pred"
      ],
      "execution_count": 1258,
      "outputs": [
        {
          "output_type": "execute_result",
          "data": {
            "text/plain": [
              "array([1, 1, 1, ..., 1, 1, 1])"
            ]
          },
          "metadata": {},
          "execution_count": 1258
        }
      ]
    },
    {
      "cell_type": "code",
      "metadata": {
        "id": "3uRpQXIwO4li",
        "colab": {
          "base_uri": "https://localhost:8080/"
        },
        "outputId": "2e7823e2-5329-4bdc-943f-2b9cadd6b3c8"
      },
      "source": [
        "#Calculo el accuracy en Test\n",
        "test_accuracy = accuracy_score(y_test, y_test_pred)\n",
        "\n",
        "print('% de aciertos sobre el set de evaluación:',test_accuracy)"
      ],
      "execution_count": 1259,
      "outputs": [
        {
          "output_type": "stream",
          "name": "stdout",
          "text": [
            "% de aciertos sobre el set de evaluación: 0.8467964174991388\n"
          ]
        }
      ]
    },
    {
      "cell_type": "code",
      "metadata": {
        "id": "oHgFPQLaTlsD"
      },
      "source": [
        "#CON ACCURACY SE TIENE APROXIMADAMENTE UN 85% DE FACTIBILIDAD QUE LOS CLIENTES PAGARAN LOS CREDITOS"
      ],
      "execution_count": 1260,
      "outputs": []
    },
    {
      "cell_type": "markdown",
      "metadata": {
        "id": "VyOTSf82xgCD"
      },
      "source": [
        "# Ejercicio 3: Árbol aleatorio (random forest) - métrica precisión."
      ]
    },
    {
      "cell_type": "code",
      "metadata": {
        "colab": {
          "base_uri": "https://localhost:8080/"
        },
        "id": "EVsd5mIcT26M",
        "outputId": "c070eaef-ec53-45fa-99f1-e98e8ed13f19"
      },
      "source": [
        "from sklearn.metrics import precision_score\n",
        "test_score =precision_score(y_test, y_test_pred)\n",
        "print('% de aciertos sobre el set de evaluación:',test_score)"
      ],
      "execution_count": 1261,
      "outputs": [
        {
          "output_type": "stream",
          "name": "stdout",
          "text": [
            "% de aciertos sobre el set de evaluación: 0.8627797929753163\n"
          ]
        }
      ]
    },
    {
      "cell_type": "code",
      "metadata": {
        "id": "exjN67xTUAlJ"
      },
      "source": [
        "#CON LA METRICA DE PRESICION SE TIENE APROXIMADAMENTE UN 86% DE FACTIBILIDAD QUE LOS CLIENTES PAGARAN LOS CREDITOS"
      ],
      "execution_count": 1262,
      "outputs": []
    },
    {
      "cell_type": "markdown",
      "metadata": {
        "id": "eLsdXPfzPAdJ"
      },
      "source": [
        "# Ejercicio 2 KNN (vecinos mas cercanos)"
      ]
    },
    {
      "cell_type": "code",
      "metadata": {
        "id": "JyffqyPQPGx3"
      },
      "source": [
        "import matplotlib.pyplot as plt\n",
        "import pandas as pd\n",
        "import seaborn as sns\n",
        "from sklearn.neighbors import KNeighborsClassifier"
      ],
      "execution_count": 823,
      "outputs": []
    },
    {
      "cell_type": "code",
      "metadata": {
        "id": "W90TuKN5Svov",
        "colab": {
          "base_uri": "https://localhost:8080/",
          "height": 201
        },
        "outputId": "b6208909-e3a1-419b-dacc-a82a6dc74193"
      },
      "source": [
        "# copiamos el dataframe para no alterar el dataframe original\n",
        "dfk=df.copy()\n",
        "dfk.head()"
      ],
      "execution_count": 824,
      "outputs": [
        {
          "output_type": "execute_result",
          "data": {
            "text/html": [
              "<div>\n",
              "<style scoped>\n",
              "    .dataframe tbody tr th:only-of-type {\n",
              "        vertical-align: middle;\n",
              "    }\n",
              "\n",
              "    .dataframe tbody tr th {\n",
              "        vertical-align: top;\n",
              "    }\n",
              "\n",
              "    .dataframe thead th {\n",
              "        text-align: right;\n",
              "    }\n",
              "</style>\n",
              "<table border=\"1\" class=\"dataframe\">\n",
              "  <thead>\n",
              "    <tr style=\"text-align: right;\">\n",
              "      <th></th>\n",
              "      <th>loan_status</th>\n",
              "      <th>annual_inc</th>\n",
              "      <th>verification_status</th>\n",
              "      <th>emp_length</th>\n",
              "      <th>home_ownership</th>\n",
              "      <th>int_rate</th>\n",
              "      <th>loan_amnt</th>\n",
              "      <th>purpose</th>\n",
              "      <th>term</th>\n",
              "      <th>grade</th>\n",
              "    </tr>\n",
              "  </thead>\n",
              "  <tbody>\n",
              "    <tr>\n",
              "      <th>0</th>\n",
              "      <td>Fully Paid</td>\n",
              "      <td>24000.0</td>\n",
              "      <td>Verified</td>\n",
              "      <td>10+ years</td>\n",
              "      <td>RENT</td>\n",
              "      <td>10.65%</td>\n",
              "      <td>5000</td>\n",
              "      <td>credit_card</td>\n",
              "      <td>36 months</td>\n",
              "      <td>B</td>\n",
              "    </tr>\n",
              "    <tr>\n",
              "      <th>1</th>\n",
              "      <td>Charged Off</td>\n",
              "      <td>30000.0</td>\n",
              "      <td>Source Verified</td>\n",
              "      <td>&lt; 1 year</td>\n",
              "      <td>RENT</td>\n",
              "      <td>15.27%</td>\n",
              "      <td>2500</td>\n",
              "      <td>car</td>\n",
              "      <td>60 months</td>\n",
              "      <td>C</td>\n",
              "    </tr>\n",
              "    <tr>\n",
              "      <th>2</th>\n",
              "      <td>Fully Paid</td>\n",
              "      <td>12252.0</td>\n",
              "      <td>Not Verified</td>\n",
              "      <td>10+ years</td>\n",
              "      <td>RENT</td>\n",
              "      <td>15.96%</td>\n",
              "      <td>2400</td>\n",
              "      <td>small_business</td>\n",
              "      <td>36 months</td>\n",
              "      <td>C</td>\n",
              "    </tr>\n",
              "    <tr>\n",
              "      <th>3</th>\n",
              "      <td>Fully Paid</td>\n",
              "      <td>49200.0</td>\n",
              "      <td>Source Verified</td>\n",
              "      <td>10+ years</td>\n",
              "      <td>RENT</td>\n",
              "      <td>13.49%</td>\n",
              "      <td>10000</td>\n",
              "      <td>other</td>\n",
              "      <td>36 months</td>\n",
              "      <td>C</td>\n",
              "    </tr>\n",
              "    <tr>\n",
              "      <th>4</th>\n",
              "      <td>Fully Paid</td>\n",
              "      <td>80000.0</td>\n",
              "      <td>Source Verified</td>\n",
              "      <td>1 year</td>\n",
              "      <td>RENT</td>\n",
              "      <td>12.69%</td>\n",
              "      <td>3000</td>\n",
              "      <td>other</td>\n",
              "      <td>60 months</td>\n",
              "      <td>B</td>\n",
              "    </tr>\n",
              "  </tbody>\n",
              "</table>\n",
              "</div>"
            ],
            "text/plain": [
              "   loan_status  annual_inc  ...        term grade\n",
              "0   Fully Paid     24000.0  ...   36 months     B\n",
              "1  Charged Off     30000.0  ...   60 months     C\n",
              "2   Fully Paid     12252.0  ...   36 months     C\n",
              "3   Fully Paid     49200.0  ...   36 months     C\n",
              "4   Fully Paid     80000.0  ...   60 months     B\n",
              "\n",
              "[5 rows x 10 columns]"
            ]
          },
          "metadata": {},
          "execution_count": 824
        }
      ]
    },
    {
      "cell_type": "code",
      "metadata": {
        "id": "NAUhr2xxRtAQ",
        "colab": {
          "base_uri": "https://localhost:8080/",
          "height": 201
        },
        "outputId": "ff2c797b-4c1b-4b29-eeaf-3fd9e429cbbf"
      },
      "source": [
        "#seleccionamos las columas que estamos interesados \n",
        "dfkn=dfk[['loan_status','annual_inc','int_rate','loan_amnt']]\n",
        "dfkn.head()"
      ],
      "execution_count": 825,
      "outputs": [
        {
          "output_type": "execute_result",
          "data": {
            "text/html": [
              "<div>\n",
              "<style scoped>\n",
              "    .dataframe tbody tr th:only-of-type {\n",
              "        vertical-align: middle;\n",
              "    }\n",
              "\n",
              "    .dataframe tbody tr th {\n",
              "        vertical-align: top;\n",
              "    }\n",
              "\n",
              "    .dataframe thead th {\n",
              "        text-align: right;\n",
              "    }\n",
              "</style>\n",
              "<table border=\"1\" class=\"dataframe\">\n",
              "  <thead>\n",
              "    <tr style=\"text-align: right;\">\n",
              "      <th></th>\n",
              "      <th>loan_status</th>\n",
              "      <th>annual_inc</th>\n",
              "      <th>int_rate</th>\n",
              "      <th>loan_amnt</th>\n",
              "    </tr>\n",
              "  </thead>\n",
              "  <tbody>\n",
              "    <tr>\n",
              "      <th>0</th>\n",
              "      <td>Fully Paid</td>\n",
              "      <td>24000.0</td>\n",
              "      <td>10.65%</td>\n",
              "      <td>5000</td>\n",
              "    </tr>\n",
              "    <tr>\n",
              "      <th>1</th>\n",
              "      <td>Charged Off</td>\n",
              "      <td>30000.0</td>\n",
              "      <td>15.27%</td>\n",
              "      <td>2500</td>\n",
              "    </tr>\n",
              "    <tr>\n",
              "      <th>2</th>\n",
              "      <td>Fully Paid</td>\n",
              "      <td>12252.0</td>\n",
              "      <td>15.96%</td>\n",
              "      <td>2400</td>\n",
              "    </tr>\n",
              "    <tr>\n",
              "      <th>3</th>\n",
              "      <td>Fully Paid</td>\n",
              "      <td>49200.0</td>\n",
              "      <td>13.49%</td>\n",
              "      <td>10000</td>\n",
              "    </tr>\n",
              "    <tr>\n",
              "      <th>4</th>\n",
              "      <td>Fully Paid</td>\n",
              "      <td>80000.0</td>\n",
              "      <td>12.69%</td>\n",
              "      <td>3000</td>\n",
              "    </tr>\n",
              "  </tbody>\n",
              "</table>\n",
              "</div>"
            ],
            "text/plain": [
              "   loan_status  annual_inc int_rate  loan_amnt\n",
              "0   Fully Paid     24000.0   10.65%       5000\n",
              "1  Charged Off     30000.0   15.27%       2500\n",
              "2   Fully Paid     12252.0   15.96%       2400\n",
              "3   Fully Paid     49200.0   13.49%      10000\n",
              "4   Fully Paid     80000.0   12.69%       3000"
            ]
          },
          "metadata": {},
          "execution_count": 825
        }
      ]
    },
    {
      "cell_type": "code",
      "metadata": {
        "id": "GPYL5KCtTL6W",
        "colab": {
          "base_uri": "https://localhost:8080/"
        },
        "outputId": "b24b4022-0db3-435e-bfab-608398fd759e"
      },
      "source": [
        "dfkn[\"int_rate\"] = dfkn[\"int_rate\"].str.rstrip('%').astype('float')"
      ],
      "execution_count": 826,
      "outputs": [
        {
          "output_type": "stream",
          "name": "stderr",
          "text": [
            "/usr/local/lib/python3.7/dist-packages/ipykernel_launcher.py:1: SettingWithCopyWarning: \n",
            "A value is trying to be set on a copy of a slice from a DataFrame.\n",
            "Try using .loc[row_indexer,col_indexer] = value instead\n",
            "\n",
            "See the caveats in the documentation: https://pandas.pydata.org/pandas-docs/stable/user_guide/indexing.html#returning-a-view-versus-a-copy\n",
            "  \"\"\"Entry point for launching an IPython kernel.\n"
          ]
        }
      ]
    },
    {
      "cell_type": "code",
      "metadata": {
        "id": "8LsZX9SjTSZB",
        "colab": {
          "base_uri": "https://localhost:8080/",
          "height": 412
        },
        "outputId": "26d5e1aa-a9be-44b0-96e1-e3068f7dae81"
      },
      "source": [
        "dfkn"
      ],
      "execution_count": 827,
      "outputs": [
        {
          "output_type": "execute_result",
          "data": {
            "text/html": [
              "<div>\n",
              "<style scoped>\n",
              "    .dataframe tbody tr th:only-of-type {\n",
              "        vertical-align: middle;\n",
              "    }\n",
              "\n",
              "    .dataframe tbody tr th {\n",
              "        vertical-align: top;\n",
              "    }\n",
              "\n",
              "    .dataframe thead th {\n",
              "        text-align: right;\n",
              "    }\n",
              "</style>\n",
              "<table border=\"1\" class=\"dataframe\">\n",
              "  <thead>\n",
              "    <tr style=\"text-align: right;\">\n",
              "      <th></th>\n",
              "      <th>loan_status</th>\n",
              "      <th>annual_inc</th>\n",
              "      <th>int_rate</th>\n",
              "      <th>loan_amnt</th>\n",
              "    </tr>\n",
              "  </thead>\n",
              "  <tbody>\n",
              "    <tr>\n",
              "      <th>0</th>\n",
              "      <td>Fully Paid</td>\n",
              "      <td>24000.0</td>\n",
              "      <td>10.65</td>\n",
              "      <td>5000</td>\n",
              "    </tr>\n",
              "    <tr>\n",
              "      <th>1</th>\n",
              "      <td>Charged Off</td>\n",
              "      <td>30000.0</td>\n",
              "      <td>15.27</td>\n",
              "      <td>2500</td>\n",
              "    </tr>\n",
              "    <tr>\n",
              "      <th>2</th>\n",
              "      <td>Fully Paid</td>\n",
              "      <td>12252.0</td>\n",
              "      <td>15.96</td>\n",
              "      <td>2400</td>\n",
              "    </tr>\n",
              "    <tr>\n",
              "      <th>3</th>\n",
              "      <td>Fully Paid</td>\n",
              "      <td>49200.0</td>\n",
              "      <td>13.49</td>\n",
              "      <td>10000</td>\n",
              "    </tr>\n",
              "    <tr>\n",
              "      <th>4</th>\n",
              "      <td>Fully Paid</td>\n",
              "      <td>80000.0</td>\n",
              "      <td>12.69</td>\n",
              "      <td>3000</td>\n",
              "    </tr>\n",
              "    <tr>\n",
              "      <th>...</th>\n",
              "      <td>...</td>\n",
              "      <td>...</td>\n",
              "      <td>...</td>\n",
              "      <td>...</td>\n",
              "    </tr>\n",
              "    <tr>\n",
              "      <th>38700</th>\n",
              "      <td>Fully Paid</td>\n",
              "      <td>110000.0</td>\n",
              "      <td>8.07</td>\n",
              "      <td>2500</td>\n",
              "    </tr>\n",
              "    <tr>\n",
              "      <th>38701</th>\n",
              "      <td>Fully Paid</td>\n",
              "      <td>18000.0</td>\n",
              "      <td>10.28</td>\n",
              "      <td>8500</td>\n",
              "    </tr>\n",
              "    <tr>\n",
              "      <th>38702</th>\n",
              "      <td>Fully Paid</td>\n",
              "      <td>100000.0</td>\n",
              "      <td>8.07</td>\n",
              "      <td>5000</td>\n",
              "    </tr>\n",
              "    <tr>\n",
              "      <th>38703</th>\n",
              "      <td>Fully Paid</td>\n",
              "      <td>200000.0</td>\n",
              "      <td>7.43</td>\n",
              "      <td>5000</td>\n",
              "    </tr>\n",
              "    <tr>\n",
              "      <th>38704</th>\n",
              "      <td>Fully Paid</td>\n",
              "      <td>22000.0</td>\n",
              "      <td>13.75</td>\n",
              "      <td>7500</td>\n",
              "    </tr>\n",
              "  </tbody>\n",
              "</table>\n",
              "<p>38705 rows × 4 columns</p>\n",
              "</div>"
            ],
            "text/plain": [
              "       loan_status  annual_inc  int_rate  loan_amnt\n",
              "0       Fully Paid     24000.0     10.65       5000\n",
              "1      Charged Off     30000.0     15.27       2500\n",
              "2       Fully Paid     12252.0     15.96       2400\n",
              "3       Fully Paid     49200.0     13.49      10000\n",
              "4       Fully Paid     80000.0     12.69       3000\n",
              "...            ...         ...       ...        ...\n",
              "38700   Fully Paid    110000.0      8.07       2500\n",
              "38701   Fully Paid     18000.0     10.28       8500\n",
              "38702   Fully Paid    100000.0      8.07       5000\n",
              "38703   Fully Paid    200000.0      7.43       5000\n",
              "38704   Fully Paid     22000.0     13.75       7500\n",
              "\n",
              "[38705 rows x 4 columns]"
            ]
          },
          "metadata": {},
          "execution_count": 827
        }
      ]
    },
    {
      "cell_type": "code",
      "metadata": {
        "id": "llWtAmbgQJB4"
      },
      "source": [
        "punto_nuevo = {'loan_amnt': [1000,3450,3210],\n",
        "               'annual_inc': [500,22000,1800],\n",
        "               'int_rate': [7.4,9.4,3.4]}"
      ],
      "execution_count": 828,
      "outputs": []
    },
    {
      "cell_type": "code",
      "metadata": {
        "id": "OU2BBRyzPtes",
        "colab": {
          "base_uri": "https://localhost:8080/",
          "height": 141
        },
        "outputId": "e592a101-7479-42c2-c5a8-0bcb599cad44"
      },
      "source": [
        "punto_nuevo = pd.DataFrame(punto_nuevo)\n",
        "punto_nuevo"
      ],
      "execution_count": 829,
      "outputs": [
        {
          "output_type": "execute_result",
          "data": {
            "text/html": [
              "<div>\n",
              "<style scoped>\n",
              "    .dataframe tbody tr th:only-of-type {\n",
              "        vertical-align: middle;\n",
              "    }\n",
              "\n",
              "    .dataframe tbody tr th {\n",
              "        vertical-align: top;\n",
              "    }\n",
              "\n",
              "    .dataframe thead th {\n",
              "        text-align: right;\n",
              "    }\n",
              "</style>\n",
              "<table border=\"1\" class=\"dataframe\">\n",
              "  <thead>\n",
              "    <tr style=\"text-align: right;\">\n",
              "      <th></th>\n",
              "      <th>loan_amnt</th>\n",
              "      <th>annual_inc</th>\n",
              "      <th>int_rate</th>\n",
              "    </tr>\n",
              "  </thead>\n",
              "  <tbody>\n",
              "    <tr>\n",
              "      <th>0</th>\n",
              "      <td>1000</td>\n",
              "      <td>500</td>\n",
              "      <td>7.4</td>\n",
              "    </tr>\n",
              "    <tr>\n",
              "      <th>1</th>\n",
              "      <td>3450</td>\n",
              "      <td>22000</td>\n",
              "      <td>9.4</td>\n",
              "    </tr>\n",
              "    <tr>\n",
              "      <th>2</th>\n",
              "      <td>3210</td>\n",
              "      <td>1800</td>\n",
              "      <td>3.4</td>\n",
              "    </tr>\n",
              "  </tbody>\n",
              "</table>\n",
              "</div>"
            ],
            "text/plain": [
              "   loan_amnt  annual_inc  int_rate\n",
              "0       1000         500       7.4\n",
              "1       3450       22000       9.4\n",
              "2       3210        1800       3.4"
            ]
          },
          "metadata": {},
          "execution_count": 829
        }
      ]
    },
    {
      "cell_type": "code",
      "metadata": {
        "id": "G6UE0suMRZoJ",
        "colab": {
          "base_uri": "https://localhost:8080/"
        },
        "outputId": "4cbe28fb-0aa3-4a53-8231-54ba780042bf"
      },
      "source": [
        "dfkn.loc[dfkn['loan_status'] == 'Fully Paid', 'loan_amnt']"
      ],
      "execution_count": 830,
      "outputs": [
        {
          "output_type": "execute_result",
          "data": {
            "text/plain": [
              "0         5000\n",
              "2         2400\n",
              "3        10000\n",
              "4         3000\n",
              "5         5000\n",
              "         ...  \n",
              "38700     2500\n",
              "38701     8500\n",
              "38702     5000\n",
              "38703     5000\n",
              "38704     7500\n",
              "Name: loan_amnt, Length: 33265, dtype: int64"
            ]
          },
          "metadata": {},
          "execution_count": 830
        }
      ]
    },
    {
      "cell_type": "code",
      "metadata": {
        "id": "favzsoNyU_MZ",
        "colab": {
          "base_uri": "https://localhost:8080/",
          "height": 291
        },
        "outputId": "aad85ba6-9ece-47b7-92c8-3e39284e358a"
      },
      "source": [
        "ax = plt.axes()\n",
        "\n",
        "ax.scatter(dfkn.loc[dfkn['loan_status'] == 'Fully Paid', 'loan_amnt'],df.loc[df['loan_status'] == 'Fully Paid', 'annual_inc'],c=\"red\",label=\"Fully Paid\")\n",
        "ax.scatter(dfkn.loc[dfkn['loan_status'] == 'Charged Off', 'loan_amnt'],df.loc[df['loan_status'] == 'Charged Off', 'loan_amnt'],c=\"blue\",label=\"Charged Off\")\n",
        "ax.scatter(punto_nuevo['loan_amnt'],punto_nuevo['annual_inc'],c=\"black\")\n",
        "plt.xlabel(\"loan_amnt\")\n",
        "plt.ylabel(\"annual_inc\")\n",
        "ax.legend()\n",
        "plt.show()"
      ],
      "execution_count": 831,
      "outputs": [
        {
          "output_type": "display_data",
          "data": {
            "image/png": "[encoded data removed]",
            "text/plain": [
              "<Figure size 432x288 with 1 Axes>"
            ]
          },
          "metadata": {
            "needs_background": "light"
          }
        }
      ]
    },
    {
      "cell_type": "code",
      "metadata": {
        "id": "zbED2VkGV7uW",
        "colab": {
          "base_uri": "https://localhost:8080/"
        },
        "outputId": "398ff333-cc00-4052-bfd0-d5d1af0201e4"
      },
      "source": [
        "from sklearn.neighbors import KNeighborsClassifier \n",
        "\n",
        "knn = KNeighborsClassifier(n_neighbors=3)\n",
        "X = dfkn[['loan_amnt',\t'annual_inc','int_rate']]\n",
        "y = dfkn[['loan_status']]\n",
        "\n",
        "knn.fit(X, y)"
      ],
      "execution_count": 832,
      "outputs": [
        {
          "output_type": "stream",
          "name": "stderr",
          "text": [
            "/usr/local/lib/python3.7/dist-packages/ipykernel_launcher.py:7: DataConversionWarning: A column-vector y was passed when a 1d array was expected. Please change the shape of y to (n_samples, ), for example using ravel().\n",
            "  import sys\n"
          ]
        },
        {
          "output_type": "execute_result",
          "data": {
            "text/plain": [
              "KNeighborsClassifier(algorithm='auto', leaf_size=30, metric='minkowski',\n",
              "                     metric_params=None, n_jobs=None, n_neighbors=3, p=2,\n",
              "                     weights='uniform')"
            ]
          },
          "metadata": {},
          "execution_count": 832
        }
      ]
    },
    {
      "cell_type": "code",
      "metadata": {
        "colab": {
          "base_uri": "https://localhost:8080/"
        },
        "id": "_NWPVXIiXDIC",
        "outputId": "97000f69-47fa-4227-eef6-82d3b187ea12"
      },
      "source": [
        "prediccion = knn.predict(punto_nuevo) \n",
        "print(prediccion)"
      ],
      "execution_count": 833,
      "outputs": [
        {
          "output_type": "stream",
          "name": "stdout",
          "text": [
            "['Fully Paid' 'Fully Paid' 'Fully Paid']\n"
          ]
        }
      ]
    },
    {
      "cell_type": "markdown",
      "metadata": {
        "id": "lrqwfXmDw5cC"
      },
      "source": [
        "# EJERCICIO 3 KNN (vecinos mas cercanos) - métrica precisión."
      ]
    },
    {
      "cell_type": "markdown",
      "metadata": {
        "id": "DuvoX8irw3Wa"
      },
      "source": [
        "Ejercicio 3:\n",
        "Compare los tres modelos anteriores usando la métrica precisión. Recuerde que la fórmula es:  VP/(VP+FP) \n",
        "\n",
        "Donde:\n",
        "\n",
        "VP: Verdaderos positivos\n",
        "\n",
        "FP: Falsos positivos"
      ]
    },
    {
      "cell_type": "code",
      "metadata": {
        "id": "5gN4lcd8nV3b"
      },
      "source": [
        "import matplotlib.pyplot as plt\n",
        "import pandas as pd\n",
        "import seaborn as sns\n",
        "from sklearn.neighbors import KNeighborsClassifier"
      ],
      "execution_count": 1263,
      "outputs": []
    },
    {
      "cell_type": "code",
      "metadata": {
        "colab": {
          "base_uri": "https://localhost:8080/",
          "height": 201
        },
        "id": "WiKHfCH_ncuC",
        "outputId": "723d8f72-4295-4824-8855-9687af16a797"
      },
      "source": [
        "w=df.copy()\n",
        "w.head()"
      ],
      "execution_count": 1264,
      "outputs": [
        {
          "output_type": "execute_result",
          "data": {
            "text/html": [
              "<div>\n",
              "<style scoped>\n",
              "    .dataframe tbody tr th:only-of-type {\n",
              "        vertical-align: middle;\n",
              "    }\n",
              "\n",
              "    .dataframe tbody tr th {\n",
              "        vertical-align: top;\n",
              "    }\n",
              "\n",
              "    .dataframe thead th {\n",
              "        text-align: right;\n",
              "    }\n",
              "</style>\n",
              "<table border=\"1\" class=\"dataframe\">\n",
              "  <thead>\n",
              "    <tr style=\"text-align: right;\">\n",
              "      <th></th>\n",
              "      <th>loan_status</th>\n",
              "      <th>annual_inc</th>\n",
              "      <th>verification_status</th>\n",
              "      <th>emp_length</th>\n",
              "      <th>home_ownership</th>\n",
              "      <th>int_rate</th>\n",
              "      <th>loan_amnt</th>\n",
              "      <th>purpose</th>\n",
              "      <th>term</th>\n",
              "      <th>grade</th>\n",
              "    </tr>\n",
              "  </thead>\n",
              "  <tbody>\n",
              "    <tr>\n",
              "      <th>0</th>\n",
              "      <td>Fully Paid</td>\n",
              "      <td>24000.0</td>\n",
              "      <td>Verified</td>\n",
              "      <td>10+ years</td>\n",
              "      <td>RENT</td>\n",
              "      <td>10.65%</td>\n",
              "      <td>5000</td>\n",
              "      <td>credit_card</td>\n",
              "      <td>36 months</td>\n",
              "      <td>B</td>\n",
              "    </tr>\n",
              "    <tr>\n",
              "      <th>1</th>\n",
              "      <td>Charged Off</td>\n",
              "      <td>30000.0</td>\n",
              "      <td>Source Verified</td>\n",
              "      <td>&lt; 1 year</td>\n",
              "      <td>RENT</td>\n",
              "      <td>15.27%</td>\n",
              "      <td>2500</td>\n",
              "      <td>car</td>\n",
              "      <td>60 months</td>\n",
              "      <td>C</td>\n",
              "    </tr>\n",
              "    <tr>\n",
              "      <th>2</th>\n",
              "      <td>Fully Paid</td>\n",
              "      <td>12252.0</td>\n",
              "      <td>Not Verified</td>\n",
              "      <td>10+ years</td>\n",
              "      <td>RENT</td>\n",
              "      <td>15.96%</td>\n",
              "      <td>2400</td>\n",
              "      <td>small_business</td>\n",
              "      <td>36 months</td>\n",
              "      <td>C</td>\n",
              "    </tr>\n",
              "    <tr>\n",
              "      <th>3</th>\n",
              "      <td>Fully Paid</td>\n",
              "      <td>49200.0</td>\n",
              "      <td>Source Verified</td>\n",
              "      <td>10+ years</td>\n",
              "      <td>RENT</td>\n",
              "      <td>13.49%</td>\n",
              "      <td>10000</td>\n",
              "      <td>other</td>\n",
              "      <td>36 months</td>\n",
              "      <td>C</td>\n",
              "    </tr>\n",
              "    <tr>\n",
              "      <th>4</th>\n",
              "      <td>Fully Paid</td>\n",
              "      <td>80000.0</td>\n",
              "      <td>Source Verified</td>\n",
              "      <td>1 year</td>\n",
              "      <td>RENT</td>\n",
              "      <td>12.69%</td>\n",
              "      <td>3000</td>\n",
              "      <td>other</td>\n",
              "      <td>60 months</td>\n",
              "      <td>B</td>\n",
              "    </tr>\n",
              "  </tbody>\n",
              "</table>\n",
              "</div>"
            ],
            "text/plain": [
              "   loan_status  annual_inc  ...        term grade\n",
              "0   Fully Paid     24000.0  ...   36 months     B\n",
              "1  Charged Off     30000.0  ...   60 months     C\n",
              "2   Fully Paid     12252.0  ...   36 months     C\n",
              "3   Fully Paid     49200.0  ...   36 months     C\n",
              "4   Fully Paid     80000.0  ...   60 months     B\n",
              "\n",
              "[5 rows x 10 columns]"
            ]
          },
          "metadata": {},
          "execution_count": 1264
        }
      ]
    },
    {
      "cell_type": "code",
      "metadata": {
        "colab": {
          "base_uri": "https://localhost:8080/",
          "height": 201
        },
        "id": "r9igQ2Kynj8S",
        "outputId": "3a5f2482-d43a-4f2b-dbe5-389eb4bac3ec"
      },
      "source": [
        "#seleccionamos las columas que estamos interesados  \n",
        "w=w[['loan_status','annual_inc','int_rate','loan_amnt','home_ownership']]\n",
        "w.head()"
      ],
      "execution_count": 1265,
      "outputs": [
        {
          "output_type": "execute_result",
          "data": {
            "text/html": [
              "<div>\n",
              "<style scoped>\n",
              "    .dataframe tbody tr th:only-of-type {\n",
              "        vertical-align: middle;\n",
              "    }\n",
              "\n",
              "    .dataframe tbody tr th {\n",
              "        vertical-align: top;\n",
              "    }\n",
              "\n",
              "    .dataframe thead th {\n",
              "        text-align: right;\n",
              "    }\n",
              "</style>\n",
              "<table border=\"1\" class=\"dataframe\">\n",
              "  <thead>\n",
              "    <tr style=\"text-align: right;\">\n",
              "      <th></th>\n",
              "      <th>loan_status</th>\n",
              "      <th>annual_inc</th>\n",
              "      <th>int_rate</th>\n",
              "      <th>loan_amnt</th>\n",
              "      <th>home_ownership</th>\n",
              "    </tr>\n",
              "  </thead>\n",
              "  <tbody>\n",
              "    <tr>\n",
              "      <th>0</th>\n",
              "      <td>Fully Paid</td>\n",
              "      <td>24000.0</td>\n",
              "      <td>10.65%</td>\n",
              "      <td>5000</td>\n",
              "      <td>RENT</td>\n",
              "    </tr>\n",
              "    <tr>\n",
              "      <th>1</th>\n",
              "      <td>Charged Off</td>\n",
              "      <td>30000.0</td>\n",
              "      <td>15.27%</td>\n",
              "      <td>2500</td>\n",
              "      <td>RENT</td>\n",
              "    </tr>\n",
              "    <tr>\n",
              "      <th>2</th>\n",
              "      <td>Fully Paid</td>\n",
              "      <td>12252.0</td>\n",
              "      <td>15.96%</td>\n",
              "      <td>2400</td>\n",
              "      <td>RENT</td>\n",
              "    </tr>\n",
              "    <tr>\n",
              "      <th>3</th>\n",
              "      <td>Fully Paid</td>\n",
              "      <td>49200.0</td>\n",
              "      <td>13.49%</td>\n",
              "      <td>10000</td>\n",
              "      <td>RENT</td>\n",
              "    </tr>\n",
              "    <tr>\n",
              "      <th>4</th>\n",
              "      <td>Fully Paid</td>\n",
              "      <td>80000.0</td>\n",
              "      <td>12.69%</td>\n",
              "      <td>3000</td>\n",
              "      <td>RENT</td>\n",
              "    </tr>\n",
              "  </tbody>\n",
              "</table>\n",
              "</div>"
            ],
            "text/plain": [
              "   loan_status  annual_inc int_rate  loan_amnt home_ownership\n",
              "0   Fully Paid     24000.0   10.65%       5000           RENT\n",
              "1  Charged Off     30000.0   15.27%       2500           RENT\n",
              "2   Fully Paid     12252.0   15.96%       2400           RENT\n",
              "3   Fully Paid     49200.0   13.49%      10000           RENT\n",
              "4   Fully Paid     80000.0   12.69%       3000           RENT"
            ]
          },
          "metadata": {},
          "execution_count": 1265
        }
      ]
    },
    {
      "cell_type": "code",
      "metadata": {
        "id": "Gk0jQjCOoyNo"
      },
      "source": [
        "w[\"int_rate\"] = w[\"int_rate\"].str.rstrip('%').astype('float')\n"
      ],
      "execution_count": 1266,
      "outputs": []
    },
    {
      "cell_type": "code",
      "metadata": {
        "colab": {
          "base_uri": "https://localhost:8080/",
          "height": 201
        },
        "id": "MZu5DcB2p09a",
        "outputId": "455d40e7-ed41-4477-da9d-3482c6d94c09"
      },
      "source": [
        "w = pd.get_dummies(w, columns=['home_ownership'], drop_first=True)\n",
        "w.replace({'loan_status': {\"Charged Off\":0, \"Fully Paid\":1},}, inplace=True)\n",
        "w.head(5)"
      ],
      "execution_count": 1267,
      "outputs": [
        {
          "output_type": "execute_result",
          "data": {
            "text/html": [
              "<div>\n",
              "<style scoped>\n",
              "    .dataframe tbody tr th:only-of-type {\n",
              "        vertical-align: middle;\n",
              "    }\n",
              "\n",
              "    .dataframe tbody tr th {\n",
              "        vertical-align: top;\n",
              "    }\n",
              "\n",
              "    .dataframe thead th {\n",
              "        text-align: right;\n",
              "    }\n",
              "</style>\n",
              "<table border=\"1\" class=\"dataframe\">\n",
              "  <thead>\n",
              "    <tr style=\"text-align: right;\">\n",
              "      <th></th>\n",
              "      <th>loan_status</th>\n",
              "      <th>annual_inc</th>\n",
              "      <th>int_rate</th>\n",
              "      <th>loan_amnt</th>\n",
              "      <th>home_ownership_OTHER</th>\n",
              "      <th>home_ownership_OWN</th>\n",
              "      <th>home_ownership_RENT</th>\n",
              "    </tr>\n",
              "  </thead>\n",
              "  <tbody>\n",
              "    <tr>\n",
              "      <th>0</th>\n",
              "      <td>1</td>\n",
              "      <td>24000.0</td>\n",
              "      <td>10.65</td>\n",
              "      <td>5000</td>\n",
              "      <td>0</td>\n",
              "      <td>0</td>\n",
              "      <td>1</td>\n",
              "    </tr>\n",
              "    <tr>\n",
              "      <th>1</th>\n",
              "      <td>0</td>\n",
              "      <td>30000.0</td>\n",
              "      <td>15.27</td>\n",
              "      <td>2500</td>\n",
              "      <td>0</td>\n",
              "      <td>0</td>\n",
              "      <td>1</td>\n",
              "    </tr>\n",
              "    <tr>\n",
              "      <th>2</th>\n",
              "      <td>1</td>\n",
              "      <td>12252.0</td>\n",
              "      <td>15.96</td>\n",
              "      <td>2400</td>\n",
              "      <td>0</td>\n",
              "      <td>0</td>\n",
              "      <td>1</td>\n",
              "    </tr>\n",
              "    <tr>\n",
              "      <th>3</th>\n",
              "      <td>1</td>\n",
              "      <td>49200.0</td>\n",
              "      <td>13.49</td>\n",
              "      <td>10000</td>\n",
              "      <td>0</td>\n",
              "      <td>0</td>\n",
              "      <td>1</td>\n",
              "    </tr>\n",
              "    <tr>\n",
              "      <th>4</th>\n",
              "      <td>1</td>\n",
              "      <td>80000.0</td>\n",
              "      <td>12.69</td>\n",
              "      <td>3000</td>\n",
              "      <td>0</td>\n",
              "      <td>0</td>\n",
              "      <td>1</td>\n",
              "    </tr>\n",
              "  </tbody>\n",
              "</table>\n",
              "</div>"
            ],
            "text/plain": [
              "   loan_status  annual_inc  ...  home_ownership_OWN  home_ownership_RENT\n",
              "0            1     24000.0  ...                   0                    1\n",
              "1            0     30000.0  ...                   0                    1\n",
              "2            1     12252.0  ...                   0                    1\n",
              "3            1     49200.0  ...                   0                    1\n",
              "4            1     80000.0  ...                   0                    1\n",
              "\n",
              "[5 rows x 7 columns]"
            ]
          },
          "metadata": {},
          "execution_count": 1267
        }
      ]
    },
    {
      "cell_type": "code",
      "metadata": {
        "colab": {
          "base_uri": "https://localhost:8080/",
          "height": 201
        },
        "id": "IfOISgyfte9i",
        "outputId": "39b3f641-aed3-4642-fcd3-be1cee9ee742"
      },
      "source": [
        "#seleccionamos las columas que estamos interesados  \n",
        "wn=w[['loan_status','annual_inc','int_rate','loan_amnt']]\n",
        "wn.head()"
      ],
      "execution_count": 1268,
      "outputs": [
        {
          "output_type": "execute_result",
          "data": {
            "text/html": [
              "<div>\n",
              "<style scoped>\n",
              "    .dataframe tbody tr th:only-of-type {\n",
              "        vertical-align: middle;\n",
              "    }\n",
              "\n",
              "    .dataframe tbody tr th {\n",
              "        vertical-align: top;\n",
              "    }\n",
              "\n",
              "    .dataframe thead th {\n",
              "        text-align: right;\n",
              "    }\n",
              "</style>\n",
              "<table border=\"1\" class=\"dataframe\">\n",
              "  <thead>\n",
              "    <tr style=\"text-align: right;\">\n",
              "      <th></th>\n",
              "      <th>loan_status</th>\n",
              "      <th>annual_inc</th>\n",
              "      <th>int_rate</th>\n",
              "      <th>loan_amnt</th>\n",
              "    </tr>\n",
              "  </thead>\n",
              "  <tbody>\n",
              "    <tr>\n",
              "      <th>0</th>\n",
              "      <td>1</td>\n",
              "      <td>24000.0</td>\n",
              "      <td>10.65</td>\n",
              "      <td>5000</td>\n",
              "    </tr>\n",
              "    <tr>\n",
              "      <th>1</th>\n",
              "      <td>0</td>\n",
              "      <td>30000.0</td>\n",
              "      <td>15.27</td>\n",
              "      <td>2500</td>\n",
              "    </tr>\n",
              "    <tr>\n",
              "      <th>2</th>\n",
              "      <td>1</td>\n",
              "      <td>12252.0</td>\n",
              "      <td>15.96</td>\n",
              "      <td>2400</td>\n",
              "    </tr>\n",
              "    <tr>\n",
              "      <th>3</th>\n",
              "      <td>1</td>\n",
              "      <td>49200.0</td>\n",
              "      <td>13.49</td>\n",
              "      <td>10000</td>\n",
              "    </tr>\n",
              "    <tr>\n",
              "      <th>4</th>\n",
              "      <td>1</td>\n",
              "      <td>80000.0</td>\n",
              "      <td>12.69</td>\n",
              "      <td>3000</td>\n",
              "    </tr>\n",
              "  </tbody>\n",
              "</table>\n",
              "</div>"
            ],
            "text/plain": [
              "   loan_status  annual_inc  int_rate  loan_amnt\n",
              "0            1     24000.0     10.65       5000\n",
              "1            0     30000.0     15.27       2500\n",
              "2            1     12252.0     15.96       2400\n",
              "3            1     49200.0     13.49      10000\n",
              "4            1     80000.0     12.69       3000"
            ]
          },
          "metadata": {},
          "execution_count": 1268
        }
      ]
    },
    {
      "cell_type": "code",
      "metadata": {
        "colab": {
          "base_uri": "https://localhost:8080/"
        },
        "id": "pDijTtYAvEwL",
        "outputId": "2ad2234a-0d6a-4de4-9976-eb99aae29521"
      },
      "source": [
        "from sklearn.neighbors import KNeighborsClassifier \n",
        "\n",
        "knn1 = KNeighborsClassifier(n_neighbors=3)\n",
        "X =wn[['loan_amnt',\t'annual_inc','int_rate']]\n",
        "y =wn[['loan_status']]\n",
        "knn1.fit(X, y)"
      ],
      "execution_count": 1269,
      "outputs": [
        {
          "output_type": "stream",
          "name": "stderr",
          "text": [
            "/usr/local/lib/python3.7/dist-packages/ipykernel_launcher.py:6: DataConversionWarning: A column-vector y was passed when a 1d array was expected. Please change the shape of y to (n_samples, ), for example using ravel().\n",
            "  \n"
          ]
        },
        {
          "output_type": "execute_result",
          "data": {
            "text/plain": [
              "KNeighborsClassifier(algorithm='auto', leaf_size=30, metric='minkowski',\n",
              "                     metric_params=None, n_jobs=None, n_neighbors=3, p=2,\n",
              "                     weights='uniform')"
            ]
          },
          "metadata": {},
          "execution_count": 1269
        }
      ]
    },
    {
      "cell_type": "code",
      "metadata": {
        "colab": {
          "base_uri": "https://localhost:8080/",
          "height": 412
        },
        "id": "WkzskuS_vSGa",
        "outputId": "f8ff6aa5-386b-4394-d1db-9b87d17c011a"
      },
      "source": [
        "X"
      ],
      "execution_count": 1270,
      "outputs": [
        {
          "output_type": "execute_result",
          "data": {
            "text/html": [
              "<div>\n",
              "<style scoped>\n",
              "    .dataframe tbody tr th:only-of-type {\n",
              "        vertical-align: middle;\n",
              "    }\n",
              "\n",
              "    .dataframe tbody tr th {\n",
              "        vertical-align: top;\n",
              "    }\n",
              "\n",
              "    .dataframe thead th {\n",
              "        text-align: right;\n",
              "    }\n",
              "</style>\n",
              "<table border=\"1\" class=\"dataframe\">\n",
              "  <thead>\n",
              "    <tr style=\"text-align: right;\">\n",
              "      <th></th>\n",
              "      <th>loan_amnt</th>\n",
              "      <th>annual_inc</th>\n",
              "      <th>int_rate</th>\n",
              "    </tr>\n",
              "  </thead>\n",
              "  <tbody>\n",
              "    <tr>\n",
              "      <th>0</th>\n",
              "      <td>5000</td>\n",
              "      <td>24000.0</td>\n",
              "      <td>10.65</td>\n",
              "    </tr>\n",
              "    <tr>\n",
              "      <th>1</th>\n",
              "      <td>2500</td>\n",
              "      <td>30000.0</td>\n",
              "      <td>15.27</td>\n",
              "    </tr>\n",
              "    <tr>\n",
              "      <th>2</th>\n",
              "      <td>2400</td>\n",
              "      <td>12252.0</td>\n",
              "      <td>15.96</td>\n",
              "    </tr>\n",
              "    <tr>\n",
              "      <th>3</th>\n",
              "      <td>10000</td>\n",
              "      <td>49200.0</td>\n",
              "      <td>13.49</td>\n",
              "    </tr>\n",
              "    <tr>\n",
              "      <th>4</th>\n",
              "      <td>3000</td>\n",
              "      <td>80000.0</td>\n",
              "      <td>12.69</td>\n",
              "    </tr>\n",
              "    <tr>\n",
              "      <th>...</th>\n",
              "      <td>...</td>\n",
              "      <td>...</td>\n",
              "      <td>...</td>\n",
              "    </tr>\n",
              "    <tr>\n",
              "      <th>38700</th>\n",
              "      <td>2500</td>\n",
              "      <td>110000.0</td>\n",
              "      <td>8.07</td>\n",
              "    </tr>\n",
              "    <tr>\n",
              "      <th>38701</th>\n",
              "      <td>8500</td>\n",
              "      <td>18000.0</td>\n",
              "      <td>10.28</td>\n",
              "    </tr>\n",
              "    <tr>\n",
              "      <th>38702</th>\n",
              "      <td>5000</td>\n",
              "      <td>100000.0</td>\n",
              "      <td>8.07</td>\n",
              "    </tr>\n",
              "    <tr>\n",
              "      <th>38703</th>\n",
              "      <td>5000</td>\n",
              "      <td>200000.0</td>\n",
              "      <td>7.43</td>\n",
              "    </tr>\n",
              "    <tr>\n",
              "      <th>38704</th>\n",
              "      <td>7500</td>\n",
              "      <td>22000.0</td>\n",
              "      <td>13.75</td>\n",
              "    </tr>\n",
              "  </tbody>\n",
              "</table>\n",
              "<p>38705 rows × 3 columns</p>\n",
              "</div>"
            ],
            "text/plain": [
              "       loan_amnt  annual_inc  int_rate\n",
              "0           5000     24000.0     10.65\n",
              "1           2500     30000.0     15.27\n",
              "2           2400     12252.0     15.96\n",
              "3          10000     49200.0     13.49\n",
              "4           3000     80000.0     12.69\n",
              "...          ...         ...       ...\n",
              "38700       2500    110000.0      8.07\n",
              "38701       8500     18000.0     10.28\n",
              "38702       5000    100000.0      8.07\n",
              "38703       5000    200000.0      7.43\n",
              "38704       7500     22000.0     13.75\n",
              "\n",
              "[38705 rows x 3 columns]"
            ]
          },
          "metadata": {},
          "execution_count": 1270
        }
      ]
    },
    {
      "cell_type": "code",
      "metadata": {
        "colab": {
          "base_uri": "https://localhost:8080/",
          "height": 412
        },
        "id": "pbfa6ylqwGz6",
        "outputId": "e45a1c24-1116-400d-de4a-415f6972bbf2"
      },
      "source": [
        "y"
      ],
      "execution_count": 1271,
      "outputs": [
        {
          "output_type": "execute_result",
          "data": {
            "text/html": [
              "<div>\n",
              "<style scoped>\n",
              "    .dataframe tbody tr th:only-of-type {\n",
              "        vertical-align: middle;\n",
              "    }\n",
              "\n",
              "    .dataframe tbody tr th {\n",
              "        vertical-align: top;\n",
              "    }\n",
              "\n",
              "    .dataframe thead th {\n",
              "        text-align: right;\n",
              "    }\n",
              "</style>\n",
              "<table border=\"1\" class=\"dataframe\">\n",
              "  <thead>\n",
              "    <tr style=\"text-align: right;\">\n",
              "      <th></th>\n",
              "      <th>loan_status</th>\n",
              "    </tr>\n",
              "  </thead>\n",
              "  <tbody>\n",
              "    <tr>\n",
              "      <th>0</th>\n",
              "      <td>1</td>\n",
              "    </tr>\n",
              "    <tr>\n",
              "      <th>1</th>\n",
              "      <td>0</td>\n",
              "    </tr>\n",
              "    <tr>\n",
              "      <th>2</th>\n",
              "      <td>1</td>\n",
              "    </tr>\n",
              "    <tr>\n",
              "      <th>3</th>\n",
              "      <td>1</td>\n",
              "    </tr>\n",
              "    <tr>\n",
              "      <th>4</th>\n",
              "      <td>1</td>\n",
              "    </tr>\n",
              "    <tr>\n",
              "      <th>...</th>\n",
              "      <td>...</td>\n",
              "    </tr>\n",
              "    <tr>\n",
              "      <th>38700</th>\n",
              "      <td>1</td>\n",
              "    </tr>\n",
              "    <tr>\n",
              "      <th>38701</th>\n",
              "      <td>1</td>\n",
              "    </tr>\n",
              "    <tr>\n",
              "      <th>38702</th>\n",
              "      <td>1</td>\n",
              "    </tr>\n",
              "    <tr>\n",
              "      <th>38703</th>\n",
              "      <td>1</td>\n",
              "    </tr>\n",
              "    <tr>\n",
              "      <th>38704</th>\n",
              "      <td>1</td>\n",
              "    </tr>\n",
              "  </tbody>\n",
              "</table>\n",
              "<p>38705 rows × 1 columns</p>\n",
              "</div>"
            ],
            "text/plain": [
              "       loan_status\n",
              "0                1\n",
              "1                0\n",
              "2                1\n",
              "3                1\n",
              "4                1\n",
              "...            ...\n",
              "38700            1\n",
              "38701            1\n",
              "38702            1\n",
              "38703            1\n",
              "38704            1\n",
              "\n",
              "[38705 rows x 1 columns]"
            ]
          },
          "metadata": {},
          "execution_count": 1271
        }
      ]
    },
    {
      "cell_type": "code",
      "metadata": {
        "colab": {
          "base_uri": "https://localhost:8080/"
        },
        "id": "6E4qBQjcjgYa",
        "outputId": "459a7418-f0a4-4f68-d519-b461fa6da246"
      },
      "source": [
        "knn1.predict(X)[:5]"
      ],
      "execution_count": 1272,
      "outputs": [
        {
          "output_type": "execute_result",
          "data": {
            "text/plain": [
              "array([1, 1, 1, 1, 1])"
            ]
          },
          "metadata": {},
          "execution_count": 1272
        }
      ]
    },
    {
      "cell_type": "code",
      "metadata": {
        "colab": {
          "base_uri": "https://localhost:8080/"
        },
        "id": "9JcFKJgVflYF",
        "outputId": "ce825905-bf37-4c76-ed07-c010568c0169"
      },
      "source": [
        "from sklearn.metrics import precision_score\n",
        "precision_score(y, knn1.predict(X))"
      ],
      "execution_count": 1273,
      "outputs": [
        {
          "output_type": "execute_result",
          "data": {
            "text/plain": [
              "0.8956854328325353"
            ]
          },
          "metadata": {},
          "execution_count": 1273
        }
      ]
    },
    {
      "cell_type": "code",
      "metadata": {
        "id": "JUeyQjRUxHw6"
      },
      "source": [
        "#CON LA METRICA DE PRESICION SE TIENE APROXIMADAMENTE UN 89% DE FACTIBILIDAD QUE LOS CLIENTES PAGARAN LOS CREDITOS"
      ],
      "execution_count": 1274,
      "outputs": []
    },
    {
      "cell_type": "markdown",
      "metadata": {
        "id": "y0Grt3r_0_27"
      },
      "source": [
        "# Ejercicio 3:\n",
        "como podemos observar con vecinos mas cercanos KNN tenemos una metrica de presicion del 89 %, en conclusion podemos asegurar que entre un 86 % y un 89% de los clientes pagaran los creditos"
      ]
    },
    {
      "cell_type": "markdown",
      "metadata": {
        "id": "mBTQa0HdF783"
      },
      "source": [
        "![presion python.PNG](data:image/png;base64,iVBORw0KGgoAAAANSUhEUgAAAgMAAAEyCAYAAABnFdPCAAAAAXNSR0IArs4c6QAAAARnQU1BAACxjwv8YQUAAAAJcEhZcwAADsMAAA7DAcdvqGQAALHUSURBVHhe7L0HmBzVme/N/e7dcH0x7N7d68VrzHq93rWNbRYnMgZjkxFgIQkkJCQkIQnlhDLSSBqNpNHknHPOOeecc449PT09nXPPAMb8v1Ohe7pnekbSSGpG5rzP83u66z2nTp0+VV3n/56qOnUPqFGjRo0aNWrfaKNigBo1atSoUfuG23XFwOeff46xsTEMDg5SKBQKhUKxE/a064oBvV4PuVyO2dlZCoVCoVAodsKedkNiQKlU2qwohUKhUCiUO4M9jYoBCoVCoVBWIPY0KgYoFAqFQlmB2NOoGKBQKBQKZQViT6NigEKhUCiUFYg97RbFwDQK8kog1w8gMbsKaoOtPBwRGRlQ6gzc8mQZwkpaFuShLI/h0hgkdY3ZTFsODWXpKBFJbabdLqozQlE+IrGZxqKWwiMhHUO20m6Rjgw/pHSLbKbdCZj2rJapFvg7W/KxI7IEinn+u43GjCDkDohtpt0e5EiOCkXluK00CscQImLSMKG0lbbykYx04WBgCjr4z3EbeW4n0s4SHI7JwkBDPo4n5mNaZzvf14097ZbEgGYgD5ezW6AknwGlPTDYyMMxBNewVKj0M+xyf6ozvGsH5uW5y5nRIC4qGOkjNtLuKHoUBF9CZt/t6ry1iI0ORuOUwkba7UKMEE9PNAq1NtI41JIRfBKWDpmNtFtCL4KvsyOKhtW20287XHt2yzUL0vq7K3EmrRbKef67CtKePq7OpKNe+PtuG8pxHHAPQafCRpoFwTGRENvwfyMYL8OR0MwV26ldj762fHyY0GL+NPk763NwrnTCKu/NMlgUgrC2IQufER35Ufg4uRENmcE4ktkGnUX+lYQ9bdlioKs5C9uvOeG1ax74gHz+yS3UZvTDIiqCU3wRtEZmWYl0LwcSmUkxWR6FqMJ8bPXzI8Sgm89v0GlwLYLxMYSiYsqiLEtI9Hg5Zi567KxKR+7YFJc23YiT7Pp+8KgbZX3j/fXY528q1w9B9f0w8uvaYrK7zlyHEhHnY6KgpAK+zqHpmCI+WU8Vtvr64O1LTnifzR+GmulZjNTl4HJBI6ljCLYGRqB6whQJD8CVr4NzSQf0xNfXVYyIxiEEhHL+tB5+bgfVGJyDA7jtEUwR7VzdfPDeFS90yUheox55BQmcn68btz3bTPTmYzeTNyQWnVOmfdwPN/9oEmFwwm0p0vMzkBsThE/TC5AXG0x+az2XNtltru/WjE4+vxHd9QW83xMb3eIxyRwPBjXSsmM5f0K5uWzRRBmc09vMyyZyE7lyP0nIgVhtnXZDTLTgZYcQjMwbxZpor+Dr5oe4buu0+ailIjiGcXm3+oWjQUL8Q5W4kFWG4MQI4guzGFnpZdtTorFoTyJ0joYGYmukxWiZiY50cz2iWvgT2ESb2bc9IBg1YyrUZ4UiJjUFu0MjkJ6djX3hqZjUkLzsiEoYl9+iPacnOnA8kCvj0/zeue3ZYqoWx/nt2ayjJaQ937ociXH2vz3HeFORuc7Jvbxfr0B8WjTv5/4jluvMhznH7GLyenvij0ElfLAhNv9HtvpFolGj40ZYyPKfLl/m/NHZfBlKFERxeXcGx2NYxZdt0Z4Howog4bdnC+6c0ghPNj+/r4lfLhjA8WDGF4SE3mlz/vg4rtytESkW7daNS/z2TPuU/f+S/0ZKdhS2+gewI3vMec8rI99cluXomWV7MhEtu69Je0awxxvxu1/F3uxO9nw2Vzc/+NbOjYA116Wz7cTUOXVwcbGvHG6ZqxvJPzfqqEB2JFfuVr9AxHeNYFanQlBKOppkTfiE+M11I0FKc0kan5ccc2mVS4petYr0BwqD+ZP5j+wJ9Md6lyt4x8OXLSOk1SQ4O3GeL9f8HyE0pvF18w9i202tGMKFID9suOqItR7e2BoQiuIRpn+YgVIqxoRCB4VkCpNKvbmMlYY9bfkjA9pJXA3JgFAxTk4yaRDNT7dAVR2GqxW9mGGWdcM453AJ9ZOkA0y+ivV+sRieNaA4JxzeTSRdOYLzLu4oGRPDqJHjfHAkeueVZ8Ygh1+QL/mzMssapET7o1Igg2y8BYdJVNnLRBLqJlwk25Bq59Yb7ajEqZTiJaMI1Wglzsbnsd9FLYV41TcPilkdcgLO48OILEgNKoRFhyBbyOVXywU4lVBmUYYRbXlR2OwThSaxAiODeXDNGyQdyRDOBkeTqJjJMwo3clIckenQVJNADthwchCrICwOwem8ZvLHViGUdLZpvUwELUWMxyXkDZCIdqoep8KT2ZOYbrgBr7okk9+iREOyLwLqmD+HEVU5kdiXO8zXZT56DNek4mBiFWR6opy7MnCV1I1NGyvFsYhsyJa45MOhhqe/BwIbR+DkfQ2pPd0ITiAnMtUoXCPjMcjkUY/i/CUHVI3pIR7IxLG4InZdpj3XRlZBS04uFUn+CG8mJxujBjFRPojo4MofrItDQP3c6JFBI0VoVBiC2rgooSAtGAmDvPC7CcSdFXjetwhqC9/0QBnOJnF1Uw1VY51TGCZIu5jSrZD14ZynP6qFUhgVU9hD9i8jRsfKYvCOVzjqiAgY66vCJym8kBkpZNtTZdFZjgmHoNLoERkXhnr13OjIYHMRdkbnYcxK5EzhSmgUGplOSDtA2tMFrWIdMgId4ZjfiFT/i7hSUoEwL28MiqYQExGAPOaEZ1AiLsYXoewJVIPQYC80Tlx/8jDFaAu2+EeilRW/g3AlIsM0omcLpj1fCy6DxsLHtmcaJ0SUfWXY5BrDtqdgMAdXMk3icCkMGC+PwYHEUsjI/3a4pwSnc4ahV47inIcfEnu5/e5DjodR0o7sOgPpuJRRbVHGLJIyYxDWwnWmHSmu8KknIsigQxgRrqb/7fWoyvIlgiQJXfJZdOeGkv9UD9TCZjiEJWJcoYVivAcbfZLY/+JQrj/7v7UcIZWNN+OgbzQ6xczyIBGRGax/sCEf66/6IrVvAhp1DVwTqjCj1+BqeCQGmHW1o3D38ELTpBaSwQqciCX/SeLXdObh/aBcyGe1qEjxQ3CDkJSnJqLcF36NCmgm28x104mHsMclEG2sSKyHY3CK1XlwMdi6uYcgk9RtdraRq5tRh/iUCFysIQKA5KlOdEdil4A7R4e6wyGmjB2VSItwRemwBH2tqTiRxu0P5r+xO7WRDXost3MjBMdGYUw711lLRurwsXcMellR1m9uz7lztPX6s9oeXLwWiH6y/6z8dwn2tOWJgd4CrHO9hj86XjF/XsytIyd3izxmVMgNvIyYdj4qFrTgRddUTBsVSPV0QFInUdXkQEtMikMNOVDHG/LwemQd+4dSkROvQ0zhEpcfdCiK90c8E8lN1+NiaCYkhhlU5Abg1csuWOfmhnUulxHXpoBxhl9HVAVPIgSkRuO8sixRIMP7PF694syW8Q7ppFtlKtI5j8GdRP9V4+Tg1CpIxJ9ojjDFvVnwLbeMuFTIiPPH5fJxVq3r9SpIVXr0NiZi1aWrXN3cnOFVOQa9cQY5aeFIFXDRZEcK08lOYWayGE4JzIgKORlPdWGNYzCGyfZaYy8ioJEb7eiuzSIRwQiM4w0kMorAOF+fwYoUHCsU8HWZh3oa5wKu4Q1npg5u2BYQhk4R94cbKIzA8YLuJUdMODrhHJYJtaAYjvEF0E4UwDurBsICb7hVdPF55Ehyd0DdhAzJvpeR0y8jPgPKiUjybCSd4Gg1Xj1/Hn9yYerhihPpjVDww5zZ0e4oHJq7Dj011oTj8TXmY6GpMhnZRDCa0m+U2tJ4XKy2vDyhsKgbWZZ2YP/lKG7UwpxnjqGyeHyY2sq2j1REom22TuTEnBRg3teWYqA3J5BtT1YIzyM0PgEy3dxxGBobhoH5Iqw1Bi7lXFny7jK86U2EqHEMbmTfNfe14hg52feONuOEWwIGSCS9JaIYSvZY16EqPQwxnUx0akBXRxa2urhif3QWKwCttmFBDWmf4DY+0u1IxKeZ1dCb/js2YNrTuc6yPeVse5YO85GnpBlHSd2Y9tTLxnAq0AvriJjKG1ring3NJJy9fVEi5NqmIjcSmUI5RjrLsC+5nT82u+ESTo4/Xqh0JF2DW42l+G3DtegC87K8JgL+Df2YnZnBWFM+3mSOuQhO7C9FQqgL0ge4uupUckyplCiN88FLl8i5j/x31rr7I2dwgq2TVknEmhv33y4d5dYvyQ/Hy07XWN86kpbYypVVXRKLbSn97PE8M6OBVElEGzkPxiTEoYn4pO0F2BDfQM4NpIzoa0jrmSTr6VGXFYGzJeOYIe16yisCE2ry+xVCHPUORZtOi6qUIHjUTnLHm3oCFz0j0MMcUwY1kpL8sJbU41pZ5xLnVK5uFyuY8x2zzIkBnWYEl6Ky+fUE8LpGjr9JA7QKCY76hmCQFxlKhZTsk2lEBXihTsCMFJPzfIQ3Efk6Nv3m6IQ7Cbw0FmI0JzMYLzrx53aL9tSTYybAzYn9faaAgoFpx/eCCu7a+3LsacseGejvKENu/xRa6jOQzit122hQGOxEFDqXp7IgFUcqSPSqGsBBB1/0kSjISBTxFdKxSmZn0FWRim0ZJEqVCxET74ljWUvfaCiojINDUT9SM5NQK+B8pTkRyByeG7ozMUmi6Ktx2Ri47k02XCeWPWB92UMraMCHbBROvism8Gnc3MlEUB6O0E6Lk5FGQjrLCLTMU6Td9UmI6Zp/IlQjJC4GQiX5w5A/UpivG4qZm6W6k3Euo4qcjFXIzozEH33ySERLogBfByQwIopE4Q5+V7kRlYlGrHUKxABpT4N+ApdCQ8wnpAWoxDgZEo3uBcPsWpQmBsC3gWk7NUZHBIur+aEcuJLIVMGP+vRneCCgaQKSIl9cKm5l84y0FuAt71RMaCbgd5WIqDE9EQ2d2OPqwkVmJOL5k286xAs6p2mE+pKoaEINtVJC2kUF8VgbDkYWsxGoWtgPp+BgtEv5/SMZQUFnPzlpLCXwODLSI5DEtK1Ohso+5phUI93PEandRHwZmRGqOBzIbFtE2BrQmE3EUiERYjIBQmI8cL6EHMsGKYm8A1DAHn8ypKdFI3eAEXZqFER5mdtzbExocRJug2d0PrQGFYQiCXvy9gwLxJBpKJuHaU8mojUYhAgkJ9X1Kd1E0LZgl3cGhCRiZkZYRhqysD2zD4rWbGwIyYGUnPyVE+04EhzLRrSW5eXH+yB3YuF/w0RBViTSBXIoJMO47HpxbkRvEZj2TGN+t1aCWvYmQhXbnnkD0+R/rUNeeiSO53VataeERK97wuc66gXIR7HfPZiNaCUj9dh3zR3NRIx3t2TjQgE5JskxkRLvhSOp5dCxQkWBNF8nxHfwgo6lE47hWex3pagX5108UDpuma5FTkownKosffOZgL9/GAZllsPIWnafBrUsMcrSmoQ98YVs3QpyY5Bq436KBHKMlPKXHOYwor4oBdF9OqRlFmKU9amQGOCM4iE5ZEON2MZ0gP3EP1KObcyIBNnXLdWpeNs1FlNELNSmBuFy2TDbkXfVFeBgQtm8jlCIK0T8s+caK/8c5rox/5FUb0S3jUGrboFzXBn7H6kpSsCbrpEkYp+FQtoKl1TrERlmxNPbwwedUwYMt5XhvcteqF1OZC7Iw6XEEugshHlGehQyF7tszDBSS8RXMFs3ZpkJitYlLbzceLdgT1u2GMjIIJ2JWImi7HgMSC0jg4VoFdU4cIVTx5fya9gTg6KvBs+7pkNKvjOq0zEqh82rn2rBNkeirq8FIGO4EMHFHQvKs0JYiS0u/igdmhMk0uE2bPfiol6G/CHG341Tlx1JNOzK+dmhNotyrDBCKSvHvqu8AvWLxyTxj9Xn4vXoRvaPJpNU4VpKg3kduagVu9zIb+SjHvX0BPZGZC5Q4DrxIHZ4e5rrFtnGdBrdcA1OhpS5rizuw/tXQ9HP/AFIR3HN5zLJ54KA1By8ElHLlqHtT8Ympm7XIhFOOq9kptMnUUV9kisbZb/n4YrcniWiZvKHHqhKwVtsRO6GnWEJGGdvzpqBoCIOr7G/2x8V42o+OlhId7oXotrEaI2/ipj2cWT5O6FgmHTGWgUueHNR04HYfBJJMZGpEcLSILx1zRUfBKbDMyYaTUy0QkRgcYIb3nHl6nGpqI8v34iSOBfyW1yxJyIV46QMI+lww0J8sIbkW3M5CPVyErmYItaOdPzeJQQCxdLHIUNLRRpWkahmnXcEOvj8sqkS7LrKHJ/uuFbaAOX86NwC3UQ1PnRyxjrnQKT25CGinggD+QQOeV3DalI3ZrQnoVXOjvYw7TlWEmFuz5oJjUXHKsA5F2bfBqBpSsf6B5tKuLox5ZhOYNp+HCZlbvB0R0xyKg7lT7CjZ5/kj2KoKhXHiDBpzI+FXzNpZ50a0QGObHtu8Q1AA9sJKZCZEMaVSdhLommJYXHRJOiuxfuurtgSFI/aFE/z/TaLwbYncxz5RKHLoj0/cibt6eoBz+pWqJj2HK0z12Gtpy9ye5lId2F5LDMG1Kf44W1S7oGkeoST+o/KNdALu7CB1G2tRxBKmpPhnlPL/7/I/5VE/qb/dgN7CcCABBIlM8vsyJ5UweYdLAg21+OjyHzIlxo2HyrDrtBsyKxGRmagVjTik8vcqOE6rxDUT8kx2lONrR5cueuueqBEwO1r9Ugj3nFxN2+zgL9W7xQZu+DcwDDdXow3XXzQOD53LI+3xON9ZxfsCoqFd0QYCiaJ36BFPNnXzP/BOb0KW8lvYcrTqVpxlB+1OByTi0ktOS5kY9jt58XXwQVOJd0wsMen9bZNeAZfwztMXldPRHZLiGCdxYxeBbdwUoa7B/zyU3DQLYm9J2miJhp+DfPvQTGiNTeA/f8eik7Fp+TYMN0PdlOYz3/kN5Zwl19UgzV49SrfzgSmPXXaUZzz4X3XPBDVy+1rpgz9ZD228iOxXnV38omXO4M9bfn3DFAoKwIDxpvTcCK2AMolhr/vJJLxLuyOLrWZRqHcXfTDmQ/MKF8/9jQqBih3NZkJHng5qABqnWHJ4ew7ychgMSJqF7tZk0K5ixBkw7+oyXYaxe7Y06gYoFAoFAplBWJPo2KAQqFQKJQViD2NigEKhUKhUFYg9jQqBigUCoVCWYHY06gYoFAoFAplBWJPo2KAQqFQKJQViD2NigEKhUKhUFYg9jQqBigUCoVCWYHY06gYoFAoFAplBWJPo2KAQqFQKJQViD2NigEKhUKhUFYg9jQqBigUCoVCWYHY06gYoFAoFAplBWJPo2KAQqFQKJQViD2NigHKikA52Y6GunGbaV8XGtkoKmrbbaZRKBTKncaetjLEgF6NvWscUG1aNmrhtvoZbE8WLsw7H4MKovFpGGZspC2KEG4PPYCcAVtpdqTZD8+sioXCVhqP6/4X8dAD/4A1e3OgN/n1Chx9/xk89NBDWLM7GBqL/HcaYfJ2rHGvgMHkq7mMJ9bshVpvnW8BMzOQi8RQ2MinU9Zi/3/8Eo3jGuglw3j3+TcR3q3CDEnryLiIX+4NWrCOJQbVFIQyDZvfVvr1mYFqSgipZp5fK8WeNaeRKVLCaOmnUCgUO2BPW5liYMaA9sIMlA+pF+adjzAX2x4/iYn5J/IluXvEAAvpcK3EgKIP3QNi9nv4nq0I7bfIe4dZIAZErUgvqoLBaJ1vAUTgBWw5jNjReX6DBglHduJYhcjsk7R44qXnN2NU0IkDr/4WdeMq63XmIcrcb12nm0aPnL1rcLlmYZpsKB4bfvsO+mUL0ygUCuVOYk9bthhIDL6I8LBLePCh7+M7921BrVLH+l1cD6I08hL+9aEH8Q8fh0PFRIIkko05thE/JJHsU2v3Q6gwsHk10wPY+vp3SYT7fXz7W2/xYmAYl0m+B/7xW9YjAzolst124XvffwgP/fxJxDaOY7jYA48++B3c+7f3k3o8hEdfeAtdIi30mimEHXqCjZy/+8ZxdEvUbNQo7y3Dz3/xMPE/iH/8n/9zSTHA1G1gYI4hicZmvlmNBBs/uQyno9/FEzuP4eLb38Wai7Gk8zNgojwE33mQ1Jds70WfIhI9G2EkwifX9Qm2vg999/+axYBa0IAdv/g5m/fNc2kkSjXObWO+GLAg69gWuDUt9JuQVLrhgaNh2PjmY3jwv34Br4Ju1t8ZvQob3dLx0jO/wMOPv4CaQQWpsx7jRb74F6bOpF1DyifYTp5pz4Bdv2Db88H/d6+54827tg//QUTV7+eNDEy3ZOKfv8f8bsKOJKikLdhMvv/TvfeZ/cdyp9i8evkY3nX2Ma9roiRoG9557ad4I7ZrQZolsefexIPf+Ta+9Y8PsOW+szMYSgPXnpt++J/E9z38yakQcr4927JOc21P4I6vMfZ4+863v4V/eIDz/9y70WobaY7/iYB6gZWPQqFQ7jT2tOWLAccj2BNWDd2sAYK0o1gXUMcOpbpsX40jPlWkg5Mh5I/fRmSLCpL8Q/jYN4/tWEaySOe0OwfqWRF8fvwY0rqlC0cGZo2ocF9jIQaM6Iw9gLVO5VCRE71lPWyNDDTF+uNsWjP7Xdp4GZvW+7Dr+V/aiPoxJsq8/sjAVGciEhPnSOvmIvEFMGLglZ2I7RnGS+u3o7a/Cy9c8oFa1IHff3wCQrZeWsQ47ERI9RjGqpPwiX8JaTfitxgZCPQ4jKIeCcmrQcO5N7AjvHVu2HsxMSAqxvq390E8328BIwb+6fUz6CFiRjlag1UOwayfEQMPrr6AIZkGvWSfXPQvJ+nV2HTcAyItWVcjwImPf48OkZptT4eiHna9BSMDs9VwsBID0zhxaB+GVaZlnkVGBqTDGTh12tfKxzBS5oUf/P1jyBVa+21ha2SAac+6UWZkSY3a47/HkYROtj0PbnofOSLr9ZcaGWAYSDmPs9FtNtMoFArlTmFPuwUx4ICQBi5a0te54bUdGey1a5eL+1AjJFGmRd7Ga9/HP//7T/DII49wHMyAUtqMt+55C81Skue6YkCDjB2vwa1Ozy9bYEMMpF3Zhh/858Pm7a3bEUjEgBDnD6zhRyWuLwaafPi68jwV1GozHycGHFCjEOKl3U4QiPvx0pUQTA8WYovTXCfXGHkVLgntaI29Bo+sfs5vIQZOv/8d/ORnvzBv73B009x1ahtiQN6Tj+f/5Ufwql06YmXEwINMdE6+a6d68Mf9Tpgm3xkx8IhPk1VeYXsyfvOLf5v73W9uRqdIxe7rhAFGqNyIGKjD2Y9O8t8tWEQMSIZSceaUv5VvVjONizv+HQ4XXscze8Ig01mMktjAlhhg2vNnP59rz0+T29n2VPZkscs//eHrCBkQ8+tcRwwkOeB0RIvNNAqFQrlT2NNugxiQI+3dp3E6c4SNvGyJAU2LK3YccoXWMqrXTcDpiQeQ3quGoiEU//6v65cQAzMYyTyNx9/x5qJWcz6Cpg77f/4GusVzQqE7NwCvuWda5yOC4sqnH6F1SoWB/EA8/r//7vbcM7CIGNBLBvHy27vRxIid2SFcfeVNFPZIMVQZjv0hFZiVj2Lfe8+ZxUCSy274lyxyN/0CMTCNQx+sRVAnN9Q+hwEN/k5Ys84ZAl4cWYqBsYoAbLkQyvptiQGdqB2vv30ErfOuj9eGXYBL/ii0gmZs+MN/XUcMqHF403oUz4++Z3RI3rUJh/I5UWFCKx3A+584Qmr2qVF2bCN+fCgQcrkILptfhlf+gNU689FWX8UfPgq1GjVi2jOsXm6VzxJxnR/uWR0BObtsQMW1TfhNIHcJZT75bk/Ct2bMZhqFQqHcKexptyAGNuP7fPR9IbXT7I8IvIxW8cIbvoq9juNXfJS2P5O/WWwiA2+S5See9IffmUi0Mr6xCnM0x7Lf3VxGVcBWzvfUS0hunYuIa6LPsP7fvfU+eqaYexe0KHV+21zGzqA6tvMaqYnA7x57BGs/PozUMy+iYoxb/5bQynDyYz+0qqaw0zEYIukodoamsmmyukBzHTyq+E5QO4Urb71EfG8itTwZ1/blsB31rGoE5/74O3P+yGamI5vC8Xe4ZY7d6FZwkfCc7xE8eZIvg+nUnA7jsSePY4QfpmfEwN/80w/wc5LvpbeumEXCQPY+vBNv43p8X5q53Dc374OIKYd02C///mk88vJmtJYHsqMWTHv6HF9tVY+kdk4EmqJvloMZfN0IFvv2XCF/2cWgQvC23fBokLCRu0rUic1vfoIufp2p3jy8edAdEn55Mdz3c+VuPhTJiQLSnseffMy8PVPdznzI1+uRrWiyLEPWjt18XstRII2kDPse+R26xBZ5KRQKxQ7Y027LZQLKysVyZMBW+kpAMZ6Ojb94BR0i7ibUFYNOgQs7j8Krd9p2OoVCodxB7GnLFgOlkaHI6lnkpjrKikHRloDVzqV2nYtgOcjH61FWOmwzjaE4YDeeffZZaw6E88P8dwbV9AByi+ttplEoFMqdxp62bDFAoVAoFArlzmFPo2KAQqFQKJQViD3tr0YMyOoCEFAns5l2NzNUkYfckRuYiZFCoVAof1XY0+wnBhQdWH/pW4juXfxxLxNGoxiDoht/aY2kqwRvvOyMARtptwPrZ9CNqAvaeoM35SkxWNtgNTvf9VEhaceDcKvknz6YasczD29D0bjsFubep1AoFMrdhj3NfmLAqMbgRBOmNdxUxEuhVufAIXXpl9NYEnzp98hon7SZdjuwFgMzUE4No3WYexRufl5rOuHw6LMYZOcauFHmiQGCciISpz48A8382RcpFAqF8leLPW3ZYiAx5xQ+TXXEK7Gv4XHnNUgXc89xuyRshU+aA16IfQkP+52DkH3evRtnSb5fO/0vi5EBOSLc78HxxCN4I/pVvB3lADEzaU6DE16LegI/cXsUq2JXYVVWOJ9/EWRl2PukIyZ1c77ORB8cOnUVx15ehZcf/yEcE0bZ5+ILrl7Cpz5nsfeFVfjdz9chb4L5XRok+x/EW2++gRfXvo+g6mFuch9xJ/Zt/wCrVq3CE//+r2Yx0BC2Cq/+7r+tRwa0YuRe+xiryfZWrdqE+MpRTPcXYNeq3+Mn9/8T/vAK8W/djxahEjrlJPwuvIJXSLkvP74bUSQvs73J1izsfvlPZP3X8Nsf/L2VGGD45OIOCFQr7NE7CoVCodwx7GnLFwOZJ3C2o410skZIGy5gbX4N2+G6hL+HKz2d0MwqEO71bYR2mWYjVCDW974FYsCjuQ8zBg3cYg8imZ+17mZGBiTF5/DYgUyoLXydiY7Yey4dcv0s9NJCnH7pKhQkqi64uh3br6azr6odjXsX28IaYRRm4OTuKGiNM9BNVuP5+z9Ap2IWTc4PwLtolC1v/lS1zP0JlmJgOO8Afno8HpoFlwMWjgyMlMfjYlQ921ZM3Y48t4kVTD6en6BuhGmbhSMDDM5HLqBQQu8doFAolG8K9rRbEAMOCBFwkw5pm6/i9fQsaMl3l9h9qJGZBIAltsUAu8zMW594GLECLu/NiAF5mSN+uyvN6vo9IwYcQhq4ZU0VTvzuA0i1jBg4D98KizchMrR44Cf//gTeIJE6MwqwatVFDCpJ3VaTurVwdV1aDBhRF7AOb0YNmdPnWCgGOpIv4anH/8BvaxV2HbuAaSJOTpx9BQPTzJsRFxEDxx1RKl3kzYkUCoVC+avDnnYbxIAUMWG/xMWGCe7dBLdBDGg1LXgl9Cyf7zqoa3DoV29hhETzJp+lGOiKfglvnMyAbmYRMaDrw4c7dkBqdS+DAT1ez+NkMjPNchPe+uf7lxwZ0LSG4v8+8jsMLLg3YBIn1/wK5cOm3zwLcVcuntrtBZlVvll4n/wEmcNSjNSE4dHv/c0CMXDo/AeYVNl4UROFQqFQ/iqxp92CGNiJp2LWYGPKRoR2zkXFOTUR6FfNi2CHM9l8ZiqY1+GqUZG3EVUTaszO6FFcF4MaCZ+fLOdWXeDyFsZbl2WDOJfXEV7KvwmQwIiB5556HRs3kvVDysz+9qxUFPVIzcsmxhuTsXUzycvkd6/gLzlI4HaM8+WnBSKzn/FNIp7JY8bN/ATDZF0U79uD9Lq5JyFGquOxi/EfPIUOEffOhuHCk+YyLrhUs7MDyoZKsWfHRhy44InmtP3I7Z17v8NkyzmcOO4DHb2BkEKhUL4x2NNuy2WCrxvFYBWe++0Z88ttrC4T3O0IG/Gf3zuEJjoqQKFQKN8o7GnLFgN1zSkoky6Msr8umDn4E9q4yxPjdelIKbN1Df/uY7yxAhUCeq8AhUKhfNOwpy1bDFAoFAqFQrlz2NOoGKBQKBQKZQViT6NigEKhUCiUFYg9jYoBCoVCoVBWIPY0KgYoFAqFQlmB2NOoGKBQKBQKZQViT6NigEKhUCiUFYg9jYoBCoVCoVBWIPY0KgYoFAqFQlmB2NOoGKBQKBQKZQViT6NigEKhUCiUFYg9jYoBCoVCoVBWIPY0KgYoFAqFQlmB2NOoGKBQKBQKZQViT7tFMWCETqfDzIwBWi3zaSvPHAatBnK1mkVvtJ3nrmVmBmqNFgZbaXcQo0HPt+eMzfSlmYGO7BOVTo8Zm+l3Dj3Zrs5gtJl2pzFo1dDekW3PQK/TQqW11Z5GcnyoodYvZz9RKJRvIva0WxMDinYEpZRCJauHX2oVtEt08CODzTgXEIqIqirEVeWhumfSZr67FaNahqMB0Ri2kXbnGEVwbAKCa2oxLNVxPskwfAoaoFyQ1xYqxId6YWdiNbQ20+8UaiQHOKN4SGYj7U6jQb6fA+I7xDbSbhUtShMDsDu2CCpLv06GzKI0XEzIQs2YxiI/hUKhLI49bdliQKtRoCM/DIezW9BOPr2qRqE2LhJtaQdxknSUCp1hQZpGrYBAIoFAKuejaj2kZFmh4PyTCrU5r16rxASTVyIlERazLRKNK+WQqLSYkjJlyOYiPp2KK5cwISNlk8hZQfIqZFJMyhXs55RSzY1mGHR8uQSF1rw9nWauDLF6Yd0tUUg7cS6heqFfzpdLkJGIkfUb1JjkfSK5CsZFR1S0kCvkmCL5psk+YD5lGq7TN+o0FuUyeY2kDhL01OXgtYgq1i+Uq2EkedUKKVRqJZdfquDaWafmlsn2529XrZLxZcugMbUnaXvOR8qVkTLYkQgjlDLOx6DULRVtz0BrqoOkE1dcQjGsJv4ZI/mN/PZkC+syH+a3MHkn2TqQdtDrrI4RGWkvrm7kGOXzMpj3tbQb2xw80aWYK3NmZgYyJb9to460s4wbubKsG0Gk4gUX8cvkJr8cOsZn0HD71NS+ZgyQMscmUwcFt68NOi2ECg3kcq5+ErXO7iMzFApl5WNPW7YYEAvbcM41AGG1Jdh9zRcRTW0Y1/Iny3kMZ3vhTG4DDJI2eKakwDElD2NMRyBphm9KFrKaGuGfEIPgdinJP4qr5y/gSGQ2MmqrsD80FVKmHFEPLpM8CbVNiC1LQnjlEMmrYyOxfeFpiKmsQUh6BJI7hdBJhfCPCYZnRRMpOxtHfaIg0RgRE+aKszGFOOfnCo/0QlxLyCfiYRYlecnwrq9HVnU+1rsEo1fC1TsiNYGsz5TRhNrxpTsq8XAOvIp7LHwG9DaV41xUEtLI+r6RPgjtGid+NSqzI+Cex5Vb1juyxIhKMy67+8CjMAWH3P0RWRgO37I2Ni0pLQHRTN2K07A9ohoy0hb97Q1wjfDG0TSu7MIeAfQkb1GYI46GJSCuqQaOwcEoHNeisbYaWTUV2OgTD4HFNuX9dbgYG4vEelJGSweEpKNi2tMzMhA+lUy5mfgkIJFtT9l4F/aHpJrbaFBie/8z6HR9uBqZyOZLzIrFav8cUudZSLqK4ZJVSPx1cAyPROW47fUZBG3luBSfhnRShn98JKqmiKgb78HGwEx+JEQGr9AITCr1EI114YR/BBKZuqX54VhGFfSkI1YP1OH5q0kQW5Sr1fTAPbGMW55oxDqnMEzomboV4XxiLqlbA3wi/XC8cJTNM9Gej/NJBfzv7ibHpx5d9eXIqivHAe8QtJuFhgqVRWnwyKxg8zqGhqNfSYRrXxP+5OYP14xcZJZE4lJGNVs3U30oFAqFwZ62PDHARN3DHfggqsD8KVZqFolu5Ej2voT4Dm5I2DjWhOfPR0JglCDS1QFRTWMkOppCWmYULpSLMDvdhu0Xr6JOoIZeJcWnYfEQzWiQlkQ6ozouwmqqjYNLQR+J0JSICfXEgbRGdpi7vzULsa0CdLWmw7N8gt2eYbwYp8OzoDIIcNEvFBOyAVzwJyd7WT0CkkqhHsrCpeQy6NgOWYEkdwdk9SnIdyHOhsSw25tWzY0WLMZQcQgiu7nOgsGonMJx/0gMsMsGZMf7o2hsmkTY0/AKdENEMxNFKpe+x2A0Byej8qAayMKp6HyoaqPgWdMLbXUwTudUsnXrbSrBe75pmCL5Z0hUG5UQh1arcsQIcnFEUMsg+a5GfnoUknu5NK10EruDUjHN551Ri3DZPxB1vBgywbSnV42E/W4YzYNDbAFpz1kMthfj7ZASth6KJa+FG9Ge4o7Q5mHyfQYD1ZnYnN6NWX0fLl52RekAaYspATwj/M11m49RJsBej2BUkm0x24uJDkDeJKmTdAQ73MIxSPIwdTsfX8TWLS05DLVqZr8ZMZTtjavl3ewoyXBjAV6N5QSVCWVfKlzzm8j3GUy1FeHNwGKojVMI9nJDzbiaHGfM8ReMOKZuum44uQViQDa3vokZUsd9RHgO8cvioVZsji43p2elhqNQosBAexHW+mZDzvjJPp47/igUCmUOe9ryxIBkBNF5KbiQVYbQ7CiczShD7bBwkY5NihiPSwho4jrnyfYyPB9YAZ28Bx87eHPRLaG4d4xNV/WW47WgUmiY77JheGfUkA5UAceIcBLZcnnz27u4oXH1NE76BKBaar3N7ORgFAmZzkuFwlhfHMvrhFFaBZc40ol1Z+DT9GqIGuKJYOjBeL4vLpV0sB3FLNnezktX0SzmypkUDLDbOx+ZdJ17AVRIDHBG7fhcO8lEvTgWU8ItC+pJJxGMQSl/qYG0X1ZTLa4FBSGqc/F7JyRlwbhC6tiZ4oKgxiFURF1D9oAKDREOcMolkT3bHh3mKNegU+NceJz19WplJ05e9UPHNH+JwoJpYSOuZHeZl5WTQ9gemsm2vWU+pj2riXBhxFJuuAfOl/Rw7UXERWdrC5LzM7AnusQq2rZmAn5XnVA1pseMQYvASF8kDRH/YAXe8IxBCr9f60aYkaH563LIJwbxSfjcKETVADfqMWuYgq9PKFqVTN0iUShkhBw3QsBetiD79KDzRdJu3KhFXk4Uwvusyx4t8OeEilGPuKQAOFWrMDteg02uMewIgUYxisPe4RgheRWt2dgYWgiFxfomJIJ2HE6oMi/3dmbBtUjAL8vgQ47hAbkGdZXJSBrgxDGzj12qBuhlAgqFsgB72rIvE9RVpaNpUobS3FjUiOQL0i2ZLI/EkfhcDIslKCtKxtFiIWYVAzh19SIyu7lIb5K9dm1EY3ECjhWK2PVEHcnwKu1gr1czw9SJ/VzeCamMjaS0UgE+juU7XAsq86IR3TOIuqYMbHS8AN+GaWgb43CuoB0jhUG4XDWEpkQ3JHaRenek4XBcDlu31KxwnGLqxlzn5SNQBqfoBEzO24Y1MsT7uaCwdwK9g62oGhyDWjKBA6TzEoz24miQGz70T8QkETBalZwvdwKJkf6IbFusAzSgJvIKkrsFSPa+jNKRCbhf9mGvdbcmucCluJEvR2a++Y8RAw6RcazfdB1d31eKNaGlUJvLnWNyogKBZZ3oGmhHzyRpI4kAn3h6IHOQ+93Tak5AMO2ZODyGippUvOd4HmEtjNDSsvcwMPn62qrwXmgBF+naRI40/ytIbBtHf2k4Xr/kgjwR8Y/WYaN7EOoEXDli0zV5GygmR7DPNxod/DanyO/jBMksurP8EZRbh/CGubYMig5G3+QUIhN98ZqDG5p5wZiTGYUQ5pgba8XxJG6EoDbmMoLq+tBfHIo3nFyQJiB5pUREuQaQug0jwNMZL/ulcWUPVWGjhy+qh5l6MPeuzN1LIhptgmt2G/q6e9A8TY7TwVqsD85l61sS74XzpI7MvoqMCUEre38EN2rGHod8GRQKhWLCnrZsMTA+PgKF1kA6lDGo2Jv5rNPnMzjUg9LOTkIfJCa/ZJj3daJ2iOmEZyASDqOfP3Grp4YxIGUivVn2urUpb1XfABQ65gY/GdrHuOFrS9QKMWq6SJkDoxCNDWBAooNsvI+94577VGNiqBciFZe/t58rt2GYqQPjU5OojvMx9Iqvf9e7dLyXzVvTPwK1gfiMOgwM9xFfD0aVUxggAkFDBIxEOGgut3SQEz220aK/px9SnYb7VCvR2j3Md+pqtPWY6tfH3VPBMGPEGPm9jL92mCtbKR5Hzbjt+jPtV0faqY6vG+OTk/Y31a9dxO13pj0rmXxD4xCPcu3ICKBmPh9Th6nrPKqnFw+xeSsGJjA0NsbeL8D4Te3G0DaxVKdoJPtyru2aR0XmkSjN1AhbN8uhdrFoGGUkX4dwgm9Hzi8TC7gyiFg0CSRz3XpGMCocg4C5n4X4J4e4bbVPKNAxxo1ssWWP8XXu6sGkxSUkvUaJBrJfmONOwxwDBg26+vnjvpfUj883MDzE3wDL7Ntu83FIoVAoltjTli0GKBQKhUKh3DnsaVQMUCgUCoWyArGnUTFAoVAoFMoKxJ5GxQCFQqFQKCsQe9otigEdJienoDcqMS4Uw3CdiVOYm9MaBwdZpOyseUuglqJpaARSjY2Z/4x6jAnGMc3fFHY95NJJTKgWPlr3dSJgbry0MSPjrTEDiXgCLUI5xCIB2ia5my9NqKbH2bZvGWFu+rRczxrJ1AREi0wgdavMGI0YGhti6zEoWVpk6uRTaBsVcDfj2Ui/GcaFAqgWmyGToFdKyPE2BrmM+2RvArWRj0KhUOyFPe3WxICkAT6pldBMV8M3sw66JcRAT3sJdnjHooIVA3kobJqboMcmgxV40ckFlaM2Zv5TT8MhIBRNNygGKnMjkUk6SFtpXw8S+AeHYEh6/cmMbgoiklJSAnC+QoLoWB9crbUQA4JWHA2OQH739cVAZlIwSoSLP/N/K4xWJMA5v+yGxIC4IR3veIViRG47/WZwjwjHlGk6aBuMN+ThVc80tNdxn1IqBigUyteMPW3ZYkAunUBJeiB2p1SiiHw6FXZi2uKZayu0YjiHhGNk/slYO4VxCddhaWRiEtFy36UCbvRg3GL+eAZTZFvb3oS9sYW8X4fRES5/4+AwhOysc8SvnOJ9g/CNjcAE+84BA8SCEd4/AsUSHSKLVmEuo3lMzD3KNmPE6ARfxhj/aKBegV7SwY4Jxlh/39TSndzsWDFOhGdBOm/7zLP0pu2J+cfbmPcY9A5xkTRTZ+VSnZRBh8TcXPSSz8isXH72QwYjOopJJ8zPImjC1J4MHWaxNAHvwHCMyeftK8WkOW+fSGp+xn9utOcG2lM/iUB3ZzQzcwzwPi05jsbk0xhiyxjmR3v0GGP36TAk8wTftJBro/YxIXSkLYxaFTrIfhCK+La3WbdGeCbk8Y/7qdDN+hhG+fY0oq+5FN71U/znnXiJEYVCodwc9rRbEAP9cPYIRWZ3Iw67BiKbdAaLiQFxZSgu5TcvuIwwVeYPz0pmBjwj2stSsCtrBLOTnQgrH0R2RiR2Zg+Y8zJz5psi26KGFDikthK/BsU58TiWXM6e3APDvZE1IoJ2egyOwf6IbGFO+KU44xMNiWYGg72lOJdQxeZNinCDf/2gueOwRWJyGNxJHia/SQwwka1rEdlefxecwgOROUDySpqx88IlfJpSjarWBuyLKbJZnglJTSwOpNRYvSlwYrAJ+yKz2W0VpvjiYn4ru72e1lw45fSw/uuKARsw7bYvNASbrjnhPZ9Q8j0UeUOzkHVXsu1Z1DOI3KpEnM/i36sgrcf54BRMW17GIWIuMCQQsW1cW5g63NGeOuyMyGV9BYnebHua15lHaw7ZdpAPXj9/CR8Fh+J4XBYmNLMQVIRil18g4hsHkZkShuOlQ6RutUhv7UNkdCACWubmSBipy8HphFzUku3FJEWgWCSDeqIPm1xccC4lBzWDxWSfZEJOBATTnjt9YlHOtFtBME5kcvP/t9dnwDGP+x1zYoBCoVBWHva05YkBJupuq8H60Azzp2VEZo0B1ZGX4VE3/7KAARXBDohoFZJoW4+MtHBEmuelN6IqOwZXaqe5ZaMaCQkhSGGmsCXLvaQzDa4bhEYyhr0hGfykOyqEh/iibVKF9sZU+NZwEwjphvJxKioXaoMC3mHhECr5a+GtSTib17DIFMokYu1JxLWceiuffrIZ26/yb9sj9a/Li8GFiml2lr83iCBihrMVUyP4JHYpMWBATaIPnKqYlxaZfDqERYehU86/fU9YBMfYAnYSnYaKRJzKJmJgaGzJa95LMaOR40JYjHnO/FnSFhGRAeb2bCmPIcKJq4+qJR37kyqtpySWC3HS15sTAwLT5QMtPEP8kN7Tx3asCeGeCGteXAwwiNuK8E5opdVsiHUJ13Amt539PtZUiMvsC6hImlGJ+OggIu64fAbJOHa7+yON7cQHERIdijKxDFNDrdjiHse9bEnbCBdeDCQnhqGJfcOjAT1pnnCt7GOPz8riWJxkxMDwuJ1f20yhUCg3hz1teWJALUVlXSH8KjtQWJUCz7IOjEkVi4gBI2qjbIkBIbwuuKBJbIBeO4ajXiHs3O9smkEL17AINPDDzgaVDJ+GRGOcTR/FNVd3FA1NQzRRhqvZfWweSWsmtvnFQUg66ozEIJSy17zlSA3zxPGCHszMtsGVRLzcjYtqVMR6wq1maNE54VuiLyCw0brO0o4SvOqbx81Lr1OyL9ZJGyMRa1UajuQOs79fNFGJsPJeq/Ws0Ilx1csHZZOWfhHpWGMwpeJGVnpz/XE2p5FrT70afRMTKCxJx4dpzGiI5Xo3hko2AAcLgaKXiXAkMJZvzyFccvNGrYCJwHWoTA6ER+3CmRH18in0CLpw1dMbaT3MJQUh/KKS0D4mIH7CpHRRYcVhQGV+NFzrLW9MlCPW1xklQwvv59DLRTgRFIcJfpl5N8Gp+CJuW4SRaTnbPv1dBQiu54VVZyrbbvpZMbxCo7h3E4h78cHlC8gf4ketdCp2/dz8ZGzK6DRvj0KhUFYa9rRlXyaoLEtBi0iOktxYNE5Z37W+gIEyHAmLQ2F7J4qrSpHGvChGNYxPHZ0R3dgI78AQrA1InstPxIBLTDTSO1qRXt/NnsADoyMQ3dmGxIw0bHd3R+WoDEpyov8kKhuF9dVwiPDCntBcdn78htJEeFXXIaeqAEfdnHC+fISUK4VfZAjSm1qRWVqA49G5EJm2ZwPm5rWTsWncVLL93EuUmNco73V1Q1xTJ3KKo3Alt419o11qYjCierj12vJCEGXx9sIF6KTw8fdBYB0ptyEfaa3cNLfxCaSMhmbkVxThcEwKepn7JaSj3PYJcXnp8Kk1TZd8c0gmiuCW2TLn08jgHhZG2rMZgbEJ2O0TgG4xc0+FHo2ZoTiVWUe22UDq0sqOEIyPmKYMrsXVgAg0CplypPCOiUJ+WzuX1icwT7drE6MO4XFhyJ+28Cm7cMYlAqMaCx8PIwaORiagtKUBWe0iqCQCnA2KRCbfHqbpiAvSQpEzwYwgGVAb5wqXGm5fRSWEII/ULTY3ChsuXEIF+76BufaMzk5h31kxf7sUCoWyUrCnLVsMSKViaPRG9lEsnWGp19dyTImFbEQ2MGUaZjZAMslFeaMyLSYkFnevz8xAPC1CD4mIp9VMJDkDpWyazTsm1UBG0tj3IRj1GBWRcicmIVfJIBDL2A5Cp1FiYEKAQdE0FBIRRHzErZSL0UvK6Jkg619nLn2GCb5+PaK5G+8UYs7XJ5yEmhm5mDGSuk5Bxo9iMNuTssPTc+VYQ9qM+W1MuUIJ9+Y9glolRR/jEwghN/BRrIr7zSyTYhiM129nW0zURCOihR9+ZyHtSfYfU+44aXspqT+zL5k05hE7bptCKPnfJJ3m9h3DMGl/UzkqkpdtT4brjAwYdRpcjkuxfqOiVoH+ybk2sILs23Fm3wrJvmIfwTSStmVGJ7jtmUYGpMSnYO9VMUI2JYRYbb2vx2VSTDJlMPcGWLUnFQIUCmVlY09bthigrHy08nFUdZbB0S8eXVO3+THGm6BvuA+FZVHwKeq2mU6hUCiUhdjTqBj4K0avkaCfiY7nPyZoZybFk+idEC45twGFQqFQrLGnUTFAoVAoFMoKxJ5GxQCFQqFQKCsQe9otigE1hgZHoDVK0N0/Br3RVh4O5tG0vOYOiKYmkdXUYTGznA797U2oGpy0yr9imTFicLALDeMK9PZ3okHAzw1wBxEPtKJDtHIFWXdvK1on+Zser4NspN32vjboUN/VhtL+ies8onhn0EomkNPShSkR98nMpqjXSVHZ0kSOV4ZWjJtmhbxNTE0OIqd9+IbmOzAYRChv7bG+AfMm0KnkZP1uTJHP4pZuyGzkua1oxahp67n+rJQrDOFgG+pGbn0qbuZG3LwOcm60kUah3Cj2tFsTA1PV8EyrgXaqEr7ZjewMbzbzESY7q/GKWxI6m0vwvGsqpk3CQdiO1SGJuBCdv2CdFYlBC68IX6T0S3E5xAcpozfWCS4fFbL8nRDTbj2V8EoiMOQKrlTfmCjqTXfDnoSqBf7yOHc4FbdgUqFedO6HO8lYfS5e9c5CRx33KSfHp0xShSsJlRBIiNitysBH4QW3tRNtqErEH93S+EmzlkajrsGHV0K4yZWWgWi0Ce8HZkFAPtcE5i/9GOjtYLgSa90SMLlEgPB10pEfjtQewQJ/ZaILjmZazz8x3ZSFk1mNN9Wxi/ub8UpY5SJzr1AoN4Y9bdliQCzsR2K8L7bF5CGOfJ5Kr8X4Em+6mxhqQ0SzCGN9TQhrmevYSooyUTapxtW4zLn8JPpmom4uIuvENO/XqqdRxkdqnHo3YmKwG4NSLn1qrA8DchX7yFp5ex/GpKPIJ3nLekf4UQs9Rnva+HKb0DAq4v+segx3tZj9kyrim+pDs4Cfo14pQm7rADtz3gyJYDPKqyDRqpBYVn3dE/n4ALe9ws5eKE2jIeoJlPDbYuqmXeqEKenFtkt+6GLqZOFXiQXm+jKRrOnRxoVoMdDVjtGRYTZvST8flcsEKO4aQE8v087N6LB4n0Jvl626qdHcyvlLe4bZ9wLIpsaQQ5arBydgtBSCKjGbj6OPbTejQYFqsu8W1JW0Z4tpn3Tx8zNoplDX2YOu3i7W3zB28y+ZmhQMkGOBF2qqMbTMr6MVM2T/1yGaCC7uk4sMJ5sT4MVOl83MSFmCtd7xEJJ9ONzXjgnBEFfntgHzbI1K+RgKGV9LB4TsI7Gcf2KE+x1ZLZ0Q6/TsPA9Frc3IIseozuoRVz2GOpg24xiRcWV0kO1lNbdgQGIpuIwQjfXzeVsxyo9aMHUbHu7j/G395rqJRW3IaRNxn53Xi3ynUcPXoWVCYhZnzAiVqW49YhsvEDMzg66SRGzP5CYEM2PUkX3aYS6jfGRpgSvj/79Me7Ltpleioa0FvdPckzEDgx2oGOHnOBEPmMst6mbmFeHLIf9jzt+M7ik5N8JCll19L8OzqIa0K2k7mYYdBWLOLYWd/RZTVMvRQPKGRHrhQFI5W071GDM5lxp9feR8wBzH/LmGmd+EWaerk6tDRFY8/Fru/Kgh5a8be9qyxYBBL0KwTwxaJcM45xGBDjX5Q83c7HPwEwhOLoJBp4FjWLR5tjlFXRSOpNRBrlYTNPyw8QguXfNEQZ+Q9bPPnutkcA/wRzE/m19BUgDyRqZIBzqMrQFecIhIx5hcjcDwAAgUWnS2ZuLtkBJ2/f78IDgWt7NioLkuFa+HVvDbU3PCYTQDVzOq2XLZqNGHm9Boru7XZ6AsCXsTyjFFyqzMDkPiEDNpkAJxwR5I7OS2pSQCamaJERXlYCNe80iDxMo/gdNewehl6jtYh1cuk7ZbtIxhOF90xb64YsinBTjuH4luxt9XhFdcPBBYMwDBcDe2RzEvftKiIjUUpws62bolxAejWsSc/KSI8HWDY2mPVZ0b6mowrRrGtfBksj/mOrWcrGhED3K/T67Wsm08WhiPNvEkwj2cUDQ0dzy1ZvjBu55sTzENj1BPxHUTv7geW8+fx/GMNrZu2yILzPlvlLbGVLjVcCfjiUJ/nMmuWXLkyhYtmX7I6BWxJ3znMDeEtJLfTfy5oRfxjmc8Bok4jQzxRjIzjba4Dif8wtEtUqO3swwn07kplkXV8dgRlgqhgmkLciyT/0hnfyMEUzJExIWjyvRiLcJkdy1eCqvh203Nz9/RjNrWUQjKQ+FWPRexyqTVOB1ZxObrKEnC+ogyVnSlBTngJZcoDMon4REShHLx3O+5IYhwuuDljIwepg7DcI1IYef0UA63YLVXKgR83bRLztNhQG5qMAJarPP0lYXhWEYrWV+OwpQQnC9b4tKgqAqnguIwOM2157GsXjZIGC4IglPlMGY70nAosRBSLVe3NZc9UCVk6laDq9HcbJvMezled/RA89RcnWdmyPlM2Iz914LQQcpm9gkjyAaLU9AvESDQ1xvNQtNcGkaopeO47OeH3DGuDPa8I6rEuVDynyTCUC3swwe+SSRgUSGfiIZPs+shIfmSk0JRqvr6Huel/HVgT1ueGBD3I64oG+/4xZg/S/vGbvJarxa96Z6IbScnBIMWHuHhaGL88i4cuOSDAaVlXgMa82PxaRk3W58Jo2IKe3yiMcwuTyM40B+dUxooxnvwvqs36vi349XUVUBGorHgyHD0yZk/uhr5YS5sJMhMBewSnsBNXWtRNjPtsVdcHvs9OimSnAws066PXjaJw56e8K6qQhzBMyoSNWLSsZLoJi81CJ9mEH9Dj9U8/bbob8rHjvR+K58wzxNuVdyLhcZbi/B+zBJDmBN1+MA5EJ0SEmWSiP0k6bA6iH+8Kglr/RIwpeHeGBld1wW5sBsfuvsjlK+zc3QC+kgnJuivxp7URabuVVbBPaHYanSjrDAJp3NJGY1cVG1G249zZN92868k1gxXYbtXIoTsFNEGVKWHwaNeAXVHLlu3CdUspsc7cTy51rqcG0DYW4NNiR3kNwtw0c0DZRM3G6VpkB7ohLMpOfDIyUP5qGmKZgHcr11D5gCzrENTTRmaBArEk45gT1wh226BOYkIrx2DXjqCI97h6LI6lucIjo2GwOJNnqLRRnxI2iOuqo6bgdIib0uiC+I7TMe/HDG+10hkzf8vByuw2ieTiFUBvNzcUc5ErxoJroZHom1eOdejvS4dm4LS2d8RR44R9/Q6VpTIJ3rxiVcIIoi/gZ2BcnFmyP+ZeWV0veWrpzUjcPEJRPc0OQ71MviFBSF3wiLdEr0UkcFuOJhQZG7PyEbT7JtyZCcEYmdEPsb40ZDC/BhE93EduKI5Ci4FTez3yMQIVPKjhpbIu0qxNqp64X9G3YFLnpEYtRiF04pHsSssk5uCnEfVmIh9iRXsqAvz3ziY3Az1WAfWeKdCzOZRsecay31LoSwHe9ryxIBBR9R6FaKbR9HSko2whlGimPU3d61X0IqXHBzwyqXLeP3yZbx4/ioyyMlB1lnKRuFKy7wGFcJjQpA37yTEDJWfS6ljI09xfTI2+SdgknRu431VOJLUPO96XQf3bgLNDFSkg3nPyQ1NEuKfyMcl0pkxLwWyLJvBIzGFfDYjOKd+XlnXh6mbY1IpG00wsNG0KZ20n1wtQUakNxzKln65T2FeNGL652b9Y0YWkj0ckNbDROyzCIv1hGfj4lGapDUP7wQXsu2pmp7AnvAMItp0qM4Iw/nSCat9NjnaAI+8bnOdmSiISW+uikfEIkPLTNTtxI+wmHwzBj27fmFBDA7lzwk4GTkJv2ExwiJpIXULKeJuiiPR96cBPuw+7i+JNddtZLAYkXUWw743yIyoF697Z6GpOR/OFbKb3n+zklYcdQnG4PyOfLoBx9gOw2IUTDsFF/8oNPHtptBoYZyZgWSkC+vDixbZdifcIrKh0VuOphmhIesL2svx0qUYi/sDxuDhdBn1E6a8o3C96ob2KeY7EcoFsViX2IoZUrfTvqmYnpmFjhGjsXk3/bsri5OQMzFlPgbmZhedgU5DfIN1+KOjL7osO/p5GLRqHAlPtd72UAXe90tj6yYVtWOrexSElumWqCdw0TMCrfPak03rSMPemGi4B8/dvxEUHYZudtZPEbwuOiCoiXtXhWNEjI3fb0RLaRJOFFkHFgzTTZnYHFlqJdAZgXY8sc4qX2emP7zrptjjM538/3xbJjHUUYIDqbz47UjFFnKusd63FMrNY09b9mWCUnLSaGPeTZATh1bxwvTrkZMRizj+jXTMCa04JxzeTeS7ZBgX/Z3hUUgik+padE0x14v16KzLwIfBqWykkN7E3e2tEPfjUGgSoosL4RzvjwP8uwmaq1OQwAzvWmyPiSjCo0MQUlYJz9hgvHcplH8x0hhcw8MQWV5Jyq61ishiUiNxmkQ4zNsIrcu6PjqlBB4REQhhI6wq5LYPsZGIcKiVXY6rKsPFsBhUjCx17XUWtWXJOJNVjrjyYoTWclMKjxT74kxSHuISwrE/yB9pzLz789bjMKKzOAEfRuaz2/SNi0WlcJqPzCJQPS9qVEj6cSYkjq9fFUr6hezJVDRWh80+Jn8D++ph0zqy8hDsi89BXH4Weom4Ugw2mtf3SklEsXkfz0LdW4GXfJMQR/ZX1TjxiQdw2ssdfqVViMwKR0AlEUZGBaIjA5A8wK1TmRGM1CHTcPIUicqdED0wZS5zUbQCODj5wDm/HNobmC57PpruYjbann9PiITpMBLqrW/A0ytRnBWGU+nc705p7IBca4ROLoJHkBeuMscy8deMcwKOox8uwVGIqSpBbS8jfEQo5NstIj0Fp0s6zNf7mZdC+V91gXdpOVLLu8hxpEZJWgAuZxQiurQUVxKz2ZdOMaM9prqJhbVwTGmw2N6NMdiaj8PxJeZ92MO+s0KJyjpuOS43FfsTa5e8V4aZevpUaBibP7mgDJ3M/0c1BjdfbwSWFcElNBprQ3Jsrsuik82NnpEymPZU6xWoLs3A7oh8DJPIvS/LB27lfexr0YvzEuFcXo7g7FScdnNARi93j0lWehQ3QsXUo9t0PpjBWFOe+T/RxgoqDmVbDhHO5BxTlIc6ftRCMdmFo+HJbN6KIUYQ69GcHsiOWgQnxuKTkABkCsRQCrqwzZ/8R0oL4ZsTiWNhGeS4myubQlkO9rRli4FvAsEx4Wiw4b9rMKgQRgRQ9nWGde8m4oJdUDlp2akugmoUhy55otnGMDGFQqHcDdjTqBiwQXUDiTKIEEha6u2DdwFGtRwOkYmLD8feRUglfYhNjMCV4qa5pzJsoRIjrqIUPulJKBuh12wpFMrdiz2NigEKhUKhUFYg9jQqBigUCoVCWYHY06gYoFAoFAplBWJPo2KAQqFQKJQViD2NigEKhUKhUFYg9jQqBigUCoVCWYHY06gYoFAoFAplBWJPo2KAQqFQKJQViD2NigEKhUKhUFYg9jQqBigUCoVCWYHY06gYoFAoFAplBWJPo2KAQqFQKJQViD2NigEKhUKhUFYg9jQqBigUCoVCWYHY0+5CMaCGsFMEvc00CuWbxYxBjwmxxGYaxc6oJjEk0czzGzE9OAilwdJHodwY9jT7iQH1CJwT16B0XG07/YZQo+zCbhy/0gwtu2yAMOESehIaIGA/W2Aw5x1B97YTGBue5pfvTsSpfugsFJg/beWxD1J4XjqGbsmt7D/K7aY76TzOhFTYTPsmMl18EUFlg3O+zlic9U+xynM7qUyIRUE/f46RNODYhTOQqI0WefQYjT6B414NFucmCuXGsKfZTwyoBnA8+DFkDV+/LLU6Bw6pQQv8kv4yvHbB3cKnx/DV1WiMaOM/u81pupqrqHG8ioakRov8dx/jbvtRXyQ1f9rKs1xCzv4IhQM3WqYY5w5uRqtYZSON8nWgGU7Fm48ew4jKdvr1aYLDM6sgUNhKuzHkLdG4b2MsFDbSvg4EkW/hYEzznK/ZD7ucwq3y2MKgEOKl3U4Q2UhbikRHB4Q0zIn0Kv8j2BXUvKDjP3NwFaqEVEhTbg572rLFQGVTCpraE7EqdhXBB+O8P7U6AhPdSZy/sIHP342zbL5VFiMDahSnr0JGdRDrP1vJqHcDGhqc8FrUE/iJ26NcGVlzf+SKqMMIKx8yLzNohmsgGZabPzm/Ar1bP8JAWztq1nlCas6vxXjQUbRu28YimuT9091o372L87uWsqMOinI3jFRx25ouDkN3lYz9PpGwF4LyPDZve2g+Xy45CYVxZbadPAeFxcl11I/3n7oEpVQPRUEEBtsm+XQ5BkJdoVYYuOWBDLQ5+UKnmYssNIOdkIh05k+TfwHCBqy5nINPj6yCUwGJULauQnoflzZRSdp41Sps2rEPo3Iitqb7cWzXKjz64/+DJ//wCknbhowWIWZ1EkQcSUJ1ZTw2kfzHLpRBTdaXj1Zi03tkX2ydPzKgQZnLOrZshgYh5x8s47bHENtpymsbSWcqPmTyrtmA/G6R2T/REIcP2DL4uvH+DDeu3A8OfIoJuQGi7ny4ZjZx6eIqBFxKg9owi4H8HBQOCXBtL5PfAb38PhG1Rtms20SDv9nvXC7B7Hg1NmzxhEDDpBvRmeGEwDruGLCNHOHHufV3HbuAaXY9BhkCyD5h/PvPukChY3wSpG/dxG8vHBN8GTVRmeic7cRJ1h9r7ph68z24vHuvQcL7Zmd1KPzkIM7Vmka+jGhN/BT7sge4Zc00LhyLxZA5vzWj7D5+Dj/5vw/gpddI2fvOYkLBHV+9aVsX1G1WNQLndWt4P1c3Jgp/9blf4X89+Gu8Rvxr1jnftDCRN0XgSGIpjuzagFXv70LFEHfJYyB7H6KKG7D7w3fZfW2OtvvS+TrMHW+Wx+FLv3rALAZKAxxZ34KRAfJfMZWxxbsK011peOPVl/D//v1hvMz6D6Numss7VBaODcS3YdcRDEn05jLir3Dr//anf7ASA4apFqz6771oJf8zk4+hL+M8HnWvsfJRKNfDnrZsMZCYuRU/jgyEnHSwlWkvYkNpO2aI3yX8WTwc5IbR2Sm4Od+L1EHTH0iBWN/7EN1r6rDliHC/B+9l+MOoV+JA8F4Ua7mybY8MTMLlTz9D3Zh2nn8hBmETas/EQkW20bPpBfQ0ctGsOMMH1b7l8/Lr0P/pEfQPWav26bjN6EhqZb9PRHyC6mSuoxr49D9QsdkRCoMSvbsPo3uE5B+vwADf8QoDDqEtox2zRj3GfHahKcR6eFDVW4Qq1xzWp61wRN3RLOhM6X1JaDrtCq3VMOMNMpCDv/0/P0dKkgf+9w9+g7zIXXjItQ6qpgD85LmLGFPPYqTMG9suRpjXWTAyoJnAycd/gpc/PA4xyX/V4WXUjJn2F9m3F/ehRqgwL5eHncVv/KrMyya27H/PQoAthQLF8aXQkO+ykRysPezD+pU94Vj1/FoMyyzyGrUouPAy3vWts7pfZJiIyQ+88rjl8STsW+0GhX4WTUEn8K//+RtkdCkhTt2OD9wqYSR5mto44aDqTsU/3UP2O8mrne7BB7v3Q8yXyaFA5O6fIbVdAqNKhHfXnkWvVbo1rSHP4inHSut7WYi4ct/0HPYXWAvYMs9T+DicO7bERUeweUcUdDNESJ/egB88+iyaSCfX4PRPOJHbT/ZJB947fJ7NO15xAf/2ihemiNiZUYuxYbUDWi3KnR3OwNM/OwMBERzCthQccImZS7PJwpGBkdJAPHkoko30LetW5bwXW2OtfwfDrY4MTOWdxH2P/Qn1AgXGq8Ox+kwc62/yeQT/+Js1qB2XoS7YCR5F49COlOGRJw+ijTkupkqx44MdUOpm0BB1Eb/lj8MFIwOzFXDY62xeNmol2PfBbpROmdI5bI0M6IdS8c7rH7Ltw9btaAT5r+pRevppbAttYvf1/JGB2VkVknY8iJiOOeHAMl6F+1/0w7Slj0K5Dva0WxAD5E8g4P8EHX54PS2TjahdYsgfTcp0IAYIx0owrlxaDLDL5EQfkHgYsQKubNtioAcOP3oEnWJLn22kxcGoj+FO+tNp+9HoU812BAPOpzE2Mde5cXSgYd8Z8jtnrPyLioELD2OoYox8N0Ld28mPAgjQtW4dGgl1L7+Mxuh6EkkJ0bbuLMbZSHCOGa0IrX86DYGMESq7iIi4TcPuRAzce/9ldNUFsCdnQaUbEQM1qPVbh+8+/ASeffZZPP3Er3D/FkfzOrbFwBrkjnPL48PdRBTMjUbMFwPnT36CJvlCcVZChN2jZHvPbjyJqXlp8+mIP8TW7ZknH+PrpkeF68v4IGnUOq98GG/88gTqecFoYikxcDSVH1GQDaOtR8yK1aagS+z2nn3qV0QMvIVm6SwkxU44eLnUqlyG8fpgeBHxKBspxnmnhAXpligEDTix7sd4ipR9OJLrKLRjdfjZn1zmomsed4fDKB03HYeD+HTvdtKpGYkYOIKAXi6PdqIVvUxb11/Bf/zwUa7OT/4SD357PTpI1Ml0XmsOnIfQotzZWSUSzqxDdp8MZREHEFk1YpFmi4VioMT1IB55lDtenn32Uby2Zi/UpD2lw1XY+dPHWP/JvClz/tshBp44ncueO5jf/MR+TxJgcGLg9ZBm9n+rnBzC4KQag6Xu+K9HfsnX7Vl875U1mFbr4X3QEbnTnJi/nhjQSIpx5tBli3QOW2KgL3ED7v/xr9ltPfPEr3Hfy2cwpZ3EiYc3o1jE5VlMDLhVzrupkxED9zpg2NJHoVwHe9ptEAM6dOS+j63FTWy06xJLOgzZXIcxx42LAY26GAcSPPl8c+sH7XscBb1LDdVyjLltRt2f1rCdc+O61ajeegFaEkFMuF9EOz/0P4cEzScPQiazVvLy1J1oi+LuNxi6tmVODFz8GUZq5oat2RuEXHeiKpC5X0EPUeQZNDFiQC9D96796GmZZjuhufzkBJi8DS0eyagPnRdVK0Yhae2G0WAtTGzBnLwKCwshNF9isCUG6jCaexBvX66GysbdzFHnfom0jrkTOycGtplPdPOZLwYCjp7G1WbLE6E17UmHcc/ZuZvb1FM9KCougUjJ1VnfEYP/9+B+DKpnIRsowy+OckJlKH0bfnIimnSQFuVpp3Dllffg1yBmOwiTf6wuFG+5ppPvWoykO+FDCzHgkDP/5tFBrN26nf2uIO31NC8GlL0J2H8ogL8pdQ6tbBRnLzqiIPocErtu9EZUGY7sfAYNJNKdlfXhlf/6GBlC6/9P3Pmz8K4dZ7/Lhvxw4iNyfJL9k3r6DCKYkSaLvLPCDJy5kGrtY9DKcHDVYRTMG44eKYuFl384Lh67BKH5UsVidOD0i69gSMofQ4SOOD+cjmtZ/GkdRTvev+ceFPP1VHUk4tv8aIVlPr10BMVlFZhWzZVtC0sxIGxOwPMXuCCAEQOrojut8k63x2HV6QRI5wls5jiMH1LCoBQh4cTTS4oBnXIA+w8exuQ8UWlQTuLlzWfQb+GX13nixfOJrBgy5yXH4dmn/4TUIXK+UIzh3Lbd1mLAIEHgOz9D5qDFOgQNOd7u2xoNlYWPQrke9rRbu0wQQCKI0CdxJDMcIwquM7UpBnqjSb6n8dNL/xM/8X0Kz+YyEffiYsBokOJk5OtkHRIBpPiby2lPcsS1KNN9CIshR9u5LVDKTCchHXqv7MeUWAWdsBWNr5lEwjpMTnDrSArDUfnOu5zfsYDrFGRNqFtNonzia3FYSgwYoS4LQukfV5O876DB0xMtjBiYnYFmpA6NG19CAymj6cApKKZ5waEbRN07b2God+4aOUuzB0pWfwyNqYNfAoOwknRm9+CgO7Mt4ltEDMyqRIi/tA+/fZqLps5FzkXAQ1VheOFZJtpbi0TmhLaIGBgujcCrZN3/+MH38MsnnsaRi+VsG1lGiww17P6bwsmN3PJjqzYgwWLkYSBrL/7Xt+5Daid3fOilnTjw7H/gCZL3lQMu+MUZPy6vUoiQs+vxmyeZcvi6kXYWDxRh1xu/wDMk/9vbDmOcCDjdNOmcfsfkexMuAddwYkkxIMOxjW+wddt6aDu28GLAaFAg7soWth5MmkORmMs/o0O2wwb87KNASGyIqTl0qAvaya7LsPZiMCRaZh/qMFYTgbU/+Q3r//DoRchJZyMnwmfL48+zvkffP4qGcRkrGG2KASJy4ty2m8t+5UIhex8H0x5N/u/iqeAuq/wG6RDWvfgznCmdPwJmCx1Sr36IZ8k+ffbDIxiXa6GVjyP43FPsCAezvTNuNazILw86j9+zvsfw/okESExCQyPB1Y3fwW+eehYvvuKAIf6eAf1INh77m3/ClcS5m3ptwV4meIjbp39afQK1A9w+syUGZrVyVAQ74FH2uHgWOz91Y0WUtCkVP3vsOTz91mYkeGwxiwHPU++TfI/iB9/7IX5PRE/5kBozRgMa4pzw8ONcGauductUzGW9jKt/ws+fYPw7UMmMQOokyLj8MV4kv43JuzugmJRrxFStG1595Ek8+6sj+OTQKcRbiAHNSDkeed0JY/MES2PAEWyLX3iZhUJZCnva7blMYCfUU51Y9/6HqJta4ka6uwC9uBlNpz6BSn79Tn9RNOM48ew9OJO29MmWsnxmDGrEXt6Mi2U3OipgZ2RtOPjbnyO3Y67j1062Y/2bzkve32AXVIPY88J34F+x9KUKy5EBW+l3F1okXTyGhGZeTJqQDWPHyb2QsQLRwk+hXAd72l0lBhhVPt2fC6eXYm7wBrWVx4Djq6h+5jDGJhULLh/cOCIceO0/sCuk4brDsJTlMVx4Er/4+eM45FViHjJXiTqx+c1H8Mgj1mxJ7V2wvr2QD9XjQng6Zg0qBO5Yh8d+9xzymudGrsZqovHKvPoy5AwsLOt2oVMNYPPzP8Anca2QWzwZY4u/KjHQEYZtEeR4sbrMp0LOgS3I6OBGf6zyUyjXwZ62bDFAoVAoFArlzmFPo2KAQqFQKJQViD3tLhQDcvQWDPyVXGOkUOyJFsNt7dAabaVR7IpKhMROiyd5WGYwPdiHUbWlj/JNxp5mPzFwE9MRL44KOfvexdGAXv46rh7jgQfRFliBYfazhvXLK2JR/+qrqGW5Om8ymVvFiKlMNzQ5F89NFrQE8pIANAXNn+jo1uk6eJCd9ZH5FMxLsyutIXj/sBM0S95tv7Jg7lQ/41VnM20+zL0Dv3856jYfQ18HOlR6vYe3fUqhn7GV/s1D3hyJF8+bns6YZWc9fP2dhDt3PxL5r5iPO60QFzb8CFk9lufDGShbUvGTx0L+Co43yu3AnmY/MaAZh0/GVlRNXH9+7sXeTSBqz8Z7l4MtfAaMuL2Dxoh2/pO7s16S442GuDbue8lp1H7gCt1t66xmIK2MQ0904+LPYlugakpDT3qLzbRboeX4fnY2M+Zzbora24AwF7v+eBHiec9hL0p/Js55RtzG9r3z9CRvREDivMfWFmGi3g97DuRCZiPtbkLSlYd3Pgm5hXcIjOHy/fea5xdYDszETM+cnZv06utGUumGB3ckmZ/9H692wZGTRTfURkFXdiFvYN5TA9ej5jK2nGYeT+SXxRXY/fGpBXMPNEW/issRtz+AoNx92NOWLQayy/xRVuODh9weIpzEAO8PzL2K4UZfzp9YwudvxCY230NIHTTNQaBAUshDCMlxYP2bsgKIT4+Skl34vut38A+X/okrI2JutrCi0I8R2zhhXmZgJt/RKnTmT8ZnKQZmp/JRvWYbtBoiJqKjMTRei8ann0bl007mTlRSEoyq54jvnX1WUcFUjgfJx+R9Gh2tnG/YhVuuO59vdaliyInzV/3pfUwLmFn51Bg69jHrq/W2OAGQCG3Y+X2+3J0Yl3B+YWIwROU+nH93hMUJQo3+ky+x70ywnGxHJ5Gwy6ZPk98aDXIPXEVgEGnj148h3vNdPLTbi0+TwmM9ad+HHsJbztz7GLrSL+PRB7+Db//9P+BB4v/NaxsxLNFjujcbB+ObEHjsNTZ/cD038VPetX34D2b9XZ9ajwyMV7H5WEwnW4MGn+56i/O9vG+JmQn1qPLeCJ/cMrz224fw6AtvoUvEtKcMCWvOIKkyE0/+/CG89r4nJPyz3O0RL/PbczAfhwyN3j831yOmhXv8zuGj37PLh50tJnwy6hBzZCOfdxMaeX9T0Pus79dPkn1jyksoY9qR+H/25B+s6hadHoKniN+ybrZRI+fE4/z2HkKJuYNlZq/jfAxV/EyQJZ/u4n1zdRPVxyMyNhMOrH87Wnj/cLEHfkN8TN0ax+dep1safxXRdXOP+Y03xuLJS/Hm5dgrbsgcXuylVeT/+9D38A//43/gX77H1c25ipmFcxZjVc4L6sa0Z/DOd3g/V7eBnAP4/oPfxd/d/w+8fw/aTflvEPVQOR73KDIfh0djW9hjf6IhALsT++C6/0XWb5rHwvI49G0ylWNES+xR1vf9B/7RLAZM+/p3L0dZTRksG6nAK09xZay+kgmtqAt/ePJn+Kd//Da+870Hif838Cge5vILc/Aavz3Tf4TBfBw+8A/WYoAQcuA4Uvj5VUzoVRN469MzVj7KNxN72rLFQGLmTjyVHAsl6dyasldjfUkr+8d0Cf8DnosPxcSsGF4u9yJxwDQngO0ZCD/Ki8WMXoVjoftQwE9YYntkYALOr/0MDePXn2OAEQPVR10hiItD59W9GMztZusm9D+M8nU72RcUTYS8ja7UHsyo2tBw9BL0OiPU3WkoedkZMuZELipD3SnLNyTOoWqMRPmhNLMYUNYEoOx9f/YFOfPzKjuyUOOTZV6W18Sh2ruIWx7NRc1HZ6BSGSG4vAc1V7KhIe3S/f4T6C4xvcxIC0HoCQwmc+1rKufG0CBl4yt4+XIJrqx+E5sT6/HhcxfRZFQhbt9m7CrkTmJxl1Yh1PTaVxsjA1OdiXjg4d/gWl4vjJJcHH3zNNdGbHo1HPgpa7llFU59vBsV86aNVrQFkgjbclRnMXQovvQSnlh/GOOKWTTEX8bZ2FrilyL02Ufx5KaTmFQYEO50CCldItIZxeDt01HsCV1WfxWb1rqx747vyvTE7y/kLYi6WCodrE7K6ukcfPTBOes8JnpT8MBDbvy0v0b0xe/Fc5uz2ehxuicLbx4KJfuMq9uaA9zseF7H32LrZrM8grAxCA+s8Wan3bX05/mexSvJPVa+WWECdu7lJt5SDWTg8fs2oIf8T4QVLnj6F08id3AWI9mkoz1bAlVvHF55cxfbbkzd1u7z4ibUIceB29Ffo2LEYjIwxSDW/ngTKqTku6oDp7Z/jKkl34lha2RAiMO7D7AC2rJuTHtu3eVqkY/jVkcGVH0FePC/fwfPeiYgGMChrfsg0xhYQXLvj56Ab8kAibZTcGoX944Lh8P8cagcwLHH7kNqjxLqiTJ8eMyFTZ8/MsC87vhHj/jNCVWNAOc2voTSoYUiaf7IgF7UhFeJcG1gJzIbwMl3N0GoNqAn1QUvmI7D+SMDhOaYgzhWOG9Kcr0aG3e5WAlbyjcTe9otiAHrdxO8mprOnnhcYvaQEwzT4RuhkA1CTjpZbh37vZuAEQN1voVQj4xALZ6ru9D/MlpruE7WqBJDq9BiptkVJT//NReRP/U4iv59Mybls5AmbkN7nOW0pnPMFwNGjRwjVzeg4qmnUfdBtPkaJMN8MTAd5ojuFtP8DAa0n18LuVBFxMAF9I1w85mPej6NjjSLd7IvG04MuNUo4LZ6HzJGxLj4R2c0KSfwzrO/wXf5KOa7//xDnIrl3sOwqBg4GcOLEQ0kE5Mwmq87zxcDNTi77RT/fQ6jRgz3zavY7W36lBkFsk6fgxMD+zO5znSilXSGHknkO9fhBjZz8yooJRLItQbUBB7BD77zr1zk9dADeOqVjezseGGnHJAhWuSS1DwxMGOUI2YnF+2/uH9eJ2YlBpSIX/Ms6Yy4OswoxvHsY+fRwdcttI1bZ+F89dYYtHJkfvpTfI+p89Yosyg4d+YoRizyMQhj1+J0Uju/PA3/Vfcho1tFxIAPzl3OYf1GjRTDIiW6497B3/zf73Jt8eC/4u9/d4jv2KZw7aMn0Dph+R4JA4YiPsJ7ib0Q5x/DBxHNFvvUFjbEwHgMfvPtf+bb/nv4l3vvZ0czmPYM3fAm63/tWKA5/20RA+/7mkf0zjocRY9Sy4mBExlzx6eImSRKiHW/vY+v20P4znfuZUczJAUXcZAfFbquGOiJx2PPBEJio13mi4HJ5jBynHzHvL1//NkL6CLnl4xPzyK4jRdhi4iB9XHWo52sGHjFAXWWPso3EnvabRADGtRnrMbHZe3cyMBteTdBOXbEzo8sVAg78iyyu+a9AMQGVpcJLBD6O6Otfl7EJilH44kAGAzzoqL+YNQdi7T28cwXA5b0O72Bgfq5l+zMFwOy4jDUs9MVz0I3VoaG/SegUhqWEAN6SCuTMdU4dgOTlhgxWlWIsIhWXpAsIgb0cgRsOgj3LhvXPGVl2PPsXgiUc+3BioGzi72oZ74YkODo7m3os3j5jRUGDc689zGS+CFwZki5vTAD0bHtfBRrLQbqIs/AKXxuZMDU4ZoYLIjEPk/rSzYM1cGXsD28xfZNnvPEgBlSl6jtr+NyjYXPSgwY0By4Casd6tm6Srrz8SZ7Hf7mxMAcGmTsuQ97s7jXDocfP4ETjZZTXRN6A/DxiUT2u3w0HWsffhldEmZkwBfnrxZY5VU2B+B3u90htfFOgvBLbyKxxTTaxCNtwoUNe7Hv8AXzK54XRwSvn9+L6HbL/3YPzu65aHv0hcGgROC65+FWzy2rhG147sMzC26OY6ZATokLQi//2uDFsBIDqiF8vH8TO6sfKwbOcsLIkouf7l1wHMrqvXHkXCqMOjUy3LctLQbkzdjz+w1onlz4MrFwpz2Iaprbx9rxajz+/jHrN20Sitw+hUMx2aeqSUSce3fBcVficRhe/CVIE0adAmvOXL3r71Oh3Dr2tFsQAxvwv53uw/2X78PugjJo+Fm3bIqBVjc237fO34NvXSLrxFYT/+JiYMaoxpXo58g69+P+oLnh294MV1wOuv47wW9KDJAOdDL9Gsp++QhKHyHsTOQ7UgNGrxzlfITWZsY3iiZm+Wc/RdF//ZT4d7J39IuzT5rzVb7pCwUjLFRCtH/wGsn7MIp+8jBKX1wLybAcM4ZptL/xEpf/4YOYIJEN08kvLgZU6Nr5CzSczb2BywQz6E3bjb/51v9D0QBzAltEDJB8evUozrx8L+6/n7TxD3+DlA5TJ2RA3Ll1+PZ99+O/fvcnDE7rFhUDl7Y/Sda/F3//N3+L+0g5YY3cddLJmlB869ukXKbsjcylJLJPCs9xy4RVe65CZ3q8Tc/U7Rm2w+VOwpwY+Nv/Q44Tkve50xmQ6xlhYlsMGA06lHv+mt0+k3/1jky2ozboJQh+/ztmP1c3ITb8lizf+/f427/7P8S/nn0drrIjBP/N5/vN+6ehYYWNFF6rie/b38L/+B9/T8p5FjlCcmySqM1n6/9my/2PX/waXZPM+yZuTgwMlHjhh9/ltnfv264Q8qNnek0/Tvwdv08I5aNMfj18N7/KLn/7sffZSJg5XmyJAWZ+/fbEM/gR2XdM/heOh5vT+vPccd7q3hWOhItrsDXoRp6smIG2Nxg//z/fZsu+WMYJ3u7cE+Y2/tfvu7FPtjDt+TPe9+T2y+b7SWaMGmQ7vIJ72bQPza9fnpH045n/fgi/cyi0KbBNsGLggf/Lbe/br6N8TIUZErUvJgbUPXnm4/A7//p91JHzy4xOjn1rn8X9D/wAVzwv8WJgbl//f/8fs29fYPc185uH6iLw6A+4Y/ElhxRz2cKWOPz035m2+C9czSf/1RkDlN2ReJLf3s9e+QBKrRGG6Was/853SNnPI7HKB5fmiYEjJ45jdN6jnmpJPs6QAMXSR/lmYk+7PZcJ7IRWNoDd776HDLajs53nm80MJko98L+//Qf0zHub3d2D9cgA5fagl43gwBvr4dZu2a6T8P/oYyIcr/8m0DuJQTmCQ7/5D+zM4t7kuBjzLxPc3WjREb4Bzv7z3lwqHcTuVS+gcNQ0gkr5JmNPu6vEABudKOrh/FgwfQ7XBkz0fe9vNqBHolnGzYYrhb8eMXBtCxclWnFsLrq0LzPQqYcQeOwspnWzqA09hu/ffy8uZo9a3CvQiA3z60s4V3j9S3PLpwMf3/dvOBpayb6B0HYejr8qMTBahm+dziG/2fI9BkY0hnkguONu/v9Sbif2tGWLAQqFQqFQKHcOexoVAxQKhUKhrEDsaVQMUCgUCoWyArGnUTFAoVAoFMoKxJ5GxQCFQqFQKCsQexoVAxQKhUKhrEDsaVQMUCgUCoWyArGnUTFAoVAoFMoKxJ5GxQCFQqFQKCsQexoVAxQKhUKhrEDsaVQMUCgUCoWyArGnUTFAoVAoFMoKxJ5GxQCFQqFQKCsQexoVAxQKhUKhrEDsaVQMUCgUCoWyArGn3ZoYMIwjLiELUk07/GMLoFrifeRajRJFUS5Y6+aGdW4uqBrV2cx3tzKjkeOEXwS6baTdGYxQyiRQ6Yw20mwwWIGXr3qhaUJtO/0mKC+MQUyvzGbaHcdogKghGW+7MMeRG/KHbOS5LgJ8ctkdDfP8MzMatJZlYp2nDxoEt95OFAqFcivY025JDEibknEuvwsS8hlcO44ZG3k4JPCOiUJ+1xj07LIa01LFvDx3N2r5EE5GF0JjI+3OMAk/R2fUifQ20mygnEJFTz8Rbgbb6TdBQkoUumVfT2epEg3jSEwxxFrb6TeGGm09fZDM8xsM02joGYJ6np9CoVC+DuxpyxYDXc3peM/xMjb6eOGNi07Y6BeOaplqQT4GVXU4DqdWQKeVYUAgQI9gEmpmFEEnQ05+Arb6+WGDVxia5cxowShcLjrCKzoBH/p4Y0t4PicgtApUVcVjl48fPvD3Q063iOTVoTQxAOdSq3EqxB/ve/uhYkQCo16DoepEvEeWt/q54z3PcIhVBsTE+MM/wB87A0MRHhqI44lF0BpnMdVbiw8DSF4fD7wcVAyljqt3VUkqWzcG5+op8++xhURUArecLgvfDJRSMYKCXfAhWX+98xV4N41apFsTlxSByHBvbPYNR3JMIHaHJkOtn8H0eDOOefqTOvhgjeN5hLcKMduRji3uLnj+wlVsIWXvCAxBp5i082A6nFKzEBHoh81uznCtkcNI2i0z1g8bXa7At8miAx+p5X+bN952dIRz+eJ1Y9pzoCIG69n2dMMGn1i2PTUqGbJivNhyPnB2R9kSow4zM0ZMtBdjjRfXnodTa9lOVyUawuXoQGz19cHb/skQq0l+cT0OufnCPTISW7w88ElmF6mDDiOTEyhvSMHZ9DZyDAkgIMeLUTGOM14xGGG3o4dPeAgmFFoYdWpkRbpjM/sb/RDdPkHSdcjOicFWz6twK++cq5tRi/rSLDbfZvdruFQ2zR5zzWle8EiMwgY/X6y94oN6pm78OhQKhXKnsactf2SAnIQ/iSqAQjaKvRH5UM5PN6NBfpATQpomMKMWoqYyG887BGFIr0ZVgjvCa0dIHgMq8qJxKJ+csJU9OHzBEZFNYzCQzuZ0SAyE5CTfWBSHK6UjrIgY607DpUzmZK5GWqQPtkflQ6TRo7s+EYH1oxjtK8XZ5HouepTW4EJwChR6KVxIh1o0MIQrRMBUj7UgKLEQ2qkmXIvNgFBvxKxeDF9nB+QOMJ3aNE4GxfC/4fpM1EYjuGVwzqeRwT0sDFljYhjJcklqEDKHGQFjvZ6JsFBPRHYJEBjsjqS+AUTEJhIxMA3fyCi0TTLRvxgh1y6hZIQbCZhsK8XG+E5+pIVD0RRFRFk8+qVEnLTk4Z2QIqiUUxiSGdFSGIeTRWPmvBwGtFdmwCOvFXLt4pcbmPY8ndqCaUYkSSpwKSKbtOcsUtJjkdDP/abOZNKJlnQsWNeEZqIG15LzIbDsUBWDcPULQI1QgdkZHXISA+FSK8PscBnWXHVHfr8c8olBbI3II6JGhabeLoTF+uJaVR1KOzvRKdJANtqNDSF50LFl9sItOBESzQwkAy14xSMdUtO2WDTciFR7DC7lN5j9YzXxuFbUyH7XTTThQ6cgjGpmURrphFPZlZDNapGTEoyIDsuyKBQK5c5iT1ueGOgvwSYPV7zj7oWN7s5Y7eZFTqZN/Al5PiIEODsiqm2aXZZ0V+J5rzwo5T342OESNvGR2yepVWy6Yagar7oms0O4GrkIbqll7KiAY4gnPuDz7o9MwIiclK2VwolE/unzrhsXpZNOeILZngH9+WE4ktkEg74JLmEZkA/mwyG+CLKBHHjlN2Is35ftxJgOe5Z0vn4uF1AzwZXTXJfNbu/T9AqoLMpfiAHZoVdRMSI1+5TiUVLPXG5ZM0KESCB6xYvdJyGAV2g8xPIGro6yeniROuqGs3AxuQw6I2mL0Wa85hSJCX6dssJoeLVYl9OZ4grP2m4rH4tRg+TEaJROW/uFg51wy2+z8tmCac8iCXNZR4+e7AB8StYxzApx3u0qPvTl9snWyBIobKxrojPVDcFNQ1Y+s2Bhlo1EDCSFILaHCJ3aVGyPr2UvuQhHauFXYhJZemSSPH3TcyMQo73lOJvFjMgYIauJwdG0KmjZNDVK4oOx1csdZ/JHLe5nMaA3xYUbYWGX5Yj1dELBIHfZSidswi5nsi9mpxBG1q1j7h3QKxEYHY8eNj+FQqHYB3vaskcGOpoLUD4qQW1ZEgpGJAvS59CjI8UDJ7LqoCedWm9tNjamDmCWFQNX0Sy2zDuD3qp0fJTJdRrTQ4XwLiCdFSMGQoNRSyLeubyz0BOx8HFYJuQWPoaCtFDkEDEgGK3GLidHuNSQE39POhyyGyCqjMD50l50Z3iRDkEMdU04PkmvYuvWUp2CjdF1kJGo17K8SyHhGLRYXogEkd4u7M15SukYOgQiKKaGcDAqH7OqaQTE+eI931hMLDbMLK2BR2IJ1N3WdZwZzMCFlHIiBiTwD/HAC4Gl5pGAjPQIJI1blqNCup8TykY0Fj4epv0i4zGqV6Gmk7scIGgtw6nkEhJFX/+eA6Y9S4kYmBxpxEeXLsCxgtk/QjgFx0F5gzcwtiVdw9WyuaF5Bl1vCd7yiIWAROGykXLsD8/GpEaLIhKF+zdr2TztlfGI6R7n1xmEh3cwJhRz22yrSyH7cZLUrRn7nC9y7cansQg78LpjEPr5Sz9M55/k7sCOsPQVF5FOX4/8IEdEt43DaNAhIjYI7o1CGIQN2O5K9hkRETqlFCciU+x4PwiFQqHcJWKgvDwPozINGmuKMam8foeSkR2DfaGhhMS5O+67c3lfKM5l1xGfAU01uUjp5dKnWnOR2ssNbcv768x5T8SnYUw+C4VkAAGlCyNh0Vg7zoSTMtMK0VychtRuOQZKE5DTr+A/p1CTFYemSS5/fDJX7uXcGr6MKcTz22KIb7eOaG3RVx7P5j2TnA8Rc3mCRJOpOYnEF40iQQtS0knHa+6QrJG05iOybQLTTVnsp6muTJqpbtk1zfgkb64znepr4uuXiF7GpxiEe1QqRm0JDoMGOQXJ2Bceg/IxMfRKCbwTI/n1mTrnYFJlYz0epj2Pk/a8mFWOtsK5uvW0l+AQX8a+hIolRwYMOi2CEvi8RISY/PVZnO9oTAK7T7l2y0SDhE8vTUf9JP/kgqAcR0PSIbcQa6Z9fTKlAIM1GWz7MZd4wmP4bYVGoUBgPSLTnculxXdzyzptJy6zecPN+5o53s5kNbICQK0cQVhhk1UZFAqFcqexpy3/ngEKxa6oUJwchIulo9wlHQqFQvkrx55GxQBl5SPtgCOJ3B2LbNwPQaFQKH+l2NOoGKBQKBQKZQViT6NigEKhUCiUFYg9jYoBCoVCoVBWIPY0KgYoFAqFQlmB2NOoGKBQKBQKZQViT6NigEKhUCiUFYg9jYoBCoVCoVBWIPY0KgYoFAqFQlmB2NOoGKBQKBQKZQViT6NigEKhUCiUFYg9jYoBCoVCoVBWIPY0KgYoFAqFQlmB2NOoGKBQKBQbvPvuuzb9FIq9sKdRMUChUCg2WLVqlU0/hWIv7GlUDFAoXxsCuH11DYM20yj2xDA7iYtf5ln5qBigfN3Y0+wnBhQCXNq6Dut37MXevQEYU9vIsxxUQ8iLLofSYCPNFvVuePSVjZBobKR9rSjRGOCLPomtNBtIm/HWPfcgukVuO/1rRYaq0xuwaf1Osq/3onVCayPP0igEDXjmx++h1UaavTDqlEgvrobKRpotJloT8JPVJzBtI80WIV9+CO8vBDbTrotRh8b0IvQqbKTdMJOoik2BUmcrzf4MFnrAwaPQvDxcHYSHVl+4ofYU1HqiaFBqM20xJJVueHBHEr9/9Wj48258+GUx5Hw6FQOUrxt7mt3EgLIrDfet9oN0xnb6shHmYtvjJzFxo527QQOZQomZ212PW0YIt4ceQEqvrTQbzBigmJ6G1jBjO/3rRNaC1fe8hobp5ddtxmiAXKYkEZvtdHtgUAix5sB5CG2k2cJo0JFjS40ZG2kL+CIdh//iA83sMttIr4Db6n1IGreRdsM0weGZVRDckqC4fcwXA0a9FtIbbM/qS/djb9aAzbTFsBYDDFr4fPUTpHwuZpepGKB83djTli0GVKIOHD/+Ho6cPo3ThKoRNfELcebdh+HkeArH92zEHzZnEVWvRVviBRzbtQ5/97NV+ITJXzS8oDwOI+qCtuKP77hiwyNvYKvTFbzwwi7UyWehHmlCoCe3rU1vvcRGAdM9Jbh0aAN++b1ncPDEaVxy94dQYcBUZyL+uP59HDx1AicPvodPHHKhNc6ivyIVDqe34T3LkYHRcqxbvwOV41p0pbrh+S2nMSi1rJMF6jFE8L+XwwcdpG628ooH8vDB29vwycb38N7OM9i0cT0CC/uhmR4wt9vh9/bAKaoN2lkBok8fwsv334t1u7myEzun2HLOHluHIx+cxd7TB/CHF7bwdRtG8OlP8PZPrUcGtBPVOL9jF1+3aIyx/ilk7l2Lo4cY32WUdojM+RdiQF+hGzbt58pwD4yCXDsLUUcODq/dz/oOrd0Nt8RO6El+pm4fO1/C6U924ee/34ze6VnIW6Jx+uhH+PE9P8ZHR5ltFkNG8naFrMHZtA6yDW4fb08WsttsytiPPUcPsWXHlzLpZF8PluL0sYP4r4f2zo0MaCQIOncGG9jfcRibzjthXK5lo8fVm97HFUembr/CqQCubnO/yYKay3h64xYcfPvHeH/fPmx57h4EN0th0ImR5nmNlHsSG1a9i9A2BTneqnDq2CE8/PjzOMS2pw+6mU5TVIzV//ISOZ4P49jBg9gSnMOWLWwMwomDO/Dgn86bI1npaA12Pv8q3FtFGKtywMaDZzGiYEZJdKj78nlc+GJirm6zozi6dTcflUqRQeroW2GZbgE5DsNOHsPLP30Maw8wdTuN1E4FZpWD8N9Djvcjp3H8yDZ4xNaw+VV9Bdi+dwNOkHzMf2RaZSD7tBSXT3+E5x/6Lxw8RsrwDse0Wr9wW0siwMH1T8DtClmflP/LDaGYJMeLejoPW/+4BidOHsLRLZuxLboDulk1cgL3Yd8npN2OH8EezxgomTKETTi4bS/7/9278RUc5MWAoNYLx/d/iP/3p6sWIwM6dKSdw5YDu9nf7B+bCT35X2eGncaHL/wdHlu/l/UnFw6y+QvDPPH2flI30hZ7d13ECPmvGrSTcLqwk813dMvL88TALHq+8IXrF03sdyoGKF839rRli4Eqfyd4ZPXP8wtx/sAatkOeVfRh/bfXoI50EEyaojMV960LMg/B2YbrKNbHjSGFnBjc6jXk8+SC6KchxAGOpENil22MDDBi4EcbTMOLXPQzd1mgDg7zLhNwdTuD3Ue3mn23CiMGdl0JMkc7g4XRCIhtZT+DzO1mGZnZHhk4u2E7cqYZoaVA7Mb7LDp/OSJWW4uBnLP3wrlqzLzM0YOD9z+AoEau810S6SCefdQBnfP8iY4OSBiQ8Mtz7Xf27GF0sZ0bV7eAOhmXh72E8RaaLUTVYmIgYf8/4EQQd/K1QiHAqmcczGJAOlCIR896mNOZOoU0CFgx8IEXf613PAn7VrtBoefLmA8RA1uIOBFEvoWDMc3s53xhOpC1F/dfqma/2xwZIGLgvR89gk7xLHTifjzx0TVM8WnaiVZ22XpYm+zjH/8E/3C/A3rMPrKvv3oAOZ9b5ptF6ukziBgh30eKcc89Dhi2SFuAjZGB6eKLeMSHa0umbi/tdmLrNpV3Ej+xOXp2qyMDAhw/eZD/LkPYe/ejitRHPZ2DD7e7cP7eFDzwkBuE4gpsf8SPayutGBf/uAsZE7NoDXkWJ/M44Tt/ZIARZA9v8ZhrTyIcHnrAsh3nsDUycNndVLe5/4aiLQxuzlWsb+HIABEhn4XA4ctE9jsVA5SvG3vassVAnutF+JWOzPPfKTGgR2ekI9597zCr6Le/+cb1xcDZEPOyNQvFgIycfN/b9yF2urha5LPBTY4M2BID3emuWLN+j7kMU/S9qBgwd7jW/oViQIP43d9GSCN3YrVEPd0Ob7KtI7vWITCjZUG6CcNUN556/RJG5vkjnY4ib5Tv6Im4cNj4HqZUxtsiBvTqaYR7n8axY3uxIzDdnH++GJjqzsCrl+b2qen4ux1iQNWdgw8+5EZD9q5/7Lpi4IOf7sewysLHY1MMKLpxdcsWbN8SYLGOBCF/+VfEfaGZy0eQdcThxycrUBvsisvXuxfEhhgYSd+Ff3ntI/Oxddo/y9zRtecHsr4t721F57SKX+d2ioEJuP7yPhQMaFkx4HAiyCIfYTQPv/qX13HYVLfTfuhW6JB7+okbFgO6kUp8/ylnfsTLmoViQI49G5+Ya4tz51ExIsN0jgP2LikGonGNv5GQigHK1409bdliwPbNPXdIDIwwJ75n4NfM5OnErnsemBMDs6048pMnrG5Su1kxYIq+q5z34q3IZd7QNY/FxAAT4c6NWliiQtKOB7ExucfKf+NigESGOSfwyl5nizzWCBpI1OPIRT0M/VkX8E/3bLG4SU+K0GcfxapoU9tydCY6Yq0LN+Rc5/oQ1rhXsNfyb0YMmE7CTOe/5vF7zGLABHP55JmzjnO+eWKAG7V4H7lCZrkJB3/1EvrFutsiBrr8VnMdhF6NvWueMIsB5tLExlc+tB6ZuikxMAW/R36Ei8XTECZvxysbU6Dh04RfbsfWL+pgNOdlULD79K2T/ha+xWD+G69Yt6PFqIV13jkSXLchb4C7Jj47K8L+zc+gQaCwysP8R96+51F+RMrSP585MSCrC8C9919mO2qbYoAIoAsbfmS+/GWCGbV44nQutOR/vOWee7BlqZEBXjDP/48wTMStx5q93CUbE6e37ORGWix8bN3If4QVes98f4EYaPjSAY6fc8c/FQOUrxt72i3cQKjHQEkonJ2dWRrHmShHheridCh1RszqJMjySDdH7DpxHzwzmOvj88uxZAYTbbnI6lagLzsJjUI9+axg75jWjDfy24pCU3sb2ntNJzQiTJpy2DTvkGiIlAaoxb0Iqmq3KJejIS/CXF8GRkAou7MQnV7EXntkOiDG3yWy1fneHGrpEArq2iAdbkRV0zD57EJrN3e9frI53FyH2JRu6EzrKXoRwfuze6dZX1VVKcQ6Iq5MeRjGq8zrM3jW8gLGqEdRejTvT8UE41OPI9GULyAUAvncdWHpYDW8nXMg4pc5RMjk84eY7jTXy5Hn582Vm9Rg7tDm6qZDd7bnnCDTTiKVbJ+5fmwql7kunxjkDFd3TzQ25CKvj4lONWhI4rbl7O6NNgEjbIwYqU3kfCzeKOfbTT1UbvbXjHJRtVzQhpymIfY7035F6Y3QMfuS364VgjrkVIywwrS4a5L9ZKJFU92cXd1RRH6TuT0J073Z/DYjMKAkPtUIckKKIbcSHBq0x87tU2fnELQLlRD31sA3oZpvLxXyIsPRI+VHAz7rxf6/7MY4+R/NlUMEGxEoW13mOsQlkfSZt8m1J7dPfXlfVHEb6xO1x5rzhce2zx1vBEFrMTyZtPAkSDVzdbm24xfYFj//ktN8BNix7jmu7PAs7h4Agl4ziKpybtuWMP+JCD+uHs7RxXwnrEZ5LOer6+4hMJdt1GgJDzLXmWlPc7vNTpBji/Ob/7esX4mscM7P7GPWJx8xl+Hm4cmNgJj+I+R4a2htgH9+79w9Jp814L2/bEcz2T6zTMUA5evGnnYLYuDW0KuVmJ6etkIikVj8uSmU5cE8Ejj/2JqWymGYWVlPXtR9cQRr/9LKjQ7oNZgeqcbqe9ejTcbn4Z8Ymf9blGrdgrJuG0YDpNJebHvySRRIrC9jLMTyMsHdzQwRAFFf/gEhX8z5qBigfN3Y0742MTBSwUXzlpjVu438FMqNourLW3BsOQclLhxh+dpREEFQAynzXVDH1pO5Ac+czo6wzPsdzq7IquyzKOM2o5pEgK8n0hvHb+CRPgXKK4pt+O8+jLNKVH7OPYVggooByteNPe1rEwMUCoVCoVAWx55GxQCFQqFQKCsQe5pdxYBBMYmBgQGCkJ0EyFaeO45WirGJSRhX3AyEFAqFQqHMYU+znxiQ9OGDF9fgnGcQgoIKILa40/yWkLUh6FwCpDc6v/qKfTcBhUKhUChz2NNuSQxoZaN8pD8AqcZIfAbIpoWQi4ZZ37SK8XF5b2yegRlo5CJMy2QYHhCS7YoxMCbi56c3QiLgtjU8OsU+daBXSTBUF451j36M2q4BDI2Os3P1G3RKiOQqyKfG2PwSNVcPtVSEQbJsNTKgkWJEICLLM+x7C5j86sWeU6dQKBQKxU7Y05YtBhTjddh6cCs8gphIPwjtQuYZcyGOvflvcHD1hI/TEfz2tRhMzmpQ4/cR3nvz9/ibHzyF9zZutDlpCAc36dBjLzhj95Ov4+1P3fDOSx+jXDILVW81wmK5be1d/wyyusWQjzYj0vUQfvfD1+HiF4TIxHR23nVm0qFnXvkjPjpzFf4u+3H4UAI0hlmMt5YjLOgMtlqODIhase2DncgbVqMx8jzePhFEn2igUCgUyteOPW3ZYqDc5xK8cue/JewOvpuARO0CErUzkXv61SPXn474g0vcI1uz7XB7Zyuk5ssSC2cgVPXl4gfvHsDHJ/ebfRQKhUKhfJ3Y05YtBoo8HeFTyM/8ZuZOiQEdqi/vw5aTIUhMTMTVPZtv67sJxF2JePqIA3Y5HbfIR6FQKBTK14c9bdliQNCahCffPYTihgY0ECYZAXDH3k2gQtjO13EqltlWDg58/1FcMb+boBcOTz+HuPwatHR0Q60zLioGhMOdZP1I7HrqdZRUN2BKaYBuehAH13+EcqkGLUFn8PyFPPZSw/x1KRQKhUKxJ/a0W7iB0EAEQR4bqTP0iZkpUjXoaqmBRj/DvlWtNq0G0/xd/nq5AGk1Q4u/a55lBtODDagdVWO8rgJ9EgP5bMe4mnu3AbetIvQPDWJobO4FPZP99Wxael4xeyOjVj6G3M75oxaz6G0sNNeXYXBaB81oLYprmmFgHnVUi1n/iPRm3+tOoVAoFMrtxZ52C2Lg1pCPD7EjCpY0NTVzL8axkZ9CoVAolG8S9rSvTQyIOrho3pKU1DSI1bbzUygUCoXyTcKe9rWJAQqFQqFQKItjT6NigEKhUCiUFYg9jYoBCoVCoVBWIPY0KgYoFAqFQlmB2NOuKwZmZmYwOTnJCgIKhUKhUCj2wZ52XTHw1Vdf4bPPPmNFAYVCoVAoFPtgT7uuGKBGjRo1atSo/XUbFQPUqFGjRo3aN9yoGKBGjRo1atS+4UbFADVq1KhRo/YNNyoGqFGjRo0atW+4LVsMjBb64bf/9m/4tz+sQ6/MyHupUbOviTuS8NQvyHH49Dp0KOhxSI0aNWrLsWWLgYH0K3CMbOeXlrI/Y7w6Bic2PYe3ggd43+0x3WgjNn2wHZs3rMHaA0GYuk1zNHyhGsPpQ8/i/c2b8dqjq1ExqeFT7jL7yxfoSwzEC+s2Y/PqF7DXqwmGP/Npt2yzaMy5hie/9XcIbdHyvttgf/kMXYWlcNr0OA6FNPDO65vH5UNokur5JWrUqFGjdjN2x8WAcaQYbgX9KL26D2tvsxhIuPJrFA4qSQdiRMonv8NbSYN8yq1Z/dU9OFKgx1/I99k+Dxw8EcAl3GX2mWYC75w5BSMjAL6Q4OS7jyB3WM0l3qIpio4jq6sLzvffe1vFgEbYj9zCJtSFnaJigBo1atTsZHYYGeCs0f3AbRYD/XD68SuYJOf//upg7Nr8Kh7bmYXbMVB87ogzusjndHsNgtzX4dk9p7iEu8zU45m4diEJX36uR3G6H1566Y/wKx/nU2+HiXHtNosBk7VHUjFAjRo1avayu1oMOD+8C15//B3O5gvweVcknjxdiM/41Fuxc24+mG66hvWHY2D4/C847+PAp9xdph7PR4BrCC798KfI61OiNeMqQhuEfOrtMCoGqFGjRu2vwe5iMSDBhSceQGClgF0SZmzFu0GduB2XxEMOvI0nnVp4YTEAx/P+7Le7zfTiajzzxGp08X11nseryOyRcwu3xagYoEaNGrW/Bvt6xYAoCY/dvwot/OLNWkv4DuwKrAK0Qrz6xEbkTzNX+YnNiHD68Z/j1Q3pMHCemzJByaf4+3uvQUS+N169Fxcze7kEYkOR7+H+NSf4paVNXeuO+x/5HaonLDtLLSKf+RWeX+0O9Re8i9jMeBV+9h/fxce5o7yHsxa/E/iX+y+Ckzw3Z1/NqvDBm4+BaCRgLA8/eXQfJoxfcYmKGrx5/48RXH0rIwW2xUDqqU24/36u/ZZrtsSAquIS255d0oV7lYoBatSoUVu+3XkxoBXgxLGjOHDgAIdPPJ9ATN0CpwM+y+roWPtcB+9rF0i5p5HbLuadxL5QI/2yA7xC2pd92WCsgK9veAs+532MSeuDcCAgjV9a2owjJThw/hqGlZYvnJhBnbMjXPxLYPySdxH7XDGEc6c/QWy3jPdwpulNwLe/9T+R2LvMRyXk3Xzbu6BXx/sYM4zA98CnqB5e5puxJqv4cnly+vkEoC09lPgKoeKXb8Y+04rg5TRX7oVr3lDyP90wmMe2p0i7cK9SMUCNGjVqyze7jQxQW54N5TvhW39zFCP8oAc120bFADVq1Kgt35YtBuT91bh27hzOeYdhWm8ZO1O7bSaqxTmvaMg/txhCoGZlGlEb3C6T49A9DCIDPQ6pUaNGbTm2bDFAjRo1atSoUfvrMCoGqFGjRo0atW+4UTFAjRo1atSofcNt2WLAMFGJHR+vw0fHym7LRD8ryT6basO6XRtxxd0dB159Eqm9Ej5loRnFbQgh+dwZHPfi9z9ZizEdaR9ZLyIZ3+WzeGtTKCyedYChLx7PP/Uk3ArGOIeuFy7nneBK8u/dfAItcubpg8/RHrsPO898ypa9280Zxi+4ewe0LaE4cegC608pqmd9jH35hQEX9jyHx++/BilZ/stnOgQGXMNFph7up7F+zREI1F/AKBtCwKXLcHe5hA/XbUPzNLc+a/pBHHn+CbzuXsw7gK6SLHhufgavbc6C+ZkG5mmCy1zdtu8/ienPb9tLD6hRo0aNmp1t2WKgNy0dhR19CDz5JsR6/tl1Yl/MGqFWqwk6fPGVyf8XGHSMTw29ketO/kzyzfL9x1dfzGLmM7JA8n9m/Ax//uoL6EhejfYz9v0AJAF//swwV675zvqvyPZ0vF8N5j67v3wxA53hc5LC2F/wmU7L+hn76ssvoNGowfepi1rppx/hShP3/c8jQdi9341bWMpI3buiVuGxkG7ewdlXs9M4+fTHKOPn+vnqL0p4/2YPwkIjEWYSAxbWEX4ajmnjRDGMYuN9G9DKvyMpx+Ecwrr15CcJcPpv3kXPgnl+voKqNRC+joFYz4uBzzQCvHnuOLSkbb/6swxuW36FZpH1I4o9kc/hucgebuGrv6Ap6I84HRaOneEmMdCNBM8aTGfutBYDFpZ9zgHhPcuZ0YEaNWrUqK0EW7YYiPfbgfZpI8IufYRc5mVBjGm7cG3XVly7xkSisRAwHfy8CNcUyVae2wZHPqhVFznigHsj6eg+R+i2XVh/YAOuXSRR8rtvolykIxGuEZXZwez6Jze/iJ3xvWDm6zEq+/Hxqb2sn6FPAcxOpOGjF49D+Tkz3cAANq7ajg7+gfeZ0TI8+M/fQtYIt7yYnTvtCmZ6pJH8eDj6nccfDx3nEpawv8wqsX3TdjSYJvj70ogSfxfs/egA9gaWmjtRQWUyjqQ2YCDdthhIcdiP4EYJqbwIx+//PYqE3JqRR17DuSI1PhvMxj378xHlwz2Hn9E+xaZD2YU3N+1A/1i9WQwwby1sz4nC5o/X4+NPTsEnptu6Myd1jN7xaxwvIw1HTCeoxu5PYjHSn24hBjiTLSEGXD/ZgnKxrRRq1KhRo3Y32PLEwJetuPqyM1SkRx7MuIrzka3E+RWa3f8NW+f1tF9N1eP+f7y0YGKhxcXA63DlpyRsjdoB/2oSJTMjBgZ+BKApHP/538Fg5Edr5Hn4VSycssjl4h/QKtZjoj4MO4LKeO+N2zkiZgbKnbDxVCpZ+gsu+p7nEpYw5VACLrlk8UsW9pkUF557GCGdX5J2k8B59+/ZofoFYuCrL2EcjMPqFz+AzMAPXYjT8fT99+N+wt7Nm3GpRA19VwLu+ft7UctO7yfB2j0fsSMpOYc2wIvZDeoWsxj46qsZJG95Az8PaEVT8Bb85y/2YdxgGlb5C6Z7M/Hf71/gJwf6Eskuu5DRJ4XyRsXAX/4MTdlFPPfBcfMoDzVq1KhRu/tsWWJAlPkBvvfD17CbRKbb3nsRD+8KxQz+jAqHh3CsyHoS2i8E5bj/EQ9YXpZmbHExcAxJ8+axnZG34MRmfgTg5GazGKgLOYrwhkkuk4X154YiqGwI5ZHX0CSwnHbvxizmyBq85tvPzzzYgysOoey3xU2G8LeeQN6A7Tn3mKH4rRlCiPP34LuPr8Y+0m4fvPESXnz7QwSUjpBuGJiqicNjb+xG4YjtVwz7nz/FRt+fD+fhnl3Z5vs0mFGM/hkR1qx5npu1b9d6/Phvn8WO0FwYFd34w97D/JscP4Pv4f9Eej83iiNp88VbT25FwyR/vWG6AM8+8Bg+2nsAOz94A794cbXVLIm2xEBPigt+u/FT9Ejp8/3UqFGjdjfbzYuBr9Tw/e9fIsM0hf7sFE79egMqJCTi7InAc29vQufgOMbHpzDzF+bKvRRBv/gRdkdWE984puVcZ9ef+Sle9mzCeFcF3v/X7+HIEmJA3hKMfUfdyfr9iF73Mn7BiwFZbzJ+uekKWy6Dee4j9TCe3bYGhzZkWL3S+EYvE4gb3PHAPxxBHSkz9cw/w4N02CYbCH4D97x6gF9i7CsYW2Lxw1+FwbIb/1yv4OrV1YDX/rAf1dxIvNksRwa+NI5gw2uPIaOll1tHomXvlfhMM8EuN0dsx6Zjify9EmJ4P/jPSKtjfnMTzl+5yDjnzGJk4EujAjvfOIBspsz2VKz71R/QLv4Ms9PdeOEXLyO8mWs3kViFL+du+5g3MvAllOJxtARtwPPvBGNgXIJZIhA+0+bj+V++js6BEa7OKsspl6lRo0aN2t1kNy8GvpxBU3o3+PvaiH2JyeZ09Mm4nni4rQzh4eGETIjMM+fJUMz6wlFQw09hbJjm8xVArB5BX6+MHSofqmnGuGUPToy5KbA8L4nkjUVjVzfqMgf5yPgLjORn8uWEYy6oViL4v/8TV+rmasnYn3ViJMVHQ3gDL9mTdnBlhpePWr0JUTNYgvAiIlzM9iWE1cWom7C+Zq4cqefrlYz+6YXT5GomRjAk4kYtZiebzL+BpbiXHZWQdcdyy6WDVu9HYG4uTOPzjjHXaiztcwUqYrth6pq1E9XmcpsmuTrqRJ1I4H0MaTltmDHtKmKMCKkb5u9FwCwac+fyhocXQUoaX0GE2JyP0HorryWiRo0aNWpfpy37BsKVaV9hRi1Ge0U4HndN4n3UqFGjRo0ataXsr0wMfImp9lyEJ2ZhSv/XNvsBNWrUqFGjdmfsr0wMUKNGjRo1atRu1qgYoEaNGjVq1L7htjwxMKNAe3s7R98QZq43pd9N2pc6McbE/ERG17NZJXoHhs2zDN5R+9KIUf53CzU38GD9n/UY4vMr+fsLP9fL0W2r3f48g97uLkxoLC9vfAHBAL89pZGfVZHY5yr08eWqzHf+fQYx7+vsFOAz8yyNgFE2ggGhjF8i9tWfIRkZYPMOiU13Xf4Z4mFufRNjKq7SBoUInWS5Z2gcX1g8diATjXJljIvAPjjCmgHDpvVFth+1pEaNGjVqK8uWJwY6g/HwY58gPj0dPpcO4k8eRXzC7TF10WmsPhPOL13HeqPw7798DoIbeELg1uxLtPufxolr6UiPccGmVzZj3PphBSv7s16C8/uOwieC5CftZHqCoSpyA+ITuHY7F8vMEsRZTNQe7Pv/2zv3qKiue497/7i3uVldobePVdsmcd30JsX03tK0tzZpQ81trXlQo6E1ijGKMUoeIsFMjDo+R3ygRnzFCWIGRScqohiJxlEjKFHwNSg64mMUZRRhAGEAYRDM9+69zz4zZ8YZgxipZn6ftc5yzmafffbZ+3h+399vn7N37x9g6KYzMsWNLxdG480PUsXxo+bq0SAUTxUye/8WC5ezcpcnYvLMVSyN1W35NMzkdWN5P0oYgGWWUpF+cstc6BeOR/+4BbxQQcPlE0hbvAzZ61fhzT7RyC3jqS2w5SvHZ2dnYlK/hzB2O58dwoVNyVORmZWNebphSM+X6zRcKcTkuOlYvzEbujdG4/PzXDjUILNvJFJ53Vg5bw6ejBIlN0EQBHEX02ExENk3k/mAwPUqG371XwZwE9ZaV4YL1bXCwy06eRZtqrt4tdLjbXrmAuA0XlbSjxzFZRczJl9dR/UFu+JV+kQGvkJjVamnjGr53ZzbVSG8bP/IQHOdkl5UdAI1Tcqnd7xupc5qHD92VNStpc3rOjc6L+LIuWpmOoPT5q7FGxOmQkwX0HYVy0b8APMsp8XfAuHYvw5pq73G3p9mRyF++fqHyux/pzdgzdFKbHrrQa8YEGsTDEWRnDPpc8MkLCtqQPUBE8Je/1SZP6HlCgYO6Iuy69ew7t33MG/neTS3uXE6NR6z15ewatbAUnAAtaUb8LpGDGjxWZtA0lJ+GP/9u2RwOaGFf27Z1cBnZbyGPRMfxqRc5XPCA2vex31jc9j5ShHX9c/YfopfVSP0sVNxROQgCIIg7mZuWwyU5S7H30auAf+Sns9S99CvB2LaynVImTgK5sPMkl05jUHPjsS81cxb/Pg95r2uEUWg6jj6/mkYFphZ+qbNKLnM8jIxcN66F5mrp0CniQxca6xA4qx3pNea7fHIGytOYUv2QozwiQxcwOJBg7FiVRYylxvR7+Xl4CaL1+1nLw5HxvoNMLwzBMv3eNcR3J+SgPv6LmM+cHBaGk8iOWUurrc248OJc7FkdgIMi/PlX29k9+oxSPkoEX379kVf/Wr4z4Mo2m1itmb+gCZfMdB6CZPCfoPNdmXShY/i/4zJ22tRnPkudDub0XQ+H317z0f8i2/iM6ZQGiuLsSZpDP4S9VfMnp/jndKYEVQMtDbgo5hfY/qXvld+NHMh3ll9UO55OZgxDkNW8HkiKrG42wvY52Q6ZuMgjJkyGf/+n3NFO/MJixLjXmPXHYlPtvou2kQQBEHcnXRYDIT94HFE9uyJIaP1nvFwbnD7jPpcTAh0qSgL07aVoSx/Hv46MQO5ublieyFxuMh7OD0BQzYGfi+gudaCJI0YaGm4jNH9+mM5L+PwGbFIkZfjSNKIgWvWVDwzRJ15sBYr/+8xrCy+Jur28pJ9wvs/m7sAg9PksoTthIuBKeOHYanueay3VaM8LxWL0oP7vTvmRSFhOV8X4RoOLfkHnp5d4Jm8qOHSQYz5xzP4TF3gSeAnBjhVuXiNtXFPtk0YMQJzdtcJMTD8ww0YnTxHZDGNXoD9TETZN8/G45EzcOHcQfzxf7tjYa533YPAYuAajm9bhF4JS3xFUMsVTHu3H06o4RfBdVSd2oqhAwbBVsvTuRh4EYZxEzD5szK0leUj7JUMuFqvYvfESIz+gF23LQPdnh+BCvrCkyAI4q7ntiMDWrQGV8VfDOQW8fUAb00McJqqStjxO7BgbDSG+Mwn3DlioM1dg1eHx+KoPE/R6jexNP/GdRFUDmyYhozDchY/Zhh/n7BFzAp47co5/CPyeXy854JmKWZOADGgYf60cThQ7YazMA1deupRLo3s2FlzmBFuhn7QUGRI+19v/QiTuUGWBBIDF3a9j8jfTcCpWqnkJOdyhuCl8ZvRrKmb68Ju/OmxV/F5SZWYJpkpBux672GMWGUVLw5WHvoIvRceQGvlIfywSyQOy241jX4f5uBNRBAEQdwl3HExgOoTiPrja0jNUcRA0UllJJqvE/BU92h8/BlLz9uN0uqr+Op6G04eLYQlZy6Gv/o+dn+5T7wt39bigrVAOX7lBwM9YuDK+SKWlo7hj0ZgLStHmZr3HJL7RCNz8w58unYBXpi0QoTobyYG2jNMwJcD3jrzTQycuhG5OamI6z1AM/3xGbzb5X4kLi+U+0DNqc8wY9wCVr/tWD75ZXx8iJfeiLUJL6Df+DRxLXyr5KqlpRqHcrchqe+P8GzSauQedYgoAp9KmOfZuGQUxszZqoiHxrOY9GR3zP54K3Iz9Zg6nYumNhxM0Sl1Y/nnD+0O4+esja63ouToQeSsmYaoPqOQu7cQVVevoeF8IZ5+LBKzNyp12H/4HFpY2a3NFzHz2V7YIV4olLC6zegfiVFLsmWdj6KON/Ppjej76khYduZi0qgJ2HyOS51qZKh1Y3mH9xvGpBpBEARxt9MxMdBQDuuxSl+jz2ipOoXjF+u8n8CpuMqkIfGKAU5LxTEl3U8MqHkDiQHtMIEiBmQ629R5+l3lZ5DP0/YewpVmJU1bt6ZaB06Ue02/y3EGu49d8lmDICCt9SiW55LLCkiaYM/djTOaMrl4uHDkkMhrPad+1teIk/J4dfOKAU26nxjI9a+buwL7Zd5aNQyvqdue/DLlXQQpBjzlSjHQVHMee9U0tnnFQC0OlpzzHYZhdTusyesRAwzHmaMi7ejJcu+nhZq6nSzVLt1EEARB3K10TAwQBEEQBPGtgcQAQRAEQYQ4JAYIgiAIIsQhMUAQBEEQIQ6JAYIgCIIIcUgMEARBEESIQ2KAIAiCIEIcEgMEQRAEEeKQGCAIgiCIEIfEAEEQBEGEOCQGCIIgCCLEITFAEARBECHOPSYGruH05mKoy/6grRn71q5ESkoKMvd6l/5trrEjfVkKS18Jm9N/bcV7iavYtppfRwp22CpuXACKIAiCIL4B7ikxUFn8CUYmmLyrJbZcwaQnX0P2mVrUN4l1+gQ1Jdl4VL8UtbUutLR5F+Y3JvZEWFgYnh+aikbPMoCH0J+l8fRxX5wXKQ22DWJfbEMzmUnuIKezEfarPyH/gmaFxAv5+M1jvOwe+KS4UqQdS3/aez6+9TeiTvzlOhrra3FqxQCMSD/E9giCIAjim+feEQPN5ZjxSm/svaTx9IUYGIkdnlCBghADhhVyj9OKI4t6460PDovlebenJiN5dynQeAr9H3gG28uaWWo9ZunGoFzkV3Ej540uWHX0itxvP84TWzEhazX0sU8gt1Qx7Xy9/7S4/iiquIrGS3vR+9mBOOJX9ImcJXhpRYHcU6hYP5jEAEEQBHHH6LAYKFyeiLAuXdDlp7/FjlLFojk/jcPQtA3o1vV76PLrF1DbzNzv+hIMfmAm1qUk4D6Wf/iU3SIv879h7s+OZ2n3PzAYJfXM3tdaEPfqNPl34EDaYCzIPSt+1xUsQkTqEfHbQ7vFQDM2vfUgNtuVvcoj6ehq2ACU70fY4AyofnvOlKkwO+SOoAxJrH77fRXCLXDFVwzYMvBEzwxwOSPq2LULZu/2VQP6xEgcqGyQewokBgiCIIg7SQfFwFXYj58X4fqy/DQ8k7RRpHIx8GhEIoprm1GSPRPxG5hlFWLgfoxP+xytzJq9PSWByQBmxyvOo1ha4ePLn8W4jCP4qrUJ0+L12M/Ta/bhxQdjcFYEAlqwc0I/zPzSL2DfbjHA7H5hEoa8PhyTp0zB5PFxCBvPxIC7ChtGRWFwwhRMYemj/x7tEQNleUravCXvIu9UlZJ4y9woBp4al4VFi5ZiWcoq5C38H7y9xas+Gk8uQ3zCYlz1DGEokBggCIIg7iQdjgyYxjwpvHqxvakYXi4GXl6yzzumzxFiYAAO1cp9FVcxotXju9yHhJT9IvnctgQMXl+BM5uGIu5T1co3Y/PQF5B2VO6q3IIY0HI2dwEGpx2Qe15SEpKwT/724DBj6pQcuXOr3CgGuvyou4ykNGOL7peayEAlFnfr6oleaCExQBAEQdxJOiQGrn45E09GpcLFrL510wx8/71bFwNbxg3C21t5jKAOW17t7REDqLVhwKCXMelds2b8/jrObNThxQ+PwMdp7ogYYPWZPXI09pytlwkKF7+cheHjZss9lRYUL4/GwvUlch+oOmzG0o15cu/r8BMDzODPe/7X+PJCA5qqrIjtPRYlMthRaV2DpweuQo2y60MgMWBZtwRri32HEwiCIAiiI3QwMlCFxD8oXn3k6Ll4dPYmkXorYqCheK2MCnRH+vYMLFbFAONkWjTiPtgl9yQ1+zDs8TEoa5L7nFsRA9bF8nzPYp/H4jYic+gDSvp4i0wDijPflXm7IPqTyzJVofH4Mvy8yws4LPeDcW7bTPxElsG3p6bsYNKCSZ/SXPGugPZdC86CuNexodQ/fKIQSAysTYxm5SahTO4TBEEQREfp8DDBHaOpDCkvDsKOs6o37aVw3RuY+NFOucfo4DDB7dBwbDWeikns+OeGHSCQGFhlGIBfGQ4IgUEQBEEQt8NdJQbqdk0X39kvCup2NyJ7UDqOyT1cq8WMv/YQxzyftFkmAldOf3bDt/y3z3UUmUfjxz97GIcqZNIdpxIjn1bmHhhtLpJioAGZQ8PQJ36W2CMIgiCI2+XuiwwQBEEQBNGpkBggCIIgiBDnWykGGiuLkTQpAQkJM3Hgou9XA/cW9Vg1h19HAtbuL/OuTVBqEWl8swd+55AISD0OFVjlb4IgCELlWykGAr5AWLkdf+vWDd3Y9twr83GlRb6O566DZWYC7vuXiTinpDBaUVtaipH9HhT5F34R4OP/r+F6WwvKD69CWLjm08LqfPSXdej28IN44F+/iw2nlT+5yg5i1BMR4m9J23ymQQwyz4AyO+Ju36y3TM3OSZ4vHfBVG66UV6HZ53OQO0vlvgWIjlsg927GdTRcvoQGvzcmr11l/bc4UmnTWJNnNkmgDXU5evzrnwYrM2FK5iZMx4bKBr+2JAiCCG1CRwxoSJ06Edsc3GzUYuus5VifkYrv3j/VIwaaHbvwxEt6FF3u+IqH5UXrsWTXdr95Brw0OPbgz8OScZkvi8AM+4LBE2C9rP1u0kuniQF3hfg6Y3dHJ1zsAE2VNuzaZ5N7N6MOGT2fQIZf1s8yJmLOthuPb3FaETlQj9dmJPmIgcbLXyC6WySOB5rQgSAIIkQJKTHQcKUSpczjfz8pBmUut0xlBuJkDh7QiIGi1WMxu6ABF1lent/tNz1w+/GfdMhL/rJ3YFinfBfRZv0Q/Rd9gdIL7HyOcrg1Ky1yvmkx0NZaj+xZ/YQ3/dCPwxQxIKIWDyHsO99F14eU6MXS/XWoyZ2M3n3S0fQV882vXUTSL8JhOa/MKTFw5lw8/ouf4ye/6YPCSv6xJfPeKw9gYKQSUUnM2CPmnGiqUdpd3SpquBBzY8e7sXj4oZ/gD297IwNXSnfAsGgOZr/M6tb1P7BkD/fiT2Fst4fxw+/8G374U6VuI3J4tKYCqYl/R8npMlFujXcpSljmT0HmqauYttRXDHAOz/keJssVKgmCIIgQEwNnrLuQnp6OpBkLse2MN6DsLwZ2TxmDyClmrGF50ydGY8YnRfIvt0owMVCG+a8MQkm1Ikiqto7BH4a+hfSV6ZgzPREDze1ZtbDjYuDivnUYl7pd/P76yEANZr7RC5fqr6H8wEr0mrFN5OVioOe4FUK4XNyZivAPCoHmMiR2i8YXMqIyP2EUvmAe+KX9uaLd1W3Hfq8nz8VD4ixfMfDysOE4xY5z29cj+o9zUcWXmgwYGTiC0b94DqmpK5C+yICe/ebgDD/1+R14IzGF1e2rgGIABUl4M8W3jQmCIEKZkBwm4GsTDGPGVcVfDOQnzcaKUrmDyxifNF3+vlUCiYHruGB+A/0W7vNMrVyz/X0M2XBSeUHQeQTdHpkFZa1GhW9aDBStTMLs7JPid3uGCQ6tTMOnp2uwc8FSfHFBEVFcDKh1qj+xEQ8MXYWGigO4v8v38CAfvxfbX7CpHNgz7W25r2yx0z4WZXACiYG355mUnardGPnkJFQIzRRIDBxHSp9pqBGVbxIrUy4tvIQ1sT9DWp4ShUicrsPRk3Y0afUAEwMjkvLlDkEQBBGSYmDt9DFYecw7baG/GKjYa0T3cbuZeWGczMCEhZ+LdM7F7UlISFkn976OAGLg6iW8FD4Su6qEBVOoy8V7w6aggXnAlw+txvNzvoBwhiXtFQPNF7bjjXdS8HUfGJzPM2LGkp1obahA4oDfecVA2xUYI/+MVKvvmgdNZfvwzCQDPnjPjIZW5ZsGrRjIXzoKg9ey1mutwtw/dIfpePtfOmi/GGhCztu/x5BPL4g/Kbjx8czh2H+J1bfOjr/9ZjisdY0o2rYF2dnZYouJewWr12VBjGJISozdobdo5RZBEERoEzJioCY3CREREWIbu/aoXD+hCdsn/dGTHhHxN2yRswseSVXT0qCd7fjq6U/weFgfFMv9YFzcuxy9POVGYIixUBj48oNrMeHjQiWThgOrpuNJlu+518ai5qrv6/ztFQPXrp5Fn1+GYeHXjWo0VeOd115CxNPPYef2lZ66CeyfeepsOqwOpdSIFRUTtnlXQuBi4PsPPSbyvTU1G9c8lavCmGh53dFj2F4QWuoxadRAz7kiIv+CXUw0uS4VYlaGstYFag9h+qsfolrVTTWFGCbzv2NRQjd1pbvQ5y88bSB2XrrxM9LUdWmod3vbs6WhCG93fRSHO20WSYIgiLufkIwM3A71hz5Cj0FjmU/aebRXDLTUH8Szv4+BLfBHCR2m/uIe9Bw+GeWajyu0kYF7CdNUA2aX0KcEBEEQWr6VYsDrLb6EzSerZertch22T6ehx1NP41infXpXDf3Liic87VOb1/AeTVO8abapHm7jiWxE9HgKq4v9Vm26LdzIn/93RPw1BsdrfJdm4pEWnzrdE1Rjy8Zt8jdBEASh8q0UAwRBEARBtB8SAwRBEAQR4pAYIAiCIIgQh8QAQRAEQYQ4JAYIgiAIIsQhMUAQBEEQIQ6JAYIgCIIIcUgMEARBEESIQ2KAIIjbw5GFOF2OnLbbiaxk9fet0NHjbg1nVjJy7vRJvkU4LDpEhT+CuG+g0RxZOiRbO3PuVi1uWJN1yOrAwm6hAokBguhknFmxeOSRRzRbFMx2wGqM7xRD5bZnQR8dwc4bjiidBTd/Prphz9IjOoLXMwLRhjw/g+2ERZ8M7zPeCoPBKn/fCh09jmE3w5jXPiNjNRjYmf65OHPiYexAJdx5RnGfdBruAhjisr7m/gjMDdfoyIG+Uyvvi9uaDEM775GO9s+9DokBguhkrMn/TINkg1Fnhk2uQeUwxzJvTfkdCEdWHOLMNijZuTCIg6HgJg9VZxYMWR1QNB09juGyGNppJJ3IMmTd8eiDwGZst/FpLzajAd9wkTfHkQWjRV2s7NtF+++Z0IHEAEF0KswgmfMCLHTFjDTzunm622ZCDPfEw6OgMxthFEbSBYtR46U5c5jx5HusPKMRpvgeCI9lf2fHxvXiXv8jiIg2ajx2idsBu0OTWMDKt/EfDhQU+PmA3DPU+9XVZYXFygyE2wZTXC9E8MhGRDTzpGQu5oGp4oJfR2yPcBFRiDHZlHKYkTQWiD8LuDASu5rjnKxOyvX3QHxOIL/UAYs+Wpw7IsYEo14vjaQmPdC1MwmWLE/isOgRLeoWjh7xOTd6vwUmJGfJfhDXZ/eWHafmV87XI9y3rtrIj4FdnDOLXbMpnuWLRZaT9aPBDG6HHFkxnnx8i/K3TryNY1m/igiOifWFcpw2PWDdNe0QHqWDRWbgESFdlNIf0cz1VZpHuX/MmmsTYsluRpRaNx6xCdZvnroofWEThXqvkZdfYIxR6tIjHp7utDKxZJL3B7vPPfePip+YspkM8NUlBTAlZ8EUw+915XrsvE9Ff8V5zxOgrawGtc1jxLBBsP4J3I6B+5ydiNUxVkmPiIFJaYh7ChIDBNGpWGEQDyJ1i1WGBlwWGLgxEKFZ1XN3ocAQJY0kEwu+T2OZzsrrxYxhIHeXPdBv7m07mCGwSK/fCZvdzwtst3drh1l63M6cZPZAZT/Y9eg012FlXi2/TpfFqBm3dSKHPdB9jmPnjGEChP/kx+UZ4pV0DQ5zHPTqBTPvNZaLIPbTxoRTnip02PmT/Y0rE1DJAdrDnaeH/wiFgxn0WDUiws/BDIVZhlMc5ngpoLS4kaf3RnzsvC6yKlZDL299NaLPi4O1g2pIVdys7+M853QVGNCLKwtWI4vJG9nhgst/iMTGjK/nfOyadTzm7dMfbla/WHnN7P7RXJs12dve2r4K1m82o94ztOW2mWHK4+V4r9GnLq48GOJlf7P27aX2M6tjnH8HuPNgVPuP/99gYtIH0e/q9bD7ODZc019mxIsOCtZWrK+MqsEP3j8B29EHTZ+z+1bvbQiYTXlKXe4hSAwQRGfiDBJ6lYbXnWfwMTTOHKNHLCgRAgVnlkF5aIvwuucpzRx3b2SAb/HBwrxuOxMCWbD72hEfbhpKdVm9kQG+xSuiQvUYgx1rY16o95HqfU9APY6LBp9RCKvBz1Bz4ZGjedAyb18YSfYv98rU+vDN38DwcWOppxw5amSA5428wbgXGKTnK2ACTQ1bMNx5JmkYmRFXvUReTqSRmRKRA3kmNYqjDE14eogbNp+G4YKMGSb/fmDG0OB7Iyj9zP6N1V4j22J9BE4gscEPY/3hvU3kfcOO87t/uJes3jLW5GRPXwXrNzfz8KPCI9Arjok99SI812hldSnwqYv6zgb/19u+LN8N6sorVAMOjzBxpPYlp8DgrStvO9NN24rdQyb14GD9E7gdg/a5m11DVDgiesXBkGMPcNzdD4kBguhMPGF5X1Tj6THyEs9DjokFrWPCjZXY1YTXxYNMb4HqHPsLCw9MCORkFShe2U1wMoPpb9Dtljz2OOShVD0s3hNJw8U8RvlgdWaZAoxvs+OYAPGcl3l3SuRCPY79q/07w8WNmE8dvIZIwMrQywd/ssaoBYIbRJHFboKOeZpOWT+72T8EzQwRExyeetjNMGgy2M0mYcjsJh1MNqd88HORokZZ2G+zWkfv0IRAG21h/WDWDv1o8X+HQjV+zPgma4zgjTCRZvLrNIbVx5gz1Hr4iS2eT7llvN5/8H5TccPlYMYw1nuvirJZn2gFLC8nR4TgFQPs+UsQgWw1mWDzbweJg/0/UR1x37ZnsP4Stj5YW7H71ew5OFj/BG7H4H2u4HY52Glv/h7O3QqJAYLoRHwfYl5U78dl0UEvQq3st82MWHUMlxn9WGnsRHqs8jD1+VTOYYZeun9uRwGSo3V+Ro7h5u8GtNNzYeXFMQukFOGGI0+PGGH0HTDrzYoR4+UlR0MnTsS8KTmU4bLo2UNVntxVAGMyD5syA6NTPX8n8vS9pCHyHmdjD1IjfyeBob1OLyxvvDy3fxnRrGx5SrfTdcM1cu+Wn8VdwCME6jmyoItWDaCKfyRAK6oUw+hgpRfwaIYoxgVblg7RaiYRxZEmnhmzZE2HeyImfCw7OdB4v4SVoVfb3mWDOZaPZyvpOjkswnGx6/RFaR/FSVe+BOHn4/dVvFoPZx70rK34ML3vp5baYSOtkQzSb07NUAy7D3J0iuDwRoVYXWJZmtpG5ljpmfsZ4CACmX89EatjgkDua/GPBGijKJ4hjWBtxYW1KhKC9U/AdgzW505YktVhB/b/JEfnI9zvFUgMEEQn4vMQ88A9bfkw4UZCfSmKed9xnocm80LUdD1Ll0+bAo8nx3HAootSXpaKNcHIHuC+52LniVdD43ITxtbOzmmSDzMtfGyZv1jF8oX3QCx7gqqPTfX78/AesTAZdYpx0BpBT134i2XMCMsDXcywqscZWP1UA+c5znP9yjVIXeCD03PueBhYW6jPcs8Li7yuJqs0aiqqEWdo21jPPEGtl8phnq/WU9WO/wsjIS2J50XPiGjomZjzerAsTy8ZkvYzdKros5ujfPshxj9CwF9IU168i2CGWx/vvW/Ey4/qeQO8YOmpF38BNUsVfpr+iGZtJg/zvR+ZaFMry71/rZEM1G+sZKtRhsw1L81pw/reumj6xK9sh2ZoQgt/lyPwMJdWtDDsvp+WqqKPE7Ct2P0Wz+os7tkg/cMJ1I7B+pwPlyjDTpqXZe8xSAwQxN2EW32McE/qnzlJC0H8E3EpL9LeKFCJOwWJAYK4i/B4MvyzJfO9+SISQdwOzpw45nlrPg8kOgUSAwRBEAQR4pAYIAiCIIgQh8QAQRAEQYQ4JAYIgiAIIsQhMUAQBEEQIQ6JAYIgCIIIcUgMEARBEESIQ2KAIAiCIEIcEgMEQRAEEeKQGCAIgiCIEIfEAEEQBEGEOCQGCIIgCCLEITFAEARBECEN8P+hSLNYunalsAAAAABJRU5ErkJggg==)"
      ]
    },
    {
      "cell_type": "markdown",
      "metadata": {
        "id": "TX_qG_ziehsR"
      },
      "source": [
        "## Ejercicio 4: (Opcional)\n",
        "\n",
        "Usando la función `RandomizedSearchCV` busque el número de vecinos mas cercanos (k) que mejor prediga el conjunto de datos. Use los siguientes valores: `n_neighbors: entre 1 y 8`, `cross validation: 10` y ``scoring: 'precision'``"
      ]
    },
    {
      "cell_type": "code",
      "metadata": {
        "id": "lovuQdz5ehsR"
      },
      "source": [
        "# Escriba aquí su código\n"
      ],
      "execution_count": null,
      "outputs": []
    },
    {
      "cell_type": "markdown",
      "metadata": {
        "id": "UkPeOk4zehsS"
      },
      "source": [
        "## Ejercicio 5: (Opcional)\n",
        "\n",
        "Extraiga el valor de precisión del modelo optimizado en el ejercicio 4."
      ]
    },
    {
      "cell_type": "code",
      "metadata": {
        "id": "ftn8kfsfehsS"
      },
      "source": [
        "# Escriba aquí su código\n"
      ],
      "execution_count": null,
      "outputs": []
    }
  ]
}