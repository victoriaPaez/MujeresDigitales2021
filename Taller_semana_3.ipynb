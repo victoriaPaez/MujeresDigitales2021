{
  "nbformat": 4,
  "nbformat_minor": 5,
  "metadata": {
    "kernelspec": {
      "display_name": "Python 3",
      "language": "python",
      "name": "python3"
    },
    "language_info": {
      "codemirror_mode": {
        "name": "ipython",
        "version": 3
      },
      "file_extension": ".py",
      "mimetype": "text/x-python",
      "name": "python",
      "nbconvert_exporter": "python",
      "pygments_lexer": "ipython3",
      "version": "3.8.11"
    },
    "colab": {
      "name": "Taller semana 3.ipynb",
      "provenance": [],
      "include_colab_link": true
    }
  },
  "cells": [
    {
      "cell_type": "markdown",
      "metadata": {
        "id": "view-in-github",
        "colab_type": "text"
      },
      "source": [
        "<a href=\"https://colab.research.google.com/github/victoriaPaez/MujeresDigitales2021/blob/main/Taller_semana_3.ipynb\" target=\"_parent\"><img src=\"https://colab.research.google.com/assets/colab-badge.svg\" alt=\"Open In Colab\"/></a>"
      ]
    },
    {
      "cell_type": "markdown",
      "metadata": {
        "id": "08e8fc9c"
      },
      "source": [
        "# Taller semana 3"
      ],
      "id": "08e8fc9c"
    },
    {
      "cell_type": "markdown",
      "metadata": {
        "id": "eaa5a1ca"
      },
      "source": [
        "## Ejercicio 1:\n",
        "\n",
        "Cargue los datos del archivo ```pokemon_data.csv``` a un dataframe, cree una columna que se llame interes asignándole el valor False, luego cambie el valor de esta columna solo para los pokemon que sean legendarios (Legendary = True) y que el Type 1 sea fuego."
      ],
      "id": "eaa5a1ca"
    },
    {
      "cell_type": "code",
      "metadata": {
        "id": "16aff8b8"
      },
      "source": [
        "import pandas as pd"
      ],
      "id": "16aff8b8",
      "execution_count": 1,
      "outputs": []
    },
    {
      "cell_type": "code",
      "metadata": {
        "id": "8032ee74"
      },
      "source": [
        "# Escriba su código aquí\n"
      ],
      "id": "8032ee74",
      "execution_count": null,
      "outputs": []
    },
    {
      "cell_type": "markdown",
      "metadata": {
        "id": "da0f488d"
      },
      "source": [
        "## Ejercicio 2\n",
        "\n",
        "Con los datos de pokemones anteriores, escriba un código para sacar el promedio de la columna Attack agrupado por Type 1."
      ],
      "id": "da0f488d"
    },
    {
      "cell_type": "code",
      "metadata": {
        "id": "f4434c55"
      },
      "source": [
        "# Escriba su código aquí\n"
      ],
      "id": "f4434c55",
      "execution_count": null,
      "outputs": []
    },
    {
      "cell_type": "markdown",
      "metadata": {
        "id": "45f0cbc3"
      },
      "source": [
        "## Ejercicio 3\n",
        "\n",
        "Se le entregan los datos de movimientos de acciones en el archivo ```DUK.csv```, y se le pide que entregue el promedio de Open del 2015, es decir entre las fechas 2015-01-01 y 2015-12-31"
      ],
      "id": "45f0cbc3"
    },
    {
      "cell_type": "code",
      "metadata": {
        "id": "704ec036"
      },
      "source": [
        "# Escriba su código aquí\n"
      ],
      "id": "704ec036",
      "execution_count": null,
      "outputs": []
    }
  ]
}