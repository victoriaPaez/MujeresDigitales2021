{
  "nbformat": 4,
  "nbformat_minor": 0,
  "metadata": {
    "colab": {
      "name": "clase2.ipynb",
      "provenance": [],
      "authorship_tag": "ABX9TyN1ph+DDIJTrDvTRHs0fIzQ",
      "include_colab_link": true
    },
    "kernelspec": {
      "name": "python3",
      "display_name": "Python 3"
    },
    "language_info": {
      "name": "python"
    }
  },
  "cells": [
    {
      "cell_type": "markdown",
      "metadata": {
        "id": "view-in-github",
        "colab_type": "text"
      },
      "source": [
        "<a href=\"https://colab.research.google.com/github/victoriaPaez/MujeresDigitales2021/blob/main/clase2.ipynb\" target=\"_parent\"><img src=\"https://colab.research.google.com/assets/colab-badge.svg\" alt=\"Open In Colab\"/></a>"
      ]
    },
    {
      "cell_type": "markdown",
      "metadata": {
        "id": "W2jW0Yx0zaym"
      },
      "source": [
        "**operadores matematicos**\n",
        "\n",
        "\n",
        "---\n",
        "Los operadores permiten realizar diferentes procesos de calculo en cualquier lenguaje de programaciòn \n",
        "\n",
        "los operadores mas basicos son :\n",
        "1. suma\n",
        "2. resta\n",
        "3. multiplicacion\n",
        "4. division\n",
        "\n",
        "\n",
        "\n",
        "---\n",
        "\n",
        "\n",
        "**suma**\n",
        "\n",
        "\n",
        "---\n",
        "\n",
        "\n"
      ]
    }
  ]
}