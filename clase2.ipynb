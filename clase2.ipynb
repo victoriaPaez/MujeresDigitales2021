{
  "nbformat": 4,
  "nbformat_minor": 0,
  "metadata": {
    "colab": {
      "name": "clase2.ipynb",
      "provenance": [],
      "authorship_tag": "ABX9TyNGHQ00Pp9M6eOyn8aSbhV6",
      "include_colab_link": true
    },
    "kernelspec": {
      "name": "python3",
      "display_name": "Python 3"
    },
    "language_info": {
      "name": "python"
    }
  },
  "cells": [
    {
      "cell_type": "markdown",
      "metadata": {
        "id": "view-in-github",
        "colab_type": "text"
      },
      "source": [
        "<a href=\"https://colab.research.google.com/github/victoriaPaez/MujeresDigitales2021/blob/main/clase2.ipynb\" target=\"_parent\"><img src=\"https://colab.research.google.com/assets/colab-badge.svg\" alt=\"Open In Colab\"/></a>"
      ]
    },
    {
      "cell_type": "markdown",
      "metadata": {
        "id": "W2jW0Yx0zaym"
      },
      "source": [
        "**operadores matematicos**\n",
        "\n",
        "\n",
        "---\n",
        "Los operadores permiten realizar diferentes procesos de calculo en cualquier lenguaje de programaciòn \n",
        "\n",
        "los operadores mas basicos son :\n",
        "1. suma\n",
        "2. resta\n",
        "3. multiplicacion\n",
        "4. division\n",
        "\n",
        "\n",
        "\n",
        "---\n",
        "\n",
        "\n",
        "**suma y resta**\n",
        "\n",
        "\n",
        "---\n",
        "simbolo caracteristico de la suma(+) el cual se utilizara en medio de la declaracion de las variables a operar.\n",
        "\n",
        "simbolo caracteristico de la resta (-)\n",
        "\n",
        "\n"
      ]
    },
    {
      "cell_type": "code",
      "metadata": {
        "colab": {
          "base_uri": "https://localhost:8080/"
        },
        "id": "j5xeCmP80dsd",
        "outputId": "978c64f9-131c-4639-f7ee-4d0c8e6b11b8"
      },
      "source": [
        "print (2+235)#haciendo la operacion internamente\n",
        "print (2-235)#haciendo la operacion internamente\n",
        "\n",
        "#declarando las variables\n",
        "a=20\n",
        "b=35\n",
        "print(a+b)\n",
        "print(a-b)"
      ],
      "execution_count": null,
      "outputs": [
        {
          "output_type": "stream",
          "text": [
            "237\n",
            "-233\n",
            "55\n",
            "-15\n"
          ],
          "name": "stdout"
        }
      ]
    },
    {
      "cell_type": "code",
      "metadata": {
        "colab": {
          "base_uri": "https://localhost:8080/"
        },
        "id": "jfrEBC191GMb",
        "outputId": "9707ba5d-9954-4fa7-f047-f2061e1e12b1"
      },
      "source": [
        "numero_botellas=12\n",
        "print(numero_botellas+ 8)\n"
      ],
      "execution_count": null,
      "outputs": [
        {
          "output_type": "stream",
          "text": [
            "20\n"
          ],
          "name": "stdout"
        }
      ]
    },
    {
      "cell_type": "code",
      "metadata": {
        "colab": {
          "base_uri": "https://localhost:8080/"
        },
        "id": "oE7YScMV1RkN",
        "outputId": "49c11648-2e3d-44c2-8e76-eb17f9afe063"
      },
      "source": [
        "numero_botellas=12\n",
        "numero_botellas = numero_botellas+8\n",
        "print(numero_botellas)"
      ],
      "execution_count": null,
      "outputs": [
        {
          "output_type": "stream",
          "text": [
            "20\n"
          ],
          "name": "stdout"
        }
      ]
    },
    {
      "cell_type": "markdown",
      "metadata": {
        "id": "3Qmf-EBa1ydp"
      },
      "source": [
        "**suma entre dos diferentes tipos de varibales**\n",
        "\n",
        "\n",
        "---\n",
        "tipos de variables:\n",
        "1. nemericas enteros\n",
        "2. flotantes (incorpora y flexibiliza ,los decimales)\n",
        "3. tipo cadena\n",
        "\n"
      ]
    },
    {
      "cell_type": "code",
      "metadata": {
        "colab": {
          "base_uri": "https://localhost:8080/"
        },
        "id": "hXpDDQLi2IaK",
        "outputId": "6c399615-94e2-4327-97f0-969d3b0123da"
      },
      "source": [
        "q1=100\n",
        "q2=24.5\n",
        "print(type(q1))\n",
        "print(type(q2))\n",
        "print(type(q1+q2))"
      ],
      "execution_count": null,
      "outputs": [
        {
          "output_type": "stream",
          "text": [
            "<class 'int'>\n",
            "<class 'float'>\n",
            "<class 'float'>\n"
          ],
          "name": "stdout"
        }
      ]
    },
    {
      "cell_type": "code",
      "metadata": {
        "colab": {
          "base_uri": "https://localhost:8080/"
        },
        "id": "ykFhTA2X2iwA",
        "outputId": "42f09d9f-1e0b-4e0c-a666-9b5012fbe53b"
      },
      "source": [
        "v1=\"quiero\"\n",
        "v2=\"un celular\"\n",
        "print (v1+v2)\n",
        "print (v1,v2)"
      ],
      "execution_count": null,
      "outputs": [
        {
          "output_type": "stream",
          "text": [
            "quieroun celular\n",
            "quiero un celular\n"
          ],
          "name": "stdout"
        }
      ]
    },
    {
      "cell_type": "code",
      "metadata": {
        "colab": {
          "base_uri": "https://localhost:8080/"
        },
        "id": "gTAvCwl2BQaU",
        "outputId": "6a4a4be3-544b-43a1-96a2-d0749063c3f1"
      },
      "source": [
        "xq2=235\n",
        "xq3=400\n",
        "print(int(xq2-xq3))"
      ],
      "execution_count": 17,
      "outputs": [
        {
          "output_type": "stream",
          "text": [
            "-165\n"
          ],
          "name": "stdout"
        }
      ]
    },
    {
      "cell_type": "code",
      "metadata": {
        "colab": {
          "base_uri": "https://localhost:8080/"
        },
        "id": "S6FaCQTIAyFW",
        "outputId": "29f193cd-c172-43ad-b3d7-560ed7a29e08"
      },
      "source": [
        "xq2=24.66\n",
        "xq3=4\n",
        "print(xq2-xq3)\n",
        "print(type(xq2-xq3))"
      ],
      "execution_count": 20,
      "outputs": [
        {
          "output_type": "stream",
          "text": [
            "20.66\n",
            "<class 'float'>\n"
          ],
          "name": "stdout"
        }
      ]
    },
    {
      "cell_type": "markdown",
      "metadata": {
        "id": "vWNe1OuMBnOG"
      },
      "source": [
        "**importante**\n",
        "\n",
        "---\n",
        "la resta no funciona directamente para variable tipo cadena\n"
      ]
    },
    {
      "cell_type": "markdown",
      "metadata": {
        "id": "qZtBvZDHC1A-"
      },
      "source": [
        "\n",
        "\n",
        "---\n",
        "\n",
        "**multiplicacion**\n",
        "\n",
        "\n",
        "---\n",
        "la suma de varias veces un numero, cantidad de veces indicadas por el otro numero. Ejemplo:\n",
        "- 4 x2 = 4+4 =8\n",
        "\n",
        "El simbolo que se manejaria es (*)\n"
      ]
    },
    {
      "cell_type": "code",
      "metadata": {
        "colab": {
          "base_uri": "https://localhost:8080/"
        },
        "id": "MVdsOuT8DKv7",
        "outputId": "1fb354a0-1dee-4e61-d017-fc44ce55ed06"
      },
      "source": [
        "cali=5\n",
        "palmira=6\n",
        "print(cali*palmira)"
      ],
      "execution_count": 21,
      "outputs": [
        {
          "output_type": "stream",
          "text": [
            "30\n"
          ],
          "name": "stdout"
        }
      ]
    },
    {
      "cell_type": "markdown",
      "metadata": {
        "id": "ExrMS3PDDbKU"
      },
      "source": [
        "**importante**\n",
        "se aplica la ley conmutativa  (el orden de los factores no altera el resultado aplica para suma y multiplicaciòn)\n",
        "\n"
      ]
    },
    {
      "cell_type": "code",
      "metadata": {
        "colab": {
          "base_uri": "https://localhost:8080/"
        },
        "id": "pJwwljLjDwfP",
        "outputId": "931cad9c-432b-467e-9a86-cd0b9c9ebfb3"
      },
      "source": [
        "cali=5\n",
        "palmira=6\n",
        "print(palmira*cali)"
      ],
      "execution_count": 22,
      "outputs": [
        {
          "output_type": "stream",
          "text": [
            "30\n"
          ],
          "name": "stdout"
        }
      ]
    },
    {
      "cell_type": "markdown",
      "metadata": {
        "id": "YZqM2aBwD38Q"
      },
      "source": [
        "**division**\n",
        "\n",
        "\n",
        "---\n",
        "ACLARACION: **no aplica la ley conmutativa**\n",
        "simbolo es el (/)\n",
        "\n"
      ]
    },
    {
      "cell_type": "code",
      "metadata": {
        "colab": {
          "base_uri": "https://localhost:8080/"
        },
        "id": "4I7t38VYEFRC",
        "outputId": "de707325-9a7f-4bdf-8182-e168d9a0c218"
      },
      "source": [
        "a =20\n",
        "b=4\n",
        "print(type(a/b))\n",
        "print((a/b),(b/a))"
      ],
      "execution_count": 26,
      "outputs": [
        {
          "output_type": "stream",
          "text": [
            "<class 'float'>\n",
            "5.0 0.2\n"
          ],
          "name": "stdout"
        }
      ]
    },
    {
      "cell_type": "markdown",
      "metadata": {
        "id": "AbtKIfY5EmOk"
      },
      "source": [
        "para el **print** podemos separar las operaciones por variables con (,) lo cual no afectara la imopresion de los resultados por operacion asignada.\n"
      ]
    },
    {
      "cell_type": "code",
      "metadata": {
        "id": "mBOw40dbExkQ"
      },
      "source": [
        ""
      ],
      "execution_count": null,
      "outputs": []
    }
  ]
}