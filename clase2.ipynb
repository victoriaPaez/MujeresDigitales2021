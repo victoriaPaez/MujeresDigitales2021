{
  "nbformat": 4,
  "nbformat_minor": 0,
  "metadata": {
    "colab": {
      "name": "clase2.ipynb",
      "provenance": [],
      "authorship_tag": "ABX9TyOclrQPFmsvlZj6KLbIg6Ou",
      "include_colab_link": true
    },
    "kernelspec": {
      "name": "python3",
      "display_name": "Python 3"
    },
    "language_info": {
      "name": "python"
    }
  },
  "cells": [
    {
      "cell_type": "markdown",
      "metadata": {
        "id": "view-in-github",
        "colab_type": "text"
      },
      "source": [
        "<a href=\"https://colab.research.google.com/github/victoriaPaez/MujeresDigitales2021/blob/main/clase2.ipynb\" target=\"_parent\"><img src=\"https://colab.research.google.com/assets/colab-badge.svg\" alt=\"Open In Colab\"/></a>"
      ]
    },
    {
      "cell_type": "markdown",
      "metadata": {
        "id": "W2jW0Yx0zaym"
      },
      "source": [
        "**operadores matematicos**\n",
        "\n",
        "\n",
        "---\n",
        "Los operadores permiten realizar diferentes procesos de calculo en cualquier lenguaje de programaciòn \n",
        "\n",
        "los operadores mas basicos son :\n",
        "1. suma\n",
        "2. resta\n",
        "3. multiplicacion\n",
        "4. division\n",
        "\n",
        "\n",
        "\n",
        "---\n",
        "\n",
        "\n",
        "**suma y resta**\n",
        "\n",
        "\n",
        "---\n",
        "simbolo caracteristico de la suma(+) el cual se utilizara en medio de la declaracion de las variables a operar.\n",
        "\n",
        "simbolo caracteristico de la resta (-)\n",
        "\n",
        "\n"
      ]
    },
    {
      "cell_type": "code",
      "metadata": {
        "colab": {
          "base_uri": "https://localhost:8080/"
        },
        "id": "j5xeCmP80dsd",
        "outputId": "978c64f9-131c-4639-f7ee-4d0c8e6b11b8"
      },
      "source": [
        "print (2+235)#haciendo la operacion internamente\n",
        "print (2-235)#haciendo la operacion internamente\n",
        "\n",
        "#declarando las variables\n",
        "a=20\n",
        "b=35\n",
        "print(a+b)\n",
        "print(a-b)"
      ],
      "execution_count": 6,
      "outputs": [
        {
          "output_type": "stream",
          "text": [
            "237\n",
            "-233\n",
            "55\n",
            "-15\n"
          ],
          "name": "stdout"
        }
      ]
    },
    {
      "cell_type": "code",
      "metadata": {
        "colab": {
          "base_uri": "https://localhost:8080/"
        },
        "id": "jfrEBC191GMb",
        "outputId": "9707ba5d-9954-4fa7-f047-f2061e1e12b1"
      },
      "source": [
        "numero_botellas=12\n",
        "print(numero_botellas+ 8)\n"
      ],
      "execution_count": 7,
      "outputs": [
        {
          "output_type": "stream",
          "text": [
            "20\n"
          ],
          "name": "stdout"
        }
      ]
    },
    {
      "cell_type": "code",
      "metadata": {
        "colab": {
          "base_uri": "https://localhost:8080/"
        },
        "id": "oE7YScMV1RkN",
        "outputId": "49c11648-2e3d-44c2-8e76-eb17f9afe063"
      },
      "source": [
        "numero_botellas=12\n",
        "numero_botellas = numero_botellas+8\n",
        "print(numero_botellas)"
      ],
      "execution_count": 8,
      "outputs": [
        {
          "output_type": "stream",
          "text": [
            "20\n"
          ],
          "name": "stdout"
        }
      ]
    },
    {
      "cell_type": "markdown",
      "metadata": {
        "id": "3Qmf-EBa1ydp"
      },
      "source": [
        "**suma entre dos diferentes tipos de varibales**\n",
        "\n",
        "\n",
        "---\n",
        "tipos de variables:\n",
        "1. nemericas enteros\n",
        "2. flotantes (incorpora y flexibiliza ,los decimales)\n",
        "3. tipo cadena\n",
        "\n"
      ]
    },
    {
      "cell_type": "code",
      "metadata": {
        "id": "hXpDDQLi2IaK"
      },
      "source": [
        ""
      ],
      "execution_count": null,
      "outputs": []
    }
  ]
}