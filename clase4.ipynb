{
  "nbformat": 4,
  "nbformat_minor": 0,
  "metadata": {
    "colab": {
      "name": "clase4.ipynb",
      "provenance": [],
      "collapsed_sections": [],
      "authorship_tag": "ABX9TyPnKgaC6T45VsakEntd1tR3",
      "include_colab_link": true
    },
    "kernelspec": {
      "name": "python3",
      "display_name": "Python 3"
    },
    "language_info": {
      "name": "python"
    }
  },
  "cells": [
    {
      "cell_type": "markdown",
      "metadata": {
        "id": "view-in-github",
        "colab_type": "text"
      },
      "source": [
        "<a href=\"https://colab.research.google.com/github/victoriaPaez/MujeresDigitales2021/blob/main/clase4.ipynb\" target=\"_parent\"><img src=\"https://colab.research.google.com/assets/colab-badge.svg\" alt=\"Open In Colab\"/></a>"
      ]
    },
    {
      "cell_type": "markdown",
      "metadata": {
        "id": "v6KQ5T_PWbjb"
      },
      "source": [
        "**continuacion de estructuras de control iterativas**\n",
        "\n",
        "\n",
        "---\n",
        "**acumuladores**\n",
        "se le da el nonmbre a las variables que se encarga de almacenar algun tipo de informacion\n",
        "\n",
        "**ejemplo**\n",
        "compra de viveres en la tienda\n",
        "\n",
        "\n",
        "\n"
      ]
    },
    {
      "cell_type": "code",
      "metadata": {
        "colab": {
          "base_uri": "https://localhost:8080/"
        },
        "id": "ZlyCNhFiarqp",
        "outputId": "7a7b1331-bded-431b-b39b-6346126d0f38"
      },
      "source": [
        "nombre=input(\"nombre del comprador: \")\n",
        "listacomp=\"\"\n",
        "print(nombre, \"escribe los siguientes viveres para su compra en el supermercado: \")\n",
        "listacomp=listacomp + \"Jabon ariel ,\"\n",
        "listacomp=listacomp+\"  shampoo tio nacho ,\"\n",
        "listacomp=listacomp+\"  2 pacas de pañales wini etapa tres(3) ,\"\n",
        "print(\"--- compras que tengo que hacer: \" , listacomp)\n"
      ],
      "execution_count": 8,
      "outputs": [
        {
          "output_type": "stream",
          "text": [
            "nombre del comprador: camila\n",
            "camila escribe los siguientes viveres para su compra en el supermercado: \n",
            "--- compras que tengo que hacer:  Jabon ariel ,  shampoo tio nacho ,  2 pacas de pañales wini etapa tres(3) ,\n"
          ],
          "name": "stdout"
        }
      ]
    },
    {
      "cell_type": "markdown",
      "metadata": {
        "id": "j9U9GMT6eF0_"
      },
      "source": [
        "la variable lista compra nos esta sirviendo para acumular informacion de la lista de compras, podemos observar que no se esta creando una variable por cada item, si no una variable definida nos sirve apara almacenar la informaciòn.\n"
      ]
    },
    {
      "cell_type": "code",
      "metadata": {
        "id": "wxys5BktVDcD"
      },
      "source": [
        ""
      ],
      "execution_count": null,
      "outputs": []
    }
  ]
}