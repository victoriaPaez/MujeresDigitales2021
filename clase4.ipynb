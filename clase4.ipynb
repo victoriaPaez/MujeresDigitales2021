{
  "nbformat": 4,
  "nbformat_minor": 0,
  "metadata": {
    "colab": {
      "name": "clase4.ipynb",
      "provenance": [],
      "collapsed_sections": [],
      "authorship_tag": "ABX9TyO9O+sFxCShILsX3rVt/+3d",
      "include_colab_link": true
    },
    "kernelspec": {
      "name": "python3",
      "display_name": "Python 3"
    },
    "language_info": {
      "name": "python"
    }
  },
  "cells": [
    {
      "cell_type": "markdown",
      "metadata": {
        "id": "view-in-github",
        "colab_type": "text"
      },
      "source": [
        "<a href=\"https://colab.research.google.com/github/victoriaPaez/MujeresDigitales2021/blob/main/clase4.ipynb\" target=\"_parent\"><img src=\"https://colab.research.google.com/assets/colab-badge.svg\" alt=\"Open In Colab\"/></a>"
      ]
    },
    {
      "cell_type": "markdown",
      "metadata": {
        "id": "v6KQ5T_PWbjb"
      },
      "source": [
        "**continuacion de estructuras de control iterativas**\n",
        "\n",
        "\n",
        "---\n",
        "**acumuladores**\n",
        "se le da el nonmbre a las variables que se encarga de almacenar algun tipo de informacion\n",
        "\n",
        "**ejemplo**\n",
        "compra de viveres en la tienda\n",
        "\n",
        "\n",
        "\n"
      ]
    },
    {
      "cell_type": "code",
      "metadata": {
        "colab": {
          "base_uri": "https://localhost:8080/"
        },
        "id": "ZlyCNhFiarqp",
        "outputId": "7a7b1331-bded-431b-b39b-6346126d0f38"
      },
      "source": [
        "nombre=input(\"nombre del comprador: \")\n",
        "listacomp=\"\"\n",
        "print(nombre, \"escribe los siguientes viveres para su compra en el supermercado: \")\n",
        "listacomp=listacomp + \"Jabon ariel ,\"\n",
        "listacomp=listacomp+\"  shampoo tio nacho ,\"\n",
        "listacomp=listacomp+\"  2 pacas de pañales wini etapa tres(3) ,\"\n",
        "print(\"--- compras que tengo que hacer: \" , listacomp)\n"
      ],
      "execution_count": 8,
      "outputs": [
        {
          "output_type": "stream",
          "text": [
            "nombre del comprador: camila\n",
            "camila escribe los siguientes viveres para su compra en el supermercado: \n",
            "--- compras que tengo que hacer:  Jabon ariel ,  shampoo tio nacho ,  2 pacas de pañales wini etapa tres(3) ,\n"
          ],
          "name": "stdout"
        }
      ]
    },
    {
      "cell_type": "markdown",
      "metadata": {
        "id": "j9U9GMT6eF0_"
      },
      "source": [
        "la variable lista compra nos esta sirviendo para acumular informacion de la lista de compras, podemos observar que no se esta creando una variable por cada item, si no una variable definida nos sirve apara almacenar la informaciòn.\n",
        "\n",
        "a continuacion un ejemplo donde se practica el uso de acumulacion en una variable, usando cantidades y precios\n"
      ]
    },
    {
      "cell_type": "code",
      "metadata": {
        "id": "wxys5BktVDcD",
        "colab": {
          "base_uri": "https://localhost:8080/"
        },
        "outputId": "852551c4-3acf-4490-81dd-6282f418766f"
      },
      "source": [
        "ppph= 14000 #precio de la paca de papel higienico\n",
        "cpph= 2 #cantidad a comprar\n",
        "pshampoo = 18000\n",
        "cpshampoo= 4\n",
        "ppbebe= 17000\n",
        "cpbebe=3\n",
        "subtotal=0\n",
        "print(\"calculando el total de la compra.....\")\n",
        "total_pph=ppph*cpph\n",
        "print(\"el valor total del papel higienico es:  $ \",total_pph)\n",
        "subtotal=subtotal+total_pph\n",
        "print (\"el subtotal es :  $\", subtotal)\n",
        "total_shampoo=pshampoo*cpshampoo\n",
        "print(\"el valor total del shampoo es:  $ \",total_shampoo)\n",
        "subtotal=subtotal+total_shampoo\n",
        "print (\"el subtotal es :  $\", subtotal)\n",
        "total_ppbebe=ppbebe*cpbebe\n",
        "print(\"el valor total para los pañales es:  $ \",total_ppbebe)\n",
        "subtotal=subtotal+total_ppbebe\n",
        "print (\"el subtotal es :  $\", subtotal)"
      ],
      "execution_count": 14,
      "outputs": [
        {
          "output_type": "stream",
          "text": [
            "calculando el total de la compra.....\n",
            "el valor total del papel higienico es:  $  28000\n",
            "el subtotal es :  $ 28000\n",
            "el valor total del shampoo es:  $  72000\n",
            "el subtotal es :  $ 100000\n",
            "el valor total para los pañales es:  $  51000\n",
            "el subtotal es :  $ 151000\n"
          ],
          "name": "stdout"
        }
      ]
    },
    {
      "cell_type": "markdown",
      "metadata": {
        "id": "GwNjnG47lRnv"
      },
      "source": [
        "**contadores**\n",
        "\n",
        "---\n",
        "\n",
        "tienen relacion con los acumuladores, visto en el apartado anterior, esta variable se caracterizan por ser variables de control, es decir controlan la cantidad de veces que se ejecuta determinada acciones\n",
        "\n",
        "usando el ejemplo anterior y modificnaodlo un poco, podemos desarrollar el siguiente algoritmo."
      ]
    },
    {
      "cell_type": "code",
      "metadata": {
        "colab": {
          "base_uri": "https://localhost:8080/"
        },
        "id": "cJ1AOqTZlxzo",
        "outputId": "61e1fcbd-0f84-4415-eda7-a318df85bfc4"
      },
      "source": [
        "#se comprara pañales por unidad en este caso\n",
        "contp=0\n",
        "print(\"se realizara la compra de pañales etapa 3: ..... se ha iniciado la compra de asignacion en el carrito\")\n",
        "contp=contp+1\n",
        "print(\"ahora hay: \",contp,\"pañal\")\n",
        "contp=contp+1\n",
        "print(\"ahora hay: \",contp,\"pañal\")\n",
        "contp=contp+1\n",
        "print(\"ahora hay: \",contp,\"pañal\")\n",
        "\n"
      ],
      "execution_count": 17,
      "outputs": [
        {
          "output_type": "stream",
          "text": [
            "se realizara la compra de pañales etapa 3: ..... se ha iniciado la compra de asignacion en el carrito\n",
            "ahora hay:  1 pañal\n",
            "ahora hay:  2 pañal\n",
            "ahora hay:  3 pañal\n"
          ],
          "name": "stdout"
        }
      ]
    },
    {
      "cell_type": "code",
      "metadata": {
        "id": "RyxiwheJo2e3"
      },
      "source": [
        ""
      ],
      "execution_count": null,
      "outputs": []
    }
  ]
}