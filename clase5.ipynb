{
  "nbformat": 4,
  "nbformat_minor": 0,
  "metadata": {
    "colab": {
      "name": "clase5.ipynb",
      "provenance": [],
      "authorship_tag": "ABX9TyPfOeVJfv1sOL6lx2arkkvR",
      "include_colab_link": true
    },
    "kernelspec": {
      "name": "python3",
      "display_name": "Python 3"
    },
    "language_info": {
      "name": "python"
    }
  },
  "cells": [
    {
      "cell_type": "markdown",
      "metadata": {
        "id": "view-in-github",
        "colab_type": "text"
      },
      "source": [
        "<a href=\"https://colab.research.google.com/github/victoriaPaez/MujeresDigitales2021/blob/main/clase5.ipynb\" target=\"_parent\"><img src=\"https://colab.research.google.com/assets/colab-badge.svg\" alt=\"Open In Colab\"/></a>"
      ]
    },
    {
      "cell_type": "markdown",
      "metadata": {
        "id": "omtDVEXzrd_g"
      },
      "source": [
        "para dejar claro las partes que componen el bicle for, vamos s dejar claro las siguientes definiciones:\n",
        "1: iterable; son los objetos que pueden ser iterados por ejemplo una lista de valor cadena\n",
        "2. iterador son objetos que hacen referencia a un elemnto (para hacer referencia a cada uno de los elementos hay unmetodo denominado \"next\" que permite hacer referencia a los elementos del conjunto\n",
        "\n",
        "\n",
        "for in: <bloque de codigo>\n",
        "\n",
        "algunos ejemplos de iterable sen python son las listas, cadenas, diccionarios, tuplas etc....\n",
        "\n",
        "¿como saber que es iterable a la hora de programar? podemos darnos cuenta que es iterable usando la funcion isinstance().\n"
      ]
    },
    {
      "cell_type": "code",
      "metadata": {
        "colab": {
          "base_uri": "https://localhost:8080/"
        },
        "id": "2NHIw8520SA-",
        "outputId": "d4099c4b-911b-45c1-fff6-60d41af3e899"
      },
      "source": [
        "for i in range (1,6):\n",
        "  print(i)"
      ],
      "execution_count": 3,
      "outputs": [
        {
          "output_type": "stream",
          "text": [
            "1\n",
            "2\n",
            "3\n",
            "4\n",
            "5\n"
          ],
          "name": "stdout"
        }
      ]
    },
    {
      "cell_type": "markdown",
      "metadata": {
        "id": "_AH0WZgvrW6v"
      },
      "source": [
        "**for anidados**\n",
        "es posible anidar los for, es decir ingresar uno dentro del otro, como lo vemos a continuacion\n",
        "\n",
        "**ejemplo**"
      ]
    },
    {
      "cell_type": "code",
      "metadata": {
        "colab": {
          "base_uri": "https://localhost:8080/"
        },
        "id": "V3tDtFh3yQQm",
        "outputId": "d6cf513b-45d5-40df-8fb0-095c214aff3f"
      },
      "source": [
        "#vamos a crear una loista de lista lo cual conforma una especie de matriz\n",
        "#recordemos que una matriz se compone de valores que se distribuye en filas y columnas\n",
        "\n",
        "qa =[ \n",
        "     [1,2,3],\n",
        "     [4,5,6],\n",
        "     [7,8,9]\n",
        "]\n",
        "for i in qa:\n",
        "  print(i)\n",
        "\n",
        "\n",
        "for i in qa:\n",
        "  for j in i:\n",
        "    print(j)\n",
        "\n"
      ],
      "execution_count": 2,
      "outputs": [
        {
          "output_type": "stream",
          "text": [
            "[1, 2, 3]\n",
            "[4, 5, 6]\n",
            "[7, 8, 9]\n",
            "1\n",
            "2\n",
            "3\n",
            "4\n",
            "5\n",
            "6\n",
            "7\n",
            "8\n",
            "9\n"
          ],
          "name": "stdout"
        }
      ]
    },
    {
      "cell_type": "code",
      "metadata": {
        "colab": {
          "base_uri": "https://localhost:8080/"
        },
        "id": "peoRVjrp0Czj",
        "outputId": "653c2ace-7e95-4f4f-870d-4944ba574c99"
      },
      "source": [
        "#otra forma de utilizar solo el for , es la oteracion al reves, es decir que la lista \n",
        "\n",
        "lista=[1,2,3,4,5,6,7,8,9]\n",
        "\n",
        "for i in lista[::-1]:\n",
        "  print(i)"
      ],
      "execution_count": 5,
      "outputs": [
        {
          "output_type": "stream",
          "text": [
            "9\n",
            "8\n",
            "7\n",
            "6\n",
            "5\n",
            "4\n",
            "3\n",
            "2\n",
            "1\n"
          ],
          "name": "stdout"
        }
      ]
    },
    {
      "cell_type": "code",
      "metadata": {
        "colab": {
          "base_uri": "https://localhost:8080/"
        },
        "id": "E5AiFheW0mD5",
        "outputId": "2b4a658a-092e-4d2e-bc53-0e603adaf7c2"
      },
      "source": [
        "\n",
        "lista=[1,2,3,4,5,6,7,8,9]\n",
        "\n",
        "for i in lista[::2]:\n",
        "  print(i)"
      ],
      "execution_count": 6,
      "outputs": [
        {
          "output_type": "stream",
          "text": [
            "1\n",
            "3\n",
            "5\n",
            "7\n",
            "9\n"
          ],
          "name": "stdout"
        }
      ]
    },
    {
      "cell_type": "code",
      "metadata": {
        "colab": {
          "base_uri": "https://localhost:8080/"
        },
        "id": "Wr-P0XVG1DTv",
        "outputId": "d166f6ca-c7d1-4bfc-8942-bd4ea5c12fc4"
      },
      "source": [
        "lista=\"computador\"\n",
        "\n",
        "for i in lista[::2]:\n",
        "  print(i)"
      ],
      "execution_count": 7,
      "outputs": [
        {
          "output_type": "stream",
          "text": [
            "c\n",
            "m\n",
            "u\n",
            "a\n",
            "o\n"
          ],
          "name": "stdout"
        }
      ]
    }
  ]
}