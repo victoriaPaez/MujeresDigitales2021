{
  "nbformat": 4,
  "nbformat_minor": 0,
  "metadata": {
    "colab": {
      "name": "clase5.ipynb",
      "provenance": [],
      "authorship_tag": "ABX9TyM0WkYyEAuHPKQFugMaceqa",
      "include_colab_link": true
    },
    "kernelspec": {
      "name": "python3",
      "display_name": "Python 3"
    },
    "language_info": {
      "name": "python"
    }
  },
  "cells": [
    {
      "cell_type": "markdown",
      "metadata": {
        "id": "view-in-github",
        "colab_type": "text"
      },
      "source": [
        "<a href=\"https://colab.research.google.com/github/victoriaPaez/MujeresDigitales2021/blob/main/clase5.ipynb\" target=\"_parent\"><img src=\"https://colab.research.google.com/assets/colab-badge.svg\" alt=\"Open In Colab\"/></a>"
      ]
    },
    {
      "cell_type": "markdown",
      "metadata": {
        "id": "omtDVEXzrd_g"
      },
      "source": [
        "para dejar claro las partes que componen el bicle for, vamos s dejar claro las siguientes definiciones:\n",
        "1: iterable; son los objetos que pueden ser iterados por ejemplo una lista de valor cadena\n",
        "2. iterador son objetos que hacen referencia a un elemnto (para hacer referencia a cada uno de los elementos hay unmetodo denominado \"next\" que permite hacer referencia a los elementos del conjunto\n",
        "\n",
        "\n",
        "for in: <bloque de codigo>\n",
        "\n",
        "algunos ejemplos de iterable sen python son las listas, cadenas, diccionarios, tuplas etc....\n",
        "\n",
        "¿como saber que es iterable a la hora de programar? podemos darnos cuenta que es iterable usando la funcion isinstance().\n"
      ]
    },
    {
      "cell_type": "markdown",
      "metadata": {
        "id": "_AH0WZgvrW6v"
      },
      "source": [
        ""
      ]
    }
  ]
}