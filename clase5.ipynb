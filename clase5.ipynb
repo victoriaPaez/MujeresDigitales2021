{
  "nbformat": 4,
  "nbformat_minor": 0,
  "metadata": {
    "colab": {
      "name": "clase5.ipynb",
      "provenance": [],
      "authorship_tag": "ABX9TyNfsm2L3fGBTXvKq1NGKrja",
      "include_colab_link": true
    },
    "kernelspec": {
      "name": "python3",
      "display_name": "Python 3"
    },
    "language_info": {
      "name": "python"
    }
  },
  "cells": [
    {
      "cell_type": "markdown",
      "metadata": {
        "id": "view-in-github",
        "colab_type": "text"
      },
      "source": [
        "<a href=\"https://colab.research.google.com/github/victoriaPaez/MujeresDigitales2021/blob/main/clase5.ipynb\" target=\"_parent\"><img src=\"https://colab.research.google.com/assets/colab-badge.svg\" alt=\"Open In Colab\"/></a>"
      ]
    },
    {
      "cell_type": "markdown",
      "metadata": {
        "id": "omtDVEXzrd_g"
      },
      "source": [
        "**continuacion de ciclos**\n",
        "\n",
        "\n",
        "---\n",
        "**ciclo for: ciclo bucle for**\n",
        "\n",
        "para dejar claro las partes que componen el bucle for, vamos a dejar claro las siguientes definiciones:\n",
        "\n",
        "**1: iterable;** son los objetos que pueden ser iterados, por ejemplo una lista, un valor tipo cadena.\n",
        "\n",
        "\n",
        "**2. iterador** son objetos que hacen referencia a un elemento (para hacer referencia a cada uno de los elementos hay un metodo denominado **\"next\"** que permite hacer referencia a los elementos del conjunto\n",
        "\n",
        "\n",
        "\n",
        "---\n",
        "\n",
        "\n",
        "for **variable** in **(iterable)**: \n",
        "      **(bloque de codigo)**\n",
        "\n",
        "\n",
        "---\n",
        "\n",
        "\n",
        "\n",
        "algunos ejemplos de iterable en python son las listas, cadenas, diccionarios, tuplas etc....\n",
        "\n",
        "**¿como saber que es iterable a la hora de programar?** podemos darnos cuenta que es iterable usando la funcion **isinstance().**\n"
      ]
    },
    {
      "cell_type": "code",
      "metadata": {
        "colab": {
          "base_uri": "https://localhost:8080/"
        },
        "id": "2NHIw8520SA-",
        "outputId": "d4099c4b-911b-45c1-fff6-60d41af3e899"
      },
      "source": [
        "for i in range (1,6):\n",
        "  print(i)"
      ],
      "execution_count": null,
      "outputs": [
        {
          "output_type": "stream",
          "text": [
            "1\n",
            "2\n",
            "3\n",
            "4\n",
            "5\n"
          ],
          "name": "stdout"
        }
      ]
    },
    {
      "cell_type": "code",
      "metadata": {
        "colab": {
          "base_uri": "https://localhost:8080/"
        },
        "id": "kscVqi2LrhoV",
        "outputId": "93d0926a-8e4d-4fcd-8c5d-86be1f8258f5"
      },
      "source": [
        "from collections import Iterable # paquete iterable de collecciones (python 3.7) kernel\n",
        "lista=[1,2,3,4,5,6,7,8,9,0]\n",
        "a=\"computador\"\n",
        "b= 10\n",
        "print(isinstance(lista,Iterable))\n",
        "print(isinstance(a,Iterable))\n",
        "print(isinstance(b,Iterable))\n"
      ],
      "execution_count": 13,
      "outputs": [
        {
          "output_type": "stream",
          "text": [
            "True\n",
            "True\n",
            "False\n"
          ],
          "name": "stdout"
        }
      ]
    },
    {
      "cell_type": "code",
      "metadata": {
        "colab": {
          "base_uri": "https://localhost:8080/",
          "height": 207
        },
        "id": "Fsn0R_2cvyHe",
        "outputId": "b3c1e0df-a4c2-455f-a110-2da9d1ebce1d"
      },
      "source": [
        "a=30\n",
        "for i in (a):\n",
        "  print(i)"
      ],
      "execution_count": 16,
      "outputs": [
        {
          "output_type": "error",
          "ename": "TypeError",
          "evalue": "ignored",
          "traceback": [
            "\u001b[0;31m---------------------------------------------------------------------------\u001b[0m",
            "\u001b[0;31mTypeError\u001b[0m                                 Traceback (most recent call last)",
            "\u001b[0;32m<ipython-input-16-6ac20e9c238f>\u001b[0m in \u001b[0;36m<module>\u001b[0;34m()\u001b[0m\n\u001b[1;32m      1\u001b[0m \u001b[0ma\u001b[0m\u001b[0;34m=\u001b[0m\u001b[0;36m30\u001b[0m\u001b[0;34m\u001b[0m\u001b[0;34m\u001b[0m\u001b[0m\n\u001b[0;32m----> 2\u001b[0;31m \u001b[0;32mfor\u001b[0m \u001b[0mi\u001b[0m \u001b[0;32min\u001b[0m \u001b[0;34m(\u001b[0m\u001b[0ma\u001b[0m\u001b[0;34m)\u001b[0m\u001b[0;34m:\u001b[0m\u001b[0;34m\u001b[0m\u001b[0;34m\u001b[0m\u001b[0m\n\u001b[0m\u001b[1;32m      3\u001b[0m   \u001b[0mprint\u001b[0m\u001b[0;34m(\u001b[0m\u001b[0mi\u001b[0m\u001b[0;34m)\u001b[0m\u001b[0;34m\u001b[0m\u001b[0;34m\u001b[0m\u001b[0m\n",
            "\u001b[0;31mTypeError\u001b[0m: 'int' object is not iterable"
          ]
        }
      ]
    },
    {
      "cell_type": "code",
      "metadata": {
        "id": "iqalTAp_xOdc"
      },
      "source": [
        "para conocer los iteradores es importante conocer la funcion **iter()**\n",
        "esta funcion puede ser llamada sobre un objeto que sea iterable y nos devolvera un interador\n",
        "ejemplo:\n"
      ],
      "execution_count": null,
      "outputs": []
    },
    {
      "cell_type": "code",
      "metadata": {
        "colab": {
          "base_uri": "https://localhost:8080/"
        },
        "id": "bC1wyU_axfzG",
        "outputId": "1c335464-1f4d-4e96-8cdb-1e985f6298dc"
      },
      "source": [
        "lista=[1,2,3,4,5,6,7,8,9,0]\n",
        "ref= iter(lista)\n",
        "print(ref)\n",
        "print(type(ref))"
      ],
      "execution_count": 18,
      "outputs": [
        {
          "output_type": "stream",
          "text": [
            "<list_iterator object at 0x7f05b20c06d0>\n",
            "<class 'list_iterator'>\n"
          ],
          "name": "stdout"
        }
      ]
    },
    {
      "cell_type": "markdown",
      "metadata": {
        "id": "T7tn453myEks"
      },
      "source": [
        "al imprimir ref es un iterador de la clase **list_iterador** hace referencia a la lista original y nos permite acceder a sus elementos con la funcion **next**"
      ]
    },
    {
      "cell_type": "code",
      "metadata": {
        "colab": {
          "base_uri": "https://localhost:8080/"
        },
        "id": "mFa4zRxKySD3",
        "outputId": "240c4c7a-7fe4-4a0f-e3f0-e3d4ee81e750"
      },
      "source": [
        "lista=[1,2,3,4,5,6,7,8,9,0]\n",
        "ref=iter(lista)\n",
        "print(next(ref))\n",
        "print(next(ref))\n",
        "print(next(ref))\n",
        "print(next(ref))\n",
        "print(next(ref))\n",
        "print(next(ref))\n",
        "print(next(ref))\n",
        "print(next(ref))\n",
        "print(next(ref))\n",
        "print(next(ref))"
      ],
      "execution_count": 24,
      "outputs": [
        {
          "output_type": "stream",
          "text": [
            "1\n",
            "2\n",
            "3\n",
            "4\n",
            "5\n",
            "6\n",
            "7\n",
            "8\n",
            "9\n",
            "0\n"
          ],
          "name": "stdout"
        }
      ]
    },
    {
      "cell_type": "markdown",
      "metadata": {
        "id": "_AH0WZgvrW6v"
      },
      "source": [
        "**for anidados**\n",
        "es posible anidar los for, es decir ingresar uno dentro del otro, como lo vemos a continuacion\n",
        "\n",
        "**ejemplo**"
      ]
    },
    {
      "cell_type": "code",
      "metadata": {
        "colab": {
          "base_uri": "https://localhost:8080/"
        },
        "id": "V3tDtFh3yQQm",
        "outputId": "d6cf513b-45d5-40df-8fb0-095c214aff3f"
      },
      "source": [
        "#vamos a crear una lista de lista lo cual conforma una especie de matriz\n",
        "#recordemos que una matriz se compone de valores que se distribuye en filas y columnas\n",
        "\n",
        "qa =[ \n",
        "     [1,2,3],\n",
        "     [4,5,6],\n",
        "     [7,8,9]\n",
        "]\n",
        "for i in qa:\n",
        "  print(i)\n",
        "\n",
        "\n",
        "for i in qa:\n",
        "  for j in i:\n",
        "    print(j)\n",
        "\n"
      ],
      "execution_count": null,
      "outputs": [
        {
          "output_type": "stream",
          "text": [
            "[1, 2, 3]\n",
            "[4, 5, 6]\n",
            "[7, 8, 9]\n",
            "1\n",
            "2\n",
            "3\n",
            "4\n",
            "5\n",
            "6\n",
            "7\n",
            "8\n",
            "9\n"
          ],
          "name": "stdout"
        }
      ]
    },
    {
      "cell_type": "code",
      "metadata": {
        "colab": {
          "base_uri": "https://localhost:8080/"
        },
        "id": "peoRVjrp0Czj",
        "outputId": "653c2ace-7e95-4f4f-870d-4944ba574c99"
      },
      "source": [
        "#otra forma de utilizar solo el for , es la oteracion al reves, es decir que la lista \n",
        "\n",
        "lista=[1,2,3,4,5,6,7,8,9]\n",
        "\n",
        "for i in lista[::-1]:\n",
        "  print(i)"
      ],
      "execution_count": null,
      "outputs": [
        {
          "output_type": "stream",
          "text": [
            "9\n",
            "8\n",
            "7\n",
            "6\n",
            "5\n",
            "4\n",
            "3\n",
            "2\n",
            "1\n"
          ],
          "name": "stdout"
        }
      ]
    },
    {
      "cell_type": "code",
      "metadata": {
        "colab": {
          "base_uri": "https://localhost:8080/"
        },
        "id": "E5AiFheW0mD5",
        "outputId": "2b4a658a-092e-4d2e-bc53-0e603adaf7c2"
      },
      "source": [
        "\n",
        "lista=[1,2,3,4,5,6,7,8,9]\n",
        "\n",
        "for i in lista[::2]:\n",
        "  print(i)"
      ],
      "execution_count": null,
      "outputs": [
        {
          "output_type": "stream",
          "text": [
            "1\n",
            "3\n",
            "5\n",
            "7\n",
            "9\n"
          ],
          "name": "stdout"
        }
      ]
    },
    {
      "cell_type": "code",
      "metadata": {
        "colab": {
          "base_uri": "https://localhost:8080/"
        },
        "id": "Wr-P0XVG1DTv",
        "outputId": "d166f6ca-c7d1-4bfc-8942-bd4ea5c12fc4"
      },
      "source": [
        "lista=\"computador\"\n",
        "\n",
        "for i in lista[::2]:\n",
        "  print(i)"
      ],
      "execution_count": null,
      "outputs": [
        {
          "output_type": "stream",
          "text": [
            "c\n",
            "m\n",
            "u\n",
            "a\n",
            "o\n"
          ],
          "name": "stdout"
        }
      ]
    },
    {
      "cell_type": "code",
      "metadata": {
        "colab": {
          "base_uri": "https://localhost:8080/"
        },
        "id": "5ELXDqxw1yN4",
        "outputId": "0150e9bc-0d5a-4035-9b9c-1f26e846a22d"
      },
      "source": [
        "for i in range(10):\n",
        "  print(i)"
      ],
      "execution_count": null,
      "outputs": [
        {
          "output_type": "stream",
          "text": [
            "0\n",
            "1\n",
            "2\n",
            "3\n",
            "4\n",
            "5\n",
            "6\n",
            "7\n",
            "8\n",
            "9\n"
          ],
          "name": "stdout"
        }
      ]
    },
    {
      "cell_type": "code",
      "metadata": {
        "colab": {
          "base_uri": "https://localhost:8080/"
        },
        "id": "K1Gxz0GF2Zfp",
        "outputId": "0c02e254-aafa-40a1-c9a8-90534a1f342b"
      },
      "source": [
        "#observemos un truco con el range\n",
        "#estructura range (inicio, fin, salto)\n",
        "\n",
        "print(list(range(2,10,2)))"
      ],
      "execution_count": null,
      "outputs": [
        {
          "output_type": "stream",
          "text": [
            "[2, 4, 6, 8]\n"
          ],
          "name": "stdout"
        }
      ]
    },
    {
      "cell_type": "markdown",
      "metadata": {
        "id": "oK5d_r6g3YQR"
      },
      "source": [
        "**listas de comprension**\n",
        "\n",
        "\n",
        "---\n",
        "estas nos permiten crear listas de elementos en una sola linea de codigo.\n",
        "\n",
        "Ejemplo:\n",
        "Crear una lista de las potencias a las 3 de los numeros impares de o a 9\n"
      ]
    },
    {
      "cell_type": "code",
      "metadata": {
        "colab": {
          "base_uri": "https://localhost:8080/"
        },
        "id": "Q48RJM6L39RK",
        "outputId": "6665295a-2a60-45a8-8a7f-57c6b00882f2"
      },
      "source": [
        "tres=[]\n",
        "for i in range(1,10,2):\n",
        "  tres.append(i**3)\n",
        "  print(tres)\n",
        "\n",
        "tres=[i**3 for i in range (1,10,2)]\n",
        "print(tres)"
      ],
      "execution_count": null,
      "outputs": [
        {
          "output_type": "stream",
          "text": [
            "[1]\n",
            "[1, 27]\n",
            "[1, 27, 125]\n",
            "[1, 27, 125, 343]\n",
            "[1, 27, 125, 343, 729]\n",
            "[1, 27, 125, 343, 729]\n"
          ],
          "name": "stdout"
        }
      ]
    },
    {
      "cell_type": "markdown",
      "metadata": {
        "id": "n_O4SaZV7W7Q"
      },
      "source": [
        ""
      ]
    },
    {
      "cell_type": "code",
      "metadata": {
        "colab": {
          "base_uri": "https://localhost:8080/"
        },
        "id": "L1sf3whZ6Bpg",
        "outputId": "9e37fa45-3785-46ad-af1b-8b2790b2c8f9"
      },
      "source": [
        "s=[1 for i in range(10)]\n",
        "print(s)"
      ],
      "execution_count": null,
      "outputs": [
        {
          "output_type": "stream",
          "text": [
            "[1, 1, 1, 1, 1, 1, 1, 1, 1, 1]\n"
          ],
          "name": "stdout"
        }
      ]
    },
    {
      "cell_type": "code",
      "metadata": {
        "colab": {
          "base_uri": "https://localhost:8080/"
        },
        "id": "6KFew-i26qug",
        "outputId": "34027021-c366-4827-ba7c-01f4ebc01daa"
      },
      "source": [
        "lwa=[5,10,15,20,25,30]\n",
        "lwa2=[i/5 for i in lwa]\n",
        "print(lwa2)"
      ],
      "execution_count": null,
      "outputs": [
        {
          "output_type": "stream",
          "text": [
            "[1.0, 2.0, 3.0, 4.0, 5.0, 6.0]\n"
          ],
          "name": "stdout"
        }
      ]
    },
    {
      "cell_type": "code",
      "metadata": {
        "colab": {
          "base_uri": "https://localhost:8080/"
        },
        "id": "e-61PvAn65Vx",
        "outputId": "bdfe2728-bf0d-4242-a3e7-97075fa623b3"
      },
      "source": [
        "pera=\"mama ama a emma\"\n",
        "pera2=[i for i in pera if i==\"e\"]\n",
        "print(pera2)"
      ],
      "execution_count": null,
      "outputs": [
        {
          "output_type": "stream",
          "text": [
            "['e']\n"
          ],
          "name": "stdout"
        }
      ]
    }
  ]
}