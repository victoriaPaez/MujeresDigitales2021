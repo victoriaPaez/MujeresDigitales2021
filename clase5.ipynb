{
  "nbformat": 4,
  "nbformat_minor": 0,
  "metadata": {
    "colab": {
      "name": "clase5.ipynb",
      "provenance": [],
      "authorship_tag": "ABX9TyOH2J/kQkOpAhP8kkYYFqnM",
      "include_colab_link": true
    },
    "kernelspec": {
      "name": "python3",
      "display_name": "Python 3"
    },
    "language_info": {
      "name": "python"
    }
  },
  "cells": [
    {
      "cell_type": "markdown",
      "metadata": {
        "id": "view-in-github",
        "colab_type": "text"
      },
      "source": [
        "<a href=\"https://colab.research.google.com/github/victoriaPaez/MujeresDigitales2021/blob/main/clase5.ipynb\" target=\"_parent\"><img src=\"https://colab.research.google.com/assets/colab-badge.svg\" alt=\"Open In Colab\"/></a>"
      ]
    },
    {
      "cell_type": "markdown",
      "metadata": {
        "id": "omtDVEXzrd_g"
      },
      "source": [
        "para dejar claro las partes que componen el bicle for, vamos s dejar claro las siguientes definiciones:\n",
        "1: iterable; son los objetos que pueden ser iterados por ejemplo una lista de valor cadena\n",
        "2. iterador son objetos que hacen referencia a un elemnto (para hacer referencia a cada uno de los elementos hay unmetodo denominado \"next\" que permite hacer referencia a los elementos del conjunto\n",
        "\n",
        "\n",
        "for in: <bloque de codigo>\n",
        "\n",
        "algunos ejemplos de iterable sen python son las listas, cadenas, diccionarios, tuplas etc....\n",
        "\n",
        "¿como saber que es iterable a la hora de programar? podemos darnos cuenta que es iterable usando la funcion isinstance().\n"
      ]
    },
    {
      "cell_type": "markdown",
      "metadata": {
        "id": "_AH0WZgvrW6v"
      },
      "source": [
        "**for anidados**\n",
        "es posible anidar los for, es decir ingresar uno dentro del otro, como lo vemos a continuacion\n",
        "\n",
        "**ejemplo**"
      ]
    },
    {
      "cell_type": "code",
      "metadata": {
        "colab": {
          "base_uri": "https://localhost:8080/"
        },
        "id": "V3tDtFh3yQQm",
        "outputId": "d6cf513b-45d5-40df-8fb0-095c214aff3f"
      },
      "source": [
        "#vamos a crear una loista de lista lo cual conforma una especie de matriz\n",
        "#recordemos que una matriz se compone de valores que se distribuye en filas y columnas\n",
        "\n",
        "qa =[ \n",
        "     [1,2,3],\n",
        "     [4,5,6],\n",
        "     [7,8,9]\n",
        "]\n",
        "for i in qa:\n",
        "  print(i)\n",
        "\n",
        "\n",
        "for i in qa:\n",
        "  for j in i:\n",
        "    print(j)\n",
        "\n"
      ],
      "execution_count": 2,
      "outputs": [
        {
          "output_type": "stream",
          "text": [
            "[1, 2, 3]\n",
            "[4, 5, 6]\n",
            "[7, 8, 9]\n",
            "1\n",
            "2\n",
            "3\n",
            "4\n",
            "5\n",
            "6\n",
            "7\n",
            "8\n",
            "9\n"
          ],
          "name": "stdout"
        }
      ]
    }
  ]
}