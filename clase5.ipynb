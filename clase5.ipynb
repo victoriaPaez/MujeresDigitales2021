{
  "nbformat": 4,
  "nbformat_minor": 0,
  "metadata": {
    "colab": {
      "name": "clase5.ipynb",
      "provenance": [],
      "authorship_tag": "ABX9TyPih4YQAZ7ggRJG77jM54IN",
      "include_colab_link": true
    },
    "kernelspec": {
      "name": "python3",
      "display_name": "Python 3"
    },
    "language_info": {
      "name": "python"
    }
  },
  "cells": [
    {
      "cell_type": "markdown",
      "metadata": {
        "id": "view-in-github",
        "colab_type": "text"
      },
      "source": [
        "<a href=\"https://colab.research.google.com/github/victoriaPaez/MujeresDigitales2021/blob/main/clase5.ipynb\" target=\"_parent\"><img src=\"https://colab.research.google.com/assets/colab-badge.svg\" alt=\"Open In Colab\"/></a>"
      ]
    },
    {
      "cell_type": "markdown",
      "metadata": {
        "id": "omtDVEXzrd_g"
      },
      "source": [
        "para dejar claro las partes que componen el bicle for, vamos s dejar claro las siguientes definiciones:\n",
        "1: iterable; son los objetos que pueden ser iterados por ejemplo una lista de valor cadena\n",
        "2. iterador son objetos que hacen referencia a un elemnto (para hacer referencia a cada uno de los elementos hay unmetodo denominado \"next\" que permite hacer referencia a los elementos del conjunto\n",
        "\n",
        "\n",
        "for in: <bloque de codigo>\n",
        "\n",
        "algunos ejemplos de iterable sen python son las listas, cadenas, diccionarios, tuplas etc....\n",
        "\n",
        "¿como saber que es iterable a la hora de programar? podemos darnos cuenta que es iterable usando la funcion isinstance().\n"
      ]
    },
    {
      "cell_type": "code",
      "metadata": {
        "colab": {
          "base_uri": "https://localhost:8080/"
        },
        "id": "2NHIw8520SA-",
        "outputId": "d4099c4b-911b-45c1-fff6-60d41af3e899"
      },
      "source": [
        "for i in range (1,6):\n",
        "  print(i)"
      ],
      "execution_count": 3,
      "outputs": [
        {
          "output_type": "stream",
          "text": [
            "1\n",
            "2\n",
            "3\n",
            "4\n",
            "5\n"
          ],
          "name": "stdout"
        }
      ]
    },
    {
      "cell_type": "markdown",
      "metadata": {
        "id": "_AH0WZgvrW6v"
      },
      "source": [
        "**for anidados**\n",
        "es posible anidar los for, es decir ingresar uno dentro del otro, como lo vemos a continuacion\n",
        "\n",
        "**ejemplo**"
      ]
    },
    {
      "cell_type": "code",
      "metadata": {
        "colab": {
          "base_uri": "https://localhost:8080/"
        },
        "id": "V3tDtFh3yQQm",
        "outputId": "d6cf513b-45d5-40df-8fb0-095c214aff3f"
      },
      "source": [
        "#vamos a crear una loista de lista lo cual conforma una especie de matriz\n",
        "#recordemos que una matriz se compone de valores que se distribuye en filas y columnas\n",
        "\n",
        "qa =[ \n",
        "     [1,2,3],\n",
        "     [4,5,6],\n",
        "     [7,8,9]\n",
        "]\n",
        "for i in qa:\n",
        "  print(i)\n",
        "\n",
        "\n",
        "for i in qa:\n",
        "  for j in i:\n",
        "    print(j)\n",
        "\n"
      ],
      "execution_count": 2,
      "outputs": [
        {
          "output_type": "stream",
          "text": [
            "[1, 2, 3]\n",
            "[4, 5, 6]\n",
            "[7, 8, 9]\n",
            "1\n",
            "2\n",
            "3\n",
            "4\n",
            "5\n",
            "6\n",
            "7\n",
            "8\n",
            "9\n"
          ],
          "name": "stdout"
        }
      ]
    },
    {
      "cell_type": "code",
      "metadata": {
        "colab": {
          "base_uri": "https://localhost:8080/"
        },
        "id": "peoRVjrp0Czj",
        "outputId": "653c2ace-7e95-4f4f-870d-4944ba574c99"
      },
      "source": [
        "#otra forma de utilizar solo el for , es la oteracion al reves, es decir que la lista \n",
        "\n",
        "lista=[1,2,3,4,5,6,7,8,9]\n",
        "\n",
        "for i in lista[::-1]:\n",
        "  print(i)"
      ],
      "execution_count": 5,
      "outputs": [
        {
          "output_type": "stream",
          "text": [
            "9\n",
            "8\n",
            "7\n",
            "6\n",
            "5\n",
            "4\n",
            "3\n",
            "2\n",
            "1\n"
          ],
          "name": "stdout"
        }
      ]
    },
    {
      "cell_type": "code",
      "metadata": {
        "colab": {
          "base_uri": "https://localhost:8080/"
        },
        "id": "E5AiFheW0mD5",
        "outputId": "2b4a658a-092e-4d2e-bc53-0e603adaf7c2"
      },
      "source": [
        "\n",
        "lista=[1,2,3,4,5,6,7,8,9]\n",
        "\n",
        "for i in lista[::2]:\n",
        "  print(i)"
      ],
      "execution_count": 6,
      "outputs": [
        {
          "output_type": "stream",
          "text": [
            "1\n",
            "3\n",
            "5\n",
            "7\n",
            "9\n"
          ],
          "name": "stdout"
        }
      ]
    },
    {
      "cell_type": "code",
      "metadata": {
        "colab": {
          "base_uri": "https://localhost:8080/"
        },
        "id": "Wr-P0XVG1DTv",
        "outputId": "d166f6ca-c7d1-4bfc-8942-bd4ea5c12fc4"
      },
      "source": [
        "lista=\"computador\"\n",
        "\n",
        "for i in lista[::2]:\n",
        "  print(i)"
      ],
      "execution_count": 7,
      "outputs": [
        {
          "output_type": "stream",
          "text": [
            "c\n",
            "m\n",
            "u\n",
            "a\n",
            "o\n"
          ],
          "name": "stdout"
        }
      ]
    },
    {
      "cell_type": "code",
      "metadata": {
        "colab": {
          "base_uri": "https://localhost:8080/"
        },
        "id": "5ELXDqxw1yN4",
        "outputId": "0150e9bc-0d5a-4035-9b9c-1f26e846a22d"
      },
      "source": [
        "for i in range(10):\n",
        "  print(i)"
      ],
      "execution_count": 9,
      "outputs": [
        {
          "output_type": "stream",
          "text": [
            "0\n",
            "1\n",
            "2\n",
            "3\n",
            "4\n",
            "5\n",
            "6\n",
            "7\n",
            "8\n",
            "9\n"
          ],
          "name": "stdout"
        }
      ]
    },
    {
      "cell_type": "code",
      "metadata": {
        "colab": {
          "base_uri": "https://localhost:8080/"
        },
        "id": "K1Gxz0GF2Zfp",
        "outputId": "0c02e254-aafa-40a1-c9a8-90534a1f342b"
      },
      "source": [
        "#observemos un truco con el range\n",
        "#estructura range (inicio, fin, salto)\n",
        "\n",
        "print(list(range(2,10,2)))"
      ],
      "execution_count": 10,
      "outputs": [
        {
          "output_type": "stream",
          "text": [
            "[2, 4, 6, 8]\n"
          ],
          "name": "stdout"
        }
      ]
    },
    {
      "cell_type": "markdown",
      "metadata": {
        "id": "oK5d_r6g3YQR"
      },
      "source": [
        "**listas de comprension**\n",
        "\n",
        "\n",
        "---\n",
        "estas nos permiten crear listas de elementos en una sola linea de codigo.\n",
        "\n",
        "Ejemplo:\n",
        "Crear una lista de las potencias a las 3 de los numeros impares de o a 9\n"
      ]
    },
    {
      "cell_type": "code",
      "metadata": {
        "colab": {
          "base_uri": "https://localhost:8080/"
        },
        "id": "Q48RJM6L39RK",
        "outputId": "c11e2429-9fb1-4c39-ce87-203940f79705"
      },
      "source": [
        "tres=[]\n",
        "for i in range(1,10,2):\n",
        "  tres.append(i**3)\n",
        "  print(tres)\n",
        "\n",
        "tres=[1**3 for i in range (1,10,2)]\n",
        "print(tres)"
      ],
      "execution_count": 31,
      "outputs": [
        {
          "output_type": "stream",
          "text": [
            "[1]\n",
            "[1, 27]\n",
            "[1, 27, 125]\n",
            "[1, 27, 125, 343]\n",
            "[1, 27, 125, 343, 729]\n",
            "[1, 1, 1, 1, 1]\n"
          ],
          "name": "stdout"
        }
      ]
    },
    {
      "cell_type": "markdown",
      "metadata": {
        "id": "n_O4SaZV7W7Q"
      },
      "source": [
        ""
      ]
    },
    {
      "cell_type": "code",
      "metadata": {
        "colab": {
          "base_uri": "https://localhost:8080/"
        },
        "id": "L1sf3whZ6Bpg",
        "outputId": "9e37fa45-3785-46ad-af1b-8b2790b2c8f9"
      },
      "source": [
        "s=[1 for i in range(10)]\n",
        "print(s)"
      ],
      "execution_count": 29,
      "outputs": [
        {
          "output_type": "stream",
          "text": [
            "[1, 1, 1, 1, 1, 1, 1, 1, 1, 1]\n"
          ],
          "name": "stdout"
        }
      ]
    },
    {
      "cell_type": "code",
      "metadata": {
        "colab": {
          "base_uri": "https://localhost:8080/"
        },
        "id": "6KFew-i26qug",
        "outputId": "34027021-c366-4827-ba7c-01f4ebc01daa"
      },
      "source": [
        "lwa=[5,10,15,20,25,30]\n",
        "lwa2=[i/5 for i in lwa]\n",
        "print(lwa2)"
      ],
      "execution_count": 32,
      "outputs": [
        {
          "output_type": "stream",
          "text": [
            "[1.0, 2.0, 3.0, 4.0, 5.0, 6.0]\n"
          ],
          "name": "stdout"
        }
      ]
    },
    {
      "cell_type": "code",
      "metadata": {
        "id": "e-61PvAn65Vx"
      },
      "source": [
        "pera=\"mama ama a emma\"\n",
        "pera2=[i for i in pera if i==\"m\"]"
      ],
      "execution_count": 36,
      "outputs": []
    }
  ]
}