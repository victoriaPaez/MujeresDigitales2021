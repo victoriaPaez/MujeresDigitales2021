{
  "nbformat": 4,
  "nbformat_minor": 0,
  "metadata": {
    "colab": {
      "name": "EjerciciosClase1.ipynb",
      "provenance": [],
      "authorship_tag": "ABX9TyOjfZVZyNg1V2AZuv+wmr73",
      "include_colab_link": true
    },
    "kernelspec": {
      "name": "python3",
      "display_name": "Python 3"
    },
    "language_info": {
      "name": "python"
    }
  },
  "cells": [
    {
      "cell_type": "markdown",
      "metadata": {
        "id": "view-in-github",
        "colab_type": "text"
      },
      "source": [
        "<a href=\"https://colab.research.google.com/github/victoriaPaez/MujeresDigitales2021/blob/main/EjerciciosClase1.ipynb\" target=\"_parent\"><img src=\"https://colab.research.google.com/assets/colab-badge.svg\" alt=\"Open In Colab\"/></a>"
      ]
    },
    {
      "cell_type": "markdown",
      "metadata": {
        "id": "zr6RYkCFOq3z"
      },
      "source": [
        "tipos de datos"
      ]
    },
    {
      "cell_type": "markdown",
      "metadata": {
        "id": "r5vDZkGMOvdd"
      },
      "source": [
        "**enteros:**"
      ]
    },
    {
      "cell_type": "code",
      "metadata": {
        "colab": {
          "base_uri": "https://localhost:8080/"
        },
        "id": "wyx5VJZCOxRL",
        "outputId": "943d2cd4-ad39-4773-92de-1e4e835bc768"
      },
      "source": [
        "b=int(4)\n",
        "print(b)"
      ],
      "execution_count": 1,
      "outputs": [
        {
          "output_type": "stream",
          "text": [
            "4\n"
          ],
          "name": "stdout"
        }
      ]
    },
    {
      "cell_type": "code",
      "metadata": {
        "colab": {
          "base_uri": "https://localhost:8080/"
        },
        "id": "3slbXv52O33U",
        "outputId": "c8d87f32-2922-4bd8-9db5-9bf45773e50b"
      },
      "source": [
        "c=int(78.56)\n",
        "print(c)"
      ],
      "execution_count": 2,
      "outputs": [
        {
          "output_type": "stream",
          "text": [
            "78\n"
          ],
          "name": "stdout"
        }
      ]
    },
    {
      "cell_type": "markdown",
      "metadata": {
        "id": "wLHLFbjGO6s6"
      },
      "source": [
        "**float**"
      ]
    },
    {
      "cell_type": "code",
      "metadata": {
        "colab": {
          "base_uri": "https://localhost:8080/"
        },
        "id": "I5C9O7AlO-3v",
        "outputId": "b1e37e19-1984-4a66-cf40-4ef19da3e81d"
      },
      "source": [
        "d=float(34.56)\n",
        "print(d)"
      ],
      "execution_count": 3,
      "outputs": [
        {
          "output_type": "stream",
          "text": [
            "34.56\n"
          ],
          "name": "stdout"
        }
      ]
    },
    {
      "cell_type": "code",
      "metadata": {
        "colab": {
          "base_uri": "https://localhost:8080/"
        },
        "id": "wRnVvXzTPDGd",
        "outputId": "bfd00a7e-8d91-4735-abcb-2dc664fd25fb"
      },
      "source": [
        "e=float(4.6798)\n",
        "print(e)"
      ],
      "execution_count": 4,
      "outputs": [
        {
          "output_type": "stream",
          "text": [
            "4.6798\n"
          ],
          "name": "stdout"
        }
      ]
    },
    {
      "cell_type": "markdown",
      "metadata": {
        "id": "2XRxfeOLPE48"
      },
      "source": [
        "**tipo cadena**"
      ]
    },
    {
      "cell_type": "code",
      "metadata": {
        "colab": {
          "base_uri": "https://localhost:8080/"
        },
        "id": "EE_OW-KLPG57",
        "outputId": "4c4ae764-e1de-4ce3-bcce-332e195252b4"
      },
      "source": [
        "n=\"Hola\"\n",
        "p=\"como\"\n",
        "c=\"estas\"\n",
        "print(n,p,c)"
      ],
      "execution_count": 5,
      "outputs": [
        {
          "output_type": "stream",
          "text": [
            "Hola como estas\n"
          ],
          "name": "stdout"
        }
      ]
    },
    {
      "cell_type": "code",
      "metadata": {
        "colab": {
          "base_uri": "https://localhost:8080/"
        },
        "id": "yqLSic5GPK4T",
        "outputId": "72884ad1-20ff-4764-95a3-671ffe58f7be"
      },
      "source": [
        "r=\"clase1\"\n",
        "w=\"de python\"\n",
        "print(r,w)"
      ],
      "execution_count": 6,
      "outputs": [
        {
          "output_type": "stream",
          "text": [
            "clase1 de python\n"
          ],
          "name": "stdout"
        }
      ]
    },
    {
      "cell_type": "markdown",
      "metadata": {
        "id": "wNj0k_wdPMlL"
      },
      "source": [
        "**Boleano**"
      ]
    },
    {
      "cell_type": "code",
      "metadata": {
        "colab": {
          "base_uri": "https://localhost:8080/"
        },
        "id": "RxfcvFzzPQBJ",
        "outputId": "3e183b15-1c71-4238-8b20-9f30603bcc43"
      },
      "source": [
        "flores=False\n",
        "print(\"el valor es verdadero\", flores, \"el cual es de tipo: \", type(flores))"
      ],
      "execution_count": 7,
      "outputs": [
        {
          "output_type": "stream",
          "text": [
            "el valor es verdadero False el cual es de tipo:  <class 'bool'>\n"
          ],
          "name": "stdout"
        }
      ]
    },
    {
      "cell_type": "code",
      "metadata": {
        "colab": {
          "base_uri": "https://localhost:8080/"
        },
        "id": "l15LsboIPR66",
        "outputId": "62b6cb8e-666d-4cdb-de1c-3a993e0978fd"
      },
      "source": [
        "flores1=True\n",
        "print(\"el valor es verdadero\", flores, \"el cual es de tipo: \", type(flores))"
      ],
      "execution_count": 8,
      "outputs": [
        {
          "output_type": "stream",
          "text": [
            "el valor es verdadero False el cual es de tipo:  <class 'bool'>\n"
          ],
          "name": "stdout"
        }
      ]
    },
    {
      "cell_type": "markdown",
      "metadata": {
        "id": "w-s3KxHrPTuG"
      },
      "source": [
        "**tipo conjuntos**"
      ]
    },
    {
      "cell_type": "code",
      "metadata": {
        "colab": {
          "base_uri": "https://localhost:8080/"
        },
        "id": "4ZIAjr17PWBe",
        "outputId": "a598d778-4e9f-45f6-af26-845572b7bf34"
      },
      "source": [
        "dias=\"lunes\", \"martes\",\"miercoles\",\"jueves\",\"viernes\",\"sabado\",\"domingo\"\n",
        "horario =\"mañana\",\"tarde\",\"noche\"\n",
        "print(dias,horario)"
      ],
      "execution_count": 9,
      "outputs": [
        {
          "output_type": "stream",
          "text": [
            "('lunes', 'martes', 'miercoles', 'jueves', 'viernes', 'sabado', 'domingo') ('mañana', 'tarde', 'noche')\n"
          ],
          "name": "stdout"
        }
      ]
    },
    {
      "cell_type": "code",
      "metadata": {
        "colab": {
          "base_uri": "https://localhost:8080/"
        },
        "id": "ZjLd-LqnPZk0",
        "outputId": "655e802f-6795-442f-b65b-6007b84b461b"
      },
      "source": [
        "calzado=\"zapatillas\", \"tacones\",\"botas\"\n",
        "print(calzado)"
      ],
      "execution_count": 10,
      "outputs": [
        {
          "output_type": "stream",
          "text": [
            "('zapatillas', 'tacones', 'botas')\n"
          ],
          "name": "stdout"
        }
      ]
    },
    {
      "cell_type": "markdown",
      "metadata": {
        "id": "Mxe1cr4ZPc3G"
      },
      "source": [
        "**tipo listas**"
      ]
    },
    {
      "cell_type": "code",
      "metadata": {
        "colab": {
          "base_uri": "https://localhost:8080/"
        },
        "id": "WPgNuJpSPefj",
        "outputId": "f761a6c6-1704-47e6-8675-be02ffff5897"
      },
      "source": [
        "anim=[\"gato\",\"perro\",\"loro\",\"elefante\",\"serpiente\"]\n",
        "fe=anim[0:3:2]\n",
        "print(anim)\n",
        "print(fe)"
      ],
      "execution_count": 11,
      "outputs": [
        {
          "output_type": "stream",
          "text": [
            "['gato', 'perro', 'loro', 'elefante', 'serpiente']\n",
            "['gato', 'loro']\n"
          ],
          "name": "stdout"
        }
      ]
    },
    {
      "cell_type": "code",
      "metadata": {
        "colab": {
          "base_uri": "https://localhost:8080/"
        },
        "id": "DVwODI2XPikE",
        "outputId": "fe167f13-3dfe-4356-87ab-362e89ebcaf0"
      },
      "source": [
        "arqu=[\"casa\",\"apartamento\",\"aparta estudio\",\"edificio\",\"lote\"]\n",
        "fe=arqu[0:4:3]\n",
        "print(arqu)\n",
        "print(fe)"
      ],
      "execution_count": 12,
      "outputs": [
        {
          "output_type": "stream",
          "text": [
            "['casa', 'apartamento', 'aparta estudio', 'edificio', 'lote']\n",
            "['casa', 'edificio']\n"
          ],
          "name": "stdout"
        }
      ]
    },
    {
      "cell_type": "markdown",
      "metadata": {
        "id": "m25Q6Dy6Pqdk"
      },
      "source": [
        "**tipo tuplas**"
      ]
    },
    {
      "cell_type": "code",
      "metadata": {
        "colab": {
          "base_uri": "https://localhost:8080/"
        },
        "id": "KRk0Mm5gPsXN",
        "outputId": "c0e82b0d-46cb-4263-ed08-e267170f4335"
      },
      "source": [
        "tupla=\"lunes\",\"jueves\",\"Domingo\"\n",
        "print(tupla)\n",
        "otra=tupla,(\"soleado\",\"llovisnas\",\"niebla\")\n",
        "print(otra)"
      ],
      "execution_count": 13,
      "outputs": [
        {
          "output_type": "stream",
          "text": [
            "('lunes', 'jueves', 'Domingo')\n",
            "(('lunes', 'jueves', 'Domingo'), ('soleado', 'llovisnas', 'niebla'))\n"
          ],
          "name": "stdout"
        }
      ]
    },
    {
      "cell_type": "code",
      "metadata": {
        "colab": {
          "base_uri": "https://localhost:8080/"
        },
        "id": "qrHEaIpnPwmH",
        "outputId": "a100d6b6-9da2-403d-f65e-d63b4581fb5a"
      },
      "source": [
        "tupla1=\"carros\",\"motos\",\"camiones\"\n",
        "print(tupla1)"
      ],
      "execution_count": 14,
      "outputs": [
        {
          "output_type": "stream",
          "text": [
            "('carros', 'motos', 'camiones')\n"
          ],
          "name": "stdout"
        }
      ]
    },
    {
      "cell_type": "markdown",
      "metadata": {
        "id": "YcxowmvbPyzF"
      },
      "source": [
        "**diccionarios**"
      ]
    },
    {
      "cell_type": "code",
      "metadata": {
        "colab": {
          "base_uri": "https://localhost:8080/"
        },
        "id": "B-WCTXxBP1C1",
        "outputId": "64f360b5-77af-4ad5-ce48-96c68ab18609"
      },
      "source": [
        "usuarios_b={ #agrupacion intena\n",
        "    \"usuario\":\"pedro perez\",\n",
        "    \"seudonimo\":\"Pperez\",\n",
        "    \"correo\":\"pperez12@gmail.com\",\n",
        "    \"telefono\":\"23454566677\",\n",
        "}\n",
        "\n",
        "print(usuarios_b.keys())\n",
        "print(usuarios_b.values())\n",
        "print(usuarios_b.items())\n",
        "\n",
        "print(\"el correo de: \",usuarios_b['usuario'],\"es:\", usuarios_b['correo'],\"y su alias es: \",usuarios_b['seudonimo'])"
      ],
      "execution_count": 15,
      "outputs": [
        {
          "output_type": "stream",
          "text": [
            "dict_keys(['usuario', 'seudonimo', 'correo', 'telefono'])\n",
            "dict_values(['pedro perez', 'Pperez', 'pperez12@gmail.com', '23454566677'])\n",
            "dict_items([('usuario', 'pedro perez'), ('seudonimo', 'Pperez'), ('correo', 'pperez12@gmail.com'), ('telefono', '23454566677')])\n",
            "el correo de:  pedro perez es: pperez12@gmail.com y su alias es:  Pperez\n"
          ],
          "name": "stdout"
        }
      ]
    },
    {
      "cell_type": "code",
      "metadata": {
        "colab": {
          "base_uri": "https://localhost:8080/"
        },
        "id": "7kq9JD2sP-Ol",
        "outputId": "82361168-9739-473e-db65-3f697cf814c8"
      },
      "source": [
        "nombre_0={}#se crea el espacio\n",
        "nombre_0['nombre']=\"juan\",#se añaden los campos y valores\n",
        "nombre_0['area']=\"almacen\",\n",
        "nombre_0['edad']=\"35\",\n",
        "nombre_0['salario']=3000000\n",
        "\n",
        "nombre_1={}\n",
        "nombre_1['nombre']=\"camila\",#se añaden los campos y valores\n",
        "nombre_1['area']=\"ventas\",\n",
        "nombre_1['edad']=\"25\",\n",
        "nombre_1['salario']=4000000\n",
        "print(nombre_0)\n",
        "print(nombre_1)\n",
        "\n",
        "salario0=nombre_0['salario'] \n",
        "salario1=nombre_1['salario']\n",
        "salario_total=salario0+salario1\n",
        "\n",
        "print(\"el salario total de los empleados es de  $: \"+ str(salario_total) )"
      ],
      "execution_count": 16,
      "outputs": [
        {
          "output_type": "stream",
          "text": [
            "{'nombre': ('juan',), 'area': ('almacen',), 'edad': ('35',), 'salario': 3000000}\n",
            "{'nombre': ('camila',), 'area': ('ventas',), 'edad': ('25',), 'salario': 4000000}\n",
            "el salario total de los empleados es de  $: 7000000\n"
          ],
          "name": "stdout"
        }
      ]
    }
  ]
}